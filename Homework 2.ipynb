{
 "cells": [
  {
   "cell_type": "markdown",
   "id": "bad72c44",
   "metadata": {},
   "source": [
    "<center> <h1> <b>HOMEWORK 2<b></h1> </center>\n",
    "<center> <h2> Numerical Analysis II - 2022</h2> </center>\n",
    "<center> <h3> Fabián Eduardo Suárez Castellanos and Sebastian Aguilera Novoa</h3> </center>"
   ]
  },
  {
   "cell_type": "code",
   "execution_count": 1,
   "id": "82bd7a5b-8fc1-4203-82fe-948a140e95d9",
   "metadata": {},
   "outputs": [
    {
     "data": {
      "application/vnd.webio.node+json": {
       "children": [],
       "instanceArgs": {
        "namespace": "html",
        "tag": "div"
       },
       "nodeType": "DOM",
       "props": {},
       "type": "node"
      },
      "text/html": [
       "<div style=\"padding: 1em; background-color: #f8d6da; border: 1px solid #f5c6cb; font-weight: bold;\">\n",
       "<p>The WebIO Jupyter extension was not detected. See the\n",
       "<a href=\"https://juliagizmos.github.io/WebIO.jl/latest/providers/ijulia/\" target=\"_blank\">\n",
       "    WebIO Jupyter integration documentation\n",
       "</a>\n",
       "for more information.\n",
       "</div>\n"
      ],
      "text/plain": [
       "WebIO._IJuliaInit()"
      ]
     },
     "metadata": {
      "application/vnd.webio.node+json": {
       "kernelId": "b2095976-4204-4169-b885-5ae4673cc2a1"
      }
     },
     "output_type": "display_data"
    }
   ],
   "source": [
    "using QuadGK, Calculus, PlotlyJS"
   ]
  },
  {
   "cell_type": "markdown",
   "id": "aa5e7466",
   "metadata": {
    "tags": []
   },
   "source": [
    "## 1.T\n",
    "\n",
    "Use the Galerkin method with the functions ${\\phi_1, \\phi_2} = \\{x(x-2), x(x-1)^2\\}$ to get an aproximated solution (two parameters) of the BVP solution\n",
    "\n",
    "$$ \\frac{d^2 u}{dx^2} + u = 1; \\qquad 0<x<1\\qquad \\text{with} \\quad u(0)=0, \\qquad u'(1)= \\frac{du}{dx}\\Bigg|_{x=1}=0$$\n",
    "\n",
    "Find the residual error $\\epsilon(x)= d^2u_n/dx^2+u_n-1$. Plot in a single plane the aproximate solution $u_n$, the exact solution $u=-\\cos(x)-\\tan(1)\\sin(x)+1$ and the residual error $\\epsilon(x)$"
   ]
  },
  {
   "cell_type": "markdown",
   "id": "91030d3c-1061-4899-99bd-2353cf2bec9e",
   "metadata": {
    "tags": []
   },
   "source": [
    "### Solution"
   ]
  },
  {
   "cell_type": "markdown",
   "id": "320fe06a-6e9e-41b6-8c3f-e45e3a855803",
   "metadata": {},
   "source": [
    "Multiplying by a test function $v|v(0) =  v'(1) = 0$ and integrating over $I$ the differential equation\n",
    "\n",
    "$$\\int_0^1v u'' dx + \\int_0^1 vu dx = \\int_0^1  v dx  $$\n",
    "\n",
    "integrating by steps the first term and rem\n",
    "\n",
    "$$ \\int_0^1 vu'' dx =   vu'\\Big|_0^1 - \\int_0^1 v'u' dx = vu'\\Big|_0^1 - \\int_0^1 v'u' dx = v(1)u'(1) - v(0)u'(0)- \\int_0^1 v'u' dx  =- \\int_0^1 v'u' dx $$\n",
    "\n",
    "$$ - \\int_0^1 v'u' dx + \\int_0^1 vu dx = \\int_0^1  v dx  $$\n",
    "\n",
    "Rewriting the last equation as $a(u,v) = Lu$ with\n",
    "\n",
    "$$\n",
    "a(u,v) = \\int_0^1 (v'u' - vu) dx\n",
    "Lv = -\\int_0^1  v dx \n",
    "$$\n",
    "\n",
    "Now, approximating by finite elements. Find $u \\in V_h$ such that\n",
    "\n",
    "$$ - \\int_0^1 v'u_h' dx + \\int_0^1 vu_h dx = \\int_0^1  v dx  $$\n",
    "\n",
    "where the following functions were used\n",
    "\n",
    "$${\\phi_1, \\phi_2} = \\{x^2-2x, x^3-2x^2+x\\}, \\qquad {\\phi_1', \\phi_2'} = \\{2x-2, 3x^2-4x+1\\}$$\n",
    "\n",
    "Finite dimensional space to build the lineal system, and remembering that $v$ is any element of the base set \n",
    "\n",
    "$$ u_h(x) = u_1 \\phi_1(x) + u_2 \\phi_2(x), \\qquad  u_h'(x) = u_1 \\phi_1'(x) + u_2 \\phi_2'(x), \\qquad v = \\phi_{1,2}(x), \\qquad v' = \\phi_{1,2}'(x)  $$\n",
    "\n",
    "then, the system of equations is\n",
    "\n",
    "$$ -u_1 \\int_0^1  \\phi_1'\\phi_1' dx - u_2 \\int_0^1 \\phi_1'\\phi_2' dx + u_1 \\int_0^1\\phi_1\\phi_1dx+ u_2 \\int_0^1\\phi_1\\phi_2dx= \\int_0^1  \\phi_1(x) dx\\\\\n",
    " -u_1 \\int_0^1  \\phi_2'\\phi_1' dx - u_2 \\int_0^1 \\phi_2'\\phi_2' dx + u_1 \\int_0^1\\phi_2\\phi_1dx+ u_2 \\int_0^1\\phi_2\\phi_2dx= \\int_0^1  \\phi_2(x) dx$$\n",
    "\n",
    "factorizing\n",
    "\n",
    "$$ u_1 \\left( \\int_0^1\\phi_1\\phi_1dx - \\int_0^1  \\phi_1'\\phi_1' dx\\right) + u_2  \\left(\\int_0^1\\phi_1\\phi_2dx- \\int_0^1 \\phi_1'\\phi_2' dx\\right)  = \\int_0^1  \\phi_1(x) dx = b_1\\\\\n",
    "u_1 \\left(\\int_0^1\\phi_2\\phi_1dx -  \\int_0^1  \\phi_2'\\phi_1' dx  \\right) + u_2  \\left( \\int_0^1\\phi_2\\phi_2dx- \\int_0^1 \\phi_2'\\phi_2' dx\\right)  = \\int_0^1  \\phi_2(x) dx = b_2$$\n",
    "\n",
    "\n",
    "This system of equations can be see as a matrix system\n",
    "\n",
    "$$ M u_n = b$$\n",
    "\n",
    "where $M$ is a matrix $2\\times2$, $u$ a vector $(u_1, u_2)^T$, and $v$ also a vector $(b_1, b_2)^T$.\n",
    "\n",
    "Let's calculate each matrix component\n",
    "\n",
    "$$\n",
    "M_{11} =  \\int_0^1\\phi_1\\phi_1dx - \\int_0^1  \\phi_1'\\phi_1' dx =  \\int_0^1x^2(x-2)^2dx - \\int_0^1  4(x-1)^2 dx\\\\\n",
    " = int_0^1x^2(x^2-4x+4)dx - 4\\int_0^1  (x^2-2x+1) dx = int_0^1(x^4-4x^3+4x^2 - 4(x^2-2x+1)) dx  = int_0^1(x^4-4x^3+8x-4) dx \\\\\n",
    " = \\left[\\frac{1}{5}x^5-x^4+4x^2-4x \\right]\\Big|_0^1 = \\frac{1}{5}-1+4-4 \\quad \\Rightarrow \\quad \\boxed{M_{11} = - \\frac{4}{5}}\n",
    "$$\n",
    "\n",
    "\n",
    "$$\n",
    "M_{12} =  \\int_0^1\\phi_1\\phi_2dx- \\int_0^1 \\phi_1'\\phi_2' dx = \\int_0^1x^2(x-2)(x-1)^2dx- \\int_0^1 2(x-1)(3x^2-4x+1) dx\\\\\n",
    " = \\int_0^1x^2(x-2)(x^2-2x+1)dx- \\int_0^1 2(3x^3-4x^2+x - 3x^2+4x-1) dx = \\int_0^1x^2(x^3-2x^2+x - 2x^2+4x-2)dx- \\int_0^1 2(3x^3-4x^2+x - 3x^2+4x-1) dx     \\\\\n",
    " = \\int_0^1(x^5-4x^4+5x^3-2x^2 - 2(3x^3-7x^2+5x-1)) dx  = \\int_0^1(x^5-4x^4-x^3+12x^2 -10x +2) dx \\\\\n",
    " =  \\left[\\frac{1}{6}x^6-\\frac{4}{5}x^5-\\frac{1}{4}x^4+4x^3 -5x^2 +2x \\right]\\Big|_0^1 = \\frac{1}{6}-\\frac{4}{5}-\\frac{1}{4}+4-5+2 \\quad \\Rightarrow \\quad \\boxed{M_{12} = \\frac{7}{60}}\n",
    "$$\n",
    "\n",
    "\n",
    "$$\n",
    "M_{21} =  \\int_0^1\\phi_2\\phi_1dx -  \\int_0^1  \\phi_2'\\phi_1' dx = \\int_0^1x^2(x-2)(x-1)^2dx -  \\int_0^1 2(x-1)(3x^2-4x+1) dx = M_{12}  \\\\ \n",
    "\\Rightarrow \\quad \\boxed{M_{21} = \\frac{7}{60}}\n",
    "$$\n",
    "\n",
    "\n",
    "$$\n",
    "M_{22} =  \\int_0^1\\phi_2\\phi_2dx- \\int_0^1 \\phi_2'\\phi_2' dx = \\int_0^1x^2 (x-1)^4dx - \\int_0^1 (3x^2-4x+1)^2 dx \\\\\n",
    "= \\int_0^1x^2 (x^4 -4x^3 + 6x^2 -4x +1) dx - \\int_0^1 (9x^4+16x^2+1 -24x^3 +6x^2 -8x) dx  \\\\\n",
    "= \\int_0^1 (x^6 -4x^5 + 6x^4 -4x^3 +x^2 - (9x^4-24x^3+22x^2-8x +1)) dx\\\\\n",
    "= \\int_0^1 (x^6 -4x^5 - 3x^4 +20x^3 -21x^2 + 8x -1) dx = \\left[\\frac{1}{7} x^7 -\\frac{4}{6}x^6 - \\frac{3}{5}x^5 +5x^4 -7x^3 + 4x^2 -x  \\right]\\Big|_0^1 \\\\\n",
    "= \\frac{1}{7} -\\frac{4}{6} - \\frac{3}{5} +5 -7 + 4 -1 = \\frac{1}{7} -\\frac{4}{6} - \\frac{3}{5} +1 \\quad \\Rightarrow \\quad \\boxed{M_{22} = -\\frac{13}{105}}\n",
    "$$\n",
    "\n",
    "Similarly, the vector $b$ is calculated\n",
    "\n",
    "$$\n",
    "b_1 = \\int_0^1  \\phi_1(x) dx = \\int_0^1 (x^2-2x) dx = \\left[\\frac{1}{3} x^3-x^2 \\right]\\Big|_0^1 =  \\frac{1}{3}-1  \\quad \\Rightarrow \\quad \\boxed{b_1=-\\frac{2}{3}} \\\\\n",
    "b_2 = \\int_0^1  \\phi_2(x) dx = \\int_0^1 (x^3-2x^2+x) dx = \\left[\\frac{1}{4}x^4-\\frac{2}{3}x^3+\\frac{1}{2}x^2 \\right]\\Big|_0^1 = \\frac{1}{4}-\\frac{2}{3}+\\frac{1}{2}   \\quad \\Rightarrow \\quad \\boxed{b_2=\\frac{1}{12}}\n",
    "$$\n",
    "\n",
    "Then, the final matrix and vectors are\n",
    "\n",
    "$$ M  = \\begin{pmatrix}\n",
    "- \\frac{4}{5} & \\frac{7}{60} \\\\\n",
    "\\frac{7}{60} & -\\frac{13}{105} \n",
    "\\end{pmatrix}, \\qquad  b  = \\begin{pmatrix}\n",
    "- \\frac{2}{3} \\\\\n",
    "\\frac{1}{12}\n",
    "\\end{pmatrix},  \\qquad  u_n  = \\begin{pmatrix}\n",
    "u_1 \\\\\n",
    "u_2\n",
    "\\end{pmatrix} $$\n"
   ]
  },
  {
   "cell_type": "code",
   "execution_count": 2,
   "id": "707bd199-70a2-429f-9209-ca375a4919e2",
   "metadata": {},
   "outputs": [
    {
     "data": {
      "text/plain": [
       "2-element Vector{Float64}:\n",
       " 0.8522991175104505\n",
       " 0.13005109150023228"
      ]
     },
     "metadata": {},
     "output_type": "display_data"
    }
   ],
   "source": [
    "phi1(x) = x^2 - 2*x;     phi1p(x) = 2x - 2;       phi1pp(x) = 2\n",
    "phi2(x) = x * (x-1)^2;   phi2p(x) = 3x^2 -4x +1;  phi2pp(x) = 6x - 4  \n",
    "\n",
    "integral11, err11 = quadgk(x -> phi1(x)*phi1(x) - phi1p(x)*phi1p(x), 0, 1, rtol=1e-8)\n",
    "integral12, err12 = quadgk(x -> phi1(x)*phi2(x) - phi1p(x)*phi2p(x), 0, 1, rtol=1e-8)\n",
    "integral21, err21 = quadgk(x -> phi2(x)*phi1(x) - phi2p(x)*phi1p(x), 0, 1, rtol=1e-8)\n",
    "integral22, err22 = quadgk(x -> phi2(x)*phi2(x) - phi2p(x)*phi2p(x), 0, 1, rtol=1e-8)\n",
    "\n",
    "integralb1, errb1 = quadgk(x -> phi1(x), 0, 1, rtol=1e-8)\n",
    "integralb2, errb2 = quadgk(x -> phi2(x), 0, 1, rtol=1e-8)\n",
    "\n",
    "M = [integral11 integral12; integral21 integral22]\n",
    "b = [integralb1; integralb2]\n",
    "\n",
    "u = M \\ b\n",
    "\n",
    "uh(x)   =  u[1]*phi1(x)   + u[2]*phi2(x);\n",
    "uhp(x)  =  u[1]*phi1p(x)  + u[2]*phi2p(x);\n",
    "uhpp(x) =  u[1]*phi1pp(x) + u[2]*phi2pp(x);\n",
    "\n",
    "display(u)"
   ]
  },
  {
   "cell_type": "code",
   "execution_count": 3,
   "id": "714da706",
   "metadata": {},
   "outputs": [
    {
     "data": {
      "application/vnd.plotly.v1+json": {
       "config": {
        "editable": false,
        "responsive": true,
        "scrollZoom": true,
        "showLink": false,
        "staticPlot": false
       },
       "data": [
        {
         "name": "Φ1",
         "type": "scatter",
         "x": [
          0,
          0.1,
          0.2,
          0.3,
          0.4,
          0.5,
          0.6,
          0.7,
          0.8,
          0.9,
          1
         ],
         "xaxis": "x1",
         "y": [
          0,
          -0.19,
          -0.36,
          -0.51,
          -0.64,
          -0.75,
          -0.84,
          -0.9099999999999999,
          -0.96,
          -0.99,
          -1
         ],
         "yaxis": "y1"
        },
        {
         "name": "Φ2",
         "type": "scatter",
         "x": [
          0,
          0.1,
          0.2,
          0.3,
          0.4,
          0.5,
          0.6,
          0.7,
          0.8,
          0.9,
          1
         ],
         "xaxis": "x1",
         "y": [
          0,
          0.08100000000000002,
          0.12800000000000003,
          0.14699999999999996,
          0.144,
          0.125,
          0.09600000000000002,
          0.06300000000000001,
          0.03199999999999999,
          0.008999999999999996,
          0
         ],
         "yaxis": "y1"
        },
        {
         "name": "Φ'1",
         "type": "scatter",
         "x": [
          0,
          0.1,
          0.2,
          0.3,
          0.4,
          0.5,
          0.6,
          0.7,
          0.8,
          0.9,
          1
         ],
         "xaxis": "x2",
         "y": [
          -2,
          -1.8,
          -1.6,
          -1.4,
          -1.2,
          -1,
          -0.8,
          -0.6000000000000001,
          -0.3999999999999999,
          -0.19999999999999996,
          0
         ],
         "yaxis": "y2"
        },
        {
         "name": "Φ'2",
         "type": "scatter",
         "x": [
          0,
          0.1,
          0.2,
          0.3,
          0.4,
          0.5,
          0.6,
          0.7,
          0.8,
          0.9,
          1
         ],
         "xaxis": "x2",
         "y": [
          1,
          0.63,
          0.31999999999999995,
          0.07000000000000006,
          -0.1200000000000001,
          -0.25,
          -0.31999999999999984,
          -0.33000000000000007,
          -0.2799999999999998,
          -0.16999999999999993,
          0
         ],
         "yaxis": "y2"
        }
       ],
       "frames": [],
       "layout": {
        "annotations": [
         {
          "font": {
           "size": 16
          },
          "showarrow": false,
          "text": "Functions (Φ)",
          "x": 0.225,
          "xanchor": "center",
          "xref": "paper",
          "y": 1,
          "yanchor": "bottom",
          "yref": "paper"
         },
         {
          "font": {
           "size": 16
          },
          "showarrow": false,
          "text": "Derivative Functions (Φ')",
          "x": 0.775,
          "xanchor": "center",
          "xref": "paper",
          "y": 1,
          "yanchor": "bottom",
          "yref": "paper"
         }
        ],
        "margin": {
         "b": 50,
         "l": 50,
         "r": 50,
         "t": 60
        },
        "template": {
         "data": {
          "bar": [
           {
            "error_x": {
             "color": "#2a3f5f"
            },
            "error_y": {
             "color": "#2a3f5f"
            },
            "marker": {
             "line": {
              "color": "#E5ECF6",
              "width": 0.5
             }
            },
            "type": "bar"
           }
          ],
          "barpolar": [
           {
            "marker": {
             "line": {
              "color": "#E5ECF6",
              "width": 0.5
             }
            },
            "type": "barpolar"
           }
          ],
          "carpet": [
           {
            "aaxis": {
             "endlinecolor": "#2a3f5f",
             "gridcolor": "white",
             "linecolor": "white",
             "minorgridcolor": "white",
             "startlinecolor": "#2a3f5f"
            },
            "baxis": {
             "endlinecolor": "#2a3f5f",
             "gridcolor": "white",
             "linecolor": "white",
             "minorgridcolor": "white",
             "startlinecolor": "#2a3f5f"
            },
            "type": "carpet"
           }
          ],
          "choropleth": [
           {
            "colorbar": {
             "outlinewidth": 0,
             "ticks": ""
            },
            "type": "choropleth"
           }
          ],
          "contour": [
           {
            "colorbar": {
             "outlinewidth": 0,
             "ticks": ""
            },
            "colorscale": [
             [
              0,
              "#0d0887"
             ],
             [
              0.1111111111111111,
              "#46039f"
             ],
             [
              0.2222222222222222,
              "#7201a8"
             ],
             [
              0.3333333333333333,
              "#9c179e"
             ],
             [
              0.4444444444444444,
              "#bd3786"
             ],
             [
              0.5555555555555556,
              "#d8576b"
             ],
             [
              0.6666666666666666,
              "#ed7953"
             ],
             [
              0.7777777777777778,
              "#fb9f3a"
             ],
             [
              0.8888888888888888,
              "#fdca26"
             ],
             [
              1,
              "#f0f921"
             ]
            ],
            "type": "contour"
           }
          ],
          "contourcarpet": [
           {
            "colorbar": {
             "outlinewidth": 0,
             "ticks": ""
            },
            "type": "contourcarpet"
           }
          ],
          "heatmap": [
           {
            "colorbar": {
             "outlinewidth": 0,
             "ticks": ""
            },
            "colorscale": [
             [
              0,
              "#0d0887"
             ],
             [
              0.1111111111111111,
              "#46039f"
             ],
             [
              0.2222222222222222,
              "#7201a8"
             ],
             [
              0.3333333333333333,
              "#9c179e"
             ],
             [
              0.4444444444444444,
              "#bd3786"
             ],
             [
              0.5555555555555556,
              "#d8576b"
             ],
             [
              0.6666666666666666,
              "#ed7953"
             ],
             [
              0.7777777777777778,
              "#fb9f3a"
             ],
             [
              0.8888888888888888,
              "#fdca26"
             ],
             [
              1,
              "#f0f921"
             ]
            ],
            "type": "heatmap"
           }
          ],
          "heatmapgl": [
           {
            "colorbar": {
             "outlinewidth": 0,
             "ticks": ""
            },
            "colorscale": [
             [
              0,
              "#0d0887"
             ],
             [
              0.1111111111111111,
              "#46039f"
             ],
             [
              0.2222222222222222,
              "#7201a8"
             ],
             [
              0.3333333333333333,
              "#9c179e"
             ],
             [
              0.4444444444444444,
              "#bd3786"
             ],
             [
              0.5555555555555556,
              "#d8576b"
             ],
             [
              0.6666666666666666,
              "#ed7953"
             ],
             [
              0.7777777777777778,
              "#fb9f3a"
             ],
             [
              0.8888888888888888,
              "#fdca26"
             ],
             [
              1,
              "#f0f921"
             ]
            ],
            "type": "heatmapgl"
           }
          ],
          "histogram": [
           {
            "marker": {
             "colorbar": {
              "outlinewidth": 0,
              "ticks": ""
             }
            },
            "type": "histogram"
           }
          ],
          "histogram2d": [
           {
            "colorbar": {
             "outlinewidth": 0,
             "ticks": ""
            },
            "colorscale": [
             [
              0,
              "#0d0887"
             ],
             [
              0.1111111111111111,
              "#46039f"
             ],
             [
              0.2222222222222222,
              "#7201a8"
             ],
             [
              0.3333333333333333,
              "#9c179e"
             ],
             [
              0.4444444444444444,
              "#bd3786"
             ],
             [
              0.5555555555555556,
              "#d8576b"
             ],
             [
              0.6666666666666666,
              "#ed7953"
             ],
             [
              0.7777777777777778,
              "#fb9f3a"
             ],
             [
              0.8888888888888888,
              "#fdca26"
             ],
             [
              1,
              "#f0f921"
             ]
            ],
            "type": "histogram2d"
           }
          ],
          "histogram2dcontour": [
           {
            "colorbar": {
             "outlinewidth": 0,
             "ticks": ""
            },
            "colorscale": [
             [
              0,
              "#0d0887"
             ],
             [
              0.1111111111111111,
              "#46039f"
             ],
             [
              0.2222222222222222,
              "#7201a8"
             ],
             [
              0.3333333333333333,
              "#9c179e"
             ],
             [
              0.4444444444444444,
              "#bd3786"
             ],
             [
              0.5555555555555556,
              "#d8576b"
             ],
             [
              0.6666666666666666,
              "#ed7953"
             ],
             [
              0.7777777777777778,
              "#fb9f3a"
             ],
             [
              0.8888888888888888,
              "#fdca26"
             ],
             [
              1,
              "#f0f921"
             ]
            ],
            "type": "histogram2dcontour"
           }
          ],
          "mesh3d": [
           {
            "colorbar": {
             "outlinewidth": 0,
             "ticks": ""
            },
            "type": "mesh3d"
           }
          ],
          "parcoords": [
           {
            "line": {
             "colorbar": {
              "outlinewidth": 0,
              "ticks": ""
             }
            },
            "type": "parcoords"
           }
          ],
          "pie": [
           {
            "automargin": true,
            "type": "pie"
           }
          ],
          "scatter": [
           {
            "marker": {
             "colorbar": {
              "outlinewidth": 0,
              "ticks": ""
             }
            },
            "type": "scatter"
           }
          ],
          "scatter3d": [
           {
            "line": {
             "colorbar": {
              "outlinewidth": 0,
              "ticks": ""
             }
            },
            "marker": {
             "colorbar": {
              "outlinewidth": 0,
              "ticks": ""
             }
            },
            "type": "scatter3d"
           }
          ],
          "scattercarpet": [
           {
            "marker": {
             "colorbar": {
              "outlinewidth": 0,
              "ticks": ""
             }
            },
            "type": "scattercarpet"
           }
          ],
          "scattergeo": [
           {
            "marker": {
             "colorbar": {
              "outlinewidth": 0,
              "ticks": ""
             }
            },
            "type": "scattergeo"
           }
          ],
          "scattergl": [
           {
            "marker": {
             "colorbar": {
              "outlinewidth": 0,
              "ticks": ""
             }
            },
            "type": "scattergl"
           }
          ],
          "scattermapbox": [
           {
            "marker": {
             "colorbar": {
              "outlinewidth": 0,
              "ticks": ""
             }
            },
            "type": "scattermapbox"
           }
          ],
          "scatterpolar": [
           {
            "marker": {
             "colorbar": {
              "outlinewidth": 0,
              "ticks": ""
             }
            },
            "type": "scatterpolar"
           }
          ],
          "scatterpolargl": [
           {
            "marker": {
             "colorbar": {
              "outlinewidth": 0,
              "ticks": ""
             }
            },
            "type": "scatterpolargl"
           }
          ],
          "scatterternary": [
           {
            "marker": {
             "colorbar": {
              "outlinewidth": 0,
              "ticks": ""
             }
            },
            "type": "scatterternary"
           }
          ],
          "surface": [
           {
            "colorbar": {
             "outlinewidth": 0,
             "ticks": ""
            },
            "colorscale": [
             [
              0,
              "#0d0887"
             ],
             [
              0.1111111111111111,
              "#46039f"
             ],
             [
              0.2222222222222222,
              "#7201a8"
             ],
             [
              0.3333333333333333,
              "#9c179e"
             ],
             [
              0.4444444444444444,
              "#bd3786"
             ],
             [
              0.5555555555555556,
              "#d8576b"
             ],
             [
              0.6666666666666666,
              "#ed7953"
             ],
             [
              0.7777777777777778,
              "#fb9f3a"
             ],
             [
              0.8888888888888888,
              "#fdca26"
             ],
             [
              1,
              "#f0f921"
             ]
            ],
            "type": "surface"
           }
          ],
          "table": [
           {
            "cells": {
             "fill": {
              "color": "#EBF0F8"
             },
             "line": {
              "color": "white"
             }
            },
            "header": {
             "fill": {
              "color": "#C8D4E3"
             },
             "line": {
              "color": "white"
             }
            },
            "type": "table"
           }
          ]
         },
         "layout": {
          "annotationdefaults": {
           "arrowcolor": "#2a3f5f",
           "arrowhead": 0,
           "arrowwidth": 1
          },
          "autotypenumbers": "strict",
          "coloraxis": {
           "colorbar": {
            "outlinewidth": 0,
            "ticks": ""
           }
          },
          "colorscale": {
           "diverging": [
            [
             0,
             "#8e0152"
            ],
            [
             0.1,
             "#c51b7d"
            ],
            [
             0.2,
             "#de77ae"
            ],
            [
             0.3,
             "#f1b6da"
            ],
            [
             0.4,
             "#fde0ef"
            ],
            [
             0.5,
             "#f7f7f7"
            ],
            [
             0.6,
             "#e6f5d0"
            ],
            [
             0.7,
             "#b8e186"
            ],
            [
             0.8,
             "#7fbc41"
            ],
            [
             0.9,
             "#4d9221"
            ],
            [
             1,
             "#276419"
            ]
           ],
           "sequential": [
            [
             0,
             "#0d0887"
            ],
            [
             0.1111111111111111,
             "#46039f"
            ],
            [
             0.2222222222222222,
             "#7201a8"
            ],
            [
             0.3333333333333333,
             "#9c179e"
            ],
            [
             0.4444444444444444,
             "#bd3786"
            ],
            [
             0.5555555555555556,
             "#d8576b"
            ],
            [
             0.6666666666666666,
             "#ed7953"
            ],
            [
             0.7777777777777778,
             "#fb9f3a"
            ],
            [
             0.8888888888888888,
             "#fdca26"
            ],
            [
             1,
             "#f0f921"
            ]
           ],
           "sequentialminus": [
            [
             0,
             "#0d0887"
            ],
            [
             0.1111111111111111,
             "#46039f"
            ],
            [
             0.2222222222222222,
             "#7201a8"
            ],
            [
             0.3333333333333333,
             "#9c179e"
            ],
            [
             0.4444444444444444,
             "#bd3786"
            ],
            [
             0.5555555555555556,
             "#d8576b"
            ],
            [
             0.6666666666666666,
             "#ed7953"
            ],
            [
             0.7777777777777778,
             "#fb9f3a"
            ],
            [
             0.8888888888888888,
             "#fdca26"
            ],
            [
             1,
             "#f0f921"
            ]
           ]
          },
          "colorway": [
           "#636efa",
           "#EF553B",
           "#00cc96",
           "#ab63fa",
           "#FFA15A",
           "#19d3f3",
           "#FF6692",
           "#B6E880",
           "#FF97FF",
           "#FECB52"
          ],
          "font": {
           "color": "#2a3f5f"
          },
          "geo": {
           "bgcolor": "white",
           "lakecolor": "white",
           "landcolor": "#E5ECF6",
           "showlakes": true,
           "showland": true,
           "subunitcolor": "white"
          },
          "hoverlabel": {
           "align": "left"
          },
          "hovermode": "closest",
          "mapbox": {
           "style": "light"
          },
          "paper_bgcolor": "white",
          "plot_bgcolor": "#E5ECF6",
          "polar": {
           "angularaxis": {
            "gridcolor": "white",
            "linecolor": "white",
            "ticks": ""
           },
           "bgcolor": "#E5ECF6",
           "radialaxis": {
            "gridcolor": "white",
            "linecolor": "white",
            "ticks": ""
           }
          },
          "scene": {
           "xaxis": {
            "backgroundcolor": "#E5ECF6",
            "gridcolor": "white",
            "gridwidth": 2,
            "linecolor": "white",
            "showbackground": true,
            "ticks": "",
            "zerolinecolor": "white"
           },
           "yaxis": {
            "backgroundcolor": "#E5ECF6",
            "gridcolor": "white",
            "gridwidth": 2,
            "linecolor": "white",
            "showbackground": true,
            "ticks": "",
            "zerolinecolor": "white"
           },
           "zaxis": {
            "backgroundcolor": "#E5ECF6",
            "gridcolor": "white",
            "gridwidth": 2,
            "linecolor": "white",
            "showbackground": true,
            "ticks": "",
            "zerolinecolor": "white"
           }
          },
          "shapedefaults": {
           "line": {
            "color": "#2a3f5f"
           }
          },
          "ternary": {
           "aaxis": {
            "gridcolor": "white",
            "linecolor": "white",
            "ticks": ""
           },
           "baxis": {
            "gridcolor": "white",
            "linecolor": "white",
            "ticks": ""
           },
           "bgcolor": "#E5ECF6",
           "caxis": {
            "gridcolor": "white",
            "linecolor": "white",
            "ticks": ""
           }
          },
          "title": {
           "x": 0.05
          },
          "xaxis": {
           "automargin": true,
           "gridcolor": "white",
           "linecolor": "white",
           "ticks": "",
           "title": {
            "standoff": 15
           },
           "zerolinecolor": "white",
           "zerolinewidth": 2
          },
          "yaxis": {
           "automargin": true,
           "gridcolor": "white",
           "linecolor": "white",
           "ticks": "",
           "title": {
            "standoff": 15
           },
           "zerolinecolor": "white",
           "zerolinewidth": 2
          }
         }
        },
        "xaxis1": {
         "anchor": "y1",
         "domain": [
          0,
          0.45
         ],
         "title": {
          "text": "x"
         }
        },
        "xaxis2": {
         "anchor": "y2",
         "domain": [
          0.55,
          1
         ],
         "title": {
          "text": "x"
         }
        },
        "yaxis1": {
         "anchor": "x1",
         "domain": [
          0,
          1
         ],
         "title": {
          "text": "Φ"
         }
        },
        "yaxis2": {
         "anchor": "x2",
         "domain": [
          0,
          1
         ],
         "title": {
          "text": "Φ'"
         }
        }
       }
      },
      "text/html": [
       "<div\n",
       "    class=\"webio-mountpoint\"\n",
       "    data-webio-mountpoint=\"10370675384534608539\"\n",
       ">\n",
       "    <script>\n",
       "    (function(){\n",
       "    // Some integrations (namely, IJulia/Jupyter) use an alternate render pathway than\n",
       "    // just putting the html on the page. If WebIO isn't defined, then it's pretty likely\n",
       "    // that we're in one of those situations and the integration just isn't installed\n",
       "    // correctly.\n",
       "    if (typeof window.WebIO === \"undefined\") {\n",
       "        document\n",
       "            .querySelector('[data-webio-mountpoint=\"10370675384534608539\"]')\n",
       "            .innerHTML = (\n",
       "                '<div style=\"padding: 1em; background-color: #f8d6da; border: 1px solid #f5c6cb; font-weight: bold;\">' +\n",
       "                '<p><strong>WebIO not detected.</strong></p>' +\n",
       "                '<p>Please read ' +\n",
       "                '<a href=\"https://juliagizmos.github.io/WebIO.jl/latest/troubleshooting/not-detected/\" target=\"_blank\">the troubleshooting guide</a> ' +\n",
       "                'for more information on how to resolve this issue.</p>' +\n",
       "                '<p><a href=\"https://juliagizmos.github.io/WebIO.jl/latest/troubleshooting/not-detected/\" target=\"_blank\">https://juliagizmos.github.io/WebIO.jl/latest/troubleshooting/not-detected/</a></p>' +\n",
       "                '</div>'\n",
       "            );\n",
       "        return;\n",
       "    }\n",
       "    WebIO.mount(\n",
       "        document.querySelector('[data-webio-mountpoint=\"10370675384534608539\"]'),\n",
       "        {\"props\":{},\"nodeType\":\"Scope\",\"type\":\"node\",\"instanceArgs\":{\"imports\":{\"data\":[{\"name\":\"Plotly\",\"type\":\"js\",\"url\":\"\\/assetserver\\/829791e6ff21fc5c4b60e5df299f439365241070-plotly.min.js\"},{\"name\":null,\"type\":\"js\",\"url\":\"\\/assetserver\\/823f3c894aa43f38c72113b9d92345d26ad2b09b-plotly_webio.bundle.js\"}],\"type\":\"async_block\"},\"id\":\"3870163256224638117\",\"handlers\":{\"_toImage\":[\"(function (options){return this.Plotly.toImage(this.plotElem,options).then((function (data){return WebIO.setval({\\\"name\\\":\\\"image\\\",\\\"scope\\\":\\\"3870163256224638117\\\",\\\"id\\\":\\\"14976504548751181280\\\",\\\"type\\\":\\\"observable\\\"},data)}))})\"],\"__get_gd_contents\":[\"(function (prop){prop==\\\"data\\\" ? (WebIO.setval({\\\"name\\\":\\\"__gd_contents\\\",\\\"scope\\\":\\\"3870163256224638117\\\",\\\"id\\\":\\\"10081138714839768725\\\",\\\"type\\\":\\\"observable\\\"},this.plotElem.data)) : undefined; return prop==\\\"layout\\\" ? (WebIO.setval({\\\"name\\\":\\\"__gd_contents\\\",\\\"scope\\\":\\\"3870163256224638117\\\",\\\"id\\\":\\\"10081138714839768725\\\",\\\"type\\\":\\\"observable\\\"},this.plotElem.layout)) : undefined})\"],\"_downloadImage\":[\"(function (options){return this.Plotly.downloadImage(this.plotElem,options)})\"],\"_commands\":[\"(function (args){var fn=args.shift(); var elem=this.plotElem; var Plotly=this.Plotly; args.unshift(elem); return Plotly[fn].apply(this,args)})\"]},\"systemjs_options\":null,\"mount_callbacks\":[\"function () {\\n    var handler = ((function (Plotly,PlotlyWebIO){PlotlyWebIO.init(WebIO); var gd=this.dom.querySelector(\\\"#plot-98e9297e-1956-4d98-83d1-87f51dfd72d8\\\"); this.plotElem=gd; this.Plotly=Plotly; (window.Blink!==undefined) ? (gd.style.width=\\\"100%\\\", gd.style.height=\\\"100vh\\\", gd.style.marginLeft=\\\"0%\\\", gd.style.marginTop=\\\"0vh\\\") : undefined; window.onresize=(function (){return Plotly.Plots.resize(gd)}); Plotly.newPlot(gd,[{\\\"xaxis\\\":\\\"x1\\\",\\\"y\\\":[0.0,-0.19,-0.36,-0.51,-0.64,-0.75,-0.84,-0.9099999999999999,-0.96,-0.99,-1.0],\\\"type\\\":\\\"scatter\\\",\\\"name\\\":\\\"Φ1\\\",\\\"yaxis\\\":\\\"y1\\\",\\\"x\\\":[0.0,0.1,0.2,0.3,0.4,0.5,0.6,0.7,0.8,0.9,1.0]},{\\\"xaxis\\\":\\\"x1\\\",\\\"y\\\":[0.0,0.08100000000000002,0.12800000000000003,0.14699999999999996,0.144,0.125,0.09600000000000002,0.06300000000000001,0.03199999999999999,0.008999999999999996,0.0],\\\"type\\\":\\\"scatter\\\",\\\"name\\\":\\\"Φ2\\\",\\\"yaxis\\\":\\\"y1\\\",\\\"x\\\":[0.0,0.1,0.2,0.3,0.4,0.5,0.6,0.7,0.8,0.9,1.0]},{\\\"xaxis\\\":\\\"x2\\\",\\\"y\\\":[-2.0,-1.8,-1.6,-1.4,-1.2,-1.0,-0.8,-0.6000000000000001,-0.3999999999999999,-0.19999999999999996,0.0],\\\"type\\\":\\\"scatter\\\",\\\"name\\\":\\\"Φ'1\\\",\\\"yaxis\\\":\\\"y2\\\",\\\"x\\\":[0.0,0.1,0.2,0.3,0.4,0.5,0.6,0.7,0.8,0.9,1.0]},{\\\"xaxis\\\":\\\"x2\\\",\\\"y\\\":[1.0,0.63,0.31999999999999995,0.07000000000000006,-0.1200000000000001,-0.25,-0.31999999999999984,-0.33000000000000007,-0.2799999999999998,-0.16999999999999993,0.0],\\\"type\\\":\\\"scatter\\\",\\\"name\\\":\\\"Φ'2\\\",\\\"yaxis\\\":\\\"y2\\\",\\\"x\\\":[0.0,0.1,0.2,0.3,0.4,0.5,0.6,0.7,0.8,0.9,1.0]}],{\\\"xaxis1\\\":{\\\"title\\\":{\\\"text\\\":\\\"x\\\"},\\\"domain\\\":[0.0,0.45],\\\"anchor\\\":\\\"y1\\\"},\\\"yaxis1\\\":{\\\"title\\\":{\\\"text\\\":\\\"Φ\\\"},\\\"domain\\\":[0.0,1.0],\\\"anchor\\\":\\\"x1\\\"},\\\"template\\\":{\\\"layout\\\":{\\\"coloraxis\\\":{\\\"colorbar\\\":{\\\"ticks\\\":\\\"\\\",\\\"outlinewidth\\\":0}},\\\"xaxis\\\":{\\\"gridcolor\\\":\\\"white\\\",\\\"zerolinewidth\\\":2,\\\"title\\\":{\\\"standoff\\\":15},\\\"ticks\\\":\\\"\\\",\\\"zerolinecolor\\\":\\\"white\\\",\\\"automargin\\\":true,\\\"linecolor\\\":\\\"white\\\"},\\\"hovermode\\\":\\\"closest\\\",\\\"paper_bgcolor\\\":\\\"white\\\",\\\"geo\\\":{\\\"showlakes\\\":true,\\\"showland\\\":true,\\\"landcolor\\\":\\\"#E5ECF6\\\",\\\"bgcolor\\\":\\\"white\\\",\\\"subunitcolor\\\":\\\"white\\\",\\\"lakecolor\\\":\\\"white\\\"},\\\"colorscale\\\":{\\\"sequential\\\":[[0.0,\\\"#0d0887\\\"],[0.1111111111111111,\\\"#46039f\\\"],[0.2222222222222222,\\\"#7201a8\\\"],[0.3333333333333333,\\\"#9c179e\\\"],[0.4444444444444444,\\\"#bd3786\\\"],[0.5555555555555556,\\\"#d8576b\\\"],[0.6666666666666666,\\\"#ed7953\\\"],[0.7777777777777778,\\\"#fb9f3a\\\"],[0.8888888888888888,\\\"#fdca26\\\"],[1.0,\\\"#f0f921\\\"]],\\\"diverging\\\":[[0,\\\"#8e0152\\\"],[0.1,\\\"#c51b7d\\\"],[0.2,\\\"#de77ae\\\"],[0.3,\\\"#f1b6da\\\"],[0.4,\\\"#fde0ef\\\"],[0.5,\\\"#f7f7f7\\\"],[0.6,\\\"#e6f5d0\\\"],[0.7,\\\"#b8e186\\\"],[0.8,\\\"#7fbc41\\\"],[0.9,\\\"#4d9221\\\"],[1,\\\"#276419\\\"]],\\\"sequentialminus\\\":[[0.0,\\\"#0d0887\\\"],[0.1111111111111111,\\\"#46039f\\\"],[0.2222222222222222,\\\"#7201a8\\\"],[0.3333333333333333,\\\"#9c179e\\\"],[0.4444444444444444,\\\"#bd3786\\\"],[0.5555555555555556,\\\"#d8576b\\\"],[0.6666666666666666,\\\"#ed7953\\\"],[0.7777777777777778,\\\"#fb9f3a\\\"],[0.8888888888888888,\\\"#fdca26\\\"],[1.0,\\\"#f0f921\\\"]]},\\\"yaxis\\\":{\\\"gridcolor\\\":\\\"white\\\",\\\"zerolinewidth\\\":2,\\\"title\\\":{\\\"standoff\\\":15},\\\"ticks\\\":\\\"\\\",\\\"zerolinecolor\\\":\\\"white\\\",\\\"automargin\\\":true,\\\"linecolor\\\":\\\"white\\\"},\\\"shapedefaults\\\":{\\\"line\\\":{\\\"color\\\":\\\"#2a3f5f\\\"}},\\\"hoverlabel\\\":{\\\"align\\\":\\\"left\\\"},\\\"mapbox\\\":{\\\"style\\\":\\\"light\\\"},\\\"polar\\\":{\\\"angularaxis\\\":{\\\"gridcolor\\\":\\\"white\\\",\\\"ticks\\\":\\\"\\\",\\\"linecolor\\\":\\\"white\\\"},\\\"bgcolor\\\":\\\"#E5ECF6\\\",\\\"radialaxis\\\":{\\\"gridcolor\\\":\\\"white\\\",\\\"ticks\\\":\\\"\\\",\\\"linecolor\\\":\\\"white\\\"}},\\\"autotypenumbers\\\":\\\"strict\\\",\\\"font\\\":{\\\"color\\\":\\\"#2a3f5f\\\"},\\\"ternary\\\":{\\\"baxis\\\":{\\\"gridcolor\\\":\\\"white\\\",\\\"ticks\\\":\\\"\\\",\\\"linecolor\\\":\\\"white\\\"},\\\"bgcolor\\\":\\\"#E5ECF6\\\",\\\"caxis\\\":{\\\"gridcolor\\\":\\\"white\\\",\\\"ticks\\\":\\\"\\\",\\\"linecolor\\\":\\\"white\\\"},\\\"aaxis\\\":{\\\"gridcolor\\\":\\\"white\\\",\\\"ticks\\\":\\\"\\\",\\\"linecolor\\\":\\\"white\\\"}},\\\"annotationdefaults\\\":{\\\"arrowhead\\\":0,\\\"arrowwidth\\\":1,\\\"arrowcolor\\\":\\\"#2a3f5f\\\"},\\\"plot_bgcolor\\\":\\\"#E5ECF6\\\",\\\"title\\\":{\\\"x\\\":0.05},\\\"scene\\\":{\\\"xaxis\\\":{\\\"gridcolor\\\":\\\"white\\\",\\\"gridwidth\\\":2,\\\"backgroundcolor\\\":\\\"#E5ECF6\\\",\\\"ticks\\\":\\\"\\\",\\\"showbackground\\\":true,\\\"zerolinecolor\\\":\\\"white\\\",\\\"linecolor\\\":\\\"white\\\"},\\\"zaxis\\\":{\\\"gridcolor\\\":\\\"white\\\",\\\"gridwidth\\\":2,\\\"backgroundcolor\\\":\\\"#E5ECF6\\\",\\\"ticks\\\":\\\"\\\",\\\"showbackground\\\":true,\\\"zerolinecolor\\\":\\\"white\\\",\\\"linecolor\\\":\\\"white\\\"},\\\"yaxis\\\":{\\\"gridcolor\\\":\\\"white\\\",\\\"gridwidth\\\":2,\\\"backgroundcolor\\\":\\\"#E5ECF6\\\",\\\"ticks\\\":\\\"\\\",\\\"showbackground\\\":true,\\\"zerolinecolor\\\":\\\"white\\\",\\\"linecolor\\\":\\\"white\\\"}},\\\"colorway\\\":[\\\"#636efa\\\",\\\"#EF553B\\\",\\\"#00cc96\\\",\\\"#ab63fa\\\",\\\"#FFA15A\\\",\\\"#19d3f3\\\",\\\"#FF6692\\\",\\\"#B6E880\\\",\\\"#FF97FF\\\",\\\"#FECB52\\\"]},\\\"data\\\":{\\\"barpolar\\\":[{\\\"type\\\":\\\"barpolar\\\",\\\"marker\\\":{\\\"line\\\":{\\\"color\\\":\\\"#E5ECF6\\\",\\\"width\\\":0.5}}}],\\\"carpet\\\":[{\\\"aaxis\\\":{\\\"gridcolor\\\":\\\"white\\\",\\\"endlinecolor\\\":\\\"#2a3f5f\\\",\\\"minorgridcolor\\\":\\\"white\\\",\\\"startlinecolor\\\":\\\"#2a3f5f\\\",\\\"linecolor\\\":\\\"white\\\"},\\\"type\\\":\\\"carpet\\\",\\\"baxis\\\":{\\\"gridcolor\\\":\\\"white\\\",\\\"endlinecolor\\\":\\\"#2a3f5f\\\",\\\"minorgridcolor\\\":\\\"white\\\",\\\"startlinecolor\\\":\\\"#2a3f5f\\\",\\\"linecolor\\\":\\\"white\\\"}}],\\\"scatterpolar\\\":[{\\\"type\\\":\\\"scatterpolar\\\",\\\"marker\\\":{\\\"colorbar\\\":{\\\"ticks\\\":\\\"\\\",\\\"outlinewidth\\\":0}}}],\\\"parcoords\\\":[{\\\"line\\\":{\\\"colorbar\\\":{\\\"ticks\\\":\\\"\\\",\\\"outlinewidth\\\":0}},\\\"type\\\":\\\"parcoords\\\"}],\\\"scatter\\\":[{\\\"type\\\":\\\"scatter\\\",\\\"marker\\\":{\\\"colorbar\\\":{\\\"ticks\\\":\\\"\\\",\\\"outlinewidth\\\":0}}}],\\\"histogram2dcontour\\\":[{\\\"colorbar\\\":{\\\"ticks\\\":\\\"\\\",\\\"outlinewidth\\\":0},\\\"type\\\":\\\"histogram2dcontour\\\",\\\"colorscale\\\":[[0.0,\\\"#0d0887\\\"],[0.1111111111111111,\\\"#46039f\\\"],[0.2222222222222222,\\\"#7201a8\\\"],[0.3333333333333333,\\\"#9c179e\\\"],[0.4444444444444444,\\\"#bd3786\\\"],[0.5555555555555556,\\\"#d8576b\\\"],[0.6666666666666666,\\\"#ed7953\\\"],[0.7777777777777778,\\\"#fb9f3a\\\"],[0.8888888888888888,\\\"#fdca26\\\"],[1.0,\\\"#f0f921\\\"]]}],\\\"contour\\\":[{\\\"colorbar\\\":{\\\"ticks\\\":\\\"\\\",\\\"outlinewidth\\\":0},\\\"type\\\":\\\"contour\\\",\\\"colorscale\\\":[[0.0,\\\"#0d0887\\\"],[0.1111111111111111,\\\"#46039f\\\"],[0.2222222222222222,\\\"#7201a8\\\"],[0.3333333333333333,\\\"#9c179e\\\"],[0.4444444444444444,\\\"#bd3786\\\"],[0.5555555555555556,\\\"#d8576b\\\"],[0.6666666666666666,\\\"#ed7953\\\"],[0.7777777777777778,\\\"#fb9f3a\\\"],[0.8888888888888888,\\\"#fdca26\\\"],[1.0,\\\"#f0f921\\\"]]}],\\\"scattercarpet\\\":[{\\\"type\\\":\\\"scattercarpet\\\",\\\"marker\\\":{\\\"colorbar\\\":{\\\"ticks\\\":\\\"\\\",\\\"outlinewidth\\\":0}}}],\\\"mesh3d\\\":[{\\\"colorbar\\\":{\\\"ticks\\\":\\\"\\\",\\\"outlinewidth\\\":0},\\\"type\\\":\\\"mesh3d\\\"}],\\\"surface\\\":[{\\\"colorbar\\\":{\\\"ticks\\\":\\\"\\\",\\\"outlinewidth\\\":0},\\\"type\\\":\\\"surface\\\",\\\"colorscale\\\":[[0.0,\\\"#0d0887\\\"],[0.1111111111111111,\\\"#46039f\\\"],[0.2222222222222222,\\\"#7201a8\\\"],[0.3333333333333333,\\\"#9c179e\\\"],[0.4444444444444444,\\\"#bd3786\\\"],[0.5555555555555556,\\\"#d8576b\\\"],[0.6666666666666666,\\\"#ed7953\\\"],[0.7777777777777778,\\\"#fb9f3a\\\"],[0.8888888888888888,\\\"#fdca26\\\"],[1.0,\\\"#f0f921\\\"]]}],\\\"scattermapbox\\\":[{\\\"type\\\":\\\"scattermapbox\\\",\\\"marker\\\":{\\\"colorbar\\\":{\\\"ticks\\\":\\\"\\\",\\\"outlinewidth\\\":0}}}],\\\"scattergeo\\\":[{\\\"type\\\":\\\"scattergeo\\\",\\\"marker\\\":{\\\"colorbar\\\":{\\\"ticks\\\":\\\"\\\",\\\"outlinewidth\\\":0}}}],\\\"histogram\\\":[{\\\"type\\\":\\\"histogram\\\",\\\"marker\\\":{\\\"colorbar\\\":{\\\"ticks\\\":\\\"\\\",\\\"outlinewidth\\\":0}}}],\\\"pie\\\":[{\\\"type\\\":\\\"pie\\\",\\\"automargin\\\":true}],\\\"choropleth\\\":[{\\\"colorbar\\\":{\\\"ticks\\\":\\\"\\\",\\\"outlinewidth\\\":0},\\\"type\\\":\\\"choropleth\\\"}],\\\"heatmapgl\\\":[{\\\"colorbar\\\":{\\\"ticks\\\":\\\"\\\",\\\"outlinewidth\\\":0},\\\"type\\\":\\\"heatmapgl\\\",\\\"colorscale\\\":[[0.0,\\\"#0d0887\\\"],[0.1111111111111111,\\\"#46039f\\\"],[0.2222222222222222,\\\"#7201a8\\\"],[0.3333333333333333,\\\"#9c179e\\\"],[0.4444444444444444,\\\"#bd3786\\\"],[0.5555555555555556,\\\"#d8576b\\\"],[0.6666666666666666,\\\"#ed7953\\\"],[0.7777777777777778,\\\"#fb9f3a\\\"],[0.8888888888888888,\\\"#fdca26\\\"],[1.0,\\\"#f0f921\\\"]]}],\\\"bar\\\":[{\\\"type\\\":\\\"bar\\\",\\\"error_y\\\":{\\\"color\\\":\\\"#2a3f5f\\\"},\\\"error_x\\\":{\\\"color\\\":\\\"#2a3f5f\\\"},\\\"marker\\\":{\\\"line\\\":{\\\"color\\\":\\\"#E5ECF6\\\",\\\"width\\\":0.5}}}],\\\"heatmap\\\":[{\\\"colorbar\\\":{\\\"ticks\\\":\\\"\\\",\\\"outlinewidth\\\":0},\\\"type\\\":\\\"heatmap\\\",\\\"colorscale\\\":[[0.0,\\\"#0d0887\\\"],[0.1111111111111111,\\\"#46039f\\\"],[0.2222222222222222,\\\"#7201a8\\\"],[0.3333333333333333,\\\"#9c179e\\\"],[0.4444444444444444,\\\"#bd3786\\\"],[0.5555555555555556,\\\"#d8576b\\\"],[0.6666666666666666,\\\"#ed7953\\\"],[0.7777777777777778,\\\"#fb9f3a\\\"],[0.8888888888888888,\\\"#fdca26\\\"],[1.0,\\\"#f0f921\\\"]]}],\\\"contourcarpet\\\":[{\\\"colorbar\\\":{\\\"ticks\\\":\\\"\\\",\\\"outlinewidth\\\":0},\\\"type\\\":\\\"contourcarpet\\\"}],\\\"table\\\":[{\\\"type\\\":\\\"table\\\",\\\"header\\\":{\\\"line\\\":{\\\"color\\\":\\\"white\\\"},\\\"fill\\\":{\\\"color\\\":\\\"#C8D4E3\\\"}},\\\"cells\\\":{\\\"line\\\":{\\\"color\\\":\\\"white\\\"},\\\"fill\\\":{\\\"color\\\":\\\"#EBF0F8\\\"}}}],\\\"scatter3d\\\":[{\\\"line\\\":{\\\"colorbar\\\":{\\\"ticks\\\":\\\"\\\",\\\"outlinewidth\\\":0}},\\\"type\\\":\\\"scatter3d\\\",\\\"marker\\\":{\\\"colorbar\\\":{\\\"ticks\\\":\\\"\\\",\\\"outlinewidth\\\":0}}}],\\\"scattergl\\\":[{\\\"type\\\":\\\"scattergl\\\",\\\"marker\\\":{\\\"colorbar\\\":{\\\"ticks\\\":\\\"\\\",\\\"outlinewidth\\\":0}}}],\\\"histogram2d\\\":[{\\\"colorbar\\\":{\\\"ticks\\\":\\\"\\\",\\\"outlinewidth\\\":0},\\\"type\\\":\\\"histogram2d\\\",\\\"colorscale\\\":[[0.0,\\\"#0d0887\\\"],[0.1111111111111111,\\\"#46039f\\\"],[0.2222222222222222,\\\"#7201a8\\\"],[0.3333333333333333,\\\"#9c179e\\\"],[0.4444444444444444,\\\"#bd3786\\\"],[0.5555555555555556,\\\"#d8576b\\\"],[0.6666666666666666,\\\"#ed7953\\\"],[0.7777777777777778,\\\"#fb9f3a\\\"],[0.8888888888888888,\\\"#fdca26\\\"],[1.0,\\\"#f0f921\\\"]]}],\\\"scatterternary\\\":[{\\\"type\\\":\\\"scatterternary\\\",\\\"marker\\\":{\\\"colorbar\\\":{\\\"ticks\\\":\\\"\\\",\\\"outlinewidth\\\":0}}}],\\\"scatterpolargl\\\":[{\\\"type\\\":\\\"scatterpolargl\\\",\\\"marker\\\":{\\\"colorbar\\\":{\\\"ticks\\\":\\\"\\\",\\\"outlinewidth\\\":0}}}]}},\\\"xaxis2\\\":{\\\"title\\\":{\\\"text\\\":\\\"x\\\"},\\\"domain\\\":[0.55,1.0],\\\"anchor\\\":\\\"y2\\\"},\\\"margin\\\":{\\\"l\\\":50,\\\"b\\\":50,\\\"r\\\":50,\\\"t\\\":60},\\\"yaxis2\\\":{\\\"title\\\":{\\\"text\\\":\\\"Φ'\\\"},\\\"domain\\\":[0.0,1.0],\\\"anchor\\\":\\\"x2\\\"},\\\"annotations\\\":[{\\\"yanchor\\\":\\\"bottom\\\",\\\"xanchor\\\":\\\"center\\\",\\\"y\\\":1.0,\\\"font\\\":{\\\"size\\\":16},\\\"showarrow\\\":false,\\\"yref\\\":\\\"paper\\\",\\\"text\\\":\\\"Functions (Φ)\\\",\\\"xref\\\":\\\"paper\\\",\\\"x\\\":0.225},{\\\"yanchor\\\":\\\"bottom\\\",\\\"xanchor\\\":\\\"center\\\",\\\"y\\\":1.0,\\\"font\\\":{\\\"size\\\":16},\\\"showarrow\\\":false,\\\"yref\\\":\\\"paper\\\",\\\"text\\\":\\\"Derivative Functions (Φ')\\\",\\\"xref\\\":\\\"paper\\\",\\\"x\\\":0.775}]},{\\\"showLink\\\":false,\\\"editable\\\":false,\\\"responsive\\\":true,\\\"staticPlot\\\":false,\\\"scrollZoom\\\":true}); gd.on(\\\"plotly_hover\\\",(function (data){var filtered_data=WebIO.PlotlyCommands.filterEventData(gd,data,\\\"hover\\\"); return !(filtered_data.isnil) ? (WebIO.setval({\\\"name\\\":\\\"hover\\\",\\\"scope\\\":\\\"3870163256224638117\\\",\\\"id\\\":\\\"9333562773591197922\\\",\\\"type\\\":\\\"observable\\\"},filtered_data.out)) : undefined})); gd.on(\\\"plotly_unhover\\\",(function (){return WebIO.setval({\\\"name\\\":\\\"hover\\\",\\\"scope\\\":\\\"3870163256224638117\\\",\\\"id\\\":\\\"9333562773591197922\\\",\\\"type\\\":\\\"observable\\\"},{})})); gd.on(\\\"plotly_selected\\\",(function (data){var filtered_data=WebIO.PlotlyCommands.filterEventData(gd,data,\\\"selected\\\"); return !(filtered_data.isnil) ? (WebIO.setval({\\\"name\\\":\\\"selected\\\",\\\"scope\\\":\\\"3870163256224638117\\\",\\\"id\\\":\\\"4870912882761103102\\\",\\\"type\\\":\\\"observable\\\"},filtered_data.out)) : undefined})); gd.on(\\\"plotly_deselect\\\",(function (){return WebIO.setval({\\\"name\\\":\\\"selected\\\",\\\"scope\\\":\\\"3870163256224638117\\\",\\\"id\\\":\\\"4870912882761103102\\\",\\\"type\\\":\\\"observable\\\"},{})})); gd.on(\\\"plotly_relayout\\\",(function (data){var filtered_data=WebIO.PlotlyCommands.filterEventData(gd,data,\\\"relayout\\\"); return !(filtered_data.isnil) ? (WebIO.setval({\\\"name\\\":\\\"relayout\\\",\\\"scope\\\":\\\"3870163256224638117\\\",\\\"id\\\":\\\"12542749485967154141\\\",\\\"type\\\":\\\"observable\\\"},filtered_data.out)) : undefined})); return gd.on(\\\"plotly_click\\\",(function (data){var filtered_data=WebIO.PlotlyCommands.filterEventData(gd,data,\\\"click\\\"); return !(filtered_data.isnil) ? (WebIO.setval({\\\"name\\\":\\\"click\\\",\\\"scope\\\":\\\"3870163256224638117\\\",\\\"id\\\":\\\"1324627372714727583\\\",\\\"type\\\":\\\"observable\\\"},filtered_data.out)) : undefined}))}));\\n    (WebIO.importBlock({\\\"data\\\":[{\\\"name\\\":\\\"Plotly\\\",\\\"type\\\":\\\"js\\\",\\\"url\\\":\\\"\\/assetserver\\/829791e6ff21fc5c4b60e5df299f439365241070-plotly.min.js\\\"},{\\\"name\\\":null,\\\"type\\\":\\\"js\\\",\\\"url\\\":\\\"\\/assetserver\\/823f3c894aa43f38c72113b9d92345d26ad2b09b-plotly_webio.bundle.js\\\"}],\\\"type\\\":\\\"async_block\\\"})).then((imports) => handler.apply(this, imports));\\n}\\n\"],\"observables\":{\"_toImage\":{\"sync\":false,\"id\":\"9229251014493813466\",\"value\":{}},\"hover\":{\"sync\":false,\"id\":\"9333562773591197922\",\"value\":{}},\"selected\":{\"sync\":false,\"id\":\"4870912882761103102\",\"value\":{}},\"__gd_contents\":{\"sync\":false,\"id\":\"10081138714839768725\",\"value\":{}},\"click\":{\"sync\":false,\"id\":\"1324627372714727583\",\"value\":{}},\"image\":{\"sync\":true,\"id\":\"14976504548751181280\",\"value\":\"\"},\"__get_gd_contents\":{\"sync\":false,\"id\":\"15679667023445117563\",\"value\":\"\"},\"_downloadImage\":{\"sync\":false,\"id\":\"6072478835334652978\",\"value\":{}},\"relayout\":{\"sync\":false,\"id\":\"12542749485967154141\",\"value\":{}},\"_commands\":{\"sync\":false,\"id\":\"17616357800627876847\",\"value\":[]}}},\"children\":[{\"props\":{\"id\":\"plot-98e9297e-1956-4d98-83d1-87f51dfd72d8\"},\"nodeType\":\"DOM\",\"type\":\"node\",\"instanceArgs\":{\"namespace\":\"html\",\"tag\":\"div\"},\"children\":[]}]},\n",
       "        window,\n",
       "    );\n",
       "    })()\n",
       "    </script>\n",
       "</div>\n"
      ],
      "text/plain": [
       "data: [\n",
       "  \"scatter with fields name, type, x, xaxis, y, and yaxis\",\n",
       "  \"scatter with fields name, type, x, xaxis, y, and yaxis\",\n",
       "  \"scatter with fields name, type, x, xaxis, y, and yaxis\",\n",
       "  \"scatter with fields name, type, x, xaxis, y, and yaxis\"\n",
       "]\n",
       "\n",
       "layout: \"layout with fields annotations, margin, template, xaxis1, xaxis2, yaxis1, and yaxis2\"\n",
       "\n"
      ]
     },
     "execution_count": 3,
     "metadata": {},
     "output_type": "execute_result"
    }
   ],
   "source": [
    "x=0:0.1:1\n",
    "\n",
    "pfunc = plot([scatter(x=x,y=phi1.(x), name=\"Φ1\"), scatter(x=x,y=phi2.(x), name=\"Φ2\")],\n",
    "            Layout(title=\"Functions (Φ)\",  xaxis_title=\"x\",  yaxis_title=\"Φ\"))\n",
    "\n",
    "pfuncp = plot([scatter(x=x,y=phi1p.(x), name=\"Φ'1\"), scatter(x=x,y=phi2p.(x), name=\"Φ'2\")],\n",
    "            Layout(title=\"Derivative Functions (Φ')\",  xaxis_title=\"x\",  yaxis_title=\"Φ'\"))\n",
    "\n",
    "[pfunc pfuncp]"
   ]
  },
  {
   "cell_type": "markdown",
   "id": "cba4122d-7950-46e2-a6b3-a298fa5c962f",
   "metadata": {},
   "source": [
    "Finally, let's plot the exact function, approximate function, and error. To calculate the error first is necesary find $u''_h$  \n",
    "\n",
    "$$ u_h''(x) = u_1 \\phi_1''(x) + u_2 \\phi_2''(x) = u_1 (2) + u_2 (6x-4) $$\n",
    "\n",
    "Then, the error is \n",
    "\n",
    "$$ \\epsilon(x) = u_h''(x) + u_h(x) -1 = u_1 (2 + x(x-2)^2 ) + u_2 (6x-4+x(x-1)^2) -1$$"
   ]
  },
  {
   "cell_type": "code",
   "execution_count": 4,
   "id": "ce758905",
   "metadata": {},
   "outputs": [
    {
     "data": {
      "application/vnd.plotly.v1+json": {
       "config": {
        "editable": false,
        "responsive": true,
        "scrollZoom": true,
        "showLink": false,
        "staticPlot": false
       },
       "data": [
        {
         "legendrank": 1,
         "marker": {
          "color": "LightBlue"
         },
         "mode": "lines",
         "name": "U exact",
         "type": "scatter",
         "x": [
          0,
          0.1,
          0.2,
          0.3,
          0.4,
          0.5,
          0.6,
          0.7,
          0.8,
          0.9,
          1
         ],
         "xaxis": "x1",
         "y": [
          0,
          -0.15048549954248736,
          -0.2894757282734901,
          -0.41558194177158936,
          -0.5275441284366844,
          -0.6242435991093955,
          -0.7047141646433566,
          -0.7681517897477845,
          -0.8139226266423263,
          -0.8415693482545596,
          -0.8508157176809257
         ],
         "yaxis": "y1"
        },
        {
         "marker": {
          "color": "DarkBlue",
          "size": 8
         },
         "mode": "markers",
         "name": "u_h",
         "type": "scatter",
         "x": [
          0,
          0.1,
          0.2,
          0.3,
          0.4,
          0.5,
          0.6,
          0.7,
          0.8,
          0.9,
          1
         ],
         "xaxis": "x1",
         "y": [
          0,
          -0.1514026939154668,
          -0.29018114259173244,
          -0.41555503947979566,
          -0.5267440780306549,
          -0.6229679516953088,
          -0.7034463539247561,
          -0.7673989781699952,
          -0.814045517882025,
          -0.842605666511844,
          -0.8522991175104505
         ],
         "yaxis": "y1"
        },
        {
         "marker": {
          "color": "red",
          "size": 8
         },
         "mode": "markers",
         "name": "u'_h",
         "type": "scatter",
         "x": [
          0,
          0.1,
          0.2,
          0.3,
          0.4,
          0.5,
          0.6,
          0.7,
          0.8,
          0.9,
          1
         ],
         "xaxis": "x2",
         "y": [
          -1.5745471435206688,
          -1.4522062238736646,
          -1.3220622387366465,
          -1.1841151881096144,
          -1.0383650719925686,
          -0.8848118903855086,
          -0.7234556432884347,
          -0.5542963307013471,
          -0.3773339526242452,
          -0.19256850905712955,
          0
         ],
         "yaxis": "y2"
        },
        {
         "marker": {
          "color": "green",
          "size": 8
         },
         "mode": "markers",
         "name": "u''_h",
         "type": "scatter",
         "x": [
          0,
          0.1,
          0.2,
          0.3,
          0.4,
          0.5,
          0.6,
          0.7,
          0.8,
          0.9,
          1
         ],
         "xaxis": "x2",
         "y": [
          1.184393869019972,
          1.2624245239201113,
          1.3404551788202506,
          1.41848583372039,
          1.4965164886205293,
          1.5745471435206688,
          1.652577798420808,
          1.7306084533209474,
          1.8086391082210869,
          1.8866697631212261,
          1.9647004180213656
         ],
         "yaxis": "y2"
        },
        {
         "legendrank": 2,
         "marker": {
          "color": "DarkRed",
          "size": 8
         },
         "mode": "lines",
         "name": "u' exact",
         "type": "scatter",
         "x": [
          0,
          0.1,
          0.2,
          0.3,
          0.4,
          0.5,
          0.6,
          0.7,
          0.8,
          0.9,
          1
         ],
         "xaxis": "x2",
         "y": [
          -1.5574077246549023,
          -1.4497937564209724,
          -1.3276939282109836,
          -1.1923282211475732,
          -1.0450491646297653,
          -0.8873283223063024,
          -0.7207415886981013,
          -0.546953443381123,
          -0.3677003200566503,
          -0.18477325667973798,
          -1.1102230246251565e-16
         ],
         "yaxis": "y2"
        },
        {
         "legendrank": 3,
         "marker": {
          "color": "DarkGreen",
          "size": 8
         },
         "mode": "lines",
         "name": "u'' exact",
         "type": "scatter",
         "x": [
          0,
          0.1,
          0.2,
          0.3,
          0.4,
          0.5,
          0.6,
          0.7,
          0.8,
          0.9,
          1
         ],
         "xaxis": "x2",
         "y": [
          1,
          1.1504854995424874,
          1.28947572827349,
          1.4155819417715894,
          1.5275441284366844,
          1.6242435991093955,
          1.7047141646433566,
          1.7681517897477845,
          1.8139226266423263,
          1.8415693482545596,
          1.8508157176809257
         ],
         "yaxis": "y2"
        },
        {
         "mode": "markers+lines",
         "name": "Ɛ error",
         "type": "scatter",
         "x": [
          0,
          0.1,
          0.2,
          0.3,
          0.4,
          0.5,
          0.6,
          0.7,
          0.8,
          0.9,
          1
         ],
         "xaxis": "x3",
         "y": [
          0.184393869019972,
          0.1110218300046446,
          0.050274036228518115,
          0.002930794240594281,
          -0.0302275894101256,
          -0.048420808174640007,
          -0.050868555503947976,
          -0.03679052484904788,
          -0.005406409660938083,
          0.04406409660938215,
          0.11240130051091501
         ],
         "yaxis": "y3"
        },
        {
         "marker": {
          "color": "DarkSlateBlue"
         },
         "mode": "markers+lines",
         "name": "Ɛrel uh",
         "type": "scatter",
         "x": [
          0,
          0.1,
          0.2,
          0.3,
          0.4,
          0.5,
          0.6,
          0.7,
          0.8,
          0.9,
          1
         ],
         "xaxis": "x4",
         "y": [
          null,
          0.0060949020056279835,
          0.002436868619174445,
          6.473402496512125e-05,
          0.0015165563654368414,
          0.002043509001784974,
          0.0017990424802119729,
          0.0009800297126645497,
          0.0001509863906912463,
          0.0012314115995713205,
          0.0017435030861537764
         ],
         "yaxis": "y4"
        },
        {
         "marker": {
          "color": "IndianRed"
         },
         "mode": "markers+lines",
         "name": "Ɛrel u'h",
         "type": "scatter",
         "x": [
          0,
          0.1,
          0.2,
          0.3,
          0.4,
          0.5,
          0.6,
          0.7,
          0.8,
          0.9,
          1
         ],
         "xaxis": "x4",
         "y": [
          1.100509429511425,
          0.16640073403597205,
          0.4241707636582781,
          0.688823169014157,
          0.6395959982959004,
          0.283596483684109,
          0.37656417124976,
          1.3425068274243488,
          2.6199685020972083,
          4.218820687293966,
          0
         ],
         "yaxis": "y4"
        },
        {
         "marker": {
          "color": "SeaGreen"
         },
         "mode": "markers+lines",
         "name": "Ɛrel u''h",
         "type": "scatter",
         "x": [
          0,
          0.1,
          0.2,
          0.3,
          0.4,
          0.5,
          0.6,
          0.7,
          0.8,
          0.9,
          1
         ],
         "xaxis": "x4",
         "y": [
          18.439386901997203,
          9.729720576412188,
          3.9535021426900414,
          0.2051376796433627,
          2.0312107021032064,
          3.0596676271943597,
          3.05836411193638,
          2.123309584874072,
          0.2912758429514445,
          2.4490207175424965,
          6.153216619704183
         ],
         "yaxis": "y4"
        }
       ],
       "frames": [],
       "layout": {
        "annotations": [
         {
          "font": {
           "size": 16
          },
          "showarrow": false,
          "text": "Functions",
          "x": 0.225,
          "xanchor": "center",
          "xref": "paper",
          "y": 1,
          "yanchor": "bottom",
          "yref": "paper"
         },
         {
          "font": {
           "size": 16
          },
          "showarrow": false,
          "text": "Derivatives",
          "x": 0.775,
          "xanchor": "center",
          "xref": "paper",
          "y": 1,
          "yanchor": "bottom",
          "yref": "paper"
         },
         {
          "font": {
           "size": 16
          },
          "showarrow": false,
          "text": "Error Ɛ(x)",
          "x": 0.225,
          "xanchor": "center",
          "xref": "paper",
          "y": 0.36250000000000004,
          "yanchor": "bottom",
          "yref": "paper"
         },
         {
          "font": {
           "size": 16
          },
          "showarrow": false,
          "text": "Relative Error ",
          "x": 0.775,
          "xanchor": "center",
          "xref": "paper",
          "y": 0.36250000000000004,
          "yanchor": "bottom",
          "yref": "paper"
         }
        ],
        "height": 500,
        "legend": {
         "title": {
          "text": "Functions and Errors"
         }
        },
        "margin": {
         "b": 50,
         "l": 50,
         "r": 50,
         "t": 60
        },
        "template": {
         "data": {
          "bar": [
           {
            "error_x": {
             "color": "#2a3f5f"
            },
            "error_y": {
             "color": "#2a3f5f"
            },
            "marker": {
             "line": {
              "color": "#E5ECF6",
              "width": 0.5
             }
            },
            "type": "bar"
           }
          ],
          "barpolar": [
           {
            "marker": {
             "line": {
              "color": "#E5ECF6",
              "width": 0.5
             }
            },
            "type": "barpolar"
           }
          ],
          "carpet": [
           {
            "aaxis": {
             "endlinecolor": "#2a3f5f",
             "gridcolor": "white",
             "linecolor": "white",
             "minorgridcolor": "white",
             "startlinecolor": "#2a3f5f"
            },
            "baxis": {
             "endlinecolor": "#2a3f5f",
             "gridcolor": "white",
             "linecolor": "white",
             "minorgridcolor": "white",
             "startlinecolor": "#2a3f5f"
            },
            "type": "carpet"
           }
          ],
          "choropleth": [
           {
            "colorbar": {
             "outlinewidth": 0,
             "ticks": ""
            },
            "type": "choropleth"
           }
          ],
          "contour": [
           {
            "colorbar": {
             "outlinewidth": 0,
             "ticks": ""
            },
            "colorscale": [
             [
              0,
              "#0d0887"
             ],
             [
              0.1111111111111111,
              "#46039f"
             ],
             [
              0.2222222222222222,
              "#7201a8"
             ],
             [
              0.3333333333333333,
              "#9c179e"
             ],
             [
              0.4444444444444444,
              "#bd3786"
             ],
             [
              0.5555555555555556,
              "#d8576b"
             ],
             [
              0.6666666666666666,
              "#ed7953"
             ],
             [
              0.7777777777777778,
              "#fb9f3a"
             ],
             [
              0.8888888888888888,
              "#fdca26"
             ],
             [
              1,
              "#f0f921"
             ]
            ],
            "type": "contour"
           }
          ],
          "contourcarpet": [
           {
            "colorbar": {
             "outlinewidth": 0,
             "ticks": ""
            },
            "type": "contourcarpet"
           }
          ],
          "heatmap": [
           {
            "colorbar": {
             "outlinewidth": 0,
             "ticks": ""
            },
            "colorscale": [
             [
              0,
              "#0d0887"
             ],
             [
              0.1111111111111111,
              "#46039f"
             ],
             [
              0.2222222222222222,
              "#7201a8"
             ],
             [
              0.3333333333333333,
              "#9c179e"
             ],
             [
              0.4444444444444444,
              "#bd3786"
             ],
             [
              0.5555555555555556,
              "#d8576b"
             ],
             [
              0.6666666666666666,
              "#ed7953"
             ],
             [
              0.7777777777777778,
              "#fb9f3a"
             ],
             [
              0.8888888888888888,
              "#fdca26"
             ],
             [
              1,
              "#f0f921"
             ]
            ],
            "type": "heatmap"
           }
          ],
          "heatmapgl": [
           {
            "colorbar": {
             "outlinewidth": 0,
             "ticks": ""
            },
            "colorscale": [
             [
              0,
              "#0d0887"
             ],
             [
              0.1111111111111111,
              "#46039f"
             ],
             [
              0.2222222222222222,
              "#7201a8"
             ],
             [
              0.3333333333333333,
              "#9c179e"
             ],
             [
              0.4444444444444444,
              "#bd3786"
             ],
             [
              0.5555555555555556,
              "#d8576b"
             ],
             [
              0.6666666666666666,
              "#ed7953"
             ],
             [
              0.7777777777777778,
              "#fb9f3a"
             ],
             [
              0.8888888888888888,
              "#fdca26"
             ],
             [
              1,
              "#f0f921"
             ]
            ],
            "type": "heatmapgl"
           }
          ],
          "histogram": [
           {
            "marker": {
             "colorbar": {
              "outlinewidth": 0,
              "ticks": ""
             }
            },
            "type": "histogram"
           }
          ],
          "histogram2d": [
           {
            "colorbar": {
             "outlinewidth": 0,
             "ticks": ""
            },
            "colorscale": [
             [
              0,
              "#0d0887"
             ],
             [
              0.1111111111111111,
              "#46039f"
             ],
             [
              0.2222222222222222,
              "#7201a8"
             ],
             [
              0.3333333333333333,
              "#9c179e"
             ],
             [
              0.4444444444444444,
              "#bd3786"
             ],
             [
              0.5555555555555556,
              "#d8576b"
             ],
             [
              0.6666666666666666,
              "#ed7953"
             ],
             [
              0.7777777777777778,
              "#fb9f3a"
             ],
             [
              0.8888888888888888,
              "#fdca26"
             ],
             [
              1,
              "#f0f921"
             ]
            ],
            "type": "histogram2d"
           }
          ],
          "histogram2dcontour": [
           {
            "colorbar": {
             "outlinewidth": 0,
             "ticks": ""
            },
            "colorscale": [
             [
              0,
              "#0d0887"
             ],
             [
              0.1111111111111111,
              "#46039f"
             ],
             [
              0.2222222222222222,
              "#7201a8"
             ],
             [
              0.3333333333333333,
              "#9c179e"
             ],
             [
              0.4444444444444444,
              "#bd3786"
             ],
             [
              0.5555555555555556,
              "#d8576b"
             ],
             [
              0.6666666666666666,
              "#ed7953"
             ],
             [
              0.7777777777777778,
              "#fb9f3a"
             ],
             [
              0.8888888888888888,
              "#fdca26"
             ],
             [
              1,
              "#f0f921"
             ]
            ],
            "type": "histogram2dcontour"
           }
          ],
          "mesh3d": [
           {
            "colorbar": {
             "outlinewidth": 0,
             "ticks": ""
            },
            "type": "mesh3d"
           }
          ],
          "parcoords": [
           {
            "line": {
             "colorbar": {
              "outlinewidth": 0,
              "ticks": ""
             }
            },
            "type": "parcoords"
           }
          ],
          "pie": [
           {
            "automargin": true,
            "type": "pie"
           }
          ],
          "scatter": [
           {
            "marker": {
             "colorbar": {
              "outlinewidth": 0,
              "ticks": ""
             }
            },
            "type": "scatter"
           }
          ],
          "scatter3d": [
           {
            "line": {
             "colorbar": {
              "outlinewidth": 0,
              "ticks": ""
             }
            },
            "marker": {
             "colorbar": {
              "outlinewidth": 0,
              "ticks": ""
             }
            },
            "type": "scatter3d"
           }
          ],
          "scattercarpet": [
           {
            "marker": {
             "colorbar": {
              "outlinewidth": 0,
              "ticks": ""
             }
            },
            "type": "scattercarpet"
           }
          ],
          "scattergeo": [
           {
            "marker": {
             "colorbar": {
              "outlinewidth": 0,
              "ticks": ""
             }
            },
            "type": "scattergeo"
           }
          ],
          "scattergl": [
           {
            "marker": {
             "colorbar": {
              "outlinewidth": 0,
              "ticks": ""
             }
            },
            "type": "scattergl"
           }
          ],
          "scattermapbox": [
           {
            "marker": {
             "colorbar": {
              "outlinewidth": 0,
              "ticks": ""
             }
            },
            "type": "scattermapbox"
           }
          ],
          "scatterpolar": [
           {
            "marker": {
             "colorbar": {
              "outlinewidth": 0,
              "ticks": ""
             }
            },
            "type": "scatterpolar"
           }
          ],
          "scatterpolargl": [
           {
            "marker": {
             "colorbar": {
              "outlinewidth": 0,
              "ticks": ""
             }
            },
            "type": "scatterpolargl"
           }
          ],
          "scatterternary": [
           {
            "marker": {
             "colorbar": {
              "outlinewidth": 0,
              "ticks": ""
             }
            },
            "type": "scatterternary"
           }
          ],
          "surface": [
           {
            "colorbar": {
             "outlinewidth": 0,
             "ticks": ""
            },
            "colorscale": [
             [
              0,
              "#0d0887"
             ],
             [
              0.1111111111111111,
              "#46039f"
             ],
             [
              0.2222222222222222,
              "#7201a8"
             ],
             [
              0.3333333333333333,
              "#9c179e"
             ],
             [
              0.4444444444444444,
              "#bd3786"
             ],
             [
              0.5555555555555556,
              "#d8576b"
             ],
             [
              0.6666666666666666,
              "#ed7953"
             ],
             [
              0.7777777777777778,
              "#fb9f3a"
             ],
             [
              0.8888888888888888,
              "#fdca26"
             ],
             [
              1,
              "#f0f921"
             ]
            ],
            "type": "surface"
           }
          ],
          "table": [
           {
            "cells": {
             "fill": {
              "color": "#EBF0F8"
             },
             "line": {
              "color": "white"
             }
            },
            "header": {
             "fill": {
              "color": "#C8D4E3"
             },
             "line": {
              "color": "white"
             }
            },
            "type": "table"
           }
          ]
         },
         "layout": {
          "annotationdefaults": {
           "arrowcolor": "#2a3f5f",
           "arrowhead": 0,
           "arrowwidth": 1
          },
          "autotypenumbers": "strict",
          "coloraxis": {
           "colorbar": {
            "outlinewidth": 0,
            "ticks": ""
           }
          },
          "colorscale": {
           "diverging": [
            [
             0,
             "#8e0152"
            ],
            [
             0.1,
             "#c51b7d"
            ],
            [
             0.2,
             "#de77ae"
            ],
            [
             0.3,
             "#f1b6da"
            ],
            [
             0.4,
             "#fde0ef"
            ],
            [
             0.5,
             "#f7f7f7"
            ],
            [
             0.6,
             "#e6f5d0"
            ],
            [
             0.7,
             "#b8e186"
            ],
            [
             0.8,
             "#7fbc41"
            ],
            [
             0.9,
             "#4d9221"
            ],
            [
             1,
             "#276419"
            ]
           ],
           "sequential": [
            [
             0,
             "#0d0887"
            ],
            [
             0.1111111111111111,
             "#46039f"
            ],
            [
             0.2222222222222222,
             "#7201a8"
            ],
            [
             0.3333333333333333,
             "#9c179e"
            ],
            [
             0.4444444444444444,
             "#bd3786"
            ],
            [
             0.5555555555555556,
             "#d8576b"
            ],
            [
             0.6666666666666666,
             "#ed7953"
            ],
            [
             0.7777777777777778,
             "#fb9f3a"
            ],
            [
             0.8888888888888888,
             "#fdca26"
            ],
            [
             1,
             "#f0f921"
            ]
           ],
           "sequentialminus": [
            [
             0,
             "#0d0887"
            ],
            [
             0.1111111111111111,
             "#46039f"
            ],
            [
             0.2222222222222222,
             "#7201a8"
            ],
            [
             0.3333333333333333,
             "#9c179e"
            ],
            [
             0.4444444444444444,
             "#bd3786"
            ],
            [
             0.5555555555555556,
             "#d8576b"
            ],
            [
             0.6666666666666666,
             "#ed7953"
            ],
            [
             0.7777777777777778,
             "#fb9f3a"
            ],
            [
             0.8888888888888888,
             "#fdca26"
            ],
            [
             1,
             "#f0f921"
            ]
           ]
          },
          "colorway": [
           "#636efa",
           "#EF553B",
           "#00cc96",
           "#ab63fa",
           "#FFA15A",
           "#19d3f3",
           "#FF6692",
           "#B6E880",
           "#FF97FF",
           "#FECB52"
          ],
          "font": {
           "color": "#2a3f5f"
          },
          "geo": {
           "bgcolor": "white",
           "lakecolor": "white",
           "landcolor": "#E5ECF6",
           "showlakes": true,
           "showland": true,
           "subunitcolor": "white"
          },
          "hoverlabel": {
           "align": "left"
          },
          "hovermode": "closest",
          "mapbox": {
           "style": "light"
          },
          "paper_bgcolor": "white",
          "plot_bgcolor": "#E5ECF6",
          "polar": {
           "angularaxis": {
            "gridcolor": "white",
            "linecolor": "white",
            "ticks": ""
           },
           "bgcolor": "#E5ECF6",
           "radialaxis": {
            "gridcolor": "white",
            "linecolor": "white",
            "ticks": ""
           }
          },
          "scene": {
           "xaxis": {
            "backgroundcolor": "#E5ECF6",
            "gridcolor": "white",
            "gridwidth": 2,
            "linecolor": "white",
            "showbackground": true,
            "ticks": "",
            "zerolinecolor": "white"
           },
           "yaxis": {
            "backgroundcolor": "#E5ECF6",
            "gridcolor": "white",
            "gridwidth": 2,
            "linecolor": "white",
            "showbackground": true,
            "ticks": "",
            "zerolinecolor": "white"
           },
           "zaxis": {
            "backgroundcolor": "#E5ECF6",
            "gridcolor": "white",
            "gridwidth": 2,
            "linecolor": "white",
            "showbackground": true,
            "ticks": "",
            "zerolinecolor": "white"
           }
          },
          "shapedefaults": {
           "line": {
            "color": "#2a3f5f"
           }
          },
          "ternary": {
           "aaxis": {
            "gridcolor": "white",
            "linecolor": "white",
            "ticks": ""
           },
           "baxis": {
            "gridcolor": "white",
            "linecolor": "white",
            "ticks": ""
           },
           "bgcolor": "#E5ECF6",
           "caxis": {
            "gridcolor": "white",
            "linecolor": "white",
            "ticks": ""
           }
          },
          "title": {
           "x": 0.05
          },
          "xaxis": {
           "automargin": true,
           "gridcolor": "white",
           "linecolor": "white",
           "ticks": "",
           "title": {
            "standoff": 15
           },
           "zerolinecolor": "white",
           "zerolinewidth": 2
          },
          "yaxis": {
           "automargin": true,
           "gridcolor": "white",
           "linecolor": "white",
           "ticks": "",
           "title": {
            "standoff": 15
           },
           "zerolinecolor": "white",
           "zerolinewidth": 2
          }
         }
        },
        "width": 1150,
        "xaxis1": {
         "anchor": "y1",
         "domain": [
          0,
          0.45
         ],
         "title": {
          "text": "x"
         }
        },
        "xaxis2": {
         "anchor": "y2",
         "domain": [
          0.55,
          1
         ],
         "title": {
          "text": "x"
         }
        },
        "xaxis3": {
         "anchor": "y3",
         "domain": [
          0,
          0.45
         ],
         "title": {
          "text": "x"
         }
        },
        "xaxis4": {
         "anchor": "y4",
         "domain": [
          0.55,
          1
         ],
         "title": {
          "text": "x"
         }
        },
        "yaxis1": {
         "anchor": "x1",
         "domain": [
          0.6375,
          1
         ],
         "title": {
          "text": "u"
         }
        },
        "yaxis2": {
         "anchor": "x2",
         "domain": [
          0.6375,
          1
         ],
         "title": {
          "text": ""
         }
        },
        "yaxis3": {
         "anchor": "x3",
         "domain": [
          5.551115123125783e-17,
          0.36250000000000004
         ],
         "title": {
          "text": "Ɛ"
         }
        },
        "yaxis4": {
         "anchor": "x4",
         "domain": [
          5.551115123125783e-17,
          0.36250000000000004
         ],
         "title": {
          "text": "Ɛrel %"
         }
        }
       }
      },
      "text/html": [
       "<div\n",
       "    class=\"webio-mountpoint\"\n",
       "    data-webio-mountpoint=\"14276699137061381605\"\n",
       ">\n",
       "    <script>\n",
       "    (function(){\n",
       "    // Some integrations (namely, IJulia/Jupyter) use an alternate render pathway than\n",
       "    // just putting the html on the page. If WebIO isn't defined, then it's pretty likely\n",
       "    // that we're in one of those situations and the integration just isn't installed\n",
       "    // correctly.\n",
       "    if (typeof window.WebIO === \"undefined\") {\n",
       "        document\n",
       "            .querySelector('[data-webio-mountpoint=\"14276699137061381605\"]')\n",
       "            .innerHTML = (\n",
       "                '<div style=\"padding: 1em; background-color: #f8d6da; border: 1px solid #f5c6cb; font-weight: bold;\">' +\n",
       "                '<p><strong>WebIO not detected.</strong></p>' +\n",
       "                '<p>Please read ' +\n",
       "                '<a href=\"https://juliagizmos.github.io/WebIO.jl/latest/troubleshooting/not-detected/\" target=\"_blank\">the troubleshooting guide</a> ' +\n",
       "                'for more information on how to resolve this issue.</p>' +\n",
       "                '<p><a href=\"https://juliagizmos.github.io/WebIO.jl/latest/troubleshooting/not-detected/\" target=\"_blank\">https://juliagizmos.github.io/WebIO.jl/latest/troubleshooting/not-detected/</a></p>' +\n",
       "                '</div>'\n",
       "            );\n",
       "        return;\n",
       "    }\n",
       "    WebIO.mount(\n",
       "        document.querySelector('[data-webio-mountpoint=\"14276699137061381605\"]'),\n",
       "        {\"props\":{},\"nodeType\":\"Scope\",\"type\":\"node\",\"instanceArgs\":{\"imports\":{\"data\":[{\"name\":\"Plotly\",\"type\":\"js\",\"url\":\"\\/assetserver\\/829791e6ff21fc5c4b60e5df299f439365241070-plotly.min.js\"},{\"name\":null,\"type\":\"js\",\"url\":\"\\/assetserver\\/823f3c894aa43f38c72113b9d92345d26ad2b09b-plotly_webio.bundle.js\"}],\"type\":\"async_block\"},\"id\":\"10283586040901355382\",\"handlers\":{\"_toImage\":[\"(function (options){return this.Plotly.toImage(this.plotElem,options).then((function (data){return WebIO.setval({\\\"name\\\":\\\"image\\\",\\\"scope\\\":\\\"10283586040901355382\\\",\\\"id\\\":\\\"16366860080578323049\\\",\\\"type\\\":\\\"observable\\\"},data)}))})\"],\"__get_gd_contents\":[\"(function (prop){prop==\\\"data\\\" ? (WebIO.setval({\\\"name\\\":\\\"__gd_contents\\\",\\\"scope\\\":\\\"10283586040901355382\\\",\\\"id\\\":\\\"11183904067469001441\\\",\\\"type\\\":\\\"observable\\\"},this.plotElem.data)) : undefined; return prop==\\\"layout\\\" ? (WebIO.setval({\\\"name\\\":\\\"__gd_contents\\\",\\\"scope\\\":\\\"10283586040901355382\\\",\\\"id\\\":\\\"11183904067469001441\\\",\\\"type\\\":\\\"observable\\\"},this.plotElem.layout)) : undefined})\"],\"_downloadImage\":[\"(function (options){return this.Plotly.downloadImage(this.plotElem,options)})\"],\"_commands\":[\"(function (args){var fn=args.shift(); var elem=this.plotElem; var Plotly=this.Plotly; args.unshift(elem); return Plotly[fn].apply(this,args)})\"]},\"systemjs_options\":null,\"mount_callbacks\":[\"function () {\\n    var handler = ((function (Plotly,PlotlyWebIO){PlotlyWebIO.init(WebIO); var gd=this.dom.querySelector(\\\"#plot-42c171df-81f0-417d-93a4-0d53731556bd\\\"); this.plotElem=gd; this.Plotly=Plotly; (window.Blink!==undefined) ? (gd.style.width=\\\"100%\\\", gd.style.height=\\\"100vh\\\", gd.style.marginLeft=\\\"0%\\\", gd.style.marginTop=\\\"0vh\\\") : undefined; window.onresize=(function (){return Plotly.Plots.resize(gd)}); Plotly.newPlot(gd,[{\\\"x\\\":[0.0,0.1,0.2,0.3,0.4,0.5,0.6,0.7,0.8,0.9,1.0],\\\"mode\\\":\\\"lines\\\",\\\"xaxis\\\":\\\"x1\\\",\\\"marker\\\":{\\\"color\\\":\\\"LightBlue\\\"},\\\"y\\\":[0.0,-0.15048549954248736,-0.2894757282734901,-0.41558194177158936,-0.5275441284366844,-0.6242435991093955,-0.7047141646433566,-0.7681517897477845,-0.8139226266423263,-0.8415693482545596,-0.8508157176809257],\\\"type\\\":\\\"scatter\\\",\\\"name\\\":\\\"U exact\\\",\\\"yaxis\\\":\\\"y1\\\",\\\"legendrank\\\":1},{\\\"marker\\\":{\\\"color\\\":\\\"DarkBlue\\\",\\\"size\\\":8},\\\"mode\\\":\\\"markers\\\",\\\"xaxis\\\":\\\"x1\\\",\\\"y\\\":[0.0,-0.1514026939154668,-0.29018114259173244,-0.41555503947979566,-0.5267440780306549,-0.6229679516953088,-0.7034463539247561,-0.7673989781699952,-0.814045517882025,-0.842605666511844,-0.8522991175104505],\\\"type\\\":\\\"scatter\\\",\\\"name\\\":\\\"u_h\\\",\\\"yaxis\\\":\\\"y1\\\",\\\"x\\\":[0.0,0.1,0.2,0.3,0.4,0.5,0.6,0.7,0.8,0.9,1.0]},{\\\"marker\\\":{\\\"color\\\":\\\"red\\\",\\\"size\\\":8},\\\"mode\\\":\\\"markers\\\",\\\"xaxis\\\":\\\"x2\\\",\\\"y\\\":[-1.5745471435206688,-1.4522062238736646,-1.3220622387366465,-1.1841151881096144,-1.0383650719925686,-0.8848118903855086,-0.7234556432884347,-0.5542963307013471,-0.3773339526242452,-0.19256850905712955,0.0],\\\"type\\\":\\\"scatter\\\",\\\"name\\\":\\\"u'_h\\\",\\\"yaxis\\\":\\\"y2\\\",\\\"x\\\":[0.0,0.1,0.2,0.3,0.4,0.5,0.6,0.7,0.8,0.9,1.0]},{\\\"marker\\\":{\\\"color\\\":\\\"green\\\",\\\"size\\\":8},\\\"mode\\\":\\\"markers\\\",\\\"xaxis\\\":\\\"x2\\\",\\\"y\\\":[1.184393869019972,1.2624245239201113,1.3404551788202506,1.41848583372039,1.4965164886205293,1.5745471435206688,1.652577798420808,1.7306084533209474,1.8086391082210869,1.8866697631212261,1.9647004180213656],\\\"type\\\":\\\"scatter\\\",\\\"name\\\":\\\"u''_h\\\",\\\"yaxis\\\":\\\"y2\\\",\\\"x\\\":[0.0,0.1,0.2,0.3,0.4,0.5,0.6,0.7,0.8,0.9,1.0]},{\\\"x\\\":[0.0,0.1,0.2,0.3,0.4,0.5,0.6,0.7,0.8,0.9,1.0],\\\"mode\\\":\\\"lines\\\",\\\"xaxis\\\":\\\"x2\\\",\\\"marker\\\":{\\\"color\\\":\\\"DarkRed\\\",\\\"size\\\":8},\\\"y\\\":[-1.5574077246549023,-1.4497937564209724,-1.3276939282109836,-1.1923282211475732,-1.0450491646297653,-0.8873283223063024,-0.7207415886981013,-0.546953443381123,-0.3677003200566503,-0.18477325667973798,-1.1102230246251565e-16],\\\"type\\\":\\\"scatter\\\",\\\"name\\\":\\\"u' exact\\\",\\\"yaxis\\\":\\\"y2\\\",\\\"legendrank\\\":2},{\\\"x\\\":[0.0,0.1,0.2,0.3,0.4,0.5,0.6,0.7,0.8,0.9,1.0],\\\"mode\\\":\\\"lines\\\",\\\"xaxis\\\":\\\"x2\\\",\\\"marker\\\":{\\\"color\\\":\\\"DarkGreen\\\",\\\"size\\\":8},\\\"y\\\":[1.0,1.1504854995424874,1.28947572827349,1.4155819417715894,1.5275441284366844,1.6242435991093955,1.7047141646433566,1.7681517897477845,1.8139226266423263,1.8415693482545596,1.8508157176809257],\\\"type\\\":\\\"scatter\\\",\\\"name\\\":\\\"u'' exact\\\",\\\"yaxis\\\":\\\"y2\\\",\\\"legendrank\\\":3},{\\\"mode\\\":\\\"markers+lines\\\",\\\"xaxis\\\":\\\"x3\\\",\\\"y\\\":[0.184393869019972,0.1110218300046446,0.050274036228518115,0.002930794240594281,-0.0302275894101256,-0.048420808174640007,-0.050868555503947976,-0.03679052484904788,-0.005406409660938083,0.04406409660938215,0.11240130051091501],\\\"type\\\":\\\"scatter\\\",\\\"name\\\":\\\"Ɛ error\\\",\\\"yaxis\\\":\\\"y3\\\",\\\"x\\\":[0.0,0.1,0.2,0.3,0.4,0.5,0.6,0.7,0.8,0.9,1.0]},{\\\"marker\\\":{\\\"color\\\":\\\"DarkSlateBlue\\\"},\\\"mode\\\":\\\"markers+lines\\\",\\\"xaxis\\\":\\\"x4\\\",\\\"y\\\":[null,0.0060949020056279835,0.002436868619174445,6.473402496512125e-5,0.0015165563654368414,0.002043509001784974,0.0017990424802119729,0.0009800297126645497,0.0001509863906912463,0.0012314115995713205,0.0017435030861537764],\\\"type\\\":\\\"scatter\\\",\\\"name\\\":\\\"Ɛrel uh\\\",\\\"yaxis\\\":\\\"y4\\\",\\\"x\\\":[0.0,0.1,0.2,0.3,0.4,0.5,0.6,0.7,0.8,0.9,1.0]},{\\\"marker\\\":{\\\"color\\\":\\\"IndianRed\\\"},\\\"mode\\\":\\\"markers+lines\\\",\\\"xaxis\\\":\\\"x4\\\",\\\"y\\\":[1.100509429511425,0.16640073403597205,0.4241707636582781,0.688823169014157,0.6395959982959004,0.283596483684109,0.37656417124976,1.3425068274243488,2.6199685020972083,4.218820687293966,0.0],\\\"type\\\":\\\"scatter\\\",\\\"name\\\":\\\"Ɛrel u'h\\\",\\\"yaxis\\\":\\\"y4\\\",\\\"x\\\":[0.0,0.1,0.2,0.3,0.4,0.5,0.6,0.7,0.8,0.9,1.0]},{\\\"marker\\\":{\\\"color\\\":\\\"SeaGreen\\\"},\\\"mode\\\":\\\"markers+lines\\\",\\\"xaxis\\\":\\\"x4\\\",\\\"y\\\":[18.439386901997203,9.729720576412188,3.9535021426900414,0.2051376796433627,2.0312107021032064,3.0596676271943597,3.05836411193638,2.123309584874072,0.2912758429514445,2.4490207175424965,6.153216619704183],\\\"type\\\":\\\"scatter\\\",\\\"name\\\":\\\"Ɛrel u''h\\\",\\\"yaxis\\\":\\\"y4\\\",\\\"x\\\":[0.0,0.1,0.2,0.3,0.4,0.5,0.6,0.7,0.8,0.9,1.0]}],{\\\"xaxis1\\\":{\\\"title\\\":{\\\"text\\\":\\\"x\\\"},\\\"domain\\\":[0.0,0.45],\\\"anchor\\\":\\\"y1\\\"},\\\"template\\\":{\\\"layout\\\":{\\\"coloraxis\\\":{\\\"colorbar\\\":{\\\"ticks\\\":\\\"\\\",\\\"outlinewidth\\\":0}},\\\"xaxis\\\":{\\\"gridcolor\\\":\\\"white\\\",\\\"zerolinewidth\\\":2,\\\"title\\\":{\\\"standoff\\\":15},\\\"ticks\\\":\\\"\\\",\\\"zerolinecolor\\\":\\\"white\\\",\\\"automargin\\\":true,\\\"linecolor\\\":\\\"white\\\"},\\\"hovermode\\\":\\\"closest\\\",\\\"paper_bgcolor\\\":\\\"white\\\",\\\"geo\\\":{\\\"showlakes\\\":true,\\\"showland\\\":true,\\\"landcolor\\\":\\\"#E5ECF6\\\",\\\"bgcolor\\\":\\\"white\\\",\\\"subunitcolor\\\":\\\"white\\\",\\\"lakecolor\\\":\\\"white\\\"},\\\"colorscale\\\":{\\\"sequential\\\":[[0.0,\\\"#0d0887\\\"],[0.1111111111111111,\\\"#46039f\\\"],[0.2222222222222222,\\\"#7201a8\\\"],[0.3333333333333333,\\\"#9c179e\\\"],[0.4444444444444444,\\\"#bd3786\\\"],[0.5555555555555556,\\\"#d8576b\\\"],[0.6666666666666666,\\\"#ed7953\\\"],[0.7777777777777778,\\\"#fb9f3a\\\"],[0.8888888888888888,\\\"#fdca26\\\"],[1.0,\\\"#f0f921\\\"]],\\\"diverging\\\":[[0,\\\"#8e0152\\\"],[0.1,\\\"#c51b7d\\\"],[0.2,\\\"#de77ae\\\"],[0.3,\\\"#f1b6da\\\"],[0.4,\\\"#fde0ef\\\"],[0.5,\\\"#f7f7f7\\\"],[0.6,\\\"#e6f5d0\\\"],[0.7,\\\"#b8e186\\\"],[0.8,\\\"#7fbc41\\\"],[0.9,\\\"#4d9221\\\"],[1,\\\"#276419\\\"]],\\\"sequentialminus\\\":[[0.0,\\\"#0d0887\\\"],[0.1111111111111111,\\\"#46039f\\\"],[0.2222222222222222,\\\"#7201a8\\\"],[0.3333333333333333,\\\"#9c179e\\\"],[0.4444444444444444,\\\"#bd3786\\\"],[0.5555555555555556,\\\"#d8576b\\\"],[0.6666666666666666,\\\"#ed7953\\\"],[0.7777777777777778,\\\"#fb9f3a\\\"],[0.8888888888888888,\\\"#fdca26\\\"],[1.0,\\\"#f0f921\\\"]]},\\\"yaxis\\\":{\\\"gridcolor\\\":\\\"white\\\",\\\"zerolinewidth\\\":2,\\\"title\\\":{\\\"standoff\\\":15},\\\"ticks\\\":\\\"\\\",\\\"zerolinecolor\\\":\\\"white\\\",\\\"automargin\\\":true,\\\"linecolor\\\":\\\"white\\\"},\\\"shapedefaults\\\":{\\\"line\\\":{\\\"color\\\":\\\"#2a3f5f\\\"}},\\\"hoverlabel\\\":{\\\"align\\\":\\\"left\\\"},\\\"mapbox\\\":{\\\"style\\\":\\\"light\\\"},\\\"polar\\\":{\\\"angularaxis\\\":{\\\"gridcolor\\\":\\\"white\\\",\\\"ticks\\\":\\\"\\\",\\\"linecolor\\\":\\\"white\\\"},\\\"bgcolor\\\":\\\"#E5ECF6\\\",\\\"radialaxis\\\":{\\\"gridcolor\\\":\\\"white\\\",\\\"ticks\\\":\\\"\\\",\\\"linecolor\\\":\\\"white\\\"}},\\\"autotypenumbers\\\":\\\"strict\\\",\\\"font\\\":{\\\"color\\\":\\\"#2a3f5f\\\"},\\\"ternary\\\":{\\\"baxis\\\":{\\\"gridcolor\\\":\\\"white\\\",\\\"ticks\\\":\\\"\\\",\\\"linecolor\\\":\\\"white\\\"},\\\"bgcolor\\\":\\\"#E5ECF6\\\",\\\"caxis\\\":{\\\"gridcolor\\\":\\\"white\\\",\\\"ticks\\\":\\\"\\\",\\\"linecolor\\\":\\\"white\\\"},\\\"aaxis\\\":{\\\"gridcolor\\\":\\\"white\\\",\\\"ticks\\\":\\\"\\\",\\\"linecolor\\\":\\\"white\\\"}},\\\"annotationdefaults\\\":{\\\"arrowhead\\\":0,\\\"arrowwidth\\\":1,\\\"arrowcolor\\\":\\\"#2a3f5f\\\"},\\\"plot_bgcolor\\\":\\\"#E5ECF6\\\",\\\"title\\\":{\\\"x\\\":0.05},\\\"scene\\\":{\\\"xaxis\\\":{\\\"gridcolor\\\":\\\"white\\\",\\\"gridwidth\\\":2,\\\"backgroundcolor\\\":\\\"#E5ECF6\\\",\\\"ticks\\\":\\\"\\\",\\\"showbackground\\\":true,\\\"zerolinecolor\\\":\\\"white\\\",\\\"linecolor\\\":\\\"white\\\"},\\\"zaxis\\\":{\\\"gridcolor\\\":\\\"white\\\",\\\"gridwidth\\\":2,\\\"backgroundcolor\\\":\\\"#E5ECF6\\\",\\\"ticks\\\":\\\"\\\",\\\"showbackground\\\":true,\\\"zerolinecolor\\\":\\\"white\\\",\\\"linecolor\\\":\\\"white\\\"},\\\"yaxis\\\":{\\\"gridcolor\\\":\\\"white\\\",\\\"gridwidth\\\":2,\\\"backgroundcolor\\\":\\\"#E5ECF6\\\",\\\"ticks\\\":\\\"\\\",\\\"showbackground\\\":true,\\\"zerolinecolor\\\":\\\"white\\\",\\\"linecolor\\\":\\\"white\\\"}},\\\"colorway\\\":[\\\"#636efa\\\",\\\"#EF553B\\\",\\\"#00cc96\\\",\\\"#ab63fa\\\",\\\"#FFA15A\\\",\\\"#19d3f3\\\",\\\"#FF6692\\\",\\\"#B6E880\\\",\\\"#FF97FF\\\",\\\"#FECB52\\\"]},\\\"data\\\":{\\\"barpolar\\\":[{\\\"type\\\":\\\"barpolar\\\",\\\"marker\\\":{\\\"line\\\":{\\\"color\\\":\\\"#E5ECF6\\\",\\\"width\\\":0.5}}}],\\\"carpet\\\":[{\\\"aaxis\\\":{\\\"gridcolor\\\":\\\"white\\\",\\\"endlinecolor\\\":\\\"#2a3f5f\\\",\\\"minorgridcolor\\\":\\\"white\\\",\\\"startlinecolor\\\":\\\"#2a3f5f\\\",\\\"linecolor\\\":\\\"white\\\"},\\\"type\\\":\\\"carpet\\\",\\\"baxis\\\":{\\\"gridcolor\\\":\\\"white\\\",\\\"endlinecolor\\\":\\\"#2a3f5f\\\",\\\"minorgridcolor\\\":\\\"white\\\",\\\"startlinecolor\\\":\\\"#2a3f5f\\\",\\\"linecolor\\\":\\\"white\\\"}}],\\\"scatterpolar\\\":[{\\\"type\\\":\\\"scatterpolar\\\",\\\"marker\\\":{\\\"colorbar\\\":{\\\"ticks\\\":\\\"\\\",\\\"outlinewidth\\\":0}}}],\\\"parcoords\\\":[{\\\"line\\\":{\\\"colorbar\\\":{\\\"ticks\\\":\\\"\\\",\\\"outlinewidth\\\":0}},\\\"type\\\":\\\"parcoords\\\"}],\\\"scatter\\\":[{\\\"type\\\":\\\"scatter\\\",\\\"marker\\\":{\\\"colorbar\\\":{\\\"ticks\\\":\\\"\\\",\\\"outlinewidth\\\":0}}}],\\\"histogram2dcontour\\\":[{\\\"colorbar\\\":{\\\"ticks\\\":\\\"\\\",\\\"outlinewidth\\\":0},\\\"type\\\":\\\"histogram2dcontour\\\",\\\"colorscale\\\":[[0.0,\\\"#0d0887\\\"],[0.1111111111111111,\\\"#46039f\\\"],[0.2222222222222222,\\\"#7201a8\\\"],[0.3333333333333333,\\\"#9c179e\\\"],[0.4444444444444444,\\\"#bd3786\\\"],[0.5555555555555556,\\\"#d8576b\\\"],[0.6666666666666666,\\\"#ed7953\\\"],[0.7777777777777778,\\\"#fb9f3a\\\"],[0.8888888888888888,\\\"#fdca26\\\"],[1.0,\\\"#f0f921\\\"]]}],\\\"contour\\\":[{\\\"colorbar\\\":{\\\"ticks\\\":\\\"\\\",\\\"outlinewidth\\\":0},\\\"type\\\":\\\"contour\\\",\\\"colorscale\\\":[[0.0,\\\"#0d0887\\\"],[0.1111111111111111,\\\"#46039f\\\"],[0.2222222222222222,\\\"#7201a8\\\"],[0.3333333333333333,\\\"#9c179e\\\"],[0.4444444444444444,\\\"#bd3786\\\"],[0.5555555555555556,\\\"#d8576b\\\"],[0.6666666666666666,\\\"#ed7953\\\"],[0.7777777777777778,\\\"#fb9f3a\\\"],[0.8888888888888888,\\\"#fdca26\\\"],[1.0,\\\"#f0f921\\\"]]}],\\\"scattercarpet\\\":[{\\\"type\\\":\\\"scattercarpet\\\",\\\"marker\\\":{\\\"colorbar\\\":{\\\"ticks\\\":\\\"\\\",\\\"outlinewidth\\\":0}}}],\\\"mesh3d\\\":[{\\\"colorbar\\\":{\\\"ticks\\\":\\\"\\\",\\\"outlinewidth\\\":0},\\\"type\\\":\\\"mesh3d\\\"}],\\\"surface\\\":[{\\\"colorbar\\\":{\\\"ticks\\\":\\\"\\\",\\\"outlinewidth\\\":0},\\\"type\\\":\\\"surface\\\",\\\"colorscale\\\":[[0.0,\\\"#0d0887\\\"],[0.1111111111111111,\\\"#46039f\\\"],[0.2222222222222222,\\\"#7201a8\\\"],[0.3333333333333333,\\\"#9c179e\\\"],[0.4444444444444444,\\\"#bd3786\\\"],[0.5555555555555556,\\\"#d8576b\\\"],[0.6666666666666666,\\\"#ed7953\\\"],[0.7777777777777778,\\\"#fb9f3a\\\"],[0.8888888888888888,\\\"#fdca26\\\"],[1.0,\\\"#f0f921\\\"]]}],\\\"scattermapbox\\\":[{\\\"type\\\":\\\"scattermapbox\\\",\\\"marker\\\":{\\\"colorbar\\\":{\\\"ticks\\\":\\\"\\\",\\\"outlinewidth\\\":0}}}],\\\"scattergeo\\\":[{\\\"type\\\":\\\"scattergeo\\\",\\\"marker\\\":{\\\"colorbar\\\":{\\\"ticks\\\":\\\"\\\",\\\"outlinewidth\\\":0}}}],\\\"histogram\\\":[{\\\"type\\\":\\\"histogram\\\",\\\"marker\\\":{\\\"colorbar\\\":{\\\"ticks\\\":\\\"\\\",\\\"outlinewidth\\\":0}}}],\\\"pie\\\":[{\\\"type\\\":\\\"pie\\\",\\\"automargin\\\":true}],\\\"choropleth\\\":[{\\\"colorbar\\\":{\\\"ticks\\\":\\\"\\\",\\\"outlinewidth\\\":0},\\\"type\\\":\\\"choropleth\\\"}],\\\"heatmapgl\\\":[{\\\"colorbar\\\":{\\\"ticks\\\":\\\"\\\",\\\"outlinewidth\\\":0},\\\"type\\\":\\\"heatmapgl\\\",\\\"colorscale\\\":[[0.0,\\\"#0d0887\\\"],[0.1111111111111111,\\\"#46039f\\\"],[0.2222222222222222,\\\"#7201a8\\\"],[0.3333333333333333,\\\"#9c179e\\\"],[0.4444444444444444,\\\"#bd3786\\\"],[0.5555555555555556,\\\"#d8576b\\\"],[0.6666666666666666,\\\"#ed7953\\\"],[0.7777777777777778,\\\"#fb9f3a\\\"],[0.8888888888888888,\\\"#fdca26\\\"],[1.0,\\\"#f0f921\\\"]]}],\\\"bar\\\":[{\\\"type\\\":\\\"bar\\\",\\\"error_y\\\":{\\\"color\\\":\\\"#2a3f5f\\\"},\\\"error_x\\\":{\\\"color\\\":\\\"#2a3f5f\\\"},\\\"marker\\\":{\\\"line\\\":{\\\"color\\\":\\\"#E5ECF6\\\",\\\"width\\\":0.5}}}],\\\"heatmap\\\":[{\\\"colorbar\\\":{\\\"ticks\\\":\\\"\\\",\\\"outlinewidth\\\":0},\\\"type\\\":\\\"heatmap\\\",\\\"colorscale\\\":[[0.0,\\\"#0d0887\\\"],[0.1111111111111111,\\\"#46039f\\\"],[0.2222222222222222,\\\"#7201a8\\\"],[0.3333333333333333,\\\"#9c179e\\\"],[0.4444444444444444,\\\"#bd3786\\\"],[0.5555555555555556,\\\"#d8576b\\\"],[0.6666666666666666,\\\"#ed7953\\\"],[0.7777777777777778,\\\"#fb9f3a\\\"],[0.8888888888888888,\\\"#fdca26\\\"],[1.0,\\\"#f0f921\\\"]]}],\\\"contourcarpet\\\":[{\\\"colorbar\\\":{\\\"ticks\\\":\\\"\\\",\\\"outlinewidth\\\":0},\\\"type\\\":\\\"contourcarpet\\\"}],\\\"table\\\":[{\\\"type\\\":\\\"table\\\",\\\"header\\\":{\\\"line\\\":{\\\"color\\\":\\\"white\\\"},\\\"fill\\\":{\\\"color\\\":\\\"#C8D4E3\\\"}},\\\"cells\\\":{\\\"line\\\":{\\\"color\\\":\\\"white\\\"},\\\"fill\\\":{\\\"color\\\":\\\"#EBF0F8\\\"}}}],\\\"scatter3d\\\":[{\\\"line\\\":{\\\"colorbar\\\":{\\\"ticks\\\":\\\"\\\",\\\"outlinewidth\\\":0}},\\\"type\\\":\\\"scatter3d\\\",\\\"marker\\\":{\\\"colorbar\\\":{\\\"ticks\\\":\\\"\\\",\\\"outlinewidth\\\":0}}}],\\\"scattergl\\\":[{\\\"type\\\":\\\"scattergl\\\",\\\"marker\\\":{\\\"colorbar\\\":{\\\"ticks\\\":\\\"\\\",\\\"outlinewidth\\\":0}}}],\\\"histogram2d\\\":[{\\\"colorbar\\\":{\\\"ticks\\\":\\\"\\\",\\\"outlinewidth\\\":0},\\\"type\\\":\\\"histogram2d\\\",\\\"colorscale\\\":[[0.0,\\\"#0d0887\\\"],[0.1111111111111111,\\\"#46039f\\\"],[0.2222222222222222,\\\"#7201a8\\\"],[0.3333333333333333,\\\"#9c179e\\\"],[0.4444444444444444,\\\"#bd3786\\\"],[0.5555555555555556,\\\"#d8576b\\\"],[0.6666666666666666,\\\"#ed7953\\\"],[0.7777777777777778,\\\"#fb9f3a\\\"],[0.8888888888888888,\\\"#fdca26\\\"],[1.0,\\\"#f0f921\\\"]]}],\\\"scatterternary\\\":[{\\\"type\\\":\\\"scatterternary\\\",\\\"marker\\\":{\\\"colorbar\\\":{\\\"ticks\\\":\\\"\\\",\\\"outlinewidth\\\":0}}}],\\\"scatterpolargl\\\":[{\\\"type\\\":\\\"scatterpolargl\\\",\\\"marker\\\":{\\\"colorbar\\\":{\\\"ticks\\\":\\\"\\\",\\\"outlinewidth\\\":0}}}]}},\\\"yaxis4\\\":{\\\"title\\\":{\\\"text\\\":\\\"Ɛrel %\\\"},\\\"domain\\\":[5.551115123125783e-17,0.36250000000000004],\\\"anchor\\\":\\\"x4\\\"},\\\"yaxis3\\\":{\\\"title\\\":{\\\"text\\\":\\\"Ɛ\\\"},\\\"domain\\\":[5.551115123125783e-17,0.36250000000000004],\\\"anchor\\\":\\\"x3\\\"},\\\"yaxis2\\\":{\\\"title\\\":{\\\"text\\\":\\\"\\\"},\\\"domain\\\":[0.6375,1.0],\\\"anchor\\\":\\\"x2\\\"},\\\"xaxis3\\\":{\\\"title\\\":{\\\"text\\\":\\\"x\\\"},\\\"domain\\\":[0.0,0.45],\\\"anchor\\\":\\\"y3\\\"},\\\"xaxis4\\\":{\\\"title\\\":{\\\"text\\\":\\\"x\\\"},\\\"domain\\\":[0.55,1.0],\\\"anchor\\\":\\\"y4\\\"},\\\"yaxis1\\\":{\\\"title\\\":{\\\"text\\\":\\\"u\\\"},\\\"domain\\\":[0.6375,1.0],\\\"anchor\\\":\\\"x1\\\"},\\\"annotations\\\":[{\\\"yanchor\\\":\\\"bottom\\\",\\\"xanchor\\\":\\\"center\\\",\\\"y\\\":1.0,\\\"font\\\":{\\\"size\\\":16},\\\"showarrow\\\":false,\\\"yref\\\":\\\"paper\\\",\\\"text\\\":\\\"Functions\\\",\\\"xref\\\":\\\"paper\\\",\\\"x\\\":0.225},{\\\"yanchor\\\":\\\"bottom\\\",\\\"xanchor\\\":\\\"center\\\",\\\"y\\\":1.0,\\\"font\\\":{\\\"size\\\":16},\\\"showarrow\\\":false,\\\"yref\\\":\\\"paper\\\",\\\"text\\\":\\\"Derivatives\\\",\\\"xref\\\":\\\"paper\\\",\\\"x\\\":0.775},{\\\"yanchor\\\":\\\"bottom\\\",\\\"xanchor\\\":\\\"center\\\",\\\"y\\\":0.36250000000000004,\\\"font\\\":{\\\"size\\\":16},\\\"showarrow\\\":false,\\\"yref\\\":\\\"paper\\\",\\\"text\\\":\\\"Error Ɛ(x)\\\",\\\"xref\\\":\\\"paper\\\",\\\"x\\\":0.225},{\\\"yanchor\\\":\\\"bottom\\\",\\\"xanchor\\\":\\\"center\\\",\\\"y\\\":0.36250000000000004,\\\"font\\\":{\\\"size\\\":16},\\\"showarrow\\\":false,\\\"yref\\\":\\\"paper\\\",\\\"text\\\":\\\"Relative Error \\\",\\\"xref\\\":\\\"paper\\\",\\\"x\\\":0.775}],\\\"xaxis2\\\":{\\\"title\\\":{\\\"text\\\":\\\"x\\\"},\\\"domain\\\":[0.55,1.0],\\\"anchor\\\":\\\"y2\\\"},\\\"margin\\\":{\\\"l\\\":50,\\\"b\\\":50,\\\"r\\\":50,\\\"t\\\":60}},{\\\"showLink\\\":false,\\\"editable\\\":false,\\\"responsive\\\":true,\\\"staticPlot\\\":false,\\\"scrollZoom\\\":true}); gd.on(\\\"plotly_hover\\\",(function (data){var filtered_data=WebIO.PlotlyCommands.filterEventData(gd,data,\\\"hover\\\"); return !(filtered_data.isnil) ? (WebIO.setval({\\\"name\\\":\\\"hover\\\",\\\"scope\\\":\\\"10283586040901355382\\\",\\\"id\\\":\\\"2609234240512636733\\\",\\\"type\\\":\\\"observable\\\"},filtered_data.out)) : undefined})); gd.on(\\\"plotly_unhover\\\",(function (){return WebIO.setval({\\\"name\\\":\\\"hover\\\",\\\"scope\\\":\\\"10283586040901355382\\\",\\\"id\\\":\\\"2609234240512636733\\\",\\\"type\\\":\\\"observable\\\"},{})})); gd.on(\\\"plotly_selected\\\",(function (data){var filtered_data=WebIO.PlotlyCommands.filterEventData(gd,data,\\\"selected\\\"); return !(filtered_data.isnil) ? (WebIO.setval({\\\"name\\\":\\\"selected\\\",\\\"scope\\\":\\\"10283586040901355382\\\",\\\"id\\\":\\\"6295194638300547348\\\",\\\"type\\\":\\\"observable\\\"},filtered_data.out)) : undefined})); gd.on(\\\"plotly_deselect\\\",(function (){return WebIO.setval({\\\"name\\\":\\\"selected\\\",\\\"scope\\\":\\\"10283586040901355382\\\",\\\"id\\\":\\\"6295194638300547348\\\",\\\"type\\\":\\\"observable\\\"},{})})); gd.on(\\\"plotly_relayout\\\",(function (data){var filtered_data=WebIO.PlotlyCommands.filterEventData(gd,data,\\\"relayout\\\"); return !(filtered_data.isnil) ? (WebIO.setval({\\\"name\\\":\\\"relayout\\\",\\\"scope\\\":\\\"10283586040901355382\\\",\\\"id\\\":\\\"5801467252379533886\\\",\\\"type\\\":\\\"observable\\\"},filtered_data.out)) : undefined})); return gd.on(\\\"plotly_click\\\",(function (data){var filtered_data=WebIO.PlotlyCommands.filterEventData(gd,data,\\\"click\\\"); return !(filtered_data.isnil) ? (WebIO.setval({\\\"name\\\":\\\"click\\\",\\\"scope\\\":\\\"10283586040901355382\\\",\\\"id\\\":\\\"10989241596026953256\\\",\\\"type\\\":\\\"observable\\\"},filtered_data.out)) : undefined}))}));\\n    (WebIO.importBlock({\\\"data\\\":[{\\\"name\\\":\\\"Plotly\\\",\\\"type\\\":\\\"js\\\",\\\"url\\\":\\\"\\/assetserver\\/829791e6ff21fc5c4b60e5df299f439365241070-plotly.min.js\\\"},{\\\"name\\\":null,\\\"type\\\":\\\"js\\\",\\\"url\\\":\\\"\\/assetserver\\/823f3c894aa43f38c72113b9d92345d26ad2b09b-plotly_webio.bundle.js\\\"}],\\\"type\\\":\\\"async_block\\\"})).then((imports) => handler.apply(this, imports));\\n}\\n\"],\"observables\":{\"_toImage\":{\"sync\":false,\"id\":\"2555794627450823602\",\"value\":{}},\"hover\":{\"sync\":false,\"id\":\"2609234240512636733\",\"value\":{}},\"selected\":{\"sync\":false,\"id\":\"6295194638300547348\",\"value\":{}},\"__gd_contents\":{\"sync\":false,\"id\":\"11183904067469001441\",\"value\":{}},\"click\":{\"sync\":false,\"id\":\"10989241596026953256\",\"value\":{}},\"image\":{\"sync\":true,\"id\":\"16366860080578323049\",\"value\":\"\"},\"__get_gd_contents\":{\"sync\":false,\"id\":\"7637221964437298924\",\"value\":\"\"},\"_downloadImage\":{\"sync\":false,\"id\":\"13137540779859949091\",\"value\":{}},\"relayout\":{\"sync\":false,\"id\":\"5801467252379533886\",\"value\":{}},\"_commands\":{\"sync\":false,\"id\":\"16981610599755840291\",\"value\":[\"update\",{},{\"template\":{\"data\":{\"scatterpolargl\":[{\"type\":\"scatterpolargl\",\"marker\":{\"colorbar\":{\"ticks\":\"\",\"outlinewidth\":0}}}],\"carpet\":[{\"baxis\":{\"gridcolor\":\"white\",\"endlinecolor\":\"#2a3f5f\",\"minorgridcolor\":\"white\",\"startlinecolor\":\"#2a3f5f\",\"linecolor\":\"white\"},\"type\":\"carpet\",\"aaxis\":{\"gridcolor\":\"white\",\"endlinecolor\":\"#2a3f5f\",\"minorgridcolor\":\"white\",\"startlinecolor\":\"#2a3f5f\",\"linecolor\":\"white\"}}],\"scatterpolar\":[{\"type\":\"scatterpolar\",\"marker\":{\"colorbar\":{\"ticks\":\"\",\"outlinewidth\":0}}}],\"parcoords\":[{\"line\":{\"colorbar\":{\"ticks\":\"\",\"outlinewidth\":0}},\"type\":\"parcoords\"}],\"scatter\":[{\"type\":\"scatter\",\"marker\":{\"colorbar\":{\"ticks\":\"\",\"outlinewidth\":0}}}],\"histogram2dcontour\":[{\"colorbar\":{\"ticks\":\"\",\"outlinewidth\":0},\"type\":\"histogram2dcontour\",\"colorscale\":[[0.0,\"#0d0887\"],[0.1111111111111111,\"#46039f\"],[0.2222222222222222,\"#7201a8\"],[0.3333333333333333,\"#9c179e\"],[0.4444444444444444,\"#bd3786\"],[0.5555555555555556,\"#d8576b\"],[0.6666666666666666,\"#ed7953\"],[0.7777777777777778,\"#fb9f3a\"],[0.8888888888888888,\"#fdca26\"],[1.0,\"#f0f921\"]]}],\"contour\":[{\"colorbar\":{\"ticks\":\"\",\"outlinewidth\":0},\"type\":\"contour\",\"colorscale\":[[0.0,\"#0d0887\"],[0.1111111111111111,\"#46039f\"],[0.2222222222222222,\"#7201a8\"],[0.3333333333333333,\"#9c179e\"],[0.4444444444444444,\"#bd3786\"],[0.5555555555555556,\"#d8576b\"],[0.6666666666666666,\"#ed7953\"],[0.7777777777777778,\"#fb9f3a\"],[0.8888888888888888,\"#fdca26\"],[1.0,\"#f0f921\"]]}],\"scattercarpet\":[{\"type\":\"scattercarpet\",\"marker\":{\"colorbar\":{\"ticks\":\"\",\"outlinewidth\":0}}}],\"mesh3d\":[{\"colorbar\":{\"ticks\":\"\",\"outlinewidth\":0},\"type\":\"mesh3d\"}],\"surface\":[{\"colorbar\":{\"ticks\":\"\",\"outlinewidth\":0},\"type\":\"surface\",\"colorscale\":[[0.0,\"#0d0887\"],[0.1111111111111111,\"#46039f\"],[0.2222222222222222,\"#7201a8\"],[0.3333333333333333,\"#9c179e\"],[0.4444444444444444,\"#bd3786\"],[0.5555555555555556,\"#d8576b\"],[0.6666666666666666,\"#ed7953\"],[0.7777777777777778,\"#fb9f3a\"],[0.8888888888888888,\"#fdca26\"],[1.0,\"#f0f921\"]]}],\"scattermapbox\":[{\"type\":\"scattermapbox\",\"marker\":{\"colorbar\":{\"ticks\":\"\",\"outlinewidth\":0}}}],\"scattergeo\":[{\"type\":\"scattergeo\",\"marker\":{\"colorbar\":{\"ticks\":\"\",\"outlinewidth\":0}}}],\"histogram\":[{\"type\":\"histogram\",\"marker\":{\"colorbar\":{\"ticks\":\"\",\"outlinewidth\":0}}}],\"pie\":[{\"type\":\"pie\",\"automargin\":true}],\"choropleth\":[{\"colorbar\":{\"ticks\":\"\",\"outlinewidth\":0},\"type\":\"choropleth\"}],\"heatmapgl\":[{\"colorbar\":{\"ticks\":\"\",\"outlinewidth\":0},\"type\":\"heatmapgl\",\"colorscale\":[[0.0,\"#0d0887\"],[0.1111111111111111,\"#46039f\"],[0.2222222222222222,\"#7201a8\"],[0.3333333333333333,\"#9c179e\"],[0.4444444444444444,\"#bd3786\"],[0.5555555555555556,\"#d8576b\"],[0.6666666666666666,\"#ed7953\"],[0.7777777777777778,\"#fb9f3a\"],[0.8888888888888888,\"#fdca26\"],[1.0,\"#f0f921\"]]}],\"bar\":[{\"type\":\"bar\",\"error_y\":{\"color\":\"#2a3f5f\"},\"error_x\":{\"color\":\"#2a3f5f\"},\"marker\":{\"line\":{\"color\":\"#E5ECF6\",\"width\":0.5}}}],\"heatmap\":[{\"colorbar\":{\"ticks\":\"\",\"outlinewidth\":0},\"type\":\"heatmap\",\"colorscale\":[[0.0,\"#0d0887\"],[0.1111111111111111,\"#46039f\"],[0.2222222222222222,\"#7201a8\"],[0.3333333333333333,\"#9c179e\"],[0.4444444444444444,\"#bd3786\"],[0.5555555555555556,\"#d8576b\"],[0.6666666666666666,\"#ed7953\"],[0.7777777777777778,\"#fb9f3a\"],[0.8888888888888888,\"#fdca26\"],[1.0,\"#f0f921\"]]}],\"contourcarpet\":[{\"colorbar\":{\"ticks\":\"\",\"outlinewidth\":0},\"type\":\"contourcarpet\"}],\"table\":[{\"type\":\"table\",\"header\":{\"line\":{\"color\":\"white\"},\"fill\":{\"color\":\"#C8D4E3\"}},\"cells\":{\"line\":{\"color\":\"white\"},\"fill\":{\"color\":\"#EBF0F8\"}}}],\"scatter3d\":[{\"line\":{\"colorbar\":{\"ticks\":\"\",\"outlinewidth\":0}},\"type\":\"scatter3d\",\"marker\":{\"colorbar\":{\"ticks\":\"\",\"outlinewidth\":0}}}],\"scattergl\":[{\"type\":\"scattergl\",\"marker\":{\"colorbar\":{\"ticks\":\"\",\"outlinewidth\":0}}}],\"histogram2d\":[{\"colorbar\":{\"ticks\":\"\",\"outlinewidth\":0},\"type\":\"histogram2d\",\"colorscale\":[[0.0,\"#0d0887\"],[0.1111111111111111,\"#46039f\"],[0.2222222222222222,\"#7201a8\"],[0.3333333333333333,\"#9c179e\"],[0.4444444444444444,\"#bd3786\"],[0.5555555555555556,\"#d8576b\"],[0.6666666666666666,\"#ed7953\"],[0.7777777777777778,\"#fb9f3a\"],[0.8888888888888888,\"#fdca26\"],[1.0,\"#f0f921\"]]}],\"scatterternary\":[{\"type\":\"scatterternary\",\"marker\":{\"colorbar\":{\"ticks\":\"\",\"outlinewidth\":0}}}],\"barpolar\":[{\"type\":\"barpolar\",\"marker\":{\"line\":{\"color\":\"#E5ECF6\",\"width\":0.5}}}]},\"layout\":{\"xaxis\":{\"gridcolor\":\"white\",\"zerolinewidth\":2,\"title\":{\"standoff\":15},\"ticks\":\"\",\"zerolinecolor\":\"white\",\"automargin\":true,\"linecolor\":\"white\"},\"hovermode\":\"closest\",\"paper_bgcolor\":\"white\",\"geo\":{\"showlakes\":true,\"showland\":true,\"landcolor\":\"#E5ECF6\",\"bgcolor\":\"white\",\"subunitcolor\":\"white\",\"lakecolor\":\"white\"},\"colorscale\":{\"sequential\":[[0.0,\"#0d0887\"],[0.1111111111111111,\"#46039f\"],[0.2222222222222222,\"#7201a8\"],[0.3333333333333333,\"#9c179e\"],[0.4444444444444444,\"#bd3786\"],[0.5555555555555556,\"#d8576b\"],[0.6666666666666666,\"#ed7953\"],[0.7777777777777778,\"#fb9f3a\"],[0.8888888888888888,\"#fdca26\"],[1.0,\"#f0f921\"]],\"diverging\":[[0,\"#8e0152\"],[0.1,\"#c51b7d\"],[0.2,\"#de77ae\"],[0.3,\"#f1b6da\"],[0.4,\"#fde0ef\"],[0.5,\"#f7f7f7\"],[0.6,\"#e6f5d0\"],[0.7,\"#b8e186\"],[0.8,\"#7fbc41\"],[0.9,\"#4d9221\"],[1,\"#276419\"]],\"sequentialminus\":[[0.0,\"#0d0887\"],[0.1111111111111111,\"#46039f\"],[0.2222222222222222,\"#7201a8\"],[0.3333333333333333,\"#9c179e\"],[0.4444444444444444,\"#bd3786\"],[0.5555555555555556,\"#d8576b\"],[0.6666666666666666,\"#ed7953\"],[0.7777777777777778,\"#fb9f3a\"],[0.8888888888888888,\"#fdca26\"],[1.0,\"#f0f921\"]]},\"yaxis\":{\"gridcolor\":\"white\",\"zerolinewidth\":2,\"title\":{\"standoff\":15},\"ticks\":\"\",\"zerolinecolor\":\"white\",\"automargin\":true,\"linecolor\":\"white\"},\"shapedefaults\":{\"line\":{\"color\":\"#2a3f5f\"}},\"font\":{\"color\":\"#2a3f5f\"},\"annotationdefaults\":{\"arrowhead\":0,\"arrowwidth\":1,\"arrowcolor\":\"#2a3f5f\"},\"plot_bgcolor\":\"#E5ECF6\",\"title\":{\"x\":0.05},\"coloraxis\":{\"colorbar\":{\"ticks\":\"\",\"outlinewidth\":0}},\"hoverlabel\":{\"align\":\"left\"},\"mapbox\":{\"style\":\"light\"},\"polar\":{\"angularaxis\":{\"gridcolor\":\"white\",\"ticks\":\"\",\"linecolor\":\"white\"},\"bgcolor\":\"#E5ECF6\",\"radialaxis\":{\"gridcolor\":\"white\",\"ticks\":\"\",\"linecolor\":\"white\"}},\"autotypenumbers\":\"strict\",\"ternary\":{\"aaxis\":{\"gridcolor\":\"white\",\"ticks\":\"\",\"linecolor\":\"white\"},\"bgcolor\":\"#E5ECF6\",\"caxis\":{\"gridcolor\":\"white\",\"ticks\":\"\",\"linecolor\":\"white\"},\"baxis\":{\"gridcolor\":\"white\",\"ticks\":\"\",\"linecolor\":\"white\"}},\"scene\":{\"xaxis\":{\"gridcolor\":\"white\",\"gridwidth\":2,\"backgroundcolor\":\"#E5ECF6\",\"ticks\":\"\",\"showbackground\":true,\"zerolinecolor\":\"white\",\"linecolor\":\"white\"},\"zaxis\":{\"gridcolor\":\"white\",\"gridwidth\":2,\"backgroundcolor\":\"#E5ECF6\",\"ticks\":\"\",\"showbackground\":true,\"zerolinecolor\":\"white\",\"linecolor\":\"white\"},\"yaxis\":{\"gridcolor\":\"white\",\"gridwidth\":2,\"backgroundcolor\":\"#E5ECF6\",\"ticks\":\"\",\"showbackground\":true,\"zerolinecolor\":\"white\",\"linecolor\":\"white\"}},\"colorway\":[\"#636efa\",\"#EF553B\",\"#00cc96\",\"#ab63fa\",\"#FFA15A\",\"#19d3f3\",\"#FF6692\",\"#B6E880\",\"#FF97FF\",\"#FECB52\"]}},\"yaxis4\":{\"title\":{\"text\":\"Ɛrel %\"},\"domain\":[5.551115123125783e-17,0.36250000000000004],\"anchor\":\"x4\"},\"height\":500,\"yaxis2\":{\"title\":{\"text\":\"\"},\"domain\":[0.6375,1.0],\"anchor\":\"x2\"},\"xaxis3\":{\"title\":{\"text\":\"x\"},\"domain\":[0.0,0.45],\"anchor\":\"y3\"},\"xaxis4\":{\"title\":{\"text\":\"x\"},\"domain\":[0.55,1.0],\"anchor\":\"y4\"},\"yaxis1\":{\"title\":{\"text\":\"u\"},\"domain\":[0.6375,1.0],\"anchor\":\"x1\"},\"annotations\":[{\"yanchor\":\"bottom\",\"xanchor\":\"center\",\"y\":1.0,\"font\":{\"size\":16},\"showarrow\":false,\"yref\":\"paper\",\"text\":\"Functions\",\"xref\":\"paper\",\"x\":0.225},{\"yanchor\":\"bottom\",\"xanchor\":\"center\",\"y\":1.0,\"font\":{\"size\":16},\"showarrow\":false,\"yref\":\"paper\",\"text\":\"Derivatives\",\"xref\":\"paper\",\"x\":0.775},{\"yanchor\":\"bottom\",\"xanchor\":\"center\",\"y\":0.36250000000000004,\"font\":{\"size\":16},\"showarrow\":false,\"yref\":\"paper\",\"text\":\"Error Ɛ(x)\",\"xref\":\"paper\",\"x\":0.225},{\"yanchor\":\"bottom\",\"xanchor\":\"center\",\"y\":0.36250000000000004,\"font\":{\"size\":16},\"showarrow\":false,\"yref\":\"paper\",\"text\":\"Relative Error \",\"xref\":\"paper\",\"x\":0.775}],\"xaxis1\":{\"title\":{\"text\":\"x\"},\"domain\":[0.0,0.45],\"anchor\":\"y1\"},\"yaxis3\":{\"title\":{\"text\":\"Ɛ\"},\"domain\":[5.551115123125783e-17,0.36250000000000004],\"anchor\":\"x3\"},\"legend\":{\"title\":{\"text\":\"Functions and Errors\"}},\"xaxis2\":{\"title\":{\"text\":\"x\"},\"domain\":[0.55,1.0],\"anchor\":\"y2\"},\"margin\":{\"l\":50,\"b\":50,\"r\":50,\"t\":60},\"width\":1150}]}}},\"children\":[{\"props\":{\"id\":\"plot-42c171df-81f0-417d-93a4-0d53731556bd\"},\"nodeType\":\"DOM\",\"type\":\"node\",\"instanceArgs\":{\"namespace\":\"html\",\"tag\":\"div\"},\"children\":[]}]},\n",
       "        window,\n",
       "    );\n",
       "    })()\n",
       "    </script>\n",
       "</div>\n"
      ],
      "text/plain": [
       "data: [\n",
       "  \"scatter with fields legendrank, marker, mode, name, type, x, xaxis, y, and yaxis\",\n",
       "  \"scatter with fields marker, mode, name, type, x, xaxis, y, and yaxis\",\n",
       "  \"scatter with fields marker, mode, name, type, x, xaxis, y, and yaxis\",\n",
       "  \"scatter with fields marker, mode, name, type, x, xaxis, y, and yaxis\",\n",
       "  \"scatter with fields legendrank, marker, mode, name, type, x, xaxis, y, and yaxis\",\n",
       "  \"scatter with fields legendrank, marker, mode, name, type, x, xaxis, y, and yaxis\",\n",
       "  \"scatter with fields mode, name, type, x, xaxis, y, and yaxis\",\n",
       "  \"scatter with fields marker, mode, name, type, x, xaxis, y, and yaxis\",\n",
       "  \"scatter with fields marker, mode, name, type, x, xaxis, y, and yaxis\",\n",
       "  \"scatter with fields marker, mode, name, type, x, xaxis, y, and yaxis\"\n",
       "]\n",
       "\n",
       "layout: \"layout with fields annotations, height, legend, margin, template, width, xaxis1, xaxis2, xaxis3, xaxis4, yaxis1, yaxis2, yaxis3, and yaxis4\"\n",
       "\n"
      ]
     },
     "execution_count": 4,
     "metadata": {},
     "output_type": "execute_result"
    }
   ],
   "source": [
    "exact(x)   = -cos(x) - tan(1)sin(x) + 1\n",
    "exactp(x)  = sin(x) - tan(1)cos(x) \n",
    "exactpp(x) = cos(x) + tan(1)sin(x) \n",
    "\n",
    "pf = plot([scatter(x=x,y=exact.(x), name=\"U exact\", mode=\"lines\", marker=attr(color=\"LightBlue\"), legendrank=1), scatter(x=x,y=uh.(x), name=\"u_h\", mode=\"markers\", marker=attr(color=\"DarkBlue\",size=8)) ],\n",
    "    Layout(title=\"Functions\",  xaxis_title=\"x\",  yaxis_title=\"u\"))\n",
    "\n",
    "pd = plot([scatter(x=x,y=uhp.(x), name=\"u'_h\", mode=\"markers\", marker=attr(size=8, color=\"red\")), scatter(x=x,y=uhpp.(x), name=\"u''_h\", mode=\"markers\", marker=attr(size=8, color=\"green\")),\n",
    "           scatter(x=x,y=exactp.(x), name=\"u' exact\", mode=\"lines\", marker=attr(size=8, color=\"DarkRed\"), legendrank=2), scatter(x=x,y=exactpp.(x), name=\"u'' exact\", mode=\"lines\", marker=attr(size=8, color=\"DarkGreen\"), legendrank=3) ],\n",
    "    Layout(title=\"Derivatives\",  xaxis_title=\"x\",  yaxis_title=\"\"))\n",
    "\n",
    "pe = plot([scatter(x=x,y=uhpp.(x) + uh.(x) .-1,mode=\"markers+lines\", name=\"Ɛ error\") ], \n",
    "         Layout(title=\"Error Ɛ(x)\",  xaxis_title=\"x\",  yaxis_title=\"Ɛ\"))\n",
    "\n",
    "ep = 100*abs.((exactp.(x) - uhp.(x))./exactp.(x))\n",
    "ep[end] = 0 #to avoid error of 100% at end value\n",
    "\n",
    "pde = plot([scatter(x=x,y=abs.((exact.(x) - uh.(x))./exact.(x)), mode=\"markers+lines\", name=\"Ɛrel uh\", marker=attr(color=\"DarkSlateBlue\")),\n",
    "            scatter(x=x,y=ep, mode=\"markers+lines\", name=\"Ɛrel u'h\", marker=attr(color=\"IndianRed\")),\n",
    "            scatter(x=x,y=100*abs.((exactpp.(x) - uhpp.(x))./exactpp.(x)), mode=\"markers+lines\", name=\"Ɛrel u''h\", marker=attr(color=\"SeaGreen\"))], \n",
    "         Layout(title=\"Relative Error \",  xaxis_title=\"x\",  yaxis_title=\"Ɛrel %\"))\n",
    "\n",
    "\n",
    "pde\n",
    "Plot = [pf pd; pe pde]\n",
    "\n",
    "relayout!(Plot, width=1150, height=500, legend_title_text=\"Functions and Errors\")#, title_text=\"Functions and Error\")\n",
    "Plot "
   ]
  },
  {
   "cell_type": "markdown",
   "id": "5c281883",
   "metadata": {},
   "source": [
    "## 2.T \n",
    "Prove that $\\ddot{u}$ is a solution of the variational problem. Find $u\\in H_0^1(I)$ such that\n",
    "\n",
    "$$ \\int_I u'v' dx = \\in_I fv, \\qquad \\forall v\\in H_0^1(I) $$\n",
    "\n",
    "if and only if $\\ddot{u}$ is a functional minimizer.\n",
    "\n",
    "$$ F(w) = \\frac{1}{2} \\int_I (w')^2 - \\int_I fw dx $$\n",
    "\n",
    "over the space $H_0^1(I)$"
   ]
  },
  {
   "cell_type": "markdown",
   "id": "02c400d1",
   "metadata": {},
   "source": [
    "## 3.TP\n",
    "\n",
    "Consider the problem with Robin conditions\n",
    "\n",
    "$$ -u''+2u=4-2x^2, \\qquad x\\in I = (-1,1) $$\n",
    "$$ u'(-1)=\\frac{\\alpha}{\\kappa}(u(-1)+1), \\quad u'(1) = -\\frac{\\alpha}{\\kappa} (u(1)+1) $$\n",
    "\n",
    "a) Write the weak formulation corresponding to the boundary value problem $(e)-(3)$ \n",
    "\n",
    "b) Prove the existence and uniquiness of the weak solution.\n",
    "\n",
    "c) To discretize the weak problem consider the picewise lineal polynomial spaces and write exactly the rigid matrix, load and vector mass.\n",
    "\n",
    "d) Using the result found before, part c, do the modifications to the Matlab codes and solve the problem taking $\\alpha =2$ and $\\kappa=1$. Plot the numerical solution and compare it with the exact solution $u(x)=1-x^2$.\n",
    "\n",
    "e) Solve the equation with Dirichlet homogeneous boundary condtions. Plot and compare it with the exact solution $u(x)=1-x^2$.\n",
    "\n",
    "f) Plot the error done in each mesh point $\\left( |u(x_i)-u_h(x_i)|,i=0,1,...,m  \\right)$ of the found solutions in the items d) and e). "
   ]
  },
  {
   "cell_type": "markdown",
   "id": "8c5087b7-87f1-4d55-bd9f-611d13564a03",
   "metadata": {
    "tags": []
   },
   "source": [
    "### Solution\n",
    "\n",
    "#### a) \n",
    "Let's start with the variational formulation. First, multiplying by a test function $v$ and integrating over $I$ the differential equation\n",
    "\n",
    "$$ -\\int_{-1}^1 u'' v dx + 2 \\int_{-1}^1 u v dx = \\int_{-1}^1 (4+2x^3) v dx $$\n",
    "\n",
    "Now, integratin by steps the first term and choosing $v|v(-1)= v(1) = 0$\n",
    "\n",
    "$$ -\\int_{-1}^1 u'' v dx  =  \\int_{-1}^1 u' v'dx -vu'\\Big|_{-1}^1 = \\int_{-1}^1 u' v'dx +\\left[ v(-1)u'(-1) -v(1)u'(1) \\right] \\\\\n",
    "= \\int_{-1}^1 u' v'dx +\\left[ v(-1)\\frac{\\alpha}{\\kappa}(u(-1)+1)  +\\frac{\\alpha}{\\kappa}(u(1)+1) v(1) \\right] = \\int_{-1}^1 u' v'dx  $$\n",
    "\n",
    "where the Robin conditions were used. Finally, replacing the last term in the first equation the weak problem is founded\n",
    "\n",
    "$$ \\boxed{\\int_{-1}^1 u' v'dx + 2 \\int_{-1}^1 u v dx + \\frac{\\alpha}{\\kappa}\\left[u(1)v(1) +u(-1) v(-1)\\right] = \\int_{-1}^1 (4+2x^3) v dx - \\frac{\\alpha}{\\kappa}\\left[ v(-1) + v(1) \\right]}$$\n",
    "\n",
    "This is the weak problem. This equation can be writen as follows\n",
    "\n",
    "$$ a(u,v) = Lv, \\qquad \\forall v\\in H_0^2(0,L)$$\n",
    "\n",
    "where \n",
    "\n",
    "$$a(u,v) = \\int_{-1}^1 (u' v' +2uv)dx + \\frac{\\alpha}{\\kappa}\\left[u(1)v(1) +u(-1) v(-1)\\right] \\\\\n",
    "Lv =  \\int_{-1}^1 (4+2x^3) v dx -  \\frac{\\alpha}{\\kappa}\\left[ v(-1) + v(1) \\right]$$\n",
    "\n",
    "\n",
    "#### b)\n",
    "To prove its uniqueness let's verify the Lax-Milgram hypothesis with $v\\in H$.\n",
    "\n",
    "- **Bilineal Countinuity:**\n",
    "\n",
    "Using Cauchy-Schwartz, and Poincare inequality\n",
    "\n",
    "$$ \n",
    "|a(u,v)| = \\left|\\left| \\int_{-1}^1 (u' v' +2uv)dx \\right|\\right|   \\leq   \\int_0^L |u'| \\cdot 2 |v'| dx  + 2 \\int_0^L |u| \\dot|v| dx\n",
    "\\leq  ||u'||_{L^2} \\cdot  ||v'||_{L^2}  + 2 ||u||_{L^2} \\cdot ||v||_{L^2} \\\\\n",
    "\\Rightarrow \\boxed{|a(u,v)| \\leq  (1 +2 C_P^2) \\cdot ||u'||_{L^2} \\cdot  ||v'||_{L^2}}\n",
    "$$\n",
    "\n",
    "- **Coercivity:**\n",
    "$$ \n",
    "a(u,u) =  \\int_{-1}^1 (u' u' +2uu)dx  \\geq  ||u'||_{L^2}^2 + \\frac{2}{2} \\int_{-1}^{1} (u^2)' dx  =  ||u'||_{L^2}^2 +  u^2 \\Big|_{-1}^{1}\\\\\n",
    "\\Rightarrow \\boxed{ a(u,u) \\geq  ||u'||_{L^2}^2 = \\frac{1}{\\sqrt{C_P^2+1}}||u'||_{H^1_0(-1,1)}^2}\n",
    "$$\n",
    "\n",
    "- **Continuity of $v$ in H:**\n",
    "$$\n",
    "|Lv| = \\left|\\int_{-1}^1 (4+2x^3) v dx \\right| \\leq ||4+2x^3||_{L^2} ||v||_{L^2} \\leq  \\sqrt{\\frac{232}{7}}C_P ||v'||_{L^2} \\\\\n",
    "\\Rightarrow \\boxed{ \\quad ||L||_{H} \\leq  \\sqrt{\\frac{232}{7}} C_P ||v'||_{L^2} }\n",
    "$$\n",
    "\n",
    "\n",
    "where\n",
    "$$||4+2x^3||_{L^2}^2  = \\int_{-1}^{1} (4+2x^3)^2 dx =  \\int_{-1}^{1} (16+4x^6+16x^3) dx = \\left( 16x+\\frac{4}{7}x^7+4x^4\\right)\\Big|_{-1}^1 =  16+\\frac{4}{7}+4 -\n",
    " +16+\\frac{4}{7}-4 = 32+\\frac{8}{7}=\\frac{232}{7}$$\n",
    "\n",
    "Then, the Lax-Milgram shows that there is a unique solution to the problem.\n",
    "\n",
    "#### c)\n",
    "Now, let's discretize the weak problem. To do it, the picewise lineal polynomial functions will be used as base\n",
    "\n",
    "\n",
    "$$\n",
    "\\phi_{i}(x):= \\begin{cases}\\frac{x-x_{i-1}}{h_{i}} & \\text { si } x \\in \\Omega_{i} \\\\ \\frac{x_{i+1}-x}{h_{i+1}} & \\text { if } x \\in \\Omega_{i+1} \\\\ 0 & \\text {other case}\\end{cases}, \\qquad \\phi_{i}'(x):= \\begin{cases}\\frac{1}{h_{i}} & \\text { if } x \\in \\Omega_{i} \\\\ \\frac{-1}{h_{i+1}} & \\text { if } x \\in \\Omega_{i+1} \\\\ 0 & \\text {other case}\\end{cases}\n",
    "$$\n",
    "\n",
    "Using these functions, the finite dimensional discretized problem is \n",
    "\n",
    "$$\\int_{-1}^1 u' v'dx + \\frac{\\alpha}{\\kappa}\\left[u(1)v(1) +u(-1) v(-1)\\right] = \\int_{-1}^1 (4+2x^3) v dx - \\frac{\\alpha}{\\kappa}\\left[ v(-1) + v(1) \\right],  \\qquad  \\forall v \\in V_h$$\n",
    "\n",
    "where the goal is find a function $u$ that satisfies the last equation. Using the picewise lineal polynomial basis\n",
    "\n",
    "$$ u_h(x) = \\sum_{j=0}^{n} u_j \\phi_j(x), \\qquad u_h'(x) = \\sum_{j=0}^{n} u_j \\phi_j'(x), \\qquad v(x) = \\phi_i(x)$$\n",
    "\n",
    "Replacing this functions in the weak problem\n",
    "\n",
    "$$ \\sum_{j=0}^{n} u_j\\left( \\int_{-1}^1  \\phi_j'  \\phi_i' dx  \\right) + \\sum_{j=0}^{n} u_j \\left( \\int_{-1}^1 2 \\phi_j  \\phi_i dx  \\right) + \\frac{\\alpha}{\\kappa}\\left[u_n \\phi_i(1) +u_0 \\phi_i(-1)\\right] = \\int_{-1}^1 (4+2x^3) \\phi_i(x) dx - \\frac{\\alpha}{\\kappa}\\left[ \\phi_i(-1) + \\phi_i(1) \\right]$$\n",
    "\n",
    "for $i=0,1,...,n-1,n$. Since in the previous equations appers the terms $\\phi_i(-1)$ and $\\phi_i(1)$, that are different of zero to $\\phi_0$ and $\\phi_n$ respectively. Now, expanding just the first and last term the sum with the following mesh and $\\phi_i$ picewise lineal polynomials\n",
    "\n",
    "<img src=\"mesh.png\" width=\"1000\"  class=\"center\"/>\n",
    "\n",
    "$$ \\sum_{j=0}^{n} u_j\\left( \\int_{-1}^1  \\phi_j'  \\phi_i' dx  \\right) + \\sum_{j=0}^{n} u_j \\left( \\int_{-1}^1 2 \\phi_j  \\phi_i dx  \\right) + \\frac{\\alpha}{\\kappa}\\left[u_n \\phi_i(1) +u_0 \\phi_i(-1)\\right] = \\int_{-1}^1 (4+2x^3) \\phi_i(x) dx - \\frac{\\alpha}{\\kappa}\\left[ \\phi_i(-1) + \\phi_i(1) \\right]\n",
    "$$\n",
    "\n",
    "$$\n",
    "u_0\\left( \\int_{-1}^1  (\\phi_0'  \\phi_i' +  2 \\phi_0  \\phi_i )dx  + \\frac{\\alpha}{\\kappa} \\phi_i(-1) \\right) + u_n\\left( \\int_{-1}^1 ( \\phi_n'  \\phi_i' + 2 \\phi_n  \\phi_i )dx + \\frac{\\alpha}{\\kappa} \\phi_i(1) \\right) + \\sum_{j=1}^{n-1} u_j\\left( \\int_{-1}^1  \\phi_j'  \\phi_i' dx  \\right) + \\sum_{j=1}^{n-1} u_j \\left( \\int_{-1}^1 2 \\phi_j  \\phi_i dx  \\right) = \\int_{-1}^1 (4+2x^3) \\phi_i(x) dx - \\frac{\\alpha}{\\kappa} \\left[ \\phi_i(-1) + \\phi_i(1) \\right]\n",
    "$$\n",
    "\n",
    "for $i=0,1,2,...,n-1,n$. The terms $\\phi_i(1)$ and $\\phi_i(-1)$ are different to 0 for $\\phi_0(-1)$ and $\\phi_n(1)$ and both are equals to 1. \n",
    "\n",
    "Note: when the terms $u_0$ and $u_n$ are zero (Dirichlet Conditions) the discrete weak problem is  \n",
    "\n",
    "$$\n",
    " \\sum_{j=1}^{n-1} u_j\\left( \\int_{-1}^1  \\phi_j'  \\phi_i' dx  \\right) + \\sum_{j=1}^{n-1} u_j \\left( \\int_{-1}^1 2 \\phi_j  \\phi_i dx  \\right) = \\int_{-1}^1 (4+2x^3) \\phi_i(x) dx \n",
    "$$\n",
    "\n",
    "for $i=1,2,...,n-1$. Rememebering the matricial form of the equation\n",
    "\n",
    "$$ (A+M)u  = b $$\n",
    "\n",
    "With\n",
    "\n",
    "$$\n",
    "A =  \\int_{-1}^1  \\phi_j'  \\phi_i' dx  =  \\int_{x_{i-1}}^{x_{i+1}}  \\phi_j'  \\phi_i' dx \\\\\n",
    "M = \\int_{-1}^1 2 \\phi_j  \\phi_i dx = \\int_{x_{i-1}}^{x_{i+1}} 2 \\phi_j  \\phi_i dx \\\\\n",
    "b = \\int_{-1}^1 (4+2x^3) \\phi_i(x) dx  = \\int_{x_{i-1}}^{x_{i+1}} (4+2x^3) \\phi_i(x) dx \n",
    "$$\n",
    "\n",
    "Since the problem is almost the same, execpt for the first, $u_0$, and last row, $u_n$, it is necessary to calculate these rows.\n",
    "\n",
    "Taking $i=0$ and remembering that $\\phi_0$ shares support just with $\\phi_1$ and itself\n",
    "\n",
    "$$\n",
    "u_0\\left( \\int_{-1}^1  (\\phi_0'^2  \\phi_0' +  2 \\phi_0  \\phi_0 )dx  + \\frac{\\alpha}{\\kappa}  \\right) + u_n\\left( \\int_{-1}^1 ( \\phi_n'  \\phi_0' + 2 \\phi_n  \\phi_0 )dx \\right) + \\sum_{j=1}^{n-1} u_j\\left( \\int_{-1}^1  \\phi_j'  \\phi_0' dx  \\right) + \\sum_{j=1}^{n-1} u_j \\left( \\int_{-1}^1 2 \\phi_j  \\phi_0 dx  \\right) = \\int_{-1}^1 (4+2x^3) \\phi_0(x) dx - \\frac{\\alpha}{\\kappa} \\left[ \\phi_0(-1) + \\phi_0(1) \\right]\\\\\n",
    "u_0 \\left( \\int_{x_0}^{x_1}  ((\\phi_0 ')^2 +  2 (\\phi_0)^2 )dx  + \\frac{\\alpha}{\\kappa}  \\right) +  u_1\\left( \\int_{x_0}^{x_1}  (\\phi_1'  \\phi_0' + 2 \\phi_1  \\phi_0 ) dx  \\right) = \\int_{x_0}^{x_1} (4+2x^3) \\phi_0(x) dx - \\frac{\\alpha}{\\kappa}\n",
    "$$\n",
    "\n",
    "Using $\\phi_0(-1)=0$ and $\\phi_n(1)=1$. Analogous, for $i=n$ and remembering that $\\phi_n$ shares support just with $\\phi_{n-1}$ and itself\n",
    "\n",
    "$$\n",
    "u_n \\left( \\int_{x_{n-1}}^{x_n}  ((\\phi_n ')^2 +  2 (\\phi_n)^2 )dx  + \\frac{\\alpha}{\\kappa}  \\right) +  u_{n-1} \\left( \\int_{x_{n-1}}^{x_{n}} ( \\phi_n'  \\phi_{n-1}' + 2 \\phi_n  \\phi_{n-1} ) dx  \\right) = \\int_{x_{n-1}}^{x_{n}} (4+2x^3) \\phi_n(x) dx - \\frac{\\alpha}{\\kappa}\n",
    "$$\n",
    "\n",
    "\n",
    "Now let's calculate all terms involved in the previous equations.\n",
    "\n",
    "$$\n",
    "\\int_{x_0}^{x_1}  ((\\phi_0 ')^2 +  2 (\\phi_0)^2 )dx  = \\frac{h_1}{h_1^2} + 2\\frac{h_1}{6}\\left(1+4\\phi_0\\left(\\frac{h_1}{2}\\right)+0\\right) = \\frac{1}{h_1} + 2\\frac{h_1}{6}(2) = \\frac{1}{h_1} + \\frac{2h_1}{3}\\\\\n",
    "\\int_{x_0}^{x_1}  \\left(\\phi_1'  \\phi_0' + 2 \\phi_1  \\phi_0 \\right) dx = \\frac{1}{h_1} \\cdot \\frac{-1}{h_1} h_1+ 2\\frac{h_1}{6}\\left(\\phi_1(x_0)\\phi_0(x_0) + 4\\phi_1\\left(x_0+\\frac{h_1}{2}\\right)\\phi_0\\left(x_0+\\frac{h_1}{2}\\right) + \\phi_1(x_1)\\phi_0(x_1) \\right)\\\\\n",
    "=   -\\frac{1}{h_1} + \\frac{h_1}{3}\\left(0\\cdot 1+ 1 + 1\\cdot 0 \\right)= -\\frac{1}{h_1} + \\frac{h_1}{3}\\\\\n",
    "\\int_{x_0}^{x_1} (4+2x^3) \\phi_0(x) dx \\approx  \\frac{h_1}{2} \\left( (4+2x_1^3) \\phi_0(x_1) +4 \\phi_0(0)\\right) = 2h_1 \\\\\n",
    "\\int_{x_{n-1}}^{x_n}  ((\\phi_n ')^2 +  2 (\\phi_n)^2 )dx  = \\frac{h_n}{h_n^2} + 2\\frac{h_1}{6}\\left(1+4\\phi_n\\left(\\frac{h_n}{2}\\right)+0\\right)   = \\frac{1}{h_n} + \\frac{2h_n}{3}\\\\\n",
    "\\int_{x_{n-1}}^{x_{n}} ( \\phi_n'  \\phi_{n-1}' + 2 \\phi_n  \\phi_{n-1} ) dx = -\\frac{1}{h_n} + \\frac{h_n}{3}\\\\\n",
    "\\int_{x_{n-1}}^{x_{n}} (4+2x^3) \\phi_n(x) dx \\approx \\frac{h_n}{2} \\left( (4+2x_n^3) \\phi_n(x_n) +4 \\phi_n(x_{n-1})\\right) =  \\frac{h_n}{2}  (4+2\\cdot 1)= 3h_n\n",
    "$$\n",
    "\n",
    "Replacing\n",
    "\n",
    "$$\n",
    "u_0 \\left(\\frac{1}{h_1} + \\frac{2h_1}{3} + \\frac{\\alpha}{\\kappa}  \\right) +  u_1\\left( -\\frac{1}{h_1} + \\frac{h_1}{3} \\right) = 2h_1 - \\frac{\\alpha}{\\kappa}\\\\\n",
    "u_{n-1} \\left( -\\frac{1}{h_n} + \\frac{h_n}{3} \\right)  + u_n \\left( \\frac{1}{h_n} + \\frac{2h_n}{3} + \\frac{\\alpha}{\\kappa}  \\right) = 3h_n- \\frac{\\alpha}{\\kappa}\n",
    "$$"
   ]
  },
  {
   "cell_type": "code",
   "execution_count": 5,
   "id": "57c7b0c1-e5ac-4e6e-b588-aad87c817dfe",
   "metadata": {
    "jupyter": {
     "source_hidden": true
    },
    "tags": []
   },
   "outputs": [
    {
     "data": {
      "text/plain": [
       "Mass1D_Hom (generic function with 1 method)"
      ]
     },
     "execution_count": 5,
     "metadata": {},
     "output_type": "execute_result"
    }
   ],
   "source": [
    "function Stiffness1D_Hom(x,p)\n",
    "    # Stiffness matrix for homogeneous Dirichlet problem.\n",
    "    # x = LinRange(0,1,11) ;  \n",
    "    # p(x) = x^3-0.18*x^2 + 691e-6;\n",
    "    # A = EnsambleRigidez1D_Hom(x,p);\n",
    "\n",
    "    n = size(x)[1]-2;    #x0< x1 < ... < xN n+1 puntos en la malla %\n",
    "    A = zeros(n,n);\n",
    "    A[1,1]= p(0.5*(x[2]+ x[1])) / (x[2]- x[1]);\n",
    "    A[n,n]= p( 0.5*(x[n+2]+ x[n+1]) )/ ( x[n+2] - x[n+1]);\n",
    "    for i in 2:n\n",
    "        h = x[i+1] - x[i];\n",
    "        xmid = (x[i+1] + x[i]) / 2;       # midpoint of interval\n",
    "        pmid = p(xmid);                   # p(x) value in the midpoint\n",
    "        A[i-1,i-1] += pmid/h; # sum pmid/h a A(i-1,i-1)\n",
    "        A[i-1,i]   -= pmid/h;\n",
    "        A[i,i-1]   -= pmid/h;\n",
    "        A[i,i]     += pmid/h;\n",
    "    end\n",
    "    return A\n",
    "end\n",
    "\n",
    "function Load1D_hom(x,f)\n",
    "    # Load vector homogeneous Dirichlet problem.\n",
    "    # x = LinRange(0,1,11);\n",
    "    # f(x) = x^3-0.18*x^2 + 691e-6);\n",
    "    # b = EnsambleCarga1D_hom(x,f);\n",
    "\n",
    "    n    = size(x,1)-2;\n",
    "    b    = zeros(n,1);\n",
    "    b[1] = 0.5* f(x[1])* (x[2]- x[1]);\n",
    "    b[n] = 0.5* f(x[n+2])* (x[n+2]- x[n+1]);\n",
    "    for i in 2:n\n",
    "        h      = x[i+1] - x[i];\n",
    "        b[i-1] += f(x[i-1])*h/2;\n",
    "        b[i]   += f(x[i])*h/2;\n",
    "    end\n",
    "    return b\n",
    "end\n",
    "\n",
    "\n",
    "function Mass1D_Hom(x,r)\n",
    "    # Mass matrix for homogeneous Dirichlet problem.\n",
    "    # x    = LinRange(0,1,11);\n",
    "    # r(x) = x^3-0.18*x^2 + 691e-6\n",
    "    # M    = EnsambleMasa1D_Hom(x,r);\n",
    "\n",
    "    n = size(x,1)-2;\n",
    "    M = zeros(n,n);  \n",
    "    M[1,1] =  r( 0.5*(x[2]+ x[1]) )* ( x[2]- x[1])/3;\n",
    "    M[n,n] =  r( 0.5*(x[n+2]+ x[n+1]) )*  ( x[n+2] - x[n+1])/3;\n",
    "    for i in 2:n \n",
    "        h = x[i+1] - x[i];        # Interval lenght\n",
    "        xmid = (x[i+1] + x[i])/2; # midpoint of interval\n",
    "        rmid = r(xmid);           # r(x) value to midpoint of interval\n",
    "        M[i-1,i-1] += rmid*h/3; # sum rmid*h/3 a M(i,i)\n",
    "        M[i-1,i]   += rmid*h/6;\n",
    "        M[i  ,i-1] += rmid*h/6;\n",
    "        M[i  ,i]   += rmid*h/3;\n",
    "    end\n",
    "    return M\n",
    "end"
   ]
  },
  {
   "cell_type": "code",
   "execution_count": 6,
   "id": "01b08b24-7291-4863-8e06-0bdf3e446c3c",
   "metadata": {
    "tags": []
   },
   "outputs": [],
   "source": [
    "n= 400\n",
    "x = LinRange(-1,1,n)\n",
    "alpha, kappa = 2, 1\n",
    "\n",
    "p(x) = 1; r(x) = 2; f(x) = 4-2x^2 #4 + 2*x^3 #\n",
    "\n",
    "M = Stiffness1D_Hom(x,p)\n",
    "A = Mass1D_Hom(x,r)\n",
    "b = Load1D_hom(x,f)\n",
    "\n",
    "# ---------- Adding Robin Conditions ----------\n",
    "Mf, bf = zeros(n,n), zeros(n,1);\n",
    "h1, hn = x[2] - x[1], x[end] - x[end-1]\n",
    "\n",
    "Mf[1,1:2] = [1/h1+2h1/3+alpha/kappa -1/h1+h1/3]\n",
    "Mf[end,end-1:end] = [-1/hn+hn/3 1/hn+2hn/3+alpha/kappa ]\n",
    "\n",
    "bf[1] = 2h1-alpha/kappa\n",
    "bf[end] = 3hn-alpha/kappa   #bf[end] = hn-alpha/kappa\n",
    "\n",
    "Mf[2:end-1, 2:end-1]  += M;\n",
    "bf[2:end-1]  += b;"
   ]
  },
  {
   "cell_type": "code",
   "execution_count": null,
   "id": "13605ad2-fdf5-45cf-b668-8d832fbafd45",
   "metadata": {},
   "outputs": [],
   "source": []
  },
  {
   "cell_type": "markdown",
   "id": "d0d96c7b-bc7a-432d-8437-6b6bccf4ee2c",
   "metadata": {},
   "source": [
    "#### d)\n",
    "Solving the system"
   ]
  },
  {
   "cell_type": "code",
   "execution_count": 7,
   "id": "bc4faea3-f54f-4323-879e-e05b545fa587",
   "metadata": {},
   "outputs": [
    {
     "data": {
      "application/vnd.plotly.v1+json": {
       "config": {
        "editable": false,
        "responsive": true,
        "scrollZoom": true,
        "showLink": false,
        "staticPlot": false
       },
       "data": [
        {
         "mode": "lines",
         "name": "u exact",
         "type": "scatter",
         "x": [
          -1,
          -0.9949874686716793,
          -0.9899749373433584,
          -0.9849624060150375,
          -0.9799498746867168,
          -0.9749373433583961,
          -0.9699248120300752,
          -0.9649122807017543,
          -0.9598997493734336,
          -0.9548872180451129,
          -0.949874686716792,
          -0.9448621553884711,
          -0.9398496240601504,
          -0.9348370927318297,
          -0.9298245614035088,
          -0.9248120300751879,
          -0.9197994987468672,
          -0.9147869674185465,
          -0.9097744360902256,
          -0.9047619047619047,
          -0.899749373433584,
          -0.8947368421052633,
          -0.8897243107769424,
          -0.8847117794486214,
          -0.8796992481203008,
          -0.8746867167919801,
          -0.8696741854636592,
          -0.8646616541353382,
          -0.8596491228070176,
          -0.8546365914786969,
          -0.849624060150376,
          -0.844611528822055,
          -0.8395989974937343,
          -0.8345864661654137,
          -0.8295739348370927,
          -0.8245614035087718,
          -0.8195488721804511,
          -0.8145363408521304,
          -0.8095238095238095,
          -0.8045112781954886,
          -0.7994987468671679,
          -0.7944862155388472,
          -0.7894736842105263,
          -0.7844611528822054,
          -0.7794486215538847,
          -0.774436090225564,
          -0.7694235588972431,
          -0.7644110275689222,
          -0.7593984962406015,
          -0.7543859649122808,
          -0.7493734335839599,
          -0.744360902255639,
          -0.7393483709273183,
          -0.7343358395989976,
          -0.7293233082706767,
          -0.7243107769423558,
          -0.7192982456140351,
          -0.7142857142857144,
          -0.7092731829573935,
          -0.7042606516290726,
          -0.6992481203007519,
          -0.6942355889724312,
          -0.6892230576441103,
          -0.6842105263157894,
          -0.6791979949874687,
          -0.674185463659148,
          -0.6691729323308271,
          -0.6641604010025062,
          -0.6591478696741855,
          -0.6541353383458648,
          -0.6491228070175439,
          -0.644110275689223,
          -0.6390977443609023,
          -0.6340852130325816,
          -0.6290726817042607,
          -0.6240601503759398,
          -0.6190476190476191,
          -0.6140350877192984,
          -0.6090225563909775,
          -0.6040100250626566,
          -0.5989974937343359,
          -0.5939849624060152,
          -0.5889724310776943,
          -0.5839598997493733,
          -0.5789473684210527,
          -0.573934837092732,
          -0.568922305764411,
          -0.5639097744360901,
          -0.5588972431077694,
          -0.5538847117794488,
          -0.5488721804511278,
          -0.5438596491228069,
          -0.5388471177944862,
          -0.5338345864661656,
          -0.5288220551378446,
          -0.5238095238095237,
          -0.518796992481203,
          -0.5137844611528823,
          -0.5087719298245614,
          -0.5037593984962405,
          -0.4987468671679198,
          -0.4937343358395991,
          -0.4887218045112782,
          -0.48370927318295737,
          -0.4786967418546366,
          -0.4736842105263159,
          -0.468671679197995,
          -0.46365914786967416,
          -0.4586466165413534,
          -0.45363408521303267,
          -0.4486215538847118,
          -0.44360902255639095,
          -0.4385964912280702,
          -0.43358395989974946,
          -0.4285714285714286,
          -0.42355889724310775,
          -0.418546365914787,
          -0.41353383458646625,
          -0.4085213032581454,
          -0.40350877192982454,
          -0.3984962406015038,
          -0.39348370927318305,
          -0.3884711779448622,
          -0.38345864661654133,
          -0.3784461152882206,
          -0.37343358395989984,
          -0.368421052631579,
          -0.3634085213032581,
          -0.3583959899749374,
          -0.35338345864661663,
          -0.3483709273182958,
          -0.3433583959899749,
          -0.33834586466165417,
          -0.3333333333333334,
          -0.32832080200501257,
          -0.3233082706766917,
          -0.31829573934837097,
          -0.3132832080200502,
          -0.30827067669172936,
          -0.3032581453634085,
          -0.29824561403508776,
          -0.293233082706767,
          -0.28822055137844615,
          -0.2832080200501253,
          -0.27819548872180455,
          -0.2731829573934838,
          -0.26817042606516295,
          -0.2631578947368421,
          -0.25814536340852134,
          -0.2531328320802006,
          -0.24812030075187974,
          -0.24310776942355888,
          -0.23809523809523814,
          -0.2330827067669174,
          -0.22807017543859653,
          -0.22305764411027568,
          -0.21804511278195493,
          -0.21303258145363418,
          -0.20802005012531333,
          -0.20300751879699247,
          -0.19799498746867172,
          -0.19298245614035098,
          -0.18796992481203012,
          -0.18295739348370926,
          -0.17794486215538852,
          -0.17293233082706777,
          -0.1679197994987469,
          -0.16290726817042606,
          -0.1578947368421053,
          -0.15288220551378456,
          -0.1478696741854637,
          -0.14285714285714285,
          -0.1378446115288221,
          -0.13283208020050136,
          -0.1278195488721805,
          -0.12280701754385964,
          -0.1177944862155389,
          -0.11278195488721815,
          -0.10776942355889729,
          -0.10275689223057644,
          -0.09774436090225569,
          -0.09273182957393494,
          -0.08771929824561409,
          -0.08270676691729323,
          -0.07769423558897248,
          -0.07268170426065174,
          -0.06766917293233088,
          -0.06265664160401002,
          -0.057644110275689275,
          -0.05263157894736853,
          -0.04761904761904767,
          -0.042606516290726815,
          -0.03759398496240607,
          -0.03258145363408532,
          -0.027568922305764465,
          -0.022556390977443608,
          -0.01754385964912286,
          -0.012531328320802115,
          -0.007518796992481258,
          -0.002506265664160401,
          0.0025062656641603454,
          0.007518796992481258,
          0.012531328320801949,
          0.01754385964912286,
          0.022556390977443552,
          0.027568922305764465,
          0.032581453634085156,
          0.03759398496240607,
          0.04260651629072676,
          0.04761904761904767,
          0.05263157894736836,
          0.057644110275689275,
          0.06265664160400997,
          0.06766917293233088,
          0.07268170426065157,
          0.07769423558897248,
          0.08270676691729317,
          0.08771929824561409,
          0.09273182957393478,
          0.09774436090225569,
          0.10275689223057638,
          0.10776942355889729,
          0.11278195488721798,
          0.1177944862155389,
          0.12280701754385959,
          0.1278195488721805,
          0.1328320802005012,
          0.1378446115288221,
          0.1428571428571428,
          0.1478696741854637,
          0.1528822055137844,
          0.1578947368421053,
          0.162907268170426,
          0.1679197994987469,
          0.1729323308270676,
          0.17794486215538852,
          0.1829573934837092,
          0.18796992481203012,
          0.1929824561403508,
          0.19799498746867172,
          0.20300751879699241,
          0.20802005012531333,
          0.21303258145363402,
          0.21804511278195493,
          0.22305764411027562,
          0.22807017543859653,
          0.23308270676691722,
          0.23809523809523814,
          0.24310776942355883,
          0.24812030075187974,
          0.25313283208020043,
          0.25814536340852134,
          0.26315789473684204,
          0.26817042606516295,
          0.27318295739348364,
          0.27819548872180455,
          0.28320802005012524,
          0.28822055137844615,
          0.29323308270676685,
          0.29824561403508776,
          0.30325814536340845,
          0.30827067669172936,
          0.31328320802005005,
          0.31829573934837097,
          0.32330827067669166,
          0.32832080200501257,
          0.33333333333333326,
          0.33834586466165417,
          0.34335839598997486,
          0.3483709273182958,
          0.35338345864661647,
          0.3583959899749374,
          0.36340852130325807,
          0.368421052631579,
          0.3734335839598997,
          0.3784461152882206,
          0.3834586466165413,
          0.3884711779448622,
          0.3934837092731829,
          0.3984962406015038,
          0.4035087719298245,
          0.4085213032581454,
          0.4135338345864661,
          0.418546365914787,
          0.4235588972431077,
          0.4285714285714286,
          0.4335839598997493,
          0.4385964912280702,
          0.4436090225563909,
          0.4486215538847118,
          0.4536340852130325,
          0.4586466165413534,
          0.4636591478696741,
          0.468671679197995,
          0.4736842105263157,
          0.4786967418546366,
          0.4837092731829573,
          0.4887218045112782,
          0.4937343358395989,
          0.4987468671679198,
          0.5037593984962405,
          0.5087719298245614,
          0.5137844611528821,
          0.518796992481203,
          0.5238095238095237,
          0.5288220551378446,
          0.5338345864661653,
          0.5388471177944862,
          0.5438596491228069,
          0.5488721804511278,
          0.5538847117794485,
          0.5588972431077694,
          0.5639097744360901,
          0.568922305764411,
          0.5739348370927317,
          0.5789473684210527,
          0.5839598997493733,
          0.5889724310776943,
          0.593984962406015,
          0.5989974937343359,
          0.6040100250626566,
          0.6090225563909775,
          0.6140350877192982,
          0.6190476190476191,
          0.6240601503759398,
          0.6290726817042607,
          0.6340852130325814,
          0.6390977443609023,
          0.644110275689223,
          0.6491228070175439,
          0.6541353383458646,
          0.6591478696741855,
          0.6641604010025062,
          0.6691729323308271,
          0.6741854636591478,
          0.6791979949874687,
          0.6842105263157894,
          0.6892230576441103,
          0.694235588972431,
          0.6992481203007519,
          0.7042606516290726,
          0.7092731829573935,
          0.7142857142857142,
          0.7192982456140351,
          0.7243107769423558,
          0.7293233082706767,
          0.7343358395989974,
          0.7393483709273183,
          0.744360902255639,
          0.7493734335839599,
          0.7543859649122806,
          0.7593984962406015,
          0.7644110275689222,
          0.7694235588972431,
          0.7744360902255638,
          0.7794486215538847,
          0.7844611528822054,
          0.7894736842105263,
          0.794486215538847,
          0.7994987468671679,
          0.8045112781954886,
          0.8095238095238095,
          0.8145363408521302,
          0.8195488721804511,
          0.8245614035087718,
          0.8295739348370927,
          0.8345864661654134,
          0.8395989974937343,
          0.844611528822055,
          0.849624060150376,
          0.8546365914786966,
          0.8596491228070176,
          0.8646616541353382,
          0.8696741854636592,
          0.8746867167919798,
          0.8796992481203008,
          0.8847117794486214,
          0.8897243107769424,
          0.894736842105263,
          0.899749373433584,
          0.9047619047619047,
          0.9097744360902256,
          0.9147869674185463,
          0.9197994987468672,
          0.9248120300751879,
          0.9298245614035088,
          0.9348370927318295,
          0.9398496240601504,
          0.9448621553884711,
          0.949874686716792,
          0.9548872180451127,
          0.9598997493734336,
          0.9649122807017543,
          0.9699248120300752,
          0.9749373433583959,
          0.9799498746867168,
          0.9849624060150375,
          0.9899749373433584,
          0.9949874686716791,
          1
         ],
         "y": [
          0,
          0.00999993718632397,
          0.019949623432013563,
          0.029849058737068446,
          0.03969824310148806,
          0.04949717652527286,
          0.059245859008423274,
          0.06894429055093898,
          0.07859247115281942,
          0.08819040081406504,
          0.09773807953467628,
          0.1072355073146527,
          0.11668268415399397,
          0.1260796100527004,
          0.13542628501077258,
          0.14472270902820983,
          0.15396888210501192,
          0.16316480424117918,
          0.17231047543671207,
          0.18140589569161014,
          0.19045106500587305,
          0.19944598337950115,
          0.20839065081249486,
          0.21728506730485375,
          0.2261292328565775,
          0.2349231474676664,
          0.24366681113812094,
          0.25236022386794066,
          0.2610033856571252,
          0.26959629650567496,
          0.2781389564135903,
          0.28663136538087086,
          0.29507352340751625,
          0.3034654304935268,
          0.311807086638903,
          0.32009849184364436,
          0.32833964610775057,
          0.33653054943122196,
          0.34467120181405897,
          0.35276160325626116,
          0.3608017537578282,
          0.3687916533187604,
          0.3767313019390581,
          0.38462069961872114,
          0.392459846357749,
          0.40024874215614203,
          0.4079873870139007,
          0.4156757809310244,
          0.4233139239075131,
          0.43090181594336696,
          0.43843945703858644,
          0.445926847193171,
          0.4533639864071205,
          0.4607508746804352,
          0.4680875120131155,
          0.47537389840516087,
          0.4826100338565712,
          0.4897959183673467,
          0.49693155193748784,
          0.504016934566994,
          0.5110520662558652,
          0.5180369470041015,
          0.5249715768117034,
          0.5318559556786705,
          0.5386900836050025,
          0.5454739605906996,
          0.5522075866357623,
          0.5588909617401903,
          0.565524085903983,
          0.572106959127141,
          0.5786395814096645,
          0.5851219527515532,
          0.5915540731528068,
          0.5979359426134256,
          0.60426756113341,
          0.6105489287127595,
          0.6167800453514739,
          0.6229609110495535,
          0.6290915258069987,
          0.635171889623809,
          0.6412020024999843,
          0.6471818644355247,
          0.6531114754304307,
          0.6589908354847018,
          0.6648199445983379,
          0.6705988027713392,
          0.676327410003706,
          0.682005766295438,
          0.6876338716465349,
          0.693211726056997,
          0.6987393295268245,
          0.7042166820560174,
          0.709643783644575,
          0.7150206342924981,
          0.7203472339997864,
          0.72562358276644,
          0.7308496805924586,
          0.7360255274778423,
          0.7411511234225916,
          0.7462264684267059,
          0.7512515624901853,
          0.75622640561303,
          0.76115099779524,
          0.7660253390368151,
          0.7708494293377554,
          0.7756232686980609,
          0.7803468571177317,
          0.7850201945967676,
          0.7896432811351687,
          0.794216116732935,
          0.7987387013900666,
          0.8032110351065634,
          0.8076331178824253,
          0.8120049497176525,
          0.8163265306122449,
          0.8205978605662025,
          0.8248189395795252,
          0.8289897676522131,
          0.8331103447842664,
          0.8371806709756848,
          0.8412007462264683,
          0.8451705705366171,
          0.8490901439061312,
          0.8529594663350104,
          0.8567785378232549,
          0.8605473583708645,
          0.8642659279778393,
          0.8679342466441794,
          0.8715523143698846,
          0.875120131154955,
          0.8786376969993906,
          0.8821050119031916,
          0.8855220758663576,
          0.8888888888888888,
          0.8922054509707853,
          0.895471762112047,
          0.8986878223126739,
          0.901853631572666,
          0.9049691898920232,
          0.9080344972707458,
          0.9110495537088334,
          0.9140143592062864,
          0.9169289137631045,
          0.9197932173792879,
          0.9226072700548363,
          0.92537107178975,
          0.928084622584029,
          0.9307479224376731,
          0.9333609713506824,
          0.935923769323057,
          0.9384363163547967,
          0.9408986124459018,
          0.9433106575963719,
          0.9456724518062072,
          0.9479839950754078,
          0.9502452874039736,
          0.9524563287919046,
          0.9546171192392007,
          0.9567276587458622,
          0.9587879473118888,
          0.9607979849372805,
          0.9627577716220375,
          0.9646673073661598,
          0.9665265921696472,
          0.9683356260324998,
          0.9700944089547175,
          0.9718029409363006,
          0.9734612219772489,
          0.9750692520775623,
          0.9766270312372409,
          0.9781345594562848,
          0.9795918367346939,
          0.9809988630724681,
          0.9823556384696076,
          0.9836621629261123,
          0.9849184364419822,
          0.9861244590172172,
          0.9872802306518175,
          0.988385751345783,
          0.9894410210991137,
          0.9904460399118096,
          0.9914008077838706,
          0.992305324715297,
          0.9931595907060885,
          0.9939636057562452,
          0.9947173698657672,
          0.9954208830346543,
          0.9960741452629066,
          0.9966771565505241,
          0.997229916897507,
          0.9977324263038548,
          0.998184684769568,
          0.9985866922946464,
          0.99893844887909,
          0.9992399545228987,
          0.9994912092260727,
          0.9996922129886119,
          0.9998429658105162,
          0.9999434676917859,
          0.9999937186324207,
          0.9999937186324207,
          0.9999434676917859,
          0.9998429658105162,
          0.9996922129886119,
          0.9994912092260727,
          0.9992399545228987,
          0.99893844887909,
          0.9985866922946464,
          0.998184684769568,
          0.9977324263038548,
          0.997229916897507,
          0.9966771565505241,
          0.9960741452629066,
          0.9954208830346543,
          0.9947173698657672,
          0.9939636057562452,
          0.9931595907060885,
          0.992305324715297,
          0.9914008077838707,
          0.9904460399118096,
          0.9894410210991137,
          0.988385751345783,
          0.9872802306518176,
          0.9861244590172172,
          0.9849184364419822,
          0.9836621629261123,
          0.9823556384696076,
          0.9809988630724681,
          0.9795918367346939,
          0.9781345594562848,
          0.976627031237241,
          0.9750692520775623,
          0.9734612219772489,
          0.9718029409363006,
          0.9700944089547177,
          0.9683356260324998,
          0.9665265921696472,
          0.9646673073661598,
          0.9627577716220376,
          0.9607979849372805,
          0.9587879473118888,
          0.9567276587458622,
          0.9546171192392008,
          0.9524563287919046,
          0.9502452874039736,
          0.9479839950754078,
          0.9456724518062073,
          0.9433106575963719,
          0.9408986124459018,
          0.9384363163547967,
          0.9359237693230571,
          0.9333609713506824,
          0.9307479224376731,
          0.928084622584029,
          0.9253710717897501,
          0.9226072700548363,
          0.9197932173792879,
          0.9169289137631045,
          0.9140143592062864,
          0.9110495537088334,
          0.9080344972707458,
          0.9049691898920232,
          0.9018536315726661,
          0.8986878223126739,
          0.895471762112047,
          0.8922054509707853,
          0.888888888888889,
          0.8855220758663576,
          0.8821050119031916,
          0.8786376969993906,
          0.8751201311549551,
          0.8715523143698846,
          0.8679342466441794,
          0.8642659279778393,
          0.8605473583708646,
          0.8567785378232549,
          0.8529594663350105,
          0.8490901439061312,
          0.8451705705366173,
          0.8412007462264683,
          0.8371806709756848,
          0.8331103447842664,
          0.8289897676522133,
          0.8248189395795252,
          0.8205978605662025,
          0.8163265306122449,
          0.8120049497176526,
          0.8076331178824253,
          0.8032110351065634,
          0.7987387013900666,
          0.7942161167329351,
          0.7896432811351687,
          0.7850201945967676,
          0.7803468571177317,
          0.7756232686980611,
          0.7708494293377554,
          0.7660253390368151,
          0.76115099779524,
          0.7562264056130301,
          0.7512515624901853,
          0.7462264684267059,
          0.7411511234225916,
          0.7360255274778426,
          0.7308496805924586,
          0.72562358276644,
          0.7203472339997864,
          0.7150206342924983,
          0.709643783644575,
          0.7042166820560174,
          0.6987393295268245,
          0.6932117260569972,
          0.6876338716465349,
          0.682005766295438,
          0.676327410003706,
          0.6705988027713394,
          0.6648199445983379,
          0.6589908354847018,
          0.6531114754304307,
          0.647181864435525,
          0.6412020024999843,
          0.635171889623809,
          0.6290915258069987,
          0.6229609110495538,
          0.6167800453514739,
          0.6105489287127595,
          0.60426756113341,
          0.5979359426134259,
          0.5915540731528068,
          0.5851219527515532,
          0.5786395814096645,
          0.5721069591271413,
          0.565524085903983,
          0.5588909617401903,
          0.5522075866357623,
          0.5454739605907,
          0.5386900836050025,
          0.5318559556786705,
          0.5249715768117034,
          0.5180369470041019,
          0.5110520662558652,
          0.504016934566994,
          0.49693155193748784,
          0.48979591836734704,
          0.4826100338565712,
          0.47537389840516087,
          0.4680875120131155,
          0.4607508746804355,
          0.4533639864071205,
          0.445926847193171,
          0.43843945703858644,
          0.4309018159433673,
          0.4233139239075131,
          0.4156757809310244,
          0.4079873870139007,
          0.40024874215614237,
          0.392459846357749,
          0.38462069961872114,
          0.3767313019390581,
          0.36879165331876074,
          0.3608017537578282,
          0.35276160325626116,
          0.34467120181405897,
          0.3365305494312223,
          0.32833964610775057,
          0.32009849184364436,
          0.311807086638903,
          0.30346543049352726,
          0.29507352340751625,
          0.28663136538087086,
          0.2781389564135903,
          0.2695962965056754,
          0.2610033856571252,
          0.25236022386794066,
          0.24366681113812094,
          0.23492314746766685,
          0.2261292328565775,
          0.21728506730485375,
          0.20839065081249486,
          0.1994459833795016,
          0.19045106500587305,
          0.18140589569161014,
          0.17231047543671207,
          0.16316480424117963,
          0.15396888210501192,
          0.14472270902820983,
          0.13542628501077258,
          0.12607961005270085,
          0.11668268415399397,
          0.1072355073146527,
          0.09773807953467628,
          0.08819040081406548,
          0.07859247115281942,
          0.06894429055093898,
          0.059245859008423274,
          0.0494971765252733,
          0.03969824310148806,
          0.029849058737068446,
          0.019949623432013563,
          0.009999937186324415,
          0
         ]
        },
        {
         "mode": "markers",
         "name": "u approx (u_h)",
         "type": "scatter",
         "x": [
          -1,
          -0.9949874686716793,
          -0.9899749373433584,
          -0.9849624060150375,
          -0.9799498746867168,
          -0.9749373433583961,
          -0.9699248120300752,
          -0.9649122807017543,
          -0.9598997493734336,
          -0.9548872180451129,
          -0.949874686716792,
          -0.9448621553884711,
          -0.9398496240601504,
          -0.9348370927318297,
          -0.9298245614035088,
          -0.9248120300751879,
          -0.9197994987468672,
          -0.9147869674185465,
          -0.9097744360902256,
          -0.9047619047619047,
          -0.899749373433584,
          -0.8947368421052633,
          -0.8897243107769424,
          -0.8847117794486214,
          -0.8796992481203008,
          -0.8746867167919801,
          -0.8696741854636592,
          -0.8646616541353382,
          -0.8596491228070176,
          -0.8546365914786969,
          -0.849624060150376,
          -0.844611528822055,
          -0.8395989974937343,
          -0.8345864661654137,
          -0.8295739348370927,
          -0.8245614035087718,
          -0.8195488721804511,
          -0.8145363408521304,
          -0.8095238095238095,
          -0.8045112781954886,
          -0.7994987468671679,
          -0.7944862155388472,
          -0.7894736842105263,
          -0.7844611528822054,
          -0.7794486215538847,
          -0.774436090225564,
          -0.7694235588972431,
          -0.7644110275689222,
          -0.7593984962406015,
          -0.7543859649122808,
          -0.7493734335839599,
          -0.744360902255639,
          -0.7393483709273183,
          -0.7343358395989976,
          -0.7293233082706767,
          -0.7243107769423558,
          -0.7192982456140351,
          -0.7142857142857144,
          -0.7092731829573935,
          -0.7042606516290726,
          -0.6992481203007519,
          -0.6942355889724312,
          -0.6892230576441103,
          -0.6842105263157894,
          -0.6791979949874687,
          -0.674185463659148,
          -0.6691729323308271,
          -0.6641604010025062,
          -0.6591478696741855,
          -0.6541353383458648,
          -0.6491228070175439,
          -0.644110275689223,
          -0.6390977443609023,
          -0.6340852130325816,
          -0.6290726817042607,
          -0.6240601503759398,
          -0.6190476190476191,
          -0.6140350877192984,
          -0.6090225563909775,
          -0.6040100250626566,
          -0.5989974937343359,
          -0.5939849624060152,
          -0.5889724310776943,
          -0.5839598997493733,
          -0.5789473684210527,
          -0.573934837092732,
          -0.568922305764411,
          -0.5639097744360901,
          -0.5588972431077694,
          -0.5538847117794488,
          -0.5488721804511278,
          -0.5438596491228069,
          -0.5388471177944862,
          -0.5338345864661656,
          -0.5288220551378446,
          -0.5238095238095237,
          -0.518796992481203,
          -0.5137844611528823,
          -0.5087719298245614,
          -0.5037593984962405,
          -0.4987468671679198,
          -0.4937343358395991,
          -0.4887218045112782,
          -0.48370927318295737,
          -0.4786967418546366,
          -0.4736842105263159,
          -0.468671679197995,
          -0.46365914786967416,
          -0.4586466165413534,
          -0.45363408521303267,
          -0.4486215538847118,
          -0.44360902255639095,
          -0.4385964912280702,
          -0.43358395989974946,
          -0.4285714285714286,
          -0.42355889724310775,
          -0.418546365914787,
          -0.41353383458646625,
          -0.4085213032581454,
          -0.40350877192982454,
          -0.3984962406015038,
          -0.39348370927318305,
          -0.3884711779448622,
          -0.38345864661654133,
          -0.3784461152882206,
          -0.37343358395989984,
          -0.368421052631579,
          -0.3634085213032581,
          -0.3583959899749374,
          -0.35338345864661663,
          -0.3483709273182958,
          -0.3433583959899749,
          -0.33834586466165417,
          -0.3333333333333334,
          -0.32832080200501257,
          -0.3233082706766917,
          -0.31829573934837097,
          -0.3132832080200502,
          -0.30827067669172936,
          -0.3032581453634085,
          -0.29824561403508776,
          -0.293233082706767,
          -0.28822055137844615,
          -0.2832080200501253,
          -0.27819548872180455,
          -0.2731829573934838,
          -0.26817042606516295,
          -0.2631578947368421,
          -0.25814536340852134,
          -0.2531328320802006,
          -0.24812030075187974,
          -0.24310776942355888,
          -0.23809523809523814,
          -0.2330827067669174,
          -0.22807017543859653,
          -0.22305764411027568,
          -0.21804511278195493,
          -0.21303258145363418,
          -0.20802005012531333,
          -0.20300751879699247,
          -0.19799498746867172,
          -0.19298245614035098,
          -0.18796992481203012,
          -0.18295739348370926,
          -0.17794486215538852,
          -0.17293233082706777,
          -0.1679197994987469,
          -0.16290726817042606,
          -0.1578947368421053,
          -0.15288220551378456,
          -0.1478696741854637,
          -0.14285714285714285,
          -0.1378446115288221,
          -0.13283208020050136,
          -0.1278195488721805,
          -0.12280701754385964,
          -0.1177944862155389,
          -0.11278195488721815,
          -0.10776942355889729,
          -0.10275689223057644,
          -0.09774436090225569,
          -0.09273182957393494,
          -0.08771929824561409,
          -0.08270676691729323,
          -0.07769423558897248,
          -0.07268170426065174,
          -0.06766917293233088,
          -0.06265664160401002,
          -0.057644110275689275,
          -0.05263157894736853,
          -0.04761904761904767,
          -0.042606516290726815,
          -0.03759398496240607,
          -0.03258145363408532,
          -0.027568922305764465,
          -0.022556390977443608,
          -0.01754385964912286,
          -0.012531328320802115,
          -0.007518796992481258,
          -0.002506265664160401,
          0.0025062656641603454,
          0.007518796992481258,
          0.012531328320801949,
          0.01754385964912286,
          0.022556390977443552,
          0.027568922305764465,
          0.032581453634085156,
          0.03759398496240607,
          0.04260651629072676,
          0.04761904761904767,
          0.05263157894736836,
          0.057644110275689275,
          0.06265664160400997,
          0.06766917293233088,
          0.07268170426065157,
          0.07769423558897248,
          0.08270676691729317,
          0.08771929824561409,
          0.09273182957393478,
          0.09774436090225569,
          0.10275689223057638,
          0.10776942355889729,
          0.11278195488721798,
          0.1177944862155389,
          0.12280701754385959,
          0.1278195488721805,
          0.1328320802005012,
          0.1378446115288221,
          0.1428571428571428,
          0.1478696741854637,
          0.1528822055137844,
          0.1578947368421053,
          0.162907268170426,
          0.1679197994987469,
          0.1729323308270676,
          0.17794486215538852,
          0.1829573934837092,
          0.18796992481203012,
          0.1929824561403508,
          0.19799498746867172,
          0.20300751879699241,
          0.20802005012531333,
          0.21303258145363402,
          0.21804511278195493,
          0.22305764411027562,
          0.22807017543859653,
          0.23308270676691722,
          0.23809523809523814,
          0.24310776942355883,
          0.24812030075187974,
          0.25313283208020043,
          0.25814536340852134,
          0.26315789473684204,
          0.26817042606516295,
          0.27318295739348364,
          0.27819548872180455,
          0.28320802005012524,
          0.28822055137844615,
          0.29323308270676685,
          0.29824561403508776,
          0.30325814536340845,
          0.30827067669172936,
          0.31328320802005005,
          0.31829573934837097,
          0.32330827067669166,
          0.32832080200501257,
          0.33333333333333326,
          0.33834586466165417,
          0.34335839598997486,
          0.3483709273182958,
          0.35338345864661647,
          0.3583959899749374,
          0.36340852130325807,
          0.368421052631579,
          0.3734335839598997,
          0.3784461152882206,
          0.3834586466165413,
          0.3884711779448622,
          0.3934837092731829,
          0.3984962406015038,
          0.4035087719298245,
          0.4085213032581454,
          0.4135338345864661,
          0.418546365914787,
          0.4235588972431077,
          0.4285714285714286,
          0.4335839598997493,
          0.4385964912280702,
          0.4436090225563909,
          0.4486215538847118,
          0.4536340852130325,
          0.4586466165413534,
          0.4636591478696741,
          0.468671679197995,
          0.4736842105263157,
          0.4786967418546366,
          0.4837092731829573,
          0.4887218045112782,
          0.4937343358395989,
          0.4987468671679198,
          0.5037593984962405,
          0.5087719298245614,
          0.5137844611528821,
          0.518796992481203,
          0.5238095238095237,
          0.5288220551378446,
          0.5338345864661653,
          0.5388471177944862,
          0.5438596491228069,
          0.5488721804511278,
          0.5538847117794485,
          0.5588972431077694,
          0.5639097744360901,
          0.568922305764411,
          0.5739348370927317,
          0.5789473684210527,
          0.5839598997493733,
          0.5889724310776943,
          0.593984962406015,
          0.5989974937343359,
          0.6040100250626566,
          0.6090225563909775,
          0.6140350877192982,
          0.6190476190476191,
          0.6240601503759398,
          0.6290726817042607,
          0.6340852130325814,
          0.6390977443609023,
          0.644110275689223,
          0.6491228070175439,
          0.6541353383458646,
          0.6591478696741855,
          0.6641604010025062,
          0.6691729323308271,
          0.6741854636591478,
          0.6791979949874687,
          0.6842105263157894,
          0.6892230576441103,
          0.694235588972431,
          0.6992481203007519,
          0.7042606516290726,
          0.7092731829573935,
          0.7142857142857142,
          0.7192982456140351,
          0.7243107769423558,
          0.7293233082706767,
          0.7343358395989974,
          0.7393483709273183,
          0.744360902255639,
          0.7493734335839599,
          0.7543859649122806,
          0.7593984962406015,
          0.7644110275689222,
          0.7694235588972431,
          0.7744360902255638,
          0.7794486215538847,
          0.7844611528822054,
          0.7894736842105263,
          0.794486215538847,
          0.7994987468671679,
          0.8045112781954886,
          0.8095238095238095,
          0.8145363408521302,
          0.8195488721804511,
          0.8245614035087718,
          0.8295739348370927,
          0.8345864661654134,
          0.8395989974937343,
          0.844611528822055,
          0.849624060150376,
          0.8546365914786966,
          0.8596491228070176,
          0.8646616541353382,
          0.8696741854636592,
          0.8746867167919798,
          0.8796992481203008,
          0.8847117794486214,
          0.8897243107769424,
          0.894736842105263,
          0.899749373433584,
          0.9047619047619047,
          0.9097744360902256,
          0.9147869674185463,
          0.9197994987468672,
          0.9248120300751879,
          0.9298245614035088,
          0.9348370927318295,
          0.9398496240601504,
          0.9448621553884711,
          0.949874686716792,
          0.9548872180451127,
          0.9598997493734336,
          0.9649122807017543,
          0.9699248120300752,
          0.9749373433583959,
          0.9799498746867168,
          0.9849624060150375,
          0.9899749373433584,
          0.9949874686716791,
          1
         ],
         "y": [
          0.006608456591584691,
          0.01664976863712813,
          0.0332492863336222,
          0.04979805058323158,
          0.06629556140486263,
          0.0827413213425803,
          0.09913483546560649,
          0.1154756113683187,
          0.13176315917025153,
          0.14799699151609796,
          0.16417662357570806,
          0.18030157304408748,
          0.1963713601413989,
          0.21238550761296354,
          0.22834354072925955,
          0.24424498728592076,
          0.26008937760373796,
          0.27587624452866055,
          0.2916051234317947,
          0.3072755522094024,
          0.3228870712829027,
          0.338439223598873,
          0.35393155462904774,
          0.369363612370317,
          0.3847349473447279,
          0.400045112599486,
          0.4152936637069539,
          0.4304801587646499,
          0.44560415839524925,
          0.4606652257465856,
          0.47566292649164954,
          0.49059682882858763,
          0.5054665034807032,
          0.5202715236964581,
          0.5350114652494713,
          0.5496859064385171,
          0.5642944280875273,
          0.5788366135455918,
          0.5933120486869574,
          0.607720321911027,
          0.6220610241423601,
          0.6363337488306751,
          0.6505380919508468,
          0.6646736520029061,
          0.678740030012041,
          0.6927368295285975,
          0.7066636566280787,
          0.7205201199111441,
          0.7343058305036093,
          0.7480204020564488,
          0.761663450745794,
          0.7752345952729319,
          0.7887334568643067,
          0.802159659271521,
          0.815512828771334,
          0.8287925941656611,
          0.8419985867815747,
          0.8551304404713055,
          0.8681877916122409,
          0.8811702791069246,
          0.8940775443830568,
          0.9069092313934963,
          0.9196649866162588,
          0.9323444590545161,
          0.9449473002365967,
          0.9574731642159874,
          0.9699217075713321,
          0.9822925894064305,
          0.9945854713502392,
          1.0068000175568734,
          1.018935894705605,
          1.030992772000862,
          1.042970321172229,
          1.0548682164744492,
          1.0666861346874228,
          1.078423755116206,
          1.0900807595910114,
          1.1016568324672107,
          1.113151660625332,
          1.1245649334710597,
          1.1358963429352347,
          1.1471455834738566,
          1.1583123520680818,
          1.1693963482242224,
          1.1803972739737478,
          1.1913148338732855,
          1.2021487350046198,
          1.2128986869746914,
          1.2235644019155978,
          1.2341455944845945,
          1.2446419818640941,
          1.2550532837616657,
          1.2653792224100344,
          1.2756195225670843,
          1.2857739115158562,
          1.2958421190645464,
          1.3058238775465092,
          1.3157189218202565,
          1.3255269892694566,
          1.335247819802935,
          1.3448811558546734,
          1.3544267423838119,
          1.3638843268746474,
          1.3732536593366331,
          1.382534492304379,
          1.3917265808376538,
          1.4008296825213817,
          1.4098435574656445,
          1.418767968305681,
          1.4276026802018866,
          1.4363474608398146,
          1.4450020804301746,
          1.453566311708833,
          1.4620399299368148,
          1.4704227129002998,
          1.4787144409106268,
          1.48691489680429,
          1.4950238659429422,
          1.503041136213392,
          1.5109664980276059,
          1.5187997443227068,
          1.526540670560975,
          1.534189074729848,
          1.54174475734192,
          1.549207521434942,
          1.5565771725718223,
          1.5638535188406268,
          1.5710363708545778,
          1.578125541752054,
          1.5851208471965923,
          1.5920221053768862,
          1.598829137006786,
          1.6055417653252992,
          1.6121598160965909,
          1.6186831176099825,
          1.6251115006799528,
          1.631444798646137,
          1.6376828473733283,
          1.6438254852514764,
          1.6498725531956884,
          1.6558238946462276,
          1.6616793555685154,
          1.6674387844531293,
          1.673102032315805,
          1.6786689526974334,
          1.6841394016640645,
          1.6895132378069035,
          1.694790322242314,
          1.699970518611816,
          1.7050536930820865,
          1.7100397143449597,
          1.7149284536174274,
          1.7197197846416377,
          1.7244135836848957,
          1.7290097295396634,
          1.7335081035235607,
          1.7379085894793636,
          1.7422110737750058,
          1.7464154453035778,
          1.7505215954833275,
          1.7545294182576587,
          1.7584388100951336,
          1.7622496699894705,
          1.7659618994595452,
          1.76957540254939,
          1.7730900858281948,
          1.7765058583903062,
          1.7798226318552282,
          1.783040320367621,
          1.7861588405973035,
          1.7891781117392493,
          1.7920980555135917,
          1.7949185961656187,
          1.797639660465777,
          1.8002611777096689,
          1.802783079718055,
          1.8052053008368523,
          1.807527777937135,
          1.8097504504151338,
          1.8118732601922372,
          1.8138961517149905,
          1.8158190719550962,
          1.8176419704094133,
          1.8193647990999586,
          1.8209875125739048,
          1.8225100679035826,
          1.8239324246864794,
          1.82525454504524,
          1.8264763936276653,
          1.8275979376067144,
          1.8286191466805028,
          1.8295399930723033,
          1.830360451530545,
          1.8310804993288146,
          1.8317001162658562,
          1.8322192846655707,
          1.8326379893770155,
          1.8329562177744059,
          1.833173959757113,
          1.8332912077496664,
          1.8333079567017512,
          1.8332242040882114,
          1.8330399499090466,
          1.8327551966894133,
          1.8323699494796257,
          1.8318842158551552,
          1.8312980059166302,
          1.830611332289835,
          1.8298242101257127,
          1.828936657100362,
          1.8279486934150395,
          1.8268603417961582,
          1.8256716274952887,
          1.8243825782891578,
          1.8229932244796505,
          1.821503598893808,
          1.819913736883829,
          1.8182236763270687,
          1.8164334576260397,
          1.814543123708412,
          1.812552720027012,
          1.8104622945598232,
          1.8082718978099865,
          1.8059815828057995,
          1.8035914051007171,
          1.8011014227733513,
          1.7985116964274706,
          1.795822289192001,
          1.7930332667210256,
          1.7901446971937842,
          1.787156651314674,
          1.7840692023132485,
          1.780882425944219,
          1.7775964004874534,
          1.7742112067479767,
          1.7707269280559714,
          1.7671436502667768,
          1.7634614617608886,
          1.75968045344396,
          1.7558007187468014,
          1.7518223536253803,
          1.7477454565608208,
          1.7435701285594045,
          1.73929647315257,
          1.7349245963969127,
          1.7304546068741848,
          1.7258866156912966,
          1.7212207364803138,
          1.7164570853984602,
          1.7115957811281166,
          1.7066369448768208,
          1.7015807003772672,
          1.6964271738873076,
          1.6911764941899508,
          1.6858287925933624,
          1.6803842029308655,
          1.6748428615609399,
          1.6692049073672224,
          1.6634704817585073,
          1.6576397286687454,
          1.651712794557045,
          1.6456898284076702,
          1.639570981730044,
          1.6333564085587446,
          1.6270462654535094,
          1.6206407114992305,
          1.6141399083059589,
          1.6075440200089015,
          1.6008532132684228,
          1.5940676572700434,
          1.5871875237244426,
          1.580212986867455,
          1.5731442234600739,
          1.565981412788448,
          1.5587247366638846,
          1.5513743794228463,
          1.5439305279269544,
          1.536393371562986,
          1.5287631022428763,
          1.5210399144037157,
          1.5132240050077543,
          1.505315573542397,
          1.4973148220202073,
          1.489221954978904,
          1.4810371794813655,
          1.472760705115624,
          1.4643927439948714,
          1.4559335107574551,
          1.4473832225668812,
          1.4387420991118103,
          1.4300103626060623,
          1.421188237788613,
          1.4122759519235957,
          1.4032737348003002,
          1.3941818187331743,
          1.3850004385618215,
          1.3757298316510036,
          1.3663702378906382,
          1.3569218996958017,
          1.3473850620067256,
          1.3377599722888,
          1.3280468805325707,
          1.3182460392537416,
          1.3083577034931728,
          1.2983821308168824,
          1.2883195813160444,
          1.278170317606991,
          1.2679346048312101,
          1.257612710655348,
          1.2472049052712066,
          1.2367114613957468,
          1.2261326542710842,
          1.2154687616644935,
          1.204720063868405,
          1.1938868437004073,
          1.1829693865032442,
          1.171967980144819,
          1.1608829150181896,
          1.1497144840415727,
          1.1384629826583406,
          1.1271287088370243,
          1.1157119630713102,
          1.1042130483800432,
          1.0926322703072235,
          1.0809699369220105,
          1.069226358818718,
          1.05740184911682,
          1.0454967234609442,
          1.0335113000208787,
          1.0214458994915652,
          1.0093008450931056,
          0.9970764625707562,
          0.9847730801949327,
          0.9723910287612054,
          0.9599306415903038,
          0.9473922545281128,
          0.9347762059456761,
          0.9220828367391919,
          0.9093124903300184,
          0.896465512664668,
          0.8835422522148126,
          0.8705430599772789,
          0.8574682894740528,
          0.8443182967522754,
          0.8310934403842466,
          0.8177940814674212,
          0.8044205836244132,
          0.7909733130029917,
          0.7774526382760849,
          0.7638589306417757,
          0.7501925638233063,
          0.7364539140690739,
          0.7226433601526349,
          0.7087612833727002,
          0.6948080675531403,
          0.6807840990429803,
          0.6666897667164047,
          0.6525254619727526,
          0.638291578736523,
          0.6239885134573688,
          0.6096166651101028,
          0.5951764351946922,
          0.5806682277362639,
          0.5660924492850993,
          0.5514495089166391,
          0.536739818231479,
          0.5219637913553737,
          0.5071218449392327,
          0.49221439815912504,
          0.4772418727162743,
          0.46220469283706345,
          0.4471032852730302,
          0.4319380793008717,
          0.4167095067224395,
          0.40141800186474497,
          0.38606400157995374,
          0.3706479452453912,
          0.355170274763537,
          0.33963143456203077,
          0.32403187159366614,
          0.30837203533639673,
          0.2926523777933303,
          0.2768733534927345,
          0.2610354194880313,
          0.24513903535780232,
          0.22918466320578354,
          0.2131727676608708,
          0.19710381587711404,
          0.18097827753372314,
          0.16479662483506213,
          0.14855933251065503,
          0.13226687781517993,
          0.11591974052847487,
          0.09951840295553202,
          0.08306334992650352,
          0.06655506879669561,
          0.04999404944657446,
          0.03338078428176038,
          0.01671576823303365,
          0.006698675147188389
         ]
        }
       ],
       "frames": [],
       "layout": {
        "margin": {
         "b": 50,
         "l": 50,
         "r": 50,
         "t": 60
        },
        "template": {
         "data": {
          "bar": [
           {
            "error_x": {
             "color": "#2a3f5f"
            },
            "error_y": {
             "color": "#2a3f5f"
            },
            "marker": {
             "line": {
              "color": "#E5ECF6",
              "width": 0.5
             }
            },
            "type": "bar"
           }
          ],
          "barpolar": [
           {
            "marker": {
             "line": {
              "color": "#E5ECF6",
              "width": 0.5
             }
            },
            "type": "barpolar"
           }
          ],
          "carpet": [
           {
            "aaxis": {
             "endlinecolor": "#2a3f5f",
             "gridcolor": "white",
             "linecolor": "white",
             "minorgridcolor": "white",
             "startlinecolor": "#2a3f5f"
            },
            "baxis": {
             "endlinecolor": "#2a3f5f",
             "gridcolor": "white",
             "linecolor": "white",
             "minorgridcolor": "white",
             "startlinecolor": "#2a3f5f"
            },
            "type": "carpet"
           }
          ],
          "choropleth": [
           {
            "colorbar": {
             "outlinewidth": 0,
             "ticks": ""
            },
            "type": "choropleth"
           }
          ],
          "contour": [
           {
            "colorbar": {
             "outlinewidth": 0,
             "ticks": ""
            },
            "colorscale": [
             [
              0,
              "#0d0887"
             ],
             [
              0.1111111111111111,
              "#46039f"
             ],
             [
              0.2222222222222222,
              "#7201a8"
             ],
             [
              0.3333333333333333,
              "#9c179e"
             ],
             [
              0.4444444444444444,
              "#bd3786"
             ],
             [
              0.5555555555555556,
              "#d8576b"
             ],
             [
              0.6666666666666666,
              "#ed7953"
             ],
             [
              0.7777777777777778,
              "#fb9f3a"
             ],
             [
              0.8888888888888888,
              "#fdca26"
             ],
             [
              1,
              "#f0f921"
             ]
            ],
            "type": "contour"
           }
          ],
          "contourcarpet": [
           {
            "colorbar": {
             "outlinewidth": 0,
             "ticks": ""
            },
            "type": "contourcarpet"
           }
          ],
          "heatmap": [
           {
            "colorbar": {
             "outlinewidth": 0,
             "ticks": ""
            },
            "colorscale": [
             [
              0,
              "#0d0887"
             ],
             [
              0.1111111111111111,
              "#46039f"
             ],
             [
              0.2222222222222222,
              "#7201a8"
             ],
             [
              0.3333333333333333,
              "#9c179e"
             ],
             [
              0.4444444444444444,
              "#bd3786"
             ],
             [
              0.5555555555555556,
              "#d8576b"
             ],
             [
              0.6666666666666666,
              "#ed7953"
             ],
             [
              0.7777777777777778,
              "#fb9f3a"
             ],
             [
              0.8888888888888888,
              "#fdca26"
             ],
             [
              1,
              "#f0f921"
             ]
            ],
            "type": "heatmap"
           }
          ],
          "heatmapgl": [
           {
            "colorbar": {
             "outlinewidth": 0,
             "ticks": ""
            },
            "colorscale": [
             [
              0,
              "#0d0887"
             ],
             [
              0.1111111111111111,
              "#46039f"
             ],
             [
              0.2222222222222222,
              "#7201a8"
             ],
             [
              0.3333333333333333,
              "#9c179e"
             ],
             [
              0.4444444444444444,
              "#bd3786"
             ],
             [
              0.5555555555555556,
              "#d8576b"
             ],
             [
              0.6666666666666666,
              "#ed7953"
             ],
             [
              0.7777777777777778,
              "#fb9f3a"
             ],
             [
              0.8888888888888888,
              "#fdca26"
             ],
             [
              1,
              "#f0f921"
             ]
            ],
            "type": "heatmapgl"
           }
          ],
          "histogram": [
           {
            "marker": {
             "colorbar": {
              "outlinewidth": 0,
              "ticks": ""
             }
            },
            "type": "histogram"
           }
          ],
          "histogram2d": [
           {
            "colorbar": {
             "outlinewidth": 0,
             "ticks": ""
            },
            "colorscale": [
             [
              0,
              "#0d0887"
             ],
             [
              0.1111111111111111,
              "#46039f"
             ],
             [
              0.2222222222222222,
              "#7201a8"
             ],
             [
              0.3333333333333333,
              "#9c179e"
             ],
             [
              0.4444444444444444,
              "#bd3786"
             ],
             [
              0.5555555555555556,
              "#d8576b"
             ],
             [
              0.6666666666666666,
              "#ed7953"
             ],
             [
              0.7777777777777778,
              "#fb9f3a"
             ],
             [
              0.8888888888888888,
              "#fdca26"
             ],
             [
              1,
              "#f0f921"
             ]
            ],
            "type": "histogram2d"
           }
          ],
          "histogram2dcontour": [
           {
            "colorbar": {
             "outlinewidth": 0,
             "ticks": ""
            },
            "colorscale": [
             [
              0,
              "#0d0887"
             ],
             [
              0.1111111111111111,
              "#46039f"
             ],
             [
              0.2222222222222222,
              "#7201a8"
             ],
             [
              0.3333333333333333,
              "#9c179e"
             ],
             [
              0.4444444444444444,
              "#bd3786"
             ],
             [
              0.5555555555555556,
              "#d8576b"
             ],
             [
              0.6666666666666666,
              "#ed7953"
             ],
             [
              0.7777777777777778,
              "#fb9f3a"
             ],
             [
              0.8888888888888888,
              "#fdca26"
             ],
             [
              1,
              "#f0f921"
             ]
            ],
            "type": "histogram2dcontour"
           }
          ],
          "mesh3d": [
           {
            "colorbar": {
             "outlinewidth": 0,
             "ticks": ""
            },
            "type": "mesh3d"
           }
          ],
          "parcoords": [
           {
            "line": {
             "colorbar": {
              "outlinewidth": 0,
              "ticks": ""
             }
            },
            "type": "parcoords"
           }
          ],
          "pie": [
           {
            "automargin": true,
            "type": "pie"
           }
          ],
          "scatter": [
           {
            "marker": {
             "colorbar": {
              "outlinewidth": 0,
              "ticks": ""
             }
            },
            "type": "scatter"
           }
          ],
          "scatter3d": [
           {
            "line": {
             "colorbar": {
              "outlinewidth": 0,
              "ticks": ""
             }
            },
            "marker": {
             "colorbar": {
              "outlinewidth": 0,
              "ticks": ""
             }
            },
            "type": "scatter3d"
           }
          ],
          "scattercarpet": [
           {
            "marker": {
             "colorbar": {
              "outlinewidth": 0,
              "ticks": ""
             }
            },
            "type": "scattercarpet"
           }
          ],
          "scattergeo": [
           {
            "marker": {
             "colorbar": {
              "outlinewidth": 0,
              "ticks": ""
             }
            },
            "type": "scattergeo"
           }
          ],
          "scattergl": [
           {
            "marker": {
             "colorbar": {
              "outlinewidth": 0,
              "ticks": ""
             }
            },
            "type": "scattergl"
           }
          ],
          "scattermapbox": [
           {
            "marker": {
             "colorbar": {
              "outlinewidth": 0,
              "ticks": ""
             }
            },
            "type": "scattermapbox"
           }
          ],
          "scatterpolar": [
           {
            "marker": {
             "colorbar": {
              "outlinewidth": 0,
              "ticks": ""
             }
            },
            "type": "scatterpolar"
           }
          ],
          "scatterpolargl": [
           {
            "marker": {
             "colorbar": {
              "outlinewidth": 0,
              "ticks": ""
             }
            },
            "type": "scatterpolargl"
           }
          ],
          "scatterternary": [
           {
            "marker": {
             "colorbar": {
              "outlinewidth": 0,
              "ticks": ""
             }
            },
            "type": "scatterternary"
           }
          ],
          "surface": [
           {
            "colorbar": {
             "outlinewidth": 0,
             "ticks": ""
            },
            "colorscale": [
             [
              0,
              "#0d0887"
             ],
             [
              0.1111111111111111,
              "#46039f"
             ],
             [
              0.2222222222222222,
              "#7201a8"
             ],
             [
              0.3333333333333333,
              "#9c179e"
             ],
             [
              0.4444444444444444,
              "#bd3786"
             ],
             [
              0.5555555555555556,
              "#d8576b"
             ],
             [
              0.6666666666666666,
              "#ed7953"
             ],
             [
              0.7777777777777778,
              "#fb9f3a"
             ],
             [
              0.8888888888888888,
              "#fdca26"
             ],
             [
              1,
              "#f0f921"
             ]
            ],
            "type": "surface"
           }
          ],
          "table": [
           {
            "cells": {
             "fill": {
              "color": "#EBF0F8"
             },
             "line": {
              "color": "white"
             }
            },
            "header": {
             "fill": {
              "color": "#C8D4E3"
             },
             "line": {
              "color": "white"
             }
            },
            "type": "table"
           }
          ]
         },
         "layout": {
          "annotationdefaults": {
           "arrowcolor": "#2a3f5f",
           "arrowhead": 0,
           "arrowwidth": 1
          },
          "autotypenumbers": "strict",
          "coloraxis": {
           "colorbar": {
            "outlinewidth": 0,
            "ticks": ""
           }
          },
          "colorscale": {
           "diverging": [
            [
             0,
             "#8e0152"
            ],
            [
             0.1,
             "#c51b7d"
            ],
            [
             0.2,
             "#de77ae"
            ],
            [
             0.3,
             "#f1b6da"
            ],
            [
             0.4,
             "#fde0ef"
            ],
            [
             0.5,
             "#f7f7f7"
            ],
            [
             0.6,
             "#e6f5d0"
            ],
            [
             0.7,
             "#b8e186"
            ],
            [
             0.8,
             "#7fbc41"
            ],
            [
             0.9,
             "#4d9221"
            ],
            [
             1,
             "#276419"
            ]
           ],
           "sequential": [
            [
             0,
             "#0d0887"
            ],
            [
             0.1111111111111111,
             "#46039f"
            ],
            [
             0.2222222222222222,
             "#7201a8"
            ],
            [
             0.3333333333333333,
             "#9c179e"
            ],
            [
             0.4444444444444444,
             "#bd3786"
            ],
            [
             0.5555555555555556,
             "#d8576b"
            ],
            [
             0.6666666666666666,
             "#ed7953"
            ],
            [
             0.7777777777777778,
             "#fb9f3a"
            ],
            [
             0.8888888888888888,
             "#fdca26"
            ],
            [
             1,
             "#f0f921"
            ]
           ],
           "sequentialminus": [
            [
             0,
             "#0d0887"
            ],
            [
             0.1111111111111111,
             "#46039f"
            ],
            [
             0.2222222222222222,
             "#7201a8"
            ],
            [
             0.3333333333333333,
             "#9c179e"
            ],
            [
             0.4444444444444444,
             "#bd3786"
            ],
            [
             0.5555555555555556,
             "#d8576b"
            ],
            [
             0.6666666666666666,
             "#ed7953"
            ],
            [
             0.7777777777777778,
             "#fb9f3a"
            ],
            [
             0.8888888888888888,
             "#fdca26"
            ],
            [
             1,
             "#f0f921"
            ]
           ]
          },
          "colorway": [
           "#636efa",
           "#EF553B",
           "#00cc96",
           "#ab63fa",
           "#FFA15A",
           "#19d3f3",
           "#FF6692",
           "#B6E880",
           "#FF97FF",
           "#FECB52"
          ],
          "font": {
           "color": "#2a3f5f"
          },
          "geo": {
           "bgcolor": "white",
           "lakecolor": "white",
           "landcolor": "#E5ECF6",
           "showlakes": true,
           "showland": true,
           "subunitcolor": "white"
          },
          "hoverlabel": {
           "align": "left"
          },
          "hovermode": "closest",
          "mapbox": {
           "style": "light"
          },
          "paper_bgcolor": "white",
          "plot_bgcolor": "#E5ECF6",
          "polar": {
           "angularaxis": {
            "gridcolor": "white",
            "linecolor": "white",
            "ticks": ""
           },
           "bgcolor": "#E5ECF6",
           "radialaxis": {
            "gridcolor": "white",
            "linecolor": "white",
            "ticks": ""
           }
          },
          "scene": {
           "xaxis": {
            "backgroundcolor": "#E5ECF6",
            "gridcolor": "white",
            "gridwidth": 2,
            "linecolor": "white",
            "showbackground": true,
            "ticks": "",
            "zerolinecolor": "white"
           },
           "yaxis": {
            "backgroundcolor": "#E5ECF6",
            "gridcolor": "white",
            "gridwidth": 2,
            "linecolor": "white",
            "showbackground": true,
            "ticks": "",
            "zerolinecolor": "white"
           },
           "zaxis": {
            "backgroundcolor": "#E5ECF6",
            "gridcolor": "white",
            "gridwidth": 2,
            "linecolor": "white",
            "showbackground": true,
            "ticks": "",
            "zerolinecolor": "white"
           }
          },
          "shapedefaults": {
           "line": {
            "color": "#2a3f5f"
           }
          },
          "ternary": {
           "aaxis": {
            "gridcolor": "white",
            "linecolor": "white",
            "ticks": ""
           },
           "baxis": {
            "gridcolor": "white",
            "linecolor": "white",
            "ticks": ""
           },
           "bgcolor": "#E5ECF6",
           "caxis": {
            "gridcolor": "white",
            "linecolor": "white",
            "ticks": ""
           }
          },
          "title": {
           "x": 0.05
          },
          "xaxis": {
           "automargin": true,
           "gridcolor": "white",
           "linecolor": "white",
           "ticks": "",
           "title": {
            "standoff": 15
           },
           "zerolinecolor": "white",
           "zerolinewidth": 2
          },
          "yaxis": {
           "automargin": true,
           "gridcolor": "white",
           "linecolor": "white",
           "ticks": "",
           "title": {
            "standoff": 15
           },
           "zerolinecolor": "white",
           "zerolinewidth": 2
          }
         }
        },
        "title": "Function Solution with Robin Boundary Conditions",
        "xaxis": {
         "title": {
          "text": "x"
         }
        },
        "yaxis": {
         "title": {
          "text": "u"
         }
        }
       }
      },
      "text/html": [
       "<div\n",
       "    class=\"webio-mountpoint\"\n",
       "    data-webio-mountpoint=\"6221426351079106461\"\n",
       ">\n",
       "    <script>\n",
       "    (function(){\n",
       "    // Some integrations (namely, IJulia/Jupyter) use an alternate render pathway than\n",
       "    // just putting the html on the page. If WebIO isn't defined, then it's pretty likely\n",
       "    // that we're in one of those situations and the integration just isn't installed\n",
       "    // correctly.\n",
       "    if (typeof window.WebIO === \"undefined\") {\n",
       "        document\n",
       "            .querySelector('[data-webio-mountpoint=\"6221426351079106461\"]')\n",
       "            .innerHTML = (\n",
       "                '<div style=\"padding: 1em; background-color: #f8d6da; border: 1px solid #f5c6cb; font-weight: bold;\">' +\n",
       "                '<p><strong>WebIO not detected.</strong></p>' +\n",
       "                '<p>Please read ' +\n",
       "                '<a href=\"https://juliagizmos.github.io/WebIO.jl/latest/troubleshooting/not-detected/\" target=\"_blank\">the troubleshooting guide</a> ' +\n",
       "                'for more information on how to resolve this issue.</p>' +\n",
       "                '<p><a href=\"https://juliagizmos.github.io/WebIO.jl/latest/troubleshooting/not-detected/\" target=\"_blank\">https://juliagizmos.github.io/WebIO.jl/latest/troubleshooting/not-detected/</a></p>' +\n",
       "                '</div>'\n",
       "            );\n",
       "        return;\n",
       "    }\n",
       "    WebIO.mount(\n",
       "        document.querySelector('[data-webio-mountpoint=\"6221426351079106461\"]'),\n",
       "        {\"props\":{},\"nodeType\":\"Scope\",\"type\":\"node\",\"instanceArgs\":{\"imports\":{\"data\":[{\"name\":\"Plotly\",\"type\":\"js\",\"url\":\"\\/assetserver\\/829791e6ff21fc5c4b60e5df299f439365241070-plotly.min.js\"},{\"name\":null,\"type\":\"js\",\"url\":\"\\/assetserver\\/823f3c894aa43f38c72113b9d92345d26ad2b09b-plotly_webio.bundle.js\"}],\"type\":\"async_block\"},\"id\":\"18148573192559279982\",\"handlers\":{\"_toImage\":[\"(function (options){return this.Plotly.toImage(this.plotElem,options).then((function (data){return WebIO.setval({\\\"name\\\":\\\"image\\\",\\\"scope\\\":\\\"18148573192559279982\\\",\\\"id\\\":\\\"10068919113994177106\\\",\\\"type\\\":\\\"observable\\\"},data)}))})\"],\"__get_gd_contents\":[\"(function (prop){prop==\\\"data\\\" ? (WebIO.setval({\\\"name\\\":\\\"__gd_contents\\\",\\\"scope\\\":\\\"18148573192559279982\\\",\\\"id\\\":\\\"3154876767649159280\\\",\\\"type\\\":\\\"observable\\\"},this.plotElem.data)) : undefined; return prop==\\\"layout\\\" ? (WebIO.setval({\\\"name\\\":\\\"__gd_contents\\\",\\\"scope\\\":\\\"18148573192559279982\\\",\\\"id\\\":\\\"3154876767649159280\\\",\\\"type\\\":\\\"observable\\\"},this.plotElem.layout)) : undefined})\"],\"_downloadImage\":[\"(function (options){return this.Plotly.downloadImage(this.plotElem,options)})\"],\"_commands\":[\"(function (args){var fn=args.shift(); var elem=this.plotElem; var Plotly=this.Plotly; args.unshift(elem); return Plotly[fn].apply(this,args)})\"]},\"systemjs_options\":null,\"mount_callbacks\":[\"function () {\\n    var handler = ((function (Plotly,PlotlyWebIO){PlotlyWebIO.init(WebIO); var gd=this.dom.querySelector(\\\"#plot-8253561c-8486-485e-9f77-99f2cd16fc51\\\"); this.plotElem=gd; this.Plotly=Plotly; (window.Blink!==undefined) ? (gd.style.width=\\\"100%\\\", gd.style.height=\\\"100vh\\\", gd.style.marginLeft=\\\"0%\\\", gd.style.marginTop=\\\"0vh\\\") : undefined; window.onresize=(function (){return Plotly.Plots.resize(gd)}); Plotly.newPlot(gd,[{\\\"mode\\\":\\\"lines\\\",\\\"y\\\":[0.0,0.00999993718632397,0.019949623432013563,0.029849058737068446,0.03969824310148806,0.04949717652527286,0.059245859008423274,0.06894429055093898,0.07859247115281942,0.08819040081406504,0.09773807953467628,0.1072355073146527,0.11668268415399397,0.1260796100527004,0.13542628501077258,0.14472270902820983,0.15396888210501192,0.16316480424117918,0.17231047543671207,0.18140589569161014,0.19045106500587305,0.19944598337950115,0.20839065081249486,0.21728506730485375,0.2261292328565775,0.2349231474676664,0.24366681113812094,0.25236022386794066,0.2610033856571252,0.26959629650567496,0.2781389564135903,0.28663136538087086,0.29507352340751625,0.3034654304935268,0.311807086638903,0.32009849184364436,0.32833964610775057,0.33653054943122196,0.34467120181405897,0.35276160325626116,0.3608017537578282,0.3687916533187604,0.3767313019390581,0.38462069961872114,0.392459846357749,0.40024874215614203,0.4079873870139007,0.4156757809310244,0.4233139239075131,0.43090181594336696,0.43843945703858644,0.445926847193171,0.4533639864071205,0.4607508746804352,0.4680875120131155,0.47537389840516087,0.4826100338565712,0.4897959183673467,0.49693155193748784,0.504016934566994,0.5110520662558652,0.5180369470041015,0.5249715768117034,0.5318559556786705,0.5386900836050025,0.5454739605906996,0.5522075866357623,0.5588909617401903,0.565524085903983,0.572106959127141,0.5786395814096645,0.5851219527515532,0.5915540731528068,0.5979359426134256,0.60426756113341,0.6105489287127595,0.6167800453514739,0.6229609110495535,0.6290915258069987,0.635171889623809,0.6412020024999843,0.6471818644355247,0.6531114754304307,0.6589908354847018,0.6648199445983379,0.6705988027713392,0.676327410003706,0.682005766295438,0.6876338716465349,0.693211726056997,0.6987393295268245,0.7042166820560174,0.709643783644575,0.7150206342924981,0.7203472339997864,0.72562358276644,0.7308496805924586,0.7360255274778423,0.7411511234225916,0.7462264684267059,0.7512515624901853,0.75622640561303,0.76115099779524,0.7660253390368151,0.7708494293377554,0.7756232686980609,0.7803468571177317,0.7850201945967676,0.7896432811351687,0.794216116732935,0.7987387013900666,0.8032110351065634,0.8076331178824253,0.8120049497176525,0.8163265306122449,0.8205978605662025,0.8248189395795252,0.8289897676522131,0.8331103447842664,0.8371806709756848,0.8412007462264683,0.8451705705366171,0.8490901439061312,0.8529594663350104,0.8567785378232549,0.8605473583708645,0.8642659279778393,0.8679342466441794,0.8715523143698846,0.875120131154955,0.8786376969993906,0.8821050119031916,0.8855220758663576,0.8888888888888888,0.8922054509707853,0.895471762112047,0.8986878223126739,0.901853631572666,0.9049691898920232,0.9080344972707458,0.9110495537088334,0.9140143592062864,0.9169289137631045,0.9197932173792879,0.9226072700548363,0.92537107178975,0.928084622584029,0.9307479224376731,0.9333609713506824,0.935923769323057,0.9384363163547967,0.9408986124459018,0.9433106575963719,0.9456724518062072,0.9479839950754078,0.9502452874039736,0.9524563287919046,0.9546171192392007,0.9567276587458622,0.9587879473118888,0.9607979849372805,0.9627577716220375,0.9646673073661598,0.9665265921696472,0.9683356260324998,0.9700944089547175,0.9718029409363006,0.9734612219772489,0.9750692520775623,0.9766270312372409,0.9781345594562848,0.9795918367346939,0.9809988630724681,0.9823556384696076,0.9836621629261123,0.9849184364419822,0.9861244590172172,0.9872802306518175,0.988385751345783,0.9894410210991137,0.9904460399118096,0.9914008077838706,0.992305324715297,0.9931595907060885,0.9939636057562452,0.9947173698657672,0.9954208830346543,0.9960741452629066,0.9966771565505241,0.997229916897507,0.9977324263038548,0.998184684769568,0.9985866922946464,0.99893844887909,0.9992399545228987,0.9994912092260727,0.9996922129886119,0.9998429658105162,0.9999434676917859,0.9999937186324207,0.9999937186324207,0.9999434676917859,0.9998429658105162,0.9996922129886119,0.9994912092260727,0.9992399545228987,0.99893844887909,0.9985866922946464,0.998184684769568,0.9977324263038548,0.997229916897507,0.9966771565505241,0.9960741452629066,0.9954208830346543,0.9947173698657672,0.9939636057562452,0.9931595907060885,0.992305324715297,0.9914008077838707,0.9904460399118096,0.9894410210991137,0.988385751345783,0.9872802306518176,0.9861244590172172,0.9849184364419822,0.9836621629261123,0.9823556384696076,0.9809988630724681,0.9795918367346939,0.9781345594562848,0.976627031237241,0.9750692520775623,0.9734612219772489,0.9718029409363006,0.9700944089547177,0.9683356260324998,0.9665265921696472,0.9646673073661598,0.9627577716220376,0.9607979849372805,0.9587879473118888,0.9567276587458622,0.9546171192392008,0.9524563287919046,0.9502452874039736,0.9479839950754078,0.9456724518062073,0.9433106575963719,0.9408986124459018,0.9384363163547967,0.9359237693230571,0.9333609713506824,0.9307479224376731,0.928084622584029,0.9253710717897501,0.9226072700548363,0.9197932173792879,0.9169289137631045,0.9140143592062864,0.9110495537088334,0.9080344972707458,0.9049691898920232,0.9018536315726661,0.8986878223126739,0.895471762112047,0.8922054509707853,0.888888888888889,0.8855220758663576,0.8821050119031916,0.8786376969993906,0.8751201311549551,0.8715523143698846,0.8679342466441794,0.8642659279778393,0.8605473583708646,0.8567785378232549,0.8529594663350105,0.8490901439061312,0.8451705705366173,0.8412007462264683,0.8371806709756848,0.8331103447842664,0.8289897676522133,0.8248189395795252,0.8205978605662025,0.8163265306122449,0.8120049497176526,0.8076331178824253,0.8032110351065634,0.7987387013900666,0.7942161167329351,0.7896432811351687,0.7850201945967676,0.7803468571177317,0.7756232686980611,0.7708494293377554,0.7660253390368151,0.76115099779524,0.7562264056130301,0.7512515624901853,0.7462264684267059,0.7411511234225916,0.7360255274778426,0.7308496805924586,0.72562358276644,0.7203472339997864,0.7150206342924983,0.709643783644575,0.7042166820560174,0.6987393295268245,0.6932117260569972,0.6876338716465349,0.682005766295438,0.676327410003706,0.6705988027713394,0.6648199445983379,0.6589908354847018,0.6531114754304307,0.647181864435525,0.6412020024999843,0.635171889623809,0.6290915258069987,0.6229609110495538,0.6167800453514739,0.6105489287127595,0.60426756113341,0.5979359426134259,0.5915540731528068,0.5851219527515532,0.5786395814096645,0.5721069591271413,0.565524085903983,0.5588909617401903,0.5522075866357623,0.5454739605907,0.5386900836050025,0.5318559556786705,0.5249715768117034,0.5180369470041019,0.5110520662558652,0.504016934566994,0.49693155193748784,0.48979591836734704,0.4826100338565712,0.47537389840516087,0.4680875120131155,0.4607508746804355,0.4533639864071205,0.445926847193171,0.43843945703858644,0.4309018159433673,0.4233139239075131,0.4156757809310244,0.4079873870139007,0.40024874215614237,0.392459846357749,0.38462069961872114,0.3767313019390581,0.36879165331876074,0.3608017537578282,0.35276160325626116,0.34467120181405897,0.3365305494312223,0.32833964610775057,0.32009849184364436,0.311807086638903,0.30346543049352726,0.29507352340751625,0.28663136538087086,0.2781389564135903,0.2695962965056754,0.2610033856571252,0.25236022386794066,0.24366681113812094,0.23492314746766685,0.2261292328565775,0.21728506730485375,0.20839065081249486,0.1994459833795016,0.19045106500587305,0.18140589569161014,0.17231047543671207,0.16316480424117963,0.15396888210501192,0.14472270902820983,0.13542628501077258,0.12607961005270085,0.11668268415399397,0.1072355073146527,0.09773807953467628,0.08819040081406548,0.07859247115281942,0.06894429055093898,0.059245859008423274,0.0494971765252733,0.03969824310148806,0.029849058737068446,0.019949623432013563,0.009999937186324415,0.0],\\\"type\\\":\\\"scatter\\\",\\\"name\\\":\\\"u exact\\\",\\\"x\\\":[-1.0,-0.9949874686716793,-0.9899749373433584,-0.9849624060150375,-0.9799498746867168,-0.9749373433583961,-0.9699248120300752,-0.9649122807017543,-0.9598997493734336,-0.9548872180451129,-0.949874686716792,-0.9448621553884711,-0.9398496240601504,-0.9348370927318297,-0.9298245614035088,-0.9248120300751879,-0.9197994987468672,-0.9147869674185465,-0.9097744360902256,-0.9047619047619047,-0.899749373433584,-0.8947368421052633,-0.8897243107769424,-0.8847117794486214,-0.8796992481203008,-0.8746867167919801,-0.8696741854636592,-0.8646616541353382,-0.8596491228070176,-0.8546365914786969,-0.849624060150376,-0.844611528822055,-0.8395989974937343,-0.8345864661654137,-0.8295739348370927,-0.8245614035087718,-0.8195488721804511,-0.8145363408521304,-0.8095238095238095,-0.8045112781954886,-0.7994987468671679,-0.7944862155388472,-0.7894736842105263,-0.7844611528822054,-0.7794486215538847,-0.774436090225564,-0.7694235588972431,-0.7644110275689222,-0.7593984962406015,-0.7543859649122808,-0.7493734335839599,-0.744360902255639,-0.7393483709273183,-0.7343358395989976,-0.7293233082706767,-0.7243107769423558,-0.7192982456140351,-0.7142857142857144,-0.7092731829573935,-0.7042606516290726,-0.6992481203007519,-0.6942355889724312,-0.6892230576441103,-0.6842105263157894,-0.6791979949874687,-0.674185463659148,-0.6691729323308271,-0.6641604010025062,-0.6591478696741855,-0.6541353383458648,-0.6491228070175439,-0.644110275689223,-0.6390977443609023,-0.6340852130325816,-0.6290726817042607,-0.6240601503759398,-0.6190476190476191,-0.6140350877192984,-0.6090225563909775,-0.6040100250626566,-0.5989974937343359,-0.5939849624060152,-0.5889724310776943,-0.5839598997493733,-0.5789473684210527,-0.573934837092732,-0.568922305764411,-0.5639097744360901,-0.5588972431077694,-0.5538847117794488,-0.5488721804511278,-0.5438596491228069,-0.5388471177944862,-0.5338345864661656,-0.5288220551378446,-0.5238095238095237,-0.518796992481203,-0.5137844611528823,-0.5087719298245614,-0.5037593984962405,-0.4987468671679198,-0.4937343358395991,-0.4887218045112782,-0.48370927318295737,-0.4786967418546366,-0.4736842105263159,-0.468671679197995,-0.46365914786967416,-0.4586466165413534,-0.45363408521303267,-0.4486215538847118,-0.44360902255639095,-0.4385964912280702,-0.43358395989974946,-0.4285714285714286,-0.42355889724310775,-0.418546365914787,-0.41353383458646625,-0.4085213032581454,-0.40350877192982454,-0.3984962406015038,-0.39348370927318305,-0.3884711779448622,-0.38345864661654133,-0.3784461152882206,-0.37343358395989984,-0.368421052631579,-0.3634085213032581,-0.3583959899749374,-0.35338345864661663,-0.3483709273182958,-0.3433583959899749,-0.33834586466165417,-0.3333333333333334,-0.32832080200501257,-0.3233082706766917,-0.31829573934837097,-0.3132832080200502,-0.30827067669172936,-0.3032581453634085,-0.29824561403508776,-0.293233082706767,-0.28822055137844615,-0.2832080200501253,-0.27819548872180455,-0.2731829573934838,-0.26817042606516295,-0.2631578947368421,-0.25814536340852134,-0.2531328320802006,-0.24812030075187974,-0.24310776942355888,-0.23809523809523814,-0.2330827067669174,-0.22807017543859653,-0.22305764411027568,-0.21804511278195493,-0.21303258145363418,-0.20802005012531333,-0.20300751879699247,-0.19799498746867172,-0.19298245614035098,-0.18796992481203012,-0.18295739348370926,-0.17794486215538852,-0.17293233082706777,-0.1679197994987469,-0.16290726817042606,-0.1578947368421053,-0.15288220551378456,-0.1478696741854637,-0.14285714285714285,-0.1378446115288221,-0.13283208020050136,-0.1278195488721805,-0.12280701754385964,-0.1177944862155389,-0.11278195488721815,-0.10776942355889729,-0.10275689223057644,-0.09774436090225569,-0.09273182957393494,-0.08771929824561409,-0.08270676691729323,-0.07769423558897248,-0.07268170426065174,-0.06766917293233088,-0.06265664160401002,-0.057644110275689275,-0.05263157894736853,-0.04761904761904767,-0.042606516290726815,-0.03759398496240607,-0.03258145363408532,-0.027568922305764465,-0.022556390977443608,-0.01754385964912286,-0.012531328320802115,-0.007518796992481258,-0.002506265664160401,0.0025062656641603454,0.007518796992481258,0.012531328320801949,0.01754385964912286,0.022556390977443552,0.027568922305764465,0.032581453634085156,0.03759398496240607,0.04260651629072676,0.04761904761904767,0.05263157894736836,0.057644110275689275,0.06265664160400997,0.06766917293233088,0.07268170426065157,0.07769423558897248,0.08270676691729317,0.08771929824561409,0.09273182957393478,0.09774436090225569,0.10275689223057638,0.10776942355889729,0.11278195488721798,0.1177944862155389,0.12280701754385959,0.1278195488721805,0.1328320802005012,0.1378446115288221,0.1428571428571428,0.1478696741854637,0.1528822055137844,0.1578947368421053,0.162907268170426,0.1679197994987469,0.1729323308270676,0.17794486215538852,0.1829573934837092,0.18796992481203012,0.1929824561403508,0.19799498746867172,0.20300751879699241,0.20802005012531333,0.21303258145363402,0.21804511278195493,0.22305764411027562,0.22807017543859653,0.23308270676691722,0.23809523809523814,0.24310776942355883,0.24812030075187974,0.25313283208020043,0.25814536340852134,0.26315789473684204,0.26817042606516295,0.27318295739348364,0.27819548872180455,0.28320802005012524,0.28822055137844615,0.29323308270676685,0.29824561403508776,0.30325814536340845,0.30827067669172936,0.31328320802005005,0.31829573934837097,0.32330827067669166,0.32832080200501257,0.33333333333333326,0.33834586466165417,0.34335839598997486,0.3483709273182958,0.35338345864661647,0.3583959899749374,0.36340852130325807,0.368421052631579,0.3734335839598997,0.3784461152882206,0.3834586466165413,0.3884711779448622,0.3934837092731829,0.3984962406015038,0.4035087719298245,0.4085213032581454,0.4135338345864661,0.418546365914787,0.4235588972431077,0.4285714285714286,0.4335839598997493,0.4385964912280702,0.4436090225563909,0.4486215538847118,0.4536340852130325,0.4586466165413534,0.4636591478696741,0.468671679197995,0.4736842105263157,0.4786967418546366,0.4837092731829573,0.4887218045112782,0.4937343358395989,0.4987468671679198,0.5037593984962405,0.5087719298245614,0.5137844611528821,0.518796992481203,0.5238095238095237,0.5288220551378446,0.5338345864661653,0.5388471177944862,0.5438596491228069,0.5488721804511278,0.5538847117794485,0.5588972431077694,0.5639097744360901,0.568922305764411,0.5739348370927317,0.5789473684210527,0.5839598997493733,0.5889724310776943,0.593984962406015,0.5989974937343359,0.6040100250626566,0.6090225563909775,0.6140350877192982,0.6190476190476191,0.6240601503759398,0.6290726817042607,0.6340852130325814,0.6390977443609023,0.644110275689223,0.6491228070175439,0.6541353383458646,0.6591478696741855,0.6641604010025062,0.6691729323308271,0.6741854636591478,0.6791979949874687,0.6842105263157894,0.6892230576441103,0.694235588972431,0.6992481203007519,0.7042606516290726,0.7092731829573935,0.7142857142857142,0.7192982456140351,0.7243107769423558,0.7293233082706767,0.7343358395989974,0.7393483709273183,0.744360902255639,0.7493734335839599,0.7543859649122806,0.7593984962406015,0.7644110275689222,0.7694235588972431,0.7744360902255638,0.7794486215538847,0.7844611528822054,0.7894736842105263,0.794486215538847,0.7994987468671679,0.8045112781954886,0.8095238095238095,0.8145363408521302,0.8195488721804511,0.8245614035087718,0.8295739348370927,0.8345864661654134,0.8395989974937343,0.844611528822055,0.849624060150376,0.8546365914786966,0.8596491228070176,0.8646616541353382,0.8696741854636592,0.8746867167919798,0.8796992481203008,0.8847117794486214,0.8897243107769424,0.894736842105263,0.899749373433584,0.9047619047619047,0.9097744360902256,0.9147869674185463,0.9197994987468672,0.9248120300751879,0.9298245614035088,0.9348370927318295,0.9398496240601504,0.9448621553884711,0.949874686716792,0.9548872180451127,0.9598997493734336,0.9649122807017543,0.9699248120300752,0.9749373433583959,0.9799498746867168,0.9849624060150375,0.9899749373433584,0.9949874686716791,1.0]},{\\\"mode\\\":\\\"markers\\\",\\\"y\\\":[0.006608456591584691,0.01664976863712813,0.0332492863336222,0.04979805058323158,0.06629556140486263,0.0827413213425803,0.09913483546560649,0.1154756113683187,0.13176315917025153,0.14799699151609796,0.16417662357570806,0.18030157304408748,0.1963713601413989,0.21238550761296354,0.22834354072925955,0.24424498728592076,0.26008937760373796,0.27587624452866055,0.2916051234317947,0.3072755522094024,0.3228870712829027,0.338439223598873,0.35393155462904774,0.369363612370317,0.3847349473447279,0.400045112599486,0.4152936637069539,0.4304801587646499,0.44560415839524925,0.4606652257465856,0.47566292649164954,0.49059682882858763,0.5054665034807032,0.5202715236964581,0.5350114652494713,0.5496859064385171,0.5642944280875273,0.5788366135455918,0.5933120486869574,0.607720321911027,0.6220610241423601,0.6363337488306751,0.6505380919508468,0.6646736520029061,0.678740030012041,0.6927368295285975,0.7066636566280787,0.7205201199111441,0.7343058305036093,0.7480204020564488,0.761663450745794,0.7752345952729319,0.7887334568643067,0.802159659271521,0.815512828771334,0.8287925941656611,0.8419985867815747,0.8551304404713055,0.8681877916122409,0.8811702791069246,0.8940775443830568,0.9069092313934963,0.9196649866162588,0.9323444590545161,0.9449473002365967,0.9574731642159874,0.9699217075713321,0.9822925894064305,0.9945854713502392,1.0068000175568734,1.018935894705605,1.030992772000862,1.042970321172229,1.0548682164744492,1.0666861346874228,1.078423755116206,1.0900807595910114,1.1016568324672107,1.113151660625332,1.1245649334710597,1.1358963429352347,1.1471455834738566,1.1583123520680818,1.1693963482242224,1.1803972739737478,1.1913148338732855,1.2021487350046198,1.2128986869746914,1.2235644019155978,1.2341455944845945,1.2446419818640941,1.2550532837616657,1.2653792224100344,1.2756195225670843,1.2857739115158562,1.2958421190645464,1.3058238775465092,1.3157189218202565,1.3255269892694566,1.335247819802935,1.3448811558546734,1.3544267423838119,1.3638843268746474,1.3732536593366331,1.382534492304379,1.3917265808376538,1.4008296825213817,1.4098435574656445,1.418767968305681,1.4276026802018866,1.4363474608398146,1.4450020804301746,1.453566311708833,1.4620399299368148,1.4704227129002998,1.4787144409106268,1.48691489680429,1.4950238659429422,1.503041136213392,1.5109664980276059,1.5187997443227068,1.526540670560975,1.534189074729848,1.54174475734192,1.549207521434942,1.5565771725718223,1.5638535188406268,1.5710363708545778,1.578125541752054,1.5851208471965923,1.5920221053768862,1.598829137006786,1.6055417653252992,1.6121598160965909,1.6186831176099825,1.6251115006799528,1.631444798646137,1.6376828473733283,1.6438254852514764,1.6498725531956884,1.6558238946462276,1.6616793555685154,1.6674387844531293,1.673102032315805,1.6786689526974334,1.6841394016640645,1.6895132378069035,1.694790322242314,1.699970518611816,1.7050536930820865,1.7100397143449597,1.7149284536174274,1.7197197846416377,1.7244135836848957,1.7290097295396634,1.7335081035235607,1.7379085894793636,1.7422110737750058,1.7464154453035778,1.7505215954833275,1.7545294182576587,1.7584388100951336,1.7622496699894705,1.7659618994595452,1.76957540254939,1.7730900858281948,1.7765058583903062,1.7798226318552282,1.783040320367621,1.7861588405973035,1.7891781117392493,1.7920980555135917,1.7949185961656187,1.797639660465777,1.8002611777096689,1.802783079718055,1.8052053008368523,1.807527777937135,1.8097504504151338,1.8118732601922372,1.8138961517149905,1.8158190719550962,1.8176419704094133,1.8193647990999586,1.8209875125739048,1.8225100679035826,1.8239324246864794,1.82525454504524,1.8264763936276653,1.8275979376067144,1.8286191466805028,1.8295399930723033,1.830360451530545,1.8310804993288146,1.8317001162658562,1.8322192846655707,1.8326379893770155,1.8329562177744059,1.833173959757113,1.8332912077496664,1.8333079567017512,1.8332242040882114,1.8330399499090466,1.8327551966894133,1.8323699494796257,1.8318842158551552,1.8312980059166302,1.830611332289835,1.8298242101257127,1.828936657100362,1.8279486934150395,1.8268603417961582,1.8256716274952887,1.8243825782891578,1.8229932244796505,1.821503598893808,1.819913736883829,1.8182236763270687,1.8164334576260397,1.814543123708412,1.812552720027012,1.8104622945598232,1.8082718978099865,1.8059815828057995,1.8035914051007171,1.8011014227733513,1.7985116964274706,1.795822289192001,1.7930332667210256,1.7901446971937842,1.787156651314674,1.7840692023132485,1.780882425944219,1.7775964004874534,1.7742112067479767,1.7707269280559714,1.7671436502667768,1.7634614617608886,1.75968045344396,1.7558007187468014,1.7518223536253803,1.7477454565608208,1.7435701285594045,1.73929647315257,1.7349245963969127,1.7304546068741848,1.7258866156912966,1.7212207364803138,1.7164570853984602,1.7115957811281166,1.7066369448768208,1.7015807003772672,1.6964271738873076,1.6911764941899508,1.6858287925933624,1.6803842029308655,1.6748428615609399,1.6692049073672224,1.6634704817585073,1.6576397286687454,1.651712794557045,1.6456898284076702,1.639570981730044,1.6333564085587446,1.6270462654535094,1.6206407114992305,1.6141399083059589,1.6075440200089015,1.6008532132684228,1.5940676572700434,1.5871875237244426,1.580212986867455,1.5731442234600739,1.565981412788448,1.5587247366638846,1.5513743794228463,1.5439305279269544,1.536393371562986,1.5287631022428763,1.5210399144037157,1.5132240050077543,1.505315573542397,1.4973148220202073,1.489221954978904,1.4810371794813655,1.472760705115624,1.4643927439948714,1.4559335107574551,1.4473832225668812,1.4387420991118103,1.4300103626060623,1.421188237788613,1.4122759519235957,1.4032737348003002,1.3941818187331743,1.3850004385618215,1.3757298316510036,1.3663702378906382,1.3569218996958017,1.3473850620067256,1.3377599722888,1.3280468805325707,1.3182460392537416,1.3083577034931728,1.2983821308168824,1.2883195813160444,1.278170317606991,1.2679346048312101,1.257612710655348,1.2472049052712066,1.2367114613957468,1.2261326542710842,1.2154687616644935,1.204720063868405,1.1938868437004073,1.1829693865032442,1.171967980144819,1.1608829150181896,1.1497144840415727,1.1384629826583406,1.1271287088370243,1.1157119630713102,1.1042130483800432,1.0926322703072235,1.0809699369220105,1.069226358818718,1.05740184911682,1.0454967234609442,1.0335113000208787,1.0214458994915652,1.0093008450931056,0.9970764625707562,0.9847730801949327,0.9723910287612054,0.9599306415903038,0.9473922545281128,0.9347762059456761,0.9220828367391919,0.9093124903300184,0.896465512664668,0.8835422522148126,0.8705430599772789,0.8574682894740528,0.8443182967522754,0.8310934403842466,0.8177940814674212,0.8044205836244132,0.7909733130029917,0.7774526382760849,0.7638589306417757,0.7501925638233063,0.7364539140690739,0.7226433601526349,0.7087612833727002,0.6948080675531403,0.6807840990429803,0.6666897667164047,0.6525254619727526,0.638291578736523,0.6239885134573688,0.6096166651101028,0.5951764351946922,0.5806682277362639,0.5660924492850993,0.5514495089166391,0.536739818231479,0.5219637913553737,0.5071218449392327,0.49221439815912504,0.4772418727162743,0.46220469283706345,0.4471032852730302,0.4319380793008717,0.4167095067224395,0.40141800186474497,0.38606400157995374,0.3706479452453912,0.355170274763537,0.33963143456203077,0.32403187159366614,0.30837203533639673,0.2926523777933303,0.2768733534927345,0.2610354194880313,0.24513903535780232,0.22918466320578354,0.2131727676608708,0.19710381587711404,0.18097827753372314,0.16479662483506213,0.14855933251065503,0.13226687781517993,0.11591974052847487,0.09951840295553202,0.08306334992650352,0.06655506879669561,0.04999404944657446,0.03338078428176038,0.01671576823303365,0.006698675147188389],\\\"type\\\":\\\"scatter\\\",\\\"name\\\":\\\"u approx (u_h)\\\",\\\"x\\\":[-1.0,-0.9949874686716793,-0.9899749373433584,-0.9849624060150375,-0.9799498746867168,-0.9749373433583961,-0.9699248120300752,-0.9649122807017543,-0.9598997493734336,-0.9548872180451129,-0.949874686716792,-0.9448621553884711,-0.9398496240601504,-0.9348370927318297,-0.9298245614035088,-0.9248120300751879,-0.9197994987468672,-0.9147869674185465,-0.9097744360902256,-0.9047619047619047,-0.899749373433584,-0.8947368421052633,-0.8897243107769424,-0.8847117794486214,-0.8796992481203008,-0.8746867167919801,-0.8696741854636592,-0.8646616541353382,-0.8596491228070176,-0.8546365914786969,-0.849624060150376,-0.844611528822055,-0.8395989974937343,-0.8345864661654137,-0.8295739348370927,-0.8245614035087718,-0.8195488721804511,-0.8145363408521304,-0.8095238095238095,-0.8045112781954886,-0.7994987468671679,-0.7944862155388472,-0.7894736842105263,-0.7844611528822054,-0.7794486215538847,-0.774436090225564,-0.7694235588972431,-0.7644110275689222,-0.7593984962406015,-0.7543859649122808,-0.7493734335839599,-0.744360902255639,-0.7393483709273183,-0.7343358395989976,-0.7293233082706767,-0.7243107769423558,-0.7192982456140351,-0.7142857142857144,-0.7092731829573935,-0.7042606516290726,-0.6992481203007519,-0.6942355889724312,-0.6892230576441103,-0.6842105263157894,-0.6791979949874687,-0.674185463659148,-0.6691729323308271,-0.6641604010025062,-0.6591478696741855,-0.6541353383458648,-0.6491228070175439,-0.644110275689223,-0.6390977443609023,-0.6340852130325816,-0.6290726817042607,-0.6240601503759398,-0.6190476190476191,-0.6140350877192984,-0.6090225563909775,-0.6040100250626566,-0.5989974937343359,-0.5939849624060152,-0.5889724310776943,-0.5839598997493733,-0.5789473684210527,-0.573934837092732,-0.568922305764411,-0.5639097744360901,-0.5588972431077694,-0.5538847117794488,-0.5488721804511278,-0.5438596491228069,-0.5388471177944862,-0.5338345864661656,-0.5288220551378446,-0.5238095238095237,-0.518796992481203,-0.5137844611528823,-0.5087719298245614,-0.5037593984962405,-0.4987468671679198,-0.4937343358395991,-0.4887218045112782,-0.48370927318295737,-0.4786967418546366,-0.4736842105263159,-0.468671679197995,-0.46365914786967416,-0.4586466165413534,-0.45363408521303267,-0.4486215538847118,-0.44360902255639095,-0.4385964912280702,-0.43358395989974946,-0.4285714285714286,-0.42355889724310775,-0.418546365914787,-0.41353383458646625,-0.4085213032581454,-0.40350877192982454,-0.3984962406015038,-0.39348370927318305,-0.3884711779448622,-0.38345864661654133,-0.3784461152882206,-0.37343358395989984,-0.368421052631579,-0.3634085213032581,-0.3583959899749374,-0.35338345864661663,-0.3483709273182958,-0.3433583959899749,-0.33834586466165417,-0.3333333333333334,-0.32832080200501257,-0.3233082706766917,-0.31829573934837097,-0.3132832080200502,-0.30827067669172936,-0.3032581453634085,-0.29824561403508776,-0.293233082706767,-0.28822055137844615,-0.2832080200501253,-0.27819548872180455,-0.2731829573934838,-0.26817042606516295,-0.2631578947368421,-0.25814536340852134,-0.2531328320802006,-0.24812030075187974,-0.24310776942355888,-0.23809523809523814,-0.2330827067669174,-0.22807017543859653,-0.22305764411027568,-0.21804511278195493,-0.21303258145363418,-0.20802005012531333,-0.20300751879699247,-0.19799498746867172,-0.19298245614035098,-0.18796992481203012,-0.18295739348370926,-0.17794486215538852,-0.17293233082706777,-0.1679197994987469,-0.16290726817042606,-0.1578947368421053,-0.15288220551378456,-0.1478696741854637,-0.14285714285714285,-0.1378446115288221,-0.13283208020050136,-0.1278195488721805,-0.12280701754385964,-0.1177944862155389,-0.11278195488721815,-0.10776942355889729,-0.10275689223057644,-0.09774436090225569,-0.09273182957393494,-0.08771929824561409,-0.08270676691729323,-0.07769423558897248,-0.07268170426065174,-0.06766917293233088,-0.06265664160401002,-0.057644110275689275,-0.05263157894736853,-0.04761904761904767,-0.042606516290726815,-0.03759398496240607,-0.03258145363408532,-0.027568922305764465,-0.022556390977443608,-0.01754385964912286,-0.012531328320802115,-0.007518796992481258,-0.002506265664160401,0.0025062656641603454,0.007518796992481258,0.012531328320801949,0.01754385964912286,0.022556390977443552,0.027568922305764465,0.032581453634085156,0.03759398496240607,0.04260651629072676,0.04761904761904767,0.05263157894736836,0.057644110275689275,0.06265664160400997,0.06766917293233088,0.07268170426065157,0.07769423558897248,0.08270676691729317,0.08771929824561409,0.09273182957393478,0.09774436090225569,0.10275689223057638,0.10776942355889729,0.11278195488721798,0.1177944862155389,0.12280701754385959,0.1278195488721805,0.1328320802005012,0.1378446115288221,0.1428571428571428,0.1478696741854637,0.1528822055137844,0.1578947368421053,0.162907268170426,0.1679197994987469,0.1729323308270676,0.17794486215538852,0.1829573934837092,0.18796992481203012,0.1929824561403508,0.19799498746867172,0.20300751879699241,0.20802005012531333,0.21303258145363402,0.21804511278195493,0.22305764411027562,0.22807017543859653,0.23308270676691722,0.23809523809523814,0.24310776942355883,0.24812030075187974,0.25313283208020043,0.25814536340852134,0.26315789473684204,0.26817042606516295,0.27318295739348364,0.27819548872180455,0.28320802005012524,0.28822055137844615,0.29323308270676685,0.29824561403508776,0.30325814536340845,0.30827067669172936,0.31328320802005005,0.31829573934837097,0.32330827067669166,0.32832080200501257,0.33333333333333326,0.33834586466165417,0.34335839598997486,0.3483709273182958,0.35338345864661647,0.3583959899749374,0.36340852130325807,0.368421052631579,0.3734335839598997,0.3784461152882206,0.3834586466165413,0.3884711779448622,0.3934837092731829,0.3984962406015038,0.4035087719298245,0.4085213032581454,0.4135338345864661,0.418546365914787,0.4235588972431077,0.4285714285714286,0.4335839598997493,0.4385964912280702,0.4436090225563909,0.4486215538847118,0.4536340852130325,0.4586466165413534,0.4636591478696741,0.468671679197995,0.4736842105263157,0.4786967418546366,0.4837092731829573,0.4887218045112782,0.4937343358395989,0.4987468671679198,0.5037593984962405,0.5087719298245614,0.5137844611528821,0.518796992481203,0.5238095238095237,0.5288220551378446,0.5338345864661653,0.5388471177944862,0.5438596491228069,0.5488721804511278,0.5538847117794485,0.5588972431077694,0.5639097744360901,0.568922305764411,0.5739348370927317,0.5789473684210527,0.5839598997493733,0.5889724310776943,0.593984962406015,0.5989974937343359,0.6040100250626566,0.6090225563909775,0.6140350877192982,0.6190476190476191,0.6240601503759398,0.6290726817042607,0.6340852130325814,0.6390977443609023,0.644110275689223,0.6491228070175439,0.6541353383458646,0.6591478696741855,0.6641604010025062,0.6691729323308271,0.6741854636591478,0.6791979949874687,0.6842105263157894,0.6892230576441103,0.694235588972431,0.6992481203007519,0.7042606516290726,0.7092731829573935,0.7142857142857142,0.7192982456140351,0.7243107769423558,0.7293233082706767,0.7343358395989974,0.7393483709273183,0.744360902255639,0.7493734335839599,0.7543859649122806,0.7593984962406015,0.7644110275689222,0.7694235588972431,0.7744360902255638,0.7794486215538847,0.7844611528822054,0.7894736842105263,0.794486215538847,0.7994987468671679,0.8045112781954886,0.8095238095238095,0.8145363408521302,0.8195488721804511,0.8245614035087718,0.8295739348370927,0.8345864661654134,0.8395989974937343,0.844611528822055,0.849624060150376,0.8546365914786966,0.8596491228070176,0.8646616541353382,0.8696741854636592,0.8746867167919798,0.8796992481203008,0.8847117794486214,0.8897243107769424,0.894736842105263,0.899749373433584,0.9047619047619047,0.9097744360902256,0.9147869674185463,0.9197994987468672,0.9248120300751879,0.9298245614035088,0.9348370927318295,0.9398496240601504,0.9448621553884711,0.949874686716792,0.9548872180451127,0.9598997493734336,0.9649122807017543,0.9699248120300752,0.9749373433583959,0.9799498746867168,0.9849624060150375,0.9899749373433584,0.9949874686716791,1.0]}],{\\\"xaxis\\\":{\\\"title\\\":{\\\"text\\\":\\\"x\\\"}},\\\"template\\\":{\\\"layout\\\":{\\\"coloraxis\\\":{\\\"colorbar\\\":{\\\"ticks\\\":\\\"\\\",\\\"outlinewidth\\\":0}},\\\"xaxis\\\":{\\\"gridcolor\\\":\\\"white\\\",\\\"zerolinewidth\\\":2,\\\"title\\\":{\\\"standoff\\\":15},\\\"ticks\\\":\\\"\\\",\\\"zerolinecolor\\\":\\\"white\\\",\\\"automargin\\\":true,\\\"linecolor\\\":\\\"white\\\"},\\\"hovermode\\\":\\\"closest\\\",\\\"paper_bgcolor\\\":\\\"white\\\",\\\"geo\\\":{\\\"showlakes\\\":true,\\\"showland\\\":true,\\\"landcolor\\\":\\\"#E5ECF6\\\",\\\"bgcolor\\\":\\\"white\\\",\\\"subunitcolor\\\":\\\"white\\\",\\\"lakecolor\\\":\\\"white\\\"},\\\"colorscale\\\":{\\\"sequential\\\":[[0.0,\\\"#0d0887\\\"],[0.1111111111111111,\\\"#46039f\\\"],[0.2222222222222222,\\\"#7201a8\\\"],[0.3333333333333333,\\\"#9c179e\\\"],[0.4444444444444444,\\\"#bd3786\\\"],[0.5555555555555556,\\\"#d8576b\\\"],[0.6666666666666666,\\\"#ed7953\\\"],[0.7777777777777778,\\\"#fb9f3a\\\"],[0.8888888888888888,\\\"#fdca26\\\"],[1.0,\\\"#f0f921\\\"]],\\\"diverging\\\":[[0,\\\"#8e0152\\\"],[0.1,\\\"#c51b7d\\\"],[0.2,\\\"#de77ae\\\"],[0.3,\\\"#f1b6da\\\"],[0.4,\\\"#fde0ef\\\"],[0.5,\\\"#f7f7f7\\\"],[0.6,\\\"#e6f5d0\\\"],[0.7,\\\"#b8e186\\\"],[0.8,\\\"#7fbc41\\\"],[0.9,\\\"#4d9221\\\"],[1,\\\"#276419\\\"]],\\\"sequentialminus\\\":[[0.0,\\\"#0d0887\\\"],[0.1111111111111111,\\\"#46039f\\\"],[0.2222222222222222,\\\"#7201a8\\\"],[0.3333333333333333,\\\"#9c179e\\\"],[0.4444444444444444,\\\"#bd3786\\\"],[0.5555555555555556,\\\"#d8576b\\\"],[0.6666666666666666,\\\"#ed7953\\\"],[0.7777777777777778,\\\"#fb9f3a\\\"],[0.8888888888888888,\\\"#fdca26\\\"],[1.0,\\\"#f0f921\\\"]]},\\\"yaxis\\\":{\\\"gridcolor\\\":\\\"white\\\",\\\"zerolinewidth\\\":2,\\\"title\\\":{\\\"standoff\\\":15},\\\"ticks\\\":\\\"\\\",\\\"zerolinecolor\\\":\\\"white\\\",\\\"automargin\\\":true,\\\"linecolor\\\":\\\"white\\\"},\\\"shapedefaults\\\":{\\\"line\\\":{\\\"color\\\":\\\"#2a3f5f\\\"}},\\\"hoverlabel\\\":{\\\"align\\\":\\\"left\\\"},\\\"mapbox\\\":{\\\"style\\\":\\\"light\\\"},\\\"polar\\\":{\\\"angularaxis\\\":{\\\"gridcolor\\\":\\\"white\\\",\\\"ticks\\\":\\\"\\\",\\\"linecolor\\\":\\\"white\\\"},\\\"bgcolor\\\":\\\"#E5ECF6\\\",\\\"radialaxis\\\":{\\\"gridcolor\\\":\\\"white\\\",\\\"ticks\\\":\\\"\\\",\\\"linecolor\\\":\\\"white\\\"}},\\\"autotypenumbers\\\":\\\"strict\\\",\\\"font\\\":{\\\"color\\\":\\\"#2a3f5f\\\"},\\\"ternary\\\":{\\\"baxis\\\":{\\\"gridcolor\\\":\\\"white\\\",\\\"ticks\\\":\\\"\\\",\\\"linecolor\\\":\\\"white\\\"},\\\"bgcolor\\\":\\\"#E5ECF6\\\",\\\"caxis\\\":{\\\"gridcolor\\\":\\\"white\\\",\\\"ticks\\\":\\\"\\\",\\\"linecolor\\\":\\\"white\\\"},\\\"aaxis\\\":{\\\"gridcolor\\\":\\\"white\\\",\\\"ticks\\\":\\\"\\\",\\\"linecolor\\\":\\\"white\\\"}},\\\"annotationdefaults\\\":{\\\"arrowhead\\\":0,\\\"arrowwidth\\\":1,\\\"arrowcolor\\\":\\\"#2a3f5f\\\"},\\\"plot_bgcolor\\\":\\\"#E5ECF6\\\",\\\"title\\\":{\\\"x\\\":0.05},\\\"scene\\\":{\\\"xaxis\\\":{\\\"gridcolor\\\":\\\"white\\\",\\\"gridwidth\\\":2,\\\"backgroundcolor\\\":\\\"#E5ECF6\\\",\\\"ticks\\\":\\\"\\\",\\\"showbackground\\\":true,\\\"zerolinecolor\\\":\\\"white\\\",\\\"linecolor\\\":\\\"white\\\"},\\\"zaxis\\\":{\\\"gridcolor\\\":\\\"white\\\",\\\"gridwidth\\\":2,\\\"backgroundcolor\\\":\\\"#E5ECF6\\\",\\\"ticks\\\":\\\"\\\",\\\"showbackground\\\":true,\\\"zerolinecolor\\\":\\\"white\\\",\\\"linecolor\\\":\\\"white\\\"},\\\"yaxis\\\":{\\\"gridcolor\\\":\\\"white\\\",\\\"gridwidth\\\":2,\\\"backgroundcolor\\\":\\\"#E5ECF6\\\",\\\"ticks\\\":\\\"\\\",\\\"showbackground\\\":true,\\\"zerolinecolor\\\":\\\"white\\\",\\\"linecolor\\\":\\\"white\\\"}},\\\"colorway\\\":[\\\"#636efa\\\",\\\"#EF553B\\\",\\\"#00cc96\\\",\\\"#ab63fa\\\",\\\"#FFA15A\\\",\\\"#19d3f3\\\",\\\"#FF6692\\\",\\\"#B6E880\\\",\\\"#FF97FF\\\",\\\"#FECB52\\\"]},\\\"data\\\":{\\\"barpolar\\\":[{\\\"type\\\":\\\"barpolar\\\",\\\"marker\\\":{\\\"line\\\":{\\\"color\\\":\\\"#E5ECF6\\\",\\\"width\\\":0.5}}}],\\\"carpet\\\":[{\\\"aaxis\\\":{\\\"gridcolor\\\":\\\"white\\\",\\\"endlinecolor\\\":\\\"#2a3f5f\\\",\\\"minorgridcolor\\\":\\\"white\\\",\\\"startlinecolor\\\":\\\"#2a3f5f\\\",\\\"linecolor\\\":\\\"white\\\"},\\\"type\\\":\\\"carpet\\\",\\\"baxis\\\":{\\\"gridcolor\\\":\\\"white\\\",\\\"endlinecolor\\\":\\\"#2a3f5f\\\",\\\"minorgridcolor\\\":\\\"white\\\",\\\"startlinecolor\\\":\\\"#2a3f5f\\\",\\\"linecolor\\\":\\\"white\\\"}}],\\\"scatterpolar\\\":[{\\\"type\\\":\\\"scatterpolar\\\",\\\"marker\\\":{\\\"colorbar\\\":{\\\"ticks\\\":\\\"\\\",\\\"outlinewidth\\\":0}}}],\\\"parcoords\\\":[{\\\"line\\\":{\\\"colorbar\\\":{\\\"ticks\\\":\\\"\\\",\\\"outlinewidth\\\":0}},\\\"type\\\":\\\"parcoords\\\"}],\\\"scatter\\\":[{\\\"type\\\":\\\"scatter\\\",\\\"marker\\\":{\\\"colorbar\\\":{\\\"ticks\\\":\\\"\\\",\\\"outlinewidth\\\":0}}}],\\\"histogram2dcontour\\\":[{\\\"colorbar\\\":{\\\"ticks\\\":\\\"\\\",\\\"outlinewidth\\\":0},\\\"type\\\":\\\"histogram2dcontour\\\",\\\"colorscale\\\":[[0.0,\\\"#0d0887\\\"],[0.1111111111111111,\\\"#46039f\\\"],[0.2222222222222222,\\\"#7201a8\\\"],[0.3333333333333333,\\\"#9c179e\\\"],[0.4444444444444444,\\\"#bd3786\\\"],[0.5555555555555556,\\\"#d8576b\\\"],[0.6666666666666666,\\\"#ed7953\\\"],[0.7777777777777778,\\\"#fb9f3a\\\"],[0.8888888888888888,\\\"#fdca26\\\"],[1.0,\\\"#f0f921\\\"]]}],\\\"contour\\\":[{\\\"colorbar\\\":{\\\"ticks\\\":\\\"\\\",\\\"outlinewidth\\\":0},\\\"type\\\":\\\"contour\\\",\\\"colorscale\\\":[[0.0,\\\"#0d0887\\\"],[0.1111111111111111,\\\"#46039f\\\"],[0.2222222222222222,\\\"#7201a8\\\"],[0.3333333333333333,\\\"#9c179e\\\"],[0.4444444444444444,\\\"#bd3786\\\"],[0.5555555555555556,\\\"#d8576b\\\"],[0.6666666666666666,\\\"#ed7953\\\"],[0.7777777777777778,\\\"#fb9f3a\\\"],[0.8888888888888888,\\\"#fdca26\\\"],[1.0,\\\"#f0f921\\\"]]}],\\\"scattercarpet\\\":[{\\\"type\\\":\\\"scattercarpet\\\",\\\"marker\\\":{\\\"colorbar\\\":{\\\"ticks\\\":\\\"\\\",\\\"outlinewidth\\\":0}}}],\\\"mesh3d\\\":[{\\\"colorbar\\\":{\\\"ticks\\\":\\\"\\\",\\\"outlinewidth\\\":0},\\\"type\\\":\\\"mesh3d\\\"}],\\\"surface\\\":[{\\\"colorbar\\\":{\\\"ticks\\\":\\\"\\\",\\\"outlinewidth\\\":0},\\\"type\\\":\\\"surface\\\",\\\"colorscale\\\":[[0.0,\\\"#0d0887\\\"],[0.1111111111111111,\\\"#46039f\\\"],[0.2222222222222222,\\\"#7201a8\\\"],[0.3333333333333333,\\\"#9c179e\\\"],[0.4444444444444444,\\\"#bd3786\\\"],[0.5555555555555556,\\\"#d8576b\\\"],[0.6666666666666666,\\\"#ed7953\\\"],[0.7777777777777778,\\\"#fb9f3a\\\"],[0.8888888888888888,\\\"#fdca26\\\"],[1.0,\\\"#f0f921\\\"]]}],\\\"scattermapbox\\\":[{\\\"type\\\":\\\"scattermapbox\\\",\\\"marker\\\":{\\\"colorbar\\\":{\\\"ticks\\\":\\\"\\\",\\\"outlinewidth\\\":0}}}],\\\"scattergeo\\\":[{\\\"type\\\":\\\"scattergeo\\\",\\\"marker\\\":{\\\"colorbar\\\":{\\\"ticks\\\":\\\"\\\",\\\"outlinewidth\\\":0}}}],\\\"histogram\\\":[{\\\"type\\\":\\\"histogram\\\",\\\"marker\\\":{\\\"colorbar\\\":{\\\"ticks\\\":\\\"\\\",\\\"outlinewidth\\\":0}}}],\\\"pie\\\":[{\\\"type\\\":\\\"pie\\\",\\\"automargin\\\":true}],\\\"choropleth\\\":[{\\\"colorbar\\\":{\\\"ticks\\\":\\\"\\\",\\\"outlinewidth\\\":0},\\\"type\\\":\\\"choropleth\\\"}],\\\"heatmapgl\\\":[{\\\"colorbar\\\":{\\\"ticks\\\":\\\"\\\",\\\"outlinewidth\\\":0},\\\"type\\\":\\\"heatmapgl\\\",\\\"colorscale\\\":[[0.0,\\\"#0d0887\\\"],[0.1111111111111111,\\\"#46039f\\\"],[0.2222222222222222,\\\"#7201a8\\\"],[0.3333333333333333,\\\"#9c179e\\\"],[0.4444444444444444,\\\"#bd3786\\\"],[0.5555555555555556,\\\"#d8576b\\\"],[0.6666666666666666,\\\"#ed7953\\\"],[0.7777777777777778,\\\"#fb9f3a\\\"],[0.8888888888888888,\\\"#fdca26\\\"],[1.0,\\\"#f0f921\\\"]]}],\\\"bar\\\":[{\\\"type\\\":\\\"bar\\\",\\\"error_y\\\":{\\\"color\\\":\\\"#2a3f5f\\\"},\\\"error_x\\\":{\\\"color\\\":\\\"#2a3f5f\\\"},\\\"marker\\\":{\\\"line\\\":{\\\"color\\\":\\\"#E5ECF6\\\",\\\"width\\\":0.5}}}],\\\"heatmap\\\":[{\\\"colorbar\\\":{\\\"ticks\\\":\\\"\\\",\\\"outlinewidth\\\":0},\\\"type\\\":\\\"heatmap\\\",\\\"colorscale\\\":[[0.0,\\\"#0d0887\\\"],[0.1111111111111111,\\\"#46039f\\\"],[0.2222222222222222,\\\"#7201a8\\\"],[0.3333333333333333,\\\"#9c179e\\\"],[0.4444444444444444,\\\"#bd3786\\\"],[0.5555555555555556,\\\"#d8576b\\\"],[0.6666666666666666,\\\"#ed7953\\\"],[0.7777777777777778,\\\"#fb9f3a\\\"],[0.8888888888888888,\\\"#fdca26\\\"],[1.0,\\\"#f0f921\\\"]]}],\\\"contourcarpet\\\":[{\\\"colorbar\\\":{\\\"ticks\\\":\\\"\\\",\\\"outlinewidth\\\":0},\\\"type\\\":\\\"contourcarpet\\\"}],\\\"table\\\":[{\\\"type\\\":\\\"table\\\",\\\"header\\\":{\\\"line\\\":{\\\"color\\\":\\\"white\\\"},\\\"fill\\\":{\\\"color\\\":\\\"#C8D4E3\\\"}},\\\"cells\\\":{\\\"line\\\":{\\\"color\\\":\\\"white\\\"},\\\"fill\\\":{\\\"color\\\":\\\"#EBF0F8\\\"}}}],\\\"scatter3d\\\":[{\\\"line\\\":{\\\"colorbar\\\":{\\\"ticks\\\":\\\"\\\",\\\"outlinewidth\\\":0}},\\\"type\\\":\\\"scatter3d\\\",\\\"marker\\\":{\\\"colorbar\\\":{\\\"ticks\\\":\\\"\\\",\\\"outlinewidth\\\":0}}}],\\\"scattergl\\\":[{\\\"type\\\":\\\"scattergl\\\",\\\"marker\\\":{\\\"colorbar\\\":{\\\"ticks\\\":\\\"\\\",\\\"outlinewidth\\\":0}}}],\\\"histogram2d\\\":[{\\\"colorbar\\\":{\\\"ticks\\\":\\\"\\\",\\\"outlinewidth\\\":0},\\\"type\\\":\\\"histogram2d\\\",\\\"colorscale\\\":[[0.0,\\\"#0d0887\\\"],[0.1111111111111111,\\\"#46039f\\\"],[0.2222222222222222,\\\"#7201a8\\\"],[0.3333333333333333,\\\"#9c179e\\\"],[0.4444444444444444,\\\"#bd3786\\\"],[0.5555555555555556,\\\"#d8576b\\\"],[0.6666666666666666,\\\"#ed7953\\\"],[0.7777777777777778,\\\"#fb9f3a\\\"],[0.8888888888888888,\\\"#fdca26\\\"],[1.0,\\\"#f0f921\\\"]]}],\\\"scatterternary\\\":[{\\\"type\\\":\\\"scatterternary\\\",\\\"marker\\\":{\\\"colorbar\\\":{\\\"ticks\\\":\\\"\\\",\\\"outlinewidth\\\":0}}}],\\\"scatterpolargl\\\":[{\\\"type\\\":\\\"scatterpolargl\\\",\\\"marker\\\":{\\\"colorbar\\\":{\\\"ticks\\\":\\\"\\\",\\\"outlinewidth\\\":0}}}]}},\\\"margin\\\":{\\\"l\\\":50,\\\"b\\\":50,\\\"r\\\":50,\\\"t\\\":60},\\\"title\\\":\\\"Function Solution with Robin Boundary Conditions\\\",\\\"yaxis\\\":{\\\"title\\\":{\\\"text\\\":\\\"u\\\"}}},{\\\"showLink\\\":false,\\\"editable\\\":false,\\\"responsive\\\":true,\\\"staticPlot\\\":false,\\\"scrollZoom\\\":true}); gd.on(\\\"plotly_hover\\\",(function (data){var filtered_data=WebIO.PlotlyCommands.filterEventData(gd,data,\\\"hover\\\"); return !(filtered_data.isnil) ? (WebIO.setval({\\\"name\\\":\\\"hover\\\",\\\"scope\\\":\\\"18148573192559279982\\\",\\\"id\\\":\\\"8788132238353437265\\\",\\\"type\\\":\\\"observable\\\"},filtered_data.out)) : undefined})); gd.on(\\\"plotly_unhover\\\",(function (){return WebIO.setval({\\\"name\\\":\\\"hover\\\",\\\"scope\\\":\\\"18148573192559279982\\\",\\\"id\\\":\\\"8788132238353437265\\\",\\\"type\\\":\\\"observable\\\"},{})})); gd.on(\\\"plotly_selected\\\",(function (data){var filtered_data=WebIO.PlotlyCommands.filterEventData(gd,data,\\\"selected\\\"); return !(filtered_data.isnil) ? (WebIO.setval({\\\"name\\\":\\\"selected\\\",\\\"scope\\\":\\\"18148573192559279982\\\",\\\"id\\\":\\\"8163687552782572813\\\",\\\"type\\\":\\\"observable\\\"},filtered_data.out)) : undefined})); gd.on(\\\"plotly_deselect\\\",(function (){return WebIO.setval({\\\"name\\\":\\\"selected\\\",\\\"scope\\\":\\\"18148573192559279982\\\",\\\"id\\\":\\\"8163687552782572813\\\",\\\"type\\\":\\\"observable\\\"},{})})); gd.on(\\\"plotly_relayout\\\",(function (data){var filtered_data=WebIO.PlotlyCommands.filterEventData(gd,data,\\\"relayout\\\"); return !(filtered_data.isnil) ? (WebIO.setval({\\\"name\\\":\\\"relayout\\\",\\\"scope\\\":\\\"18148573192559279982\\\",\\\"id\\\":\\\"10452039429007983841\\\",\\\"type\\\":\\\"observable\\\"},filtered_data.out)) : undefined})); return gd.on(\\\"plotly_click\\\",(function (data){var filtered_data=WebIO.PlotlyCommands.filterEventData(gd,data,\\\"click\\\"); return !(filtered_data.isnil) ? (WebIO.setval({\\\"name\\\":\\\"click\\\",\\\"scope\\\":\\\"18148573192559279982\\\",\\\"id\\\":\\\"12142574446247526957\\\",\\\"type\\\":\\\"observable\\\"},filtered_data.out)) : undefined}))}));\\n    (WebIO.importBlock({\\\"data\\\":[{\\\"name\\\":\\\"Plotly\\\",\\\"type\\\":\\\"js\\\",\\\"url\\\":\\\"\\/assetserver\\/829791e6ff21fc5c4b60e5df299f439365241070-plotly.min.js\\\"},{\\\"name\\\":null,\\\"type\\\":\\\"js\\\",\\\"url\\\":\\\"\\/assetserver\\/823f3c894aa43f38c72113b9d92345d26ad2b09b-plotly_webio.bundle.js\\\"}],\\\"type\\\":\\\"async_block\\\"})).then((imports) => handler.apply(this, imports));\\n}\\n\"],\"observables\":{\"_toImage\":{\"sync\":false,\"id\":\"1226961798362148098\",\"value\":{}},\"hover\":{\"sync\":false,\"id\":\"8788132238353437265\",\"value\":{}},\"selected\":{\"sync\":false,\"id\":\"8163687552782572813\",\"value\":{}},\"__gd_contents\":{\"sync\":false,\"id\":\"3154876767649159280\",\"value\":{}},\"click\":{\"sync\":false,\"id\":\"12142574446247526957\",\"value\":{}},\"image\":{\"sync\":true,\"id\":\"10068919113994177106\",\"value\":\"\"},\"__get_gd_contents\":{\"sync\":false,\"id\":\"5669910216782294293\",\"value\":\"\"},\"_downloadImage\":{\"sync\":false,\"id\":\"824346873743337654\",\"value\":{}},\"relayout\":{\"sync\":false,\"id\":\"10452039429007983841\",\"value\":{}},\"_commands\":{\"sync\":false,\"id\":\"2890932782165976348\",\"value\":[]}}},\"children\":[{\"props\":{\"id\":\"plot-8253561c-8486-485e-9f77-99f2cd16fc51\"},\"nodeType\":\"DOM\",\"type\":\"node\",\"instanceArgs\":{\"namespace\":\"html\",\"tag\":\"div\"},\"children\":[]}]},\n",
       "        window,\n",
       "    );\n",
       "    })()\n",
       "    </script>\n",
       "</div>\n"
      ],
      "text/plain": [
       "data: [\n",
       "  \"scatter with fields mode, name, type, x, and y\",\n",
       "  \"scatter with fields mode, name, type, x, and y\"\n",
       "]\n",
       "\n",
       "layout: \"layout with fields margin, template, title, xaxis, and yaxis\"\n",
       "\n"
      ]
     },
     "execution_count": 7,
     "metadata": {},
     "output_type": "execute_result"
    }
   ],
   "source": [
    "uh3 = Mf\\bf;\n",
    "uexact(x) = 1 - x^2;\n",
    "\n",
    "plot([scatter(x=x , y=uexact.(x) ,mode=\"lines\", name=\"u exact\"), scatter(x=x , y=uh3[:,1] ,mode=\"markers\", name=\"u approx (u_h)\")],\n",
    "     Layout(title=\"Function Solution with Robin Boundary Conditions\",  xaxis_title=\"x\",  yaxis_title=\"u\"))"
   ]
  },
  {
   "cell_type": "markdown",
   "id": "51a2b9c9-e0ca-4f14-a5a2-d710333a128d",
   "metadata": {},
   "source": [
    "#### e) \n",
    "Solving using Dirichlet boundary "
   ]
  },
  {
   "cell_type": "code",
   "execution_count": 8,
   "id": "bf1d7ceb-07bd-4c02-8947-a24550fbd96a",
   "metadata": {},
   "outputs": [
    {
     "data": {
      "application/vnd.plotly.v1+json": {
       "config": {
        "editable": false,
        "responsive": true,
        "scrollZoom": true,
        "showLink": false,
        "staticPlot": false
       },
       "data": [
        {
         "mode": "lines",
         "name": "u exact",
         "type": "scatter",
         "x": [
          -1,
          -0.9949874686716793,
          -0.9899749373433584,
          -0.9849624060150375,
          -0.9799498746867168,
          -0.9749373433583961,
          -0.9699248120300752,
          -0.9649122807017543,
          -0.9598997493734336,
          -0.9548872180451129,
          -0.949874686716792,
          -0.9448621553884711,
          -0.9398496240601504,
          -0.9348370927318297,
          -0.9298245614035088,
          -0.9248120300751879,
          -0.9197994987468672,
          -0.9147869674185465,
          -0.9097744360902256,
          -0.9047619047619047,
          -0.899749373433584,
          -0.8947368421052633,
          -0.8897243107769424,
          -0.8847117794486214,
          -0.8796992481203008,
          -0.8746867167919801,
          -0.8696741854636592,
          -0.8646616541353382,
          -0.8596491228070176,
          -0.8546365914786969,
          -0.849624060150376,
          -0.844611528822055,
          -0.8395989974937343,
          -0.8345864661654137,
          -0.8295739348370927,
          -0.8245614035087718,
          -0.8195488721804511,
          -0.8145363408521304,
          -0.8095238095238095,
          -0.8045112781954886,
          -0.7994987468671679,
          -0.7944862155388472,
          -0.7894736842105263,
          -0.7844611528822054,
          -0.7794486215538847,
          -0.774436090225564,
          -0.7694235588972431,
          -0.7644110275689222,
          -0.7593984962406015,
          -0.7543859649122808,
          -0.7493734335839599,
          -0.744360902255639,
          -0.7393483709273183,
          -0.7343358395989976,
          -0.7293233082706767,
          -0.7243107769423558,
          -0.7192982456140351,
          -0.7142857142857144,
          -0.7092731829573935,
          -0.7042606516290726,
          -0.6992481203007519,
          -0.6942355889724312,
          -0.6892230576441103,
          -0.6842105263157894,
          -0.6791979949874687,
          -0.674185463659148,
          -0.6691729323308271,
          -0.6641604010025062,
          -0.6591478696741855,
          -0.6541353383458648,
          -0.6491228070175439,
          -0.644110275689223,
          -0.6390977443609023,
          -0.6340852130325816,
          -0.6290726817042607,
          -0.6240601503759398,
          -0.6190476190476191,
          -0.6140350877192984,
          -0.6090225563909775,
          -0.6040100250626566,
          -0.5989974937343359,
          -0.5939849624060152,
          -0.5889724310776943,
          -0.5839598997493733,
          -0.5789473684210527,
          -0.573934837092732,
          -0.568922305764411,
          -0.5639097744360901,
          -0.5588972431077694,
          -0.5538847117794488,
          -0.5488721804511278,
          -0.5438596491228069,
          -0.5388471177944862,
          -0.5338345864661656,
          -0.5288220551378446,
          -0.5238095238095237,
          -0.518796992481203,
          -0.5137844611528823,
          -0.5087719298245614,
          -0.5037593984962405,
          -0.4987468671679198,
          -0.4937343358395991,
          -0.4887218045112782,
          -0.48370927318295737,
          -0.4786967418546366,
          -0.4736842105263159,
          -0.468671679197995,
          -0.46365914786967416,
          -0.4586466165413534,
          -0.45363408521303267,
          -0.4486215538847118,
          -0.44360902255639095,
          -0.4385964912280702,
          -0.43358395989974946,
          -0.4285714285714286,
          -0.42355889724310775,
          -0.418546365914787,
          -0.41353383458646625,
          -0.4085213032581454,
          -0.40350877192982454,
          -0.3984962406015038,
          -0.39348370927318305,
          -0.3884711779448622,
          -0.38345864661654133,
          -0.3784461152882206,
          -0.37343358395989984,
          -0.368421052631579,
          -0.3634085213032581,
          -0.3583959899749374,
          -0.35338345864661663,
          -0.3483709273182958,
          -0.3433583959899749,
          -0.33834586466165417,
          -0.3333333333333334,
          -0.32832080200501257,
          -0.3233082706766917,
          -0.31829573934837097,
          -0.3132832080200502,
          -0.30827067669172936,
          -0.3032581453634085,
          -0.29824561403508776,
          -0.293233082706767,
          -0.28822055137844615,
          -0.2832080200501253,
          -0.27819548872180455,
          -0.2731829573934838,
          -0.26817042606516295,
          -0.2631578947368421,
          -0.25814536340852134,
          -0.2531328320802006,
          -0.24812030075187974,
          -0.24310776942355888,
          -0.23809523809523814,
          -0.2330827067669174,
          -0.22807017543859653,
          -0.22305764411027568,
          -0.21804511278195493,
          -0.21303258145363418,
          -0.20802005012531333,
          -0.20300751879699247,
          -0.19799498746867172,
          -0.19298245614035098,
          -0.18796992481203012,
          -0.18295739348370926,
          -0.17794486215538852,
          -0.17293233082706777,
          -0.1679197994987469,
          -0.16290726817042606,
          -0.1578947368421053,
          -0.15288220551378456,
          -0.1478696741854637,
          -0.14285714285714285,
          -0.1378446115288221,
          -0.13283208020050136,
          -0.1278195488721805,
          -0.12280701754385964,
          -0.1177944862155389,
          -0.11278195488721815,
          -0.10776942355889729,
          -0.10275689223057644,
          -0.09774436090225569,
          -0.09273182957393494,
          -0.08771929824561409,
          -0.08270676691729323,
          -0.07769423558897248,
          -0.07268170426065174,
          -0.06766917293233088,
          -0.06265664160401002,
          -0.057644110275689275,
          -0.05263157894736853,
          -0.04761904761904767,
          -0.042606516290726815,
          -0.03759398496240607,
          -0.03258145363408532,
          -0.027568922305764465,
          -0.022556390977443608,
          -0.01754385964912286,
          -0.012531328320802115,
          -0.007518796992481258,
          -0.002506265664160401,
          0.0025062656641603454,
          0.007518796992481258,
          0.012531328320801949,
          0.01754385964912286,
          0.022556390977443552,
          0.027568922305764465,
          0.032581453634085156,
          0.03759398496240607,
          0.04260651629072676,
          0.04761904761904767,
          0.05263157894736836,
          0.057644110275689275,
          0.06265664160400997,
          0.06766917293233088,
          0.07268170426065157,
          0.07769423558897248,
          0.08270676691729317,
          0.08771929824561409,
          0.09273182957393478,
          0.09774436090225569,
          0.10275689223057638,
          0.10776942355889729,
          0.11278195488721798,
          0.1177944862155389,
          0.12280701754385959,
          0.1278195488721805,
          0.1328320802005012,
          0.1378446115288221,
          0.1428571428571428,
          0.1478696741854637,
          0.1528822055137844,
          0.1578947368421053,
          0.162907268170426,
          0.1679197994987469,
          0.1729323308270676,
          0.17794486215538852,
          0.1829573934837092,
          0.18796992481203012,
          0.1929824561403508,
          0.19799498746867172,
          0.20300751879699241,
          0.20802005012531333,
          0.21303258145363402,
          0.21804511278195493,
          0.22305764411027562,
          0.22807017543859653,
          0.23308270676691722,
          0.23809523809523814,
          0.24310776942355883,
          0.24812030075187974,
          0.25313283208020043,
          0.25814536340852134,
          0.26315789473684204,
          0.26817042606516295,
          0.27318295739348364,
          0.27819548872180455,
          0.28320802005012524,
          0.28822055137844615,
          0.29323308270676685,
          0.29824561403508776,
          0.30325814536340845,
          0.30827067669172936,
          0.31328320802005005,
          0.31829573934837097,
          0.32330827067669166,
          0.32832080200501257,
          0.33333333333333326,
          0.33834586466165417,
          0.34335839598997486,
          0.3483709273182958,
          0.35338345864661647,
          0.3583959899749374,
          0.36340852130325807,
          0.368421052631579,
          0.3734335839598997,
          0.3784461152882206,
          0.3834586466165413,
          0.3884711779448622,
          0.3934837092731829,
          0.3984962406015038,
          0.4035087719298245,
          0.4085213032581454,
          0.4135338345864661,
          0.418546365914787,
          0.4235588972431077,
          0.4285714285714286,
          0.4335839598997493,
          0.4385964912280702,
          0.4436090225563909,
          0.4486215538847118,
          0.4536340852130325,
          0.4586466165413534,
          0.4636591478696741,
          0.468671679197995,
          0.4736842105263157,
          0.4786967418546366,
          0.4837092731829573,
          0.4887218045112782,
          0.4937343358395989,
          0.4987468671679198,
          0.5037593984962405,
          0.5087719298245614,
          0.5137844611528821,
          0.518796992481203,
          0.5238095238095237,
          0.5288220551378446,
          0.5338345864661653,
          0.5388471177944862,
          0.5438596491228069,
          0.5488721804511278,
          0.5538847117794485,
          0.5588972431077694,
          0.5639097744360901,
          0.568922305764411,
          0.5739348370927317,
          0.5789473684210527,
          0.5839598997493733,
          0.5889724310776943,
          0.593984962406015,
          0.5989974937343359,
          0.6040100250626566,
          0.6090225563909775,
          0.6140350877192982,
          0.6190476190476191,
          0.6240601503759398,
          0.6290726817042607,
          0.6340852130325814,
          0.6390977443609023,
          0.644110275689223,
          0.6491228070175439,
          0.6541353383458646,
          0.6591478696741855,
          0.6641604010025062,
          0.6691729323308271,
          0.6741854636591478,
          0.6791979949874687,
          0.6842105263157894,
          0.6892230576441103,
          0.694235588972431,
          0.6992481203007519,
          0.7042606516290726,
          0.7092731829573935,
          0.7142857142857142,
          0.7192982456140351,
          0.7243107769423558,
          0.7293233082706767,
          0.7343358395989974,
          0.7393483709273183,
          0.744360902255639,
          0.7493734335839599,
          0.7543859649122806,
          0.7593984962406015,
          0.7644110275689222,
          0.7694235588972431,
          0.7744360902255638,
          0.7794486215538847,
          0.7844611528822054,
          0.7894736842105263,
          0.794486215538847,
          0.7994987468671679,
          0.8045112781954886,
          0.8095238095238095,
          0.8145363408521302,
          0.8195488721804511,
          0.8245614035087718,
          0.8295739348370927,
          0.8345864661654134,
          0.8395989974937343,
          0.844611528822055,
          0.849624060150376,
          0.8546365914786966,
          0.8596491228070176,
          0.8646616541353382,
          0.8696741854636592,
          0.8746867167919798,
          0.8796992481203008,
          0.8847117794486214,
          0.8897243107769424,
          0.894736842105263,
          0.899749373433584,
          0.9047619047619047,
          0.9097744360902256,
          0.9147869674185463,
          0.9197994987468672,
          0.9248120300751879,
          0.9298245614035088,
          0.9348370927318295,
          0.9398496240601504,
          0.9448621553884711,
          0.949874686716792,
          0.9548872180451127,
          0.9598997493734336,
          0.9649122807017543,
          0.9699248120300752,
          0.9749373433583959,
          0.9799498746867168,
          0.9849624060150375,
          0.9899749373433584,
          0.9949874686716791,
          1
         ],
         "y": [
          0,
          0.00999993718632397,
          0.019949623432013563,
          0.029849058737068446,
          0.03969824310148806,
          0.04949717652527286,
          0.059245859008423274,
          0.06894429055093898,
          0.07859247115281942,
          0.08819040081406504,
          0.09773807953467628,
          0.1072355073146527,
          0.11668268415399397,
          0.1260796100527004,
          0.13542628501077258,
          0.14472270902820983,
          0.15396888210501192,
          0.16316480424117918,
          0.17231047543671207,
          0.18140589569161014,
          0.19045106500587305,
          0.19944598337950115,
          0.20839065081249486,
          0.21728506730485375,
          0.2261292328565775,
          0.2349231474676664,
          0.24366681113812094,
          0.25236022386794066,
          0.2610033856571252,
          0.26959629650567496,
          0.2781389564135903,
          0.28663136538087086,
          0.29507352340751625,
          0.3034654304935268,
          0.311807086638903,
          0.32009849184364436,
          0.32833964610775057,
          0.33653054943122196,
          0.34467120181405897,
          0.35276160325626116,
          0.3608017537578282,
          0.3687916533187604,
          0.3767313019390581,
          0.38462069961872114,
          0.392459846357749,
          0.40024874215614203,
          0.4079873870139007,
          0.4156757809310244,
          0.4233139239075131,
          0.43090181594336696,
          0.43843945703858644,
          0.445926847193171,
          0.4533639864071205,
          0.4607508746804352,
          0.4680875120131155,
          0.47537389840516087,
          0.4826100338565712,
          0.4897959183673467,
          0.49693155193748784,
          0.504016934566994,
          0.5110520662558652,
          0.5180369470041015,
          0.5249715768117034,
          0.5318559556786705,
          0.5386900836050025,
          0.5454739605906996,
          0.5522075866357623,
          0.5588909617401903,
          0.565524085903983,
          0.572106959127141,
          0.5786395814096645,
          0.5851219527515532,
          0.5915540731528068,
          0.5979359426134256,
          0.60426756113341,
          0.6105489287127595,
          0.6167800453514739,
          0.6229609110495535,
          0.6290915258069987,
          0.635171889623809,
          0.6412020024999843,
          0.6471818644355247,
          0.6531114754304307,
          0.6589908354847018,
          0.6648199445983379,
          0.6705988027713392,
          0.676327410003706,
          0.682005766295438,
          0.6876338716465349,
          0.693211726056997,
          0.6987393295268245,
          0.7042166820560174,
          0.709643783644575,
          0.7150206342924981,
          0.7203472339997864,
          0.72562358276644,
          0.7308496805924586,
          0.7360255274778423,
          0.7411511234225916,
          0.7462264684267059,
          0.7512515624901853,
          0.75622640561303,
          0.76115099779524,
          0.7660253390368151,
          0.7708494293377554,
          0.7756232686980609,
          0.7803468571177317,
          0.7850201945967676,
          0.7896432811351687,
          0.794216116732935,
          0.7987387013900666,
          0.8032110351065634,
          0.8076331178824253,
          0.8120049497176525,
          0.8163265306122449,
          0.8205978605662025,
          0.8248189395795252,
          0.8289897676522131,
          0.8331103447842664,
          0.8371806709756848,
          0.8412007462264683,
          0.8451705705366171,
          0.8490901439061312,
          0.8529594663350104,
          0.8567785378232549,
          0.8605473583708645,
          0.8642659279778393,
          0.8679342466441794,
          0.8715523143698846,
          0.875120131154955,
          0.8786376969993906,
          0.8821050119031916,
          0.8855220758663576,
          0.8888888888888888,
          0.8922054509707853,
          0.895471762112047,
          0.8986878223126739,
          0.901853631572666,
          0.9049691898920232,
          0.9080344972707458,
          0.9110495537088334,
          0.9140143592062864,
          0.9169289137631045,
          0.9197932173792879,
          0.9226072700548363,
          0.92537107178975,
          0.928084622584029,
          0.9307479224376731,
          0.9333609713506824,
          0.935923769323057,
          0.9384363163547967,
          0.9408986124459018,
          0.9433106575963719,
          0.9456724518062072,
          0.9479839950754078,
          0.9502452874039736,
          0.9524563287919046,
          0.9546171192392007,
          0.9567276587458622,
          0.9587879473118888,
          0.9607979849372805,
          0.9627577716220375,
          0.9646673073661598,
          0.9665265921696472,
          0.9683356260324998,
          0.9700944089547175,
          0.9718029409363006,
          0.9734612219772489,
          0.9750692520775623,
          0.9766270312372409,
          0.9781345594562848,
          0.9795918367346939,
          0.9809988630724681,
          0.9823556384696076,
          0.9836621629261123,
          0.9849184364419822,
          0.9861244590172172,
          0.9872802306518175,
          0.988385751345783,
          0.9894410210991137,
          0.9904460399118096,
          0.9914008077838706,
          0.992305324715297,
          0.9931595907060885,
          0.9939636057562452,
          0.9947173698657672,
          0.9954208830346543,
          0.9960741452629066,
          0.9966771565505241,
          0.997229916897507,
          0.9977324263038548,
          0.998184684769568,
          0.9985866922946464,
          0.99893844887909,
          0.9992399545228987,
          0.9994912092260727,
          0.9996922129886119,
          0.9998429658105162,
          0.9999434676917859,
          0.9999937186324207,
          0.9999937186324207,
          0.9999434676917859,
          0.9998429658105162,
          0.9996922129886119,
          0.9994912092260727,
          0.9992399545228987,
          0.99893844887909,
          0.9985866922946464,
          0.998184684769568,
          0.9977324263038548,
          0.997229916897507,
          0.9966771565505241,
          0.9960741452629066,
          0.9954208830346543,
          0.9947173698657672,
          0.9939636057562452,
          0.9931595907060885,
          0.992305324715297,
          0.9914008077838707,
          0.9904460399118096,
          0.9894410210991137,
          0.988385751345783,
          0.9872802306518176,
          0.9861244590172172,
          0.9849184364419822,
          0.9836621629261123,
          0.9823556384696076,
          0.9809988630724681,
          0.9795918367346939,
          0.9781345594562848,
          0.976627031237241,
          0.9750692520775623,
          0.9734612219772489,
          0.9718029409363006,
          0.9700944089547177,
          0.9683356260324998,
          0.9665265921696472,
          0.9646673073661598,
          0.9627577716220376,
          0.9607979849372805,
          0.9587879473118888,
          0.9567276587458622,
          0.9546171192392008,
          0.9524563287919046,
          0.9502452874039736,
          0.9479839950754078,
          0.9456724518062073,
          0.9433106575963719,
          0.9408986124459018,
          0.9384363163547967,
          0.9359237693230571,
          0.9333609713506824,
          0.9307479224376731,
          0.928084622584029,
          0.9253710717897501,
          0.9226072700548363,
          0.9197932173792879,
          0.9169289137631045,
          0.9140143592062864,
          0.9110495537088334,
          0.9080344972707458,
          0.9049691898920232,
          0.9018536315726661,
          0.8986878223126739,
          0.895471762112047,
          0.8922054509707853,
          0.888888888888889,
          0.8855220758663576,
          0.8821050119031916,
          0.8786376969993906,
          0.8751201311549551,
          0.8715523143698846,
          0.8679342466441794,
          0.8642659279778393,
          0.8605473583708646,
          0.8567785378232549,
          0.8529594663350105,
          0.8490901439061312,
          0.8451705705366173,
          0.8412007462264683,
          0.8371806709756848,
          0.8331103447842664,
          0.8289897676522133,
          0.8248189395795252,
          0.8205978605662025,
          0.8163265306122449,
          0.8120049497176526,
          0.8076331178824253,
          0.8032110351065634,
          0.7987387013900666,
          0.7942161167329351,
          0.7896432811351687,
          0.7850201945967676,
          0.7803468571177317,
          0.7756232686980611,
          0.7708494293377554,
          0.7660253390368151,
          0.76115099779524,
          0.7562264056130301,
          0.7512515624901853,
          0.7462264684267059,
          0.7411511234225916,
          0.7360255274778426,
          0.7308496805924586,
          0.72562358276644,
          0.7203472339997864,
          0.7150206342924983,
          0.709643783644575,
          0.7042166820560174,
          0.6987393295268245,
          0.6932117260569972,
          0.6876338716465349,
          0.682005766295438,
          0.676327410003706,
          0.6705988027713394,
          0.6648199445983379,
          0.6589908354847018,
          0.6531114754304307,
          0.647181864435525,
          0.6412020024999843,
          0.635171889623809,
          0.6290915258069987,
          0.6229609110495538,
          0.6167800453514739,
          0.6105489287127595,
          0.60426756113341,
          0.5979359426134259,
          0.5915540731528068,
          0.5851219527515532,
          0.5786395814096645,
          0.5721069591271413,
          0.565524085903983,
          0.5588909617401903,
          0.5522075866357623,
          0.5454739605907,
          0.5386900836050025,
          0.5318559556786705,
          0.5249715768117034,
          0.5180369470041019,
          0.5110520662558652,
          0.504016934566994,
          0.49693155193748784,
          0.48979591836734704,
          0.4826100338565712,
          0.47537389840516087,
          0.4680875120131155,
          0.4607508746804355,
          0.4533639864071205,
          0.445926847193171,
          0.43843945703858644,
          0.4309018159433673,
          0.4233139239075131,
          0.4156757809310244,
          0.4079873870139007,
          0.40024874215614237,
          0.392459846357749,
          0.38462069961872114,
          0.3767313019390581,
          0.36879165331876074,
          0.3608017537578282,
          0.35276160325626116,
          0.34467120181405897,
          0.3365305494312223,
          0.32833964610775057,
          0.32009849184364436,
          0.311807086638903,
          0.30346543049352726,
          0.29507352340751625,
          0.28663136538087086,
          0.2781389564135903,
          0.2695962965056754,
          0.2610033856571252,
          0.25236022386794066,
          0.24366681113812094,
          0.23492314746766685,
          0.2261292328565775,
          0.21728506730485375,
          0.20839065081249486,
          0.1994459833795016,
          0.19045106500587305,
          0.18140589569161014,
          0.17231047543671207,
          0.16316480424117963,
          0.15396888210501192,
          0.14472270902820983,
          0.13542628501077258,
          0.12607961005270085,
          0.11668268415399397,
          0.1072355073146527,
          0.09773807953467628,
          0.08819040081406548,
          0.07859247115281942,
          0.06894429055093898,
          0.059245859008423274,
          0.0494971765252733,
          0.03969824310148806,
          0.029849058737068446,
          0.019949623432013563,
          0.009999937186324415,
          0
         ]
        },
        {
         "mode": "markers",
         "name": "u approx (u_h)",
         "type": "scatter",
         "x": [
          -1,
          -0.9949874686716793,
          -0.9899749373433584,
          -0.9849624060150375,
          -0.9799498746867168,
          -0.9749373433583961,
          -0.9699248120300752,
          -0.9649122807017543,
          -0.9598997493734336,
          -0.9548872180451129,
          -0.949874686716792,
          -0.9448621553884711,
          -0.9398496240601504,
          -0.9348370927318297,
          -0.9298245614035088,
          -0.9248120300751879,
          -0.9197994987468672,
          -0.9147869674185465,
          -0.9097744360902256,
          -0.9047619047619047,
          -0.899749373433584,
          -0.8947368421052633,
          -0.8897243107769424,
          -0.8847117794486214,
          -0.8796992481203008,
          -0.8746867167919801,
          -0.8696741854636592,
          -0.8646616541353382,
          -0.8596491228070176,
          -0.8546365914786969,
          -0.849624060150376,
          -0.844611528822055,
          -0.8395989974937343,
          -0.8345864661654137,
          -0.8295739348370927,
          -0.8245614035087718,
          -0.8195488721804511,
          -0.8145363408521304,
          -0.8095238095238095,
          -0.8045112781954886,
          -0.7994987468671679,
          -0.7944862155388472,
          -0.7894736842105263,
          -0.7844611528822054,
          -0.7794486215538847,
          -0.774436090225564,
          -0.7694235588972431,
          -0.7644110275689222,
          -0.7593984962406015,
          -0.7543859649122808,
          -0.7493734335839599,
          -0.744360902255639,
          -0.7393483709273183,
          -0.7343358395989976,
          -0.7293233082706767,
          -0.7243107769423558,
          -0.7192982456140351,
          -0.7142857142857144,
          -0.7092731829573935,
          -0.7042606516290726,
          -0.6992481203007519,
          -0.6942355889724312,
          -0.6892230576441103,
          -0.6842105263157894,
          -0.6791979949874687,
          -0.674185463659148,
          -0.6691729323308271,
          -0.6641604010025062,
          -0.6591478696741855,
          -0.6541353383458648,
          -0.6491228070175439,
          -0.644110275689223,
          -0.6390977443609023,
          -0.6340852130325816,
          -0.6290726817042607,
          -0.6240601503759398,
          -0.6190476190476191,
          -0.6140350877192984,
          -0.6090225563909775,
          -0.6040100250626566,
          -0.5989974937343359,
          -0.5939849624060152,
          -0.5889724310776943,
          -0.5839598997493733,
          -0.5789473684210527,
          -0.573934837092732,
          -0.568922305764411,
          -0.5639097744360901,
          -0.5588972431077694,
          -0.5538847117794488,
          -0.5488721804511278,
          -0.5438596491228069,
          -0.5388471177944862,
          -0.5338345864661656,
          -0.5288220551378446,
          -0.5238095238095237,
          -0.518796992481203,
          -0.5137844611528823,
          -0.5087719298245614,
          -0.5037593984962405,
          -0.4987468671679198,
          -0.4937343358395991,
          -0.4887218045112782,
          -0.48370927318295737,
          -0.4786967418546366,
          -0.4736842105263159,
          -0.468671679197995,
          -0.46365914786967416,
          -0.4586466165413534,
          -0.45363408521303267,
          -0.4486215538847118,
          -0.44360902255639095,
          -0.4385964912280702,
          -0.43358395989974946,
          -0.4285714285714286,
          -0.42355889724310775,
          -0.418546365914787,
          -0.41353383458646625,
          -0.4085213032581454,
          -0.40350877192982454,
          -0.3984962406015038,
          -0.39348370927318305,
          -0.3884711779448622,
          -0.38345864661654133,
          -0.3784461152882206,
          -0.37343358395989984,
          -0.368421052631579,
          -0.3634085213032581,
          -0.3583959899749374,
          -0.35338345864661663,
          -0.3483709273182958,
          -0.3433583959899749,
          -0.33834586466165417,
          -0.3333333333333334,
          -0.32832080200501257,
          -0.3233082706766917,
          -0.31829573934837097,
          -0.3132832080200502,
          -0.30827067669172936,
          -0.3032581453634085,
          -0.29824561403508776,
          -0.293233082706767,
          -0.28822055137844615,
          -0.2832080200501253,
          -0.27819548872180455,
          -0.2731829573934838,
          -0.26817042606516295,
          -0.2631578947368421,
          -0.25814536340852134,
          -0.2531328320802006,
          -0.24812030075187974,
          -0.24310776942355888,
          -0.23809523809523814,
          -0.2330827067669174,
          -0.22807017543859653,
          -0.22305764411027568,
          -0.21804511278195493,
          -0.21303258145363418,
          -0.20802005012531333,
          -0.20300751879699247,
          -0.19799498746867172,
          -0.19298245614035098,
          -0.18796992481203012,
          -0.18295739348370926,
          -0.17794486215538852,
          -0.17293233082706777,
          -0.1679197994987469,
          -0.16290726817042606,
          -0.1578947368421053,
          -0.15288220551378456,
          -0.1478696741854637,
          -0.14285714285714285,
          -0.1378446115288221,
          -0.13283208020050136,
          -0.1278195488721805,
          -0.12280701754385964,
          -0.1177944862155389,
          -0.11278195488721815,
          -0.10776942355889729,
          -0.10275689223057644,
          -0.09774436090225569,
          -0.09273182957393494,
          -0.08771929824561409,
          -0.08270676691729323,
          -0.07769423558897248,
          -0.07268170426065174,
          -0.06766917293233088,
          -0.06265664160401002,
          -0.057644110275689275,
          -0.05263157894736853,
          -0.04761904761904767,
          -0.042606516290726815,
          -0.03759398496240607,
          -0.03258145363408532,
          -0.027568922305764465,
          -0.022556390977443608,
          -0.01754385964912286,
          -0.012531328320802115,
          -0.007518796992481258,
          -0.002506265664160401,
          0.0025062656641603454,
          0.007518796992481258,
          0.012531328320801949,
          0.01754385964912286,
          0.022556390977443552,
          0.027568922305764465,
          0.032581453634085156,
          0.03759398496240607,
          0.04260651629072676,
          0.04761904761904767,
          0.05263157894736836,
          0.057644110275689275,
          0.06265664160400997,
          0.06766917293233088,
          0.07268170426065157,
          0.07769423558897248,
          0.08270676691729317,
          0.08771929824561409,
          0.09273182957393478,
          0.09774436090225569,
          0.10275689223057638,
          0.10776942355889729,
          0.11278195488721798,
          0.1177944862155389,
          0.12280701754385959,
          0.1278195488721805,
          0.1328320802005012,
          0.1378446115288221,
          0.1428571428571428,
          0.1478696741854637,
          0.1528822055137844,
          0.1578947368421053,
          0.162907268170426,
          0.1679197994987469,
          0.1729323308270676,
          0.17794486215538852,
          0.1829573934837092,
          0.18796992481203012,
          0.1929824561403508,
          0.19799498746867172,
          0.20300751879699241,
          0.20802005012531333,
          0.21303258145363402,
          0.21804511278195493,
          0.22305764411027562,
          0.22807017543859653,
          0.23308270676691722,
          0.23809523809523814,
          0.24310776942355883,
          0.24812030075187974,
          0.25313283208020043,
          0.25814536340852134,
          0.26315789473684204,
          0.26817042606516295,
          0.27318295739348364,
          0.27819548872180455,
          0.28320802005012524,
          0.28822055137844615,
          0.29323308270676685,
          0.29824561403508776,
          0.30325814536340845,
          0.30827067669172936,
          0.31328320802005005,
          0.31829573934837097,
          0.32330827067669166,
          0.32832080200501257,
          0.33333333333333326,
          0.33834586466165417,
          0.34335839598997486,
          0.3483709273182958,
          0.35338345864661647,
          0.3583959899749374,
          0.36340852130325807,
          0.368421052631579,
          0.3734335839598997,
          0.3784461152882206,
          0.3834586466165413,
          0.3884711779448622,
          0.3934837092731829,
          0.3984962406015038,
          0.4035087719298245,
          0.4085213032581454,
          0.4135338345864661,
          0.418546365914787,
          0.4235588972431077,
          0.4285714285714286,
          0.4335839598997493,
          0.4385964912280702,
          0.4436090225563909,
          0.4486215538847118,
          0.4536340852130325,
          0.4586466165413534,
          0.4636591478696741,
          0.468671679197995,
          0.4736842105263157,
          0.4786967418546366,
          0.4837092731829573,
          0.4887218045112782,
          0.4937343358395989,
          0.4987468671679198,
          0.5037593984962405,
          0.5087719298245614,
          0.5137844611528821,
          0.518796992481203,
          0.5238095238095237,
          0.5288220551378446,
          0.5338345864661653,
          0.5388471177944862,
          0.5438596491228069,
          0.5488721804511278,
          0.5538847117794485,
          0.5588972431077694,
          0.5639097744360901,
          0.568922305764411,
          0.5739348370927317,
          0.5789473684210527,
          0.5839598997493733,
          0.5889724310776943,
          0.593984962406015,
          0.5989974937343359,
          0.6040100250626566,
          0.6090225563909775,
          0.6140350877192982,
          0.6190476190476191,
          0.6240601503759398,
          0.6290726817042607,
          0.6340852130325814,
          0.6390977443609023,
          0.644110275689223,
          0.6491228070175439,
          0.6541353383458646,
          0.6591478696741855,
          0.6641604010025062,
          0.6691729323308271,
          0.6741854636591478,
          0.6791979949874687,
          0.6842105263157894,
          0.6892230576441103,
          0.694235588972431,
          0.6992481203007519,
          0.7042606516290726,
          0.7092731829573935,
          0.7142857142857142,
          0.7192982456140351,
          0.7243107769423558,
          0.7293233082706767,
          0.7343358395989974,
          0.7393483709273183,
          0.744360902255639,
          0.7493734335839599,
          0.7543859649122806,
          0.7593984962406015,
          0.7644110275689222,
          0.7694235588972431,
          0.7744360902255638,
          0.7794486215538847,
          0.7844611528822054,
          0.7894736842105263,
          0.794486215538847,
          0.7994987468671679,
          0.8045112781954886,
          0.8095238095238095,
          0.8145363408521302,
          0.8195488721804511,
          0.8245614035087718,
          0.8295739348370927,
          0.8345864661654134,
          0.8395989974937343,
          0.844611528822055,
          0.849624060150376,
          0.8546365914786966,
          0.8596491228070176,
          0.8646616541353382,
          0.8696741854636592,
          0.8746867167919798,
          0.8796992481203008,
          0.8847117794486214,
          0.8897243107769424,
          0.894736842105263,
          0.899749373433584,
          0.9047619047619047,
          0.9097744360902256,
          0.9147869674185463,
          0.9197994987468672,
          0.9248120300751879,
          0.9298245614035088,
          0.9348370927318295,
          0.9398496240601504,
          0.9448621553884711,
          0.949874686716792,
          0.9548872180451127,
          0.9598997493734336,
          0.9649122807017543,
          0.9699248120300752,
          0.9749373433583959,
          0.9799498746867168,
          0.9849624060150375,
          0.9899749373433584,
          0.9949874686716791,
          1
         ],
         "y": [
          0,
          0.01664976863712813,
          0.0332492863336222,
          0.04979805058323158,
          0.06629556140486263,
          0.0827413213425803,
          0.09913483546560649,
          0.1154756113683187,
          0.13176315917025153,
          0.14799699151609796,
          0.16417662357570806,
          0.18030157304408748,
          0.1963713601413989,
          0.21238550761296354,
          0.22834354072925955,
          0.24424498728592076,
          0.26008937760373796,
          0.27587624452866055,
          0.2916051234317947,
          0.3072755522094024,
          0.3228870712829027,
          0.338439223598873,
          0.35393155462904774,
          0.369363612370317,
          0.3847349473447279,
          0.400045112599486,
          0.4152936637069539,
          0.4304801587646499,
          0.44560415839524925,
          0.4606652257465856,
          0.47566292649164954,
          0.49059682882858763,
          0.5054665034807032,
          0.5202715236964581,
          0.5350114652494713,
          0.5496859064385171,
          0.5642944280875273,
          0.5788366135455918,
          0.5933120486869574,
          0.607720321911027,
          0.6220610241423601,
          0.6363337488306751,
          0.6505380919508468,
          0.6646736520029061,
          0.678740030012041,
          0.6927368295285975,
          0.7066636566280787,
          0.7205201199111441,
          0.7343058305036093,
          0.7480204020564488,
          0.761663450745794,
          0.7752345952729319,
          0.7887334568643067,
          0.802159659271521,
          0.815512828771334,
          0.8287925941656611,
          0.8419985867815747,
          0.8551304404713055,
          0.8681877916122409,
          0.8811702791069246,
          0.8940775443830568,
          0.9069092313934963,
          0.9196649866162588,
          0.9323444590545161,
          0.9449473002365967,
          0.9574731642159874,
          0.9699217075713321,
          0.9822925894064305,
          0.9945854713502392,
          1.0068000175568734,
          1.018935894705605,
          1.030992772000862,
          1.042970321172229,
          1.0548682164744492,
          1.0666861346874228,
          1.078423755116206,
          1.0900807595910114,
          1.1016568324672107,
          1.113151660625332,
          1.1245649334710597,
          1.1358963429352347,
          1.1471455834738566,
          1.1583123520680818,
          1.1693963482242224,
          1.1803972739737478,
          1.1913148338732855,
          1.2021487350046198,
          1.2128986869746914,
          1.2235644019155978,
          1.2341455944845945,
          1.2446419818640941,
          1.2550532837616657,
          1.2653792224100344,
          1.2756195225670843,
          1.2857739115158562,
          1.2958421190645464,
          1.3058238775465092,
          1.3157189218202565,
          1.3255269892694566,
          1.335247819802935,
          1.3448811558546734,
          1.3544267423838119,
          1.3638843268746474,
          1.3732536593366331,
          1.382534492304379,
          1.3917265808376538,
          1.4008296825213817,
          1.4098435574656445,
          1.418767968305681,
          1.4276026802018866,
          1.4363474608398146,
          1.4450020804301746,
          1.453566311708833,
          1.4620399299368148,
          1.4704227129002998,
          1.4787144409106268,
          1.48691489680429,
          1.4950238659429422,
          1.503041136213392,
          1.5109664980276059,
          1.5187997443227068,
          1.526540670560975,
          1.534189074729848,
          1.54174475734192,
          1.549207521434942,
          1.5565771725718223,
          1.5638535188406268,
          1.5710363708545778,
          1.578125541752054,
          1.5851208471965923,
          1.5920221053768862,
          1.598829137006786,
          1.6055417653252992,
          1.6121598160965909,
          1.6186831176099825,
          1.6251115006799528,
          1.631444798646137,
          1.6376828473733283,
          1.6438254852514764,
          1.6498725531956884,
          1.6558238946462276,
          1.6616793555685154,
          1.6674387844531293,
          1.673102032315805,
          1.6786689526974334,
          1.6841394016640645,
          1.6895132378069035,
          1.694790322242314,
          1.699970518611816,
          1.7050536930820865,
          1.7100397143449597,
          1.7149284536174274,
          1.7197197846416377,
          1.7244135836848957,
          1.7290097295396634,
          1.7335081035235607,
          1.7379085894793636,
          1.7422110737750058,
          1.7464154453035778,
          1.7505215954833275,
          1.7545294182576587,
          1.7584388100951336,
          1.7622496699894705,
          1.7659618994595452,
          1.76957540254939,
          1.7730900858281948,
          1.7765058583903062,
          1.7798226318552282,
          1.783040320367621,
          1.7861588405973035,
          1.7891781117392493,
          1.7920980555135917,
          1.7949185961656187,
          1.797639660465777,
          1.8002611777096689,
          1.802783079718055,
          1.8052053008368523,
          1.807527777937135,
          1.8097504504151338,
          1.8118732601922372,
          1.8138961517149905,
          1.8158190719550962,
          1.8176419704094133,
          1.8193647990999586,
          1.8209875125739048,
          1.8225100679035826,
          1.8239324246864794,
          1.82525454504524,
          1.8264763936276653,
          1.8275979376067144,
          1.8286191466805028,
          1.8295399930723033,
          1.830360451530545,
          1.8310804993288146,
          1.8317001162658562,
          1.8322192846655707,
          1.8326379893770155,
          1.8329562177744059,
          1.833173959757113,
          1.8332912077496664,
          1.8333079567017512,
          1.8332242040882114,
          1.8330399499090466,
          1.8327551966894133,
          1.8323699494796257,
          1.8318842158551552,
          1.8312980059166302,
          1.830611332289835,
          1.8298242101257127,
          1.828936657100362,
          1.8279486934150395,
          1.8268603417961582,
          1.8256716274952887,
          1.8243825782891578,
          1.8229932244796505,
          1.821503598893808,
          1.819913736883829,
          1.8182236763270687,
          1.8164334576260397,
          1.814543123708412,
          1.812552720027012,
          1.8104622945598232,
          1.8082718978099865,
          1.8059815828057995,
          1.8035914051007171,
          1.8011014227733513,
          1.7985116964274706,
          1.795822289192001,
          1.7930332667210256,
          1.7901446971937842,
          1.787156651314674,
          1.7840692023132485,
          1.780882425944219,
          1.7775964004874534,
          1.7742112067479767,
          1.7707269280559714,
          1.7671436502667768,
          1.7634614617608886,
          1.75968045344396,
          1.7558007187468014,
          1.7518223536253803,
          1.7477454565608208,
          1.7435701285594045,
          1.73929647315257,
          1.7349245963969127,
          1.7304546068741848,
          1.7258866156912966,
          1.7212207364803138,
          1.7164570853984602,
          1.7115957811281166,
          1.7066369448768208,
          1.7015807003772672,
          1.6964271738873076,
          1.6911764941899508,
          1.6858287925933624,
          1.6803842029308655,
          1.6748428615609399,
          1.6692049073672224,
          1.6634704817585073,
          1.6576397286687454,
          1.651712794557045,
          1.6456898284076702,
          1.639570981730044,
          1.6333564085587446,
          1.6270462654535094,
          1.6206407114992305,
          1.6141399083059589,
          1.6075440200089015,
          1.6008532132684228,
          1.5940676572700434,
          1.5871875237244426,
          1.580212986867455,
          1.5731442234600739,
          1.565981412788448,
          1.5587247366638846,
          1.5513743794228463,
          1.5439305279269544,
          1.536393371562986,
          1.5287631022428763,
          1.5210399144037157,
          1.5132240050077543,
          1.505315573542397,
          1.4973148220202073,
          1.489221954978904,
          1.4810371794813655,
          1.472760705115624,
          1.4643927439948714,
          1.4559335107574551,
          1.4473832225668812,
          1.4387420991118103,
          1.4300103626060623,
          1.421188237788613,
          1.4122759519235957,
          1.4032737348003002,
          1.3941818187331743,
          1.3850004385618215,
          1.3757298316510036,
          1.3663702378906382,
          1.3569218996958017,
          1.3473850620067256,
          1.3377599722888,
          1.3280468805325707,
          1.3182460392537416,
          1.3083577034931728,
          1.2983821308168824,
          1.2883195813160444,
          1.278170317606991,
          1.2679346048312101,
          1.257612710655348,
          1.2472049052712066,
          1.2367114613957468,
          1.2261326542710842,
          1.2154687616644935,
          1.204720063868405,
          1.1938868437004073,
          1.1829693865032442,
          1.171967980144819,
          1.1608829150181896,
          1.1497144840415727,
          1.1384629826583406,
          1.1271287088370243,
          1.1157119630713102,
          1.1042130483800432,
          1.0926322703072235,
          1.0809699369220105,
          1.069226358818718,
          1.05740184911682,
          1.0454967234609442,
          1.0335113000208787,
          1.0214458994915652,
          1.0093008450931056,
          0.9970764625707562,
          0.9847730801949327,
          0.9723910287612054,
          0.9599306415903038,
          0.9473922545281128,
          0.9347762059456761,
          0.9220828367391919,
          0.9093124903300184,
          0.896465512664668,
          0.8835422522148126,
          0.8705430599772789,
          0.8574682894740528,
          0.8443182967522754,
          0.8310934403842466,
          0.8177940814674212,
          0.8044205836244132,
          0.7909733130029917,
          0.7774526382760849,
          0.7638589306417757,
          0.7501925638233063,
          0.7364539140690739,
          0.7226433601526349,
          0.7087612833727002,
          0.6948080675531403,
          0.6807840990429803,
          0.6666897667164047,
          0.6525254619727526,
          0.638291578736523,
          0.6239885134573688,
          0.6096166651101028,
          0.5951764351946922,
          0.5806682277362639,
          0.5660924492850993,
          0.5514495089166391,
          0.536739818231479,
          0.5219637913553737,
          0.5071218449392327,
          0.49221439815912504,
          0.4772418727162743,
          0.46220469283706345,
          0.4471032852730302,
          0.4319380793008717,
          0.4167095067224395,
          0.40141800186474497,
          0.38606400157995374,
          0.3706479452453912,
          0.355170274763537,
          0.33963143456203077,
          0.32403187159366614,
          0.30837203533639673,
          0.2926523777933303,
          0.2768733534927345,
          0.2610354194880313,
          0.24513903535780232,
          0.22918466320578354,
          0.2131727676608708,
          0.19710381587711404,
          0.18097827753372314,
          0.16479662483506213,
          0.14855933251065503,
          0.13226687781517993,
          0.11591974052847487,
          0.09951840295553202,
          0.08306334992650352,
          0.06655506879669561,
          0.04999404944657446,
          0.03338078428176038,
          0.01671576823303365,
          0
         ]
        }
       ],
       "frames": [],
       "layout": {
        "margin": {
         "b": 50,
         "l": 50,
         "r": 50,
         "t": 60
        },
        "template": {
         "data": {
          "bar": [
           {
            "error_x": {
             "color": "#2a3f5f"
            },
            "error_y": {
             "color": "#2a3f5f"
            },
            "marker": {
             "line": {
              "color": "#E5ECF6",
              "width": 0.5
             }
            },
            "type": "bar"
           }
          ],
          "barpolar": [
           {
            "marker": {
             "line": {
              "color": "#E5ECF6",
              "width": 0.5
             }
            },
            "type": "barpolar"
           }
          ],
          "carpet": [
           {
            "aaxis": {
             "endlinecolor": "#2a3f5f",
             "gridcolor": "white",
             "linecolor": "white",
             "minorgridcolor": "white",
             "startlinecolor": "#2a3f5f"
            },
            "baxis": {
             "endlinecolor": "#2a3f5f",
             "gridcolor": "white",
             "linecolor": "white",
             "minorgridcolor": "white",
             "startlinecolor": "#2a3f5f"
            },
            "type": "carpet"
           }
          ],
          "choropleth": [
           {
            "colorbar": {
             "outlinewidth": 0,
             "ticks": ""
            },
            "type": "choropleth"
           }
          ],
          "contour": [
           {
            "colorbar": {
             "outlinewidth": 0,
             "ticks": ""
            },
            "colorscale": [
             [
              0,
              "#0d0887"
             ],
             [
              0.1111111111111111,
              "#46039f"
             ],
             [
              0.2222222222222222,
              "#7201a8"
             ],
             [
              0.3333333333333333,
              "#9c179e"
             ],
             [
              0.4444444444444444,
              "#bd3786"
             ],
             [
              0.5555555555555556,
              "#d8576b"
             ],
             [
              0.6666666666666666,
              "#ed7953"
             ],
             [
              0.7777777777777778,
              "#fb9f3a"
             ],
             [
              0.8888888888888888,
              "#fdca26"
             ],
             [
              1,
              "#f0f921"
             ]
            ],
            "type": "contour"
           }
          ],
          "contourcarpet": [
           {
            "colorbar": {
             "outlinewidth": 0,
             "ticks": ""
            },
            "type": "contourcarpet"
           }
          ],
          "heatmap": [
           {
            "colorbar": {
             "outlinewidth": 0,
             "ticks": ""
            },
            "colorscale": [
             [
              0,
              "#0d0887"
             ],
             [
              0.1111111111111111,
              "#46039f"
             ],
             [
              0.2222222222222222,
              "#7201a8"
             ],
             [
              0.3333333333333333,
              "#9c179e"
             ],
             [
              0.4444444444444444,
              "#bd3786"
             ],
             [
              0.5555555555555556,
              "#d8576b"
             ],
             [
              0.6666666666666666,
              "#ed7953"
             ],
             [
              0.7777777777777778,
              "#fb9f3a"
             ],
             [
              0.8888888888888888,
              "#fdca26"
             ],
             [
              1,
              "#f0f921"
             ]
            ],
            "type": "heatmap"
           }
          ],
          "heatmapgl": [
           {
            "colorbar": {
             "outlinewidth": 0,
             "ticks": ""
            },
            "colorscale": [
             [
              0,
              "#0d0887"
             ],
             [
              0.1111111111111111,
              "#46039f"
             ],
             [
              0.2222222222222222,
              "#7201a8"
             ],
             [
              0.3333333333333333,
              "#9c179e"
             ],
             [
              0.4444444444444444,
              "#bd3786"
             ],
             [
              0.5555555555555556,
              "#d8576b"
             ],
             [
              0.6666666666666666,
              "#ed7953"
             ],
             [
              0.7777777777777778,
              "#fb9f3a"
             ],
             [
              0.8888888888888888,
              "#fdca26"
             ],
             [
              1,
              "#f0f921"
             ]
            ],
            "type": "heatmapgl"
           }
          ],
          "histogram": [
           {
            "marker": {
             "colorbar": {
              "outlinewidth": 0,
              "ticks": ""
             }
            },
            "type": "histogram"
           }
          ],
          "histogram2d": [
           {
            "colorbar": {
             "outlinewidth": 0,
             "ticks": ""
            },
            "colorscale": [
             [
              0,
              "#0d0887"
             ],
             [
              0.1111111111111111,
              "#46039f"
             ],
             [
              0.2222222222222222,
              "#7201a8"
             ],
             [
              0.3333333333333333,
              "#9c179e"
             ],
             [
              0.4444444444444444,
              "#bd3786"
             ],
             [
              0.5555555555555556,
              "#d8576b"
             ],
             [
              0.6666666666666666,
              "#ed7953"
             ],
             [
              0.7777777777777778,
              "#fb9f3a"
             ],
             [
              0.8888888888888888,
              "#fdca26"
             ],
             [
              1,
              "#f0f921"
             ]
            ],
            "type": "histogram2d"
           }
          ],
          "histogram2dcontour": [
           {
            "colorbar": {
             "outlinewidth": 0,
             "ticks": ""
            },
            "colorscale": [
             [
              0,
              "#0d0887"
             ],
             [
              0.1111111111111111,
              "#46039f"
             ],
             [
              0.2222222222222222,
              "#7201a8"
             ],
             [
              0.3333333333333333,
              "#9c179e"
             ],
             [
              0.4444444444444444,
              "#bd3786"
             ],
             [
              0.5555555555555556,
              "#d8576b"
             ],
             [
              0.6666666666666666,
              "#ed7953"
             ],
             [
              0.7777777777777778,
              "#fb9f3a"
             ],
             [
              0.8888888888888888,
              "#fdca26"
             ],
             [
              1,
              "#f0f921"
             ]
            ],
            "type": "histogram2dcontour"
           }
          ],
          "mesh3d": [
           {
            "colorbar": {
             "outlinewidth": 0,
             "ticks": ""
            },
            "type": "mesh3d"
           }
          ],
          "parcoords": [
           {
            "line": {
             "colorbar": {
              "outlinewidth": 0,
              "ticks": ""
             }
            },
            "type": "parcoords"
           }
          ],
          "pie": [
           {
            "automargin": true,
            "type": "pie"
           }
          ],
          "scatter": [
           {
            "marker": {
             "colorbar": {
              "outlinewidth": 0,
              "ticks": ""
             }
            },
            "type": "scatter"
           }
          ],
          "scatter3d": [
           {
            "line": {
             "colorbar": {
              "outlinewidth": 0,
              "ticks": ""
             }
            },
            "marker": {
             "colorbar": {
              "outlinewidth": 0,
              "ticks": ""
             }
            },
            "type": "scatter3d"
           }
          ],
          "scattercarpet": [
           {
            "marker": {
             "colorbar": {
              "outlinewidth": 0,
              "ticks": ""
             }
            },
            "type": "scattercarpet"
           }
          ],
          "scattergeo": [
           {
            "marker": {
             "colorbar": {
              "outlinewidth": 0,
              "ticks": ""
             }
            },
            "type": "scattergeo"
           }
          ],
          "scattergl": [
           {
            "marker": {
             "colorbar": {
              "outlinewidth": 0,
              "ticks": ""
             }
            },
            "type": "scattergl"
           }
          ],
          "scattermapbox": [
           {
            "marker": {
             "colorbar": {
              "outlinewidth": 0,
              "ticks": ""
             }
            },
            "type": "scattermapbox"
           }
          ],
          "scatterpolar": [
           {
            "marker": {
             "colorbar": {
              "outlinewidth": 0,
              "ticks": ""
             }
            },
            "type": "scatterpolar"
           }
          ],
          "scatterpolargl": [
           {
            "marker": {
             "colorbar": {
              "outlinewidth": 0,
              "ticks": ""
             }
            },
            "type": "scatterpolargl"
           }
          ],
          "scatterternary": [
           {
            "marker": {
             "colorbar": {
              "outlinewidth": 0,
              "ticks": ""
             }
            },
            "type": "scatterternary"
           }
          ],
          "surface": [
           {
            "colorbar": {
             "outlinewidth": 0,
             "ticks": ""
            },
            "colorscale": [
             [
              0,
              "#0d0887"
             ],
             [
              0.1111111111111111,
              "#46039f"
             ],
             [
              0.2222222222222222,
              "#7201a8"
             ],
             [
              0.3333333333333333,
              "#9c179e"
             ],
             [
              0.4444444444444444,
              "#bd3786"
             ],
             [
              0.5555555555555556,
              "#d8576b"
             ],
             [
              0.6666666666666666,
              "#ed7953"
             ],
             [
              0.7777777777777778,
              "#fb9f3a"
             ],
             [
              0.8888888888888888,
              "#fdca26"
             ],
             [
              1,
              "#f0f921"
             ]
            ],
            "type": "surface"
           }
          ],
          "table": [
           {
            "cells": {
             "fill": {
              "color": "#EBF0F8"
             },
             "line": {
              "color": "white"
             }
            },
            "header": {
             "fill": {
              "color": "#C8D4E3"
             },
             "line": {
              "color": "white"
             }
            },
            "type": "table"
           }
          ]
         },
         "layout": {
          "annotationdefaults": {
           "arrowcolor": "#2a3f5f",
           "arrowhead": 0,
           "arrowwidth": 1
          },
          "autotypenumbers": "strict",
          "coloraxis": {
           "colorbar": {
            "outlinewidth": 0,
            "ticks": ""
           }
          },
          "colorscale": {
           "diverging": [
            [
             0,
             "#8e0152"
            ],
            [
             0.1,
             "#c51b7d"
            ],
            [
             0.2,
             "#de77ae"
            ],
            [
             0.3,
             "#f1b6da"
            ],
            [
             0.4,
             "#fde0ef"
            ],
            [
             0.5,
             "#f7f7f7"
            ],
            [
             0.6,
             "#e6f5d0"
            ],
            [
             0.7,
             "#b8e186"
            ],
            [
             0.8,
             "#7fbc41"
            ],
            [
             0.9,
             "#4d9221"
            ],
            [
             1,
             "#276419"
            ]
           ],
           "sequential": [
            [
             0,
             "#0d0887"
            ],
            [
             0.1111111111111111,
             "#46039f"
            ],
            [
             0.2222222222222222,
             "#7201a8"
            ],
            [
             0.3333333333333333,
             "#9c179e"
            ],
            [
             0.4444444444444444,
             "#bd3786"
            ],
            [
             0.5555555555555556,
             "#d8576b"
            ],
            [
             0.6666666666666666,
             "#ed7953"
            ],
            [
             0.7777777777777778,
             "#fb9f3a"
            ],
            [
             0.8888888888888888,
             "#fdca26"
            ],
            [
             1,
             "#f0f921"
            ]
           ],
           "sequentialminus": [
            [
             0,
             "#0d0887"
            ],
            [
             0.1111111111111111,
             "#46039f"
            ],
            [
             0.2222222222222222,
             "#7201a8"
            ],
            [
             0.3333333333333333,
             "#9c179e"
            ],
            [
             0.4444444444444444,
             "#bd3786"
            ],
            [
             0.5555555555555556,
             "#d8576b"
            ],
            [
             0.6666666666666666,
             "#ed7953"
            ],
            [
             0.7777777777777778,
             "#fb9f3a"
            ],
            [
             0.8888888888888888,
             "#fdca26"
            ],
            [
             1,
             "#f0f921"
            ]
           ]
          },
          "colorway": [
           "#636efa",
           "#EF553B",
           "#00cc96",
           "#ab63fa",
           "#FFA15A",
           "#19d3f3",
           "#FF6692",
           "#B6E880",
           "#FF97FF",
           "#FECB52"
          ],
          "font": {
           "color": "#2a3f5f"
          },
          "geo": {
           "bgcolor": "white",
           "lakecolor": "white",
           "landcolor": "#E5ECF6",
           "showlakes": true,
           "showland": true,
           "subunitcolor": "white"
          },
          "hoverlabel": {
           "align": "left"
          },
          "hovermode": "closest",
          "mapbox": {
           "style": "light"
          },
          "paper_bgcolor": "white",
          "plot_bgcolor": "#E5ECF6",
          "polar": {
           "angularaxis": {
            "gridcolor": "white",
            "linecolor": "white",
            "ticks": ""
           },
           "bgcolor": "#E5ECF6",
           "radialaxis": {
            "gridcolor": "white",
            "linecolor": "white",
            "ticks": ""
           }
          },
          "scene": {
           "xaxis": {
            "backgroundcolor": "#E5ECF6",
            "gridcolor": "white",
            "gridwidth": 2,
            "linecolor": "white",
            "showbackground": true,
            "ticks": "",
            "zerolinecolor": "white"
           },
           "yaxis": {
            "backgroundcolor": "#E5ECF6",
            "gridcolor": "white",
            "gridwidth": 2,
            "linecolor": "white",
            "showbackground": true,
            "ticks": "",
            "zerolinecolor": "white"
           },
           "zaxis": {
            "backgroundcolor": "#E5ECF6",
            "gridcolor": "white",
            "gridwidth": 2,
            "linecolor": "white",
            "showbackground": true,
            "ticks": "",
            "zerolinecolor": "white"
           }
          },
          "shapedefaults": {
           "line": {
            "color": "#2a3f5f"
           }
          },
          "ternary": {
           "aaxis": {
            "gridcolor": "white",
            "linecolor": "white",
            "ticks": ""
           },
           "baxis": {
            "gridcolor": "white",
            "linecolor": "white",
            "ticks": ""
           },
           "bgcolor": "#E5ECF6",
           "caxis": {
            "gridcolor": "white",
            "linecolor": "white",
            "ticks": ""
           }
          },
          "title": {
           "x": 0.05
          },
          "xaxis": {
           "automargin": true,
           "gridcolor": "white",
           "linecolor": "white",
           "ticks": "",
           "title": {
            "standoff": 15
           },
           "zerolinecolor": "white",
           "zerolinewidth": 2
          },
          "yaxis": {
           "automargin": true,
           "gridcolor": "white",
           "linecolor": "white",
           "ticks": "",
           "title": {
            "standoff": 15
           },
           "zerolinecolor": "white",
           "zerolinewidth": 2
          }
         }
        },
        "title": "Function Solution with Dirichelt Boundary Conditions",
        "xaxis": {
         "title": {
          "text": "x"
         }
        },
        "yaxis": {
         "title": {
          "text": "u"
         }
        }
       }
      },
      "text/html": [
       "<div\n",
       "    class=\"webio-mountpoint\"\n",
       "    data-webio-mountpoint=\"12992325402998443156\"\n",
       ">\n",
       "    <script>\n",
       "    (function(){\n",
       "    // Some integrations (namely, IJulia/Jupyter) use an alternate render pathway than\n",
       "    // just putting the html on the page. If WebIO isn't defined, then it's pretty likely\n",
       "    // that we're in one of those situations and the integration just isn't installed\n",
       "    // correctly.\n",
       "    if (typeof window.WebIO === \"undefined\") {\n",
       "        document\n",
       "            .querySelector('[data-webio-mountpoint=\"12992325402998443156\"]')\n",
       "            .innerHTML = (\n",
       "                '<div style=\"padding: 1em; background-color: #f8d6da; border: 1px solid #f5c6cb; font-weight: bold;\">' +\n",
       "                '<p><strong>WebIO not detected.</strong></p>' +\n",
       "                '<p>Please read ' +\n",
       "                '<a href=\"https://juliagizmos.github.io/WebIO.jl/latest/troubleshooting/not-detected/\" target=\"_blank\">the troubleshooting guide</a> ' +\n",
       "                'for more information on how to resolve this issue.</p>' +\n",
       "                '<p><a href=\"https://juliagizmos.github.io/WebIO.jl/latest/troubleshooting/not-detected/\" target=\"_blank\">https://juliagizmos.github.io/WebIO.jl/latest/troubleshooting/not-detected/</a></p>' +\n",
       "                '</div>'\n",
       "            );\n",
       "        return;\n",
       "    }\n",
       "    WebIO.mount(\n",
       "        document.querySelector('[data-webio-mountpoint=\"12992325402998443156\"]'),\n",
       "        {\"props\":{},\"nodeType\":\"Scope\",\"type\":\"node\",\"instanceArgs\":{\"imports\":{\"data\":[{\"name\":\"Plotly\",\"type\":\"js\",\"url\":\"\\/assetserver\\/829791e6ff21fc5c4b60e5df299f439365241070-plotly.min.js\"},{\"name\":null,\"type\":\"js\",\"url\":\"\\/assetserver\\/823f3c894aa43f38c72113b9d92345d26ad2b09b-plotly_webio.bundle.js\"}],\"type\":\"async_block\"},\"id\":\"1069816104587633724\",\"handlers\":{\"_toImage\":[\"(function (options){return this.Plotly.toImage(this.plotElem,options).then((function (data){return WebIO.setval({\\\"name\\\":\\\"image\\\",\\\"scope\\\":\\\"1069816104587633724\\\",\\\"id\\\":\\\"335136767037398658\\\",\\\"type\\\":\\\"observable\\\"},data)}))})\"],\"__get_gd_contents\":[\"(function (prop){prop==\\\"data\\\" ? (WebIO.setval({\\\"name\\\":\\\"__gd_contents\\\",\\\"scope\\\":\\\"1069816104587633724\\\",\\\"id\\\":\\\"5157714409317619434\\\",\\\"type\\\":\\\"observable\\\"},this.plotElem.data)) : undefined; return prop==\\\"layout\\\" ? (WebIO.setval({\\\"name\\\":\\\"__gd_contents\\\",\\\"scope\\\":\\\"1069816104587633724\\\",\\\"id\\\":\\\"5157714409317619434\\\",\\\"type\\\":\\\"observable\\\"},this.plotElem.layout)) : undefined})\"],\"_downloadImage\":[\"(function (options){return this.Plotly.downloadImage(this.plotElem,options)})\"],\"_commands\":[\"(function (args){var fn=args.shift(); var elem=this.plotElem; var Plotly=this.Plotly; args.unshift(elem); return Plotly[fn].apply(this,args)})\"]},\"systemjs_options\":null,\"mount_callbacks\":[\"function () {\\n    var handler = ((function (Plotly,PlotlyWebIO){PlotlyWebIO.init(WebIO); var gd=this.dom.querySelector(\\\"#plot-fa83fb91-9108-4dce-a0d6-9c51b235d286\\\"); this.plotElem=gd; this.Plotly=Plotly; (window.Blink!==undefined) ? (gd.style.width=\\\"100%\\\", gd.style.height=\\\"100vh\\\", gd.style.marginLeft=\\\"0%\\\", gd.style.marginTop=\\\"0vh\\\") : undefined; window.onresize=(function (){return Plotly.Plots.resize(gd)}); Plotly.newPlot(gd,[{\\\"mode\\\":\\\"lines\\\",\\\"y\\\":[0.0,0.00999993718632397,0.019949623432013563,0.029849058737068446,0.03969824310148806,0.04949717652527286,0.059245859008423274,0.06894429055093898,0.07859247115281942,0.08819040081406504,0.09773807953467628,0.1072355073146527,0.11668268415399397,0.1260796100527004,0.13542628501077258,0.14472270902820983,0.15396888210501192,0.16316480424117918,0.17231047543671207,0.18140589569161014,0.19045106500587305,0.19944598337950115,0.20839065081249486,0.21728506730485375,0.2261292328565775,0.2349231474676664,0.24366681113812094,0.25236022386794066,0.2610033856571252,0.26959629650567496,0.2781389564135903,0.28663136538087086,0.29507352340751625,0.3034654304935268,0.311807086638903,0.32009849184364436,0.32833964610775057,0.33653054943122196,0.34467120181405897,0.35276160325626116,0.3608017537578282,0.3687916533187604,0.3767313019390581,0.38462069961872114,0.392459846357749,0.40024874215614203,0.4079873870139007,0.4156757809310244,0.4233139239075131,0.43090181594336696,0.43843945703858644,0.445926847193171,0.4533639864071205,0.4607508746804352,0.4680875120131155,0.47537389840516087,0.4826100338565712,0.4897959183673467,0.49693155193748784,0.504016934566994,0.5110520662558652,0.5180369470041015,0.5249715768117034,0.5318559556786705,0.5386900836050025,0.5454739605906996,0.5522075866357623,0.5588909617401903,0.565524085903983,0.572106959127141,0.5786395814096645,0.5851219527515532,0.5915540731528068,0.5979359426134256,0.60426756113341,0.6105489287127595,0.6167800453514739,0.6229609110495535,0.6290915258069987,0.635171889623809,0.6412020024999843,0.6471818644355247,0.6531114754304307,0.6589908354847018,0.6648199445983379,0.6705988027713392,0.676327410003706,0.682005766295438,0.6876338716465349,0.693211726056997,0.6987393295268245,0.7042166820560174,0.709643783644575,0.7150206342924981,0.7203472339997864,0.72562358276644,0.7308496805924586,0.7360255274778423,0.7411511234225916,0.7462264684267059,0.7512515624901853,0.75622640561303,0.76115099779524,0.7660253390368151,0.7708494293377554,0.7756232686980609,0.7803468571177317,0.7850201945967676,0.7896432811351687,0.794216116732935,0.7987387013900666,0.8032110351065634,0.8076331178824253,0.8120049497176525,0.8163265306122449,0.8205978605662025,0.8248189395795252,0.8289897676522131,0.8331103447842664,0.8371806709756848,0.8412007462264683,0.8451705705366171,0.8490901439061312,0.8529594663350104,0.8567785378232549,0.8605473583708645,0.8642659279778393,0.8679342466441794,0.8715523143698846,0.875120131154955,0.8786376969993906,0.8821050119031916,0.8855220758663576,0.8888888888888888,0.8922054509707853,0.895471762112047,0.8986878223126739,0.901853631572666,0.9049691898920232,0.9080344972707458,0.9110495537088334,0.9140143592062864,0.9169289137631045,0.9197932173792879,0.9226072700548363,0.92537107178975,0.928084622584029,0.9307479224376731,0.9333609713506824,0.935923769323057,0.9384363163547967,0.9408986124459018,0.9433106575963719,0.9456724518062072,0.9479839950754078,0.9502452874039736,0.9524563287919046,0.9546171192392007,0.9567276587458622,0.9587879473118888,0.9607979849372805,0.9627577716220375,0.9646673073661598,0.9665265921696472,0.9683356260324998,0.9700944089547175,0.9718029409363006,0.9734612219772489,0.9750692520775623,0.9766270312372409,0.9781345594562848,0.9795918367346939,0.9809988630724681,0.9823556384696076,0.9836621629261123,0.9849184364419822,0.9861244590172172,0.9872802306518175,0.988385751345783,0.9894410210991137,0.9904460399118096,0.9914008077838706,0.992305324715297,0.9931595907060885,0.9939636057562452,0.9947173698657672,0.9954208830346543,0.9960741452629066,0.9966771565505241,0.997229916897507,0.9977324263038548,0.998184684769568,0.9985866922946464,0.99893844887909,0.9992399545228987,0.9994912092260727,0.9996922129886119,0.9998429658105162,0.9999434676917859,0.9999937186324207,0.9999937186324207,0.9999434676917859,0.9998429658105162,0.9996922129886119,0.9994912092260727,0.9992399545228987,0.99893844887909,0.9985866922946464,0.998184684769568,0.9977324263038548,0.997229916897507,0.9966771565505241,0.9960741452629066,0.9954208830346543,0.9947173698657672,0.9939636057562452,0.9931595907060885,0.992305324715297,0.9914008077838707,0.9904460399118096,0.9894410210991137,0.988385751345783,0.9872802306518176,0.9861244590172172,0.9849184364419822,0.9836621629261123,0.9823556384696076,0.9809988630724681,0.9795918367346939,0.9781345594562848,0.976627031237241,0.9750692520775623,0.9734612219772489,0.9718029409363006,0.9700944089547177,0.9683356260324998,0.9665265921696472,0.9646673073661598,0.9627577716220376,0.9607979849372805,0.9587879473118888,0.9567276587458622,0.9546171192392008,0.9524563287919046,0.9502452874039736,0.9479839950754078,0.9456724518062073,0.9433106575963719,0.9408986124459018,0.9384363163547967,0.9359237693230571,0.9333609713506824,0.9307479224376731,0.928084622584029,0.9253710717897501,0.9226072700548363,0.9197932173792879,0.9169289137631045,0.9140143592062864,0.9110495537088334,0.9080344972707458,0.9049691898920232,0.9018536315726661,0.8986878223126739,0.895471762112047,0.8922054509707853,0.888888888888889,0.8855220758663576,0.8821050119031916,0.8786376969993906,0.8751201311549551,0.8715523143698846,0.8679342466441794,0.8642659279778393,0.8605473583708646,0.8567785378232549,0.8529594663350105,0.8490901439061312,0.8451705705366173,0.8412007462264683,0.8371806709756848,0.8331103447842664,0.8289897676522133,0.8248189395795252,0.8205978605662025,0.8163265306122449,0.8120049497176526,0.8076331178824253,0.8032110351065634,0.7987387013900666,0.7942161167329351,0.7896432811351687,0.7850201945967676,0.7803468571177317,0.7756232686980611,0.7708494293377554,0.7660253390368151,0.76115099779524,0.7562264056130301,0.7512515624901853,0.7462264684267059,0.7411511234225916,0.7360255274778426,0.7308496805924586,0.72562358276644,0.7203472339997864,0.7150206342924983,0.709643783644575,0.7042166820560174,0.6987393295268245,0.6932117260569972,0.6876338716465349,0.682005766295438,0.676327410003706,0.6705988027713394,0.6648199445983379,0.6589908354847018,0.6531114754304307,0.647181864435525,0.6412020024999843,0.635171889623809,0.6290915258069987,0.6229609110495538,0.6167800453514739,0.6105489287127595,0.60426756113341,0.5979359426134259,0.5915540731528068,0.5851219527515532,0.5786395814096645,0.5721069591271413,0.565524085903983,0.5588909617401903,0.5522075866357623,0.5454739605907,0.5386900836050025,0.5318559556786705,0.5249715768117034,0.5180369470041019,0.5110520662558652,0.504016934566994,0.49693155193748784,0.48979591836734704,0.4826100338565712,0.47537389840516087,0.4680875120131155,0.4607508746804355,0.4533639864071205,0.445926847193171,0.43843945703858644,0.4309018159433673,0.4233139239075131,0.4156757809310244,0.4079873870139007,0.40024874215614237,0.392459846357749,0.38462069961872114,0.3767313019390581,0.36879165331876074,0.3608017537578282,0.35276160325626116,0.34467120181405897,0.3365305494312223,0.32833964610775057,0.32009849184364436,0.311807086638903,0.30346543049352726,0.29507352340751625,0.28663136538087086,0.2781389564135903,0.2695962965056754,0.2610033856571252,0.25236022386794066,0.24366681113812094,0.23492314746766685,0.2261292328565775,0.21728506730485375,0.20839065081249486,0.1994459833795016,0.19045106500587305,0.18140589569161014,0.17231047543671207,0.16316480424117963,0.15396888210501192,0.14472270902820983,0.13542628501077258,0.12607961005270085,0.11668268415399397,0.1072355073146527,0.09773807953467628,0.08819040081406548,0.07859247115281942,0.06894429055093898,0.059245859008423274,0.0494971765252733,0.03969824310148806,0.029849058737068446,0.019949623432013563,0.009999937186324415,0.0],\\\"type\\\":\\\"scatter\\\",\\\"name\\\":\\\"u exact\\\",\\\"x\\\":[-1.0,-0.9949874686716793,-0.9899749373433584,-0.9849624060150375,-0.9799498746867168,-0.9749373433583961,-0.9699248120300752,-0.9649122807017543,-0.9598997493734336,-0.9548872180451129,-0.949874686716792,-0.9448621553884711,-0.9398496240601504,-0.9348370927318297,-0.9298245614035088,-0.9248120300751879,-0.9197994987468672,-0.9147869674185465,-0.9097744360902256,-0.9047619047619047,-0.899749373433584,-0.8947368421052633,-0.8897243107769424,-0.8847117794486214,-0.8796992481203008,-0.8746867167919801,-0.8696741854636592,-0.8646616541353382,-0.8596491228070176,-0.8546365914786969,-0.849624060150376,-0.844611528822055,-0.8395989974937343,-0.8345864661654137,-0.8295739348370927,-0.8245614035087718,-0.8195488721804511,-0.8145363408521304,-0.8095238095238095,-0.8045112781954886,-0.7994987468671679,-0.7944862155388472,-0.7894736842105263,-0.7844611528822054,-0.7794486215538847,-0.774436090225564,-0.7694235588972431,-0.7644110275689222,-0.7593984962406015,-0.7543859649122808,-0.7493734335839599,-0.744360902255639,-0.7393483709273183,-0.7343358395989976,-0.7293233082706767,-0.7243107769423558,-0.7192982456140351,-0.7142857142857144,-0.7092731829573935,-0.7042606516290726,-0.6992481203007519,-0.6942355889724312,-0.6892230576441103,-0.6842105263157894,-0.6791979949874687,-0.674185463659148,-0.6691729323308271,-0.6641604010025062,-0.6591478696741855,-0.6541353383458648,-0.6491228070175439,-0.644110275689223,-0.6390977443609023,-0.6340852130325816,-0.6290726817042607,-0.6240601503759398,-0.6190476190476191,-0.6140350877192984,-0.6090225563909775,-0.6040100250626566,-0.5989974937343359,-0.5939849624060152,-0.5889724310776943,-0.5839598997493733,-0.5789473684210527,-0.573934837092732,-0.568922305764411,-0.5639097744360901,-0.5588972431077694,-0.5538847117794488,-0.5488721804511278,-0.5438596491228069,-0.5388471177944862,-0.5338345864661656,-0.5288220551378446,-0.5238095238095237,-0.518796992481203,-0.5137844611528823,-0.5087719298245614,-0.5037593984962405,-0.4987468671679198,-0.4937343358395991,-0.4887218045112782,-0.48370927318295737,-0.4786967418546366,-0.4736842105263159,-0.468671679197995,-0.46365914786967416,-0.4586466165413534,-0.45363408521303267,-0.4486215538847118,-0.44360902255639095,-0.4385964912280702,-0.43358395989974946,-0.4285714285714286,-0.42355889724310775,-0.418546365914787,-0.41353383458646625,-0.4085213032581454,-0.40350877192982454,-0.3984962406015038,-0.39348370927318305,-0.3884711779448622,-0.38345864661654133,-0.3784461152882206,-0.37343358395989984,-0.368421052631579,-0.3634085213032581,-0.3583959899749374,-0.35338345864661663,-0.3483709273182958,-0.3433583959899749,-0.33834586466165417,-0.3333333333333334,-0.32832080200501257,-0.3233082706766917,-0.31829573934837097,-0.3132832080200502,-0.30827067669172936,-0.3032581453634085,-0.29824561403508776,-0.293233082706767,-0.28822055137844615,-0.2832080200501253,-0.27819548872180455,-0.2731829573934838,-0.26817042606516295,-0.2631578947368421,-0.25814536340852134,-0.2531328320802006,-0.24812030075187974,-0.24310776942355888,-0.23809523809523814,-0.2330827067669174,-0.22807017543859653,-0.22305764411027568,-0.21804511278195493,-0.21303258145363418,-0.20802005012531333,-0.20300751879699247,-0.19799498746867172,-0.19298245614035098,-0.18796992481203012,-0.18295739348370926,-0.17794486215538852,-0.17293233082706777,-0.1679197994987469,-0.16290726817042606,-0.1578947368421053,-0.15288220551378456,-0.1478696741854637,-0.14285714285714285,-0.1378446115288221,-0.13283208020050136,-0.1278195488721805,-0.12280701754385964,-0.1177944862155389,-0.11278195488721815,-0.10776942355889729,-0.10275689223057644,-0.09774436090225569,-0.09273182957393494,-0.08771929824561409,-0.08270676691729323,-0.07769423558897248,-0.07268170426065174,-0.06766917293233088,-0.06265664160401002,-0.057644110275689275,-0.05263157894736853,-0.04761904761904767,-0.042606516290726815,-0.03759398496240607,-0.03258145363408532,-0.027568922305764465,-0.022556390977443608,-0.01754385964912286,-0.012531328320802115,-0.007518796992481258,-0.002506265664160401,0.0025062656641603454,0.007518796992481258,0.012531328320801949,0.01754385964912286,0.022556390977443552,0.027568922305764465,0.032581453634085156,0.03759398496240607,0.04260651629072676,0.04761904761904767,0.05263157894736836,0.057644110275689275,0.06265664160400997,0.06766917293233088,0.07268170426065157,0.07769423558897248,0.08270676691729317,0.08771929824561409,0.09273182957393478,0.09774436090225569,0.10275689223057638,0.10776942355889729,0.11278195488721798,0.1177944862155389,0.12280701754385959,0.1278195488721805,0.1328320802005012,0.1378446115288221,0.1428571428571428,0.1478696741854637,0.1528822055137844,0.1578947368421053,0.162907268170426,0.1679197994987469,0.1729323308270676,0.17794486215538852,0.1829573934837092,0.18796992481203012,0.1929824561403508,0.19799498746867172,0.20300751879699241,0.20802005012531333,0.21303258145363402,0.21804511278195493,0.22305764411027562,0.22807017543859653,0.23308270676691722,0.23809523809523814,0.24310776942355883,0.24812030075187974,0.25313283208020043,0.25814536340852134,0.26315789473684204,0.26817042606516295,0.27318295739348364,0.27819548872180455,0.28320802005012524,0.28822055137844615,0.29323308270676685,0.29824561403508776,0.30325814536340845,0.30827067669172936,0.31328320802005005,0.31829573934837097,0.32330827067669166,0.32832080200501257,0.33333333333333326,0.33834586466165417,0.34335839598997486,0.3483709273182958,0.35338345864661647,0.3583959899749374,0.36340852130325807,0.368421052631579,0.3734335839598997,0.3784461152882206,0.3834586466165413,0.3884711779448622,0.3934837092731829,0.3984962406015038,0.4035087719298245,0.4085213032581454,0.4135338345864661,0.418546365914787,0.4235588972431077,0.4285714285714286,0.4335839598997493,0.4385964912280702,0.4436090225563909,0.4486215538847118,0.4536340852130325,0.4586466165413534,0.4636591478696741,0.468671679197995,0.4736842105263157,0.4786967418546366,0.4837092731829573,0.4887218045112782,0.4937343358395989,0.4987468671679198,0.5037593984962405,0.5087719298245614,0.5137844611528821,0.518796992481203,0.5238095238095237,0.5288220551378446,0.5338345864661653,0.5388471177944862,0.5438596491228069,0.5488721804511278,0.5538847117794485,0.5588972431077694,0.5639097744360901,0.568922305764411,0.5739348370927317,0.5789473684210527,0.5839598997493733,0.5889724310776943,0.593984962406015,0.5989974937343359,0.6040100250626566,0.6090225563909775,0.6140350877192982,0.6190476190476191,0.6240601503759398,0.6290726817042607,0.6340852130325814,0.6390977443609023,0.644110275689223,0.6491228070175439,0.6541353383458646,0.6591478696741855,0.6641604010025062,0.6691729323308271,0.6741854636591478,0.6791979949874687,0.6842105263157894,0.6892230576441103,0.694235588972431,0.6992481203007519,0.7042606516290726,0.7092731829573935,0.7142857142857142,0.7192982456140351,0.7243107769423558,0.7293233082706767,0.7343358395989974,0.7393483709273183,0.744360902255639,0.7493734335839599,0.7543859649122806,0.7593984962406015,0.7644110275689222,0.7694235588972431,0.7744360902255638,0.7794486215538847,0.7844611528822054,0.7894736842105263,0.794486215538847,0.7994987468671679,0.8045112781954886,0.8095238095238095,0.8145363408521302,0.8195488721804511,0.8245614035087718,0.8295739348370927,0.8345864661654134,0.8395989974937343,0.844611528822055,0.849624060150376,0.8546365914786966,0.8596491228070176,0.8646616541353382,0.8696741854636592,0.8746867167919798,0.8796992481203008,0.8847117794486214,0.8897243107769424,0.894736842105263,0.899749373433584,0.9047619047619047,0.9097744360902256,0.9147869674185463,0.9197994987468672,0.9248120300751879,0.9298245614035088,0.9348370927318295,0.9398496240601504,0.9448621553884711,0.949874686716792,0.9548872180451127,0.9598997493734336,0.9649122807017543,0.9699248120300752,0.9749373433583959,0.9799498746867168,0.9849624060150375,0.9899749373433584,0.9949874686716791,1.0]},{\\\"mode\\\":\\\"markers\\\",\\\"y\\\":[0.0,0.01664976863712813,0.0332492863336222,0.04979805058323158,0.06629556140486263,0.0827413213425803,0.09913483546560649,0.1154756113683187,0.13176315917025153,0.14799699151609796,0.16417662357570806,0.18030157304408748,0.1963713601413989,0.21238550761296354,0.22834354072925955,0.24424498728592076,0.26008937760373796,0.27587624452866055,0.2916051234317947,0.3072755522094024,0.3228870712829027,0.338439223598873,0.35393155462904774,0.369363612370317,0.3847349473447279,0.400045112599486,0.4152936637069539,0.4304801587646499,0.44560415839524925,0.4606652257465856,0.47566292649164954,0.49059682882858763,0.5054665034807032,0.5202715236964581,0.5350114652494713,0.5496859064385171,0.5642944280875273,0.5788366135455918,0.5933120486869574,0.607720321911027,0.6220610241423601,0.6363337488306751,0.6505380919508468,0.6646736520029061,0.678740030012041,0.6927368295285975,0.7066636566280787,0.7205201199111441,0.7343058305036093,0.7480204020564488,0.761663450745794,0.7752345952729319,0.7887334568643067,0.802159659271521,0.815512828771334,0.8287925941656611,0.8419985867815747,0.8551304404713055,0.8681877916122409,0.8811702791069246,0.8940775443830568,0.9069092313934963,0.9196649866162588,0.9323444590545161,0.9449473002365967,0.9574731642159874,0.9699217075713321,0.9822925894064305,0.9945854713502392,1.0068000175568734,1.018935894705605,1.030992772000862,1.042970321172229,1.0548682164744492,1.0666861346874228,1.078423755116206,1.0900807595910114,1.1016568324672107,1.113151660625332,1.1245649334710597,1.1358963429352347,1.1471455834738566,1.1583123520680818,1.1693963482242224,1.1803972739737478,1.1913148338732855,1.2021487350046198,1.2128986869746914,1.2235644019155978,1.2341455944845945,1.2446419818640941,1.2550532837616657,1.2653792224100344,1.2756195225670843,1.2857739115158562,1.2958421190645464,1.3058238775465092,1.3157189218202565,1.3255269892694566,1.335247819802935,1.3448811558546734,1.3544267423838119,1.3638843268746474,1.3732536593366331,1.382534492304379,1.3917265808376538,1.4008296825213817,1.4098435574656445,1.418767968305681,1.4276026802018866,1.4363474608398146,1.4450020804301746,1.453566311708833,1.4620399299368148,1.4704227129002998,1.4787144409106268,1.48691489680429,1.4950238659429422,1.503041136213392,1.5109664980276059,1.5187997443227068,1.526540670560975,1.534189074729848,1.54174475734192,1.549207521434942,1.5565771725718223,1.5638535188406268,1.5710363708545778,1.578125541752054,1.5851208471965923,1.5920221053768862,1.598829137006786,1.6055417653252992,1.6121598160965909,1.6186831176099825,1.6251115006799528,1.631444798646137,1.6376828473733283,1.6438254852514764,1.6498725531956884,1.6558238946462276,1.6616793555685154,1.6674387844531293,1.673102032315805,1.6786689526974334,1.6841394016640645,1.6895132378069035,1.694790322242314,1.699970518611816,1.7050536930820865,1.7100397143449597,1.7149284536174274,1.7197197846416377,1.7244135836848957,1.7290097295396634,1.7335081035235607,1.7379085894793636,1.7422110737750058,1.7464154453035778,1.7505215954833275,1.7545294182576587,1.7584388100951336,1.7622496699894705,1.7659618994595452,1.76957540254939,1.7730900858281948,1.7765058583903062,1.7798226318552282,1.783040320367621,1.7861588405973035,1.7891781117392493,1.7920980555135917,1.7949185961656187,1.797639660465777,1.8002611777096689,1.802783079718055,1.8052053008368523,1.807527777937135,1.8097504504151338,1.8118732601922372,1.8138961517149905,1.8158190719550962,1.8176419704094133,1.8193647990999586,1.8209875125739048,1.8225100679035826,1.8239324246864794,1.82525454504524,1.8264763936276653,1.8275979376067144,1.8286191466805028,1.8295399930723033,1.830360451530545,1.8310804993288146,1.8317001162658562,1.8322192846655707,1.8326379893770155,1.8329562177744059,1.833173959757113,1.8332912077496664,1.8333079567017512,1.8332242040882114,1.8330399499090466,1.8327551966894133,1.8323699494796257,1.8318842158551552,1.8312980059166302,1.830611332289835,1.8298242101257127,1.828936657100362,1.8279486934150395,1.8268603417961582,1.8256716274952887,1.8243825782891578,1.8229932244796505,1.821503598893808,1.819913736883829,1.8182236763270687,1.8164334576260397,1.814543123708412,1.812552720027012,1.8104622945598232,1.8082718978099865,1.8059815828057995,1.8035914051007171,1.8011014227733513,1.7985116964274706,1.795822289192001,1.7930332667210256,1.7901446971937842,1.787156651314674,1.7840692023132485,1.780882425944219,1.7775964004874534,1.7742112067479767,1.7707269280559714,1.7671436502667768,1.7634614617608886,1.75968045344396,1.7558007187468014,1.7518223536253803,1.7477454565608208,1.7435701285594045,1.73929647315257,1.7349245963969127,1.7304546068741848,1.7258866156912966,1.7212207364803138,1.7164570853984602,1.7115957811281166,1.7066369448768208,1.7015807003772672,1.6964271738873076,1.6911764941899508,1.6858287925933624,1.6803842029308655,1.6748428615609399,1.6692049073672224,1.6634704817585073,1.6576397286687454,1.651712794557045,1.6456898284076702,1.639570981730044,1.6333564085587446,1.6270462654535094,1.6206407114992305,1.6141399083059589,1.6075440200089015,1.6008532132684228,1.5940676572700434,1.5871875237244426,1.580212986867455,1.5731442234600739,1.565981412788448,1.5587247366638846,1.5513743794228463,1.5439305279269544,1.536393371562986,1.5287631022428763,1.5210399144037157,1.5132240050077543,1.505315573542397,1.4973148220202073,1.489221954978904,1.4810371794813655,1.472760705115624,1.4643927439948714,1.4559335107574551,1.4473832225668812,1.4387420991118103,1.4300103626060623,1.421188237788613,1.4122759519235957,1.4032737348003002,1.3941818187331743,1.3850004385618215,1.3757298316510036,1.3663702378906382,1.3569218996958017,1.3473850620067256,1.3377599722888,1.3280468805325707,1.3182460392537416,1.3083577034931728,1.2983821308168824,1.2883195813160444,1.278170317606991,1.2679346048312101,1.257612710655348,1.2472049052712066,1.2367114613957468,1.2261326542710842,1.2154687616644935,1.204720063868405,1.1938868437004073,1.1829693865032442,1.171967980144819,1.1608829150181896,1.1497144840415727,1.1384629826583406,1.1271287088370243,1.1157119630713102,1.1042130483800432,1.0926322703072235,1.0809699369220105,1.069226358818718,1.05740184911682,1.0454967234609442,1.0335113000208787,1.0214458994915652,1.0093008450931056,0.9970764625707562,0.9847730801949327,0.9723910287612054,0.9599306415903038,0.9473922545281128,0.9347762059456761,0.9220828367391919,0.9093124903300184,0.896465512664668,0.8835422522148126,0.8705430599772789,0.8574682894740528,0.8443182967522754,0.8310934403842466,0.8177940814674212,0.8044205836244132,0.7909733130029917,0.7774526382760849,0.7638589306417757,0.7501925638233063,0.7364539140690739,0.7226433601526349,0.7087612833727002,0.6948080675531403,0.6807840990429803,0.6666897667164047,0.6525254619727526,0.638291578736523,0.6239885134573688,0.6096166651101028,0.5951764351946922,0.5806682277362639,0.5660924492850993,0.5514495089166391,0.536739818231479,0.5219637913553737,0.5071218449392327,0.49221439815912504,0.4772418727162743,0.46220469283706345,0.4471032852730302,0.4319380793008717,0.4167095067224395,0.40141800186474497,0.38606400157995374,0.3706479452453912,0.355170274763537,0.33963143456203077,0.32403187159366614,0.30837203533639673,0.2926523777933303,0.2768733534927345,0.2610354194880313,0.24513903535780232,0.22918466320578354,0.2131727676608708,0.19710381587711404,0.18097827753372314,0.16479662483506213,0.14855933251065503,0.13226687781517993,0.11591974052847487,0.09951840295553202,0.08306334992650352,0.06655506879669561,0.04999404944657446,0.03338078428176038,0.01671576823303365,0.0],\\\"type\\\":\\\"scatter\\\",\\\"name\\\":\\\"u approx (u_h)\\\",\\\"x\\\":[-1.0,-0.9949874686716793,-0.9899749373433584,-0.9849624060150375,-0.9799498746867168,-0.9749373433583961,-0.9699248120300752,-0.9649122807017543,-0.9598997493734336,-0.9548872180451129,-0.949874686716792,-0.9448621553884711,-0.9398496240601504,-0.9348370927318297,-0.9298245614035088,-0.9248120300751879,-0.9197994987468672,-0.9147869674185465,-0.9097744360902256,-0.9047619047619047,-0.899749373433584,-0.8947368421052633,-0.8897243107769424,-0.8847117794486214,-0.8796992481203008,-0.8746867167919801,-0.8696741854636592,-0.8646616541353382,-0.8596491228070176,-0.8546365914786969,-0.849624060150376,-0.844611528822055,-0.8395989974937343,-0.8345864661654137,-0.8295739348370927,-0.8245614035087718,-0.8195488721804511,-0.8145363408521304,-0.8095238095238095,-0.8045112781954886,-0.7994987468671679,-0.7944862155388472,-0.7894736842105263,-0.7844611528822054,-0.7794486215538847,-0.774436090225564,-0.7694235588972431,-0.7644110275689222,-0.7593984962406015,-0.7543859649122808,-0.7493734335839599,-0.744360902255639,-0.7393483709273183,-0.7343358395989976,-0.7293233082706767,-0.7243107769423558,-0.7192982456140351,-0.7142857142857144,-0.7092731829573935,-0.7042606516290726,-0.6992481203007519,-0.6942355889724312,-0.6892230576441103,-0.6842105263157894,-0.6791979949874687,-0.674185463659148,-0.6691729323308271,-0.6641604010025062,-0.6591478696741855,-0.6541353383458648,-0.6491228070175439,-0.644110275689223,-0.6390977443609023,-0.6340852130325816,-0.6290726817042607,-0.6240601503759398,-0.6190476190476191,-0.6140350877192984,-0.6090225563909775,-0.6040100250626566,-0.5989974937343359,-0.5939849624060152,-0.5889724310776943,-0.5839598997493733,-0.5789473684210527,-0.573934837092732,-0.568922305764411,-0.5639097744360901,-0.5588972431077694,-0.5538847117794488,-0.5488721804511278,-0.5438596491228069,-0.5388471177944862,-0.5338345864661656,-0.5288220551378446,-0.5238095238095237,-0.518796992481203,-0.5137844611528823,-0.5087719298245614,-0.5037593984962405,-0.4987468671679198,-0.4937343358395991,-0.4887218045112782,-0.48370927318295737,-0.4786967418546366,-0.4736842105263159,-0.468671679197995,-0.46365914786967416,-0.4586466165413534,-0.45363408521303267,-0.4486215538847118,-0.44360902255639095,-0.4385964912280702,-0.43358395989974946,-0.4285714285714286,-0.42355889724310775,-0.418546365914787,-0.41353383458646625,-0.4085213032581454,-0.40350877192982454,-0.3984962406015038,-0.39348370927318305,-0.3884711779448622,-0.38345864661654133,-0.3784461152882206,-0.37343358395989984,-0.368421052631579,-0.3634085213032581,-0.3583959899749374,-0.35338345864661663,-0.3483709273182958,-0.3433583959899749,-0.33834586466165417,-0.3333333333333334,-0.32832080200501257,-0.3233082706766917,-0.31829573934837097,-0.3132832080200502,-0.30827067669172936,-0.3032581453634085,-0.29824561403508776,-0.293233082706767,-0.28822055137844615,-0.2832080200501253,-0.27819548872180455,-0.2731829573934838,-0.26817042606516295,-0.2631578947368421,-0.25814536340852134,-0.2531328320802006,-0.24812030075187974,-0.24310776942355888,-0.23809523809523814,-0.2330827067669174,-0.22807017543859653,-0.22305764411027568,-0.21804511278195493,-0.21303258145363418,-0.20802005012531333,-0.20300751879699247,-0.19799498746867172,-0.19298245614035098,-0.18796992481203012,-0.18295739348370926,-0.17794486215538852,-0.17293233082706777,-0.1679197994987469,-0.16290726817042606,-0.1578947368421053,-0.15288220551378456,-0.1478696741854637,-0.14285714285714285,-0.1378446115288221,-0.13283208020050136,-0.1278195488721805,-0.12280701754385964,-0.1177944862155389,-0.11278195488721815,-0.10776942355889729,-0.10275689223057644,-0.09774436090225569,-0.09273182957393494,-0.08771929824561409,-0.08270676691729323,-0.07769423558897248,-0.07268170426065174,-0.06766917293233088,-0.06265664160401002,-0.057644110275689275,-0.05263157894736853,-0.04761904761904767,-0.042606516290726815,-0.03759398496240607,-0.03258145363408532,-0.027568922305764465,-0.022556390977443608,-0.01754385964912286,-0.012531328320802115,-0.007518796992481258,-0.002506265664160401,0.0025062656641603454,0.007518796992481258,0.012531328320801949,0.01754385964912286,0.022556390977443552,0.027568922305764465,0.032581453634085156,0.03759398496240607,0.04260651629072676,0.04761904761904767,0.05263157894736836,0.057644110275689275,0.06265664160400997,0.06766917293233088,0.07268170426065157,0.07769423558897248,0.08270676691729317,0.08771929824561409,0.09273182957393478,0.09774436090225569,0.10275689223057638,0.10776942355889729,0.11278195488721798,0.1177944862155389,0.12280701754385959,0.1278195488721805,0.1328320802005012,0.1378446115288221,0.1428571428571428,0.1478696741854637,0.1528822055137844,0.1578947368421053,0.162907268170426,0.1679197994987469,0.1729323308270676,0.17794486215538852,0.1829573934837092,0.18796992481203012,0.1929824561403508,0.19799498746867172,0.20300751879699241,0.20802005012531333,0.21303258145363402,0.21804511278195493,0.22305764411027562,0.22807017543859653,0.23308270676691722,0.23809523809523814,0.24310776942355883,0.24812030075187974,0.25313283208020043,0.25814536340852134,0.26315789473684204,0.26817042606516295,0.27318295739348364,0.27819548872180455,0.28320802005012524,0.28822055137844615,0.29323308270676685,0.29824561403508776,0.30325814536340845,0.30827067669172936,0.31328320802005005,0.31829573934837097,0.32330827067669166,0.32832080200501257,0.33333333333333326,0.33834586466165417,0.34335839598997486,0.3483709273182958,0.35338345864661647,0.3583959899749374,0.36340852130325807,0.368421052631579,0.3734335839598997,0.3784461152882206,0.3834586466165413,0.3884711779448622,0.3934837092731829,0.3984962406015038,0.4035087719298245,0.4085213032581454,0.4135338345864661,0.418546365914787,0.4235588972431077,0.4285714285714286,0.4335839598997493,0.4385964912280702,0.4436090225563909,0.4486215538847118,0.4536340852130325,0.4586466165413534,0.4636591478696741,0.468671679197995,0.4736842105263157,0.4786967418546366,0.4837092731829573,0.4887218045112782,0.4937343358395989,0.4987468671679198,0.5037593984962405,0.5087719298245614,0.5137844611528821,0.518796992481203,0.5238095238095237,0.5288220551378446,0.5338345864661653,0.5388471177944862,0.5438596491228069,0.5488721804511278,0.5538847117794485,0.5588972431077694,0.5639097744360901,0.568922305764411,0.5739348370927317,0.5789473684210527,0.5839598997493733,0.5889724310776943,0.593984962406015,0.5989974937343359,0.6040100250626566,0.6090225563909775,0.6140350877192982,0.6190476190476191,0.6240601503759398,0.6290726817042607,0.6340852130325814,0.6390977443609023,0.644110275689223,0.6491228070175439,0.6541353383458646,0.6591478696741855,0.6641604010025062,0.6691729323308271,0.6741854636591478,0.6791979949874687,0.6842105263157894,0.6892230576441103,0.694235588972431,0.6992481203007519,0.7042606516290726,0.7092731829573935,0.7142857142857142,0.7192982456140351,0.7243107769423558,0.7293233082706767,0.7343358395989974,0.7393483709273183,0.744360902255639,0.7493734335839599,0.7543859649122806,0.7593984962406015,0.7644110275689222,0.7694235588972431,0.7744360902255638,0.7794486215538847,0.7844611528822054,0.7894736842105263,0.794486215538847,0.7994987468671679,0.8045112781954886,0.8095238095238095,0.8145363408521302,0.8195488721804511,0.8245614035087718,0.8295739348370927,0.8345864661654134,0.8395989974937343,0.844611528822055,0.849624060150376,0.8546365914786966,0.8596491228070176,0.8646616541353382,0.8696741854636592,0.8746867167919798,0.8796992481203008,0.8847117794486214,0.8897243107769424,0.894736842105263,0.899749373433584,0.9047619047619047,0.9097744360902256,0.9147869674185463,0.9197994987468672,0.9248120300751879,0.9298245614035088,0.9348370927318295,0.9398496240601504,0.9448621553884711,0.949874686716792,0.9548872180451127,0.9598997493734336,0.9649122807017543,0.9699248120300752,0.9749373433583959,0.9799498746867168,0.9849624060150375,0.9899749373433584,0.9949874686716791,1.0]}],{\\\"xaxis\\\":{\\\"title\\\":{\\\"text\\\":\\\"x\\\"}},\\\"template\\\":{\\\"layout\\\":{\\\"coloraxis\\\":{\\\"colorbar\\\":{\\\"ticks\\\":\\\"\\\",\\\"outlinewidth\\\":0}},\\\"xaxis\\\":{\\\"gridcolor\\\":\\\"white\\\",\\\"zerolinewidth\\\":2,\\\"title\\\":{\\\"standoff\\\":15},\\\"ticks\\\":\\\"\\\",\\\"zerolinecolor\\\":\\\"white\\\",\\\"automargin\\\":true,\\\"linecolor\\\":\\\"white\\\"},\\\"hovermode\\\":\\\"closest\\\",\\\"paper_bgcolor\\\":\\\"white\\\",\\\"geo\\\":{\\\"showlakes\\\":true,\\\"showland\\\":true,\\\"landcolor\\\":\\\"#E5ECF6\\\",\\\"bgcolor\\\":\\\"white\\\",\\\"subunitcolor\\\":\\\"white\\\",\\\"lakecolor\\\":\\\"white\\\"},\\\"colorscale\\\":{\\\"sequential\\\":[[0.0,\\\"#0d0887\\\"],[0.1111111111111111,\\\"#46039f\\\"],[0.2222222222222222,\\\"#7201a8\\\"],[0.3333333333333333,\\\"#9c179e\\\"],[0.4444444444444444,\\\"#bd3786\\\"],[0.5555555555555556,\\\"#d8576b\\\"],[0.6666666666666666,\\\"#ed7953\\\"],[0.7777777777777778,\\\"#fb9f3a\\\"],[0.8888888888888888,\\\"#fdca26\\\"],[1.0,\\\"#f0f921\\\"]],\\\"diverging\\\":[[0,\\\"#8e0152\\\"],[0.1,\\\"#c51b7d\\\"],[0.2,\\\"#de77ae\\\"],[0.3,\\\"#f1b6da\\\"],[0.4,\\\"#fde0ef\\\"],[0.5,\\\"#f7f7f7\\\"],[0.6,\\\"#e6f5d0\\\"],[0.7,\\\"#b8e186\\\"],[0.8,\\\"#7fbc41\\\"],[0.9,\\\"#4d9221\\\"],[1,\\\"#276419\\\"]],\\\"sequentialminus\\\":[[0.0,\\\"#0d0887\\\"],[0.1111111111111111,\\\"#46039f\\\"],[0.2222222222222222,\\\"#7201a8\\\"],[0.3333333333333333,\\\"#9c179e\\\"],[0.4444444444444444,\\\"#bd3786\\\"],[0.5555555555555556,\\\"#d8576b\\\"],[0.6666666666666666,\\\"#ed7953\\\"],[0.7777777777777778,\\\"#fb9f3a\\\"],[0.8888888888888888,\\\"#fdca26\\\"],[1.0,\\\"#f0f921\\\"]]},\\\"yaxis\\\":{\\\"gridcolor\\\":\\\"white\\\",\\\"zerolinewidth\\\":2,\\\"title\\\":{\\\"standoff\\\":15},\\\"ticks\\\":\\\"\\\",\\\"zerolinecolor\\\":\\\"white\\\",\\\"automargin\\\":true,\\\"linecolor\\\":\\\"white\\\"},\\\"shapedefaults\\\":{\\\"line\\\":{\\\"color\\\":\\\"#2a3f5f\\\"}},\\\"hoverlabel\\\":{\\\"align\\\":\\\"left\\\"},\\\"mapbox\\\":{\\\"style\\\":\\\"light\\\"},\\\"polar\\\":{\\\"angularaxis\\\":{\\\"gridcolor\\\":\\\"white\\\",\\\"ticks\\\":\\\"\\\",\\\"linecolor\\\":\\\"white\\\"},\\\"bgcolor\\\":\\\"#E5ECF6\\\",\\\"radialaxis\\\":{\\\"gridcolor\\\":\\\"white\\\",\\\"ticks\\\":\\\"\\\",\\\"linecolor\\\":\\\"white\\\"}},\\\"autotypenumbers\\\":\\\"strict\\\",\\\"font\\\":{\\\"color\\\":\\\"#2a3f5f\\\"},\\\"ternary\\\":{\\\"baxis\\\":{\\\"gridcolor\\\":\\\"white\\\",\\\"ticks\\\":\\\"\\\",\\\"linecolor\\\":\\\"white\\\"},\\\"bgcolor\\\":\\\"#E5ECF6\\\",\\\"caxis\\\":{\\\"gridcolor\\\":\\\"white\\\",\\\"ticks\\\":\\\"\\\",\\\"linecolor\\\":\\\"white\\\"},\\\"aaxis\\\":{\\\"gridcolor\\\":\\\"white\\\",\\\"ticks\\\":\\\"\\\",\\\"linecolor\\\":\\\"white\\\"}},\\\"annotationdefaults\\\":{\\\"arrowhead\\\":0,\\\"arrowwidth\\\":1,\\\"arrowcolor\\\":\\\"#2a3f5f\\\"},\\\"plot_bgcolor\\\":\\\"#E5ECF6\\\",\\\"title\\\":{\\\"x\\\":0.05},\\\"scene\\\":{\\\"xaxis\\\":{\\\"gridcolor\\\":\\\"white\\\",\\\"gridwidth\\\":2,\\\"backgroundcolor\\\":\\\"#E5ECF6\\\",\\\"ticks\\\":\\\"\\\",\\\"showbackground\\\":true,\\\"zerolinecolor\\\":\\\"white\\\",\\\"linecolor\\\":\\\"white\\\"},\\\"zaxis\\\":{\\\"gridcolor\\\":\\\"white\\\",\\\"gridwidth\\\":2,\\\"backgroundcolor\\\":\\\"#E5ECF6\\\",\\\"ticks\\\":\\\"\\\",\\\"showbackground\\\":true,\\\"zerolinecolor\\\":\\\"white\\\",\\\"linecolor\\\":\\\"white\\\"},\\\"yaxis\\\":{\\\"gridcolor\\\":\\\"white\\\",\\\"gridwidth\\\":2,\\\"backgroundcolor\\\":\\\"#E5ECF6\\\",\\\"ticks\\\":\\\"\\\",\\\"showbackground\\\":true,\\\"zerolinecolor\\\":\\\"white\\\",\\\"linecolor\\\":\\\"white\\\"}},\\\"colorway\\\":[\\\"#636efa\\\",\\\"#EF553B\\\",\\\"#00cc96\\\",\\\"#ab63fa\\\",\\\"#FFA15A\\\",\\\"#19d3f3\\\",\\\"#FF6692\\\",\\\"#B6E880\\\",\\\"#FF97FF\\\",\\\"#FECB52\\\"]},\\\"data\\\":{\\\"barpolar\\\":[{\\\"type\\\":\\\"barpolar\\\",\\\"marker\\\":{\\\"line\\\":{\\\"color\\\":\\\"#E5ECF6\\\",\\\"width\\\":0.5}}}],\\\"carpet\\\":[{\\\"aaxis\\\":{\\\"gridcolor\\\":\\\"white\\\",\\\"endlinecolor\\\":\\\"#2a3f5f\\\",\\\"minorgridcolor\\\":\\\"white\\\",\\\"startlinecolor\\\":\\\"#2a3f5f\\\",\\\"linecolor\\\":\\\"white\\\"},\\\"type\\\":\\\"carpet\\\",\\\"baxis\\\":{\\\"gridcolor\\\":\\\"white\\\",\\\"endlinecolor\\\":\\\"#2a3f5f\\\",\\\"minorgridcolor\\\":\\\"white\\\",\\\"startlinecolor\\\":\\\"#2a3f5f\\\",\\\"linecolor\\\":\\\"white\\\"}}],\\\"scatterpolar\\\":[{\\\"type\\\":\\\"scatterpolar\\\",\\\"marker\\\":{\\\"colorbar\\\":{\\\"ticks\\\":\\\"\\\",\\\"outlinewidth\\\":0}}}],\\\"parcoords\\\":[{\\\"line\\\":{\\\"colorbar\\\":{\\\"ticks\\\":\\\"\\\",\\\"outlinewidth\\\":0}},\\\"type\\\":\\\"parcoords\\\"}],\\\"scatter\\\":[{\\\"type\\\":\\\"scatter\\\",\\\"marker\\\":{\\\"colorbar\\\":{\\\"ticks\\\":\\\"\\\",\\\"outlinewidth\\\":0}}}],\\\"histogram2dcontour\\\":[{\\\"colorbar\\\":{\\\"ticks\\\":\\\"\\\",\\\"outlinewidth\\\":0},\\\"type\\\":\\\"histogram2dcontour\\\",\\\"colorscale\\\":[[0.0,\\\"#0d0887\\\"],[0.1111111111111111,\\\"#46039f\\\"],[0.2222222222222222,\\\"#7201a8\\\"],[0.3333333333333333,\\\"#9c179e\\\"],[0.4444444444444444,\\\"#bd3786\\\"],[0.5555555555555556,\\\"#d8576b\\\"],[0.6666666666666666,\\\"#ed7953\\\"],[0.7777777777777778,\\\"#fb9f3a\\\"],[0.8888888888888888,\\\"#fdca26\\\"],[1.0,\\\"#f0f921\\\"]]}],\\\"contour\\\":[{\\\"colorbar\\\":{\\\"ticks\\\":\\\"\\\",\\\"outlinewidth\\\":0},\\\"type\\\":\\\"contour\\\",\\\"colorscale\\\":[[0.0,\\\"#0d0887\\\"],[0.1111111111111111,\\\"#46039f\\\"],[0.2222222222222222,\\\"#7201a8\\\"],[0.3333333333333333,\\\"#9c179e\\\"],[0.4444444444444444,\\\"#bd3786\\\"],[0.5555555555555556,\\\"#d8576b\\\"],[0.6666666666666666,\\\"#ed7953\\\"],[0.7777777777777778,\\\"#fb9f3a\\\"],[0.8888888888888888,\\\"#fdca26\\\"],[1.0,\\\"#f0f921\\\"]]}],\\\"scattercarpet\\\":[{\\\"type\\\":\\\"scattercarpet\\\",\\\"marker\\\":{\\\"colorbar\\\":{\\\"ticks\\\":\\\"\\\",\\\"outlinewidth\\\":0}}}],\\\"mesh3d\\\":[{\\\"colorbar\\\":{\\\"ticks\\\":\\\"\\\",\\\"outlinewidth\\\":0},\\\"type\\\":\\\"mesh3d\\\"}],\\\"surface\\\":[{\\\"colorbar\\\":{\\\"ticks\\\":\\\"\\\",\\\"outlinewidth\\\":0},\\\"type\\\":\\\"surface\\\",\\\"colorscale\\\":[[0.0,\\\"#0d0887\\\"],[0.1111111111111111,\\\"#46039f\\\"],[0.2222222222222222,\\\"#7201a8\\\"],[0.3333333333333333,\\\"#9c179e\\\"],[0.4444444444444444,\\\"#bd3786\\\"],[0.5555555555555556,\\\"#d8576b\\\"],[0.6666666666666666,\\\"#ed7953\\\"],[0.7777777777777778,\\\"#fb9f3a\\\"],[0.8888888888888888,\\\"#fdca26\\\"],[1.0,\\\"#f0f921\\\"]]}],\\\"scattermapbox\\\":[{\\\"type\\\":\\\"scattermapbox\\\",\\\"marker\\\":{\\\"colorbar\\\":{\\\"ticks\\\":\\\"\\\",\\\"outlinewidth\\\":0}}}],\\\"scattergeo\\\":[{\\\"type\\\":\\\"scattergeo\\\",\\\"marker\\\":{\\\"colorbar\\\":{\\\"ticks\\\":\\\"\\\",\\\"outlinewidth\\\":0}}}],\\\"histogram\\\":[{\\\"type\\\":\\\"histogram\\\",\\\"marker\\\":{\\\"colorbar\\\":{\\\"ticks\\\":\\\"\\\",\\\"outlinewidth\\\":0}}}],\\\"pie\\\":[{\\\"type\\\":\\\"pie\\\",\\\"automargin\\\":true}],\\\"choropleth\\\":[{\\\"colorbar\\\":{\\\"ticks\\\":\\\"\\\",\\\"outlinewidth\\\":0},\\\"type\\\":\\\"choropleth\\\"}],\\\"heatmapgl\\\":[{\\\"colorbar\\\":{\\\"ticks\\\":\\\"\\\",\\\"outlinewidth\\\":0},\\\"type\\\":\\\"heatmapgl\\\",\\\"colorscale\\\":[[0.0,\\\"#0d0887\\\"],[0.1111111111111111,\\\"#46039f\\\"],[0.2222222222222222,\\\"#7201a8\\\"],[0.3333333333333333,\\\"#9c179e\\\"],[0.4444444444444444,\\\"#bd3786\\\"],[0.5555555555555556,\\\"#d8576b\\\"],[0.6666666666666666,\\\"#ed7953\\\"],[0.7777777777777778,\\\"#fb9f3a\\\"],[0.8888888888888888,\\\"#fdca26\\\"],[1.0,\\\"#f0f921\\\"]]}],\\\"bar\\\":[{\\\"type\\\":\\\"bar\\\",\\\"error_y\\\":{\\\"color\\\":\\\"#2a3f5f\\\"},\\\"error_x\\\":{\\\"color\\\":\\\"#2a3f5f\\\"},\\\"marker\\\":{\\\"line\\\":{\\\"color\\\":\\\"#E5ECF6\\\",\\\"width\\\":0.5}}}],\\\"heatmap\\\":[{\\\"colorbar\\\":{\\\"ticks\\\":\\\"\\\",\\\"outlinewidth\\\":0},\\\"type\\\":\\\"heatmap\\\",\\\"colorscale\\\":[[0.0,\\\"#0d0887\\\"],[0.1111111111111111,\\\"#46039f\\\"],[0.2222222222222222,\\\"#7201a8\\\"],[0.3333333333333333,\\\"#9c179e\\\"],[0.4444444444444444,\\\"#bd3786\\\"],[0.5555555555555556,\\\"#d8576b\\\"],[0.6666666666666666,\\\"#ed7953\\\"],[0.7777777777777778,\\\"#fb9f3a\\\"],[0.8888888888888888,\\\"#fdca26\\\"],[1.0,\\\"#f0f921\\\"]]}],\\\"contourcarpet\\\":[{\\\"colorbar\\\":{\\\"ticks\\\":\\\"\\\",\\\"outlinewidth\\\":0},\\\"type\\\":\\\"contourcarpet\\\"}],\\\"table\\\":[{\\\"type\\\":\\\"table\\\",\\\"header\\\":{\\\"line\\\":{\\\"color\\\":\\\"white\\\"},\\\"fill\\\":{\\\"color\\\":\\\"#C8D4E3\\\"}},\\\"cells\\\":{\\\"line\\\":{\\\"color\\\":\\\"white\\\"},\\\"fill\\\":{\\\"color\\\":\\\"#EBF0F8\\\"}}}],\\\"scatter3d\\\":[{\\\"line\\\":{\\\"colorbar\\\":{\\\"ticks\\\":\\\"\\\",\\\"outlinewidth\\\":0}},\\\"type\\\":\\\"scatter3d\\\",\\\"marker\\\":{\\\"colorbar\\\":{\\\"ticks\\\":\\\"\\\",\\\"outlinewidth\\\":0}}}],\\\"scattergl\\\":[{\\\"type\\\":\\\"scattergl\\\",\\\"marker\\\":{\\\"colorbar\\\":{\\\"ticks\\\":\\\"\\\",\\\"outlinewidth\\\":0}}}],\\\"histogram2d\\\":[{\\\"colorbar\\\":{\\\"ticks\\\":\\\"\\\",\\\"outlinewidth\\\":0},\\\"type\\\":\\\"histogram2d\\\",\\\"colorscale\\\":[[0.0,\\\"#0d0887\\\"],[0.1111111111111111,\\\"#46039f\\\"],[0.2222222222222222,\\\"#7201a8\\\"],[0.3333333333333333,\\\"#9c179e\\\"],[0.4444444444444444,\\\"#bd3786\\\"],[0.5555555555555556,\\\"#d8576b\\\"],[0.6666666666666666,\\\"#ed7953\\\"],[0.7777777777777778,\\\"#fb9f3a\\\"],[0.8888888888888888,\\\"#fdca26\\\"],[1.0,\\\"#f0f921\\\"]]}],\\\"scatterternary\\\":[{\\\"type\\\":\\\"scatterternary\\\",\\\"marker\\\":{\\\"colorbar\\\":{\\\"ticks\\\":\\\"\\\",\\\"outlinewidth\\\":0}}}],\\\"scatterpolargl\\\":[{\\\"type\\\":\\\"scatterpolargl\\\",\\\"marker\\\":{\\\"colorbar\\\":{\\\"ticks\\\":\\\"\\\",\\\"outlinewidth\\\":0}}}]}},\\\"margin\\\":{\\\"l\\\":50,\\\"b\\\":50,\\\"r\\\":50,\\\"t\\\":60},\\\"title\\\":\\\"Function Solution with Dirichelt Boundary Conditions\\\",\\\"yaxis\\\":{\\\"title\\\":{\\\"text\\\":\\\"u\\\"}}},{\\\"showLink\\\":false,\\\"editable\\\":false,\\\"responsive\\\":true,\\\"staticPlot\\\":false,\\\"scrollZoom\\\":true}); gd.on(\\\"plotly_hover\\\",(function (data){var filtered_data=WebIO.PlotlyCommands.filterEventData(gd,data,\\\"hover\\\"); return !(filtered_data.isnil) ? (WebIO.setval({\\\"name\\\":\\\"hover\\\",\\\"scope\\\":\\\"1069816104587633724\\\",\\\"id\\\":\\\"1696331759131022118\\\",\\\"type\\\":\\\"observable\\\"},filtered_data.out)) : undefined})); gd.on(\\\"plotly_unhover\\\",(function (){return WebIO.setval({\\\"name\\\":\\\"hover\\\",\\\"scope\\\":\\\"1069816104587633724\\\",\\\"id\\\":\\\"1696331759131022118\\\",\\\"type\\\":\\\"observable\\\"},{})})); gd.on(\\\"plotly_selected\\\",(function (data){var filtered_data=WebIO.PlotlyCommands.filterEventData(gd,data,\\\"selected\\\"); return !(filtered_data.isnil) ? (WebIO.setval({\\\"name\\\":\\\"selected\\\",\\\"scope\\\":\\\"1069816104587633724\\\",\\\"id\\\":\\\"13910732970219296771\\\",\\\"type\\\":\\\"observable\\\"},filtered_data.out)) : undefined})); gd.on(\\\"plotly_deselect\\\",(function (){return WebIO.setval({\\\"name\\\":\\\"selected\\\",\\\"scope\\\":\\\"1069816104587633724\\\",\\\"id\\\":\\\"13910732970219296771\\\",\\\"type\\\":\\\"observable\\\"},{})})); gd.on(\\\"plotly_relayout\\\",(function (data){var filtered_data=WebIO.PlotlyCommands.filterEventData(gd,data,\\\"relayout\\\"); return !(filtered_data.isnil) ? (WebIO.setval({\\\"name\\\":\\\"relayout\\\",\\\"scope\\\":\\\"1069816104587633724\\\",\\\"id\\\":\\\"6113128598415020795\\\",\\\"type\\\":\\\"observable\\\"},filtered_data.out)) : undefined})); return gd.on(\\\"plotly_click\\\",(function (data){var filtered_data=WebIO.PlotlyCommands.filterEventData(gd,data,\\\"click\\\"); return !(filtered_data.isnil) ? (WebIO.setval({\\\"name\\\":\\\"click\\\",\\\"scope\\\":\\\"1069816104587633724\\\",\\\"id\\\":\\\"2275280139582015110\\\",\\\"type\\\":\\\"observable\\\"},filtered_data.out)) : undefined}))}));\\n    (WebIO.importBlock({\\\"data\\\":[{\\\"name\\\":\\\"Plotly\\\",\\\"type\\\":\\\"js\\\",\\\"url\\\":\\\"\\/assetserver\\/829791e6ff21fc5c4b60e5df299f439365241070-plotly.min.js\\\"},{\\\"name\\\":null,\\\"type\\\":\\\"js\\\",\\\"url\\\":\\\"\\/assetserver\\/823f3c894aa43f38c72113b9d92345d26ad2b09b-plotly_webio.bundle.js\\\"}],\\\"type\\\":\\\"async_block\\\"})).then((imports) => handler.apply(this, imports));\\n}\\n\"],\"observables\":{\"_toImage\":{\"sync\":false,\"id\":\"5089635861929572394\",\"value\":{}},\"hover\":{\"sync\":false,\"id\":\"1696331759131022118\",\"value\":{}},\"selected\":{\"sync\":false,\"id\":\"13910732970219296771\",\"value\":{}},\"__gd_contents\":{\"sync\":false,\"id\":\"5157714409317619434\",\"value\":{}},\"click\":{\"sync\":false,\"id\":\"2275280139582015110\",\"value\":{}},\"image\":{\"sync\":true,\"id\":\"335136767037398658\",\"value\":\"\"},\"__get_gd_contents\":{\"sync\":false,\"id\":\"14424619446578423661\",\"value\":\"\"},\"_downloadImage\":{\"sync\":false,\"id\":\"8818894630354989340\",\"value\":{}},\"relayout\":{\"sync\":false,\"id\":\"6113128598415020795\",\"value\":{}},\"_commands\":{\"sync\":false,\"id\":\"8869410401479000091\",\"value\":[]}}},\"children\":[{\"props\":{\"id\":\"plot-fa83fb91-9108-4dce-a0d6-9c51b235d286\"},\"nodeType\":\"DOM\",\"type\":\"node\",\"instanceArgs\":{\"namespace\":\"html\",\"tag\":\"div\"},\"children\":[]}]},\n",
       "        window,\n",
       "    );\n",
       "    })()\n",
       "    </script>\n",
       "</div>\n"
      ],
      "text/plain": [
       "data: [\n",
       "  \"scatter with fields mode, name, type, x, and y\",\n",
       "  \"scatter with fields mode, name, type, x, and y\"\n",
       "]\n",
       "\n",
       "layout: \"layout with fields margin, template, title, xaxis, and yaxis\"\n",
       "\n"
      ]
     },
     "execution_count": 8,
     "metadata": {},
     "output_type": "execute_result"
    }
   ],
   "source": [
    "MDC = Stiffness1D_Hom(x,p)\n",
    "ADC = Mass1D_Hom(x,r)\n",
    "bDC = Load1D_hom(x,f)\n",
    "\n",
    "uh3DBC = [0; MDC\\bDC; 0]\n",
    "\n",
    "plot([scatter(x=x , y=uexact.(x) ,mode=\"lines\", name=\"u exact\"), scatter(x=x , y=uh3DBC[:,1] ,mode=\"markers\", name=\"u approx (u_h)\")],\n",
    "     Layout(title=\"Function Solution with Dirichelt Boundary Conditions\",  xaxis_title=\"x\",  yaxis_title=\"u\"))"
   ]
  },
  {
   "cell_type": "code",
   "execution_count": 9,
   "id": "785c472f-d5cd-464c-aced-068a4db2f837",
   "metadata": {},
   "outputs": [
    {
     "data": {
      "text/plain": [
       "400×1 Matrix{Float64}:\n",
       " 0.006608456591584691\n",
       " 0.0\n",
       " 0.0\n",
       " 0.0\n",
       " 0.0\n",
       " 0.0\n",
       " 0.0\n",
       " 0.0\n",
       " 0.0\n",
       " 0.0\n",
       " 0.0\n",
       " 0.0\n",
       " 0.0\n",
       " ⋮\n",
       " 0.0\n",
       " 0.0\n",
       " 0.0\n",
       " 0.0\n",
       " 0.0\n",
       " 0.0\n",
       " 0.0\n",
       " 0.0\n",
       " 0.0\n",
       " 0.0\n",
       " 0.0\n",
       " 0.006698675147188389"
      ]
     },
     "execution_count": 9,
     "metadata": {},
     "output_type": "execute_result"
    }
   ],
   "source": [
    "uh3 - uh3DBC"
   ]
  },
  {
   "cell_type": "markdown",
   "id": "0ae1e541-04c8-4de8-8317-5bd9a19f9ce1",
   "metadata": {},
   "source": [
    "#### f)\n",
    "Mesh points error\n",
    "\n",
    "$$ \\epsilon(x) = |u(x_i)-u_h(x_i)|, \\quad i=0,1,...,n$$"
   ]
  },
  {
   "cell_type": "code",
   "execution_count": 10,
   "id": "2b665e89-5749-466a-a2fd-4309b558fb61",
   "metadata": {},
   "outputs": [
    {
     "data": {
      "application/vnd.plotly.v1+json": {
       "config": {
        "editable": false,
        "responsive": true,
        "scrollZoom": true,
        "showLink": false,
        "staticPlot": false
       },
       "data": [
        {
         "marker": {
          "size": 7,
          "symbol": "square"
         },
         "mode": "markers",
         "name": "Robin BC",
         "type": "scatter",
         "x": [
          -1,
          -0.9949874686716793,
          -0.9899749373433584,
          -0.9849624060150375,
          -0.9799498746867168,
          -0.9749373433583961,
          -0.9699248120300752,
          -0.9649122807017543,
          -0.9598997493734336,
          -0.9548872180451129,
          -0.949874686716792,
          -0.9448621553884711,
          -0.9398496240601504,
          -0.9348370927318297,
          -0.9298245614035088,
          -0.9248120300751879,
          -0.9197994987468672,
          -0.9147869674185465,
          -0.9097744360902256,
          -0.9047619047619047,
          -0.899749373433584,
          -0.8947368421052633,
          -0.8897243107769424,
          -0.8847117794486214,
          -0.8796992481203008,
          -0.8746867167919801,
          -0.8696741854636592,
          -0.8646616541353382,
          -0.8596491228070176,
          -0.8546365914786969,
          -0.849624060150376,
          -0.844611528822055,
          -0.8395989974937343,
          -0.8345864661654137,
          -0.8295739348370927,
          -0.8245614035087718,
          -0.8195488721804511,
          -0.8145363408521304,
          -0.8095238095238095,
          -0.8045112781954886,
          -0.7994987468671679,
          -0.7944862155388472,
          -0.7894736842105263,
          -0.7844611528822054,
          -0.7794486215538847,
          -0.774436090225564,
          -0.7694235588972431,
          -0.7644110275689222,
          -0.7593984962406015,
          -0.7543859649122808,
          -0.7493734335839599,
          -0.744360902255639,
          -0.7393483709273183,
          -0.7343358395989976,
          -0.7293233082706767,
          -0.7243107769423558,
          -0.7192982456140351,
          -0.7142857142857144,
          -0.7092731829573935,
          -0.7042606516290726,
          -0.6992481203007519,
          -0.6942355889724312,
          -0.6892230576441103,
          -0.6842105263157894,
          -0.6791979949874687,
          -0.674185463659148,
          -0.6691729323308271,
          -0.6641604010025062,
          -0.6591478696741855,
          -0.6541353383458648,
          -0.6491228070175439,
          -0.644110275689223,
          -0.6390977443609023,
          -0.6340852130325816,
          -0.6290726817042607,
          -0.6240601503759398,
          -0.6190476190476191,
          -0.6140350877192984,
          -0.6090225563909775,
          -0.6040100250626566,
          -0.5989974937343359,
          -0.5939849624060152,
          -0.5889724310776943,
          -0.5839598997493733,
          -0.5789473684210527,
          -0.573934837092732,
          -0.568922305764411,
          -0.5639097744360901,
          -0.5588972431077694,
          -0.5538847117794488,
          -0.5488721804511278,
          -0.5438596491228069,
          -0.5388471177944862,
          -0.5338345864661656,
          -0.5288220551378446,
          -0.5238095238095237,
          -0.518796992481203,
          -0.5137844611528823,
          -0.5087719298245614,
          -0.5037593984962405,
          -0.4987468671679198,
          -0.4937343358395991,
          -0.4887218045112782,
          -0.48370927318295737,
          -0.4786967418546366,
          -0.4736842105263159,
          -0.468671679197995,
          -0.46365914786967416,
          -0.4586466165413534,
          -0.45363408521303267,
          -0.4486215538847118,
          -0.44360902255639095,
          -0.4385964912280702,
          -0.43358395989974946,
          -0.4285714285714286,
          -0.42355889724310775,
          -0.418546365914787,
          -0.41353383458646625,
          -0.4085213032581454,
          -0.40350877192982454,
          -0.3984962406015038,
          -0.39348370927318305,
          -0.3884711779448622,
          -0.38345864661654133,
          -0.3784461152882206,
          -0.37343358395989984,
          -0.368421052631579,
          -0.3634085213032581,
          -0.3583959899749374,
          -0.35338345864661663,
          -0.3483709273182958,
          -0.3433583959899749,
          -0.33834586466165417,
          -0.3333333333333334,
          -0.32832080200501257,
          -0.3233082706766917,
          -0.31829573934837097,
          -0.3132832080200502,
          -0.30827067669172936,
          -0.3032581453634085,
          -0.29824561403508776,
          -0.293233082706767,
          -0.28822055137844615,
          -0.2832080200501253,
          -0.27819548872180455,
          -0.2731829573934838,
          -0.26817042606516295,
          -0.2631578947368421,
          -0.25814536340852134,
          -0.2531328320802006,
          -0.24812030075187974,
          -0.24310776942355888,
          -0.23809523809523814,
          -0.2330827067669174,
          -0.22807017543859653,
          -0.22305764411027568,
          -0.21804511278195493,
          -0.21303258145363418,
          -0.20802005012531333,
          -0.20300751879699247,
          -0.19799498746867172,
          -0.19298245614035098,
          -0.18796992481203012,
          -0.18295739348370926,
          -0.17794486215538852,
          -0.17293233082706777,
          -0.1679197994987469,
          -0.16290726817042606,
          -0.1578947368421053,
          -0.15288220551378456,
          -0.1478696741854637,
          -0.14285714285714285,
          -0.1378446115288221,
          -0.13283208020050136,
          -0.1278195488721805,
          -0.12280701754385964,
          -0.1177944862155389,
          -0.11278195488721815,
          -0.10776942355889729,
          -0.10275689223057644,
          -0.09774436090225569,
          -0.09273182957393494,
          -0.08771929824561409,
          -0.08270676691729323,
          -0.07769423558897248,
          -0.07268170426065174,
          -0.06766917293233088,
          -0.06265664160401002,
          -0.057644110275689275,
          -0.05263157894736853,
          -0.04761904761904767,
          -0.042606516290726815,
          -0.03759398496240607,
          -0.03258145363408532,
          -0.027568922305764465,
          -0.022556390977443608,
          -0.01754385964912286,
          -0.012531328320802115,
          -0.007518796992481258,
          -0.002506265664160401,
          0.0025062656641603454,
          0.007518796992481258,
          0.012531328320801949,
          0.01754385964912286,
          0.022556390977443552,
          0.027568922305764465,
          0.032581453634085156,
          0.03759398496240607,
          0.04260651629072676,
          0.04761904761904767,
          0.05263157894736836,
          0.057644110275689275,
          0.06265664160400997,
          0.06766917293233088,
          0.07268170426065157,
          0.07769423558897248,
          0.08270676691729317,
          0.08771929824561409,
          0.09273182957393478,
          0.09774436090225569,
          0.10275689223057638,
          0.10776942355889729,
          0.11278195488721798,
          0.1177944862155389,
          0.12280701754385959,
          0.1278195488721805,
          0.1328320802005012,
          0.1378446115288221,
          0.1428571428571428,
          0.1478696741854637,
          0.1528822055137844,
          0.1578947368421053,
          0.162907268170426,
          0.1679197994987469,
          0.1729323308270676,
          0.17794486215538852,
          0.1829573934837092,
          0.18796992481203012,
          0.1929824561403508,
          0.19799498746867172,
          0.20300751879699241,
          0.20802005012531333,
          0.21303258145363402,
          0.21804511278195493,
          0.22305764411027562,
          0.22807017543859653,
          0.23308270676691722,
          0.23809523809523814,
          0.24310776942355883,
          0.24812030075187974,
          0.25313283208020043,
          0.25814536340852134,
          0.26315789473684204,
          0.26817042606516295,
          0.27318295739348364,
          0.27819548872180455,
          0.28320802005012524,
          0.28822055137844615,
          0.29323308270676685,
          0.29824561403508776,
          0.30325814536340845,
          0.30827067669172936,
          0.31328320802005005,
          0.31829573934837097,
          0.32330827067669166,
          0.32832080200501257,
          0.33333333333333326,
          0.33834586466165417,
          0.34335839598997486,
          0.3483709273182958,
          0.35338345864661647,
          0.3583959899749374,
          0.36340852130325807,
          0.368421052631579,
          0.3734335839598997,
          0.3784461152882206,
          0.3834586466165413,
          0.3884711779448622,
          0.3934837092731829,
          0.3984962406015038,
          0.4035087719298245,
          0.4085213032581454,
          0.4135338345864661,
          0.418546365914787,
          0.4235588972431077,
          0.4285714285714286,
          0.4335839598997493,
          0.4385964912280702,
          0.4436090225563909,
          0.4486215538847118,
          0.4536340852130325,
          0.4586466165413534,
          0.4636591478696741,
          0.468671679197995,
          0.4736842105263157,
          0.4786967418546366,
          0.4837092731829573,
          0.4887218045112782,
          0.4937343358395989,
          0.4987468671679198,
          0.5037593984962405,
          0.5087719298245614,
          0.5137844611528821,
          0.518796992481203,
          0.5238095238095237,
          0.5288220551378446,
          0.5338345864661653,
          0.5388471177944862,
          0.5438596491228069,
          0.5488721804511278,
          0.5538847117794485,
          0.5588972431077694,
          0.5639097744360901,
          0.568922305764411,
          0.5739348370927317,
          0.5789473684210527,
          0.5839598997493733,
          0.5889724310776943,
          0.593984962406015,
          0.5989974937343359,
          0.6040100250626566,
          0.6090225563909775,
          0.6140350877192982,
          0.6190476190476191,
          0.6240601503759398,
          0.6290726817042607,
          0.6340852130325814,
          0.6390977443609023,
          0.644110275689223,
          0.6491228070175439,
          0.6541353383458646,
          0.6591478696741855,
          0.6641604010025062,
          0.6691729323308271,
          0.6741854636591478,
          0.6791979949874687,
          0.6842105263157894,
          0.6892230576441103,
          0.694235588972431,
          0.6992481203007519,
          0.7042606516290726,
          0.7092731829573935,
          0.7142857142857142,
          0.7192982456140351,
          0.7243107769423558,
          0.7293233082706767,
          0.7343358395989974,
          0.7393483709273183,
          0.744360902255639,
          0.7493734335839599,
          0.7543859649122806,
          0.7593984962406015,
          0.7644110275689222,
          0.7694235588972431,
          0.7744360902255638,
          0.7794486215538847,
          0.7844611528822054,
          0.7894736842105263,
          0.794486215538847,
          0.7994987468671679,
          0.8045112781954886,
          0.8095238095238095,
          0.8145363408521302,
          0.8195488721804511,
          0.8245614035087718,
          0.8295739348370927,
          0.8345864661654134,
          0.8395989974937343,
          0.844611528822055,
          0.849624060150376,
          0.8546365914786966,
          0.8596491228070176,
          0.8646616541353382,
          0.8696741854636592,
          0.8746867167919798,
          0.8796992481203008,
          0.8847117794486214,
          0.8897243107769424,
          0.894736842105263,
          0.899749373433584,
          0.9047619047619047,
          0.9097744360902256,
          0.9147869674185463,
          0.9197994987468672,
          0.9248120300751879,
          0.9298245614035088,
          0.9348370927318295,
          0.9398496240601504,
          0.9448621553884711,
          0.949874686716792,
          0.9548872180451127,
          0.9598997493734336,
          0.9649122807017543,
          0.9699248120300752,
          0.9749373433583959,
          0.9799498746867168,
          0.9849624060150375,
          0.9899749373433584,
          0.9949874686716791,
          1
         ],
         "y": [
          0.006608456591584691,
          0.00664983145080416,
          0.013299662901608639,
          0.019948991846163132,
          0.02659731830337457,
          0.03324414481730745,
          0.039888976457183214,
          0.04653132081737972,
          0.053170688017432105,
          0.059806590702032925,
          0.06643854404103178,
          0.07306606572943478,
          0.07968867598740492,
          0.08630589756026313,
          0.09291725571848697,
          0.09952227825771093,
          0.10612049549872604,
          0.11271144028748137,
          0.1192946479950826,
          0.12586965651779225,
          0.13243600627702967,
          0.13899324021937187,
          0.14554090381655288,
          0.15207854506546326,
          0.15860571448815042,
          0.1651219651318196,
          0.17162685256883298,
          0.17811993489670924,
          0.18460077273812403,
          0.19106892924091062,
          0.19752397007805922,
          0.20396546344771677,
          0.21039298007318696,
          0.21680609320293132,
          0.2232043786105683,
          0.22958741459487275,
          0.2359547819797767,
          0.24230606411436983,
          0.24864084687289845,
          0.2549587186547658,
          0.2612592703845319,
          0.26754209551191466,
          0.27380679001178865,
          0.28005295238418493,
          0.286280183654292,
          0.29248808737245546,
          0.29867626961417804,
          0.30484433898011964,
          0.3109919065960962,
          0.31711858611308186,
          0.32322399370720756,
          0.32930774807976093,
          0.33536947045718624,
          0.3414087845910858,
          0.3474253167582185,
          0.3534186957605002,
          0.3593885529250035,
          0.3653345221039588,
          0.3712562396747531,
          0.37715334453993055,
          0.38302547812719157,
          0.3888722843893948,
          0.3946934098045555,
          0.40048850337584563,
          0.4062572166315942,
          0.41199920362528775,
          0.4177141209355698,
          0.42340162766624023,
          0.42906138544625627,
          0.4346930584297324,
          0.44029631329594054,
          0.4458708192493088,
          0.45141624801942215,
          0.45693227386102353,
          0.46241857355401284,
          0.46787482640344646,
          0.47330071423953746,
          0.47869592141765716,
          0.4840601348183333,
          0.4893930438472507,
          0.4946943404352504,
          0.4999637190383319,
          0.5052008766376511,
          0.5104055127395206,
          0.5155773293754099,
          0.5207160311019463,
          0.5258213250009138,
          0.5308929206792534,
          0.5359305302690629,
          0.5409338684275975,
          0.5459026523372696,
          0.5508366017056483,
          0.5557354387654594,
          0.5605988882745863,
          0.5654266775160698,
          0.5702185362981064,
          0.5749741969540506,
          0.5796933943424142,
          0.584375865846865,
          0.589021351376229,
          0.5936295933644881,
          0.5982003367707819,
          0.6027333290794075,
          0.607228320299818,
          0.6116850629666236,
          0.6161033121395929,
          0.6204828254036501,
          0.6248233628688769,
          0.6291246871705124,
          0.6333865634689516,
          0.6376087594497479,
          0.6417910453236112,
          0.6459331938264078,
          0.6500349802191623,
          0.6540961822880549,
          0.6581165803444242,
          0.6620959572247648,
          0.6660340982907291,
          0.6699307914291256,
          0.673785827051921,
          0.6775989980962385,
          0.6813701000243578,
          0.6850989308237166,
          0.6887852910069097,
          0.692428983611687,
          0.6960298142009578,
          0.6995875908627875,
          0.7031021242103984,
          0.7065732273821695,
          0.7100007160416373,
          0.7133844083774955,
          0.7167241251035944,
          0.7200196894589417,
          0.723270927207702,
          0.7264776666391972,
          0.7296397385679058,
          0.732756976333463,
          0.7358292158006623,
          0.7388562953594532,
          0.7418380559249426,
          0.7447743409373941,
          0.747664996362229,
          0.7505098706900248,
          0.7533088149365171,
          0.7560616826425971,
          0.7587683298743145,
          0.7614286152228745,
          0.7640423998046408,
          0.7666095472611335,
          0.7691299237590296,
          0.771603397990163,
          0.7740298411715256,
          0.7764091270452658,
          0.7787411318786885,
          0.7810257344642556,
          0.783262816119587,
          0.785452260687459,
          0.7875939545358052,
          0.7896877865577157,
          0.7917336481714388,
          0.7937314333203782,
          0.7956810384730961,
          0.7975823626233107,
          0.799435307289898,
          0.8012397765168902,
          0.8029956768734773,
          0.8047029174540056,
          0.8063614098779792,
          0.8079710682900587,
          0.8095318093600625,
          0.8110435522829645,
          0.8125062187788978,
          0.8139197330931506,
          0.8152840219961693,
          0.8165990147835566,
          0.8178646432760729,
          0.819080841819635,
          0.8202475472853176,
          0.8213646990693508,
          0.8224322390931235,
          0.823450111803181,
          0.8244182641712255,
          0.8253366456941164,
          0.8262052083938701,
          0.8270239068176596,
          0.8277926980378154,
          0.8285115416518252,
          0.8291803997823334,
          0.8297992370771412,
          0.8303680207092075,
          0.830886720376648,
          0.8313553083027353,
          0.8317737592358986,
          0.8321420504497246,
          0.8324601617429574,
          0.832728075439498,
          0.8329457763884036,
          0.8331132519638896,
          0.8332304920653272,
          0.8332974891172457,
          0.8333142380693305,
          0.8332807363964255,
          0.8331969840985304,
          0.8330629837008015,
          0.832878740253553,
          0.8326442613322564,
          0.8323595570375402,
          0.8320246399951886,
          0.8316395253561447,
          0.8312042307965072,
          0.8307187765175326,
          0.8301831852456341,
          0.829597482232382,
          0.8289616952545036,
          0.8282758546138833,
          0.8275399931375628,
          0.8267541461777405,
          0.8259183516117717,
          0.825032649842169,
          0.8240970837966024,
          0.8231116989278983,
          0.8220765432140402,
          0.820991667158169,
          0.8198571237885822,
          0.818672968658735,
          0.817439259847239,
          0.816156057957863,
          0.814823426119533,
          0.8134414299863317,
          0.8120101377374994,
          0.8105296200774329,
          0.8089999502356862,
          0.8074212039669701,
          0.8057934595511528,
          0.8041167977932591,
          0.8023913020234716,
          0.8006170580971296,
          0.7987941543947288,
          0.7969226818219225,
          0.7950027338095209,
          0.7930344063134915,
          0.7910177978149586,
          0.7889530093202037,
          0.7868401443606654,
          0.784679308992939,
          0.7824706117987771,
          0.7802141638850894,
          0.7779100788839419,
          0.7755584729525584,
          0.7731594647733199,
          0.7707131755537637,
          0.7682197290265848,
          0.7656792514496344,
          0.7630918716059217,
          0.7604577208036123,
          0.7577769328760292,
          0.755049644181652,
          0.7522759936041179,
          0.7494561225522209,
          0.746590174959912,
          0.7436782972862991,
          0.740720638515647,
          0.7377173501573778,
          0.7346685862460708,
          0.7315745033414623,
          0.7284352605284452,
          0.7252510194170699,
          0.722021944142544,
          0.7187482013652312,
          0.7154299602706528,
          0.7120673925694875,
          0.7086606724975705,
          0.7052099768158945,
          0.7017154848106086,
          0.69817737829302,
          0.6945958415995914,
          0.6909710615919439,
          0.6873032276568548,
          0.683592531706259,
          0.6798391681772473,
          0.6760433340320695,
          0.6722052287581307,
          0.6683250543679939,
          0.6644030153993788,
          0.6604393189151629,
          0.656434174503379,
          0.6523877942772188,
          0.6483003928750298,
          0.6441721874603178,
          0.6400033977217436,
          0.6357942458731272,
          0.6315449566534442,
          0.627255757326828,
          0.6229268776825685,
          0.6185585500351132,
          0.6141510092240662,
          0.6097044926141885,
          0.6052192400953982,
          0.6006954940827716,
          0.5961334995165403,
          0.5915335038620941,
          0.5868957571099791,
          0.5822205117758991,
          0.5775080229007142,
          0.5727585480504424,
          0.567972347316258,
          0.5631496833144927,
          0.5582908211866351,
          0.5533960285993307,
          0.5484655757443821,
          0.5434997353387496,
          0.5384987826245493,
          0.5334629953690555,
          0.528392653864699,
          0.5232880409290679,
          0.5181494419049063,
          0.5129771446601172,
          0.5077714395877589,
          0.5025326196060478,
          0.4972609801583563,
          0.4919568192132153,
          0.4866204372643115,
          0.48125213733048944,
          0.47585222495574964,
          0.47042100820925103,
          0.4649587976853081,
          0.45946590650339414,
          0.4539426503081374,
          0.44838934726932544,
          0.44280631808190063,
          0.4371938859659643,
          0.43155237666677326,
          0.42588211845474244,
          0.4201834421254431,
          0.41445668099960387,
          0.40870217092311034,
          0.4029202502670056,
          0.3971112599274885,
          0.3912755433259165,
          0.3854134464088028,
          0.3795253176478186,
          0.37361150803979104,
          0.3676723711067058,
          0.36170826289570424,
          0.35571954197908573,
          0.34970656945430567,
          0.34366970894397764,
          0.3376093265958712,
          0.3315257910829139,
          0.32541947360318924,
          0.31929074787993905,
          0.3131399901615608,
          0.30696757922161044,
          0.3007738963587995,
          0.2945593253969979,
          0.2883242526852313,
          0.28206906709768353,
          0.2757941600336945,
          0.26949992541776224,
          0.26318675969954064,
          0.25685506185384166,
          0.25050523338063324,
          0.24413767830504163,
          0.2377528031773487,
          0.23135101707299477,
          0.22493273159257599,
          0.21849836086184649,
          0.2120483215317165,
          0.20558303277825418,
          0.19910291630268395,
          0.19260839633138804,
          0.186099899615905,
          0.17957785543293103,
          0.17304269558431856,
          0.16649485439707812,
          0.15993476872337625,
          0.15336287794053743,
          0.14677962395104216,
          0.14018545118252917,
          0.1335808065877931,
          0.1269661396447866,
          0.12034190235661824,
          0.11370854925155488,
          0.10706653738301936,
          0.10041632632959249,
          0.09375837819501096,
          0.08709315760816994,
          0.08042113172312007,
          0.07374277021907044,
          0.06705854530038585,
          0.06036893169658955,
          0.05367440666236051,
          0.04697544997753589,
          0.040272543947108747,
          0.03356617340123022,
          0.026856825695207545,
          0.02014499070950601,
          0.013431160849746819,
          0.006715831046709236,
          0.006698675147188389
         ]
        },
        {
         "marker": {
          "size": 5
         },
         "mode": "markers",
         "name": "Dirichelt BC",
         "type": "scatter",
         "x": [
          -1,
          -0.9949874686716793,
          -0.9899749373433584,
          -0.9849624060150375,
          -0.9799498746867168,
          -0.9749373433583961,
          -0.9699248120300752,
          -0.9649122807017543,
          -0.9598997493734336,
          -0.9548872180451129,
          -0.949874686716792,
          -0.9448621553884711,
          -0.9398496240601504,
          -0.9348370927318297,
          -0.9298245614035088,
          -0.9248120300751879,
          -0.9197994987468672,
          -0.9147869674185465,
          -0.9097744360902256,
          -0.9047619047619047,
          -0.899749373433584,
          -0.8947368421052633,
          -0.8897243107769424,
          -0.8847117794486214,
          -0.8796992481203008,
          -0.8746867167919801,
          -0.8696741854636592,
          -0.8646616541353382,
          -0.8596491228070176,
          -0.8546365914786969,
          -0.849624060150376,
          -0.844611528822055,
          -0.8395989974937343,
          -0.8345864661654137,
          -0.8295739348370927,
          -0.8245614035087718,
          -0.8195488721804511,
          -0.8145363408521304,
          -0.8095238095238095,
          -0.8045112781954886,
          -0.7994987468671679,
          -0.7944862155388472,
          -0.7894736842105263,
          -0.7844611528822054,
          -0.7794486215538847,
          -0.774436090225564,
          -0.7694235588972431,
          -0.7644110275689222,
          -0.7593984962406015,
          -0.7543859649122808,
          -0.7493734335839599,
          -0.744360902255639,
          -0.7393483709273183,
          -0.7343358395989976,
          -0.7293233082706767,
          -0.7243107769423558,
          -0.7192982456140351,
          -0.7142857142857144,
          -0.7092731829573935,
          -0.7042606516290726,
          -0.6992481203007519,
          -0.6942355889724312,
          -0.6892230576441103,
          -0.6842105263157894,
          -0.6791979949874687,
          -0.674185463659148,
          -0.6691729323308271,
          -0.6641604010025062,
          -0.6591478696741855,
          -0.6541353383458648,
          -0.6491228070175439,
          -0.644110275689223,
          -0.6390977443609023,
          -0.6340852130325816,
          -0.6290726817042607,
          -0.6240601503759398,
          -0.6190476190476191,
          -0.6140350877192984,
          -0.6090225563909775,
          -0.6040100250626566,
          -0.5989974937343359,
          -0.5939849624060152,
          -0.5889724310776943,
          -0.5839598997493733,
          -0.5789473684210527,
          -0.573934837092732,
          -0.568922305764411,
          -0.5639097744360901,
          -0.5588972431077694,
          -0.5538847117794488,
          -0.5488721804511278,
          -0.5438596491228069,
          -0.5388471177944862,
          -0.5338345864661656,
          -0.5288220551378446,
          -0.5238095238095237,
          -0.518796992481203,
          -0.5137844611528823,
          -0.5087719298245614,
          -0.5037593984962405,
          -0.4987468671679198,
          -0.4937343358395991,
          -0.4887218045112782,
          -0.48370927318295737,
          -0.4786967418546366,
          -0.4736842105263159,
          -0.468671679197995,
          -0.46365914786967416,
          -0.4586466165413534,
          -0.45363408521303267,
          -0.4486215538847118,
          -0.44360902255639095,
          -0.4385964912280702,
          -0.43358395989974946,
          -0.4285714285714286,
          -0.42355889724310775,
          -0.418546365914787,
          -0.41353383458646625,
          -0.4085213032581454,
          -0.40350877192982454,
          -0.3984962406015038,
          -0.39348370927318305,
          -0.3884711779448622,
          -0.38345864661654133,
          -0.3784461152882206,
          -0.37343358395989984,
          -0.368421052631579,
          -0.3634085213032581,
          -0.3583959899749374,
          -0.35338345864661663,
          -0.3483709273182958,
          -0.3433583959899749,
          -0.33834586466165417,
          -0.3333333333333334,
          -0.32832080200501257,
          -0.3233082706766917,
          -0.31829573934837097,
          -0.3132832080200502,
          -0.30827067669172936,
          -0.3032581453634085,
          -0.29824561403508776,
          -0.293233082706767,
          -0.28822055137844615,
          -0.2832080200501253,
          -0.27819548872180455,
          -0.2731829573934838,
          -0.26817042606516295,
          -0.2631578947368421,
          -0.25814536340852134,
          -0.2531328320802006,
          -0.24812030075187974,
          -0.24310776942355888,
          -0.23809523809523814,
          -0.2330827067669174,
          -0.22807017543859653,
          -0.22305764411027568,
          -0.21804511278195493,
          -0.21303258145363418,
          -0.20802005012531333,
          -0.20300751879699247,
          -0.19799498746867172,
          -0.19298245614035098,
          -0.18796992481203012,
          -0.18295739348370926,
          -0.17794486215538852,
          -0.17293233082706777,
          -0.1679197994987469,
          -0.16290726817042606,
          -0.1578947368421053,
          -0.15288220551378456,
          -0.1478696741854637,
          -0.14285714285714285,
          -0.1378446115288221,
          -0.13283208020050136,
          -0.1278195488721805,
          -0.12280701754385964,
          -0.1177944862155389,
          -0.11278195488721815,
          -0.10776942355889729,
          -0.10275689223057644,
          -0.09774436090225569,
          -0.09273182957393494,
          -0.08771929824561409,
          -0.08270676691729323,
          -0.07769423558897248,
          -0.07268170426065174,
          -0.06766917293233088,
          -0.06265664160401002,
          -0.057644110275689275,
          -0.05263157894736853,
          -0.04761904761904767,
          -0.042606516290726815,
          -0.03759398496240607,
          -0.03258145363408532,
          -0.027568922305764465,
          -0.022556390977443608,
          -0.01754385964912286,
          -0.012531328320802115,
          -0.007518796992481258,
          -0.002506265664160401,
          0.0025062656641603454,
          0.007518796992481258,
          0.012531328320801949,
          0.01754385964912286,
          0.022556390977443552,
          0.027568922305764465,
          0.032581453634085156,
          0.03759398496240607,
          0.04260651629072676,
          0.04761904761904767,
          0.05263157894736836,
          0.057644110275689275,
          0.06265664160400997,
          0.06766917293233088,
          0.07268170426065157,
          0.07769423558897248,
          0.08270676691729317,
          0.08771929824561409,
          0.09273182957393478,
          0.09774436090225569,
          0.10275689223057638,
          0.10776942355889729,
          0.11278195488721798,
          0.1177944862155389,
          0.12280701754385959,
          0.1278195488721805,
          0.1328320802005012,
          0.1378446115288221,
          0.1428571428571428,
          0.1478696741854637,
          0.1528822055137844,
          0.1578947368421053,
          0.162907268170426,
          0.1679197994987469,
          0.1729323308270676,
          0.17794486215538852,
          0.1829573934837092,
          0.18796992481203012,
          0.1929824561403508,
          0.19799498746867172,
          0.20300751879699241,
          0.20802005012531333,
          0.21303258145363402,
          0.21804511278195493,
          0.22305764411027562,
          0.22807017543859653,
          0.23308270676691722,
          0.23809523809523814,
          0.24310776942355883,
          0.24812030075187974,
          0.25313283208020043,
          0.25814536340852134,
          0.26315789473684204,
          0.26817042606516295,
          0.27318295739348364,
          0.27819548872180455,
          0.28320802005012524,
          0.28822055137844615,
          0.29323308270676685,
          0.29824561403508776,
          0.30325814536340845,
          0.30827067669172936,
          0.31328320802005005,
          0.31829573934837097,
          0.32330827067669166,
          0.32832080200501257,
          0.33333333333333326,
          0.33834586466165417,
          0.34335839598997486,
          0.3483709273182958,
          0.35338345864661647,
          0.3583959899749374,
          0.36340852130325807,
          0.368421052631579,
          0.3734335839598997,
          0.3784461152882206,
          0.3834586466165413,
          0.3884711779448622,
          0.3934837092731829,
          0.3984962406015038,
          0.4035087719298245,
          0.4085213032581454,
          0.4135338345864661,
          0.418546365914787,
          0.4235588972431077,
          0.4285714285714286,
          0.4335839598997493,
          0.4385964912280702,
          0.4436090225563909,
          0.4486215538847118,
          0.4536340852130325,
          0.4586466165413534,
          0.4636591478696741,
          0.468671679197995,
          0.4736842105263157,
          0.4786967418546366,
          0.4837092731829573,
          0.4887218045112782,
          0.4937343358395989,
          0.4987468671679198,
          0.5037593984962405,
          0.5087719298245614,
          0.5137844611528821,
          0.518796992481203,
          0.5238095238095237,
          0.5288220551378446,
          0.5338345864661653,
          0.5388471177944862,
          0.5438596491228069,
          0.5488721804511278,
          0.5538847117794485,
          0.5588972431077694,
          0.5639097744360901,
          0.568922305764411,
          0.5739348370927317,
          0.5789473684210527,
          0.5839598997493733,
          0.5889724310776943,
          0.593984962406015,
          0.5989974937343359,
          0.6040100250626566,
          0.6090225563909775,
          0.6140350877192982,
          0.6190476190476191,
          0.6240601503759398,
          0.6290726817042607,
          0.6340852130325814,
          0.6390977443609023,
          0.644110275689223,
          0.6491228070175439,
          0.6541353383458646,
          0.6591478696741855,
          0.6641604010025062,
          0.6691729323308271,
          0.6741854636591478,
          0.6791979949874687,
          0.6842105263157894,
          0.6892230576441103,
          0.694235588972431,
          0.6992481203007519,
          0.7042606516290726,
          0.7092731829573935,
          0.7142857142857142,
          0.7192982456140351,
          0.7243107769423558,
          0.7293233082706767,
          0.7343358395989974,
          0.7393483709273183,
          0.744360902255639,
          0.7493734335839599,
          0.7543859649122806,
          0.7593984962406015,
          0.7644110275689222,
          0.7694235588972431,
          0.7744360902255638,
          0.7794486215538847,
          0.7844611528822054,
          0.7894736842105263,
          0.794486215538847,
          0.7994987468671679,
          0.8045112781954886,
          0.8095238095238095,
          0.8145363408521302,
          0.8195488721804511,
          0.8245614035087718,
          0.8295739348370927,
          0.8345864661654134,
          0.8395989974937343,
          0.844611528822055,
          0.849624060150376,
          0.8546365914786966,
          0.8596491228070176,
          0.8646616541353382,
          0.8696741854636592,
          0.8746867167919798,
          0.8796992481203008,
          0.8847117794486214,
          0.8897243107769424,
          0.894736842105263,
          0.899749373433584,
          0.9047619047619047,
          0.9097744360902256,
          0.9147869674185463,
          0.9197994987468672,
          0.9248120300751879,
          0.9298245614035088,
          0.9348370927318295,
          0.9398496240601504,
          0.9448621553884711,
          0.949874686716792,
          0.9548872180451127,
          0.9598997493734336,
          0.9649122807017543,
          0.9699248120300752,
          0.9749373433583959,
          0.9799498746867168,
          0.9849624060150375,
          0.9899749373433584,
          0.9949874686716791,
          1
         ],
         "y": [
          0,
          0.00664983145080416,
          0.013299662901608639,
          0.019948991846163132,
          0.02659731830337457,
          0.03324414481730745,
          0.039888976457183214,
          0.04653132081737972,
          0.053170688017432105,
          0.059806590702032925,
          0.06643854404103178,
          0.07306606572943478,
          0.07968867598740492,
          0.08630589756026313,
          0.09291725571848697,
          0.09952227825771093,
          0.10612049549872604,
          0.11271144028748137,
          0.1192946479950826,
          0.12586965651779225,
          0.13243600627702967,
          0.13899324021937187,
          0.14554090381655288,
          0.15207854506546326,
          0.15860571448815042,
          0.1651219651318196,
          0.17162685256883298,
          0.17811993489670924,
          0.18460077273812403,
          0.19106892924091062,
          0.19752397007805922,
          0.20396546344771677,
          0.21039298007318696,
          0.21680609320293132,
          0.2232043786105683,
          0.22958741459487275,
          0.2359547819797767,
          0.24230606411436983,
          0.24864084687289845,
          0.2549587186547658,
          0.2612592703845319,
          0.26754209551191466,
          0.27380679001178865,
          0.28005295238418493,
          0.286280183654292,
          0.29248808737245546,
          0.29867626961417804,
          0.30484433898011964,
          0.3109919065960962,
          0.31711858611308186,
          0.32322399370720756,
          0.32930774807976093,
          0.33536947045718624,
          0.3414087845910858,
          0.3474253167582185,
          0.3534186957605002,
          0.3593885529250035,
          0.3653345221039588,
          0.3712562396747531,
          0.37715334453993055,
          0.38302547812719157,
          0.3888722843893948,
          0.3946934098045555,
          0.40048850337584563,
          0.4062572166315942,
          0.41199920362528775,
          0.4177141209355698,
          0.42340162766624023,
          0.42906138544625627,
          0.4346930584297324,
          0.44029631329594054,
          0.4458708192493088,
          0.45141624801942215,
          0.45693227386102353,
          0.46241857355401284,
          0.46787482640344646,
          0.47330071423953746,
          0.47869592141765716,
          0.4840601348183333,
          0.4893930438472507,
          0.4946943404352504,
          0.4999637190383319,
          0.5052008766376511,
          0.5104055127395206,
          0.5155773293754099,
          0.5207160311019463,
          0.5258213250009138,
          0.5308929206792534,
          0.5359305302690629,
          0.5409338684275975,
          0.5459026523372696,
          0.5508366017056483,
          0.5557354387654594,
          0.5605988882745863,
          0.5654266775160698,
          0.5702185362981064,
          0.5749741969540506,
          0.5796933943424142,
          0.584375865846865,
          0.589021351376229,
          0.5936295933644881,
          0.5982003367707819,
          0.6027333290794075,
          0.607228320299818,
          0.6116850629666236,
          0.6161033121395929,
          0.6204828254036501,
          0.6248233628688769,
          0.6291246871705124,
          0.6333865634689516,
          0.6376087594497479,
          0.6417910453236112,
          0.6459331938264078,
          0.6500349802191623,
          0.6540961822880549,
          0.6581165803444242,
          0.6620959572247648,
          0.6660340982907291,
          0.6699307914291256,
          0.673785827051921,
          0.6775989980962385,
          0.6813701000243578,
          0.6850989308237166,
          0.6887852910069097,
          0.692428983611687,
          0.6960298142009578,
          0.6995875908627875,
          0.7031021242103984,
          0.7065732273821695,
          0.7100007160416373,
          0.7133844083774955,
          0.7167241251035944,
          0.7200196894589417,
          0.723270927207702,
          0.7264776666391972,
          0.7296397385679058,
          0.732756976333463,
          0.7358292158006623,
          0.7388562953594532,
          0.7418380559249426,
          0.7447743409373941,
          0.747664996362229,
          0.7505098706900248,
          0.7533088149365171,
          0.7560616826425971,
          0.7587683298743145,
          0.7614286152228745,
          0.7640423998046408,
          0.7666095472611335,
          0.7691299237590296,
          0.771603397990163,
          0.7740298411715256,
          0.7764091270452658,
          0.7787411318786885,
          0.7810257344642556,
          0.783262816119587,
          0.785452260687459,
          0.7875939545358052,
          0.7896877865577157,
          0.7917336481714388,
          0.7937314333203782,
          0.7956810384730961,
          0.7975823626233107,
          0.799435307289898,
          0.8012397765168902,
          0.8029956768734773,
          0.8047029174540056,
          0.8063614098779792,
          0.8079710682900587,
          0.8095318093600625,
          0.8110435522829645,
          0.8125062187788978,
          0.8139197330931506,
          0.8152840219961693,
          0.8165990147835566,
          0.8178646432760729,
          0.819080841819635,
          0.8202475472853176,
          0.8213646990693508,
          0.8224322390931235,
          0.823450111803181,
          0.8244182641712255,
          0.8253366456941164,
          0.8262052083938701,
          0.8270239068176596,
          0.8277926980378154,
          0.8285115416518252,
          0.8291803997823334,
          0.8297992370771412,
          0.8303680207092075,
          0.830886720376648,
          0.8313553083027353,
          0.8317737592358986,
          0.8321420504497246,
          0.8324601617429574,
          0.832728075439498,
          0.8329457763884036,
          0.8331132519638896,
          0.8332304920653272,
          0.8332974891172457,
          0.8333142380693305,
          0.8332807363964255,
          0.8331969840985304,
          0.8330629837008015,
          0.832878740253553,
          0.8326442613322564,
          0.8323595570375402,
          0.8320246399951886,
          0.8316395253561447,
          0.8312042307965072,
          0.8307187765175326,
          0.8301831852456341,
          0.829597482232382,
          0.8289616952545036,
          0.8282758546138833,
          0.8275399931375628,
          0.8267541461777405,
          0.8259183516117717,
          0.825032649842169,
          0.8240970837966024,
          0.8231116989278983,
          0.8220765432140402,
          0.820991667158169,
          0.8198571237885822,
          0.818672968658735,
          0.817439259847239,
          0.816156057957863,
          0.814823426119533,
          0.8134414299863317,
          0.8120101377374994,
          0.8105296200774329,
          0.8089999502356862,
          0.8074212039669701,
          0.8057934595511528,
          0.8041167977932591,
          0.8023913020234716,
          0.8006170580971296,
          0.7987941543947288,
          0.7969226818219225,
          0.7950027338095209,
          0.7930344063134915,
          0.7910177978149586,
          0.7889530093202037,
          0.7868401443606654,
          0.784679308992939,
          0.7824706117987771,
          0.7802141638850894,
          0.7779100788839419,
          0.7755584729525584,
          0.7731594647733199,
          0.7707131755537637,
          0.7682197290265848,
          0.7656792514496344,
          0.7630918716059217,
          0.7604577208036123,
          0.7577769328760292,
          0.755049644181652,
          0.7522759936041179,
          0.7494561225522209,
          0.746590174959912,
          0.7436782972862991,
          0.740720638515647,
          0.7377173501573778,
          0.7346685862460708,
          0.7315745033414623,
          0.7284352605284452,
          0.7252510194170699,
          0.722021944142544,
          0.7187482013652312,
          0.7154299602706528,
          0.7120673925694875,
          0.7086606724975705,
          0.7052099768158945,
          0.7017154848106086,
          0.69817737829302,
          0.6945958415995914,
          0.6909710615919439,
          0.6873032276568548,
          0.683592531706259,
          0.6798391681772473,
          0.6760433340320695,
          0.6722052287581307,
          0.6683250543679939,
          0.6644030153993788,
          0.6604393189151629,
          0.656434174503379,
          0.6523877942772188,
          0.6483003928750298,
          0.6441721874603178,
          0.6400033977217436,
          0.6357942458731272,
          0.6315449566534442,
          0.627255757326828,
          0.6229268776825685,
          0.6185585500351132,
          0.6141510092240662,
          0.6097044926141885,
          0.6052192400953982,
          0.6006954940827716,
          0.5961334995165403,
          0.5915335038620941,
          0.5868957571099791,
          0.5822205117758991,
          0.5775080229007142,
          0.5727585480504424,
          0.567972347316258,
          0.5631496833144927,
          0.5582908211866351,
          0.5533960285993307,
          0.5484655757443821,
          0.5434997353387496,
          0.5384987826245493,
          0.5334629953690555,
          0.528392653864699,
          0.5232880409290679,
          0.5181494419049063,
          0.5129771446601172,
          0.5077714395877589,
          0.5025326196060478,
          0.4972609801583563,
          0.4919568192132153,
          0.4866204372643115,
          0.48125213733048944,
          0.47585222495574964,
          0.47042100820925103,
          0.4649587976853081,
          0.45946590650339414,
          0.4539426503081374,
          0.44838934726932544,
          0.44280631808190063,
          0.4371938859659643,
          0.43155237666677326,
          0.42588211845474244,
          0.4201834421254431,
          0.41445668099960387,
          0.40870217092311034,
          0.4029202502670056,
          0.3971112599274885,
          0.3912755433259165,
          0.3854134464088028,
          0.3795253176478186,
          0.37361150803979104,
          0.3676723711067058,
          0.36170826289570424,
          0.35571954197908573,
          0.34970656945430567,
          0.34366970894397764,
          0.3376093265958712,
          0.3315257910829139,
          0.32541947360318924,
          0.31929074787993905,
          0.3131399901615608,
          0.30696757922161044,
          0.3007738963587995,
          0.2945593253969979,
          0.2883242526852313,
          0.28206906709768353,
          0.2757941600336945,
          0.26949992541776224,
          0.26318675969954064,
          0.25685506185384166,
          0.25050523338063324,
          0.24413767830504163,
          0.2377528031773487,
          0.23135101707299477,
          0.22493273159257599,
          0.21849836086184649,
          0.2120483215317165,
          0.20558303277825418,
          0.19910291630268395,
          0.19260839633138804,
          0.186099899615905,
          0.17957785543293103,
          0.17304269558431856,
          0.16649485439707812,
          0.15993476872337625,
          0.15336287794053743,
          0.14677962395104216,
          0.14018545118252917,
          0.1335808065877931,
          0.1269661396447866,
          0.12034190235661824,
          0.11370854925155488,
          0.10706653738301936,
          0.10041632632959249,
          0.09375837819501096,
          0.08709315760816994,
          0.08042113172312007,
          0.07374277021907044,
          0.06705854530038585,
          0.06036893169658955,
          0.05367440666236051,
          0.04697544997753589,
          0.040272543947108747,
          0.03356617340123022,
          0.026856825695207545,
          0.02014499070950601,
          0.013431160849746819,
          0.006715831046709236,
          0
         ]
        }
       ],
       "frames": [],
       "layout": {
        "margin": {
         "b": 50,
         "l": 50,
         "r": 50,
         "t": 60
        },
        "template": {
         "data": {
          "bar": [
           {
            "error_x": {
             "color": "#2a3f5f"
            },
            "error_y": {
             "color": "#2a3f5f"
            },
            "marker": {
             "line": {
              "color": "#E5ECF6",
              "width": 0.5
             }
            },
            "type": "bar"
           }
          ],
          "barpolar": [
           {
            "marker": {
             "line": {
              "color": "#E5ECF6",
              "width": 0.5
             }
            },
            "type": "barpolar"
           }
          ],
          "carpet": [
           {
            "aaxis": {
             "endlinecolor": "#2a3f5f",
             "gridcolor": "white",
             "linecolor": "white",
             "minorgridcolor": "white",
             "startlinecolor": "#2a3f5f"
            },
            "baxis": {
             "endlinecolor": "#2a3f5f",
             "gridcolor": "white",
             "linecolor": "white",
             "minorgridcolor": "white",
             "startlinecolor": "#2a3f5f"
            },
            "type": "carpet"
           }
          ],
          "choropleth": [
           {
            "colorbar": {
             "outlinewidth": 0,
             "ticks": ""
            },
            "type": "choropleth"
           }
          ],
          "contour": [
           {
            "colorbar": {
             "outlinewidth": 0,
             "ticks": ""
            },
            "colorscale": [
             [
              0,
              "#0d0887"
             ],
             [
              0.1111111111111111,
              "#46039f"
             ],
             [
              0.2222222222222222,
              "#7201a8"
             ],
             [
              0.3333333333333333,
              "#9c179e"
             ],
             [
              0.4444444444444444,
              "#bd3786"
             ],
             [
              0.5555555555555556,
              "#d8576b"
             ],
             [
              0.6666666666666666,
              "#ed7953"
             ],
             [
              0.7777777777777778,
              "#fb9f3a"
             ],
             [
              0.8888888888888888,
              "#fdca26"
             ],
             [
              1,
              "#f0f921"
             ]
            ],
            "type": "contour"
           }
          ],
          "contourcarpet": [
           {
            "colorbar": {
             "outlinewidth": 0,
             "ticks": ""
            },
            "type": "contourcarpet"
           }
          ],
          "heatmap": [
           {
            "colorbar": {
             "outlinewidth": 0,
             "ticks": ""
            },
            "colorscale": [
             [
              0,
              "#0d0887"
             ],
             [
              0.1111111111111111,
              "#46039f"
             ],
             [
              0.2222222222222222,
              "#7201a8"
             ],
             [
              0.3333333333333333,
              "#9c179e"
             ],
             [
              0.4444444444444444,
              "#bd3786"
             ],
             [
              0.5555555555555556,
              "#d8576b"
             ],
             [
              0.6666666666666666,
              "#ed7953"
             ],
             [
              0.7777777777777778,
              "#fb9f3a"
             ],
             [
              0.8888888888888888,
              "#fdca26"
             ],
             [
              1,
              "#f0f921"
             ]
            ],
            "type": "heatmap"
           }
          ],
          "heatmapgl": [
           {
            "colorbar": {
             "outlinewidth": 0,
             "ticks": ""
            },
            "colorscale": [
             [
              0,
              "#0d0887"
             ],
             [
              0.1111111111111111,
              "#46039f"
             ],
             [
              0.2222222222222222,
              "#7201a8"
             ],
             [
              0.3333333333333333,
              "#9c179e"
             ],
             [
              0.4444444444444444,
              "#bd3786"
             ],
             [
              0.5555555555555556,
              "#d8576b"
             ],
             [
              0.6666666666666666,
              "#ed7953"
             ],
             [
              0.7777777777777778,
              "#fb9f3a"
             ],
             [
              0.8888888888888888,
              "#fdca26"
             ],
             [
              1,
              "#f0f921"
             ]
            ],
            "type": "heatmapgl"
           }
          ],
          "histogram": [
           {
            "marker": {
             "colorbar": {
              "outlinewidth": 0,
              "ticks": ""
             }
            },
            "type": "histogram"
           }
          ],
          "histogram2d": [
           {
            "colorbar": {
             "outlinewidth": 0,
             "ticks": ""
            },
            "colorscale": [
             [
              0,
              "#0d0887"
             ],
             [
              0.1111111111111111,
              "#46039f"
             ],
             [
              0.2222222222222222,
              "#7201a8"
             ],
             [
              0.3333333333333333,
              "#9c179e"
             ],
             [
              0.4444444444444444,
              "#bd3786"
             ],
             [
              0.5555555555555556,
              "#d8576b"
             ],
             [
              0.6666666666666666,
              "#ed7953"
             ],
             [
              0.7777777777777778,
              "#fb9f3a"
             ],
             [
              0.8888888888888888,
              "#fdca26"
             ],
             [
              1,
              "#f0f921"
             ]
            ],
            "type": "histogram2d"
           }
          ],
          "histogram2dcontour": [
           {
            "colorbar": {
             "outlinewidth": 0,
             "ticks": ""
            },
            "colorscale": [
             [
              0,
              "#0d0887"
             ],
             [
              0.1111111111111111,
              "#46039f"
             ],
             [
              0.2222222222222222,
              "#7201a8"
             ],
             [
              0.3333333333333333,
              "#9c179e"
             ],
             [
              0.4444444444444444,
              "#bd3786"
             ],
             [
              0.5555555555555556,
              "#d8576b"
             ],
             [
              0.6666666666666666,
              "#ed7953"
             ],
             [
              0.7777777777777778,
              "#fb9f3a"
             ],
             [
              0.8888888888888888,
              "#fdca26"
             ],
             [
              1,
              "#f0f921"
             ]
            ],
            "type": "histogram2dcontour"
           }
          ],
          "mesh3d": [
           {
            "colorbar": {
             "outlinewidth": 0,
             "ticks": ""
            },
            "type": "mesh3d"
           }
          ],
          "parcoords": [
           {
            "line": {
             "colorbar": {
              "outlinewidth": 0,
              "ticks": ""
             }
            },
            "type": "parcoords"
           }
          ],
          "pie": [
           {
            "automargin": true,
            "type": "pie"
           }
          ],
          "scatter": [
           {
            "marker": {
             "colorbar": {
              "outlinewidth": 0,
              "ticks": ""
             }
            },
            "type": "scatter"
           }
          ],
          "scatter3d": [
           {
            "line": {
             "colorbar": {
              "outlinewidth": 0,
              "ticks": ""
             }
            },
            "marker": {
             "colorbar": {
              "outlinewidth": 0,
              "ticks": ""
             }
            },
            "type": "scatter3d"
           }
          ],
          "scattercarpet": [
           {
            "marker": {
             "colorbar": {
              "outlinewidth": 0,
              "ticks": ""
             }
            },
            "type": "scattercarpet"
           }
          ],
          "scattergeo": [
           {
            "marker": {
             "colorbar": {
              "outlinewidth": 0,
              "ticks": ""
             }
            },
            "type": "scattergeo"
           }
          ],
          "scattergl": [
           {
            "marker": {
             "colorbar": {
              "outlinewidth": 0,
              "ticks": ""
             }
            },
            "type": "scattergl"
           }
          ],
          "scattermapbox": [
           {
            "marker": {
             "colorbar": {
              "outlinewidth": 0,
              "ticks": ""
             }
            },
            "type": "scattermapbox"
           }
          ],
          "scatterpolar": [
           {
            "marker": {
             "colorbar": {
              "outlinewidth": 0,
              "ticks": ""
             }
            },
            "type": "scatterpolar"
           }
          ],
          "scatterpolargl": [
           {
            "marker": {
             "colorbar": {
              "outlinewidth": 0,
              "ticks": ""
             }
            },
            "type": "scatterpolargl"
           }
          ],
          "scatterternary": [
           {
            "marker": {
             "colorbar": {
              "outlinewidth": 0,
              "ticks": ""
             }
            },
            "type": "scatterternary"
           }
          ],
          "surface": [
           {
            "colorbar": {
             "outlinewidth": 0,
             "ticks": ""
            },
            "colorscale": [
             [
              0,
              "#0d0887"
             ],
             [
              0.1111111111111111,
              "#46039f"
             ],
             [
              0.2222222222222222,
              "#7201a8"
             ],
             [
              0.3333333333333333,
              "#9c179e"
             ],
             [
              0.4444444444444444,
              "#bd3786"
             ],
             [
              0.5555555555555556,
              "#d8576b"
             ],
             [
              0.6666666666666666,
              "#ed7953"
             ],
             [
              0.7777777777777778,
              "#fb9f3a"
             ],
             [
              0.8888888888888888,
              "#fdca26"
             ],
             [
              1,
              "#f0f921"
             ]
            ],
            "type": "surface"
           }
          ],
          "table": [
           {
            "cells": {
             "fill": {
              "color": "#EBF0F8"
             },
             "line": {
              "color": "white"
             }
            },
            "header": {
             "fill": {
              "color": "#C8D4E3"
             },
             "line": {
              "color": "white"
             }
            },
            "type": "table"
           }
          ]
         },
         "layout": {
          "annotationdefaults": {
           "arrowcolor": "#2a3f5f",
           "arrowhead": 0,
           "arrowwidth": 1
          },
          "autotypenumbers": "strict",
          "coloraxis": {
           "colorbar": {
            "outlinewidth": 0,
            "ticks": ""
           }
          },
          "colorscale": {
           "diverging": [
            [
             0,
             "#8e0152"
            ],
            [
             0.1,
             "#c51b7d"
            ],
            [
             0.2,
             "#de77ae"
            ],
            [
             0.3,
             "#f1b6da"
            ],
            [
             0.4,
             "#fde0ef"
            ],
            [
             0.5,
             "#f7f7f7"
            ],
            [
             0.6,
             "#e6f5d0"
            ],
            [
             0.7,
             "#b8e186"
            ],
            [
             0.8,
             "#7fbc41"
            ],
            [
             0.9,
             "#4d9221"
            ],
            [
             1,
             "#276419"
            ]
           ],
           "sequential": [
            [
             0,
             "#0d0887"
            ],
            [
             0.1111111111111111,
             "#46039f"
            ],
            [
             0.2222222222222222,
             "#7201a8"
            ],
            [
             0.3333333333333333,
             "#9c179e"
            ],
            [
             0.4444444444444444,
             "#bd3786"
            ],
            [
             0.5555555555555556,
             "#d8576b"
            ],
            [
             0.6666666666666666,
             "#ed7953"
            ],
            [
             0.7777777777777778,
             "#fb9f3a"
            ],
            [
             0.8888888888888888,
             "#fdca26"
            ],
            [
             1,
             "#f0f921"
            ]
           ],
           "sequentialminus": [
            [
             0,
             "#0d0887"
            ],
            [
             0.1111111111111111,
             "#46039f"
            ],
            [
             0.2222222222222222,
             "#7201a8"
            ],
            [
             0.3333333333333333,
             "#9c179e"
            ],
            [
             0.4444444444444444,
             "#bd3786"
            ],
            [
             0.5555555555555556,
             "#d8576b"
            ],
            [
             0.6666666666666666,
             "#ed7953"
            ],
            [
             0.7777777777777778,
             "#fb9f3a"
            ],
            [
             0.8888888888888888,
             "#fdca26"
            ],
            [
             1,
             "#f0f921"
            ]
           ]
          },
          "colorway": [
           "#636efa",
           "#EF553B",
           "#00cc96",
           "#ab63fa",
           "#FFA15A",
           "#19d3f3",
           "#FF6692",
           "#B6E880",
           "#FF97FF",
           "#FECB52"
          ],
          "font": {
           "color": "#2a3f5f"
          },
          "geo": {
           "bgcolor": "white",
           "lakecolor": "white",
           "landcolor": "#E5ECF6",
           "showlakes": true,
           "showland": true,
           "subunitcolor": "white"
          },
          "hoverlabel": {
           "align": "left"
          },
          "hovermode": "closest",
          "mapbox": {
           "style": "light"
          },
          "paper_bgcolor": "white",
          "plot_bgcolor": "#E5ECF6",
          "polar": {
           "angularaxis": {
            "gridcolor": "white",
            "linecolor": "white",
            "ticks": ""
           },
           "bgcolor": "#E5ECF6",
           "radialaxis": {
            "gridcolor": "white",
            "linecolor": "white",
            "ticks": ""
           }
          },
          "scene": {
           "xaxis": {
            "backgroundcolor": "#E5ECF6",
            "gridcolor": "white",
            "gridwidth": 2,
            "linecolor": "white",
            "showbackground": true,
            "ticks": "",
            "zerolinecolor": "white"
           },
           "yaxis": {
            "backgroundcolor": "#E5ECF6",
            "gridcolor": "white",
            "gridwidth": 2,
            "linecolor": "white",
            "showbackground": true,
            "ticks": "",
            "zerolinecolor": "white"
           },
           "zaxis": {
            "backgroundcolor": "#E5ECF6",
            "gridcolor": "white",
            "gridwidth": 2,
            "linecolor": "white",
            "showbackground": true,
            "ticks": "",
            "zerolinecolor": "white"
           }
          },
          "shapedefaults": {
           "line": {
            "color": "#2a3f5f"
           }
          },
          "ternary": {
           "aaxis": {
            "gridcolor": "white",
            "linecolor": "white",
            "ticks": ""
           },
           "baxis": {
            "gridcolor": "white",
            "linecolor": "white",
            "ticks": ""
           },
           "bgcolor": "#E5ECF6",
           "caxis": {
            "gridcolor": "white",
            "linecolor": "white",
            "ticks": ""
           }
          },
          "title": {
           "x": 0.05
          },
          "xaxis": {
           "automargin": true,
           "gridcolor": "white",
           "linecolor": "white",
           "ticks": "",
           "title": {
            "standoff": 15
           },
           "zerolinecolor": "white",
           "zerolinewidth": 2
          },
          "yaxis": {
           "automargin": true,
           "gridcolor": "white",
           "linecolor": "white",
           "ticks": "",
           "title": {
            "standoff": 15
           },
           "zerolinecolor": "white",
           "zerolinewidth": 2
          }
         }
        },
        "title": "Error",
        "xaxis": {
         "title": {
          "text": "x"
         }
        },
        "yaxis": {
         "title": {
          "text": "Error"
         }
        }
       }
      },
      "text/html": [
       "<div\n",
       "    class=\"webio-mountpoint\"\n",
       "    data-webio-mountpoint=\"2571432985120935361\"\n",
       ">\n",
       "    <script>\n",
       "    (function(){\n",
       "    // Some integrations (namely, IJulia/Jupyter) use an alternate render pathway than\n",
       "    // just putting the html on the page. If WebIO isn't defined, then it's pretty likely\n",
       "    // that we're in one of those situations and the integration just isn't installed\n",
       "    // correctly.\n",
       "    if (typeof window.WebIO === \"undefined\") {\n",
       "        document\n",
       "            .querySelector('[data-webio-mountpoint=\"2571432985120935361\"]')\n",
       "            .innerHTML = (\n",
       "                '<div style=\"padding: 1em; background-color: #f8d6da; border: 1px solid #f5c6cb; font-weight: bold;\">' +\n",
       "                '<p><strong>WebIO not detected.</strong></p>' +\n",
       "                '<p>Please read ' +\n",
       "                '<a href=\"https://juliagizmos.github.io/WebIO.jl/latest/troubleshooting/not-detected/\" target=\"_blank\">the troubleshooting guide</a> ' +\n",
       "                'for more information on how to resolve this issue.</p>' +\n",
       "                '<p><a href=\"https://juliagizmos.github.io/WebIO.jl/latest/troubleshooting/not-detected/\" target=\"_blank\">https://juliagizmos.github.io/WebIO.jl/latest/troubleshooting/not-detected/</a></p>' +\n",
       "                '</div>'\n",
       "            );\n",
       "        return;\n",
       "    }\n",
       "    WebIO.mount(\n",
       "        document.querySelector('[data-webio-mountpoint=\"2571432985120935361\"]'),\n",
       "        {\"props\":{},\"nodeType\":\"Scope\",\"type\":\"node\",\"instanceArgs\":{\"imports\":{\"data\":[{\"name\":\"Plotly\",\"type\":\"js\",\"url\":\"\\/assetserver\\/829791e6ff21fc5c4b60e5df299f439365241070-plotly.min.js\"},{\"name\":null,\"type\":\"js\",\"url\":\"\\/assetserver\\/823f3c894aa43f38c72113b9d92345d26ad2b09b-plotly_webio.bundle.js\"}],\"type\":\"async_block\"},\"id\":\"5393694900864268868\",\"handlers\":{\"_toImage\":[\"(function (options){return this.Plotly.toImage(this.plotElem,options).then((function (data){return WebIO.setval({\\\"name\\\":\\\"image\\\",\\\"scope\\\":\\\"5393694900864268868\\\",\\\"id\\\":\\\"8262274019698329342\\\",\\\"type\\\":\\\"observable\\\"},data)}))})\"],\"__get_gd_contents\":[\"(function (prop){prop==\\\"data\\\" ? (WebIO.setval({\\\"name\\\":\\\"__gd_contents\\\",\\\"scope\\\":\\\"5393694900864268868\\\",\\\"id\\\":\\\"6420280487535591595\\\",\\\"type\\\":\\\"observable\\\"},this.plotElem.data)) : undefined; return prop==\\\"layout\\\" ? (WebIO.setval({\\\"name\\\":\\\"__gd_contents\\\",\\\"scope\\\":\\\"5393694900864268868\\\",\\\"id\\\":\\\"6420280487535591595\\\",\\\"type\\\":\\\"observable\\\"},this.plotElem.layout)) : undefined})\"],\"_downloadImage\":[\"(function (options){return this.Plotly.downloadImage(this.plotElem,options)})\"],\"_commands\":[\"(function (args){var fn=args.shift(); var elem=this.plotElem; var Plotly=this.Plotly; args.unshift(elem); return Plotly[fn].apply(this,args)})\"]},\"systemjs_options\":null,\"mount_callbacks\":[\"function () {\\n    var handler = ((function (Plotly,PlotlyWebIO){PlotlyWebIO.init(WebIO); var gd=this.dom.querySelector(\\\"#plot-9c7e6fe4-19a3-48f3-977c-925d6a4a30a3\\\"); this.plotElem=gd; this.Plotly=Plotly; (window.Blink!==undefined) ? (gd.style.width=\\\"100%\\\", gd.style.height=\\\"100vh\\\", gd.style.marginLeft=\\\"0%\\\", gd.style.marginTop=\\\"0vh\\\") : undefined; window.onresize=(function (){return Plotly.Plots.resize(gd)}); Plotly.newPlot(gd,[{\\\"x\\\":[-1.0,-0.9949874686716793,-0.9899749373433584,-0.9849624060150375,-0.9799498746867168,-0.9749373433583961,-0.9699248120300752,-0.9649122807017543,-0.9598997493734336,-0.9548872180451129,-0.949874686716792,-0.9448621553884711,-0.9398496240601504,-0.9348370927318297,-0.9298245614035088,-0.9248120300751879,-0.9197994987468672,-0.9147869674185465,-0.9097744360902256,-0.9047619047619047,-0.899749373433584,-0.8947368421052633,-0.8897243107769424,-0.8847117794486214,-0.8796992481203008,-0.8746867167919801,-0.8696741854636592,-0.8646616541353382,-0.8596491228070176,-0.8546365914786969,-0.849624060150376,-0.844611528822055,-0.8395989974937343,-0.8345864661654137,-0.8295739348370927,-0.8245614035087718,-0.8195488721804511,-0.8145363408521304,-0.8095238095238095,-0.8045112781954886,-0.7994987468671679,-0.7944862155388472,-0.7894736842105263,-0.7844611528822054,-0.7794486215538847,-0.774436090225564,-0.7694235588972431,-0.7644110275689222,-0.7593984962406015,-0.7543859649122808,-0.7493734335839599,-0.744360902255639,-0.7393483709273183,-0.7343358395989976,-0.7293233082706767,-0.7243107769423558,-0.7192982456140351,-0.7142857142857144,-0.7092731829573935,-0.7042606516290726,-0.6992481203007519,-0.6942355889724312,-0.6892230576441103,-0.6842105263157894,-0.6791979949874687,-0.674185463659148,-0.6691729323308271,-0.6641604010025062,-0.6591478696741855,-0.6541353383458648,-0.6491228070175439,-0.644110275689223,-0.6390977443609023,-0.6340852130325816,-0.6290726817042607,-0.6240601503759398,-0.6190476190476191,-0.6140350877192984,-0.6090225563909775,-0.6040100250626566,-0.5989974937343359,-0.5939849624060152,-0.5889724310776943,-0.5839598997493733,-0.5789473684210527,-0.573934837092732,-0.568922305764411,-0.5639097744360901,-0.5588972431077694,-0.5538847117794488,-0.5488721804511278,-0.5438596491228069,-0.5388471177944862,-0.5338345864661656,-0.5288220551378446,-0.5238095238095237,-0.518796992481203,-0.5137844611528823,-0.5087719298245614,-0.5037593984962405,-0.4987468671679198,-0.4937343358395991,-0.4887218045112782,-0.48370927318295737,-0.4786967418546366,-0.4736842105263159,-0.468671679197995,-0.46365914786967416,-0.4586466165413534,-0.45363408521303267,-0.4486215538847118,-0.44360902255639095,-0.4385964912280702,-0.43358395989974946,-0.4285714285714286,-0.42355889724310775,-0.418546365914787,-0.41353383458646625,-0.4085213032581454,-0.40350877192982454,-0.3984962406015038,-0.39348370927318305,-0.3884711779448622,-0.38345864661654133,-0.3784461152882206,-0.37343358395989984,-0.368421052631579,-0.3634085213032581,-0.3583959899749374,-0.35338345864661663,-0.3483709273182958,-0.3433583959899749,-0.33834586466165417,-0.3333333333333334,-0.32832080200501257,-0.3233082706766917,-0.31829573934837097,-0.3132832080200502,-0.30827067669172936,-0.3032581453634085,-0.29824561403508776,-0.293233082706767,-0.28822055137844615,-0.2832080200501253,-0.27819548872180455,-0.2731829573934838,-0.26817042606516295,-0.2631578947368421,-0.25814536340852134,-0.2531328320802006,-0.24812030075187974,-0.24310776942355888,-0.23809523809523814,-0.2330827067669174,-0.22807017543859653,-0.22305764411027568,-0.21804511278195493,-0.21303258145363418,-0.20802005012531333,-0.20300751879699247,-0.19799498746867172,-0.19298245614035098,-0.18796992481203012,-0.18295739348370926,-0.17794486215538852,-0.17293233082706777,-0.1679197994987469,-0.16290726817042606,-0.1578947368421053,-0.15288220551378456,-0.1478696741854637,-0.14285714285714285,-0.1378446115288221,-0.13283208020050136,-0.1278195488721805,-0.12280701754385964,-0.1177944862155389,-0.11278195488721815,-0.10776942355889729,-0.10275689223057644,-0.09774436090225569,-0.09273182957393494,-0.08771929824561409,-0.08270676691729323,-0.07769423558897248,-0.07268170426065174,-0.06766917293233088,-0.06265664160401002,-0.057644110275689275,-0.05263157894736853,-0.04761904761904767,-0.042606516290726815,-0.03759398496240607,-0.03258145363408532,-0.027568922305764465,-0.022556390977443608,-0.01754385964912286,-0.012531328320802115,-0.007518796992481258,-0.002506265664160401,0.0025062656641603454,0.007518796992481258,0.012531328320801949,0.01754385964912286,0.022556390977443552,0.027568922305764465,0.032581453634085156,0.03759398496240607,0.04260651629072676,0.04761904761904767,0.05263157894736836,0.057644110275689275,0.06265664160400997,0.06766917293233088,0.07268170426065157,0.07769423558897248,0.08270676691729317,0.08771929824561409,0.09273182957393478,0.09774436090225569,0.10275689223057638,0.10776942355889729,0.11278195488721798,0.1177944862155389,0.12280701754385959,0.1278195488721805,0.1328320802005012,0.1378446115288221,0.1428571428571428,0.1478696741854637,0.1528822055137844,0.1578947368421053,0.162907268170426,0.1679197994987469,0.1729323308270676,0.17794486215538852,0.1829573934837092,0.18796992481203012,0.1929824561403508,0.19799498746867172,0.20300751879699241,0.20802005012531333,0.21303258145363402,0.21804511278195493,0.22305764411027562,0.22807017543859653,0.23308270676691722,0.23809523809523814,0.24310776942355883,0.24812030075187974,0.25313283208020043,0.25814536340852134,0.26315789473684204,0.26817042606516295,0.27318295739348364,0.27819548872180455,0.28320802005012524,0.28822055137844615,0.29323308270676685,0.29824561403508776,0.30325814536340845,0.30827067669172936,0.31328320802005005,0.31829573934837097,0.32330827067669166,0.32832080200501257,0.33333333333333326,0.33834586466165417,0.34335839598997486,0.3483709273182958,0.35338345864661647,0.3583959899749374,0.36340852130325807,0.368421052631579,0.3734335839598997,0.3784461152882206,0.3834586466165413,0.3884711779448622,0.3934837092731829,0.3984962406015038,0.4035087719298245,0.4085213032581454,0.4135338345864661,0.418546365914787,0.4235588972431077,0.4285714285714286,0.4335839598997493,0.4385964912280702,0.4436090225563909,0.4486215538847118,0.4536340852130325,0.4586466165413534,0.4636591478696741,0.468671679197995,0.4736842105263157,0.4786967418546366,0.4837092731829573,0.4887218045112782,0.4937343358395989,0.4987468671679198,0.5037593984962405,0.5087719298245614,0.5137844611528821,0.518796992481203,0.5238095238095237,0.5288220551378446,0.5338345864661653,0.5388471177944862,0.5438596491228069,0.5488721804511278,0.5538847117794485,0.5588972431077694,0.5639097744360901,0.568922305764411,0.5739348370927317,0.5789473684210527,0.5839598997493733,0.5889724310776943,0.593984962406015,0.5989974937343359,0.6040100250626566,0.6090225563909775,0.6140350877192982,0.6190476190476191,0.6240601503759398,0.6290726817042607,0.6340852130325814,0.6390977443609023,0.644110275689223,0.6491228070175439,0.6541353383458646,0.6591478696741855,0.6641604010025062,0.6691729323308271,0.6741854636591478,0.6791979949874687,0.6842105263157894,0.6892230576441103,0.694235588972431,0.6992481203007519,0.7042606516290726,0.7092731829573935,0.7142857142857142,0.7192982456140351,0.7243107769423558,0.7293233082706767,0.7343358395989974,0.7393483709273183,0.744360902255639,0.7493734335839599,0.7543859649122806,0.7593984962406015,0.7644110275689222,0.7694235588972431,0.7744360902255638,0.7794486215538847,0.7844611528822054,0.7894736842105263,0.794486215538847,0.7994987468671679,0.8045112781954886,0.8095238095238095,0.8145363408521302,0.8195488721804511,0.8245614035087718,0.8295739348370927,0.8345864661654134,0.8395989974937343,0.844611528822055,0.849624060150376,0.8546365914786966,0.8596491228070176,0.8646616541353382,0.8696741854636592,0.8746867167919798,0.8796992481203008,0.8847117794486214,0.8897243107769424,0.894736842105263,0.899749373433584,0.9047619047619047,0.9097744360902256,0.9147869674185463,0.9197994987468672,0.9248120300751879,0.9298245614035088,0.9348370927318295,0.9398496240601504,0.9448621553884711,0.949874686716792,0.9548872180451127,0.9598997493734336,0.9649122807017543,0.9699248120300752,0.9749373433583959,0.9799498746867168,0.9849624060150375,0.9899749373433584,0.9949874686716791,1.0],\\\"mode\\\":\\\"markers\\\",\\\"y\\\":[0.006608456591584691,0.00664983145080416,0.013299662901608639,0.019948991846163132,0.02659731830337457,0.03324414481730745,0.039888976457183214,0.04653132081737972,0.053170688017432105,0.059806590702032925,0.06643854404103178,0.07306606572943478,0.07968867598740492,0.08630589756026313,0.09291725571848697,0.09952227825771093,0.10612049549872604,0.11271144028748137,0.1192946479950826,0.12586965651779225,0.13243600627702967,0.13899324021937187,0.14554090381655288,0.15207854506546326,0.15860571448815042,0.1651219651318196,0.17162685256883298,0.17811993489670924,0.18460077273812403,0.19106892924091062,0.19752397007805922,0.20396546344771677,0.21039298007318696,0.21680609320293132,0.2232043786105683,0.22958741459487275,0.2359547819797767,0.24230606411436983,0.24864084687289845,0.2549587186547658,0.2612592703845319,0.26754209551191466,0.27380679001178865,0.28005295238418493,0.286280183654292,0.29248808737245546,0.29867626961417804,0.30484433898011964,0.3109919065960962,0.31711858611308186,0.32322399370720756,0.32930774807976093,0.33536947045718624,0.3414087845910858,0.3474253167582185,0.3534186957605002,0.3593885529250035,0.3653345221039588,0.3712562396747531,0.37715334453993055,0.38302547812719157,0.3888722843893948,0.3946934098045555,0.40048850337584563,0.4062572166315942,0.41199920362528775,0.4177141209355698,0.42340162766624023,0.42906138544625627,0.4346930584297324,0.44029631329594054,0.4458708192493088,0.45141624801942215,0.45693227386102353,0.46241857355401284,0.46787482640344646,0.47330071423953746,0.47869592141765716,0.4840601348183333,0.4893930438472507,0.4946943404352504,0.4999637190383319,0.5052008766376511,0.5104055127395206,0.5155773293754099,0.5207160311019463,0.5258213250009138,0.5308929206792534,0.5359305302690629,0.5409338684275975,0.5459026523372696,0.5508366017056483,0.5557354387654594,0.5605988882745863,0.5654266775160698,0.5702185362981064,0.5749741969540506,0.5796933943424142,0.584375865846865,0.589021351376229,0.5936295933644881,0.5982003367707819,0.6027333290794075,0.607228320299818,0.6116850629666236,0.6161033121395929,0.6204828254036501,0.6248233628688769,0.6291246871705124,0.6333865634689516,0.6376087594497479,0.6417910453236112,0.6459331938264078,0.6500349802191623,0.6540961822880549,0.6581165803444242,0.6620959572247648,0.6660340982907291,0.6699307914291256,0.673785827051921,0.6775989980962385,0.6813701000243578,0.6850989308237166,0.6887852910069097,0.692428983611687,0.6960298142009578,0.6995875908627875,0.7031021242103984,0.7065732273821695,0.7100007160416373,0.7133844083774955,0.7167241251035944,0.7200196894589417,0.723270927207702,0.7264776666391972,0.7296397385679058,0.732756976333463,0.7358292158006623,0.7388562953594532,0.7418380559249426,0.7447743409373941,0.747664996362229,0.7505098706900248,0.7533088149365171,0.7560616826425971,0.7587683298743145,0.7614286152228745,0.7640423998046408,0.7666095472611335,0.7691299237590296,0.771603397990163,0.7740298411715256,0.7764091270452658,0.7787411318786885,0.7810257344642556,0.783262816119587,0.785452260687459,0.7875939545358052,0.7896877865577157,0.7917336481714388,0.7937314333203782,0.7956810384730961,0.7975823626233107,0.799435307289898,0.8012397765168902,0.8029956768734773,0.8047029174540056,0.8063614098779792,0.8079710682900587,0.8095318093600625,0.8110435522829645,0.8125062187788978,0.8139197330931506,0.8152840219961693,0.8165990147835566,0.8178646432760729,0.819080841819635,0.8202475472853176,0.8213646990693508,0.8224322390931235,0.823450111803181,0.8244182641712255,0.8253366456941164,0.8262052083938701,0.8270239068176596,0.8277926980378154,0.8285115416518252,0.8291803997823334,0.8297992370771412,0.8303680207092075,0.830886720376648,0.8313553083027353,0.8317737592358986,0.8321420504497246,0.8324601617429574,0.832728075439498,0.8329457763884036,0.8331132519638896,0.8332304920653272,0.8332974891172457,0.8333142380693305,0.8332807363964255,0.8331969840985304,0.8330629837008015,0.832878740253553,0.8326442613322564,0.8323595570375402,0.8320246399951886,0.8316395253561447,0.8312042307965072,0.8307187765175326,0.8301831852456341,0.829597482232382,0.8289616952545036,0.8282758546138833,0.8275399931375628,0.8267541461777405,0.8259183516117717,0.825032649842169,0.8240970837966024,0.8231116989278983,0.8220765432140402,0.820991667158169,0.8198571237885822,0.818672968658735,0.817439259847239,0.816156057957863,0.814823426119533,0.8134414299863317,0.8120101377374994,0.8105296200774329,0.8089999502356862,0.8074212039669701,0.8057934595511528,0.8041167977932591,0.8023913020234716,0.8006170580971296,0.7987941543947288,0.7969226818219225,0.7950027338095209,0.7930344063134915,0.7910177978149586,0.7889530093202037,0.7868401443606654,0.784679308992939,0.7824706117987771,0.7802141638850894,0.7779100788839419,0.7755584729525584,0.7731594647733199,0.7707131755537637,0.7682197290265848,0.7656792514496344,0.7630918716059217,0.7604577208036123,0.7577769328760292,0.755049644181652,0.7522759936041179,0.7494561225522209,0.746590174959912,0.7436782972862991,0.740720638515647,0.7377173501573778,0.7346685862460708,0.7315745033414623,0.7284352605284452,0.7252510194170699,0.722021944142544,0.7187482013652312,0.7154299602706528,0.7120673925694875,0.7086606724975705,0.7052099768158945,0.7017154848106086,0.69817737829302,0.6945958415995914,0.6909710615919439,0.6873032276568548,0.683592531706259,0.6798391681772473,0.6760433340320695,0.6722052287581307,0.6683250543679939,0.6644030153993788,0.6604393189151629,0.656434174503379,0.6523877942772188,0.6483003928750298,0.6441721874603178,0.6400033977217436,0.6357942458731272,0.6315449566534442,0.627255757326828,0.6229268776825685,0.6185585500351132,0.6141510092240662,0.6097044926141885,0.6052192400953982,0.6006954940827716,0.5961334995165403,0.5915335038620941,0.5868957571099791,0.5822205117758991,0.5775080229007142,0.5727585480504424,0.567972347316258,0.5631496833144927,0.5582908211866351,0.5533960285993307,0.5484655757443821,0.5434997353387496,0.5384987826245493,0.5334629953690555,0.528392653864699,0.5232880409290679,0.5181494419049063,0.5129771446601172,0.5077714395877589,0.5025326196060478,0.4972609801583563,0.4919568192132153,0.4866204372643115,0.48125213733048944,0.47585222495574964,0.47042100820925103,0.4649587976853081,0.45946590650339414,0.4539426503081374,0.44838934726932544,0.44280631808190063,0.4371938859659643,0.43155237666677326,0.42588211845474244,0.4201834421254431,0.41445668099960387,0.40870217092311034,0.4029202502670056,0.3971112599274885,0.3912755433259165,0.3854134464088028,0.3795253176478186,0.37361150803979104,0.3676723711067058,0.36170826289570424,0.35571954197908573,0.34970656945430567,0.34366970894397764,0.3376093265958712,0.3315257910829139,0.32541947360318924,0.31929074787993905,0.3131399901615608,0.30696757922161044,0.3007738963587995,0.2945593253969979,0.2883242526852313,0.28206906709768353,0.2757941600336945,0.26949992541776224,0.26318675969954064,0.25685506185384166,0.25050523338063324,0.24413767830504163,0.2377528031773487,0.23135101707299477,0.22493273159257599,0.21849836086184649,0.2120483215317165,0.20558303277825418,0.19910291630268395,0.19260839633138804,0.186099899615905,0.17957785543293103,0.17304269558431856,0.16649485439707812,0.15993476872337625,0.15336287794053743,0.14677962395104216,0.14018545118252917,0.1335808065877931,0.1269661396447866,0.12034190235661824,0.11370854925155488,0.10706653738301936,0.10041632632959249,0.09375837819501096,0.08709315760816994,0.08042113172312007,0.07374277021907044,0.06705854530038585,0.06036893169658955,0.05367440666236051,0.04697544997753589,0.040272543947108747,0.03356617340123022,0.026856825695207545,0.02014499070950601,0.013431160849746819,0.006715831046709236,0.006698675147188389],\\\"type\\\":\\\"scatter\\\",\\\"name\\\":\\\"Robin BC\\\",\\\"marker\\\":{\\\"symbol\\\":\\\"square\\\",\\\"size\\\":7}},{\\\"x\\\":[-1.0,-0.9949874686716793,-0.9899749373433584,-0.9849624060150375,-0.9799498746867168,-0.9749373433583961,-0.9699248120300752,-0.9649122807017543,-0.9598997493734336,-0.9548872180451129,-0.949874686716792,-0.9448621553884711,-0.9398496240601504,-0.9348370927318297,-0.9298245614035088,-0.9248120300751879,-0.9197994987468672,-0.9147869674185465,-0.9097744360902256,-0.9047619047619047,-0.899749373433584,-0.8947368421052633,-0.8897243107769424,-0.8847117794486214,-0.8796992481203008,-0.8746867167919801,-0.8696741854636592,-0.8646616541353382,-0.8596491228070176,-0.8546365914786969,-0.849624060150376,-0.844611528822055,-0.8395989974937343,-0.8345864661654137,-0.8295739348370927,-0.8245614035087718,-0.8195488721804511,-0.8145363408521304,-0.8095238095238095,-0.8045112781954886,-0.7994987468671679,-0.7944862155388472,-0.7894736842105263,-0.7844611528822054,-0.7794486215538847,-0.774436090225564,-0.7694235588972431,-0.7644110275689222,-0.7593984962406015,-0.7543859649122808,-0.7493734335839599,-0.744360902255639,-0.7393483709273183,-0.7343358395989976,-0.7293233082706767,-0.7243107769423558,-0.7192982456140351,-0.7142857142857144,-0.7092731829573935,-0.7042606516290726,-0.6992481203007519,-0.6942355889724312,-0.6892230576441103,-0.6842105263157894,-0.6791979949874687,-0.674185463659148,-0.6691729323308271,-0.6641604010025062,-0.6591478696741855,-0.6541353383458648,-0.6491228070175439,-0.644110275689223,-0.6390977443609023,-0.6340852130325816,-0.6290726817042607,-0.6240601503759398,-0.6190476190476191,-0.6140350877192984,-0.6090225563909775,-0.6040100250626566,-0.5989974937343359,-0.5939849624060152,-0.5889724310776943,-0.5839598997493733,-0.5789473684210527,-0.573934837092732,-0.568922305764411,-0.5639097744360901,-0.5588972431077694,-0.5538847117794488,-0.5488721804511278,-0.5438596491228069,-0.5388471177944862,-0.5338345864661656,-0.5288220551378446,-0.5238095238095237,-0.518796992481203,-0.5137844611528823,-0.5087719298245614,-0.5037593984962405,-0.4987468671679198,-0.4937343358395991,-0.4887218045112782,-0.48370927318295737,-0.4786967418546366,-0.4736842105263159,-0.468671679197995,-0.46365914786967416,-0.4586466165413534,-0.45363408521303267,-0.4486215538847118,-0.44360902255639095,-0.4385964912280702,-0.43358395989974946,-0.4285714285714286,-0.42355889724310775,-0.418546365914787,-0.41353383458646625,-0.4085213032581454,-0.40350877192982454,-0.3984962406015038,-0.39348370927318305,-0.3884711779448622,-0.38345864661654133,-0.3784461152882206,-0.37343358395989984,-0.368421052631579,-0.3634085213032581,-0.3583959899749374,-0.35338345864661663,-0.3483709273182958,-0.3433583959899749,-0.33834586466165417,-0.3333333333333334,-0.32832080200501257,-0.3233082706766917,-0.31829573934837097,-0.3132832080200502,-0.30827067669172936,-0.3032581453634085,-0.29824561403508776,-0.293233082706767,-0.28822055137844615,-0.2832080200501253,-0.27819548872180455,-0.2731829573934838,-0.26817042606516295,-0.2631578947368421,-0.25814536340852134,-0.2531328320802006,-0.24812030075187974,-0.24310776942355888,-0.23809523809523814,-0.2330827067669174,-0.22807017543859653,-0.22305764411027568,-0.21804511278195493,-0.21303258145363418,-0.20802005012531333,-0.20300751879699247,-0.19799498746867172,-0.19298245614035098,-0.18796992481203012,-0.18295739348370926,-0.17794486215538852,-0.17293233082706777,-0.1679197994987469,-0.16290726817042606,-0.1578947368421053,-0.15288220551378456,-0.1478696741854637,-0.14285714285714285,-0.1378446115288221,-0.13283208020050136,-0.1278195488721805,-0.12280701754385964,-0.1177944862155389,-0.11278195488721815,-0.10776942355889729,-0.10275689223057644,-0.09774436090225569,-0.09273182957393494,-0.08771929824561409,-0.08270676691729323,-0.07769423558897248,-0.07268170426065174,-0.06766917293233088,-0.06265664160401002,-0.057644110275689275,-0.05263157894736853,-0.04761904761904767,-0.042606516290726815,-0.03759398496240607,-0.03258145363408532,-0.027568922305764465,-0.022556390977443608,-0.01754385964912286,-0.012531328320802115,-0.007518796992481258,-0.002506265664160401,0.0025062656641603454,0.007518796992481258,0.012531328320801949,0.01754385964912286,0.022556390977443552,0.027568922305764465,0.032581453634085156,0.03759398496240607,0.04260651629072676,0.04761904761904767,0.05263157894736836,0.057644110275689275,0.06265664160400997,0.06766917293233088,0.07268170426065157,0.07769423558897248,0.08270676691729317,0.08771929824561409,0.09273182957393478,0.09774436090225569,0.10275689223057638,0.10776942355889729,0.11278195488721798,0.1177944862155389,0.12280701754385959,0.1278195488721805,0.1328320802005012,0.1378446115288221,0.1428571428571428,0.1478696741854637,0.1528822055137844,0.1578947368421053,0.162907268170426,0.1679197994987469,0.1729323308270676,0.17794486215538852,0.1829573934837092,0.18796992481203012,0.1929824561403508,0.19799498746867172,0.20300751879699241,0.20802005012531333,0.21303258145363402,0.21804511278195493,0.22305764411027562,0.22807017543859653,0.23308270676691722,0.23809523809523814,0.24310776942355883,0.24812030075187974,0.25313283208020043,0.25814536340852134,0.26315789473684204,0.26817042606516295,0.27318295739348364,0.27819548872180455,0.28320802005012524,0.28822055137844615,0.29323308270676685,0.29824561403508776,0.30325814536340845,0.30827067669172936,0.31328320802005005,0.31829573934837097,0.32330827067669166,0.32832080200501257,0.33333333333333326,0.33834586466165417,0.34335839598997486,0.3483709273182958,0.35338345864661647,0.3583959899749374,0.36340852130325807,0.368421052631579,0.3734335839598997,0.3784461152882206,0.3834586466165413,0.3884711779448622,0.3934837092731829,0.3984962406015038,0.4035087719298245,0.4085213032581454,0.4135338345864661,0.418546365914787,0.4235588972431077,0.4285714285714286,0.4335839598997493,0.4385964912280702,0.4436090225563909,0.4486215538847118,0.4536340852130325,0.4586466165413534,0.4636591478696741,0.468671679197995,0.4736842105263157,0.4786967418546366,0.4837092731829573,0.4887218045112782,0.4937343358395989,0.4987468671679198,0.5037593984962405,0.5087719298245614,0.5137844611528821,0.518796992481203,0.5238095238095237,0.5288220551378446,0.5338345864661653,0.5388471177944862,0.5438596491228069,0.5488721804511278,0.5538847117794485,0.5588972431077694,0.5639097744360901,0.568922305764411,0.5739348370927317,0.5789473684210527,0.5839598997493733,0.5889724310776943,0.593984962406015,0.5989974937343359,0.6040100250626566,0.6090225563909775,0.6140350877192982,0.6190476190476191,0.6240601503759398,0.6290726817042607,0.6340852130325814,0.6390977443609023,0.644110275689223,0.6491228070175439,0.6541353383458646,0.6591478696741855,0.6641604010025062,0.6691729323308271,0.6741854636591478,0.6791979949874687,0.6842105263157894,0.6892230576441103,0.694235588972431,0.6992481203007519,0.7042606516290726,0.7092731829573935,0.7142857142857142,0.7192982456140351,0.7243107769423558,0.7293233082706767,0.7343358395989974,0.7393483709273183,0.744360902255639,0.7493734335839599,0.7543859649122806,0.7593984962406015,0.7644110275689222,0.7694235588972431,0.7744360902255638,0.7794486215538847,0.7844611528822054,0.7894736842105263,0.794486215538847,0.7994987468671679,0.8045112781954886,0.8095238095238095,0.8145363408521302,0.8195488721804511,0.8245614035087718,0.8295739348370927,0.8345864661654134,0.8395989974937343,0.844611528822055,0.849624060150376,0.8546365914786966,0.8596491228070176,0.8646616541353382,0.8696741854636592,0.8746867167919798,0.8796992481203008,0.8847117794486214,0.8897243107769424,0.894736842105263,0.899749373433584,0.9047619047619047,0.9097744360902256,0.9147869674185463,0.9197994987468672,0.9248120300751879,0.9298245614035088,0.9348370927318295,0.9398496240601504,0.9448621553884711,0.949874686716792,0.9548872180451127,0.9598997493734336,0.9649122807017543,0.9699248120300752,0.9749373433583959,0.9799498746867168,0.9849624060150375,0.9899749373433584,0.9949874686716791,1.0],\\\"mode\\\":\\\"markers\\\",\\\"y\\\":[0.0,0.00664983145080416,0.013299662901608639,0.019948991846163132,0.02659731830337457,0.03324414481730745,0.039888976457183214,0.04653132081737972,0.053170688017432105,0.059806590702032925,0.06643854404103178,0.07306606572943478,0.07968867598740492,0.08630589756026313,0.09291725571848697,0.09952227825771093,0.10612049549872604,0.11271144028748137,0.1192946479950826,0.12586965651779225,0.13243600627702967,0.13899324021937187,0.14554090381655288,0.15207854506546326,0.15860571448815042,0.1651219651318196,0.17162685256883298,0.17811993489670924,0.18460077273812403,0.19106892924091062,0.19752397007805922,0.20396546344771677,0.21039298007318696,0.21680609320293132,0.2232043786105683,0.22958741459487275,0.2359547819797767,0.24230606411436983,0.24864084687289845,0.2549587186547658,0.2612592703845319,0.26754209551191466,0.27380679001178865,0.28005295238418493,0.286280183654292,0.29248808737245546,0.29867626961417804,0.30484433898011964,0.3109919065960962,0.31711858611308186,0.32322399370720756,0.32930774807976093,0.33536947045718624,0.3414087845910858,0.3474253167582185,0.3534186957605002,0.3593885529250035,0.3653345221039588,0.3712562396747531,0.37715334453993055,0.38302547812719157,0.3888722843893948,0.3946934098045555,0.40048850337584563,0.4062572166315942,0.41199920362528775,0.4177141209355698,0.42340162766624023,0.42906138544625627,0.4346930584297324,0.44029631329594054,0.4458708192493088,0.45141624801942215,0.45693227386102353,0.46241857355401284,0.46787482640344646,0.47330071423953746,0.47869592141765716,0.4840601348183333,0.4893930438472507,0.4946943404352504,0.4999637190383319,0.5052008766376511,0.5104055127395206,0.5155773293754099,0.5207160311019463,0.5258213250009138,0.5308929206792534,0.5359305302690629,0.5409338684275975,0.5459026523372696,0.5508366017056483,0.5557354387654594,0.5605988882745863,0.5654266775160698,0.5702185362981064,0.5749741969540506,0.5796933943424142,0.584375865846865,0.589021351376229,0.5936295933644881,0.5982003367707819,0.6027333290794075,0.607228320299818,0.6116850629666236,0.6161033121395929,0.6204828254036501,0.6248233628688769,0.6291246871705124,0.6333865634689516,0.6376087594497479,0.6417910453236112,0.6459331938264078,0.6500349802191623,0.6540961822880549,0.6581165803444242,0.6620959572247648,0.6660340982907291,0.6699307914291256,0.673785827051921,0.6775989980962385,0.6813701000243578,0.6850989308237166,0.6887852910069097,0.692428983611687,0.6960298142009578,0.6995875908627875,0.7031021242103984,0.7065732273821695,0.7100007160416373,0.7133844083774955,0.7167241251035944,0.7200196894589417,0.723270927207702,0.7264776666391972,0.7296397385679058,0.732756976333463,0.7358292158006623,0.7388562953594532,0.7418380559249426,0.7447743409373941,0.747664996362229,0.7505098706900248,0.7533088149365171,0.7560616826425971,0.7587683298743145,0.7614286152228745,0.7640423998046408,0.7666095472611335,0.7691299237590296,0.771603397990163,0.7740298411715256,0.7764091270452658,0.7787411318786885,0.7810257344642556,0.783262816119587,0.785452260687459,0.7875939545358052,0.7896877865577157,0.7917336481714388,0.7937314333203782,0.7956810384730961,0.7975823626233107,0.799435307289898,0.8012397765168902,0.8029956768734773,0.8047029174540056,0.8063614098779792,0.8079710682900587,0.8095318093600625,0.8110435522829645,0.8125062187788978,0.8139197330931506,0.8152840219961693,0.8165990147835566,0.8178646432760729,0.819080841819635,0.8202475472853176,0.8213646990693508,0.8224322390931235,0.823450111803181,0.8244182641712255,0.8253366456941164,0.8262052083938701,0.8270239068176596,0.8277926980378154,0.8285115416518252,0.8291803997823334,0.8297992370771412,0.8303680207092075,0.830886720376648,0.8313553083027353,0.8317737592358986,0.8321420504497246,0.8324601617429574,0.832728075439498,0.8329457763884036,0.8331132519638896,0.8332304920653272,0.8332974891172457,0.8333142380693305,0.8332807363964255,0.8331969840985304,0.8330629837008015,0.832878740253553,0.8326442613322564,0.8323595570375402,0.8320246399951886,0.8316395253561447,0.8312042307965072,0.8307187765175326,0.8301831852456341,0.829597482232382,0.8289616952545036,0.8282758546138833,0.8275399931375628,0.8267541461777405,0.8259183516117717,0.825032649842169,0.8240970837966024,0.8231116989278983,0.8220765432140402,0.820991667158169,0.8198571237885822,0.818672968658735,0.817439259847239,0.816156057957863,0.814823426119533,0.8134414299863317,0.8120101377374994,0.8105296200774329,0.8089999502356862,0.8074212039669701,0.8057934595511528,0.8041167977932591,0.8023913020234716,0.8006170580971296,0.7987941543947288,0.7969226818219225,0.7950027338095209,0.7930344063134915,0.7910177978149586,0.7889530093202037,0.7868401443606654,0.784679308992939,0.7824706117987771,0.7802141638850894,0.7779100788839419,0.7755584729525584,0.7731594647733199,0.7707131755537637,0.7682197290265848,0.7656792514496344,0.7630918716059217,0.7604577208036123,0.7577769328760292,0.755049644181652,0.7522759936041179,0.7494561225522209,0.746590174959912,0.7436782972862991,0.740720638515647,0.7377173501573778,0.7346685862460708,0.7315745033414623,0.7284352605284452,0.7252510194170699,0.722021944142544,0.7187482013652312,0.7154299602706528,0.7120673925694875,0.7086606724975705,0.7052099768158945,0.7017154848106086,0.69817737829302,0.6945958415995914,0.6909710615919439,0.6873032276568548,0.683592531706259,0.6798391681772473,0.6760433340320695,0.6722052287581307,0.6683250543679939,0.6644030153993788,0.6604393189151629,0.656434174503379,0.6523877942772188,0.6483003928750298,0.6441721874603178,0.6400033977217436,0.6357942458731272,0.6315449566534442,0.627255757326828,0.6229268776825685,0.6185585500351132,0.6141510092240662,0.6097044926141885,0.6052192400953982,0.6006954940827716,0.5961334995165403,0.5915335038620941,0.5868957571099791,0.5822205117758991,0.5775080229007142,0.5727585480504424,0.567972347316258,0.5631496833144927,0.5582908211866351,0.5533960285993307,0.5484655757443821,0.5434997353387496,0.5384987826245493,0.5334629953690555,0.528392653864699,0.5232880409290679,0.5181494419049063,0.5129771446601172,0.5077714395877589,0.5025326196060478,0.4972609801583563,0.4919568192132153,0.4866204372643115,0.48125213733048944,0.47585222495574964,0.47042100820925103,0.4649587976853081,0.45946590650339414,0.4539426503081374,0.44838934726932544,0.44280631808190063,0.4371938859659643,0.43155237666677326,0.42588211845474244,0.4201834421254431,0.41445668099960387,0.40870217092311034,0.4029202502670056,0.3971112599274885,0.3912755433259165,0.3854134464088028,0.3795253176478186,0.37361150803979104,0.3676723711067058,0.36170826289570424,0.35571954197908573,0.34970656945430567,0.34366970894397764,0.3376093265958712,0.3315257910829139,0.32541947360318924,0.31929074787993905,0.3131399901615608,0.30696757922161044,0.3007738963587995,0.2945593253969979,0.2883242526852313,0.28206906709768353,0.2757941600336945,0.26949992541776224,0.26318675969954064,0.25685506185384166,0.25050523338063324,0.24413767830504163,0.2377528031773487,0.23135101707299477,0.22493273159257599,0.21849836086184649,0.2120483215317165,0.20558303277825418,0.19910291630268395,0.19260839633138804,0.186099899615905,0.17957785543293103,0.17304269558431856,0.16649485439707812,0.15993476872337625,0.15336287794053743,0.14677962395104216,0.14018545118252917,0.1335808065877931,0.1269661396447866,0.12034190235661824,0.11370854925155488,0.10706653738301936,0.10041632632959249,0.09375837819501096,0.08709315760816994,0.08042113172312007,0.07374277021907044,0.06705854530038585,0.06036893169658955,0.05367440666236051,0.04697544997753589,0.040272543947108747,0.03356617340123022,0.026856825695207545,0.02014499070950601,0.013431160849746819,0.006715831046709236,0.0],\\\"type\\\":\\\"scatter\\\",\\\"name\\\":\\\"Dirichelt BC\\\",\\\"marker\\\":{\\\"size\\\":5}}],{\\\"xaxis\\\":{\\\"title\\\":{\\\"text\\\":\\\"x\\\"}},\\\"template\\\":{\\\"layout\\\":{\\\"coloraxis\\\":{\\\"colorbar\\\":{\\\"ticks\\\":\\\"\\\",\\\"outlinewidth\\\":0}},\\\"xaxis\\\":{\\\"gridcolor\\\":\\\"white\\\",\\\"zerolinewidth\\\":2,\\\"title\\\":{\\\"standoff\\\":15},\\\"ticks\\\":\\\"\\\",\\\"zerolinecolor\\\":\\\"white\\\",\\\"automargin\\\":true,\\\"linecolor\\\":\\\"white\\\"},\\\"hovermode\\\":\\\"closest\\\",\\\"paper_bgcolor\\\":\\\"white\\\",\\\"geo\\\":{\\\"showlakes\\\":true,\\\"showland\\\":true,\\\"landcolor\\\":\\\"#E5ECF6\\\",\\\"bgcolor\\\":\\\"white\\\",\\\"subunitcolor\\\":\\\"white\\\",\\\"lakecolor\\\":\\\"white\\\"},\\\"colorscale\\\":{\\\"sequential\\\":[[0.0,\\\"#0d0887\\\"],[0.1111111111111111,\\\"#46039f\\\"],[0.2222222222222222,\\\"#7201a8\\\"],[0.3333333333333333,\\\"#9c179e\\\"],[0.4444444444444444,\\\"#bd3786\\\"],[0.5555555555555556,\\\"#d8576b\\\"],[0.6666666666666666,\\\"#ed7953\\\"],[0.7777777777777778,\\\"#fb9f3a\\\"],[0.8888888888888888,\\\"#fdca26\\\"],[1.0,\\\"#f0f921\\\"]],\\\"diverging\\\":[[0,\\\"#8e0152\\\"],[0.1,\\\"#c51b7d\\\"],[0.2,\\\"#de77ae\\\"],[0.3,\\\"#f1b6da\\\"],[0.4,\\\"#fde0ef\\\"],[0.5,\\\"#f7f7f7\\\"],[0.6,\\\"#e6f5d0\\\"],[0.7,\\\"#b8e186\\\"],[0.8,\\\"#7fbc41\\\"],[0.9,\\\"#4d9221\\\"],[1,\\\"#276419\\\"]],\\\"sequentialminus\\\":[[0.0,\\\"#0d0887\\\"],[0.1111111111111111,\\\"#46039f\\\"],[0.2222222222222222,\\\"#7201a8\\\"],[0.3333333333333333,\\\"#9c179e\\\"],[0.4444444444444444,\\\"#bd3786\\\"],[0.5555555555555556,\\\"#d8576b\\\"],[0.6666666666666666,\\\"#ed7953\\\"],[0.7777777777777778,\\\"#fb9f3a\\\"],[0.8888888888888888,\\\"#fdca26\\\"],[1.0,\\\"#f0f921\\\"]]},\\\"yaxis\\\":{\\\"gridcolor\\\":\\\"white\\\",\\\"zerolinewidth\\\":2,\\\"title\\\":{\\\"standoff\\\":15},\\\"ticks\\\":\\\"\\\",\\\"zerolinecolor\\\":\\\"white\\\",\\\"automargin\\\":true,\\\"linecolor\\\":\\\"white\\\"},\\\"shapedefaults\\\":{\\\"line\\\":{\\\"color\\\":\\\"#2a3f5f\\\"}},\\\"hoverlabel\\\":{\\\"align\\\":\\\"left\\\"},\\\"mapbox\\\":{\\\"style\\\":\\\"light\\\"},\\\"polar\\\":{\\\"angularaxis\\\":{\\\"gridcolor\\\":\\\"white\\\",\\\"ticks\\\":\\\"\\\",\\\"linecolor\\\":\\\"white\\\"},\\\"bgcolor\\\":\\\"#E5ECF6\\\",\\\"radialaxis\\\":{\\\"gridcolor\\\":\\\"white\\\",\\\"ticks\\\":\\\"\\\",\\\"linecolor\\\":\\\"white\\\"}},\\\"autotypenumbers\\\":\\\"strict\\\",\\\"font\\\":{\\\"color\\\":\\\"#2a3f5f\\\"},\\\"ternary\\\":{\\\"baxis\\\":{\\\"gridcolor\\\":\\\"white\\\",\\\"ticks\\\":\\\"\\\",\\\"linecolor\\\":\\\"white\\\"},\\\"bgcolor\\\":\\\"#E5ECF6\\\",\\\"caxis\\\":{\\\"gridcolor\\\":\\\"white\\\",\\\"ticks\\\":\\\"\\\",\\\"linecolor\\\":\\\"white\\\"},\\\"aaxis\\\":{\\\"gridcolor\\\":\\\"white\\\",\\\"ticks\\\":\\\"\\\",\\\"linecolor\\\":\\\"white\\\"}},\\\"annotationdefaults\\\":{\\\"arrowhead\\\":0,\\\"arrowwidth\\\":1,\\\"arrowcolor\\\":\\\"#2a3f5f\\\"},\\\"plot_bgcolor\\\":\\\"#E5ECF6\\\",\\\"title\\\":{\\\"x\\\":0.05},\\\"scene\\\":{\\\"xaxis\\\":{\\\"gridcolor\\\":\\\"white\\\",\\\"gridwidth\\\":2,\\\"backgroundcolor\\\":\\\"#E5ECF6\\\",\\\"ticks\\\":\\\"\\\",\\\"showbackground\\\":true,\\\"zerolinecolor\\\":\\\"white\\\",\\\"linecolor\\\":\\\"white\\\"},\\\"zaxis\\\":{\\\"gridcolor\\\":\\\"white\\\",\\\"gridwidth\\\":2,\\\"backgroundcolor\\\":\\\"#E5ECF6\\\",\\\"ticks\\\":\\\"\\\",\\\"showbackground\\\":true,\\\"zerolinecolor\\\":\\\"white\\\",\\\"linecolor\\\":\\\"white\\\"},\\\"yaxis\\\":{\\\"gridcolor\\\":\\\"white\\\",\\\"gridwidth\\\":2,\\\"backgroundcolor\\\":\\\"#E5ECF6\\\",\\\"ticks\\\":\\\"\\\",\\\"showbackground\\\":true,\\\"zerolinecolor\\\":\\\"white\\\",\\\"linecolor\\\":\\\"white\\\"}},\\\"colorway\\\":[\\\"#636efa\\\",\\\"#EF553B\\\",\\\"#00cc96\\\",\\\"#ab63fa\\\",\\\"#FFA15A\\\",\\\"#19d3f3\\\",\\\"#FF6692\\\",\\\"#B6E880\\\",\\\"#FF97FF\\\",\\\"#FECB52\\\"]},\\\"data\\\":{\\\"barpolar\\\":[{\\\"type\\\":\\\"barpolar\\\",\\\"marker\\\":{\\\"line\\\":{\\\"color\\\":\\\"#E5ECF6\\\",\\\"width\\\":0.5}}}],\\\"carpet\\\":[{\\\"aaxis\\\":{\\\"gridcolor\\\":\\\"white\\\",\\\"endlinecolor\\\":\\\"#2a3f5f\\\",\\\"minorgridcolor\\\":\\\"white\\\",\\\"startlinecolor\\\":\\\"#2a3f5f\\\",\\\"linecolor\\\":\\\"white\\\"},\\\"type\\\":\\\"carpet\\\",\\\"baxis\\\":{\\\"gridcolor\\\":\\\"white\\\",\\\"endlinecolor\\\":\\\"#2a3f5f\\\",\\\"minorgridcolor\\\":\\\"white\\\",\\\"startlinecolor\\\":\\\"#2a3f5f\\\",\\\"linecolor\\\":\\\"white\\\"}}],\\\"scatterpolar\\\":[{\\\"type\\\":\\\"scatterpolar\\\",\\\"marker\\\":{\\\"colorbar\\\":{\\\"ticks\\\":\\\"\\\",\\\"outlinewidth\\\":0}}}],\\\"parcoords\\\":[{\\\"line\\\":{\\\"colorbar\\\":{\\\"ticks\\\":\\\"\\\",\\\"outlinewidth\\\":0}},\\\"type\\\":\\\"parcoords\\\"}],\\\"scatter\\\":[{\\\"type\\\":\\\"scatter\\\",\\\"marker\\\":{\\\"colorbar\\\":{\\\"ticks\\\":\\\"\\\",\\\"outlinewidth\\\":0}}}],\\\"histogram2dcontour\\\":[{\\\"colorbar\\\":{\\\"ticks\\\":\\\"\\\",\\\"outlinewidth\\\":0},\\\"type\\\":\\\"histogram2dcontour\\\",\\\"colorscale\\\":[[0.0,\\\"#0d0887\\\"],[0.1111111111111111,\\\"#46039f\\\"],[0.2222222222222222,\\\"#7201a8\\\"],[0.3333333333333333,\\\"#9c179e\\\"],[0.4444444444444444,\\\"#bd3786\\\"],[0.5555555555555556,\\\"#d8576b\\\"],[0.6666666666666666,\\\"#ed7953\\\"],[0.7777777777777778,\\\"#fb9f3a\\\"],[0.8888888888888888,\\\"#fdca26\\\"],[1.0,\\\"#f0f921\\\"]]}],\\\"contour\\\":[{\\\"colorbar\\\":{\\\"ticks\\\":\\\"\\\",\\\"outlinewidth\\\":0},\\\"type\\\":\\\"contour\\\",\\\"colorscale\\\":[[0.0,\\\"#0d0887\\\"],[0.1111111111111111,\\\"#46039f\\\"],[0.2222222222222222,\\\"#7201a8\\\"],[0.3333333333333333,\\\"#9c179e\\\"],[0.4444444444444444,\\\"#bd3786\\\"],[0.5555555555555556,\\\"#d8576b\\\"],[0.6666666666666666,\\\"#ed7953\\\"],[0.7777777777777778,\\\"#fb9f3a\\\"],[0.8888888888888888,\\\"#fdca26\\\"],[1.0,\\\"#f0f921\\\"]]}],\\\"scattercarpet\\\":[{\\\"type\\\":\\\"scattercarpet\\\",\\\"marker\\\":{\\\"colorbar\\\":{\\\"ticks\\\":\\\"\\\",\\\"outlinewidth\\\":0}}}],\\\"mesh3d\\\":[{\\\"colorbar\\\":{\\\"ticks\\\":\\\"\\\",\\\"outlinewidth\\\":0},\\\"type\\\":\\\"mesh3d\\\"}],\\\"surface\\\":[{\\\"colorbar\\\":{\\\"ticks\\\":\\\"\\\",\\\"outlinewidth\\\":0},\\\"type\\\":\\\"surface\\\",\\\"colorscale\\\":[[0.0,\\\"#0d0887\\\"],[0.1111111111111111,\\\"#46039f\\\"],[0.2222222222222222,\\\"#7201a8\\\"],[0.3333333333333333,\\\"#9c179e\\\"],[0.4444444444444444,\\\"#bd3786\\\"],[0.5555555555555556,\\\"#d8576b\\\"],[0.6666666666666666,\\\"#ed7953\\\"],[0.7777777777777778,\\\"#fb9f3a\\\"],[0.8888888888888888,\\\"#fdca26\\\"],[1.0,\\\"#f0f921\\\"]]}],\\\"scattermapbox\\\":[{\\\"type\\\":\\\"scattermapbox\\\",\\\"marker\\\":{\\\"colorbar\\\":{\\\"ticks\\\":\\\"\\\",\\\"outlinewidth\\\":0}}}],\\\"scattergeo\\\":[{\\\"type\\\":\\\"scattergeo\\\",\\\"marker\\\":{\\\"colorbar\\\":{\\\"ticks\\\":\\\"\\\",\\\"outlinewidth\\\":0}}}],\\\"histogram\\\":[{\\\"type\\\":\\\"histogram\\\",\\\"marker\\\":{\\\"colorbar\\\":{\\\"ticks\\\":\\\"\\\",\\\"outlinewidth\\\":0}}}],\\\"pie\\\":[{\\\"type\\\":\\\"pie\\\",\\\"automargin\\\":true}],\\\"choropleth\\\":[{\\\"colorbar\\\":{\\\"ticks\\\":\\\"\\\",\\\"outlinewidth\\\":0},\\\"type\\\":\\\"choropleth\\\"}],\\\"heatmapgl\\\":[{\\\"colorbar\\\":{\\\"ticks\\\":\\\"\\\",\\\"outlinewidth\\\":0},\\\"type\\\":\\\"heatmapgl\\\",\\\"colorscale\\\":[[0.0,\\\"#0d0887\\\"],[0.1111111111111111,\\\"#46039f\\\"],[0.2222222222222222,\\\"#7201a8\\\"],[0.3333333333333333,\\\"#9c179e\\\"],[0.4444444444444444,\\\"#bd3786\\\"],[0.5555555555555556,\\\"#d8576b\\\"],[0.6666666666666666,\\\"#ed7953\\\"],[0.7777777777777778,\\\"#fb9f3a\\\"],[0.8888888888888888,\\\"#fdca26\\\"],[1.0,\\\"#f0f921\\\"]]}],\\\"bar\\\":[{\\\"type\\\":\\\"bar\\\",\\\"error_y\\\":{\\\"color\\\":\\\"#2a3f5f\\\"},\\\"error_x\\\":{\\\"color\\\":\\\"#2a3f5f\\\"},\\\"marker\\\":{\\\"line\\\":{\\\"color\\\":\\\"#E5ECF6\\\",\\\"width\\\":0.5}}}],\\\"heatmap\\\":[{\\\"colorbar\\\":{\\\"ticks\\\":\\\"\\\",\\\"outlinewidth\\\":0},\\\"type\\\":\\\"heatmap\\\",\\\"colorscale\\\":[[0.0,\\\"#0d0887\\\"],[0.1111111111111111,\\\"#46039f\\\"],[0.2222222222222222,\\\"#7201a8\\\"],[0.3333333333333333,\\\"#9c179e\\\"],[0.4444444444444444,\\\"#bd3786\\\"],[0.5555555555555556,\\\"#d8576b\\\"],[0.6666666666666666,\\\"#ed7953\\\"],[0.7777777777777778,\\\"#fb9f3a\\\"],[0.8888888888888888,\\\"#fdca26\\\"],[1.0,\\\"#f0f921\\\"]]}],\\\"contourcarpet\\\":[{\\\"colorbar\\\":{\\\"ticks\\\":\\\"\\\",\\\"outlinewidth\\\":0},\\\"type\\\":\\\"contourcarpet\\\"}],\\\"table\\\":[{\\\"type\\\":\\\"table\\\",\\\"header\\\":{\\\"line\\\":{\\\"color\\\":\\\"white\\\"},\\\"fill\\\":{\\\"color\\\":\\\"#C8D4E3\\\"}},\\\"cells\\\":{\\\"line\\\":{\\\"color\\\":\\\"white\\\"},\\\"fill\\\":{\\\"color\\\":\\\"#EBF0F8\\\"}}}],\\\"scatter3d\\\":[{\\\"line\\\":{\\\"colorbar\\\":{\\\"ticks\\\":\\\"\\\",\\\"outlinewidth\\\":0}},\\\"type\\\":\\\"scatter3d\\\",\\\"marker\\\":{\\\"colorbar\\\":{\\\"ticks\\\":\\\"\\\",\\\"outlinewidth\\\":0}}}],\\\"scattergl\\\":[{\\\"type\\\":\\\"scattergl\\\",\\\"marker\\\":{\\\"colorbar\\\":{\\\"ticks\\\":\\\"\\\",\\\"outlinewidth\\\":0}}}],\\\"histogram2d\\\":[{\\\"colorbar\\\":{\\\"ticks\\\":\\\"\\\",\\\"outlinewidth\\\":0},\\\"type\\\":\\\"histogram2d\\\",\\\"colorscale\\\":[[0.0,\\\"#0d0887\\\"],[0.1111111111111111,\\\"#46039f\\\"],[0.2222222222222222,\\\"#7201a8\\\"],[0.3333333333333333,\\\"#9c179e\\\"],[0.4444444444444444,\\\"#bd3786\\\"],[0.5555555555555556,\\\"#d8576b\\\"],[0.6666666666666666,\\\"#ed7953\\\"],[0.7777777777777778,\\\"#fb9f3a\\\"],[0.8888888888888888,\\\"#fdca26\\\"],[1.0,\\\"#f0f921\\\"]]}],\\\"scatterternary\\\":[{\\\"type\\\":\\\"scatterternary\\\",\\\"marker\\\":{\\\"colorbar\\\":{\\\"ticks\\\":\\\"\\\",\\\"outlinewidth\\\":0}}}],\\\"scatterpolargl\\\":[{\\\"type\\\":\\\"scatterpolargl\\\",\\\"marker\\\":{\\\"colorbar\\\":{\\\"ticks\\\":\\\"\\\",\\\"outlinewidth\\\":0}}}]}},\\\"margin\\\":{\\\"l\\\":50,\\\"b\\\":50,\\\"r\\\":50,\\\"t\\\":60},\\\"title\\\":\\\"Error\\\",\\\"yaxis\\\":{\\\"title\\\":{\\\"text\\\":\\\"Error\\\"}}},{\\\"showLink\\\":false,\\\"editable\\\":false,\\\"responsive\\\":true,\\\"staticPlot\\\":false,\\\"scrollZoom\\\":true}); gd.on(\\\"plotly_hover\\\",(function (data){var filtered_data=WebIO.PlotlyCommands.filterEventData(gd,data,\\\"hover\\\"); return !(filtered_data.isnil) ? (WebIO.setval({\\\"name\\\":\\\"hover\\\",\\\"scope\\\":\\\"5393694900864268868\\\",\\\"id\\\":\\\"498801151715793782\\\",\\\"type\\\":\\\"observable\\\"},filtered_data.out)) : undefined})); gd.on(\\\"plotly_unhover\\\",(function (){return WebIO.setval({\\\"name\\\":\\\"hover\\\",\\\"scope\\\":\\\"5393694900864268868\\\",\\\"id\\\":\\\"498801151715793782\\\",\\\"type\\\":\\\"observable\\\"},{})})); gd.on(\\\"plotly_selected\\\",(function (data){var filtered_data=WebIO.PlotlyCommands.filterEventData(gd,data,\\\"selected\\\"); return !(filtered_data.isnil) ? (WebIO.setval({\\\"name\\\":\\\"selected\\\",\\\"scope\\\":\\\"5393694900864268868\\\",\\\"id\\\":\\\"9526514630460252196\\\",\\\"type\\\":\\\"observable\\\"},filtered_data.out)) : undefined})); gd.on(\\\"plotly_deselect\\\",(function (){return WebIO.setval({\\\"name\\\":\\\"selected\\\",\\\"scope\\\":\\\"5393694900864268868\\\",\\\"id\\\":\\\"9526514630460252196\\\",\\\"type\\\":\\\"observable\\\"},{})})); gd.on(\\\"plotly_relayout\\\",(function (data){var filtered_data=WebIO.PlotlyCommands.filterEventData(gd,data,\\\"relayout\\\"); return !(filtered_data.isnil) ? (WebIO.setval({\\\"name\\\":\\\"relayout\\\",\\\"scope\\\":\\\"5393694900864268868\\\",\\\"id\\\":\\\"2546547233330434550\\\",\\\"type\\\":\\\"observable\\\"},filtered_data.out)) : undefined})); return gd.on(\\\"plotly_click\\\",(function (data){var filtered_data=WebIO.PlotlyCommands.filterEventData(gd,data,\\\"click\\\"); return !(filtered_data.isnil) ? (WebIO.setval({\\\"name\\\":\\\"click\\\",\\\"scope\\\":\\\"5393694900864268868\\\",\\\"id\\\":\\\"14320244353936864717\\\",\\\"type\\\":\\\"observable\\\"},filtered_data.out)) : undefined}))}));\\n    (WebIO.importBlock({\\\"data\\\":[{\\\"name\\\":\\\"Plotly\\\",\\\"type\\\":\\\"js\\\",\\\"url\\\":\\\"\\/assetserver\\/829791e6ff21fc5c4b60e5df299f439365241070-plotly.min.js\\\"},{\\\"name\\\":null,\\\"type\\\":\\\"js\\\",\\\"url\\\":\\\"\\/assetserver\\/823f3c894aa43f38c72113b9d92345d26ad2b09b-plotly_webio.bundle.js\\\"}],\\\"type\\\":\\\"async_block\\\"})).then((imports) => handler.apply(this, imports));\\n}\\n\"],\"observables\":{\"_toImage\":{\"sync\":false,\"id\":\"11441759336696512451\",\"value\":{}},\"hover\":{\"sync\":false,\"id\":\"498801151715793782\",\"value\":{}},\"selected\":{\"sync\":false,\"id\":\"9526514630460252196\",\"value\":{}},\"__gd_contents\":{\"sync\":false,\"id\":\"6420280487535591595\",\"value\":{}},\"click\":{\"sync\":false,\"id\":\"14320244353936864717\",\"value\":{}},\"image\":{\"sync\":true,\"id\":\"8262274019698329342\",\"value\":\"\"},\"__get_gd_contents\":{\"sync\":false,\"id\":\"1303681276798734921\",\"value\":\"\"},\"_downloadImage\":{\"sync\":false,\"id\":\"13438687182705063566\",\"value\":{}},\"relayout\":{\"sync\":false,\"id\":\"2546547233330434550\",\"value\":{}},\"_commands\":{\"sync\":false,\"id\":\"16568635023345491446\",\"value\":[]}}},\"children\":[{\"props\":{\"id\":\"plot-9c7e6fe4-19a3-48f3-977c-925d6a4a30a3\"},\"nodeType\":\"DOM\",\"type\":\"node\",\"instanceArgs\":{\"namespace\":\"html\",\"tag\":\"div\"},\"children\":[]}]},\n",
       "        window,\n",
       "    );\n",
       "    })()\n",
       "    </script>\n",
       "</div>\n"
      ],
      "text/plain": [
       "data: [\n",
       "  \"scatter with fields marker, mode, name, type, x, and y\",\n",
       "  \"scatter with fields marker, mode, name, type, x, and y\"\n",
       "]\n",
       "\n",
       "layout: \"layout with fields margin, template, title, xaxis, and yaxis\"\n",
       "\n"
      ]
     },
     "execution_count": 10,
     "metadata": {},
     "output_type": "execute_result"
    }
   ],
   "source": [
    "error1, error2 = abs.(uexact.(x) .- uh3)[:,1],  abs.(uexact.(x) .- uh3DBC)[:,1]\n",
    "\n",
    "plot([scatter(x=x, y=error1, mode=\"markers\", name=\"Robin BC\", marker=attr(size=7, symbol=\"square\")), \n",
    "        scatter(x=x , y=error2 ,mode=\"markers\", name=\"Dirichelt BC\", marker=attr(size=5))],\n",
    "     Layout(title=\"Error\",  xaxis_title=\"x\",  yaxis_title=\"Error\"))"
   ]
  },
  {
   "cell_type": "markdown",
   "id": "f045d88f",
   "metadata": {},
   "source": [
    "## 4.TP  Bar Deflection\n",
    "\n",
    "Consider a beam fix in a wall in both extrems like in the figure. The strcutre of lenght $L$ is hold in a distributed load $P [Kg \\; m^{-1}$ that vary along the $x$ coordinate. Furthermore, supposse that the beam has a rectangular uniform section of width $r$ and depth $s$, inertial moment $J = rs^3/12 [m^4]$ and Young module $E[kgm^{-2}]$.\n",
    "\n",
    "The beam deflection, suposing small displacements, is describe by the 4th order differential equation\n",
    "\n",
    "$$ (EJu''(x))'' = P(x), \\qquad \\qquad u(0)=u(L)=0, \\qquad \\qquad u'(0)=u'(L)=0 $$\n",
    "\n",
    "where the $u=u(x)$ denote the vertical displacement, and the right side are the boundary conditions such that model the fix beam behaviour in both extrems.\n",
    "\n",
    "a. Write the weak formulation corresponding to the boundary value problem $(4)-(5)$\n",
    "\n",
    "b. Prove the existence and uniqueness of the weak solution.\n",
    "\n",
    "To discretize the weak problem we should approximate the space $H_0^2([0,1])$ by a picewise finite dimensional cubic polynomial space\n",
    "\n",
    "$$ \\mathcal{H}_h := \\{ \\phi \\in C^1([0,L]):\\; \\phi\\Big|_{I_i} \\in \\mathbb{P}_{3}(I_i) \\quad i=1,2,...,N; \\\\\n",
    "\\phi(0)= \\phi(1)=0 \\quad \\text{and} \\quad  \\phi_x(0)=\\phi_x(1)=0 \\} $$\n",
    "\n",
    "where $0 <x_0<x_1<\\cdots < x_N =L, \\; I_i = (x_{i},x_{i-1}), \\; h_i=x_i-x_{i-1}, \\; h:=\\text{max}_{i=1,...,N}$ and $\\mathbb{P}_3(I_i)$ denote the set of all the polynomials over $I_i$ of order less or equal to $3$.\n",
    "\n",
    "With the goal to build a base for $\\mathcal{H}_h$, let's asociate a each inner node $x_k,\\; k= 1,...,N-1$ a support $I_k \\cup I_{k+1}$ and two functions $\\zeta_i$ and $\\eta_i$ such that\n",
    "\n",
    "$$ \\zeta_i(x_k) = \\delta_{ik}, \\qquad \\zeta_i'(x_k)=0 \\\\\n",
    "\\eta_i(x_k) = 0, \\qquad \\eta_i'(x_k)=\\delta_{ik} $$\n",
    "\n",
    "c. Use the previous conditions to determine the $\\zeta_i$ and $\\eta_i$ explicit formulas and plot them.\n",
    "\n",
    "d. Write $u_h$ as a linear combination of the base $\\zeta_i$ and $\\eta_i$ where $i=1,...,N-1$.\n",
    "\n",
    "e. Consider the discrete weak formulation. Indicate wich are the unknowns.\n",
    "\n",
    "f. Find the matrix components of the lineal equation system that gives the finite element discretization.\n",
    "\n",
    "g. Solve the lineal equation systems useing for $N=25,\\;50,\\;100$ and $200$ elements. Plot the solution. use the folowwing dates: $EJ =1$, $P(x)=1$, and $L=1$."
   ]
  },
  {
   "cell_type": "markdown",
   "id": "ca48ebb8-595b-4124-9058-aef563ca8cf4",
   "metadata": {
    "tags": []
   },
   "source": [
    "### Solution\n",
    "\n",
    "#### a. \n",
    "Multiplying by a test function $v|v(0)=v(L)= v'(0)=v'(L)=0$ and integrating over $I$ the differential equation\n",
    "\n",
    "\n",
    "$$\\int_0^L v(EJu''''(x)) dx = \\int_0^L v P(x)dx $$\n",
    "\n",
    "using integration by steps twice\n",
    "\n",
    "$$\\int_0^L v(EJu(x))'''' dx =  EJvu'''(x)\\Big|_0^L - EJ\\int_0^L v' u''' =  EJvu'''\\Big|_0^L - v'EJu'' \\Big|_0^L + EJ\\int_0^L v'' u'' dx \\\\\n",
    "\\int_0^L v(EJu(x))'''' dx =EJ\\int_0^L v'' u'' dx $$\n",
    "\n",
    "Replacing this result in the differential equation\n",
    "\n",
    "$$ \\boxed{EJ\\int_0^L v'' u'' = \\int_0^L v P(x)dx} $$\n",
    "\n",
    "This is the weak problem. This equation can be writen as follows\n",
    "\n",
    "$$ a(u,v) = Lv, \\qquad \\forall v\\in H_0^2(0,L)$$\n",
    "\n",
    "where \n",
    "\n",
    "$$a(y,v) = EJ\\int_0^L v'' u''\\\\\n",
    "Lv = \\int_0^L v P(x)dx$$\n",
    "\n",
    "\n",
    "#### b. \n",
    "To prove its uniqueness let's verify the Lax-Milgram hypothesis with $v\\in H$.\n",
    "\n",
    "- **Bilineal Countinuity:**\n",
    "\n",
    "Using Cauchy-Schwartz, and Poincare inequality\n",
    "\n",
    "$$ \n",
    "|a(u,v)| = \\left|\\left| EJ \\int_0^L v'' u''\\right|\\right|   \\leq   EJ \\int_0^L |v''| \\cdot |u''| dx \\leq  EJ ||v''||_{L^2} \\cdot ||u''||_{L^2}\n",
    "$$\n",
    "\n",
    "- **Coercivity:**\n",
    "$$ \n",
    "a(u,u) = EJ\\int_0^L u'' u''dx   \\geq EJ ||u''||_{L^2}^2 \\geq \\frac{1}{C_P^2}  ||u'||_{L^2}^2\n",
    "$$\n",
    "\n",
    "- **Continuity of V in H:**\n",
    "\n",
    "$$\n",
    "|Lv| = \\left| \\int_0^L v P(x)dx \\right| \\leq ||P(x)||_{L^2} ||v||_{L^2} \\leq C_P ||P(x)||_{L^2} ||v'||_{L^2}\\\\\n",
    "\\Rightarrow \\boxed{ \\quad ||L||_{H} \\leq C_P   ||P(x)||_{L^2} \\leq C_P   ||P(x)||_{L^\\infty}}\n",
    "$$\n",
    "\n",
    "\n",
    "#### c. \n",
    "To construnct these polynomials, such that satisfyes the previous conditions, consider the [Newton's polynomials](https://pythonnumericalmethods.berkeley.edu/notebooks/chapter17.05-Newtons-Polynomial-Interpolation.html) of order 3 on the soport $I_i =[x_{i-1}, x_i]$ with the following boundary conditions\n",
    "\n",
    "<img src=\"support.png\" width=\"500\" class=\"center\"/>\n",
    "\n",
    "\n",
    "Boundary conditions\n",
    "\n",
    "$$\n",
    "\\zeta_i(x_{i-1})=0, \\; \\zeta_i(x_{i})=1, \\qquad \\zeta_i'(x_{i-1})=0, \\;\\zeta_i'(x_{i})=0 \\\\\n",
    "\\eta_i(x_{i-1})=0, \\; \\eta_i(x_{i})=0, \\qquad \\eta_i'(x_{i-1})=0, \\;\\eta_i'(x_{i})=1 $$\n",
    "$$\n",
    "\n",
    "$$\n",
    "\\zeta(x) = a_0 + a_1 (x-x_{i-1}) + a_2 (x-x_{i-1})^2 + a_3 (x-x_{i-1})^3\\\\\n",
    "\\eta(x) = b_0 + b_1 (x-x_{i}) + b_2 (x-x_{i})^2 + b_3 (x-x_{i})^3\\\\\n",
    "\\zeta'(x) = a_1+ 2a_2 (x-x_{i-1}) + 3a_3 (x-x_{i-1})^2\\\\\n",
    "\\eta'(x) = b_1 + 2b_2 (x-x_{i}) + 3b_3 (x-x_{i})^2\\\\\n",
    "$$\n",
    "\n",
    "\n",
    "boundary conditions at $x_{i-1}$\n",
    "\n",
    "$$\n",
    "\\zeta(x_{i-i}) = a_0  = 0, \\qquad \\Rightarrow \\qquad \\boxed{a_0=0}\\\\\n",
    "\\eta(x_{i-i}) =  b_0 - b_1 h_{i} + b_2 h_{i}^2 - b_3 h_{i}^3 = 0 \\\\\n",
    "\\zeta'(x_{i-i}) = a_1 = 0 , \\qquad \\Rightarrow \\qquad \\boxed{a_1=0}\\\\\n",
    "\\eta'(x_{i-i}) = b_1 - 2b_2 h_{i} + 3b_3 h_{i}^2 = 0 \\\\\n",
    "$$\n",
    "\n",
    "boundary conditions at $x_{i}$\n",
    "\n",
    "\n",
    "$$\n",
    "\\zeta(x_{i}) = a_0 + a_1 h_{i} + a_2h_{i}^2 + a_3 h_{i}^3 = 1\\\\\n",
    "\\eta(x_{i}) = b_0  = 0, , \\qquad \\Rightarrow \\qquad \\boxed{b_0  = 0} \\\\\n",
    "\\zeta'(x_{i}) = a_1+ 2a_2 h_{i} + 3a_3 h_i^2 = 0 \\\\\n",
    "\\eta'(x_{i}) = b_1  = 1 , \\qquad \\Rightarrow \\qquad \\boxed{b_1  = 1}\\\\\n",
    "$$\n",
    "\n",
    "that give a 2x2 system for each variable\n",
    "\n",
    "$$\n",
    "b_2 h_{i}^2   - b_3 h_{i}^3  =  h_{i}, \\qquad \\Rightarrow  \\qquad 3b_2 h_{i}- 3b_3 h_{i}^2  =  3\\\\\n",
    "-2b_2 h_{i}  + 3b_3 h_{i}^2 = -1 \\\\\n",
    "a_2h_{i}^2 + a_3 h_{i}^3  =  1, \\qquad \\Rightarrow  \\qquad -3a_2h_{i}^2 -3 a_3 h_{i}^3  =  -3\\\\\n",
    "2a_2 h_{i}  + 3a_3 h_i^2   =  0 , \\qquad \\Rightarrow  \\qquad   2a_2 h_{i}^2  + 3a_3 h_i^3 = 0\n",
    "$$\n",
    "\n",
    "with solution\n",
    "\n",
    "$$\n",
    "b_2 h_{i}  =  2, \\qquad \\Rightarrow  \\qquad \\boxed{b_2 =  \\frac{2}{h_{i}}}\\\\\n",
    "-a_2h_{i}^2   =  -3 , \\qquad \\Rightarrow  \\qquad \\boxed{a_2 =  \\frac{3}{h_{i}^2}} \\\\\n",
    "b_3  = \\frac{1}{h_{i^2}}(b_2 h_i -1) , \\qquad \\Rightarrow  \\qquad \\boxed{ b_3  = \\frac{1}{h_{i}^2} }\\\\\n",
    "a_3  = - \\frac{2}{3h_i}a_2 , \\qquad \\Rightarrow  \\qquad \\boxed{a_3  = - \\frac{2}{h_i^3} }\n",
    "$$\n",
    "\n",
    "Then, the functions are\n",
    "\n",
    "$$\n",
    "\\zeta(x) = a_2 (x-x_{i-1})^2 + a_3 (x-x_{i-1})^3 = \\frac{3}{h_i^2} \\left( (x-x_{i-1})^2  -\\frac{2}{3h_i} (x-x_{i-1})^3\\right)\\\\\n",
    "\\eta(x) = (x-x_{i}) + \\frac{2}{h_i} (x-x_{i})^2 + \\frac{1}{h_i^2} (x-x_{i})^3 \\\\\n",
    "$$\n",
    "\n",
    "Finally, factorizing\n",
    "\n",
    "$$\n",
    "\\boxed{\\zeta(x) = \\frac{(x-x_{i-1})^2 }{h_i^3}  \\left( 3 -2(x-x_{i-1})\\right)\\\\\n",
    "\\zeta'(x) =  2a_2 (x-x_{i-1}) -2 a_2 (x-x_{i-1})^2 = \\frac{6(x-x_{i-1})}{h_i^2} (1-(x-x_{i-1}))\\\\\n",
    "\\eta(x) = \\frac{(x-x_{i})}{h_i^2}(x-x_{i})\\left(1 + 2h_i (x-x_{i}) + (x-x_{i})^2 \\right)\\\\\n",
    "\\eta'(x) = 1 + \\frac{4}{h_i} (x-x_{i}) + \\frac{3}{h_i^2} (x-x_{i})^2 = \\frac{1}{h_i^2} \\left( h_i^2 +4h_i(x-x_i) + 3(x-x_i)^2\\right)}\n",
    "$$\n",
    "\n",
    "taking $x_{i-1}=0$ and $x_i=1$\n",
    "\n",
    "$$\n",
    "\\zeta(x) = x^2  \\left(3-2x\\right)\\\\\n",
    "\\zeta'(x) =  6x (1-x))\\\\\n",
    "\\eta(x) =  (x-1)x^2\\\\\n",
    "\\eta'(x) = 3x^2-2x \n",
    "$$"
   ]
  },
  {
   "cell_type": "code",
   "execution_count": 34,
   "id": "969d108d",
   "metadata": {
    "scrolled": false
   },
   "outputs": [
    {
     "data": {
      "application/vnd.plotly.v1+json": {
       "config": {
        "editable": false,
        "responsive": true,
        "scrollZoom": true,
        "showLink": false,
        "staticPlot": false
       },
       "data": [
        {
         "marker": {
          "color": "DarkBlue"
         },
         "name": "",
         "showlegend": false,
         "type": "scatter",
         "x": [
          -1,
          -0.99,
          -0.98,
          -0.97,
          -0.96,
          -0.95,
          -0.94,
          -0.93,
          -0.92,
          -0.91,
          -0.9,
          -0.89,
          -0.88,
          -0.87,
          -0.86,
          -0.85,
          -0.84,
          -0.83,
          -0.82,
          -0.81,
          -0.8,
          -0.79,
          -0.78,
          -0.77,
          -0.76,
          -0.75,
          -0.74,
          -0.73,
          -0.72,
          -0.71,
          -0.7,
          -0.69,
          -0.68,
          -0.67,
          -0.66,
          -0.65,
          -0.64,
          -0.63,
          -0.62,
          -0.61,
          -0.6,
          -0.59,
          -0.58,
          -0.57,
          -0.56,
          -0.55,
          -0.54,
          -0.53,
          -0.52,
          -0.51,
          -0.5,
          -0.49,
          -0.48,
          -0.47,
          -0.46,
          -0.45,
          -0.44,
          -0.43,
          -0.42,
          -0.41,
          -0.4,
          -0.39,
          -0.38,
          -0.37,
          -0.36,
          -0.35,
          -0.34,
          -0.33,
          -0.32,
          -0.31,
          -0.3,
          -0.29,
          -0.28,
          -0.27,
          -0.26,
          -0.25,
          -0.24,
          -0.23,
          -0.22,
          -0.21,
          -0.2,
          -0.19,
          -0.18,
          -0.17,
          -0.16,
          -0.15,
          -0.14,
          -0.13,
          -0.12,
          -0.11,
          -0.1,
          -0.09,
          -0.08,
          -0.07,
          -0.06,
          -0.05,
          -0.04,
          -0.03,
          -0.02,
          -0.01,
          0,
          0.01,
          0.02,
          0.03,
          0.04,
          0.05,
          0.06,
          0.07,
          0.08,
          0.09,
          0.1,
          0.11,
          0.12,
          0.13,
          0.14,
          0.15,
          0.16,
          0.17,
          0.18,
          0.19,
          0.2,
          0.21,
          0.22,
          0.23,
          0.24,
          0.25,
          0.26,
          0.27,
          0.28,
          0.29,
          0.3,
          0.31,
          0.32,
          0.33,
          0.34,
          0.35,
          0.36,
          0.37,
          0.38,
          0.39,
          0.4,
          0.41,
          0.42,
          0.43,
          0.44,
          0.45,
          0.46,
          0.47,
          0.48,
          0.49,
          0.5,
          0.51,
          0.52,
          0.53,
          0.54,
          0.55,
          0.56,
          0.57,
          0.58,
          0.59,
          0.6,
          0.61,
          0.62,
          0.63,
          0.64,
          0.65,
          0.66,
          0.67,
          0.68,
          0.69,
          0.7,
          0.71,
          0.72,
          0.73,
          0.74,
          0.75,
          0.76,
          0.77,
          0.78,
          0.79,
          0.8,
          0.81,
          0.82,
          0.83,
          0.84,
          0.85,
          0.86,
          0.87,
          0.88,
          0.89,
          0.9,
          0.91,
          0.92,
          0.93,
          0.94,
          0.95,
          0.96,
          0.97,
          0.98,
          0.99,
          1,
          1.01,
          1.02,
          1.03,
          1.04,
          1.05,
          1.06,
          1.07,
          1.08,
          1.09,
          1.1,
          1.11,
          1.12,
          1.13,
          1.14,
          1.15,
          1.16,
          1.17,
          1.18,
          1.19,
          1.2,
          1.21,
          1.22,
          1.23,
          1.24,
          1.25,
          1.26,
          1.27,
          1.28,
          1.29,
          1.3,
          1.31,
          1.32,
          1.33,
          1.34,
          1.35,
          1.36,
          1.37,
          1.38,
          1.39,
          1.4,
          1.41,
          1.42,
          1.43,
          1.44,
          1.45,
          1.46,
          1.47,
          1.48,
          1.49,
          1.5,
          1.51,
          1.52,
          1.53,
          1.54,
          1.55,
          1.56,
          1.57,
          1.58,
          1.59,
          1.6,
          1.61,
          1.62,
          1.63,
          1.64,
          1.65,
          1.66,
          1.67,
          1.68,
          1.69,
          1.7,
          1.71,
          1.72,
          1.73,
          1.74,
          1.75,
          1.76,
          1.77,
          1.78,
          1.79,
          1.8
         ],
         "xaxis": "x1",
         "y": [
          5,
          4.880898,
          4.763584,
          4.648046,
          4.534272,
          4.42225,
          4.311967999999999,
          4.203414,
          4.096576,
          3.9914420000000006,
          3.888,
          3.7862380000000004,
          3.6861439999999996,
          3.5877060000000003,
          3.4909119999999993,
          3.3957499999999996,
          3.3022079999999994,
          3.210274,
          3.119935999999999,
          3.0311820000000007,
          2.9440000000000004,
          2.8583780000000005,
          2.774304,
          2.691766,
          2.6107519999999997,
          2.53125,
          2.4532480000000003,
          2.3767339999999995,
          2.301696,
          2.228122,
          2.1559999999999997,
          2.0853179999999996,
          2.0160640000000005,
          1.9482260000000002,
          1.8817920000000004,
          1.81675,
          1.7530880000000002,
          1.6907940000000001,
          1.6298560000000002,
          1.5702619999999998,
          1.512,
          1.4550579999999997,
          1.399424,
          1.3450859999999998,
          1.2920320000000003,
          1.24025,
          1.1897280000000001,
          1.140454,
          1.092416,
          1.045602,
          1,
          0.955598,
          0.912384,
          0.870346,
          0.829472,
          0.7897500000000001,
          0.751168,
          0.7137139999999998,
          0.6773759999999999,
          0.6421419999999999,
          0.6080000000000001,
          0.5749380000000001,
          0.542944,
          0.512006,
          0.482112,
          0.45325,
          0.4254080000000001,
          0.39857400000000004,
          0.372736,
          0.347882,
          0.324,
          0.301078,
          0.279104,
          0.258066,
          0.23795200000000002,
          0.21875,
          0.200448,
          0.183034,
          0.166496,
          0.15082199999999998,
          0.136,
          0.122018,
          0.10886399999999999,
          0.09652600000000001,
          0.084992,
          0.07425,
          0.06428800000000001,
          0.055094000000000004,
          0.046656,
          0.038962000000000004,
          0.03200000000000001,
          0.025758,
          0.020224000000000002,
          0.015386000000000002,
          0.011232,
          0.007750000000000002,
          0.004928,
          0.002754,
          0.001216,
          0.000302,
          0,
          0.00029800000000000003,
          0.001184,
          0.002646,
          0.004672,
          0.007250000000000001,
          0.010367999999999999,
          0.014014000000000002,
          0.018176,
          0.022841999999999998,
          0.028000000000000004,
          0.033637999999999994,
          0.039743999999999995,
          0.04630600000000001,
          0.05331200000000001,
          0.06075,
          0.068608,
          0.07687400000000003,
          0.085536,
          0.094582,
          0.10400000000000002,
          0.11377799999999999,
          0.123904,
          0.134366,
          0.145152,
          0.15625,
          0.16764800000000002,
          0.17933400000000002,
          0.19129600000000002,
          0.20352199999999998,
          0.216,
          0.228718,
          0.241664,
          0.254826,
          0.26819200000000004,
          0.28174999999999994,
          0.295488,
          0.30939399999999995,
          0.323456,
          0.3376620000000001,
          0.3520000000000001,
          0.36645799999999995,
          0.381024,
          0.395686,
          0.410432,
          0.4252500000000001,
          0.440128,
          0.45505399999999996,
          0.470016,
          0.485002,
          0.5,
          0.514998,
          0.529984,
          0.544946,
          0.559872,
          0.5747500000000001,
          0.5895680000000001,
          0.604314,
          0.618976,
          0.6335419999999999,
          0.648,
          0.662338,
          0.676544,
          0.690606,
          0.704512,
          0.71825,
          0.731808,
          0.7451740000000001,
          0.7583360000000001,
          0.7712819999999999,
          0.7839999999999999,
          0.796478,
          0.808704,
          0.8206659999999999,
          0.832352,
          0.84375,
          0.8548479999999999,
          0.8656339999999999,
          0.8760960000000001,
          0.8862220000000001,
          0.8960000000000001,
          0.9054180000000001,
          0.9144639999999999,
          0.923126,
          0.9313919999999999,
          0.9392499999999999,
          0.946688,
          0.953694,
          0.960256,
          0.966362,
          0.972,
          0.977158,
          0.981824,
          0.985986,
          0.9896320000000001,
          0.99275,
          0.995328,
          0.997354,
          0.9988159999999999,
          0.999702,
          1,
          0.999698,
          0.998784,
          0.9972459999999999,
          0.9950720000000002,
          0.9922500000000001,
          0.9887680000000001,
          0.984614,
          0.9797760000000001,
          0.974242,
          0.9680000000000002,
          0.9610380000000002,
          0.9533440000000002,
          0.9449059999999998,
          0.9357119999999999,
          0.9257499999999997,
          0.915008,
          0.9034739999999999,
          0.8911359999999999,
          0.8779819999999999,
          0.864,
          0.8491779999999999,
          0.833504,
          0.816966,
          0.799552,
          0.78125,
          0.7620480000000001,
          0.741934,
          0.7208960000000001,
          0.698922,
          0.6760000000000002,
          0.6521180000000001,
          0.627264,
          0.6014260000000001,
          0.5745920000000001,
          0.5467500000000001,
          0.5178880000000001,
          0.4879940000000001,
          0.4570559999999999,
          0.42506199999999994,
          0.39199999999999996,
          0.35785799999999995,
          0.322624,
          0.286286,
          0.24883199999999997,
          0.21025000000000002,
          0.17052799999999999,
          0.129654,
          0.087616,
          0.044402,
          0,
          -0.045602000000000004,
          -0.092416,
          -0.140454,
          -0.189728,
          -0.24025000000000005,
          -0.292032,
          -0.34508600000000006,
          -0.39942400000000006,
          -0.455058,
          -0.5120000000000001,
          -0.570262,
          -0.6298560000000001,
          -0.690794,
          -0.753088,
          -0.8167499999999999,
          -0.8817919999999999,
          -0.948226,
          -1.0160639999999999,
          -1.0853179999999998,
          -1.156,
          -1.228122,
          -1.301696,
          -1.3767340000000001,
          -1.4532479999999999,
          -1.53125,
          -1.610752,
          -1.6917660000000003,
          -1.7743040000000003,
          -1.8583779999999999,
          -1.944
         ],
         "yaxis": "y1"
        },
        {
         "marker": {
          "color": "DarkRed"
         },
         "name": "",
         "showlegend": false,
         "type": "scatter",
         "x": [
          -1,
          -0.99,
          -0.98,
          -0.97,
          -0.96,
          -0.95,
          -0.94,
          -0.93,
          -0.92,
          -0.91,
          -0.9,
          -0.89,
          -0.88,
          -0.87,
          -0.86,
          -0.85,
          -0.84,
          -0.83,
          -0.82,
          -0.81,
          -0.8,
          -0.79,
          -0.78,
          -0.77,
          -0.76,
          -0.75,
          -0.74,
          -0.73,
          -0.72,
          -0.71,
          -0.7,
          -0.69,
          -0.68,
          -0.67,
          -0.66,
          -0.65,
          -0.64,
          -0.63,
          -0.62,
          -0.61,
          -0.6,
          -0.59,
          -0.58,
          -0.57,
          -0.56,
          -0.55,
          -0.54,
          -0.53,
          -0.52,
          -0.51,
          -0.5,
          -0.49,
          -0.48,
          -0.47,
          -0.46,
          -0.45,
          -0.44,
          -0.43,
          -0.42,
          -0.41,
          -0.4,
          -0.39,
          -0.38,
          -0.37,
          -0.36,
          -0.35,
          -0.34,
          -0.33,
          -0.32,
          -0.31,
          -0.3,
          -0.29,
          -0.28,
          -0.27,
          -0.26,
          -0.25,
          -0.24,
          -0.23,
          -0.22,
          -0.21,
          -0.2,
          -0.19,
          -0.18,
          -0.17,
          -0.16,
          -0.15,
          -0.14,
          -0.13,
          -0.12,
          -0.11,
          -0.1,
          -0.09,
          -0.08,
          -0.07,
          -0.06,
          -0.05,
          -0.04,
          -0.03,
          -0.02,
          -0.01,
          0,
          0.01,
          0.02,
          0.03,
          0.04,
          0.05,
          0.06,
          0.07,
          0.08,
          0.09,
          0.1,
          0.11,
          0.12,
          0.13,
          0.14,
          0.15,
          0.16,
          0.17,
          0.18,
          0.19,
          0.2,
          0.21,
          0.22,
          0.23,
          0.24,
          0.25,
          0.26,
          0.27,
          0.28,
          0.29,
          0.3,
          0.31,
          0.32,
          0.33,
          0.34,
          0.35,
          0.36,
          0.37,
          0.38,
          0.39,
          0.4,
          0.41,
          0.42,
          0.43,
          0.44,
          0.45,
          0.46,
          0.47,
          0.48,
          0.49,
          0.5,
          0.51,
          0.52,
          0.53,
          0.54,
          0.55,
          0.56,
          0.57,
          0.58,
          0.59,
          0.6,
          0.61,
          0.62,
          0.63,
          0.64,
          0.65,
          0.66,
          0.67,
          0.68,
          0.69,
          0.7,
          0.71,
          0.72,
          0.73,
          0.74,
          0.75,
          0.76,
          0.77,
          0.78,
          0.79,
          0.8,
          0.81,
          0.82,
          0.83,
          0.84,
          0.85,
          0.86,
          0.87,
          0.88,
          0.89,
          0.9,
          0.91,
          0.92,
          0.93,
          0.94,
          0.95,
          0.96,
          0.97,
          0.98,
          0.99,
          1,
          1.01,
          1.02,
          1.03,
          1.04,
          1.05,
          1.06,
          1.07,
          1.08,
          1.09,
          1.1,
          1.11,
          1.12,
          1.13,
          1.14,
          1.15,
          1.16,
          1.17,
          1.18,
          1.19,
          1.2,
          1.21,
          1.22,
          1.23,
          1.24,
          1.25,
          1.26,
          1.27,
          1.28,
          1.29,
          1.3,
          1.31,
          1.32,
          1.33,
          1.34,
          1.35,
          1.36,
          1.37,
          1.38,
          1.39,
          1.4,
          1.41,
          1.42,
          1.43,
          1.44,
          1.45,
          1.46,
          1.47,
          1.48,
          1.49,
          1.5,
          1.51,
          1.52,
          1.53,
          1.54,
          1.55,
          1.56,
          1.57,
          1.58,
          1.59,
          1.6,
          1.61,
          1.62,
          1.63,
          1.64,
          1.65,
          1.66,
          1.67,
          1.68,
          1.69,
          1.7,
          1.71,
          1.72,
          1.73,
          1.74,
          1.75,
          1.76,
          1.77,
          1.78,
          1.79,
          1.8
         ],
         "xaxis": "x1",
         "y": [
          -2,
          -1.950399,
          -1.9015919999999997,
          -1.853573,
          -1.806336,
          -1.7598749999999999,
          -1.714184,
          -1.6692570000000002,
          -1.625088,
          -1.581671,
          -1.539,
          -1.497069,
          -1.4558719999999998,
          -1.4154030000000002,
          -1.375656,
          -1.336625,
          -1.298304,
          -1.260687,
          -1.2237679999999997,
          -1.1875410000000002,
          -1.1520000000000004,
          -1.117139,
          -1.0829520000000001,
          -1.049433,
          -1.016576,
          -0.984375,
          -0.952824,
          -0.9219169999999999,
          -0.8916479999999999,
          -0.862011,
          -0.8329999999999999,
          -0.8046089999999998,
          -0.7768320000000001,
          -0.7496630000000001,
          -0.7230960000000001,
          -0.697125,
          -0.671744,
          -0.646947,
          -0.6227280000000001,
          -0.599081,
          -0.576,
          -0.5534789999999999,
          -0.531512,
          -0.510093,
          -0.4892160000000001,
          -0.4688750000000001,
          -0.4490640000000001,
          -0.4297770000000001,
          -0.41100800000000004,
          -0.392751,
          -0.375,
          -0.357749,
          -0.34099199999999996,
          -0.324723,
          -0.308936,
          -0.293625,
          -0.278784,
          -0.26440699999999995,
          -0.25048799999999993,
          -0.23702099999999995,
          -0.22400000000000003,
          -0.211419,
          -0.19927199999999998,
          -0.187553,
          -0.176256,
          -0.165375,
          -0.15490400000000004,
          -0.14483700000000002,
          -0.135168,
          -0.125891,
          -0.11699999999999999,
          -0.108489,
          -0.10035200000000001,
          -0.09258300000000001,
          -0.08517600000000002,
          -0.078125,
          -0.071424,
          -0.065067,
          -0.059047999999999996,
          -0.05336099999999999,
          -0.04800000000000001,
          -0.042959,
          -0.038231999999999995,
          -0.033813,
          -0.029696,
          -0.025875,
          -0.022344000000000003,
          -0.019097,
          -0.016128,
          -0.013431,
          -0.011000000000000003,
          -0.008829,
          -0.006912000000000001,
          -0.005243000000000001,
          -0.003816,
          -0.0026250000000000006,
          -0.0016640000000000001,
          -0.000927,
          -0.00040800000000000005,
          -0.000101,
          0,
          -9.900000000000001e-05,
          -0.000392,
          -0.000873,
          -0.001536,
          -0.0023750000000000004,
          -0.003384,
          -0.004557000000000001,
          -0.005888000000000001,
          -0.007371,
          -0.009000000000000003,
          -0.010768999999999999,
          -0.012672,
          -0.014703,
          -0.016856000000000003,
          -0.019125,
          -0.021504,
          -0.023987000000000005,
          -0.026567999999999998,
          -0.029241000000000003,
          -0.03200000000000001,
          -0.034838999999999995,
          -0.037752,
          -0.040733000000000005,
          -0.043776,
          -0.046875,
          -0.050024000000000006,
          -0.053217,
          -0.056448000000000005,
          -0.05971099999999999,
          -0.063,
          -0.06630899999999999,
          -0.06963200000000001,
          -0.07296300000000001,
          -0.07629600000000002,
          -0.07962499999999999,
          -0.082944,
          -0.08624699999999999,
          -0.089528,
          -0.092781,
          -0.09600000000000002,
          -0.09917899999999998,
          -0.10231199999999997,
          -0.10539299999999999,
          -0.10841600000000001,
          -0.11137500000000002,
          -0.11426400000000002,
          -0.117077,
          -0.119808,
          -0.12245099999999999,
          -0.125,
          -0.127449,
          -0.12979200000000002,
          -0.132023,
          -0.134136,
          -0.13612500000000002,
          -0.13798400000000002,
          -0.13970699999999997,
          -0.141288,
          -0.142721,
          -0.144,
          -0.145119,
          -0.146072,
          -0.146853,
          -0.147456,
          -0.147875,
          -0.148104,
          -0.14813700000000002,
          -0.14796800000000004,
          -0.14759099999999997,
          -0.14699999999999996,
          -0.14618899999999999,
          -0.145152,
          -0.14388299999999998,
          -0.142376,
          -0.140625,
          -0.138624,
          -0.136367,
          -0.13384800000000002,
          -0.131061,
          -0.12800000000000003,
          -0.12465900000000002,
          -0.12103199999999997,
          -0.117113,
          -0.11289599999999998,
          -0.10837499999999999,
          -0.103544,
          -0.09839700000000001,
          -0.092928,
          -0.087131,
          -0.08100000000000002,
          -0.074529,
          -0.06771200000000001,
          -0.060543000000000013,
          -0.053015999999999994,
          -0.045125,
          -0.036864,
          -0.028227,
          -0.019208,
          -0.009801,
          0,
          0.010201,
          0.020808,
          0.031826999999999994,
          0.043264000000000004,
          0.05512500000000001,
          0.067416,
          0.080143,
          0.093312,
          0.10692900000000001,
          0.12100000000000002,
          0.135531,
          0.15052800000000002,
          0.16599699999999998,
          0.181944,
          0.19837499999999997,
          0.215296,
          0.23271299999999998,
          0.25063199999999997,
          0.269059,
          0.288,
          0.307461,
          0.327448,
          0.34796699999999997,
          0.369024,
          0.390625,
          0.41277600000000003,
          0.435483,
          0.45875200000000005,
          0.482589,
          0.507,
          0.5319910000000001,
          0.5575680000000001,
          0.5837370000000001,
          0.6105040000000002,
          0.6378750000000001,
          0.6658560000000001,
          0.6944530000000001,
          0.7236719999999999,
          0.7535189999999999,
          0.7839999999999999,
          0.8151209999999999,
          0.846888,
          0.8793069999999998,
          0.912384,
          0.946125,
          0.980536,
          1.015623,
          1.0513919999999999,
          1.087849,
          1.125,
          1.162851,
          1.201408,
          1.240677,
          1.280664,
          1.3213750000000002,
          1.3628160000000002,
          1.404993,
          1.447912,
          1.491579,
          1.5360000000000003,
          1.5811810000000002,
          1.6271280000000004,
          1.6738469999999999,
          1.7213439999999998,
          1.7696249999999998,
          1.8186959999999999,
          1.868563,
          1.9192319999999998,
          1.9707089999999996,
          2.0229999999999997,
          2.0761109999999996,
          2.1300479999999995,
          2.1848170000000002,
          2.240424,
          2.296875,
          2.354176,
          2.4123330000000003,
          2.471352,
          2.5312390000000002,
          2.5920000000000005
         ],
         "yaxis": "y1"
        },
        {
         "marker": {
          "color": "Violet"
         },
         "mode": "markers",
         "name": "ζ",
         "type": "scatter",
         "x": [
          0,
          0.01,
          0.02,
          0.03,
          0.04,
          0.05,
          0.06,
          0.07,
          0.08,
          0.09,
          0.1,
          0.11,
          0.12,
          0.13,
          0.14,
          0.15,
          0.16,
          0.17,
          0.18,
          0.19,
          0.2,
          0.21,
          0.22,
          0.23,
          0.24,
          0.25,
          0.26,
          0.27,
          0.28,
          0.29,
          0.3,
          0.31,
          0.32,
          0.33,
          0.34,
          0.35,
          0.36,
          0.37,
          0.38,
          0.39,
          0.4,
          0.41,
          0.42,
          0.43,
          0.44,
          0.45,
          0.46,
          0.47,
          0.48,
          0.49,
          0.5,
          0.51,
          0.52,
          0.53,
          0.54,
          0.55,
          0.56,
          0.57,
          0.58,
          0.59,
          0.6,
          0.61,
          0.62,
          0.63,
          0.64,
          0.65,
          0.66,
          0.67,
          0.68,
          0.69,
          0.7,
          0.71,
          0.72,
          0.73,
          0.74,
          0.75,
          0.76,
          0.77,
          0.78,
          0.79,
          0.8,
          0.81,
          0.82,
          0.83,
          0.84,
          0.85,
          0.86,
          0.87,
          0.88,
          0.89,
          0.9,
          0.91,
          0.92,
          0.93,
          0.94,
          0.95,
          0.96,
          0.97,
          0.98,
          0.99,
          1
         ],
         "xaxis": "x1",
         "y": [
          0,
          0.00029800000000000003,
          0.001184,
          0.002646,
          0.004672,
          0.007250000000000001,
          0.010367999999999999,
          0.014014000000000002,
          0.018176,
          0.022841999999999998,
          0.028000000000000004,
          0.033637999999999994,
          0.039743999999999995,
          0.04630600000000001,
          0.05331200000000001,
          0.06075,
          0.068608,
          0.07687400000000003,
          0.085536,
          0.094582,
          0.10400000000000002,
          0.11377799999999999,
          0.123904,
          0.134366,
          0.145152,
          0.15625,
          0.16764800000000002,
          0.17933400000000002,
          0.19129600000000002,
          0.20352199999999998,
          0.216,
          0.228718,
          0.241664,
          0.254826,
          0.26819200000000004,
          0.28174999999999994,
          0.295488,
          0.30939399999999995,
          0.323456,
          0.3376620000000001,
          0.3520000000000001,
          0.36645799999999995,
          0.381024,
          0.395686,
          0.410432,
          0.4252500000000001,
          0.440128,
          0.45505399999999996,
          0.470016,
          0.485002,
          0.5,
          0.514998,
          0.529984,
          0.544946,
          0.559872,
          0.5747500000000001,
          0.5895680000000001,
          0.604314,
          0.618976,
          0.6335419999999999,
          0.648,
          0.662338,
          0.676544,
          0.690606,
          0.704512,
          0.71825,
          0.731808,
          0.7451740000000001,
          0.7583360000000001,
          0.7712819999999999,
          0.7839999999999999,
          0.796478,
          0.808704,
          0.8206659999999999,
          0.832352,
          0.84375,
          0.8548479999999999,
          0.8656339999999999,
          0.8760960000000001,
          0.8862220000000001,
          0.8960000000000001,
          0.9054180000000001,
          0.9144639999999999,
          0.923126,
          0.9313919999999999,
          0.9392499999999999,
          0.946688,
          0.953694,
          0.960256,
          0.966362,
          0.972,
          0.977158,
          0.981824,
          0.985986,
          0.9896320000000001,
          0.99275,
          0.995328,
          0.997354,
          0.9988159999999999,
          0.999702,
          1
         ],
         "yaxis": "y1"
        },
        {
         "marker": {
          "color": "Red"
         },
         "mode": "markers",
         "name": "η",
         "type": "scatter",
         "x": [
          0,
          0.01,
          0.02,
          0.03,
          0.04,
          0.05,
          0.06,
          0.07,
          0.08,
          0.09,
          0.1,
          0.11,
          0.12,
          0.13,
          0.14,
          0.15,
          0.16,
          0.17,
          0.18,
          0.19,
          0.2,
          0.21,
          0.22,
          0.23,
          0.24,
          0.25,
          0.26,
          0.27,
          0.28,
          0.29,
          0.3,
          0.31,
          0.32,
          0.33,
          0.34,
          0.35,
          0.36,
          0.37,
          0.38,
          0.39,
          0.4,
          0.41,
          0.42,
          0.43,
          0.44,
          0.45,
          0.46,
          0.47,
          0.48,
          0.49,
          0.5,
          0.51,
          0.52,
          0.53,
          0.54,
          0.55,
          0.56,
          0.57,
          0.58,
          0.59,
          0.6,
          0.61,
          0.62,
          0.63,
          0.64,
          0.65,
          0.66,
          0.67,
          0.68,
          0.69,
          0.7,
          0.71,
          0.72,
          0.73,
          0.74,
          0.75,
          0.76,
          0.77,
          0.78,
          0.79,
          0.8,
          0.81,
          0.82,
          0.83,
          0.84,
          0.85,
          0.86,
          0.87,
          0.88,
          0.89,
          0.9,
          0.91,
          0.92,
          0.93,
          0.94,
          0.95,
          0.96,
          0.97,
          0.98,
          0.99,
          1
         ],
         "xaxis": "x1",
         "y": [
          0,
          -9.900000000000001e-05,
          -0.000392,
          -0.000873,
          -0.001536,
          -0.0023750000000000004,
          -0.003384,
          -0.004557000000000001,
          -0.005888000000000001,
          -0.007371,
          -0.009000000000000003,
          -0.010768999999999999,
          -0.012672,
          -0.014703,
          -0.016856000000000003,
          -0.019125,
          -0.021504,
          -0.023987000000000005,
          -0.026567999999999998,
          -0.029241000000000003,
          -0.03200000000000001,
          -0.034838999999999995,
          -0.037752,
          -0.040733000000000005,
          -0.043776,
          -0.046875,
          -0.050024000000000006,
          -0.053217,
          -0.056448000000000005,
          -0.05971099999999999,
          -0.063,
          -0.06630899999999999,
          -0.06963200000000001,
          -0.07296300000000001,
          -0.07629600000000002,
          -0.07962499999999999,
          -0.082944,
          -0.08624699999999999,
          -0.089528,
          -0.092781,
          -0.09600000000000002,
          -0.09917899999999998,
          -0.10231199999999997,
          -0.10539299999999999,
          -0.10841600000000001,
          -0.11137500000000002,
          -0.11426400000000002,
          -0.117077,
          -0.119808,
          -0.12245099999999999,
          -0.125,
          -0.127449,
          -0.12979200000000002,
          -0.132023,
          -0.134136,
          -0.13612500000000002,
          -0.13798400000000002,
          -0.13970699999999997,
          -0.141288,
          -0.142721,
          -0.144,
          -0.145119,
          -0.146072,
          -0.146853,
          -0.147456,
          -0.147875,
          -0.148104,
          -0.14813700000000002,
          -0.14796800000000004,
          -0.14759099999999997,
          -0.14699999999999996,
          -0.14618899999999999,
          -0.145152,
          -0.14388299999999998,
          -0.142376,
          -0.140625,
          -0.138624,
          -0.136367,
          -0.13384800000000002,
          -0.131061,
          -0.12800000000000003,
          -0.12465900000000002,
          -0.12103199999999997,
          -0.117113,
          -0.11289599999999998,
          -0.10837499999999999,
          -0.103544,
          -0.09839700000000001,
          -0.092928,
          -0.087131,
          -0.08100000000000002,
          -0.074529,
          -0.06771200000000001,
          -0.060543000000000013,
          -0.053015999999999994,
          -0.045125,
          -0.036864,
          -0.028227,
          -0.019208,
          -0.009801,
          0
         ],
         "yaxis": "y1"
        },
        {
         "marker": {
          "color": "DarkBlue"
         },
         "name": "",
         "showlegend": false,
         "type": "scatter",
         "x": [
          -1,
          -0.99,
          -0.98,
          -0.97,
          -0.96,
          -0.95,
          -0.94,
          -0.93,
          -0.92,
          -0.91,
          -0.9,
          -0.89,
          -0.88,
          -0.87,
          -0.86,
          -0.85,
          -0.84,
          -0.83,
          -0.82,
          -0.81,
          -0.8,
          -0.79,
          -0.78,
          -0.77,
          -0.76,
          -0.75,
          -0.74,
          -0.73,
          -0.72,
          -0.71,
          -0.7,
          -0.69,
          -0.68,
          -0.67,
          -0.66,
          -0.65,
          -0.64,
          -0.63,
          -0.62,
          -0.61,
          -0.6,
          -0.59,
          -0.58,
          -0.57,
          -0.56,
          -0.55,
          -0.54,
          -0.53,
          -0.52,
          -0.51,
          -0.5,
          -0.49,
          -0.48,
          -0.47,
          -0.46,
          -0.45,
          -0.44,
          -0.43,
          -0.42,
          -0.41,
          -0.4,
          -0.39,
          -0.38,
          -0.37,
          -0.36,
          -0.35,
          -0.34,
          -0.33,
          -0.32,
          -0.31,
          -0.3,
          -0.29,
          -0.28,
          -0.27,
          -0.26,
          -0.25,
          -0.24,
          -0.23,
          -0.22,
          -0.21,
          -0.2,
          -0.19,
          -0.18,
          -0.17,
          -0.16,
          -0.15,
          -0.14,
          -0.13,
          -0.12,
          -0.11,
          -0.1,
          -0.09,
          -0.08,
          -0.07,
          -0.06,
          -0.05,
          -0.04,
          -0.03,
          -0.02,
          -0.01,
          0,
          0.01,
          0.02,
          0.03,
          0.04,
          0.05,
          0.06,
          0.07,
          0.08,
          0.09,
          0.1,
          0.11,
          0.12,
          0.13,
          0.14,
          0.15,
          0.16,
          0.17,
          0.18,
          0.19,
          0.2,
          0.21,
          0.22,
          0.23,
          0.24,
          0.25,
          0.26,
          0.27,
          0.28,
          0.29,
          0.3,
          0.31,
          0.32,
          0.33,
          0.34,
          0.35,
          0.36,
          0.37,
          0.38,
          0.39,
          0.4,
          0.41,
          0.42,
          0.43,
          0.44,
          0.45,
          0.46,
          0.47,
          0.48,
          0.49,
          0.5,
          0.51,
          0.52,
          0.53,
          0.54,
          0.55,
          0.56,
          0.57,
          0.58,
          0.59,
          0.6,
          0.61,
          0.62,
          0.63,
          0.64,
          0.65,
          0.66,
          0.67,
          0.68,
          0.69,
          0.7,
          0.71,
          0.72,
          0.73,
          0.74,
          0.75,
          0.76,
          0.77,
          0.78,
          0.79,
          0.8,
          0.81,
          0.82,
          0.83,
          0.84,
          0.85,
          0.86,
          0.87,
          0.88,
          0.89,
          0.9,
          0.91,
          0.92,
          0.93,
          0.94,
          0.95,
          0.96,
          0.97,
          0.98,
          0.99,
          1,
          1.01,
          1.02,
          1.03,
          1.04,
          1.05,
          1.06,
          1.07,
          1.08,
          1.09,
          1.1,
          1.11,
          1.12,
          1.13,
          1.14,
          1.15,
          1.16,
          1.17,
          1.18,
          1.19,
          1.2,
          1.21,
          1.22,
          1.23,
          1.24,
          1.25,
          1.26,
          1.27,
          1.28,
          1.29,
          1.3,
          1.31,
          1.32,
          1.33,
          1.34,
          1.35,
          1.36,
          1.37,
          1.38,
          1.39,
          1.4,
          1.41,
          1.42,
          1.43,
          1.44,
          1.45,
          1.46,
          1.47,
          1.48,
          1.49,
          1.5,
          1.51,
          1.52,
          1.53,
          1.54,
          1.55,
          1.56,
          1.57,
          1.58,
          1.59,
          1.6,
          1.61,
          1.62,
          1.63,
          1.64,
          1.65,
          1.66,
          1.67,
          1.68,
          1.69,
          1.7,
          1.71,
          1.72,
          1.73,
          1.74,
          1.75,
          1.76,
          1.77,
          1.78,
          1.79,
          1.8
         ],
         "xaxis": "x2",
         "y": [
          -12,
          -11.8206,
          -11.6424,
          -11.4654,
          -11.2896,
          -11.115,
          -10.9416,
          -10.7694,
          -10.598399999999998,
          -10.4286,
          -10.26,
          -10.0926,
          -9.9264,
          -9.7614,
          -9.5976,
          -9.435,
          -9.2736,
          -9.1134,
          -8.9544,
          -8.796600000000002,
          -8.64,
          -8.4846,
          -8.3304,
          -8.1774,
          -8.025599999999999,
          -7.875,
          -7.725600000000001,
          -7.5774,
          -7.430400000000001,
          -7.284599999999999,
          -7.14,
          -6.996599999999999,
          -6.8544,
          -6.713399999999999,
          -6.5736,
          -6.435,
          -6.297599999999999,
          -6.1613999999999995,
          -6.026400000000001,
          -5.892600000000001,
          -5.760000000000001,
          -5.6286000000000005,
          -5.4984,
          -5.3694,
          -5.2416,
          -5.115,
          -4.9896,
          -4.8654,
          -4.7424,
          -4.6206000000000005,
          -4.5,
          -4.3806,
          -4.2623999999999995,
          -4.1453999999999995,
          -4.029599999999999,
          -3.915,
          -3.8016,
          -3.6894,
          -3.5784,
          -3.4686,
          -3.36,
          -3.2525999999999997,
          -3.1463999999999994,
          -3.0414000000000003,
          -2.9376,
          -2.8350000000000004,
          -2.7336,
          -2.6334,
          -2.5344,
          -2.4366000000000003,
          -2.3400000000000003,
          -2.2446,
          -2.1504,
          -2.0574000000000003,
          -1.9656,
          -1.875,
          -1.7855999999999999,
          -1.6973999999999998,
          -1.6104,
          -1.5246,
          -1.44,
          -1.3565999999999998,
          -1.2744,
          -1.1934,
          -1.1136,
          -1.035,
          -0.9575999999999999,
          -0.8814,
          -0.8064,
          -0.7326000000000001,
          -0.66,
          -0.5886000000000001,
          -0.5184,
          -0.4494,
          -0.3816,
          -0.315,
          -0.2496,
          -0.1854,
          -0.1224,
          -0.0606,
          0,
          0.059399999999999994,
          0.1176,
          0.17459999999999998,
          0.2304,
          0.285,
          0.3384,
          0.3906,
          0.4416,
          0.49140000000000006,
          0.54,
          0.5874,
          0.6335999999999999,
          0.6786,
          0.7223999999999999,
          0.765,
          0.8063999999999999,
          0.8466,
          0.8856,
          0.9234,
          0.96,
          0.9954000000000001,
          1.0296,
          1.0626,
          1.0944,
          1.125,
          1.1544,
          1.1826,
          1.2096,
          1.2353999999999998,
          1.26,
          1.2833999999999999,
          1.3056,
          1.3266,
          1.3464,
          1.3650000000000002,
          1.3824,
          1.3986,
          1.4136,
          1.4273999999999998,
          1.44,
          1.4513999999999998,
          1.4616,
          1.4706,
          1.4784000000000002,
          1.4850000000000003,
          1.4904,
          1.4946,
          1.4976,
          1.4994,
          1.5,
          1.4994,
          1.4976,
          1.4946,
          1.4904000000000002,
          1.4849999999999999,
          1.4784,
          1.4706,
          1.4616,
          1.4514,
          1.4400000000000002,
          1.4274,
          1.4136000000000002,
          1.3985999999999998,
          1.3823999999999999,
          1.365,
          1.3464,
          1.3266,
          1.3056,
          1.2833999999999999,
          1.26,
          1.2353999999999998,
          1.2096000000000002,
          1.1826,
          1.1544,
          1.125,
          1.0943999999999998,
          1.0626,
          1.0295999999999998,
          0.9954000000000001,
          0.96,
          0.9234000000000001,
          0.8855999999999999,
          0.8466000000000001,
          0.8064,
          0.7649999999999999,
          0.7224,
          0.6786,
          0.6336,
          0.5874,
          0.54,
          0.4914,
          0.4416,
          0.39060000000000006,
          0.3384,
          0.28500000000000003,
          0.2304,
          0.1746,
          0.1176,
          0.05940000000000001,
          0,
          -0.060599999999999994,
          -0.12240000000000001,
          -0.18539999999999998,
          -0.24960000000000002,
          -0.315,
          -0.3816,
          -0.4494,
          -0.5184000000000001,
          -0.5886,
          -0.66,
          -0.7326,
          -0.8063999999999999,
          -0.8814000000000001,
          -0.9576000000000001,
          -1.035,
          -1.1136,
          -1.1934,
          -1.2744,
          -1.3566,
          -1.4400000000000002,
          -1.5246,
          -1.6104,
          -1.6974,
          -1.7856,
          -1.875,
          -1.9656,
          -2.0574000000000003,
          -2.1504000000000003,
          -2.2445999999999997,
          -2.34,
          -2.4366,
          -2.5344,
          -2.6334000000000004,
          -2.7336,
          -2.8349999999999995,
          -2.9375999999999998,
          -3.0414000000000003,
          -3.1464,
          -3.2526,
          -3.3600000000000003,
          -3.4686000000000003,
          -3.5784,
          -3.6894,
          -3.8016,
          -3.9149999999999996,
          -4.0296,
          -4.1453999999999995,
          -4.2624,
          -4.380599999999999,
          -4.5,
          -4.6206000000000005,
          -4.7424,
          -4.8654,
          -4.9896,
          -5.115000000000001,
          -5.2416,
          -5.3694,
          -5.4984,
          -5.6286,
          -5.76,
          -5.8926,
          -6.026400000000001,
          -6.1613999999999995,
          -6.2976,
          -6.4350000000000005,
          -6.573600000000001,
          -6.7134,
          -6.854400000000001,
          -6.9966,
          -7.139999999999999,
          -7.284599999999999,
          -7.4304,
          -7.577400000000001,
          -7.725599999999999,
          -7.875,
          -8.0256,
          -8.1774,
          -8.330400000000001,
          -8.4846,
          -8.64
         ],
         "yaxis": "y2"
        },
        {
         "marker": {
          "color": "DarkRed"
         },
         "name": "",
         "showlegend": false,
         "type": "scatter",
         "x": [
          -1,
          -0.99,
          -0.98,
          -0.97,
          -0.96,
          -0.95,
          -0.94,
          -0.93,
          -0.92,
          -0.91,
          -0.9,
          -0.89,
          -0.88,
          -0.87,
          -0.86,
          -0.85,
          -0.84,
          -0.83,
          -0.82,
          -0.81,
          -0.8,
          -0.79,
          -0.78,
          -0.77,
          -0.76,
          -0.75,
          -0.74,
          -0.73,
          -0.72,
          -0.71,
          -0.7,
          -0.69,
          -0.68,
          -0.67,
          -0.66,
          -0.65,
          -0.64,
          -0.63,
          -0.62,
          -0.61,
          -0.6,
          -0.59,
          -0.58,
          -0.57,
          -0.56,
          -0.55,
          -0.54,
          -0.53,
          -0.52,
          -0.51,
          -0.5,
          -0.49,
          -0.48,
          -0.47,
          -0.46,
          -0.45,
          -0.44,
          -0.43,
          -0.42,
          -0.41,
          -0.4,
          -0.39,
          -0.38,
          -0.37,
          -0.36,
          -0.35,
          -0.34,
          -0.33,
          -0.32,
          -0.31,
          -0.3,
          -0.29,
          -0.28,
          -0.27,
          -0.26,
          -0.25,
          -0.24,
          -0.23,
          -0.22,
          -0.21,
          -0.2,
          -0.19,
          -0.18,
          -0.17,
          -0.16,
          -0.15,
          -0.14,
          -0.13,
          -0.12,
          -0.11,
          -0.1,
          -0.09,
          -0.08,
          -0.07,
          -0.06,
          -0.05,
          -0.04,
          -0.03,
          -0.02,
          -0.01,
          0,
          0.01,
          0.02,
          0.03,
          0.04,
          0.05,
          0.06,
          0.07,
          0.08,
          0.09,
          0.1,
          0.11,
          0.12,
          0.13,
          0.14,
          0.15,
          0.16,
          0.17,
          0.18,
          0.19,
          0.2,
          0.21,
          0.22,
          0.23,
          0.24,
          0.25,
          0.26,
          0.27,
          0.28,
          0.29,
          0.3,
          0.31,
          0.32,
          0.33,
          0.34,
          0.35,
          0.36,
          0.37,
          0.38,
          0.39,
          0.4,
          0.41,
          0.42,
          0.43,
          0.44,
          0.45,
          0.46,
          0.47,
          0.48,
          0.49,
          0.5,
          0.51,
          0.52,
          0.53,
          0.54,
          0.55,
          0.56,
          0.57,
          0.58,
          0.59,
          0.6,
          0.61,
          0.62,
          0.63,
          0.64,
          0.65,
          0.66,
          0.67,
          0.68,
          0.69,
          0.7,
          0.71,
          0.72,
          0.73,
          0.74,
          0.75,
          0.76,
          0.77,
          0.78,
          0.79,
          0.8,
          0.81,
          0.82,
          0.83,
          0.84,
          0.85,
          0.86,
          0.87,
          0.88,
          0.89,
          0.9,
          0.91,
          0.92,
          0.93,
          0.94,
          0.95,
          0.96,
          0.97,
          0.98,
          0.99,
          1,
          1.01,
          1.02,
          1.03,
          1.04,
          1.05,
          1.06,
          1.07,
          1.08,
          1.09,
          1.1,
          1.11,
          1.12,
          1.13,
          1.14,
          1.15,
          1.16,
          1.17,
          1.18,
          1.19,
          1.2,
          1.21,
          1.22,
          1.23,
          1.24,
          1.25,
          1.26,
          1.27,
          1.28,
          1.29,
          1.3,
          1.31,
          1.32,
          1.33,
          1.34,
          1.35,
          1.36,
          1.37,
          1.38,
          1.39,
          1.4,
          1.41,
          1.42,
          1.43,
          1.44,
          1.45,
          1.46,
          1.47,
          1.48,
          1.49,
          1.5,
          1.51,
          1.52,
          1.53,
          1.54,
          1.55,
          1.56,
          1.57,
          1.58,
          1.59,
          1.6,
          1.61,
          1.62,
          1.63,
          1.64,
          1.65,
          1.66,
          1.67,
          1.68,
          1.69,
          1.7,
          1.71,
          1.72,
          1.73,
          1.74,
          1.75,
          1.76,
          1.77,
          1.78,
          1.79,
          1.8
         ],
         "xaxis": "x2",
         "y": [
          5,
          4.920299999999999,
          4.8412,
          4.7627,
          4.6848,
          4.6075,
          4.530799999999999,
          4.454700000000001,
          4.3792,
          4.3043000000000005,
          4.23,
          4.1563,
          4.0832,
          4.0107,
          3.9387999999999996,
          3.8674999999999997,
          3.7967999999999993,
          3.7267,
          3.6571999999999996,
          3.5883000000000003,
          3.5200000000000005,
          3.4523,
          3.3852,
          3.3186999999999998,
          3.2528,
          3.1875,
          3.1228,
          3.0587,
          2.9951999999999996,
          2.9322999999999997,
          2.8699999999999997,
          2.8082999999999996,
          2.7472000000000003,
          2.6867,
          2.6268000000000002,
          2.5675,
          2.5088,
          2.4507000000000003,
          2.3932,
          2.3362999999999996,
          2.2800000000000002,
          2.2242999999999995,
          2.1692,
          2.1147,
          2.0608000000000004,
          2.0075000000000003,
          1.9548,
          1.9027000000000003,
          1.8512000000000002,
          1.8003,
          1.75,
          1.7003,
          1.6512,
          1.6027,
          1.5548000000000002,
          1.5075,
          1.4607999999999999,
          1.4146999999999998,
          1.3691999999999998,
          1.3243,
          1.2800000000000002,
          1.2363,
          1.1932,
          1.1507,
          1.1088,
          1.0675,
          1.0268000000000002,
          0.9867000000000001,
          0.9472,
          0.9083,
          0.87,
          0.8322999999999999,
          0.7952000000000001,
          0.7587,
          0.7228000000000001,
          0.6875,
          0.6528,
          0.6187,
          0.5851999999999999,
          0.5523,
          0.52,
          0.4883,
          0.4572,
          0.4267,
          0.39680000000000004,
          0.3675,
          0.33880000000000005,
          0.31070000000000003,
          0.2832,
          0.2563,
          0.23,
          0.20429999999999998,
          0.1792,
          0.1547,
          0.1308,
          0.10750000000000001,
          0.0848,
          0.06269999999999999,
          0.0412,
          0.020300000000000002,
          0,
          -0.0197,
          -0.0388,
          -0.0573,
          -0.0752,
          -0.0925,
          -0.10919999999999999,
          -0.12530000000000002,
          -0.1408,
          -0.1557,
          -0.17,
          -0.1837,
          -0.19679999999999997,
          -0.20929999999999999,
          -0.2212,
          -0.23249999999999998,
          -0.2432,
          -0.2533,
          -0.2628,
          -0.2717,
          -0.28,
          -0.2877,
          -0.2948,
          -0.3013,
          -0.3072,
          -0.3125,
          -0.3172,
          -0.32130000000000003,
          -0.32480000000000003,
          -0.3277,
          -0.32999999999999996,
          -0.3317,
          -0.3328,
          -0.3333,
          -0.3332,
          -0.3325,
          -0.3312,
          -0.32930000000000004,
          -0.3268,
          -0.3237,
          -0.31999999999999995,
          -0.3157,
          -0.3108000000000001,
          -0.3053,
          -0.2992,
          -0.2925,
          -0.2852,
          -0.2773,
          -0.26879999999999993,
          -0.25970000000000004,
          -0.25,
          -0.23970000000000002,
          -0.2287999999999999,
          -0.21729999999999994,
          -0.20520000000000005,
          -0.1924999999999999,
          -0.17920000000000003,
          -0.1653,
          -0.15080000000000005,
          -0.13570000000000015,
          -0.11999999999999988,
          -0.10370000000000013,
          -0.08679999999999999,
          -0.06929999999999992,
          -0.05119999999999991,
          -0.03249999999999997,
          -0.013199999999999878,
          0.00670000000000015,
          0.027200000000000113,
          0.04829999999999979,
          0.06999999999999984,
          0.09230000000000005,
          0.11519999999999997,
          0.13869999999999982,
          0.16279999999999983,
          0.1875,
          0.2128000000000001,
          0.2386999999999999,
          0.2652000000000001,
          0.2923000000000002,
          0.3200000000000003,
          0.3483000000000003,
          0.3772,
          0.40670000000000006,
          0.43679999999999963,
          0.4674999999999996,
          0.4987999999999999,
          0.5307000000000002,
          0.5631999999999999,
          0.5963,
          0.6300000000000001,
          0.6643000000000001,
          0.6992,
          0.7347000000000004,
          0.7707999999999999,
          0.8075000000000001,
          0.8448000000000002,
          0.8826999999999998,
          0.9211999999999998,
          0.9602999999999997,
          1,
          1.0402999999999998,
          1.0812,
          1.1226999999999996,
          1.1648000000000005,
          1.2075,
          1.2508000000000004,
          1.2947000000000002,
          1.3392,
          1.3843,
          1.4300000000000006,
          1.4763000000000006,
          1.5232,
          1.5706999999999995,
          1.6187999999999998,
          1.6674999999999995,
          1.7167999999999997,
          1.7666999999999993,
          1.8171999999999993,
          1.8682999999999996,
          1.9200000000000004,
          1.9722999999999997,
          2.0251999999999994,
          2.0786999999999995,
          2.1328,
          2.1875,
          2.2428000000000003,
          2.2987,
          2.3552000000000004,
          2.4123,
          2.47,
          2.5283000000000007,
          2.5872000000000006,
          2.6467,
          2.7068000000000008,
          2.767500000000001,
          2.8288000000000006,
          2.8907000000000007,
          2.953199999999999,
          3.016299999999999,
          3.079999999999999,
          3.1443,
          3.2092,
          3.274699999999999,
          3.3407999999999998,
          3.4075,
          3.4747999999999992,
          3.5426999999999995,
          3.6111999999999993,
          3.6802999999999995,
          3.75,
          3.8203,
          3.8912000000000004,
          3.9627000000000003,
          4.0348,
          4.107500000000002,
          4.1808000000000005,
          4.2547,
          4.329200000000001,
          4.404300000000001,
          4.480000000000001,
          4.5563,
          4.633200000000001,
          4.710699999999999,
          4.7888,
          4.867499999999999,
          4.9468,
          5.0267,
          5.107199999999999,
          5.188299999999999,
          5.269999999999998,
          5.3523,
          5.4352,
          5.5187,
          5.6028,
          5.6875,
          5.7728,
          5.858700000000002,
          5.9452,
          6.032299999999999,
          6.120000000000001
         ],
         "yaxis": "y2"
        },
        {
         "marker": {
          "color": "Violet"
         },
         "mode": "markers",
         "name": "ζ'",
         "type": "scatter",
         "x": [
          0,
          0.01,
          0.02,
          0.03,
          0.04,
          0.05,
          0.06,
          0.07,
          0.08,
          0.09,
          0.1,
          0.11,
          0.12,
          0.13,
          0.14,
          0.15,
          0.16,
          0.17,
          0.18,
          0.19,
          0.2,
          0.21,
          0.22,
          0.23,
          0.24,
          0.25,
          0.26,
          0.27,
          0.28,
          0.29,
          0.3,
          0.31,
          0.32,
          0.33,
          0.34,
          0.35,
          0.36,
          0.37,
          0.38,
          0.39,
          0.4,
          0.41,
          0.42,
          0.43,
          0.44,
          0.45,
          0.46,
          0.47,
          0.48,
          0.49,
          0.5,
          0.51,
          0.52,
          0.53,
          0.54,
          0.55,
          0.56,
          0.57,
          0.58,
          0.59,
          0.6,
          0.61,
          0.62,
          0.63,
          0.64,
          0.65,
          0.66,
          0.67,
          0.68,
          0.69,
          0.7,
          0.71,
          0.72,
          0.73,
          0.74,
          0.75,
          0.76,
          0.77,
          0.78,
          0.79,
          0.8,
          0.81,
          0.82,
          0.83,
          0.84,
          0.85,
          0.86,
          0.87,
          0.88,
          0.89,
          0.9,
          0.91,
          0.92,
          0.93,
          0.94,
          0.95,
          0.96,
          0.97,
          0.98,
          0.99,
          1
         ],
         "xaxis": "x2",
         "y": [
          0,
          0.059399999999999994,
          0.1176,
          0.17459999999999998,
          0.2304,
          0.285,
          0.3384,
          0.3906,
          0.4416,
          0.49140000000000006,
          0.54,
          0.5874,
          0.6335999999999999,
          0.6786,
          0.7223999999999999,
          0.765,
          0.8063999999999999,
          0.8466,
          0.8856,
          0.9234,
          0.96,
          0.9954000000000001,
          1.0296,
          1.0626,
          1.0944,
          1.125,
          1.1544,
          1.1826,
          1.2096,
          1.2353999999999998,
          1.26,
          1.2833999999999999,
          1.3056,
          1.3266,
          1.3464,
          1.3650000000000002,
          1.3824,
          1.3986,
          1.4136,
          1.4273999999999998,
          1.44,
          1.4513999999999998,
          1.4616,
          1.4706,
          1.4784000000000002,
          1.4850000000000003,
          1.4904,
          1.4946,
          1.4976,
          1.4994,
          1.5,
          1.4994,
          1.4976,
          1.4946,
          1.4904000000000002,
          1.4849999999999999,
          1.4784,
          1.4706,
          1.4616,
          1.4514,
          1.4400000000000002,
          1.4274,
          1.4136000000000002,
          1.3985999999999998,
          1.3823999999999999,
          1.365,
          1.3464,
          1.3266,
          1.3056,
          1.2833999999999999,
          1.26,
          1.2353999999999998,
          1.2096000000000002,
          1.1826,
          1.1544,
          1.125,
          1.0943999999999998,
          1.0626,
          1.0295999999999998,
          0.9954000000000001,
          0.96,
          0.9234000000000001,
          0.8855999999999999,
          0.8466000000000001,
          0.8064,
          0.7649999999999999,
          0.7224,
          0.6786,
          0.6336,
          0.5874,
          0.54,
          0.4914,
          0.4416,
          0.39060000000000006,
          0.3384,
          0.28500000000000003,
          0.2304,
          0.1746,
          0.1176,
          0.05940000000000001,
          0
         ],
         "yaxis": "y2"
        },
        {
         "marker": {
          "color": "Red"
         },
         "mode": "markers",
         "name": "η'",
         "type": "scatter",
         "x": [
          0,
          0.01,
          0.02,
          0.03,
          0.04,
          0.05,
          0.06,
          0.07,
          0.08,
          0.09,
          0.1,
          0.11,
          0.12,
          0.13,
          0.14,
          0.15,
          0.16,
          0.17,
          0.18,
          0.19,
          0.2,
          0.21,
          0.22,
          0.23,
          0.24,
          0.25,
          0.26,
          0.27,
          0.28,
          0.29,
          0.3,
          0.31,
          0.32,
          0.33,
          0.34,
          0.35,
          0.36,
          0.37,
          0.38,
          0.39,
          0.4,
          0.41,
          0.42,
          0.43,
          0.44,
          0.45,
          0.46,
          0.47,
          0.48,
          0.49,
          0.5,
          0.51,
          0.52,
          0.53,
          0.54,
          0.55,
          0.56,
          0.57,
          0.58,
          0.59,
          0.6,
          0.61,
          0.62,
          0.63,
          0.64,
          0.65,
          0.66,
          0.67,
          0.68,
          0.69,
          0.7,
          0.71,
          0.72,
          0.73,
          0.74,
          0.75,
          0.76,
          0.77,
          0.78,
          0.79,
          0.8,
          0.81,
          0.82,
          0.83,
          0.84,
          0.85,
          0.86,
          0.87,
          0.88,
          0.89,
          0.9,
          0.91,
          0.92,
          0.93,
          0.94,
          0.95,
          0.96,
          0.97,
          0.98,
          0.99,
          1
         ],
         "xaxis": "x2",
         "y": [
          0,
          -0.0197,
          -0.0388,
          -0.0573,
          -0.0752,
          -0.0925,
          -0.10919999999999999,
          -0.12530000000000002,
          -0.1408,
          -0.1557,
          -0.17,
          -0.1837,
          -0.19679999999999997,
          -0.20929999999999999,
          -0.2212,
          -0.23249999999999998,
          -0.2432,
          -0.2533,
          -0.2628,
          -0.2717,
          -0.28,
          -0.2877,
          -0.2948,
          -0.3013,
          -0.3072,
          -0.3125,
          -0.3172,
          -0.32130000000000003,
          -0.32480000000000003,
          -0.3277,
          -0.32999999999999996,
          -0.3317,
          -0.3328,
          -0.3333,
          -0.3332,
          -0.3325,
          -0.3312,
          -0.32930000000000004,
          -0.3268,
          -0.3237,
          -0.31999999999999995,
          -0.3157,
          -0.3108000000000001,
          -0.3053,
          -0.2992,
          -0.2925,
          -0.2852,
          -0.2773,
          -0.26879999999999993,
          -0.25970000000000004,
          -0.25,
          -0.23970000000000002,
          -0.2287999999999999,
          -0.21729999999999994,
          -0.20520000000000005,
          -0.1924999999999999,
          -0.17920000000000003,
          -0.1653,
          -0.15080000000000005,
          -0.13570000000000015,
          -0.11999999999999988,
          -0.10370000000000013,
          -0.08679999999999999,
          -0.06929999999999992,
          -0.05119999999999991,
          -0.03249999999999997,
          -0.013199999999999878,
          0.00670000000000015,
          0.027200000000000113,
          0.04829999999999979,
          0.06999999999999984,
          0.09230000000000005,
          0.11519999999999997,
          0.13869999999999982,
          0.16279999999999983,
          0.1875,
          0.2128000000000001,
          0.2386999999999999,
          0.2652000000000001,
          0.2923000000000002,
          0.3200000000000003,
          0.3483000000000003,
          0.3772,
          0.40670000000000006,
          0.43679999999999963,
          0.4674999999999996,
          0.4987999999999999,
          0.5307000000000002,
          0.5631999999999999,
          0.5963,
          0.6300000000000001,
          0.6643000000000001,
          0.6992,
          0.7347000000000004,
          0.7707999999999999,
          0.8075000000000001,
          0.8448000000000002,
          0.8826999999999998,
          0.9211999999999998,
          0.9602999999999997,
          1
         ],
         "yaxis": "y2"
        }
       ],
       "frames": [],
       "layout": {
        "annotations": [
         {
          "font": {
           "size": 16
          },
          "showarrow": false,
          "text": "base Functions",
          "x": 0.225,
          "xanchor": "center",
          "xref": "paper",
          "y": 1,
          "yanchor": "bottom",
          "yref": "paper"
         },
         {
          "font": {
           "size": 16
          },
          "showarrow": false,
          "text": "base Derivative Functions",
          "x": 0.775,
          "xanchor": "center",
          "xref": "paper",
          "y": 1,
          "yanchor": "bottom",
          "yref": "paper"
         }
        ],
        "margin": {
         "b": 50,
         "l": 50,
         "r": 50,
         "t": 60
        },
        "template": {
         "data": {
          "bar": [
           {
            "error_x": {
             "color": "#2a3f5f"
            },
            "error_y": {
             "color": "#2a3f5f"
            },
            "marker": {
             "line": {
              "color": "#E5ECF6",
              "width": 0.5
             }
            },
            "type": "bar"
           }
          ],
          "barpolar": [
           {
            "marker": {
             "line": {
              "color": "#E5ECF6",
              "width": 0.5
             }
            },
            "type": "barpolar"
           }
          ],
          "carpet": [
           {
            "aaxis": {
             "endlinecolor": "#2a3f5f",
             "gridcolor": "white",
             "linecolor": "white",
             "minorgridcolor": "white",
             "startlinecolor": "#2a3f5f"
            },
            "baxis": {
             "endlinecolor": "#2a3f5f",
             "gridcolor": "white",
             "linecolor": "white",
             "minorgridcolor": "white",
             "startlinecolor": "#2a3f5f"
            },
            "type": "carpet"
           }
          ],
          "choropleth": [
           {
            "colorbar": {
             "outlinewidth": 0,
             "ticks": ""
            },
            "type": "choropleth"
           }
          ],
          "contour": [
           {
            "colorbar": {
             "outlinewidth": 0,
             "ticks": ""
            },
            "colorscale": [
             [
              0,
              "#0d0887"
             ],
             [
              0.1111111111111111,
              "#46039f"
             ],
             [
              0.2222222222222222,
              "#7201a8"
             ],
             [
              0.3333333333333333,
              "#9c179e"
             ],
             [
              0.4444444444444444,
              "#bd3786"
             ],
             [
              0.5555555555555556,
              "#d8576b"
             ],
             [
              0.6666666666666666,
              "#ed7953"
             ],
             [
              0.7777777777777778,
              "#fb9f3a"
             ],
             [
              0.8888888888888888,
              "#fdca26"
             ],
             [
              1,
              "#f0f921"
             ]
            ],
            "type": "contour"
           }
          ],
          "contourcarpet": [
           {
            "colorbar": {
             "outlinewidth": 0,
             "ticks": ""
            },
            "type": "contourcarpet"
           }
          ],
          "heatmap": [
           {
            "colorbar": {
             "outlinewidth": 0,
             "ticks": ""
            },
            "colorscale": [
             [
              0,
              "#0d0887"
             ],
             [
              0.1111111111111111,
              "#46039f"
             ],
             [
              0.2222222222222222,
              "#7201a8"
             ],
             [
              0.3333333333333333,
              "#9c179e"
             ],
             [
              0.4444444444444444,
              "#bd3786"
             ],
             [
              0.5555555555555556,
              "#d8576b"
             ],
             [
              0.6666666666666666,
              "#ed7953"
             ],
             [
              0.7777777777777778,
              "#fb9f3a"
             ],
             [
              0.8888888888888888,
              "#fdca26"
             ],
             [
              1,
              "#f0f921"
             ]
            ],
            "type": "heatmap"
           }
          ],
          "heatmapgl": [
           {
            "colorbar": {
             "outlinewidth": 0,
             "ticks": ""
            },
            "colorscale": [
             [
              0,
              "#0d0887"
             ],
             [
              0.1111111111111111,
              "#46039f"
             ],
             [
              0.2222222222222222,
              "#7201a8"
             ],
             [
              0.3333333333333333,
              "#9c179e"
             ],
             [
              0.4444444444444444,
              "#bd3786"
             ],
             [
              0.5555555555555556,
              "#d8576b"
             ],
             [
              0.6666666666666666,
              "#ed7953"
             ],
             [
              0.7777777777777778,
              "#fb9f3a"
             ],
             [
              0.8888888888888888,
              "#fdca26"
             ],
             [
              1,
              "#f0f921"
             ]
            ],
            "type": "heatmapgl"
           }
          ],
          "histogram": [
           {
            "marker": {
             "colorbar": {
              "outlinewidth": 0,
              "ticks": ""
             }
            },
            "type": "histogram"
           }
          ],
          "histogram2d": [
           {
            "colorbar": {
             "outlinewidth": 0,
             "ticks": ""
            },
            "colorscale": [
             [
              0,
              "#0d0887"
             ],
             [
              0.1111111111111111,
              "#46039f"
             ],
             [
              0.2222222222222222,
              "#7201a8"
             ],
             [
              0.3333333333333333,
              "#9c179e"
             ],
             [
              0.4444444444444444,
              "#bd3786"
             ],
             [
              0.5555555555555556,
              "#d8576b"
             ],
             [
              0.6666666666666666,
              "#ed7953"
             ],
             [
              0.7777777777777778,
              "#fb9f3a"
             ],
             [
              0.8888888888888888,
              "#fdca26"
             ],
             [
              1,
              "#f0f921"
             ]
            ],
            "type": "histogram2d"
           }
          ],
          "histogram2dcontour": [
           {
            "colorbar": {
             "outlinewidth": 0,
             "ticks": ""
            },
            "colorscale": [
             [
              0,
              "#0d0887"
             ],
             [
              0.1111111111111111,
              "#46039f"
             ],
             [
              0.2222222222222222,
              "#7201a8"
             ],
             [
              0.3333333333333333,
              "#9c179e"
             ],
             [
              0.4444444444444444,
              "#bd3786"
             ],
             [
              0.5555555555555556,
              "#d8576b"
             ],
             [
              0.6666666666666666,
              "#ed7953"
             ],
             [
              0.7777777777777778,
              "#fb9f3a"
             ],
             [
              0.8888888888888888,
              "#fdca26"
             ],
             [
              1,
              "#f0f921"
             ]
            ],
            "type": "histogram2dcontour"
           }
          ],
          "mesh3d": [
           {
            "colorbar": {
             "outlinewidth": 0,
             "ticks": ""
            },
            "type": "mesh3d"
           }
          ],
          "parcoords": [
           {
            "line": {
             "colorbar": {
              "outlinewidth": 0,
              "ticks": ""
             }
            },
            "type": "parcoords"
           }
          ],
          "pie": [
           {
            "automargin": true,
            "type": "pie"
           }
          ],
          "scatter": [
           {
            "marker": {
             "colorbar": {
              "outlinewidth": 0,
              "ticks": ""
             }
            },
            "type": "scatter"
           }
          ],
          "scatter3d": [
           {
            "line": {
             "colorbar": {
              "outlinewidth": 0,
              "ticks": ""
             }
            },
            "marker": {
             "colorbar": {
              "outlinewidth": 0,
              "ticks": ""
             }
            },
            "type": "scatter3d"
           }
          ],
          "scattercarpet": [
           {
            "marker": {
             "colorbar": {
              "outlinewidth": 0,
              "ticks": ""
             }
            },
            "type": "scattercarpet"
           }
          ],
          "scattergeo": [
           {
            "marker": {
             "colorbar": {
              "outlinewidth": 0,
              "ticks": ""
             }
            },
            "type": "scattergeo"
           }
          ],
          "scattergl": [
           {
            "marker": {
             "colorbar": {
              "outlinewidth": 0,
              "ticks": ""
             }
            },
            "type": "scattergl"
           }
          ],
          "scattermapbox": [
           {
            "marker": {
             "colorbar": {
              "outlinewidth": 0,
              "ticks": ""
             }
            },
            "type": "scattermapbox"
           }
          ],
          "scatterpolar": [
           {
            "marker": {
             "colorbar": {
              "outlinewidth": 0,
              "ticks": ""
             }
            },
            "type": "scatterpolar"
           }
          ],
          "scatterpolargl": [
           {
            "marker": {
             "colorbar": {
              "outlinewidth": 0,
              "ticks": ""
             }
            },
            "type": "scatterpolargl"
           }
          ],
          "scatterternary": [
           {
            "marker": {
             "colorbar": {
              "outlinewidth": 0,
              "ticks": ""
             }
            },
            "type": "scatterternary"
           }
          ],
          "surface": [
           {
            "colorbar": {
             "outlinewidth": 0,
             "ticks": ""
            },
            "colorscale": [
             [
              0,
              "#0d0887"
             ],
             [
              0.1111111111111111,
              "#46039f"
             ],
             [
              0.2222222222222222,
              "#7201a8"
             ],
             [
              0.3333333333333333,
              "#9c179e"
             ],
             [
              0.4444444444444444,
              "#bd3786"
             ],
             [
              0.5555555555555556,
              "#d8576b"
             ],
             [
              0.6666666666666666,
              "#ed7953"
             ],
             [
              0.7777777777777778,
              "#fb9f3a"
             ],
             [
              0.8888888888888888,
              "#fdca26"
             ],
             [
              1,
              "#f0f921"
             ]
            ],
            "type": "surface"
           }
          ],
          "table": [
           {
            "cells": {
             "fill": {
              "color": "#EBF0F8"
             },
             "line": {
              "color": "white"
             }
            },
            "header": {
             "fill": {
              "color": "#C8D4E3"
             },
             "line": {
              "color": "white"
             }
            },
            "type": "table"
           }
          ]
         },
         "layout": {
          "annotationdefaults": {
           "arrowcolor": "#2a3f5f",
           "arrowhead": 0,
           "arrowwidth": 1
          },
          "autotypenumbers": "strict",
          "coloraxis": {
           "colorbar": {
            "outlinewidth": 0,
            "ticks": ""
           }
          },
          "colorscale": {
           "diverging": [
            [
             0,
             "#8e0152"
            ],
            [
             0.1,
             "#c51b7d"
            ],
            [
             0.2,
             "#de77ae"
            ],
            [
             0.3,
             "#f1b6da"
            ],
            [
             0.4,
             "#fde0ef"
            ],
            [
             0.5,
             "#f7f7f7"
            ],
            [
             0.6,
             "#e6f5d0"
            ],
            [
             0.7,
             "#b8e186"
            ],
            [
             0.8,
             "#7fbc41"
            ],
            [
             0.9,
             "#4d9221"
            ],
            [
             1,
             "#276419"
            ]
           ],
           "sequential": [
            [
             0,
             "#0d0887"
            ],
            [
             0.1111111111111111,
             "#46039f"
            ],
            [
             0.2222222222222222,
             "#7201a8"
            ],
            [
             0.3333333333333333,
             "#9c179e"
            ],
            [
             0.4444444444444444,
             "#bd3786"
            ],
            [
             0.5555555555555556,
             "#d8576b"
            ],
            [
             0.6666666666666666,
             "#ed7953"
            ],
            [
             0.7777777777777778,
             "#fb9f3a"
            ],
            [
             0.8888888888888888,
             "#fdca26"
            ],
            [
             1,
             "#f0f921"
            ]
           ],
           "sequentialminus": [
            [
             0,
             "#0d0887"
            ],
            [
             0.1111111111111111,
             "#46039f"
            ],
            [
             0.2222222222222222,
             "#7201a8"
            ],
            [
             0.3333333333333333,
             "#9c179e"
            ],
            [
             0.4444444444444444,
             "#bd3786"
            ],
            [
             0.5555555555555556,
             "#d8576b"
            ],
            [
             0.6666666666666666,
             "#ed7953"
            ],
            [
             0.7777777777777778,
             "#fb9f3a"
            ],
            [
             0.8888888888888888,
             "#fdca26"
            ],
            [
             1,
             "#f0f921"
            ]
           ]
          },
          "colorway": [
           "#636efa",
           "#EF553B",
           "#00cc96",
           "#ab63fa",
           "#FFA15A",
           "#19d3f3",
           "#FF6692",
           "#B6E880",
           "#FF97FF",
           "#FECB52"
          ],
          "font": {
           "color": "#2a3f5f"
          },
          "geo": {
           "bgcolor": "white",
           "lakecolor": "white",
           "landcolor": "#E5ECF6",
           "showlakes": true,
           "showland": true,
           "subunitcolor": "white"
          },
          "hoverlabel": {
           "align": "left"
          },
          "hovermode": "closest",
          "mapbox": {
           "style": "light"
          },
          "paper_bgcolor": "white",
          "plot_bgcolor": "#E5ECF6",
          "polar": {
           "angularaxis": {
            "gridcolor": "white",
            "linecolor": "white",
            "ticks": ""
           },
           "bgcolor": "#E5ECF6",
           "radialaxis": {
            "gridcolor": "white",
            "linecolor": "white",
            "ticks": ""
           }
          },
          "scene": {
           "xaxis": {
            "backgroundcolor": "#E5ECF6",
            "gridcolor": "white",
            "gridwidth": 2,
            "linecolor": "white",
            "showbackground": true,
            "ticks": "",
            "zerolinecolor": "white"
           },
           "yaxis": {
            "backgroundcolor": "#E5ECF6",
            "gridcolor": "white",
            "gridwidth": 2,
            "linecolor": "white",
            "showbackground": true,
            "ticks": "",
            "zerolinecolor": "white"
           },
           "zaxis": {
            "backgroundcolor": "#E5ECF6",
            "gridcolor": "white",
            "gridwidth": 2,
            "linecolor": "white",
            "showbackground": true,
            "ticks": "",
            "zerolinecolor": "white"
           }
          },
          "shapedefaults": {
           "line": {
            "color": "#2a3f5f"
           }
          },
          "ternary": {
           "aaxis": {
            "gridcolor": "white",
            "linecolor": "white",
            "ticks": ""
           },
           "baxis": {
            "gridcolor": "white",
            "linecolor": "white",
            "ticks": ""
           },
           "bgcolor": "#E5ECF6",
           "caxis": {
            "gridcolor": "white",
            "linecolor": "white",
            "ticks": ""
           }
          },
          "title": {
           "x": 0.05
          },
          "xaxis": {
           "automargin": true,
           "gridcolor": "white",
           "linecolor": "white",
           "ticks": "",
           "title": {
            "standoff": 15
           },
           "zerolinecolor": "white",
           "zerolinewidth": 2
          },
          "yaxis": {
           "automargin": true,
           "gridcolor": "white",
           "linecolor": "white",
           "ticks": "",
           "title": {
            "standoff": 15
           },
           "zerolinecolor": "white",
           "zerolinewidth": 2
          }
         }
        },
        "xaxis1": {
         "anchor": "y1",
         "domain": [
          0,
          0.45
         ],
         "title": {
          "text": "x"
         }
        },
        "xaxis2": {
         "anchor": "y2",
         "domain": [
          0.55,
          1
         ],
         "title": {
          "text": "x"
         }
        },
        "yaxis1": {
         "anchor": "x1",
         "domain": [
          0,
          1
         ],
         "range": [
          -0.4,
          1.5
         ],
         "title": {
          "text": "function"
         }
        },
        "yaxis2": {
         "anchor": "x2",
         "domain": [
          0,
          1
         ],
         "range": [
          -0.4,
          1.5
         ],
         "title": {
          "text": "function"
         }
        }
       }
      },
      "text/html": [
       "<div\n",
       "    class=\"webio-mountpoint\"\n",
       "    data-webio-mountpoint=\"12463111049510059608\"\n",
       ">\n",
       "    <script>\n",
       "    (function(){\n",
       "    // Some integrations (namely, IJulia/Jupyter) use an alternate render pathway than\n",
       "    // just putting the html on the page. If WebIO isn't defined, then it's pretty likely\n",
       "    // that we're in one of those situations and the integration just isn't installed\n",
       "    // correctly.\n",
       "    if (typeof window.WebIO === \"undefined\") {\n",
       "        document\n",
       "            .querySelector('[data-webio-mountpoint=\"12463111049510059608\"]')\n",
       "            .innerHTML = (\n",
       "                '<div style=\"padding: 1em; background-color: #f8d6da; border: 1px solid #f5c6cb; font-weight: bold;\">' +\n",
       "                '<p><strong>WebIO not detected.</strong></p>' +\n",
       "                '<p>Please read ' +\n",
       "                '<a href=\"https://juliagizmos.github.io/WebIO.jl/latest/troubleshooting/not-detected/\" target=\"_blank\">the troubleshooting guide</a> ' +\n",
       "                'for more information on how to resolve this issue.</p>' +\n",
       "                '<p><a href=\"https://juliagizmos.github.io/WebIO.jl/latest/troubleshooting/not-detected/\" target=\"_blank\">https://juliagizmos.github.io/WebIO.jl/latest/troubleshooting/not-detected/</a></p>' +\n",
       "                '</div>'\n",
       "            );\n",
       "        return;\n",
       "    }\n",
       "    WebIO.mount(\n",
       "        document.querySelector('[data-webio-mountpoint=\"12463111049510059608\"]'),\n",
       "        {\"props\":{},\"nodeType\":\"Scope\",\"type\":\"node\",\"instanceArgs\":{\"imports\":{\"data\":[{\"name\":\"Plotly\",\"type\":\"js\",\"url\":\"\\/assetserver\\/829791e6ff21fc5c4b60e5df299f439365241070-plotly.min.js\"},{\"name\":null,\"type\":\"js\",\"url\":\"\\/assetserver\\/823f3c894aa43f38c72113b9d92345d26ad2b09b-plotly_webio.bundle.js\"}],\"type\":\"async_block\"},\"id\":\"1256066426258756899\",\"handlers\":{\"_toImage\":[\"(function (options){return this.Plotly.toImage(this.plotElem,options).then((function (data){return WebIO.setval({\\\"name\\\":\\\"image\\\",\\\"scope\\\":\\\"1256066426258756899\\\",\\\"id\\\":\\\"11500107215719568394\\\",\\\"type\\\":\\\"observable\\\"},data)}))})\"],\"__get_gd_contents\":[\"(function (prop){prop==\\\"data\\\" ? (WebIO.setval({\\\"name\\\":\\\"__gd_contents\\\",\\\"scope\\\":\\\"1256066426258756899\\\",\\\"id\\\":\\\"16019107165546250839\\\",\\\"type\\\":\\\"observable\\\"},this.plotElem.data)) : undefined; return prop==\\\"layout\\\" ? (WebIO.setval({\\\"name\\\":\\\"__gd_contents\\\",\\\"scope\\\":\\\"1256066426258756899\\\",\\\"id\\\":\\\"16019107165546250839\\\",\\\"type\\\":\\\"observable\\\"},this.plotElem.layout)) : undefined})\"],\"_downloadImage\":[\"(function (options){return this.Plotly.downloadImage(this.plotElem,options)})\"],\"_commands\":[\"(function (args){var fn=args.shift(); var elem=this.plotElem; var Plotly=this.Plotly; args.unshift(elem); return Plotly[fn].apply(this,args)})\"]},\"systemjs_options\":null,\"mount_callbacks\":[\"function () {\\n    var handler = ((function (Plotly,PlotlyWebIO){PlotlyWebIO.init(WebIO); var gd=this.dom.querySelector(\\\"#plot-3d2b0b10-4e7a-4778-90ae-a21f04ba27e8\\\"); this.plotElem=gd; this.Plotly=Plotly; (window.Blink!==undefined) ? (gd.style.width=\\\"100%\\\", gd.style.height=\\\"100vh\\\", gd.style.marginLeft=\\\"0%\\\", gd.style.marginTop=\\\"0vh\\\") : undefined; window.onresize=(function (){return Plotly.Plots.resize(gd)}); Plotly.newPlot(gd,[{\\\"showlegend\\\":false,\\\"marker\\\":{\\\"color\\\":\\\"DarkBlue\\\"},\\\"xaxis\\\":\\\"x1\\\",\\\"y\\\":[5.0,4.880898,4.763584,4.648046,4.534272,4.42225,4.311967999999999,4.203414,4.096576,3.9914420000000006,3.888,3.7862380000000004,3.6861439999999996,3.5877060000000003,3.4909119999999993,3.3957499999999996,3.3022079999999994,3.210274,3.119935999999999,3.0311820000000007,2.9440000000000004,2.8583780000000005,2.774304,2.691766,2.6107519999999997,2.53125,2.4532480000000003,2.3767339999999995,2.301696,2.228122,2.1559999999999997,2.0853179999999996,2.0160640000000005,1.9482260000000002,1.8817920000000004,1.81675,1.7530880000000002,1.6907940000000001,1.6298560000000002,1.5702619999999998,1.512,1.4550579999999997,1.399424,1.3450859999999998,1.2920320000000003,1.24025,1.1897280000000001,1.140454,1.092416,1.045602,1.0,0.955598,0.912384,0.870346,0.829472,0.7897500000000001,0.751168,0.7137139999999998,0.6773759999999999,0.6421419999999999,0.6080000000000001,0.5749380000000001,0.542944,0.512006,0.482112,0.45325,0.4254080000000001,0.39857400000000004,0.372736,0.347882,0.324,0.301078,0.279104,0.258066,0.23795200000000002,0.21875,0.200448,0.183034,0.166496,0.15082199999999998,0.136,0.122018,0.10886399999999999,0.09652600000000001,0.084992,0.07425,0.06428800000000001,0.055094000000000004,0.046656,0.038962000000000004,0.03200000000000001,0.025758,0.020224000000000002,0.015386000000000002,0.011232,0.007750000000000002,0.004928,0.002754,0.001216,0.000302,0.0,0.00029800000000000003,0.001184,0.002646,0.004672,0.007250000000000001,0.010367999999999999,0.014014000000000002,0.018176,0.022841999999999998,0.028000000000000004,0.033637999999999994,0.039743999999999995,0.04630600000000001,0.05331200000000001,0.06075,0.068608,0.07687400000000003,0.085536,0.094582,0.10400000000000002,0.11377799999999999,0.123904,0.134366,0.145152,0.15625,0.16764800000000002,0.17933400000000002,0.19129600000000002,0.20352199999999998,0.216,0.228718,0.241664,0.254826,0.26819200000000004,0.28174999999999994,0.295488,0.30939399999999995,0.323456,0.3376620000000001,0.3520000000000001,0.36645799999999995,0.381024,0.395686,0.410432,0.4252500000000001,0.440128,0.45505399999999996,0.470016,0.485002,0.5,0.514998,0.529984,0.544946,0.559872,0.5747500000000001,0.5895680000000001,0.604314,0.618976,0.6335419999999999,0.648,0.662338,0.676544,0.690606,0.704512,0.71825,0.731808,0.7451740000000001,0.7583360000000001,0.7712819999999999,0.7839999999999999,0.796478,0.808704,0.8206659999999999,0.832352,0.84375,0.8548479999999999,0.8656339999999999,0.8760960000000001,0.8862220000000001,0.8960000000000001,0.9054180000000001,0.9144639999999999,0.923126,0.9313919999999999,0.9392499999999999,0.946688,0.953694,0.960256,0.966362,0.972,0.977158,0.981824,0.985986,0.9896320000000001,0.99275,0.995328,0.997354,0.9988159999999999,0.999702,1.0,0.999698,0.998784,0.9972459999999999,0.9950720000000002,0.9922500000000001,0.9887680000000001,0.984614,0.9797760000000001,0.974242,0.9680000000000002,0.9610380000000002,0.9533440000000002,0.9449059999999998,0.9357119999999999,0.9257499999999997,0.915008,0.9034739999999999,0.8911359999999999,0.8779819999999999,0.864,0.8491779999999999,0.833504,0.816966,0.799552,0.78125,0.7620480000000001,0.741934,0.7208960000000001,0.698922,0.6760000000000002,0.6521180000000001,0.627264,0.6014260000000001,0.5745920000000001,0.5467500000000001,0.5178880000000001,0.4879940000000001,0.4570559999999999,0.42506199999999994,0.39199999999999996,0.35785799999999995,0.322624,0.286286,0.24883199999999997,0.21025000000000002,0.17052799999999999,0.129654,0.087616,0.044402,0.0,-0.045602000000000004,-0.092416,-0.140454,-0.189728,-0.24025000000000005,-0.292032,-0.34508600000000006,-0.39942400000000006,-0.455058,-0.5120000000000001,-0.570262,-0.6298560000000001,-0.690794,-0.753088,-0.8167499999999999,-0.8817919999999999,-0.948226,-1.0160639999999999,-1.0853179999999998,-1.156,-1.228122,-1.301696,-1.3767340000000001,-1.4532479999999999,-1.53125,-1.610752,-1.6917660000000003,-1.7743040000000003,-1.8583779999999999,-1.944],\\\"type\\\":\\\"scatter\\\",\\\"name\\\":\\\"\\\",\\\"yaxis\\\":\\\"y1\\\",\\\"x\\\":[-1.0,-0.99,-0.98,-0.97,-0.96,-0.95,-0.94,-0.93,-0.92,-0.91,-0.9,-0.89,-0.88,-0.87,-0.86,-0.85,-0.84,-0.83,-0.82,-0.81,-0.8,-0.79,-0.78,-0.77,-0.76,-0.75,-0.74,-0.73,-0.72,-0.71,-0.7,-0.69,-0.68,-0.67,-0.66,-0.65,-0.64,-0.63,-0.62,-0.61,-0.6,-0.59,-0.58,-0.57,-0.56,-0.55,-0.54,-0.53,-0.52,-0.51,-0.5,-0.49,-0.48,-0.47,-0.46,-0.45,-0.44,-0.43,-0.42,-0.41,-0.4,-0.39,-0.38,-0.37,-0.36,-0.35,-0.34,-0.33,-0.32,-0.31,-0.3,-0.29,-0.28,-0.27,-0.26,-0.25,-0.24,-0.23,-0.22,-0.21,-0.2,-0.19,-0.18,-0.17,-0.16,-0.15,-0.14,-0.13,-0.12,-0.11,-0.1,-0.09,-0.08,-0.07,-0.06,-0.05,-0.04,-0.03,-0.02,-0.01,0.0,0.01,0.02,0.03,0.04,0.05,0.06,0.07,0.08,0.09,0.1,0.11,0.12,0.13,0.14,0.15,0.16,0.17,0.18,0.19,0.2,0.21,0.22,0.23,0.24,0.25,0.26,0.27,0.28,0.29,0.3,0.31,0.32,0.33,0.34,0.35,0.36,0.37,0.38,0.39,0.4,0.41,0.42,0.43,0.44,0.45,0.46,0.47,0.48,0.49,0.5,0.51,0.52,0.53,0.54,0.55,0.56,0.57,0.58,0.59,0.6,0.61,0.62,0.63,0.64,0.65,0.66,0.67,0.68,0.69,0.7,0.71,0.72,0.73,0.74,0.75,0.76,0.77,0.78,0.79,0.8,0.81,0.82,0.83,0.84,0.85,0.86,0.87,0.88,0.89,0.9,0.91,0.92,0.93,0.94,0.95,0.96,0.97,0.98,0.99,1.0,1.01,1.02,1.03,1.04,1.05,1.06,1.07,1.08,1.09,1.1,1.11,1.12,1.13,1.14,1.15,1.16,1.17,1.18,1.19,1.2,1.21,1.22,1.23,1.24,1.25,1.26,1.27,1.28,1.29,1.3,1.31,1.32,1.33,1.34,1.35,1.36,1.37,1.38,1.39,1.4,1.41,1.42,1.43,1.44,1.45,1.46,1.47,1.48,1.49,1.5,1.51,1.52,1.53,1.54,1.55,1.56,1.57,1.58,1.59,1.6,1.61,1.62,1.63,1.64,1.65,1.66,1.67,1.68,1.69,1.7,1.71,1.72,1.73,1.74,1.75,1.76,1.77,1.78,1.79,1.8]},{\\\"showlegend\\\":false,\\\"marker\\\":{\\\"color\\\":\\\"DarkRed\\\"},\\\"xaxis\\\":\\\"x1\\\",\\\"y\\\":[-2.0,-1.950399,-1.9015919999999997,-1.853573,-1.806336,-1.7598749999999999,-1.714184,-1.6692570000000002,-1.625088,-1.581671,-1.539,-1.497069,-1.4558719999999998,-1.4154030000000002,-1.375656,-1.336625,-1.298304,-1.260687,-1.2237679999999997,-1.1875410000000002,-1.1520000000000004,-1.117139,-1.0829520000000001,-1.049433,-1.016576,-0.984375,-0.952824,-0.9219169999999999,-0.8916479999999999,-0.862011,-0.8329999999999999,-0.8046089999999998,-0.7768320000000001,-0.7496630000000001,-0.7230960000000001,-0.697125,-0.671744,-0.646947,-0.6227280000000001,-0.599081,-0.576,-0.5534789999999999,-0.531512,-0.510093,-0.4892160000000001,-0.4688750000000001,-0.4490640000000001,-0.4297770000000001,-0.41100800000000004,-0.392751,-0.375,-0.357749,-0.34099199999999996,-0.324723,-0.308936,-0.293625,-0.278784,-0.26440699999999995,-0.25048799999999993,-0.23702099999999995,-0.22400000000000003,-0.211419,-0.19927199999999998,-0.187553,-0.176256,-0.165375,-0.15490400000000004,-0.14483700000000002,-0.135168,-0.125891,-0.11699999999999999,-0.108489,-0.10035200000000001,-0.09258300000000001,-0.08517600000000002,-0.078125,-0.071424,-0.065067,-0.059047999999999996,-0.05336099999999999,-0.04800000000000001,-0.042959,-0.038231999999999995,-0.033813,-0.029696,-0.025875,-0.022344000000000003,-0.019097,-0.016128,-0.013431,-0.011000000000000003,-0.008829,-0.006912000000000001,-0.005243000000000001,-0.003816,-0.0026250000000000006,-0.0016640000000000001,-0.000927,-0.00040800000000000005,-0.000101,-0.0,-9.900000000000001e-5,-0.000392,-0.000873,-0.001536,-0.0023750000000000004,-0.003384,-0.004557000000000001,-0.005888000000000001,-0.007371,-0.009000000000000003,-0.010768999999999999,-0.012672,-0.014703,-0.016856000000000003,-0.019125,-0.021504,-0.023987000000000005,-0.026567999999999998,-0.029241000000000003,-0.03200000000000001,-0.034838999999999995,-0.037752,-0.040733000000000005,-0.043776,-0.046875,-0.050024000000000006,-0.053217,-0.056448000000000005,-0.05971099999999999,-0.063,-0.06630899999999999,-0.06963200000000001,-0.07296300000000001,-0.07629600000000002,-0.07962499999999999,-0.082944,-0.08624699999999999,-0.089528,-0.092781,-0.09600000000000002,-0.09917899999999998,-0.10231199999999997,-0.10539299999999999,-0.10841600000000001,-0.11137500000000002,-0.11426400000000002,-0.117077,-0.119808,-0.12245099999999999,-0.125,-0.127449,-0.12979200000000002,-0.132023,-0.134136,-0.13612500000000002,-0.13798400000000002,-0.13970699999999997,-0.141288,-0.142721,-0.144,-0.145119,-0.146072,-0.146853,-0.147456,-0.147875,-0.148104,-0.14813700000000002,-0.14796800000000004,-0.14759099999999997,-0.14699999999999996,-0.14618899999999999,-0.145152,-0.14388299999999998,-0.142376,-0.140625,-0.138624,-0.136367,-0.13384800000000002,-0.131061,-0.12800000000000003,-0.12465900000000002,-0.12103199999999997,-0.117113,-0.11289599999999998,-0.10837499999999999,-0.103544,-0.09839700000000001,-0.092928,-0.087131,-0.08100000000000002,-0.074529,-0.06771200000000001,-0.060543000000000013,-0.053015999999999994,-0.045125,-0.036864,-0.028227,-0.019208,-0.009801,0.0,0.010201,0.020808,0.031826999999999994,0.043264000000000004,0.05512500000000001,0.067416,0.080143,0.093312,0.10692900000000001,0.12100000000000002,0.135531,0.15052800000000002,0.16599699999999998,0.181944,0.19837499999999997,0.215296,0.23271299999999998,0.25063199999999997,0.269059,0.288,0.307461,0.327448,0.34796699999999997,0.369024,0.390625,0.41277600000000003,0.435483,0.45875200000000005,0.482589,0.507,0.5319910000000001,0.5575680000000001,0.5837370000000001,0.6105040000000002,0.6378750000000001,0.6658560000000001,0.6944530000000001,0.7236719999999999,0.7535189999999999,0.7839999999999999,0.8151209999999999,0.846888,0.8793069999999998,0.912384,0.946125,0.980536,1.015623,1.0513919999999999,1.087849,1.125,1.162851,1.201408,1.240677,1.280664,1.3213750000000002,1.3628160000000002,1.404993,1.447912,1.491579,1.5360000000000003,1.5811810000000002,1.6271280000000004,1.6738469999999999,1.7213439999999998,1.7696249999999998,1.8186959999999999,1.868563,1.9192319999999998,1.9707089999999996,2.0229999999999997,2.0761109999999996,2.1300479999999995,2.1848170000000002,2.240424,2.296875,2.354176,2.4123330000000003,2.471352,2.5312390000000002,2.5920000000000005],\\\"type\\\":\\\"scatter\\\",\\\"name\\\":\\\"\\\",\\\"yaxis\\\":\\\"y1\\\",\\\"x\\\":[-1.0,-0.99,-0.98,-0.97,-0.96,-0.95,-0.94,-0.93,-0.92,-0.91,-0.9,-0.89,-0.88,-0.87,-0.86,-0.85,-0.84,-0.83,-0.82,-0.81,-0.8,-0.79,-0.78,-0.77,-0.76,-0.75,-0.74,-0.73,-0.72,-0.71,-0.7,-0.69,-0.68,-0.67,-0.66,-0.65,-0.64,-0.63,-0.62,-0.61,-0.6,-0.59,-0.58,-0.57,-0.56,-0.55,-0.54,-0.53,-0.52,-0.51,-0.5,-0.49,-0.48,-0.47,-0.46,-0.45,-0.44,-0.43,-0.42,-0.41,-0.4,-0.39,-0.38,-0.37,-0.36,-0.35,-0.34,-0.33,-0.32,-0.31,-0.3,-0.29,-0.28,-0.27,-0.26,-0.25,-0.24,-0.23,-0.22,-0.21,-0.2,-0.19,-0.18,-0.17,-0.16,-0.15,-0.14,-0.13,-0.12,-0.11,-0.1,-0.09,-0.08,-0.07,-0.06,-0.05,-0.04,-0.03,-0.02,-0.01,0.0,0.01,0.02,0.03,0.04,0.05,0.06,0.07,0.08,0.09,0.1,0.11,0.12,0.13,0.14,0.15,0.16,0.17,0.18,0.19,0.2,0.21,0.22,0.23,0.24,0.25,0.26,0.27,0.28,0.29,0.3,0.31,0.32,0.33,0.34,0.35,0.36,0.37,0.38,0.39,0.4,0.41,0.42,0.43,0.44,0.45,0.46,0.47,0.48,0.49,0.5,0.51,0.52,0.53,0.54,0.55,0.56,0.57,0.58,0.59,0.6,0.61,0.62,0.63,0.64,0.65,0.66,0.67,0.68,0.69,0.7,0.71,0.72,0.73,0.74,0.75,0.76,0.77,0.78,0.79,0.8,0.81,0.82,0.83,0.84,0.85,0.86,0.87,0.88,0.89,0.9,0.91,0.92,0.93,0.94,0.95,0.96,0.97,0.98,0.99,1.0,1.01,1.02,1.03,1.04,1.05,1.06,1.07,1.08,1.09,1.1,1.11,1.12,1.13,1.14,1.15,1.16,1.17,1.18,1.19,1.2,1.21,1.22,1.23,1.24,1.25,1.26,1.27,1.28,1.29,1.3,1.31,1.32,1.33,1.34,1.35,1.36,1.37,1.38,1.39,1.4,1.41,1.42,1.43,1.44,1.45,1.46,1.47,1.48,1.49,1.5,1.51,1.52,1.53,1.54,1.55,1.56,1.57,1.58,1.59,1.6,1.61,1.62,1.63,1.64,1.65,1.66,1.67,1.68,1.69,1.7,1.71,1.72,1.73,1.74,1.75,1.76,1.77,1.78,1.79,1.8]},{\\\"marker\\\":{\\\"color\\\":\\\"Violet\\\"},\\\"mode\\\":\\\"markers\\\",\\\"xaxis\\\":\\\"x1\\\",\\\"y\\\":[0.0,0.00029800000000000003,0.001184,0.002646,0.004672,0.007250000000000001,0.010367999999999999,0.014014000000000002,0.018176,0.022841999999999998,0.028000000000000004,0.033637999999999994,0.039743999999999995,0.04630600000000001,0.05331200000000001,0.06075,0.068608,0.07687400000000003,0.085536,0.094582,0.10400000000000002,0.11377799999999999,0.123904,0.134366,0.145152,0.15625,0.16764800000000002,0.17933400000000002,0.19129600000000002,0.20352199999999998,0.216,0.228718,0.241664,0.254826,0.26819200000000004,0.28174999999999994,0.295488,0.30939399999999995,0.323456,0.3376620000000001,0.3520000000000001,0.36645799999999995,0.381024,0.395686,0.410432,0.4252500000000001,0.440128,0.45505399999999996,0.470016,0.485002,0.5,0.514998,0.529984,0.544946,0.559872,0.5747500000000001,0.5895680000000001,0.604314,0.618976,0.6335419999999999,0.648,0.662338,0.676544,0.690606,0.704512,0.71825,0.731808,0.7451740000000001,0.7583360000000001,0.7712819999999999,0.7839999999999999,0.796478,0.808704,0.8206659999999999,0.832352,0.84375,0.8548479999999999,0.8656339999999999,0.8760960000000001,0.8862220000000001,0.8960000000000001,0.9054180000000001,0.9144639999999999,0.923126,0.9313919999999999,0.9392499999999999,0.946688,0.953694,0.960256,0.966362,0.972,0.977158,0.981824,0.985986,0.9896320000000001,0.99275,0.995328,0.997354,0.9988159999999999,0.999702,1.0],\\\"type\\\":\\\"scatter\\\",\\\"name\\\":\\\"ζ\\\",\\\"yaxis\\\":\\\"y1\\\",\\\"x\\\":[0.0,0.01,0.02,0.03,0.04,0.05,0.06,0.07,0.08,0.09,0.1,0.11,0.12,0.13,0.14,0.15,0.16,0.17,0.18,0.19,0.2,0.21,0.22,0.23,0.24,0.25,0.26,0.27,0.28,0.29,0.3,0.31,0.32,0.33,0.34,0.35,0.36,0.37,0.38,0.39,0.4,0.41,0.42,0.43,0.44,0.45,0.46,0.47,0.48,0.49,0.5,0.51,0.52,0.53,0.54,0.55,0.56,0.57,0.58,0.59,0.6,0.61,0.62,0.63,0.64,0.65,0.66,0.67,0.68,0.69,0.7,0.71,0.72,0.73,0.74,0.75,0.76,0.77,0.78,0.79,0.8,0.81,0.82,0.83,0.84,0.85,0.86,0.87,0.88,0.89,0.9,0.91,0.92,0.93,0.94,0.95,0.96,0.97,0.98,0.99,1.0]},{\\\"marker\\\":{\\\"color\\\":\\\"Red\\\"},\\\"mode\\\":\\\"markers\\\",\\\"xaxis\\\":\\\"x1\\\",\\\"y\\\":[-0.0,-9.900000000000001e-5,-0.000392,-0.000873,-0.001536,-0.0023750000000000004,-0.003384,-0.004557000000000001,-0.005888000000000001,-0.007371,-0.009000000000000003,-0.010768999999999999,-0.012672,-0.014703,-0.016856000000000003,-0.019125,-0.021504,-0.023987000000000005,-0.026567999999999998,-0.029241000000000003,-0.03200000000000001,-0.034838999999999995,-0.037752,-0.040733000000000005,-0.043776,-0.046875,-0.050024000000000006,-0.053217,-0.056448000000000005,-0.05971099999999999,-0.063,-0.06630899999999999,-0.06963200000000001,-0.07296300000000001,-0.07629600000000002,-0.07962499999999999,-0.082944,-0.08624699999999999,-0.089528,-0.092781,-0.09600000000000002,-0.09917899999999998,-0.10231199999999997,-0.10539299999999999,-0.10841600000000001,-0.11137500000000002,-0.11426400000000002,-0.117077,-0.119808,-0.12245099999999999,-0.125,-0.127449,-0.12979200000000002,-0.132023,-0.134136,-0.13612500000000002,-0.13798400000000002,-0.13970699999999997,-0.141288,-0.142721,-0.144,-0.145119,-0.146072,-0.146853,-0.147456,-0.147875,-0.148104,-0.14813700000000002,-0.14796800000000004,-0.14759099999999997,-0.14699999999999996,-0.14618899999999999,-0.145152,-0.14388299999999998,-0.142376,-0.140625,-0.138624,-0.136367,-0.13384800000000002,-0.131061,-0.12800000000000003,-0.12465900000000002,-0.12103199999999997,-0.117113,-0.11289599999999998,-0.10837499999999999,-0.103544,-0.09839700000000001,-0.092928,-0.087131,-0.08100000000000002,-0.074529,-0.06771200000000001,-0.060543000000000013,-0.053015999999999994,-0.045125,-0.036864,-0.028227,-0.019208,-0.009801,0.0],\\\"type\\\":\\\"scatter\\\",\\\"name\\\":\\\"η\\\",\\\"yaxis\\\":\\\"y1\\\",\\\"x\\\":[0.0,0.01,0.02,0.03,0.04,0.05,0.06,0.07,0.08,0.09,0.1,0.11,0.12,0.13,0.14,0.15,0.16,0.17,0.18,0.19,0.2,0.21,0.22,0.23,0.24,0.25,0.26,0.27,0.28,0.29,0.3,0.31,0.32,0.33,0.34,0.35,0.36,0.37,0.38,0.39,0.4,0.41,0.42,0.43,0.44,0.45,0.46,0.47,0.48,0.49,0.5,0.51,0.52,0.53,0.54,0.55,0.56,0.57,0.58,0.59,0.6,0.61,0.62,0.63,0.64,0.65,0.66,0.67,0.68,0.69,0.7,0.71,0.72,0.73,0.74,0.75,0.76,0.77,0.78,0.79,0.8,0.81,0.82,0.83,0.84,0.85,0.86,0.87,0.88,0.89,0.9,0.91,0.92,0.93,0.94,0.95,0.96,0.97,0.98,0.99,1.0]},{\\\"showlegend\\\":false,\\\"marker\\\":{\\\"color\\\":\\\"DarkBlue\\\"},\\\"xaxis\\\":\\\"x2\\\",\\\"y\\\":[-12.0,-11.8206,-11.6424,-11.4654,-11.2896,-11.115,-10.9416,-10.7694,-10.598399999999998,-10.4286,-10.26,-10.0926,-9.9264,-9.7614,-9.5976,-9.435,-9.2736,-9.1134,-8.9544,-8.796600000000002,-8.64,-8.4846,-8.3304,-8.1774,-8.025599999999999,-7.875,-7.725600000000001,-7.5774,-7.430400000000001,-7.284599999999999,-7.14,-6.996599999999999,-6.8544,-6.713399999999999,-6.5736,-6.435,-6.297599999999999,-6.1613999999999995,-6.026400000000001,-5.892600000000001,-5.760000000000001,-5.6286000000000005,-5.4984,-5.3694,-5.2416,-5.115,-4.9896,-4.8654,-4.7424,-4.6206000000000005,-4.5,-4.3806,-4.2623999999999995,-4.1453999999999995,-4.029599999999999,-3.915,-3.8016,-3.6894,-3.5784,-3.4686,-3.36,-3.2525999999999997,-3.1463999999999994,-3.0414000000000003,-2.9376,-2.8350000000000004,-2.7336,-2.6334,-2.5344,-2.4366000000000003,-2.3400000000000003,-2.2446,-2.1504,-2.0574000000000003,-1.9656,-1.875,-1.7855999999999999,-1.6973999999999998,-1.6104,-1.5246,-1.44,-1.3565999999999998,-1.2744,-1.1934,-1.1136,-1.035,-0.9575999999999999,-0.8814,-0.8064,-0.7326000000000001,-0.66,-0.5886000000000001,-0.5184,-0.4494,-0.3816,-0.315,-0.2496,-0.1854,-0.1224,-0.0606,0.0,0.059399999999999994,0.1176,0.17459999999999998,0.2304,0.285,0.3384,0.3906,0.4416,0.49140000000000006,0.54,0.5874,0.6335999999999999,0.6786,0.7223999999999999,0.765,0.8063999999999999,0.8466,0.8856,0.9234,0.96,0.9954000000000001,1.0296,1.0626,1.0944,1.125,1.1544,1.1826,1.2096,1.2353999999999998,1.26,1.2833999999999999,1.3056,1.3266,1.3464,1.3650000000000002,1.3824,1.3986,1.4136,1.4273999999999998,1.44,1.4513999999999998,1.4616,1.4706,1.4784000000000002,1.4850000000000003,1.4904,1.4946,1.4976,1.4994,1.5,1.4994,1.4976,1.4946,1.4904000000000002,1.4849999999999999,1.4784,1.4706,1.4616,1.4514,1.4400000000000002,1.4274,1.4136000000000002,1.3985999999999998,1.3823999999999999,1.365,1.3464,1.3266,1.3056,1.2833999999999999,1.26,1.2353999999999998,1.2096000000000002,1.1826,1.1544,1.125,1.0943999999999998,1.0626,1.0295999999999998,0.9954000000000001,0.96,0.9234000000000001,0.8855999999999999,0.8466000000000001,0.8064,0.7649999999999999,0.7224,0.6786,0.6336,0.5874,0.54,0.4914,0.4416,0.39060000000000006,0.3384,0.28500000000000003,0.2304,0.1746,0.1176,0.05940000000000001,0.0,-0.060599999999999994,-0.12240000000000001,-0.18539999999999998,-0.24960000000000002,-0.315,-0.3816,-0.4494,-0.5184000000000001,-0.5886,-0.66,-0.7326,-0.8063999999999999,-0.8814000000000001,-0.9576000000000001,-1.035,-1.1136,-1.1934,-1.2744,-1.3566,-1.4400000000000002,-1.5246,-1.6104,-1.6974,-1.7856,-1.875,-1.9656,-2.0574000000000003,-2.1504000000000003,-2.2445999999999997,-2.34,-2.4366,-2.5344,-2.6334000000000004,-2.7336,-2.8349999999999995,-2.9375999999999998,-3.0414000000000003,-3.1464,-3.2526,-3.3600000000000003,-3.4686000000000003,-3.5784,-3.6894,-3.8016,-3.9149999999999996,-4.0296,-4.1453999999999995,-4.2624,-4.380599999999999,-4.5,-4.6206000000000005,-4.7424,-4.8654,-4.9896,-5.115000000000001,-5.2416,-5.3694,-5.4984,-5.6286,-5.76,-5.8926,-6.026400000000001,-6.1613999999999995,-6.2976,-6.4350000000000005,-6.573600000000001,-6.7134,-6.854400000000001,-6.9966,-7.139999999999999,-7.284599999999999,-7.4304,-7.577400000000001,-7.725599999999999,-7.875,-8.0256,-8.1774,-8.330400000000001,-8.4846,-8.64],\\\"type\\\":\\\"scatter\\\",\\\"name\\\":\\\"\\\",\\\"yaxis\\\":\\\"y2\\\",\\\"x\\\":[-1.0,-0.99,-0.98,-0.97,-0.96,-0.95,-0.94,-0.93,-0.92,-0.91,-0.9,-0.89,-0.88,-0.87,-0.86,-0.85,-0.84,-0.83,-0.82,-0.81,-0.8,-0.79,-0.78,-0.77,-0.76,-0.75,-0.74,-0.73,-0.72,-0.71,-0.7,-0.69,-0.68,-0.67,-0.66,-0.65,-0.64,-0.63,-0.62,-0.61,-0.6,-0.59,-0.58,-0.57,-0.56,-0.55,-0.54,-0.53,-0.52,-0.51,-0.5,-0.49,-0.48,-0.47,-0.46,-0.45,-0.44,-0.43,-0.42,-0.41,-0.4,-0.39,-0.38,-0.37,-0.36,-0.35,-0.34,-0.33,-0.32,-0.31,-0.3,-0.29,-0.28,-0.27,-0.26,-0.25,-0.24,-0.23,-0.22,-0.21,-0.2,-0.19,-0.18,-0.17,-0.16,-0.15,-0.14,-0.13,-0.12,-0.11,-0.1,-0.09,-0.08,-0.07,-0.06,-0.05,-0.04,-0.03,-0.02,-0.01,0.0,0.01,0.02,0.03,0.04,0.05,0.06,0.07,0.08,0.09,0.1,0.11,0.12,0.13,0.14,0.15,0.16,0.17,0.18,0.19,0.2,0.21,0.22,0.23,0.24,0.25,0.26,0.27,0.28,0.29,0.3,0.31,0.32,0.33,0.34,0.35,0.36,0.37,0.38,0.39,0.4,0.41,0.42,0.43,0.44,0.45,0.46,0.47,0.48,0.49,0.5,0.51,0.52,0.53,0.54,0.55,0.56,0.57,0.58,0.59,0.6,0.61,0.62,0.63,0.64,0.65,0.66,0.67,0.68,0.69,0.7,0.71,0.72,0.73,0.74,0.75,0.76,0.77,0.78,0.79,0.8,0.81,0.82,0.83,0.84,0.85,0.86,0.87,0.88,0.89,0.9,0.91,0.92,0.93,0.94,0.95,0.96,0.97,0.98,0.99,1.0,1.01,1.02,1.03,1.04,1.05,1.06,1.07,1.08,1.09,1.1,1.11,1.12,1.13,1.14,1.15,1.16,1.17,1.18,1.19,1.2,1.21,1.22,1.23,1.24,1.25,1.26,1.27,1.28,1.29,1.3,1.31,1.32,1.33,1.34,1.35,1.36,1.37,1.38,1.39,1.4,1.41,1.42,1.43,1.44,1.45,1.46,1.47,1.48,1.49,1.5,1.51,1.52,1.53,1.54,1.55,1.56,1.57,1.58,1.59,1.6,1.61,1.62,1.63,1.64,1.65,1.66,1.67,1.68,1.69,1.7,1.71,1.72,1.73,1.74,1.75,1.76,1.77,1.78,1.79,1.8]},{\\\"showlegend\\\":false,\\\"marker\\\":{\\\"color\\\":\\\"DarkRed\\\"},\\\"xaxis\\\":\\\"x2\\\",\\\"y\\\":[5.0,4.920299999999999,4.8412,4.7627,4.6848,4.6075,4.530799999999999,4.454700000000001,4.3792,4.3043000000000005,4.23,4.1563,4.0832,4.0107,3.9387999999999996,3.8674999999999997,3.7967999999999993,3.7267,3.6571999999999996,3.5883000000000003,3.5200000000000005,3.4523,3.3852,3.3186999999999998,3.2528,3.1875,3.1228,3.0587,2.9951999999999996,2.9322999999999997,2.8699999999999997,2.8082999999999996,2.7472000000000003,2.6867,2.6268000000000002,2.5675,2.5088,2.4507000000000003,2.3932,2.3362999999999996,2.2800000000000002,2.2242999999999995,2.1692,2.1147,2.0608000000000004,2.0075000000000003,1.9548,1.9027000000000003,1.8512000000000002,1.8003,1.75,1.7003,1.6512,1.6027,1.5548000000000002,1.5075,1.4607999999999999,1.4146999999999998,1.3691999999999998,1.3243,1.2800000000000002,1.2363,1.1932,1.1507,1.1088,1.0675,1.0268000000000002,0.9867000000000001,0.9472,0.9083,0.87,0.8322999999999999,0.7952000000000001,0.7587,0.7228000000000001,0.6875,0.6528,0.6187,0.5851999999999999,0.5523,0.52,0.4883,0.4572,0.4267,0.39680000000000004,0.3675,0.33880000000000005,0.31070000000000003,0.2832,0.2563,0.23,0.20429999999999998,0.1792,0.1547,0.1308,0.10750000000000001,0.0848,0.06269999999999999,0.0412,0.020300000000000002,0.0,-0.0197,-0.0388,-0.0573,-0.0752,-0.0925,-0.10919999999999999,-0.12530000000000002,-0.1408,-0.1557,-0.17,-0.1837,-0.19679999999999997,-0.20929999999999999,-0.2212,-0.23249999999999998,-0.2432,-0.2533,-0.2628,-0.2717,-0.28,-0.2877,-0.2948,-0.3013,-0.3072,-0.3125,-0.3172,-0.32130000000000003,-0.32480000000000003,-0.3277,-0.32999999999999996,-0.3317,-0.3328,-0.3333,-0.3332,-0.3325,-0.3312,-0.32930000000000004,-0.3268,-0.3237,-0.31999999999999995,-0.3157,-0.3108000000000001,-0.3053,-0.2992,-0.2925,-0.2852,-0.2773,-0.26879999999999993,-0.25970000000000004,-0.25,-0.23970000000000002,-0.2287999999999999,-0.21729999999999994,-0.20520000000000005,-0.1924999999999999,-0.17920000000000003,-0.1653,-0.15080000000000005,-0.13570000000000015,-0.11999999999999988,-0.10370000000000013,-0.08679999999999999,-0.06929999999999992,-0.05119999999999991,-0.03249999999999997,-0.013199999999999878,0.00670000000000015,0.027200000000000113,0.04829999999999979,0.06999999999999984,0.09230000000000005,0.11519999999999997,0.13869999999999982,0.16279999999999983,0.1875,0.2128000000000001,0.2386999999999999,0.2652000000000001,0.2923000000000002,0.3200000000000003,0.3483000000000003,0.3772,0.40670000000000006,0.43679999999999963,0.4674999999999996,0.4987999999999999,0.5307000000000002,0.5631999999999999,0.5963,0.6300000000000001,0.6643000000000001,0.6992,0.7347000000000004,0.7707999999999999,0.8075000000000001,0.8448000000000002,0.8826999999999998,0.9211999999999998,0.9602999999999997,1.0,1.0402999999999998,1.0812,1.1226999999999996,1.1648000000000005,1.2075,1.2508000000000004,1.2947000000000002,1.3392,1.3843,1.4300000000000006,1.4763000000000006,1.5232,1.5706999999999995,1.6187999999999998,1.6674999999999995,1.7167999999999997,1.7666999999999993,1.8171999999999993,1.8682999999999996,1.9200000000000004,1.9722999999999997,2.0251999999999994,2.0786999999999995,2.1328,2.1875,2.2428000000000003,2.2987,2.3552000000000004,2.4123,2.47,2.5283000000000007,2.5872000000000006,2.6467,2.7068000000000008,2.767500000000001,2.8288000000000006,2.8907000000000007,2.953199999999999,3.016299999999999,3.079999999999999,3.1443,3.2092,3.274699999999999,3.3407999999999998,3.4075,3.4747999999999992,3.5426999999999995,3.6111999999999993,3.6802999999999995,3.75,3.8203,3.8912000000000004,3.9627000000000003,4.0348,4.107500000000002,4.1808000000000005,4.2547,4.329200000000001,4.404300000000001,4.480000000000001,4.5563,4.633200000000001,4.710699999999999,4.7888,4.867499999999999,4.9468,5.0267,5.107199999999999,5.188299999999999,5.269999999999998,5.3523,5.4352,5.5187,5.6028,5.6875,5.7728,5.858700000000002,5.9452,6.032299999999999,6.120000000000001],\\\"type\\\":\\\"scatter\\\",\\\"name\\\":\\\"\\\",\\\"yaxis\\\":\\\"y2\\\",\\\"x\\\":[-1.0,-0.99,-0.98,-0.97,-0.96,-0.95,-0.94,-0.93,-0.92,-0.91,-0.9,-0.89,-0.88,-0.87,-0.86,-0.85,-0.84,-0.83,-0.82,-0.81,-0.8,-0.79,-0.78,-0.77,-0.76,-0.75,-0.74,-0.73,-0.72,-0.71,-0.7,-0.69,-0.68,-0.67,-0.66,-0.65,-0.64,-0.63,-0.62,-0.61,-0.6,-0.59,-0.58,-0.57,-0.56,-0.55,-0.54,-0.53,-0.52,-0.51,-0.5,-0.49,-0.48,-0.47,-0.46,-0.45,-0.44,-0.43,-0.42,-0.41,-0.4,-0.39,-0.38,-0.37,-0.36,-0.35,-0.34,-0.33,-0.32,-0.31,-0.3,-0.29,-0.28,-0.27,-0.26,-0.25,-0.24,-0.23,-0.22,-0.21,-0.2,-0.19,-0.18,-0.17,-0.16,-0.15,-0.14,-0.13,-0.12,-0.11,-0.1,-0.09,-0.08,-0.07,-0.06,-0.05,-0.04,-0.03,-0.02,-0.01,0.0,0.01,0.02,0.03,0.04,0.05,0.06,0.07,0.08,0.09,0.1,0.11,0.12,0.13,0.14,0.15,0.16,0.17,0.18,0.19,0.2,0.21,0.22,0.23,0.24,0.25,0.26,0.27,0.28,0.29,0.3,0.31,0.32,0.33,0.34,0.35,0.36,0.37,0.38,0.39,0.4,0.41,0.42,0.43,0.44,0.45,0.46,0.47,0.48,0.49,0.5,0.51,0.52,0.53,0.54,0.55,0.56,0.57,0.58,0.59,0.6,0.61,0.62,0.63,0.64,0.65,0.66,0.67,0.68,0.69,0.7,0.71,0.72,0.73,0.74,0.75,0.76,0.77,0.78,0.79,0.8,0.81,0.82,0.83,0.84,0.85,0.86,0.87,0.88,0.89,0.9,0.91,0.92,0.93,0.94,0.95,0.96,0.97,0.98,0.99,1.0,1.01,1.02,1.03,1.04,1.05,1.06,1.07,1.08,1.09,1.1,1.11,1.12,1.13,1.14,1.15,1.16,1.17,1.18,1.19,1.2,1.21,1.22,1.23,1.24,1.25,1.26,1.27,1.28,1.29,1.3,1.31,1.32,1.33,1.34,1.35,1.36,1.37,1.38,1.39,1.4,1.41,1.42,1.43,1.44,1.45,1.46,1.47,1.48,1.49,1.5,1.51,1.52,1.53,1.54,1.55,1.56,1.57,1.58,1.59,1.6,1.61,1.62,1.63,1.64,1.65,1.66,1.67,1.68,1.69,1.7,1.71,1.72,1.73,1.74,1.75,1.76,1.77,1.78,1.79,1.8]},{\\\"marker\\\":{\\\"color\\\":\\\"Violet\\\"},\\\"mode\\\":\\\"markers\\\",\\\"xaxis\\\":\\\"x2\\\",\\\"y\\\":[0.0,0.059399999999999994,0.1176,0.17459999999999998,0.2304,0.285,0.3384,0.3906,0.4416,0.49140000000000006,0.54,0.5874,0.6335999999999999,0.6786,0.7223999999999999,0.765,0.8063999999999999,0.8466,0.8856,0.9234,0.96,0.9954000000000001,1.0296,1.0626,1.0944,1.125,1.1544,1.1826,1.2096,1.2353999999999998,1.26,1.2833999999999999,1.3056,1.3266,1.3464,1.3650000000000002,1.3824,1.3986,1.4136,1.4273999999999998,1.44,1.4513999999999998,1.4616,1.4706,1.4784000000000002,1.4850000000000003,1.4904,1.4946,1.4976,1.4994,1.5,1.4994,1.4976,1.4946,1.4904000000000002,1.4849999999999999,1.4784,1.4706,1.4616,1.4514,1.4400000000000002,1.4274,1.4136000000000002,1.3985999999999998,1.3823999999999999,1.365,1.3464,1.3266,1.3056,1.2833999999999999,1.26,1.2353999999999998,1.2096000000000002,1.1826,1.1544,1.125,1.0943999999999998,1.0626,1.0295999999999998,0.9954000000000001,0.96,0.9234000000000001,0.8855999999999999,0.8466000000000001,0.8064,0.7649999999999999,0.7224,0.6786,0.6336,0.5874,0.54,0.4914,0.4416,0.39060000000000006,0.3384,0.28500000000000003,0.2304,0.1746,0.1176,0.05940000000000001,0.0],\\\"type\\\":\\\"scatter\\\",\\\"name\\\":\\\"ζ'\\\",\\\"yaxis\\\":\\\"y2\\\",\\\"x\\\":[0.0,0.01,0.02,0.03,0.04,0.05,0.06,0.07,0.08,0.09,0.1,0.11,0.12,0.13,0.14,0.15,0.16,0.17,0.18,0.19,0.2,0.21,0.22,0.23,0.24,0.25,0.26,0.27,0.28,0.29,0.3,0.31,0.32,0.33,0.34,0.35,0.36,0.37,0.38,0.39,0.4,0.41,0.42,0.43,0.44,0.45,0.46,0.47,0.48,0.49,0.5,0.51,0.52,0.53,0.54,0.55,0.56,0.57,0.58,0.59,0.6,0.61,0.62,0.63,0.64,0.65,0.66,0.67,0.68,0.69,0.7,0.71,0.72,0.73,0.74,0.75,0.76,0.77,0.78,0.79,0.8,0.81,0.82,0.83,0.84,0.85,0.86,0.87,0.88,0.89,0.9,0.91,0.92,0.93,0.94,0.95,0.96,0.97,0.98,0.99,1.0]},{\\\"marker\\\":{\\\"color\\\":\\\"Red\\\"},\\\"mode\\\":\\\"markers\\\",\\\"xaxis\\\":\\\"x2\\\",\\\"y\\\":[0.0,-0.0197,-0.0388,-0.0573,-0.0752,-0.0925,-0.10919999999999999,-0.12530000000000002,-0.1408,-0.1557,-0.17,-0.1837,-0.19679999999999997,-0.20929999999999999,-0.2212,-0.23249999999999998,-0.2432,-0.2533,-0.2628,-0.2717,-0.28,-0.2877,-0.2948,-0.3013,-0.3072,-0.3125,-0.3172,-0.32130000000000003,-0.32480000000000003,-0.3277,-0.32999999999999996,-0.3317,-0.3328,-0.3333,-0.3332,-0.3325,-0.3312,-0.32930000000000004,-0.3268,-0.3237,-0.31999999999999995,-0.3157,-0.3108000000000001,-0.3053,-0.2992,-0.2925,-0.2852,-0.2773,-0.26879999999999993,-0.25970000000000004,-0.25,-0.23970000000000002,-0.2287999999999999,-0.21729999999999994,-0.20520000000000005,-0.1924999999999999,-0.17920000000000003,-0.1653,-0.15080000000000005,-0.13570000000000015,-0.11999999999999988,-0.10370000000000013,-0.08679999999999999,-0.06929999999999992,-0.05119999999999991,-0.03249999999999997,-0.013199999999999878,0.00670000000000015,0.027200000000000113,0.04829999999999979,0.06999999999999984,0.09230000000000005,0.11519999999999997,0.13869999999999982,0.16279999999999983,0.1875,0.2128000000000001,0.2386999999999999,0.2652000000000001,0.2923000000000002,0.3200000000000003,0.3483000000000003,0.3772,0.40670000000000006,0.43679999999999963,0.4674999999999996,0.4987999999999999,0.5307000000000002,0.5631999999999999,0.5963,0.6300000000000001,0.6643000000000001,0.6992,0.7347000000000004,0.7707999999999999,0.8075000000000001,0.8448000000000002,0.8826999999999998,0.9211999999999998,0.9602999999999997,1.0],\\\"type\\\":\\\"scatter\\\",\\\"name\\\":\\\"η'\\\",\\\"yaxis\\\":\\\"y2\\\",\\\"x\\\":[0.0,0.01,0.02,0.03,0.04,0.05,0.06,0.07,0.08,0.09,0.1,0.11,0.12,0.13,0.14,0.15,0.16,0.17,0.18,0.19,0.2,0.21,0.22,0.23,0.24,0.25,0.26,0.27,0.28,0.29,0.3,0.31,0.32,0.33,0.34,0.35,0.36,0.37,0.38,0.39,0.4,0.41,0.42,0.43,0.44,0.45,0.46,0.47,0.48,0.49,0.5,0.51,0.52,0.53,0.54,0.55,0.56,0.57,0.58,0.59,0.6,0.61,0.62,0.63,0.64,0.65,0.66,0.67,0.68,0.69,0.7,0.71,0.72,0.73,0.74,0.75,0.76,0.77,0.78,0.79,0.8,0.81,0.82,0.83,0.84,0.85,0.86,0.87,0.88,0.89,0.9,0.91,0.92,0.93,0.94,0.95,0.96,0.97,0.98,0.99,1.0]}],{\\\"xaxis1\\\":{\\\"title\\\":{\\\"text\\\":\\\"x\\\"},\\\"domain\\\":[0.0,0.45],\\\"anchor\\\":\\\"y1\\\"},\\\"yaxis1\\\":{\\\"title\\\":{\\\"text\\\":\\\"function\\\"},\\\"domain\\\":[0.0,1.0],\\\"range\\\":[-0.4,1.5],\\\"anchor\\\":\\\"x1\\\"},\\\"template\\\":{\\\"layout\\\":{\\\"coloraxis\\\":{\\\"colorbar\\\":{\\\"ticks\\\":\\\"\\\",\\\"outlinewidth\\\":0}},\\\"xaxis\\\":{\\\"gridcolor\\\":\\\"white\\\",\\\"zerolinewidth\\\":2,\\\"title\\\":{\\\"standoff\\\":15},\\\"ticks\\\":\\\"\\\",\\\"zerolinecolor\\\":\\\"white\\\",\\\"automargin\\\":true,\\\"linecolor\\\":\\\"white\\\"},\\\"hovermode\\\":\\\"closest\\\",\\\"paper_bgcolor\\\":\\\"white\\\",\\\"geo\\\":{\\\"showlakes\\\":true,\\\"showland\\\":true,\\\"landcolor\\\":\\\"#E5ECF6\\\",\\\"bgcolor\\\":\\\"white\\\",\\\"subunitcolor\\\":\\\"white\\\",\\\"lakecolor\\\":\\\"white\\\"},\\\"colorscale\\\":{\\\"sequential\\\":[[0.0,\\\"#0d0887\\\"],[0.1111111111111111,\\\"#46039f\\\"],[0.2222222222222222,\\\"#7201a8\\\"],[0.3333333333333333,\\\"#9c179e\\\"],[0.4444444444444444,\\\"#bd3786\\\"],[0.5555555555555556,\\\"#d8576b\\\"],[0.6666666666666666,\\\"#ed7953\\\"],[0.7777777777777778,\\\"#fb9f3a\\\"],[0.8888888888888888,\\\"#fdca26\\\"],[1.0,\\\"#f0f921\\\"]],\\\"diverging\\\":[[0,\\\"#8e0152\\\"],[0.1,\\\"#c51b7d\\\"],[0.2,\\\"#de77ae\\\"],[0.3,\\\"#f1b6da\\\"],[0.4,\\\"#fde0ef\\\"],[0.5,\\\"#f7f7f7\\\"],[0.6,\\\"#e6f5d0\\\"],[0.7,\\\"#b8e186\\\"],[0.8,\\\"#7fbc41\\\"],[0.9,\\\"#4d9221\\\"],[1,\\\"#276419\\\"]],\\\"sequentialminus\\\":[[0.0,\\\"#0d0887\\\"],[0.1111111111111111,\\\"#46039f\\\"],[0.2222222222222222,\\\"#7201a8\\\"],[0.3333333333333333,\\\"#9c179e\\\"],[0.4444444444444444,\\\"#bd3786\\\"],[0.5555555555555556,\\\"#d8576b\\\"],[0.6666666666666666,\\\"#ed7953\\\"],[0.7777777777777778,\\\"#fb9f3a\\\"],[0.8888888888888888,\\\"#fdca26\\\"],[1.0,\\\"#f0f921\\\"]]},\\\"yaxis\\\":{\\\"gridcolor\\\":\\\"white\\\",\\\"zerolinewidth\\\":2,\\\"title\\\":{\\\"standoff\\\":15},\\\"ticks\\\":\\\"\\\",\\\"zerolinecolor\\\":\\\"white\\\",\\\"automargin\\\":true,\\\"linecolor\\\":\\\"white\\\"},\\\"shapedefaults\\\":{\\\"line\\\":{\\\"color\\\":\\\"#2a3f5f\\\"}},\\\"hoverlabel\\\":{\\\"align\\\":\\\"left\\\"},\\\"mapbox\\\":{\\\"style\\\":\\\"light\\\"},\\\"polar\\\":{\\\"angularaxis\\\":{\\\"gridcolor\\\":\\\"white\\\",\\\"ticks\\\":\\\"\\\",\\\"linecolor\\\":\\\"white\\\"},\\\"bgcolor\\\":\\\"#E5ECF6\\\",\\\"radialaxis\\\":{\\\"gridcolor\\\":\\\"white\\\",\\\"ticks\\\":\\\"\\\",\\\"linecolor\\\":\\\"white\\\"}},\\\"autotypenumbers\\\":\\\"strict\\\",\\\"font\\\":{\\\"color\\\":\\\"#2a3f5f\\\"},\\\"ternary\\\":{\\\"baxis\\\":{\\\"gridcolor\\\":\\\"white\\\",\\\"ticks\\\":\\\"\\\",\\\"linecolor\\\":\\\"white\\\"},\\\"bgcolor\\\":\\\"#E5ECF6\\\",\\\"caxis\\\":{\\\"gridcolor\\\":\\\"white\\\",\\\"ticks\\\":\\\"\\\",\\\"linecolor\\\":\\\"white\\\"},\\\"aaxis\\\":{\\\"gridcolor\\\":\\\"white\\\",\\\"ticks\\\":\\\"\\\",\\\"linecolor\\\":\\\"white\\\"}},\\\"annotationdefaults\\\":{\\\"arrowhead\\\":0,\\\"arrowwidth\\\":1,\\\"arrowcolor\\\":\\\"#2a3f5f\\\"},\\\"plot_bgcolor\\\":\\\"#E5ECF6\\\",\\\"title\\\":{\\\"x\\\":0.05},\\\"scene\\\":{\\\"xaxis\\\":{\\\"gridcolor\\\":\\\"white\\\",\\\"gridwidth\\\":2,\\\"backgroundcolor\\\":\\\"#E5ECF6\\\",\\\"ticks\\\":\\\"\\\",\\\"showbackground\\\":true,\\\"zerolinecolor\\\":\\\"white\\\",\\\"linecolor\\\":\\\"white\\\"},\\\"zaxis\\\":{\\\"gridcolor\\\":\\\"white\\\",\\\"gridwidth\\\":2,\\\"backgroundcolor\\\":\\\"#E5ECF6\\\",\\\"ticks\\\":\\\"\\\",\\\"showbackground\\\":true,\\\"zerolinecolor\\\":\\\"white\\\",\\\"linecolor\\\":\\\"white\\\"},\\\"yaxis\\\":{\\\"gridcolor\\\":\\\"white\\\",\\\"gridwidth\\\":2,\\\"backgroundcolor\\\":\\\"#E5ECF6\\\",\\\"ticks\\\":\\\"\\\",\\\"showbackground\\\":true,\\\"zerolinecolor\\\":\\\"white\\\",\\\"linecolor\\\":\\\"white\\\"}},\\\"colorway\\\":[\\\"#636efa\\\",\\\"#EF553B\\\",\\\"#00cc96\\\",\\\"#ab63fa\\\",\\\"#FFA15A\\\",\\\"#19d3f3\\\",\\\"#FF6692\\\",\\\"#B6E880\\\",\\\"#FF97FF\\\",\\\"#FECB52\\\"]},\\\"data\\\":{\\\"barpolar\\\":[{\\\"type\\\":\\\"barpolar\\\",\\\"marker\\\":{\\\"line\\\":{\\\"color\\\":\\\"#E5ECF6\\\",\\\"width\\\":0.5}}}],\\\"carpet\\\":[{\\\"aaxis\\\":{\\\"gridcolor\\\":\\\"white\\\",\\\"endlinecolor\\\":\\\"#2a3f5f\\\",\\\"minorgridcolor\\\":\\\"white\\\",\\\"startlinecolor\\\":\\\"#2a3f5f\\\",\\\"linecolor\\\":\\\"white\\\"},\\\"type\\\":\\\"carpet\\\",\\\"baxis\\\":{\\\"gridcolor\\\":\\\"white\\\",\\\"endlinecolor\\\":\\\"#2a3f5f\\\",\\\"minorgridcolor\\\":\\\"white\\\",\\\"startlinecolor\\\":\\\"#2a3f5f\\\",\\\"linecolor\\\":\\\"white\\\"}}],\\\"scatterpolar\\\":[{\\\"type\\\":\\\"scatterpolar\\\",\\\"marker\\\":{\\\"colorbar\\\":{\\\"ticks\\\":\\\"\\\",\\\"outlinewidth\\\":0}}}],\\\"parcoords\\\":[{\\\"line\\\":{\\\"colorbar\\\":{\\\"ticks\\\":\\\"\\\",\\\"outlinewidth\\\":0}},\\\"type\\\":\\\"parcoords\\\"}],\\\"scatter\\\":[{\\\"type\\\":\\\"scatter\\\",\\\"marker\\\":{\\\"colorbar\\\":{\\\"ticks\\\":\\\"\\\",\\\"outlinewidth\\\":0}}}],\\\"histogram2dcontour\\\":[{\\\"colorbar\\\":{\\\"ticks\\\":\\\"\\\",\\\"outlinewidth\\\":0},\\\"type\\\":\\\"histogram2dcontour\\\",\\\"colorscale\\\":[[0.0,\\\"#0d0887\\\"],[0.1111111111111111,\\\"#46039f\\\"],[0.2222222222222222,\\\"#7201a8\\\"],[0.3333333333333333,\\\"#9c179e\\\"],[0.4444444444444444,\\\"#bd3786\\\"],[0.5555555555555556,\\\"#d8576b\\\"],[0.6666666666666666,\\\"#ed7953\\\"],[0.7777777777777778,\\\"#fb9f3a\\\"],[0.8888888888888888,\\\"#fdca26\\\"],[1.0,\\\"#f0f921\\\"]]}],\\\"contour\\\":[{\\\"colorbar\\\":{\\\"ticks\\\":\\\"\\\",\\\"outlinewidth\\\":0},\\\"type\\\":\\\"contour\\\",\\\"colorscale\\\":[[0.0,\\\"#0d0887\\\"],[0.1111111111111111,\\\"#46039f\\\"],[0.2222222222222222,\\\"#7201a8\\\"],[0.3333333333333333,\\\"#9c179e\\\"],[0.4444444444444444,\\\"#bd3786\\\"],[0.5555555555555556,\\\"#d8576b\\\"],[0.6666666666666666,\\\"#ed7953\\\"],[0.7777777777777778,\\\"#fb9f3a\\\"],[0.8888888888888888,\\\"#fdca26\\\"],[1.0,\\\"#f0f921\\\"]]}],\\\"scattercarpet\\\":[{\\\"type\\\":\\\"scattercarpet\\\",\\\"marker\\\":{\\\"colorbar\\\":{\\\"ticks\\\":\\\"\\\",\\\"outlinewidth\\\":0}}}],\\\"mesh3d\\\":[{\\\"colorbar\\\":{\\\"ticks\\\":\\\"\\\",\\\"outlinewidth\\\":0},\\\"type\\\":\\\"mesh3d\\\"}],\\\"surface\\\":[{\\\"colorbar\\\":{\\\"ticks\\\":\\\"\\\",\\\"outlinewidth\\\":0},\\\"type\\\":\\\"surface\\\",\\\"colorscale\\\":[[0.0,\\\"#0d0887\\\"],[0.1111111111111111,\\\"#46039f\\\"],[0.2222222222222222,\\\"#7201a8\\\"],[0.3333333333333333,\\\"#9c179e\\\"],[0.4444444444444444,\\\"#bd3786\\\"],[0.5555555555555556,\\\"#d8576b\\\"],[0.6666666666666666,\\\"#ed7953\\\"],[0.7777777777777778,\\\"#fb9f3a\\\"],[0.8888888888888888,\\\"#fdca26\\\"],[1.0,\\\"#f0f921\\\"]]}],\\\"scattermapbox\\\":[{\\\"type\\\":\\\"scattermapbox\\\",\\\"marker\\\":{\\\"colorbar\\\":{\\\"ticks\\\":\\\"\\\",\\\"outlinewidth\\\":0}}}],\\\"scattergeo\\\":[{\\\"type\\\":\\\"scattergeo\\\",\\\"marker\\\":{\\\"colorbar\\\":{\\\"ticks\\\":\\\"\\\",\\\"outlinewidth\\\":0}}}],\\\"histogram\\\":[{\\\"type\\\":\\\"histogram\\\",\\\"marker\\\":{\\\"colorbar\\\":{\\\"ticks\\\":\\\"\\\",\\\"outlinewidth\\\":0}}}],\\\"pie\\\":[{\\\"type\\\":\\\"pie\\\",\\\"automargin\\\":true}],\\\"choropleth\\\":[{\\\"colorbar\\\":{\\\"ticks\\\":\\\"\\\",\\\"outlinewidth\\\":0},\\\"type\\\":\\\"choropleth\\\"}],\\\"heatmapgl\\\":[{\\\"colorbar\\\":{\\\"ticks\\\":\\\"\\\",\\\"outlinewidth\\\":0},\\\"type\\\":\\\"heatmapgl\\\",\\\"colorscale\\\":[[0.0,\\\"#0d0887\\\"],[0.1111111111111111,\\\"#46039f\\\"],[0.2222222222222222,\\\"#7201a8\\\"],[0.3333333333333333,\\\"#9c179e\\\"],[0.4444444444444444,\\\"#bd3786\\\"],[0.5555555555555556,\\\"#d8576b\\\"],[0.6666666666666666,\\\"#ed7953\\\"],[0.7777777777777778,\\\"#fb9f3a\\\"],[0.8888888888888888,\\\"#fdca26\\\"],[1.0,\\\"#f0f921\\\"]]}],\\\"bar\\\":[{\\\"type\\\":\\\"bar\\\",\\\"error_y\\\":{\\\"color\\\":\\\"#2a3f5f\\\"},\\\"error_x\\\":{\\\"color\\\":\\\"#2a3f5f\\\"},\\\"marker\\\":{\\\"line\\\":{\\\"color\\\":\\\"#E5ECF6\\\",\\\"width\\\":0.5}}}],\\\"heatmap\\\":[{\\\"colorbar\\\":{\\\"ticks\\\":\\\"\\\",\\\"outlinewidth\\\":0},\\\"type\\\":\\\"heatmap\\\",\\\"colorscale\\\":[[0.0,\\\"#0d0887\\\"],[0.1111111111111111,\\\"#46039f\\\"],[0.2222222222222222,\\\"#7201a8\\\"],[0.3333333333333333,\\\"#9c179e\\\"],[0.4444444444444444,\\\"#bd3786\\\"],[0.5555555555555556,\\\"#d8576b\\\"],[0.6666666666666666,\\\"#ed7953\\\"],[0.7777777777777778,\\\"#fb9f3a\\\"],[0.8888888888888888,\\\"#fdca26\\\"],[1.0,\\\"#f0f921\\\"]]}],\\\"contourcarpet\\\":[{\\\"colorbar\\\":{\\\"ticks\\\":\\\"\\\",\\\"outlinewidth\\\":0},\\\"type\\\":\\\"contourcarpet\\\"}],\\\"table\\\":[{\\\"type\\\":\\\"table\\\",\\\"header\\\":{\\\"line\\\":{\\\"color\\\":\\\"white\\\"},\\\"fill\\\":{\\\"color\\\":\\\"#C8D4E3\\\"}},\\\"cells\\\":{\\\"line\\\":{\\\"color\\\":\\\"white\\\"},\\\"fill\\\":{\\\"color\\\":\\\"#EBF0F8\\\"}}}],\\\"scatter3d\\\":[{\\\"line\\\":{\\\"colorbar\\\":{\\\"ticks\\\":\\\"\\\",\\\"outlinewidth\\\":0}},\\\"type\\\":\\\"scatter3d\\\",\\\"marker\\\":{\\\"colorbar\\\":{\\\"ticks\\\":\\\"\\\",\\\"outlinewidth\\\":0}}}],\\\"scattergl\\\":[{\\\"type\\\":\\\"scattergl\\\",\\\"marker\\\":{\\\"colorbar\\\":{\\\"ticks\\\":\\\"\\\",\\\"outlinewidth\\\":0}}}],\\\"histogram2d\\\":[{\\\"colorbar\\\":{\\\"ticks\\\":\\\"\\\",\\\"outlinewidth\\\":0},\\\"type\\\":\\\"histogram2d\\\",\\\"colorscale\\\":[[0.0,\\\"#0d0887\\\"],[0.1111111111111111,\\\"#46039f\\\"],[0.2222222222222222,\\\"#7201a8\\\"],[0.3333333333333333,\\\"#9c179e\\\"],[0.4444444444444444,\\\"#bd3786\\\"],[0.5555555555555556,\\\"#d8576b\\\"],[0.6666666666666666,\\\"#ed7953\\\"],[0.7777777777777778,\\\"#fb9f3a\\\"],[0.8888888888888888,\\\"#fdca26\\\"],[1.0,\\\"#f0f921\\\"]]}],\\\"scatterternary\\\":[{\\\"type\\\":\\\"scatterternary\\\",\\\"marker\\\":{\\\"colorbar\\\":{\\\"ticks\\\":\\\"\\\",\\\"outlinewidth\\\":0}}}],\\\"scatterpolargl\\\":[{\\\"type\\\":\\\"scatterpolargl\\\",\\\"marker\\\":{\\\"colorbar\\\":{\\\"ticks\\\":\\\"\\\",\\\"outlinewidth\\\":0}}}]}},\\\"xaxis2\\\":{\\\"title\\\":{\\\"text\\\":\\\"x\\\"},\\\"domain\\\":[0.55,1.0],\\\"anchor\\\":\\\"y2\\\"},\\\"margin\\\":{\\\"l\\\":50,\\\"b\\\":50,\\\"r\\\":50,\\\"t\\\":60},\\\"yaxis2\\\":{\\\"title\\\":{\\\"text\\\":\\\"function\\\"},\\\"domain\\\":[0.0,1.0],\\\"range\\\":[-0.4,1.5],\\\"anchor\\\":\\\"x2\\\"},\\\"annotations\\\":[{\\\"yanchor\\\":\\\"bottom\\\",\\\"xanchor\\\":\\\"center\\\",\\\"y\\\":1.0,\\\"font\\\":{\\\"size\\\":16},\\\"showarrow\\\":false,\\\"yref\\\":\\\"paper\\\",\\\"text\\\":\\\"base Functions\\\",\\\"xref\\\":\\\"paper\\\",\\\"x\\\":0.225},{\\\"yanchor\\\":\\\"bottom\\\",\\\"xanchor\\\":\\\"center\\\",\\\"y\\\":1.0,\\\"font\\\":{\\\"size\\\":16},\\\"showarrow\\\":false,\\\"yref\\\":\\\"paper\\\",\\\"text\\\":\\\"base Derivative Functions\\\",\\\"xref\\\":\\\"paper\\\",\\\"x\\\":0.775}]},{\\\"showLink\\\":false,\\\"editable\\\":false,\\\"responsive\\\":true,\\\"staticPlot\\\":false,\\\"scrollZoom\\\":true}); gd.on(\\\"plotly_hover\\\",(function (data){var filtered_data=WebIO.PlotlyCommands.filterEventData(gd,data,\\\"hover\\\"); return !(filtered_data.isnil) ? (WebIO.setval({\\\"name\\\":\\\"hover\\\",\\\"scope\\\":\\\"1256066426258756899\\\",\\\"id\\\":\\\"18162273702396862751\\\",\\\"type\\\":\\\"observable\\\"},filtered_data.out)) : undefined})); gd.on(\\\"plotly_unhover\\\",(function (){return WebIO.setval({\\\"name\\\":\\\"hover\\\",\\\"scope\\\":\\\"1256066426258756899\\\",\\\"id\\\":\\\"18162273702396862751\\\",\\\"type\\\":\\\"observable\\\"},{})})); gd.on(\\\"plotly_selected\\\",(function (data){var filtered_data=WebIO.PlotlyCommands.filterEventData(gd,data,\\\"selected\\\"); return !(filtered_data.isnil) ? (WebIO.setval({\\\"name\\\":\\\"selected\\\",\\\"scope\\\":\\\"1256066426258756899\\\",\\\"id\\\":\\\"18323508466980899143\\\",\\\"type\\\":\\\"observable\\\"},filtered_data.out)) : undefined})); gd.on(\\\"plotly_deselect\\\",(function (){return WebIO.setval({\\\"name\\\":\\\"selected\\\",\\\"scope\\\":\\\"1256066426258756899\\\",\\\"id\\\":\\\"18323508466980899143\\\",\\\"type\\\":\\\"observable\\\"},{})})); gd.on(\\\"plotly_relayout\\\",(function (data){var filtered_data=WebIO.PlotlyCommands.filterEventData(gd,data,\\\"relayout\\\"); return !(filtered_data.isnil) ? (WebIO.setval({\\\"name\\\":\\\"relayout\\\",\\\"scope\\\":\\\"1256066426258756899\\\",\\\"id\\\":\\\"5544649358518189363\\\",\\\"type\\\":\\\"observable\\\"},filtered_data.out)) : undefined})); return gd.on(\\\"plotly_click\\\",(function (data){var filtered_data=WebIO.PlotlyCommands.filterEventData(gd,data,\\\"click\\\"); return !(filtered_data.isnil) ? (WebIO.setval({\\\"name\\\":\\\"click\\\",\\\"scope\\\":\\\"1256066426258756899\\\",\\\"id\\\":\\\"5414263894484227308\\\",\\\"type\\\":\\\"observable\\\"},filtered_data.out)) : undefined}))}));\\n    (WebIO.importBlock({\\\"data\\\":[{\\\"name\\\":\\\"Plotly\\\",\\\"type\\\":\\\"js\\\",\\\"url\\\":\\\"\\/assetserver\\/829791e6ff21fc5c4b60e5df299f439365241070-plotly.min.js\\\"},{\\\"name\\\":null,\\\"type\\\":\\\"js\\\",\\\"url\\\":\\\"\\/assetserver\\/823f3c894aa43f38c72113b9d92345d26ad2b09b-plotly_webio.bundle.js\\\"}],\\\"type\\\":\\\"async_block\\\"})).then((imports) => handler.apply(this, imports));\\n}\\n\"],\"observables\":{\"_toImage\":{\"sync\":false,\"id\":\"3234630242005229956\",\"value\":{}},\"hover\":{\"sync\":false,\"id\":\"18162273702396862751\",\"value\":{}},\"selected\":{\"sync\":false,\"id\":\"18323508466980899143\",\"value\":{}},\"__gd_contents\":{\"sync\":false,\"id\":\"16019107165546250839\",\"value\":{}},\"click\":{\"sync\":false,\"id\":\"5414263894484227308\",\"value\":{}},\"image\":{\"sync\":true,\"id\":\"11500107215719568394\",\"value\":\"\"},\"__get_gd_contents\":{\"sync\":false,\"id\":\"7434197784364123915\",\"value\":\"\"},\"_downloadImage\":{\"sync\":false,\"id\":\"7275197049167627216\",\"value\":{}},\"relayout\":{\"sync\":false,\"id\":\"5544649358518189363\",\"value\":{}},\"_commands\":{\"sync\":false,\"id\":\"3141281880857251158\",\"value\":[]}}},\"children\":[{\"props\":{\"id\":\"plot-3d2b0b10-4e7a-4778-90ae-a21f04ba27e8\"},\"nodeType\":\"DOM\",\"type\":\"node\",\"instanceArgs\":{\"namespace\":\"html\",\"tag\":\"div\"},\"children\":[]}]},\n",
       "        window,\n",
       "    );\n",
       "    })()\n",
       "    </script>\n",
       "</div>\n"
      ],
      "text/plain": [
       "data: [\n",
       "  \"scatter with fields marker, name, showlegend, type, x, xaxis, y, and yaxis\",\n",
       "  \"scatter with fields marker, name, showlegend, type, x, xaxis, y, and yaxis\",\n",
       "  \"scatter with fields marker, mode, name, type, x, xaxis, y, and yaxis\",\n",
       "  \"scatter with fields marker, mode, name, type, x, xaxis, y, and yaxis\",\n",
       "  \"scatter with fields marker, name, showlegend, type, x, xaxis, y, and yaxis\",\n",
       "  \"scatter with fields marker, name, showlegend, type, x, xaxis, y, and yaxis\",\n",
       "  \"scatter with fields marker, mode, name, type, x, xaxis, y, and yaxis\",\n",
       "  \"scatter with fields marker, mode, name, type, x, xaxis, y, and yaxis\"\n",
       "]\n",
       "\n",
       "layout: \"layout with fields annotations, margin, template, xaxis1, xaxis2, yaxis1, and yaxis2\"\n",
       "\n"
      ]
     },
     "execution_count": 34,
     "metadata": {},
     "output_type": "execute_result"
    }
   ],
   "source": [
    "x, xp = 0:0.01:1, -1:0.01:1.8\n",
    "\n",
    "zeta(x) = x.^2 .* (3 .- 2x)\n",
    "zetap(x) = 6x .* (1 .- x)\n",
    "eta(x) = (x.-1).*x.^2\n",
    "etap(x) = 3x.^2 .- 2x\n",
    "\n",
    "\n",
    "pf = plot([scatter(x=xp, y=zeta(xp), name=\"\", showlegend=false, marker=attr(color=\"DarkBlue\")), \n",
    "      scatter(x=xp, y=eta(xp), name=\"\", showlegend=false, marker=attr(color=\"DarkRed\")),\n",
    "      scatter(x=x, y=zeta(x), name=\"ζ\",  marker=attr(color=\"Violet\"), mode=\"markers\"), \n",
    "      scatter(x=x, y=eta(x), name=\"η\", marker=attr(color=\"Red\"), mode=\"markers\") ],\n",
    "Layout(title=\"base Functions\",  xaxis_title=\"x\",  yaxis_title=\"function\", yaxis_range=(-0.4,1.5)) )\n",
    "\n",
    "pd = plot([scatter(x=xp, y=zetap(xp), name=\"\", showlegend=false, marker=attr(color=\"DarkBlue\")), \n",
    "      scatter(x=xp, y=etap(xp), name=\"\", showlegend=false, marker=attr(color=\"DarkRed\")),\n",
    "      scatter(x=x, y=zetap(x), name=\"ζ'\",  marker=attr(color=\"Violet\"), mode=\"markers\"), \n",
    "      scatter(x=x, y=etap(x), name=\"η'\", marker=attr(color=\"Red\"), mode=\"markers\") ],\n",
    "Layout(title=\"base Derivative Functions\",  xaxis_title=\"x\",  yaxis_title=\"function\", yaxis_range=(-0.4,1.5)) )\n",
    "\n",
    "Pfd = [pf pd]\n",
    "\n"
   ]
  },
  {
   "cell_type": "code",
   "execution_count": null,
   "id": "a15d4fe1",
   "metadata": {},
   "outputs": [],
   "source": []
  },
  {
   "cell_type": "markdown",
   "id": "8dab3a12",
   "metadata": {},
   "source": [
    "#### d\n",
    "\n",
    "With these two functions, $\\zeta$ and $\\eta$, the approximation of $u$ in $H^2_0$, $u_h$, can be write as a linear combination\n",
    "\n",
    "$$\n",
    "u_h (x)  = \\sum_{i=1}^{n-1} \\left[ u_i \\zeta_i(x) +  w_i \\eta_i(x) \\right]\n",
    "$$\n",
    "\n",
    "#### e\n",
    "\n",
    "\n",
    "second derivatives\n",
    "\n",
    "$$\n",
    "\n",
    "$$\n",
    "\n",
    "Discrete weak formulation\n",
    "\n",
    "#### f\n",
    "\n",
    "Matrix components\n",
    "#### g\n",
    "\n",
    "Using the data given in the statement\n",
    "\n",
    "$$ u''''(x) = 1, \\qquad \\qquad u(0)=u(1)=0, \\qquad \\qquad u'(0)=u'(1)=0 $$\n"
   ]
  },
  {
   "cell_type": "markdown",
   "id": "d81662ed",
   "metadata": {},
   "source": [
    "$$\n",
    "b_2 h_{i}  =  2, \\qquad \\Rightarrow  \\qquad \\boxed{b_2 =  \\frac{2}{h_{i}}}\\\\\n",
    "-a_2h_{i}^2   =  -3 , \\qquad \\Rightarrow  \\qquad \\boxed{a_2 =  \\frac{2}{h_{i}^2}} \\\\\n",
    "b_3  = \\frac{1}{h_{i^2}}(b_2 - h_i) , \\qquad \\Rightarrow  \\qquad \\boxed{ }\\\\\n",
    "a_3  = - \\frac{2}{3h_i}a_2 , \\qquad \\Rightarrow  \\qquad \\boxed{a_3  = - \\frac{4}{3h_i^3} }\n",
    "$$\n"
   ]
  },
  {
   "cell_type": "code",
   "execution_count": 11,
   "id": "5af06114-1c03-4f7a-8e93-d9dffe467204",
   "metadata": {},
   "outputs": [
    {
     "data": {
      "text/plain": [
       "p (generic function with 1 method)"
      ]
     },
     "execution_count": 11,
     "metadata": {},
     "output_type": "execute_result"
    }
   ],
   "source": [
    "EJ, L = 1, 1\n",
    "N = [25 50 100 200]\n",
    "\n",
    "p(x) = 1"
   ]
  },
  {
   "cell_type": "markdown",
   "id": "7399e889-d8b9-45b8-b14f-f046c1bad416",
   "metadata": {
    "tags": []
   },
   "source": [
    "e.i.\n",
    "\n",
    "$$\n",
    "a_0  = \\delta_{ik} \\\\\n",
    "a_1 = -\\frac{\\delta_{ik}}{x_{k-1} - x_{k}} \\\\\n",
    "a_2  = -\\frac{a_0 + a_1 (x_{k+1} - x_{k})}{(x_{k+1} - x_{k})(x_{k+1} - x_{k-1})} \\\\\n",
    "a_3 = -\\frac{a_1  + a_2 (x_{k-1} - x_{k})}{(x_{k-1}-x_k)(x_{k-1}-x_{k+1})} = -\\frac{a_1 +  a_2 (x_{k}- x_{k-1})}{(x_k-x_{k-1})(x_k-x_{k+1}) }\n",
    "$$\n",
    "\n",
    "$$\n",
    "b_0 = b_1 = 0 \\\\\n",
    "b_2 = - \\frac{b_0 + b_1 (x_{k+1} - x_{k})}{(x_{k+1} - x_{k})(x_{k+1} - x_{k-1})}\\\\\n",
    "b_3 = -\\frac{b_1 +  b_2 (2x_{k+1} - x_{k}- x_{k-1})}{ (x_{k+1}-x_{k-1})(x_{k+1}-x_{k})} =  -\\frac{b_1 +  b_2 (x_{k}- x_{k-1})}{ (x_k-x_{k-1})(x_k-x_{k+1}) }\n",
    "$$"
   ]
  },
  {
   "cell_type": "markdown",
   "id": "2170824c",
   "metadata": {
    "tags": []
   },
   "source": [
    "\n",
    "Boundary conditions\n",
    "\n",
    "$$\n",
    "\\zeta_i(x_{k-1})=0, \\; \\zeta_i(x_{k+1})=0, \\; \\zeta_i(x_k) = \\delta_{ik}, \\qquad \\zeta_i'(x_{k-1})=0, \\;\\zeta_i'(x_{k+1})=0, \\; \\zeta_i'(x_k) = 0\\\\\n",
    "\\eta_i(x_{k-1})=0, \\;\\eta_i(x_{k+1})=0, \\; \\eta_i(x_k)  = 0, \\qquad \\eta_i'(x_{k-1})=0, \\;\\eta_i'(x_{k+1})=0, \\; \\eta_i'(x_k)  = \\delta_{ik}\n",
    "$$\n",
    "\n",
    "Functions and derivatives\n",
    "\n",
    "$$\n",
    "\\zeta_i(x) = a_0 + a_1 (x - x_{k}) +  a_2 (x - x_{k})(x - x_{k-1}) +  a_3 (x - x_{k})(x - x_{k-1})(x - x_{k+1})\\\\\n",
    "\\zeta_i'(x) =  a_1 +  a_2 (2x - x_{k}- x_{k-1}) +  a_3 \\left[ (x-x_{k-1})(2x-x_{k+1}-x_{k})+ (x-x_k)(x-x_{k+1}) \\right] \\\\\n",
    "\\eta_i(x) = b_0 + b_1 (x - x_{k}) +  b_2 (x - x_{k})(x - x_{k-1}) +  b_3 (x - x_{k})(x - x_{k-1})(x - x_{k+1})\\\\\n",
    "\\eta_i'(x) = b_1 +  b_2 (2x - x_{k}- x_{k-1}) +  b_3  \\left[ (x-x_{k-1})(2x-x_{k+1}-x_{k})+ (x-x_k)(x-x_{k+1}) \\right]\n",
    "$$\n",
    "\n",
    "\n",
    "Using the boundary conditions at $x_{k-1}$ \n",
    "\n",
    "$$\n",
    "\\zeta_i(x_{k-1}) = a_0 + a_1 (x_{k-1} - x_{k})=0, \\Rightarrow \\boxed{a_1 = -\\frac{a_0}{x_{k-1} - x_{k}} } \\\\\n",
    "\\zeta_i'(x_{k-1}) =  a_1  + a_2 (2x_{k-1} - x_{k}- x_{k-1}) + a_3 (x_{k-1}-x_k)(x_{k-1}-x_{k+1}) =0, \\qquad \\Rightarrow a_3 = -\\frac{a_1  + a_2 (x_{k-1} - x_{k})}{(x_{k-1}-x_k)(x_{k-1}-x_{k+1})}  \\\\\n",
    "\\eta_i(x_{k-1}) = b_0 + b_1 (x_{k-1} - x_{k})=0 , \\qquad \\Rightarrow  \\boxed{b_1 =-\\frac{b_0}{x_{k-1} - x_{k}}}\\\\\n",
    "\\eta_i'(x_{k-1}) = b_1 +  b_2 (2x_{k-1} - x_{k}- x_{k-1}) +  b_3 (x_{k-1}-x_k)(x_{k-1}-x_{k+1})=0 , \\qquad \\Rightarrow b_3 =-\\frac{ b_1 +  b_2 (x_{k-1} - x_{k})}{(x_{k-1}-x_k)(x_{k-1}-x_{k+1})} \n",
    "$$\n",
    "\n",
    "\n",
    "and at $x_{k+1}$\n",
    "\n",
    "$$\n",
    "\\zeta_i(x_{k+1}) = a_0 + a_1 (x_{k+1} - x_{k}) +  a_2 (x_{k+1} - x_{k})(x_{k+1} - x_{k-1}) =0 , \\qquad \\Rightarrow a_2  = -\\frac{a_0 + a_1 (x_{k+1} - x_{k})}{(x_{k+1} - x_{k})(x_{k+1} - x_{k-1})}\\\\\n",
    "\\zeta_i'(x_{k+1}) =  a_1 +  a_2 (2x_{k+1} - x_{k}- x_{k-1}) +  a_3  (x_{k+1}-x_{k-1})(2x_{k+1}-x_{k+1}-x_{k}))=0, \\qquad \\Rightarrow a_3 = -\\frac{a_1 +  a_2 (2x_{k+1} - x_{k}- x_{k-1})}{(x_{k+1}-x_{k-1})(x_{k+1}-x_{k})}   \\\\\n",
    "\\eta_i(x_{k+1}) = b_0 + b_1 (x_{k+1} - x_{k}) +  b_2 (x_{k+1} - x_{k})(x_{k+1} - x_{k-1})=0, \\qquad \\Rightarrow b_2 = - \\frac{b_0 + b_1 (x_{k+1} - x_{k})}{(x_{k+1} - x_{k})(x_{k+1} - x_{k-1})}\\\\\n",
    "\\eta_i'(x_{k+1}) = b_1 +  b_2 (2x_{k+1} - x_{k}- x_{k-1}) +  b_3  (x_{k+1}-x_{k-1})(2x_{k+1}-x_{k+1}-x_{k}))=0, \\qquad \\Rightarrow  b_3 = -\\frac{b_1 +  b_2 (2x_{k+1} - x_{k}- x_{k-1})}{ (x_{k+1}-x_{k-1})(x_{k+1}-x_{k})}\n",
    "$$\n",
    "\n",
    "Furthermore, the conditions at $x_k$\n",
    "\n",
    "$$\n",
    "\\zeta_i(x_k) = a_0  = \\delta_{ik}, \\qquad \\eta_i(x_k) = b_0 = 0, \\qquad \\Rightarrow \\boxed{b_0 = 0, \\; a_0 = \\delta_{ik}}  \n",
    "$$\n",
    "\n",
    "\n",
    "$$\n",
    "\\zeta_i'(x_k) =  a_1 +  a_2 (x_{k}- x_{k-1}) +  a_3  (x_k-x_{k-1})(x_k-x_{k+1})  = 0, \\qquad a_3 = -\\frac{a_1 +  a_2 (x_{k}- x_{k-1})}{(x_k-x_{k-1})(x_k-x_{k+1}) }\\\\\n",
    "\\eta_i'(x_k) = b_1 +  b_2 (x_{k}- x_{k-1}) +  b_3   (x_k-x_{k-1})(x_k-x_{k+1})  = \\delta_{ik}, \\qquad b_3 = -\\frac{b_1 +  b_2 (x_{k}- x_{k-1})}{ (x_k-x_{k-1})(x_k-x_{k+1}) }\n",
    "$$\n"
   ]
  },
  {
   "cell_type": "markdown",
   "id": "610e1e98",
   "metadata": {},
   "source": [
    "\n",
    "Functions and derivatives\n",
    "\n",
    "$$\n",
    "\\zeta_i(x) = a_0 + a_1 (x - x_{i}) +  a_2 (x - x_{i})(x - x_{i-1}) +  a_3 (x - x_{i})(x - x_{i-1})(x - x_{i+1})\\\\\n",
    "\\zeta_i'(x) =  a_1 +  a_2 (2x - x_{i}- x_{i-1}) +  a_3 \\left[ (x-x_{i-1})(2x-x_{i+1}-x_{i})+ (x-x_i)(x-x_{i+1}) \\right] \\\\\n",
    "\\eta_i(x) = b_0 + b_1 (x - x_{i}) +  b_2 (x - x_{i})(x - x_{i-1}) +  b_3 (x - x_{i})(x - x_{i-1})(x - x_{i+1})\\\\\n",
    "\\eta_i'(x) = b_1 +  b_2 (2x - x_{i}- x_{i-1}) +  b_3  \\left[ (x-x_{i-1})(2x-x_{i+1}-x_{i})+ (x-x_i)(x-x_{i+1}) \\right]\n",
    "$$\n",
    "\n",
    "\n",
    "Using the boundary conditions at $x_{k-1}$ \n",
    "\n",
    "\n",
    "$$\n",
    "\\zeta_i(x_{i-1}) = a_0 + a_1 (x_{i-1} - x_{i})=0, \\qquad \\Rightarrow \\qquad a_1 = -\\frac{a_0}{(x_{i-1} - x_{i})}\\\\\n",
    "\\zeta_i(x_{i}) = a_0 = 1, \\qquad \\Rightarrow \\qquad \\boxed{a_0 = 1}\\\\\n",
    "\\zeta_i'(x_{i-1}) =  a_1 +  a_2 (x_{i-1} - x_{i}) +  a_3 (x_{i-1}-x_i)(x_{i-1}-x_{i+1})  = 0 , \\qquad \\Rightarrow \\qquad a_3 = -\\frac{ a_1 +  a_2 (x_{i-1} - x_{i})}{(x_{i-1}-x_i)(x_{i-1}-x_{i+1}) } \\\\\n",
    "\\zeta_i'(x_{i}) =  a_1 +  a_2 (x_{i}- x_{i-1}) +  a_3 (x_{i}-x_{i-1})(x_{i}-x_{i+1})  = 0 , \\qquad\\Rightarrow \\qquad a_3 = -\\frac{ a_1 +  a_2 (x_{i}- x_{i-1}) }{(x_{i}-x_{i-1})(x_{i}-x_{i+1})}\n",
    "$$\n",
    "\n",
    "\n",
    "$$\n",
    "\\eta_i(x_{i-1}) = b_0 + b_1 (x_{i-1} - x_{i}) = 0 , \\qquad \\Rightarrow \\qquad b_1 = -\\frac{b_0}{(x_{i-1} - x_{i})}\\\\\n",
    "\\eta_i(x_{i}) = b_0 = 0 , \\qquad\\Rightarrow \\qquad\\boxed{b_0 = 0} \\\\\n",
    "\\eta_i'(x_{i-1}) = b_1 +  b_2 (x_{i-1} - x_{i}) +  b_3 (x_{i-1}-x_i)(x_{i-1}-x_{i+1}) = 0 , \\qquad \\Rightarrow \\qquad b_3 = - \\frac{b_1 +  b_2 (x_{i-1} - x_{i}) }{ (x_{i-1}-x_i)(x_{i-1}-x_{i+1})} \\\\\n",
    "\\eta_i'(x_{i}) = b_1 +  b_2 (x_{i}- x_{i-1}) +  b_3  (x_{i}-x_{i-1})(x_{i}-x_{i+1}) = 1 , \\qquad \\Rightarrow \\qquad b_3 = \\frac{1- b_1 -  b_2 (x_{i}- x_{i-1}) }{ (x_{i}-x_{i-1})(x_{i}-x_{i+1})}\n",
    "$$\n",
    "\n",
    "Then,\n",
    "\n",
    "$$\n",
    "\\boxed{a_1 = \\frac{1}{x_i - x_{i-1}}}\\\\\n",
    "a_3 = \\frac{1}{(x_{i-1}-x_i)^2(x_{i-1}-x_{i+1}) } - \\frac{ a_2 }{(x_{i-1}-x_{i+1}) } = -\\frac{ 1 }{(x_{i}-x_{i-1})^2(x_{i}-x_{i+1})}  -\\frac{a_2 }{(x_{i}-x_{i+1})}\n",
    "$$\n",
    "\n",
    "\n",
    "$$\n",
    "\\boxed{b_1 = 0}\\\\\n",
    "b_3 = - \\frac{ b_2 }{(x_{i-1}-x_{i+1})} = \\frac{1}{ (x_{i}-x_{i-1})(x_{i}-x_{i+1})} - \\frac{b_2 }{(x_{i}-x_{i+1})}\n",
    "$$\n",
    "\n",
    "\n",
    "\n",
    "$$\n",
    "a_2 \\left[\\frac{1 }{(x_{i}-x_{i+1})} - \\frac{1}{(x_{i-1}-x_{i+1}) } \\right] = - \\frac{1}{(x_{i}-x_{i-1})^2}\\left[\\frac{ 1 }{(x_{i}-x_{i+1})}  +  \\frac{1}{(x_{i-1}-x_{i+1}) } \\right] \\\\\n",
    "a_2 \\left[\\frac{(x_{i-1}-x_{i+1}) - (x_{i}-x_{i+1}) }{(x_{i}-x_{i+1})(x_{i-1}-x_{i+1})} \\right] = - \\frac{1}{(x_{i}-x_{i-1})^2}\\left[\\frac{x_{i-1}-x_{i+1}+x_{i}-x_{i+1}}{(x_{i}-x_{i+1})(x_{i-1}-x_{i+1})} \\right] \\\\\n",
    "a_2 \\left[\\frac{x_{i-1} - x_{i}}{(x_{i}-x_{i+1})(x_{i-1}-x_{i+1})} \\right] = - \\frac{1}{(x_{i}-x_{i-1})^2}\\left[\\frac{\n",
    "-2x_{i+1}+x_{i}+x_{i-1}}{(x_{i}-x_{i+1})(x_{i-1}-x_{i+1})} \\right] \\\\\n",
    "\\Rightarrow \\qquad \\boxed{a_2 = \\frac{ 2x_{i+1}-x_{i}-x_{i-1}}{(x_{i}-x_{i-1})^3}}\n",
    "$$\n",
    "\n",
    "$$\n",
    "b_2 \\left[ \\frac{1}{(x_{i}-x_{i+1})} -  \\frac{1}{(x_{i-1}-x_{i+1})} \\right] = \\frac{1}{ (x_{i}-x_{i-1})(x_{i}-x_{i+1})} \\\\\n",
    "b_2 \\left[ \\frac{x_{i-1}- x_{i}}{(x_{i}-x_{i+1})(x_{i-1}-x_{i+1})} \\right] = \\frac{1}{ (x_{i}-x_{i-1})(x_{i}-x_{i+1})} \\\\\n",
    "\\Rightarrow \\qquad \\boxed{b_2 = \\frac{x_{i+1} -x_{i-1}}{(x_{i}-x_{i+1})^2} }\n",
    "$$\n",
    "\n",
    "Replacing $a_2$ and $b_2$ to find $a_3$ and $b_3$\n",
    "\n",
    "$$\n",
    "a_3 = \\frac{1}{(x_{i-1}-x_i)^2(x_{i-1}-x_{i+1}) } - \\frac{1}{(x_{i-1}-x_{i+1}) } \\; \\dot \\; \\frac{ 2x_{i+1}-x_{i}-x_{i-1}}{(x_{i}-x_{i-1})^3} =  \n",
    "\\frac{1}{(x_{i-1}-x_i)^3(x_{i-1}-x_{i+1}) }  \\left[ x_{i-1}-x_i + 2x_{i+1}-x_{i}-x_{i-1} \\right] \\\\\n",
    "\\Rightarrow \\qquad \\boxed{a_3 =  \\frac{2( x_{i+1} -x_i)}{(x_{i-1}-x_i)^3(x_{i-1}-x_{i+1}) }   } \\\\\n",
    "b_3 = - \\frac{ 1}{(x_{i-1}-x_{i+1})} \\; \\cdot \\; \\frac{x_{i+1} -x_{i-1}}{(x_{i}-x_{i+1})^2}, \\qquad \\Rightarrow \\qquad \\boxed{b_3  = \\frac{1}{(x_{i}-x_{i+1})^2}}\n",
    "$$\n",
    "\n",
    "Finally, the functions are\n",
    "\n",
    "$$\n",
    "\\zeta_i(x) = 1 + \\frac{1}{x_i - x_{i-1}} (x - x_{i}) +  \\frac{ 2x_{i+1}-x_{i}-x_{i-1}}{(x_{i}-x_{i-1})^3} (x - x_{i})(x - x_{i-1}) +   \\frac{2( x_{i+1} -x_i)}{(x_{i-1}-x_i)^3(x_{i-1}-x_{i+1}) } (x - x_{i})(x - x_{i-1})(x - x_{i+1})\\\\\n",
    "\\eta_i(x) =  \\frac{x_{i+1} -x_{i-1}}{(x_{i}-x_{i+1})^2}  (x - x_{i})(x - x_{i-1}) +  \\frac{1}{(x_{i}-x_{i+1})^2} (x - x_{i})(x - x_{i-1})(x - x_{i+1})\\\\\n",
    "$$\n",
    "\n",
    "Factorizing,\n",
    "\n",
    "$$\n",
    "\\zeta_i(x) = 1 + \\frac{1}{x_i - x_{i-1}} (x - x_{i}) +  \\frac{ 2x_{i+1}-x_{i}-x_{i-1}}{(x_{i}-x_{i-1})^3} (x - x_{i})(x - x_{i-1}) -   \\frac{2( x_{i+1} -x_i)}{(x_{i}-x_{i-1})^3(x_{i-1}-x_{i+1}) } (x - x_{i})(x - x_{i-1})(x - x_{i+1})\\\\\n",
    "\\eta_i(x) =  \\frac{(x - x_{i})(x - x_{i-1})^2}{(x_{i}-x_{i+1})^2} \n",
    "$$"
   ]
  }
 ],
 "metadata": {
  "@webio": {
   "lastCommId": "e368cb3290bb448ebe292d60bf60648c",
   "lastKernelId": "b2095976-4204-4169-b885-5ae4673cc2a1"
  },
  "kernelspec": {
   "display_name": "Julia 1.7.2",
   "language": "julia",
   "name": "julia-1.7"
  },
  "language_info": {
   "file_extension": ".jl",
   "mimetype": "application/julia",
   "name": "julia",
   "version": "1.7.2"
  }
 },
 "nbformat": 4,
 "nbformat_minor": 5
}
