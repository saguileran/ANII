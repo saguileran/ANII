{
 "cells": [
  {
   "cell_type": "markdown",
   "id": "bad72c44",
   "metadata": {},
   "source": [
    "<center> <h1> <b>HOMEWORK 2<b></h1> </center>\n",
    "<center> <h2> Numerical Analysis II - 2022</h2> </center>\n",
    "<center> <h3> Fabián Eduardo Suárez Castellanos and Sebastian Aguilera Novoa</h3> </center>"
   ]
  },
  {
   "cell_type": "markdown",
   "id": "aa5e7466",
   "metadata": {},
   "source": [
    "## 1.T\n",
    "\n",
    "Use the Galerkin method with the functions ${\\phi_1, \\phi_2} = \\{x^2-2x, x(x-1)^2\\}$ to get an aproximated solution (two parameters) of the BVP solution\n",
    "\n",
    "$$ \\frac{d^2 u}{dx^2} + u = 1; \\qquad 0<x<1\\qquad \\text{with} \\quad u(0)=0, \\qquad u'(1)= \\frac{du}{dx}\\Bigg|_{x=1}=0$$\n",
    "\n",
    "Find the residual error $\\epsilon(x)= d^2u_n/dx^2+u_n-1$. Plot in a single plane the aproximate solution $u_n$, the exact solution $u=-\\cos(x)-\\tan(1)\\sin(x)+1$ and the residual error $\\epsilon(x)$"
   ]
  },
  {
   "cell_type": "markdown",
   "id": "91030d3c-1061-4899-99bd-2353cf2bec9e",
   "metadata": {
    "tags": []
   },
   "source": [
    "## Solution"
   ]
  },
  {
   "cell_type": "markdown",
   "id": "320fe06a-6e9e-41b6-8c3f-e45e3a855803",
   "metadata": {},
   "source": [
    "Multiplying by a test function $v|v(0) =  v'(1) = 0$ and integrating over $I$ the differential equation\n",
    "\n",
    "$$\\int_0^1v u'' dx + \\int_0^1 vu dx = \\int_0^1  v dx  $$\n",
    "\n",
    "integrating by steps the first term and rem\n",
    "\n",
    "$$ \\int_0^1 vu'' dx =   vu'\\Big|_0^1 - \\int_0^1 v'u' dx = vu'\\Big|_0^1 - \\int_0^1 v'u' dx = v(1)u'(1) - v(0)u'(0)- \\int_0^1 v'u' dx  =- \\int_0^1 v'u' dx $$\n",
    "\n",
    "$$ - \\int_0^1 v'u' dx + \\int_0^1 vu dx = \\int_0^1  v dx  $$\n",
    "\n",
    "Rewriting the last equation as $a(u,v) = Lu$ with\n",
    "\n",
    "$$\n",
    "a(u,v) = \\int_0^1 (v'u' - vu) dx\n",
    "Lv = -\\int_0^1  v dx \n",
    "$$\n",
    "\n",
    "Now, approximating by finite elements. Find $u \\in V_h$ such that\n",
    "\n",
    "$$ - \\int_0^1 v'u_h' dx + \\int_0^1 vu_h dx = \\int_0^1  v dx  $$\n",
    "\n",
    "Finite dimensional space to build the lineal system\n",
    "\n",
    "$$ u_h(x) = \\sum_{j=1}^{n-1} u_j \\phi_j(x), \\qquad v = \\phi_i(x) $$\n",
    "\n",
    "$$ \\sum_{j=1}^{n-1} u_j \\left(\\int_0^1 (-1) \\phi_i'\\phi_j'  \\right)   dx + \\sum_{j=1}^{n-1} u_j \\left(\\int_0^1 \\phi_i\\phi_j  \\right) dx= \\int_0^1  \\phi_i(x) dx\\\\\n",
    "\\sum_{j=1}^{n-1} u_j  a_{ij}  dx + \\sum_{j=1}^{n-1} u_j m_{ij} = b_i$$\n",
    "\n",
    "with \n",
    "\n",
    "$$\n",
    "A = (a_{ij}) = \\int_0^1 (-1) \\phi_i'\\phi_j' dx\\\\\n",
    "M = (m_{ij}) = \\int_0^1 \\phi_i\\phi_j dx \\\\\n",
    "b = (b_i) =  \\int_0^1  \\phi_i(x) dx\n",
    "$$\n",
    "\n",
    "Now, let's calculate these matrices using the following base of two functions\n",
    "\n",
    "$${\\phi_1, \\phi_2} = \\{x^2-2x, x^3-2x^2+x\\}, \\qquad {\\phi_1', \\phi_2'} = \\{2x-2, 3x^2-4x+1\\}$$\n",
    "\n",
    "$$ a_{ii-1} = \\int_0^1 (-1) \\phi_i'\\phi_i-1' dx $$\n"
   ]
  },
  {
   "cell_type": "code",
   "execution_count": null,
   "id": "1b6834da",
   "metadata": {},
   "outputs": [],
   "source": [
    "using PlotlyJS"
   ]
  },
  {
   "cell_type": "code",
   "execution_count": 17,
   "id": "714da706",
   "metadata": {},
   "outputs": [
    {
     "data": {
      "application/vnd.plotly.v1+json": {
       "data": [
        {
         "name": "Φ1",
         "type": "scatter",
         "x": [
          0,
          0.1,
          0.2,
          0.3,
          0.4,
          0.5,
          0.6,
          0.7,
          0.8,
          0.9,
          1
         ],
         "y": [
          0,
          -0.19,
          -0.36,
          -0.51,
          -0.64,
          -0.75,
          -0.84,
          -0.9099999999999999,
          -0.96,
          -0.99,
          -1
         ]
        },
        {
         "name": "Φ2",
         "type": "scatter",
         "x": [
          0,
          0.1,
          0.2,
          0.3,
          0.4,
          0.5,
          0.6,
          0.7,
          0.8,
          0.9,
          1
         ],
         "y": [
          0,
          0.08100000000000002,
          0.12800000000000003,
          0.14699999999999996,
          0.144,
          0.125,
          0.09600000000000002,
          0.06300000000000001,
          0.03199999999999999,
          0.008999999999999996,
          0
         ]
        }
       ],
       "frames": [],
       "layout": {
        "autosize": true,
        "margin": {
         "b": 50,
         "l": 50,
         "r": 50,
         "t": 60
        },
        "title": {
         "text": "Φ Functions"
        },
        "xaxis": {
         "autorange": true,
         "range": [
          -0.06014086057004513,
          1.060140860570045
         ],
         "title": {
          "text": "x"
         },
         "type": "linear"
        },
        "yaxis": {
         "autorange": true,
         "range": [
          -1.0856954022988505,
          0.23269540229885055
         ],
         "title": {
          "text": "Φ"
         },
         "type": "linear"
        }
       }
      },
      "application/vnd.webio.node+json": {
       "children": [
        {
         "children": [],
         "instanceArgs": {
          "namespace": "html",
          "tag": "div"
         },
         "nodeType": "DOM",
         "props": {
          "id": "plot-d373b741-1ff7-4bf2-b228-9f10a03bf3b5"
         },
         "type": "node"
        }
       ],
       "instanceArgs": {
        "handlers": {
         "__get_gd_contents": [
          "(function (prop){prop==\"data\" ? (WebIO.setval({\"name\":\"__gd_contents\",\"scope\":\"3752243462921923317\",\"id\":\"14754931412370327937\",\"type\":\"observable\"},this.plotElem.data)) : undefined; return prop==\"layout\" ? (WebIO.setval({\"name\":\"__gd_contents\",\"scope\":\"3752243462921923317\",\"id\":\"14754931412370327937\",\"type\":\"observable\"},this.plotElem.layout)) : undefined})"
         ],
         "_commands": [
          "(function (args){var fn=args.shift(); var elem=this.plotElem; var Plotly=this.Plotly; args.unshift(elem); return Plotly[fn].apply(this,args)})"
         ],
         "_downloadImage": [
          "(function (options){return this.Plotly.downloadImage(this.plotElem,options)})"
         ],
         "_toImage": [
          "(function (options){return this.Plotly.toImage(this.plotElem,options).then((function (data){return WebIO.setval({\"name\":\"image\",\"scope\":\"3752243462921923317\",\"id\":\"1116286710603948535\",\"type\":\"observable\"},data)}))})"
         ]
        },
        "id": "3752243462921923317",
        "imports": {
         "data": [
          {
           "name": "Plotly",
           "type": "js",
           "url": "/assetserver/c843c6635296ea5f415808032e6c1f322a3239cd-plotly.min.js"
          },
          {
           "name": null,
           "type": "js",
           "url": "/assetserver/44e1943a6c8ed4b38e47f64f07dc32566142c8ee-plotly_webio.bundle.js"
          }
         ],
         "type": "async_block"
        },
        "mount_callbacks": [
         "function () {\n    var handler = ((function (Plotly,PlotlyWebIO){PlotlyWebIO.init(WebIO); var gd=this.dom.querySelector(\"#plot-d373b741-1ff7-4bf2-b228-9f10a03bf3b5\"); this.plotElem=gd; this.Plotly=Plotly; (window.Blink!==undefined) ? (gd.style.width=\"100%\", gd.style.height=\"100vh\", gd.style.marginLeft=\"0%\", gd.style.marginTop=\"0vh\") : undefined; window.onresize=(function (){return Plotly.Plots.resize(gd)}); Plotly.newPlot(gd,[{\"y\":[0.0,-0.19,-0.36,-0.51,-0.64,-0.75,-0.84,-0.9099999999999999,-0.96,-0.99,-1.0],\"type\":\"scatter\",\"name\":\"Φ1\",\"x\":[0.0,0.1,0.2,0.3,0.4,0.5,0.6,0.7,0.8,0.9,1.0]},{\"y\":[0.0,0.08100000000000002,0.12800000000000003,0.14699999999999996,0.144,0.125,0.09600000000000002,0.06300000000000001,0.03199999999999999,0.008999999999999996,0.0],\"type\":\"scatter\",\"name\":\"Φ2\",\"x\":[0.0,0.1,0.2,0.3,0.4,0.5,0.6,0.7,0.8,0.9,1.0]}],{\"xaxis\":{\"title\":\"x\"},\"margin\":{\"l\":50,\"b\":50,\"r\":50,\"t\":60},\"title\":\"Φ Functions\",\"yaxis\":{\"title\":\"Φ\"}},{}); gd.on(\"plotly_hover\",(function (data){var filtered_data=WebIO.PlotlyCommands.filterEventData(gd,data,\"hover\"); return !(filtered_data.isnil) ? (WebIO.setval({\"name\":\"hover\",\"scope\":\"3752243462921923317\",\"id\":\"349778856300988861\",\"type\":\"observable\"},filtered_data.out)) : undefined})); gd.on(\"plotly_unhover\",(function (){return WebIO.setval({\"name\":\"hover\",\"scope\":\"3752243462921923317\",\"id\":\"349778856300988861\",\"type\":\"observable\"},{})})); gd.on(\"plotly_selected\",(function (data){var filtered_data=WebIO.PlotlyCommands.filterEventData(gd,data,\"selected\"); return !(filtered_data.isnil) ? (WebIO.setval({\"name\":\"selected\",\"scope\":\"3752243462921923317\",\"id\":\"12815027409090655774\",\"type\":\"observable\"},filtered_data.out)) : undefined})); gd.on(\"plotly_deselect\",(function (){return WebIO.setval({\"name\":\"selected\",\"scope\":\"3752243462921923317\",\"id\":\"12815027409090655774\",\"type\":\"observable\"},{})})); gd.on(\"plotly_relayout\",(function (data){var filtered_data=WebIO.PlotlyCommands.filterEventData(gd,data,\"relayout\"); return !(filtered_data.isnil) ? (WebIO.setval({\"name\":\"relayout\",\"scope\":\"3752243462921923317\",\"id\":\"6303871865236858947\",\"type\":\"observable\"},filtered_data.out)) : undefined})); return gd.on(\"plotly_click\",(function (data){var filtered_data=WebIO.PlotlyCommands.filterEventData(gd,data,\"click\"); return !(filtered_data.isnil) ? (WebIO.setval({\"name\":\"click\",\"scope\":\"3752243462921923317\",\"id\":\"7671428951586814660\",\"type\":\"observable\"},filtered_data.out)) : undefined}))}));\n    (WebIO.importBlock({\"data\":[{\"name\":\"Plotly\",\"type\":\"js\",\"url\":\"/assetserver/c843c6635296ea5f415808032e6c1f322a3239cd-plotly.min.js\"},{\"name\":null,\"type\":\"js\",\"url\":\"/assetserver/44e1943a6c8ed4b38e47f64f07dc32566142c8ee-plotly_webio.bundle.js\"}],\"type\":\"async_block\"})).then((imports) => handler.apply(this, imports));\n}\n"
        ],
        "observables": {
         "__gd_contents": {
          "id": "14754931412370327937",
          "sync": false,
          "value": {}
         },
         "__get_gd_contents": {
          "id": "6288367005373789578",
          "sync": false,
          "value": ""
         },
         "_commands": {
          "id": "4935865097958284371",
          "sync": false,
          "value": []
         },
         "_downloadImage": {
          "id": "7618793279093781449",
          "sync": false,
          "value": {}
         },
         "_toImage": {
          "id": "12812813336268665634",
          "sync": false,
          "value": {}
         },
         "click": {
          "id": "7671428951586814660",
          "sync": false,
          "value": {}
         },
         "hover": {
          "id": "349778856300988861",
          "sync": false,
          "value": {}
         },
         "image": {
          "id": "1116286710603948535",
          "sync": true,
          "value": ""
         },
         "relayout": {
          "id": "6303871865236858947",
          "sync": false,
          "value": {}
         },
         "selected": {
          "id": "12815027409090655774",
          "sync": false,
          "value": {}
         }
        },
        "systemjs_options": null
       },
       "nodeType": "Scope",
       "props": {},
       "type": "node"
      },
      "image/png": "[encoded data removed]",
      "text/html": [
       "<div\n",
       "    class=\"webio-mountpoint\"\n",
       "    data-webio-mountpoint=\"3629643573384009373\"\n",
       ">\n",
       "    <script>\n",
       "    (function(){\n",
       "    // Some integrations (namely, IJulia/Jupyter) use an alternate render pathway than\n",
       "    // just putting the html on the page. If WebIO isn't defined, then it's pretty likely\n",
       "    // that we're in one of those situations and the integration just isn't installed\n",
       "    // correctly.\n",
       "    if (typeof window.WebIO === \"undefined\") {\n",
       "        document\n",
       "            .querySelector('[data-webio-mountpoint=\"3629643573384009373\"]')\n",
       "            .innerHTML = (\n",
       "                '<div style=\"padding: 1em; background-color: #f8d6da; border: 1px solid #f5c6cb; font-weight: bold;\">' +\n",
       "                '<p><strong>WebIO not detected.</strong></p>' +\n",
       "                '<p>Please read ' +\n",
       "                '<a href=\"https://juliagizmos.github.io/WebIO.jl/latest/troubleshooting/not-detected/\" target=\"_blank\">the troubleshooting guide</a> ' +\n",
       "                'for more information on how to resolve this issue.</p>' +\n",
       "                '<p><a href=\"https://juliagizmos.github.io/WebIO.jl/latest/troubleshooting/not-detected/\" target=\"_blank\">https://juliagizmos.github.io/WebIO.jl/latest/troubleshooting/not-detected/</a></p>' +\n",
       "                '</div>'\n",
       "            );\n",
       "        return;\n",
       "    }\n",
       "    WebIO.mount(\n",
       "        document.querySelector('[data-webio-mountpoint=\"3629643573384009373\"]'),\n",
       "        {\"props\":{},\"nodeType\":\"Scope\",\"type\":\"node\",\"instanceArgs\":{\"imports\":{\"data\":[{\"name\":\"Plotly\",\"type\":\"js\",\"url\":\"\\/assetserver\\/c843c6635296ea5f415808032e6c1f322a3239cd-plotly.min.js\"},{\"name\":null,\"type\":\"js\",\"url\":\"\\/assetserver\\/44e1943a6c8ed4b38e47f64f07dc32566142c8ee-plotly_webio.bundle.js\"}],\"type\":\"async_block\"},\"id\":\"3752243462921923317\",\"handlers\":{\"_toImage\":[\"(function (options){return this.Plotly.toImage(this.plotElem,options).then((function (data){return WebIO.setval({\\\"name\\\":\\\"image\\\",\\\"scope\\\":\\\"3752243462921923317\\\",\\\"id\\\":\\\"1116286710603948535\\\",\\\"type\\\":\\\"observable\\\"},data)}))})\"],\"__get_gd_contents\":[\"(function (prop){prop==\\\"data\\\" ? (WebIO.setval({\\\"name\\\":\\\"__gd_contents\\\",\\\"scope\\\":\\\"3752243462921923317\\\",\\\"id\\\":\\\"14754931412370327937\\\",\\\"type\\\":\\\"observable\\\"},this.plotElem.data)) : undefined; return prop==\\\"layout\\\" ? (WebIO.setval({\\\"name\\\":\\\"__gd_contents\\\",\\\"scope\\\":\\\"3752243462921923317\\\",\\\"id\\\":\\\"14754931412370327937\\\",\\\"type\\\":\\\"observable\\\"},this.plotElem.layout)) : undefined})\"],\"_downloadImage\":[\"(function (options){return this.Plotly.downloadImage(this.plotElem,options)})\"],\"_commands\":[\"(function (args){var fn=args.shift(); var elem=this.plotElem; var Plotly=this.Plotly; args.unshift(elem); return Plotly[fn].apply(this,args)})\"]},\"systemjs_options\":null,\"mount_callbacks\":[\"function () {\\n    var handler = ((function (Plotly,PlotlyWebIO){PlotlyWebIO.init(WebIO); var gd=this.dom.querySelector(\\\"#plot-d373b741-1ff7-4bf2-b228-9f10a03bf3b5\\\"); this.plotElem=gd; this.Plotly=Plotly; (window.Blink!==undefined) ? (gd.style.width=\\\"100%\\\", gd.style.height=\\\"100vh\\\", gd.style.marginLeft=\\\"0%\\\", gd.style.marginTop=\\\"0vh\\\") : undefined; window.onresize=(function (){return Plotly.Plots.resize(gd)}); Plotly.newPlot(gd,[{\\\"y\\\":[0.0,-0.19,-0.36,-0.51,-0.64,-0.75,-0.84,-0.9099999999999999,-0.96,-0.99,-1.0],\\\"type\\\":\\\"scatter\\\",\\\"name\\\":\\\"Φ1\\\",\\\"x\\\":[0.0,0.1,0.2,0.3,0.4,0.5,0.6,0.7,0.8,0.9,1.0]},{\\\"y\\\":[0.0,0.08100000000000002,0.12800000000000003,0.14699999999999996,0.144,0.125,0.09600000000000002,0.06300000000000001,0.03199999999999999,0.008999999999999996,0.0],\\\"type\\\":\\\"scatter\\\",\\\"name\\\":\\\"Φ2\\\",\\\"x\\\":[0.0,0.1,0.2,0.3,0.4,0.5,0.6,0.7,0.8,0.9,1.0]}],{\\\"xaxis\\\":{\\\"title\\\":\\\"x\\\"},\\\"margin\\\":{\\\"l\\\":50,\\\"b\\\":50,\\\"r\\\":50,\\\"t\\\":60},\\\"title\\\":\\\"Φ Functions\\\",\\\"yaxis\\\":{\\\"title\\\":\\\"Φ\\\"}},{}); gd.on(\\\"plotly_hover\\\",(function (data){var filtered_data=WebIO.PlotlyCommands.filterEventData(gd,data,\\\"hover\\\"); return !(filtered_data.isnil) ? (WebIO.setval({\\\"name\\\":\\\"hover\\\",\\\"scope\\\":\\\"3752243462921923317\\\",\\\"id\\\":\\\"349778856300988861\\\",\\\"type\\\":\\\"observable\\\"},filtered_data.out)) : undefined})); gd.on(\\\"plotly_unhover\\\",(function (){return WebIO.setval({\\\"name\\\":\\\"hover\\\",\\\"scope\\\":\\\"3752243462921923317\\\",\\\"id\\\":\\\"349778856300988861\\\",\\\"type\\\":\\\"observable\\\"},{})})); gd.on(\\\"plotly_selected\\\",(function (data){var filtered_data=WebIO.PlotlyCommands.filterEventData(gd,data,\\\"selected\\\"); return !(filtered_data.isnil) ? (WebIO.setval({\\\"name\\\":\\\"selected\\\",\\\"scope\\\":\\\"3752243462921923317\\\",\\\"id\\\":\\\"12815027409090655774\\\",\\\"type\\\":\\\"observable\\\"},filtered_data.out)) : undefined})); gd.on(\\\"plotly_deselect\\\",(function (){return WebIO.setval({\\\"name\\\":\\\"selected\\\",\\\"scope\\\":\\\"3752243462921923317\\\",\\\"id\\\":\\\"12815027409090655774\\\",\\\"type\\\":\\\"observable\\\"},{})})); gd.on(\\\"plotly_relayout\\\",(function (data){var filtered_data=WebIO.PlotlyCommands.filterEventData(gd,data,\\\"relayout\\\"); return !(filtered_data.isnil) ? (WebIO.setval({\\\"name\\\":\\\"relayout\\\",\\\"scope\\\":\\\"3752243462921923317\\\",\\\"id\\\":\\\"6303871865236858947\\\",\\\"type\\\":\\\"observable\\\"},filtered_data.out)) : undefined})); return gd.on(\\\"plotly_click\\\",(function (data){var filtered_data=WebIO.PlotlyCommands.filterEventData(gd,data,\\\"click\\\"); return !(filtered_data.isnil) ? (WebIO.setval({\\\"name\\\":\\\"click\\\",\\\"scope\\\":\\\"3752243462921923317\\\",\\\"id\\\":\\\"7671428951586814660\\\",\\\"type\\\":\\\"observable\\\"},filtered_data.out)) : undefined}))}));\\n    (WebIO.importBlock({\\\"data\\\":[{\\\"name\\\":\\\"Plotly\\\",\\\"type\\\":\\\"js\\\",\\\"url\\\":\\\"\\/assetserver\\/c843c6635296ea5f415808032e6c1f322a3239cd-plotly.min.js\\\"},{\\\"name\\\":null,\\\"type\\\":\\\"js\\\",\\\"url\\\":\\\"\\/assetserver\\/44e1943a6c8ed4b38e47f64f07dc32566142c8ee-plotly_webio.bundle.js\\\"}],\\\"type\\\":\\\"async_block\\\"})).then((imports) => handler.apply(this, imports));\\n}\\n\"],\"observables\":{\"_toImage\":{\"sync\":false,\"id\":\"12812813336268665634\",\"value\":{}},\"hover\":{\"sync\":false,\"id\":\"349778856300988861\",\"value\":{}},\"selected\":{\"sync\":false,\"id\":\"12815027409090655774\",\"value\":{}},\"__gd_contents\":{\"sync\":false,\"id\":\"14754931412370327937\",\"value\":{}},\"click\":{\"sync\":false,\"id\":\"7671428951586814660\",\"value\":{}},\"image\":{\"sync\":true,\"id\":\"1116286710603948535\",\"value\":\"\"},\"__get_gd_contents\":{\"sync\":false,\"id\":\"6288367005373789578\",\"value\":\"\"},\"_downloadImage\":{\"sync\":false,\"id\":\"7618793279093781449\",\"value\":{}},\"relayout\":{\"sync\":false,\"id\":\"6303871865236858947\",\"value\":{}},\"_commands\":{\"sync\":false,\"id\":\"4935865097958284371\",\"value\":[]}}},\"children\":[{\"props\":{\"id\":\"plot-d373b741-1ff7-4bf2-b228-9f10a03bf3b5\"},\"nodeType\":\"DOM\",\"type\":\"node\",\"instanceArgs\":{\"namespace\":\"html\",\"tag\":\"div\"},\"children\":[]}]},\n",
       "        window,\n",
       "    );\n",
       "    })()\n",
       "    </script>\n",
       "</div>\n"
      ],
      "text/plain": [
       "data: [\n",
       "  \"scatter with fields name, type, x, and y\",\n",
       "  \"scatter with fields name, type, x, and y\"\n",
       "]\n",
       "\n",
       "layout: \"layout with fields margin, title, xaxis, and yaxis\"\n",
       "\n"
      ]
     },
     "execution_count": 17,
     "metadata": {},
     "output_type": "execute_result"
    }
   ],
   "source": [
    "phi1(x) = x^2 - 2*x\n",
    "phi2(x) = x * (x-1)^2\n",
    "x=0:0.1:1\n",
    "\n",
    "plot([scatter(x=x,y=phi1.(x), name=\"Φ1\"), scatter(x=x,y=phi2.(x), name=\"Φ2\")],\n",
    "      Layout(title=\"Φ Functions\",  xaxis_title=\"x\",  yaxis_title=\"Φ\"))"
   ]
  },
  {
   "cell_type": "code",
   "execution_count": 29,
   "id": "9f6902e4-4ca0-43dd-8301-b547f06de44b",
   "metadata": {},
   "outputs": [
    {
     "data": {
      "application/vnd.plotly.v1+json": {
       "data": [
        {
         "type": "scatter",
         "x": [
          0,
          0.1,
          0.2,
          0.3,
          0.4,
          0.5,
          0.6,
          0.7,
          0.8,
          0.9,
          1
         ],
         "y": [
          -1,
          -0.99,
          -0.96,
          -0.9099999999999999,
          -0.8400000000000001,
          -0.75,
          -0.6399999999999997,
          -0.5100000000000002,
          -0.3599999999999999,
          -0.18999999999999995,
          0
         ]
        }
       ],
       "frames": [],
       "layout": {
        "autosize": true,
        "margin": {
         "b": 50,
         "l": 50,
         "r": 50,
         "t": 60
        },
        "xaxis": {
         "autorange": true,
         "range": [
          -0.05994521702486305,
          1.059945217024863
         ],
         "type": "linear"
        },
        "yaxis": {
         "autorange": true,
         "range": [
          -1.0747126436781609,
          0.07471264367816091
         ],
         "type": "linear"
        }
       }
      },
      "application/vnd.webio.node+json": {
       "children": [
        {
         "children": [],
         "instanceArgs": {
          "namespace": "html",
          "tag": "div"
         },
         "nodeType": "DOM",
         "props": {
          "id": "plot-1ecb299e-fda4-4c39-a251-097f3dccd75f"
         },
         "type": "node"
        }
       ],
       "instanceArgs": {
        "handlers": {
         "__get_gd_contents": [
          "(function (prop){prop==\"data\" ? (WebIO.setval({\"name\":\"__gd_contents\",\"scope\":\"8883266027951638893\",\"id\":\"13981365816429461386\",\"type\":\"observable\"},this.plotElem.data)) : undefined; return prop==\"layout\" ? (WebIO.setval({\"name\":\"__gd_contents\",\"scope\":\"8883266027951638893\",\"id\":\"13981365816429461386\",\"type\":\"observable\"},this.plotElem.layout)) : undefined})"
         ],
         "_commands": [
          "(function (args){var fn=args.shift(); var elem=this.plotElem; var Plotly=this.Plotly; args.unshift(elem); return Plotly[fn].apply(this,args)})"
         ],
         "_downloadImage": [
          "(function (options){return this.Plotly.downloadImage(this.plotElem,options)})"
         ],
         "_toImage": [
          "(function (options){return this.Plotly.toImage(this.plotElem,options).then((function (data){return WebIO.setval({\"name\":\"image\",\"scope\":\"8883266027951638893\",\"id\":\"2827292544742378398\",\"type\":\"observable\"},data)}))})"
         ]
        },
        "id": "8883266027951638893",
        "imports": {
         "data": [
          {
           "name": "Plotly",
           "type": "js",
           "url": "/assetserver/c843c6635296ea5f415808032e6c1f322a3239cd-plotly.min.js"
          },
          {
           "name": null,
           "type": "js",
           "url": "/assetserver/44e1943a6c8ed4b38e47f64f07dc32566142c8ee-plotly_webio.bundle.js"
          }
         ],
         "type": "async_block"
        },
        "mount_callbacks": [
         "function () {\n    var handler = ((function (Plotly,PlotlyWebIO){PlotlyWebIO.init(WebIO); var gd=this.dom.querySelector(\"#plot-1ecb299e-fda4-4c39-a251-097f3dccd75f\"); this.plotElem=gd; this.Plotly=Plotly; (window.Blink!==undefined) ? (gd.style.width=\"100%\", gd.style.height=\"100vh\", gd.style.marginLeft=\"0%\", gd.style.marginTop=\"0vh\") : undefined; window.onresize=(function (){return Plotly.Plots.resize(gd)}); Plotly.newPlot(gd,[{\"y\":[-1.0,-0.99,-0.96,-0.9099999999999999,-0.8400000000000001,-0.75,-0.6399999999999997,-0.5100000000000002,-0.3599999999999999,-0.18999999999999995,0.0],\"type\":\"scatter\",\"x\":[0.0,0.1,0.2,0.3,0.4,0.5,0.6,0.7,0.8,0.9,1.0]}],{\"margin\":{\"l\":50,\"b\":50,\"r\":50,\"t\":60}},{}); gd.on(\"plotly_hover\",(function (data){var filtered_data=WebIO.PlotlyCommands.filterEventData(gd,data,\"hover\"); return !(filtered_data.isnil) ? (WebIO.setval({\"name\":\"hover\",\"scope\":\"8883266027951638893\",\"id\":\"17064605159707173471\",\"type\":\"observable\"},filtered_data.out)) : undefined})); gd.on(\"plotly_unhover\",(function (){return WebIO.setval({\"name\":\"hover\",\"scope\":\"8883266027951638893\",\"id\":\"17064605159707173471\",\"type\":\"observable\"},{})})); gd.on(\"plotly_selected\",(function (data){var filtered_data=WebIO.PlotlyCommands.filterEventData(gd,data,\"selected\"); return !(filtered_data.isnil) ? (WebIO.setval({\"name\":\"selected\",\"scope\":\"8883266027951638893\",\"id\":\"10334920580219508752\",\"type\":\"observable\"},filtered_data.out)) : undefined})); gd.on(\"plotly_deselect\",(function (){return WebIO.setval({\"name\":\"selected\",\"scope\":\"8883266027951638893\",\"id\":\"10334920580219508752\",\"type\":\"observable\"},{})})); gd.on(\"plotly_relayout\",(function (data){var filtered_data=WebIO.PlotlyCommands.filterEventData(gd,data,\"relayout\"); return !(filtered_data.isnil) ? (WebIO.setval({\"name\":\"relayout\",\"scope\":\"8883266027951638893\",\"id\":\"6630262261343093079\",\"type\":\"observable\"},filtered_data.out)) : undefined})); return gd.on(\"plotly_click\",(function (data){var filtered_data=WebIO.PlotlyCommands.filterEventData(gd,data,\"click\"); return !(filtered_data.isnil) ? (WebIO.setval({\"name\":\"click\",\"scope\":\"8883266027951638893\",\"id\":\"1807591321635741594\",\"type\":\"observable\"},filtered_data.out)) : undefined}))}));\n    (WebIO.importBlock({\"data\":[{\"name\":\"Plotly\",\"type\":\"js\",\"url\":\"/assetserver/c843c6635296ea5f415808032e6c1f322a3239cd-plotly.min.js\"},{\"name\":null,\"type\":\"js\",\"url\":\"/assetserver/44e1943a6c8ed4b38e47f64f07dc32566142c8ee-plotly_webio.bundle.js\"}],\"type\":\"async_block\"})).then((imports) => handler.apply(this, imports));\n}\n"
        ],
        "observables": {
         "__gd_contents": {
          "id": "13981365816429461386",
          "sync": false,
          "value": {}
         },
         "__get_gd_contents": {
          "id": "13659259439631339976",
          "sync": false,
          "value": ""
         },
         "_commands": {
          "id": "10134576363110936102",
          "sync": false,
          "value": []
         },
         "_downloadImage": {
          "id": "17503730102382702213",
          "sync": false,
          "value": {}
         },
         "_toImage": {
          "id": "1069460043540244177",
          "sync": false,
          "value": {}
         },
         "click": {
          "id": "1807591321635741594",
          "sync": false,
          "value": {}
         },
         "hover": {
          "id": "17064605159707173471",
          "sync": false,
          "value": {}
         },
         "image": {
          "id": "2827292544742378398",
          "sync": true,
          "value": ""
         },
         "relayout": {
          "id": "6630262261343093079",
          "sync": false,
          "value": {}
         },
         "selected": {
          "id": "10334920580219508752",
          "sync": false,
          "value": {}
         }
        },
        "systemjs_options": null
       },
       "nodeType": "Scope",
       "props": {},
       "type": "node"
      },
      "image/png": "[encoded data removed]",
      "text/html": [
       "<div\n",
       "    class=\"webio-mountpoint\"\n",
       "    data-webio-mountpoint=\"215378217344731028\"\n",
       ">\n",
       "    <script>\n",
       "    (function(){\n",
       "    // Some integrations (namely, IJulia/Jupyter) use an alternate render pathway than\n",
       "    // just putting the html on the page. If WebIO isn't defined, then it's pretty likely\n",
       "    // that we're in one of those situations and the integration just isn't installed\n",
       "    // correctly.\n",
       "    if (typeof window.WebIO === \"undefined\") {\n",
       "        document\n",
       "            .querySelector('[data-webio-mountpoint=\"215378217344731028\"]')\n",
       "            .innerHTML = (\n",
       "                '<div style=\"padding: 1em; background-color: #f8d6da; border: 1px solid #f5c6cb; font-weight: bold;\">' +\n",
       "                '<p><strong>WebIO not detected.</strong></p>' +\n",
       "                '<p>Please read ' +\n",
       "                '<a href=\"https://juliagizmos.github.io/WebIO.jl/latest/troubleshooting/not-detected/\" target=\"_blank\">the troubleshooting guide</a> ' +\n",
       "                'for more information on how to resolve this issue.</p>' +\n",
       "                '<p><a href=\"https://juliagizmos.github.io/WebIO.jl/latest/troubleshooting/not-detected/\" target=\"_blank\">https://juliagizmos.github.io/WebIO.jl/latest/troubleshooting/not-detected/</a></p>' +\n",
       "                '</div>'\n",
       "            );\n",
       "        return;\n",
       "    }\n",
       "    WebIO.mount(\n",
       "        document.querySelector('[data-webio-mountpoint=\"215378217344731028\"]'),\n",
       "        {\"props\":{},\"nodeType\":\"Scope\",\"type\":\"node\",\"instanceArgs\":{\"imports\":{\"data\":[{\"name\":\"Plotly\",\"type\":\"js\",\"url\":\"\\/assetserver\\/c843c6635296ea5f415808032e6c1f322a3239cd-plotly.min.js\"},{\"name\":null,\"type\":\"js\",\"url\":\"\\/assetserver\\/44e1943a6c8ed4b38e47f64f07dc32566142c8ee-plotly_webio.bundle.js\"}],\"type\":\"async_block\"},\"id\":\"8883266027951638893\",\"handlers\":{\"_toImage\":[\"(function (options){return this.Plotly.toImage(this.plotElem,options).then((function (data){return WebIO.setval({\\\"name\\\":\\\"image\\\",\\\"scope\\\":\\\"8883266027951638893\\\",\\\"id\\\":\\\"2827292544742378398\\\",\\\"type\\\":\\\"observable\\\"},data)}))})\"],\"__get_gd_contents\":[\"(function (prop){prop==\\\"data\\\" ? (WebIO.setval({\\\"name\\\":\\\"__gd_contents\\\",\\\"scope\\\":\\\"8883266027951638893\\\",\\\"id\\\":\\\"13981365816429461386\\\",\\\"type\\\":\\\"observable\\\"},this.plotElem.data)) : undefined; return prop==\\\"layout\\\" ? (WebIO.setval({\\\"name\\\":\\\"__gd_contents\\\",\\\"scope\\\":\\\"8883266027951638893\\\",\\\"id\\\":\\\"13981365816429461386\\\",\\\"type\\\":\\\"observable\\\"},this.plotElem.layout)) : undefined})\"],\"_downloadImage\":[\"(function (options){return this.Plotly.downloadImage(this.plotElem,options)})\"],\"_commands\":[\"(function (args){var fn=args.shift(); var elem=this.plotElem; var Plotly=this.Plotly; args.unshift(elem); return Plotly[fn].apply(this,args)})\"]},\"systemjs_options\":null,\"mount_callbacks\":[\"function () {\\n    var handler = ((function (Plotly,PlotlyWebIO){PlotlyWebIO.init(WebIO); var gd=this.dom.querySelector(\\\"#plot-1ecb299e-fda4-4c39-a251-097f3dccd75f\\\"); this.plotElem=gd; this.Plotly=Plotly; (window.Blink!==undefined) ? (gd.style.width=\\\"100%\\\", gd.style.height=\\\"100vh\\\", gd.style.marginLeft=\\\"0%\\\", gd.style.marginTop=\\\"0vh\\\") : undefined; window.onresize=(function (){return Plotly.Plots.resize(gd)}); Plotly.newPlot(gd,[{\\\"y\\\":[-1.0,-0.99,-0.96,-0.9099999999999999,-0.8400000000000001,-0.75,-0.6399999999999997,-0.5100000000000002,-0.3599999999999999,-0.18999999999999995,0.0],\\\"type\\\":\\\"scatter\\\",\\\"x\\\":[0.0,0.1,0.2,0.3,0.4,0.5,0.6,0.7,0.8,0.9,1.0]}],{\\\"margin\\\":{\\\"l\\\":50,\\\"b\\\":50,\\\"r\\\":50,\\\"t\\\":60}},{}); gd.on(\\\"plotly_hover\\\",(function (data){var filtered_data=WebIO.PlotlyCommands.filterEventData(gd,data,\\\"hover\\\"); return !(filtered_data.isnil) ? (WebIO.setval({\\\"name\\\":\\\"hover\\\",\\\"scope\\\":\\\"8883266027951638893\\\",\\\"id\\\":\\\"17064605159707173471\\\",\\\"type\\\":\\\"observable\\\"},filtered_data.out)) : undefined})); gd.on(\\\"plotly_unhover\\\",(function (){return WebIO.setval({\\\"name\\\":\\\"hover\\\",\\\"scope\\\":\\\"8883266027951638893\\\",\\\"id\\\":\\\"17064605159707173471\\\",\\\"type\\\":\\\"observable\\\"},{})})); gd.on(\\\"plotly_selected\\\",(function (data){var filtered_data=WebIO.PlotlyCommands.filterEventData(gd,data,\\\"selected\\\"); return !(filtered_data.isnil) ? (WebIO.setval({\\\"name\\\":\\\"selected\\\",\\\"scope\\\":\\\"8883266027951638893\\\",\\\"id\\\":\\\"10334920580219508752\\\",\\\"type\\\":\\\"observable\\\"},filtered_data.out)) : undefined})); gd.on(\\\"plotly_deselect\\\",(function (){return WebIO.setval({\\\"name\\\":\\\"selected\\\",\\\"scope\\\":\\\"8883266027951638893\\\",\\\"id\\\":\\\"10334920580219508752\\\",\\\"type\\\":\\\"observable\\\"},{})})); gd.on(\\\"plotly_relayout\\\",(function (data){var filtered_data=WebIO.PlotlyCommands.filterEventData(gd,data,\\\"relayout\\\"); return !(filtered_data.isnil) ? (WebIO.setval({\\\"name\\\":\\\"relayout\\\",\\\"scope\\\":\\\"8883266027951638893\\\",\\\"id\\\":\\\"6630262261343093079\\\",\\\"type\\\":\\\"observable\\\"},filtered_data.out)) : undefined})); return gd.on(\\\"plotly_click\\\",(function (data){var filtered_data=WebIO.PlotlyCommands.filterEventData(gd,data,\\\"click\\\"); return !(filtered_data.isnil) ? (WebIO.setval({\\\"name\\\":\\\"click\\\",\\\"scope\\\":\\\"8883266027951638893\\\",\\\"id\\\":\\\"1807591321635741594\\\",\\\"type\\\":\\\"observable\\\"},filtered_data.out)) : undefined}))}));\\n    (WebIO.importBlock({\\\"data\\\":[{\\\"name\\\":\\\"Plotly\\\",\\\"type\\\":\\\"js\\\",\\\"url\\\":\\\"\\/assetserver\\/c843c6635296ea5f415808032e6c1f322a3239cd-plotly.min.js\\\"},{\\\"name\\\":null,\\\"type\\\":\\\"js\\\",\\\"url\\\":\\\"\\/assetserver\\/44e1943a6c8ed4b38e47f64f07dc32566142c8ee-plotly_webio.bundle.js\\\"}],\\\"type\\\":\\\"async_block\\\"})).then((imports) => handler.apply(this, imports));\\n}\\n\"],\"observables\":{\"_toImage\":{\"sync\":false,\"id\":\"1069460043540244177\",\"value\":{}},\"hover\":{\"sync\":false,\"id\":\"17064605159707173471\",\"value\":{}},\"selected\":{\"sync\":false,\"id\":\"10334920580219508752\",\"value\":{}},\"__gd_contents\":{\"sync\":false,\"id\":\"13981365816429461386\",\"value\":{}},\"click\":{\"sync\":false,\"id\":\"1807591321635741594\",\"value\":{}},\"image\":{\"sync\":true,\"id\":\"2827292544742378398\",\"value\":\"\"},\"__get_gd_contents\":{\"sync\":false,\"id\":\"13659259439631339976\",\"value\":\"\"},\"_downloadImage\":{\"sync\":false,\"id\":\"17503730102382702213\",\"value\":{}},\"relayout\":{\"sync\":false,\"id\":\"6630262261343093079\",\"value\":{}},\"_commands\":{\"sync\":false,\"id\":\"10134576363110936102\",\"value\":[]}}},\"children\":[{\"props\":{\"id\":\"plot-1ecb299e-fda4-4c39-a251-097f3dccd75f\"},\"nodeType\":\"DOM\",\"type\":\"node\",\"instanceArgs\":{\"namespace\":\"html\",\"tag\":\"div\"},\"children\":[]}]},\n",
       "        window,\n",
       "    );\n",
       "    })()\n",
       "    </script>\n",
       "</div>\n"
      ],
      "text/plain": [
       "data: [\n",
       "  \"scatter with fields type, x, and y\"\n",
       "]\n",
       "\n",
       "layout: \"layout with field margin\"\n",
       "\n"
      ]
     },
     "execution_count": 29,
     "metadata": {},
     "output_type": "execute_result"
    }
   ],
   "source": [
    "xp = x.+1\n",
    "plot(scatter(x=x, y=phi1.(xp)))"
   ]
  },
  {
   "cell_type": "code",
   "execution_count": 11,
   "id": "ce758905",
   "metadata": {},
   "outputs": [
    {
     "data": {
      "application/vnd.plotly.v1+json": {
       "data": [
        {
         "name": "U exact",
         "type": "scatter",
         "x": [
          0,
          0.1,
          0.2,
          0.3,
          0.4,
          0.5,
          0.6,
          0.7,
          0.8,
          0.9,
          1
         ],
         "y": [
          0,
          -0.15048549954248736,
          -0.2894757282734901,
          -0.41558194177158936,
          -0.5275441284366844,
          -0.6242435991093955,
          -0.7047141646433566,
          -0.7681517897477845,
          -0.8139226266423263,
          -0.8415693482545596,
          -0.8508157176809257
         ]
        }
       ],
       "frames": [],
       "layout": {
        "autosize": true,
        "margin": {
         "b": 50,
         "l": 50,
         "r": 50,
         "t": 60
        },
        "title": {
         "text": "u Functions"
        },
        "xaxis": {
         "autorange": true,
         "range": [
          -0.05994521702486305,
          1.059945217024863
         ],
         "title": {
          "text": "x"
         },
         "type": "linear"
        },
        "yaxis": {
         "autorange": true,
         "range": [
          -0.9143824092317995,
          0.06356669155087376
         ],
         "title": {
          "text": "u"
         },
         "type": "linear"
        }
       }
      },
      "application/vnd.webio.node+json": {
       "children": [
        {
         "children": [],
         "instanceArgs": {
          "namespace": "html",
          "tag": "div"
         },
         "nodeType": "DOM",
         "props": {
          "id": "plot-35671607-fd1f-4efc-904f-23771d57c4f4"
         },
         "type": "node"
        }
       ],
       "instanceArgs": {
        "handlers": {
         "__get_gd_contents": [
          "(function (prop){prop==\"data\" ? (WebIO.setval({\"name\":\"__gd_contents\",\"scope\":\"11773657086167765493\",\"id\":\"14204920737199043154\",\"type\":\"observable\"},this.plotElem.data)) : undefined; return prop==\"layout\" ? (WebIO.setval({\"name\":\"__gd_contents\",\"scope\":\"11773657086167765493\",\"id\":\"14204920737199043154\",\"type\":\"observable\"},this.plotElem.layout)) : undefined})"
         ],
         "_commands": [
          "(function (args){var fn=args.shift(); var elem=this.plotElem; var Plotly=this.Plotly; args.unshift(elem); return Plotly[fn].apply(this,args)})"
         ],
         "_downloadImage": [
          "(function (options){return this.Plotly.downloadImage(this.plotElem,options)})"
         ],
         "_toImage": [
          "(function (options){return this.Plotly.toImage(this.plotElem,options).then((function (data){return WebIO.setval({\"name\":\"image\",\"scope\":\"11773657086167765493\",\"id\":\"11471030194239879949\",\"type\":\"observable\"},data)}))})"
         ]
        },
        "id": "11773657086167765493",
        "imports": {
         "data": [
          {
           "name": "Plotly",
           "type": "js",
           "url": "/assetserver/c843c6635296ea5f415808032e6c1f322a3239cd-plotly.min.js"
          },
          {
           "name": null,
           "type": "js",
           "url": "/assetserver/44e1943a6c8ed4b38e47f64f07dc32566142c8ee-plotly_webio.bundle.js"
          }
         ],
         "type": "async_block"
        },
        "mount_callbacks": [
         "function () {\n    var handler = ((function (Plotly,PlotlyWebIO){PlotlyWebIO.init(WebIO); var gd=this.dom.querySelector(\"#plot-35671607-fd1f-4efc-904f-23771d57c4f4\"); this.plotElem=gd; this.Plotly=Plotly; (window.Blink!==undefined) ? (gd.style.width=\"100%\", gd.style.height=\"100vh\", gd.style.marginLeft=\"0%\", gd.style.marginTop=\"0vh\") : undefined; window.onresize=(function (){return Plotly.Plots.resize(gd)}); Plotly.newPlot(gd,[{\"y\":[0.0,-0.15048549954248736,-0.2894757282734901,-0.41558194177158936,-0.5275441284366844,-0.6242435991093955,-0.7047141646433566,-0.7681517897477845,-0.8139226266423263,-0.8415693482545596,-0.8508157176809257],\"type\":\"scatter\",\"name\":\"U exact\",\"x\":[0.0,0.1,0.2,0.3,0.4,0.5,0.6,0.7,0.8,0.9,1.0]}],{\"xaxis\":{\"title\":\"x\"},\"margin\":{\"l\":50,\"b\":50,\"r\":50,\"t\":60},\"title\":\"u Functions\",\"yaxis\":{\"title\":\"u\"}},{}); gd.on(\"plotly_hover\",(function (data){var filtered_data=WebIO.PlotlyCommands.filterEventData(gd,data,\"hover\"); return !(filtered_data.isnil) ? (WebIO.setval({\"name\":\"hover\",\"scope\":\"11773657086167765493\",\"id\":\"4779967066649909553\",\"type\":\"observable\"},filtered_data.out)) : undefined})); gd.on(\"plotly_unhover\",(function (){return WebIO.setval({\"name\":\"hover\",\"scope\":\"11773657086167765493\",\"id\":\"4779967066649909553\",\"type\":\"observable\"},{})})); gd.on(\"plotly_selected\",(function (data){var filtered_data=WebIO.PlotlyCommands.filterEventData(gd,data,\"selected\"); return !(filtered_data.isnil) ? (WebIO.setval({\"name\":\"selected\",\"scope\":\"11773657086167765493\",\"id\":\"1269010011976695980\",\"type\":\"observable\"},filtered_data.out)) : undefined})); gd.on(\"plotly_deselect\",(function (){return WebIO.setval({\"name\":\"selected\",\"scope\":\"11773657086167765493\",\"id\":\"1269010011976695980\",\"type\":\"observable\"},{})})); gd.on(\"plotly_relayout\",(function (data){var filtered_data=WebIO.PlotlyCommands.filterEventData(gd,data,\"relayout\"); return !(filtered_data.isnil) ? (WebIO.setval({\"name\":\"relayout\",\"scope\":\"11773657086167765493\",\"id\":\"15342064697153426586\",\"type\":\"observable\"},filtered_data.out)) : undefined})); return gd.on(\"plotly_click\",(function (data){var filtered_data=WebIO.PlotlyCommands.filterEventData(gd,data,\"click\"); return !(filtered_data.isnil) ? (WebIO.setval({\"name\":\"click\",\"scope\":\"11773657086167765493\",\"id\":\"9552214379461654243\",\"type\":\"observable\"},filtered_data.out)) : undefined}))}));\n    (WebIO.importBlock({\"data\":[{\"name\":\"Plotly\",\"type\":\"js\",\"url\":\"/assetserver/c843c6635296ea5f415808032e6c1f322a3239cd-plotly.min.js\"},{\"name\":null,\"type\":\"js\",\"url\":\"/assetserver/44e1943a6c8ed4b38e47f64f07dc32566142c8ee-plotly_webio.bundle.js\"}],\"type\":\"async_block\"})).then((imports) => handler.apply(this, imports));\n}\n"
        ],
        "observables": {
         "__gd_contents": {
          "id": "14204920737199043154",
          "sync": false,
          "value": {}
         },
         "__get_gd_contents": {
          "id": "10515966985575112782",
          "sync": false,
          "value": ""
         },
         "_commands": {
          "id": "3774935976511976566",
          "sync": false,
          "value": []
         },
         "_downloadImage": {
          "id": "5711350119146046412",
          "sync": false,
          "value": {}
         },
         "_toImage": {
          "id": "9168564321033830043",
          "sync": false,
          "value": {}
         },
         "click": {
          "id": "9552214379461654243",
          "sync": false,
          "value": {}
         },
         "hover": {
          "id": "4779967066649909553",
          "sync": false,
          "value": {}
         },
         "image": {
          "id": "11471030194239879949",
          "sync": true,
          "value": ""
         },
         "relayout": {
          "id": "15342064697153426586",
          "sync": false,
          "value": {}
         },
         "selected": {
          "id": "1269010011976695980",
          "sync": false,
          "value": {}
         }
        },
        "systemjs_options": null
       },
       "nodeType": "Scope",
       "props": {},
       "type": "node"
      },
      "image/png": "[encoded data removed]",
      "text/html": [
       "<div\n",
       "    class=\"webio-mountpoint\"\n",
       "    data-webio-mountpoint=\"5079427141487138915\"\n",
       ">\n",
       "    <script>\n",
       "    (function(){\n",
       "    // Some integrations (namely, IJulia/Jupyter) use an alternate render pathway than\n",
       "    // just putting the html on the page. If WebIO isn't defined, then it's pretty likely\n",
       "    // that we're in one of those situations and the integration just isn't installed\n",
       "    // correctly.\n",
       "    if (typeof window.WebIO === \"undefined\") {\n",
       "        document\n",
       "            .querySelector('[data-webio-mountpoint=\"5079427141487138915\"]')\n",
       "            .innerHTML = (\n",
       "                '<div style=\"padding: 1em; background-color: #f8d6da; border: 1px solid #f5c6cb; font-weight: bold;\">' +\n",
       "                '<p><strong>WebIO not detected.</strong></p>' +\n",
       "                '<p>Please read ' +\n",
       "                '<a href=\"https://juliagizmos.github.io/WebIO.jl/latest/troubleshooting/not-detected/\" target=\"_blank\">the troubleshooting guide</a> ' +\n",
       "                'for more information on how to resolve this issue.</p>' +\n",
       "                '<p><a href=\"https://juliagizmos.github.io/WebIO.jl/latest/troubleshooting/not-detected/\" target=\"_blank\">https://juliagizmos.github.io/WebIO.jl/latest/troubleshooting/not-detected/</a></p>' +\n",
       "                '</div>'\n",
       "            );\n",
       "        return;\n",
       "    }\n",
       "    WebIO.mount(\n",
       "        document.querySelector('[data-webio-mountpoint=\"5079427141487138915\"]'),\n",
       "        {\"props\":{},\"nodeType\":\"Scope\",\"type\":\"node\",\"instanceArgs\":{\"imports\":{\"data\":[{\"name\":\"Plotly\",\"type\":\"js\",\"url\":\"\\/assetserver\\/c843c6635296ea5f415808032e6c1f322a3239cd-plotly.min.js\"},{\"name\":null,\"type\":\"js\",\"url\":\"\\/assetserver\\/44e1943a6c8ed4b38e47f64f07dc32566142c8ee-plotly_webio.bundle.js\"}],\"type\":\"async_block\"},\"id\":\"11773657086167765493\",\"handlers\":{\"_toImage\":[\"(function (options){return this.Plotly.toImage(this.plotElem,options).then((function (data){return WebIO.setval({\\\"name\\\":\\\"image\\\",\\\"scope\\\":\\\"11773657086167765493\\\",\\\"id\\\":\\\"11471030194239879949\\\",\\\"type\\\":\\\"observable\\\"},data)}))})\"],\"__get_gd_contents\":[\"(function (prop){prop==\\\"data\\\" ? (WebIO.setval({\\\"name\\\":\\\"__gd_contents\\\",\\\"scope\\\":\\\"11773657086167765493\\\",\\\"id\\\":\\\"14204920737199043154\\\",\\\"type\\\":\\\"observable\\\"},this.plotElem.data)) : undefined; return prop==\\\"layout\\\" ? (WebIO.setval({\\\"name\\\":\\\"__gd_contents\\\",\\\"scope\\\":\\\"11773657086167765493\\\",\\\"id\\\":\\\"14204920737199043154\\\",\\\"type\\\":\\\"observable\\\"},this.plotElem.layout)) : undefined})\"],\"_downloadImage\":[\"(function (options){return this.Plotly.downloadImage(this.plotElem,options)})\"],\"_commands\":[\"(function (args){var fn=args.shift(); var elem=this.plotElem; var Plotly=this.Plotly; args.unshift(elem); return Plotly[fn].apply(this,args)})\"]},\"systemjs_options\":null,\"mount_callbacks\":[\"function () {\\n    var handler = ((function (Plotly,PlotlyWebIO){PlotlyWebIO.init(WebIO); var gd=this.dom.querySelector(\\\"#plot-35671607-fd1f-4efc-904f-23771d57c4f4\\\"); this.plotElem=gd; this.Plotly=Plotly; (window.Blink!==undefined) ? (gd.style.width=\\\"100%\\\", gd.style.height=\\\"100vh\\\", gd.style.marginLeft=\\\"0%\\\", gd.style.marginTop=\\\"0vh\\\") : undefined; window.onresize=(function (){return Plotly.Plots.resize(gd)}); Plotly.newPlot(gd,[{\\\"y\\\":[0.0,-0.15048549954248736,-0.2894757282734901,-0.41558194177158936,-0.5275441284366844,-0.6242435991093955,-0.7047141646433566,-0.7681517897477845,-0.8139226266423263,-0.8415693482545596,-0.8508157176809257],\\\"type\\\":\\\"scatter\\\",\\\"name\\\":\\\"U exact\\\",\\\"x\\\":[0.0,0.1,0.2,0.3,0.4,0.5,0.6,0.7,0.8,0.9,1.0]}],{\\\"xaxis\\\":{\\\"title\\\":\\\"x\\\"},\\\"margin\\\":{\\\"l\\\":50,\\\"b\\\":50,\\\"r\\\":50,\\\"t\\\":60},\\\"title\\\":\\\"u Functions\\\",\\\"yaxis\\\":{\\\"title\\\":\\\"u\\\"}},{}); gd.on(\\\"plotly_hover\\\",(function (data){var filtered_data=WebIO.PlotlyCommands.filterEventData(gd,data,\\\"hover\\\"); return !(filtered_data.isnil) ? (WebIO.setval({\\\"name\\\":\\\"hover\\\",\\\"scope\\\":\\\"11773657086167765493\\\",\\\"id\\\":\\\"4779967066649909553\\\",\\\"type\\\":\\\"observable\\\"},filtered_data.out)) : undefined})); gd.on(\\\"plotly_unhover\\\",(function (){return WebIO.setval({\\\"name\\\":\\\"hover\\\",\\\"scope\\\":\\\"11773657086167765493\\\",\\\"id\\\":\\\"4779967066649909553\\\",\\\"type\\\":\\\"observable\\\"},{})})); gd.on(\\\"plotly_selected\\\",(function (data){var filtered_data=WebIO.PlotlyCommands.filterEventData(gd,data,\\\"selected\\\"); return !(filtered_data.isnil) ? (WebIO.setval({\\\"name\\\":\\\"selected\\\",\\\"scope\\\":\\\"11773657086167765493\\\",\\\"id\\\":\\\"1269010011976695980\\\",\\\"type\\\":\\\"observable\\\"},filtered_data.out)) : undefined})); gd.on(\\\"plotly_deselect\\\",(function (){return WebIO.setval({\\\"name\\\":\\\"selected\\\",\\\"scope\\\":\\\"11773657086167765493\\\",\\\"id\\\":\\\"1269010011976695980\\\",\\\"type\\\":\\\"observable\\\"},{})})); gd.on(\\\"plotly_relayout\\\",(function (data){var filtered_data=WebIO.PlotlyCommands.filterEventData(gd,data,\\\"relayout\\\"); return !(filtered_data.isnil) ? (WebIO.setval({\\\"name\\\":\\\"relayout\\\",\\\"scope\\\":\\\"11773657086167765493\\\",\\\"id\\\":\\\"15342064697153426586\\\",\\\"type\\\":\\\"observable\\\"},filtered_data.out)) : undefined})); return gd.on(\\\"plotly_click\\\",(function (data){var filtered_data=WebIO.PlotlyCommands.filterEventData(gd,data,\\\"click\\\"); return !(filtered_data.isnil) ? (WebIO.setval({\\\"name\\\":\\\"click\\\",\\\"scope\\\":\\\"11773657086167765493\\\",\\\"id\\\":\\\"9552214379461654243\\\",\\\"type\\\":\\\"observable\\\"},filtered_data.out)) : undefined}))}));\\n    (WebIO.importBlock({\\\"data\\\":[{\\\"name\\\":\\\"Plotly\\\",\\\"type\\\":\\\"js\\\",\\\"url\\\":\\\"\\/assetserver\\/c843c6635296ea5f415808032e6c1f322a3239cd-plotly.min.js\\\"},{\\\"name\\\":null,\\\"type\\\":\\\"js\\\",\\\"url\\\":\\\"\\/assetserver\\/44e1943a6c8ed4b38e47f64f07dc32566142c8ee-plotly_webio.bundle.js\\\"}],\\\"type\\\":\\\"async_block\\\"})).then((imports) => handler.apply(this, imports));\\n}\\n\"],\"observables\":{\"_toImage\":{\"sync\":false,\"id\":\"9168564321033830043\",\"value\":{}},\"hover\":{\"sync\":false,\"id\":\"4779967066649909553\",\"value\":{}},\"selected\":{\"sync\":false,\"id\":\"1269010011976695980\",\"value\":{}},\"__gd_contents\":{\"sync\":false,\"id\":\"14204920737199043154\",\"value\":{}},\"click\":{\"sync\":false,\"id\":\"9552214379461654243\",\"value\":{}},\"image\":{\"sync\":true,\"id\":\"11471030194239879949\",\"value\":\"\"},\"__get_gd_contents\":{\"sync\":false,\"id\":\"10515966985575112782\",\"value\":\"\"},\"_downloadImage\":{\"sync\":false,\"id\":\"5711350119146046412\",\"value\":{}},\"relayout\":{\"sync\":false,\"id\":\"15342064697153426586\",\"value\":{}},\"_commands\":{\"sync\":false,\"id\":\"3774935976511976566\",\"value\":[]}}},\"children\":[{\"props\":{\"id\":\"plot-35671607-fd1f-4efc-904f-23771d57c4f4\"},\"nodeType\":\"DOM\",\"type\":\"node\",\"instanceArgs\":{\"namespace\":\"html\",\"tag\":\"div\"},\"children\":[]}]},\n",
       "        window,\n",
       "    );\n",
       "    })()\n",
       "    </script>\n",
       "</div>\n"
      ],
      "text/plain": [
       "data: [\n",
       "  \"scatter with fields name, type, x, and y\"\n",
       "]\n",
       "\n",
       "layout: \"layout with fields margin, title, xaxis, and yaxis\"\n",
       "\n"
      ]
     },
     "execution_count": 11,
     "metadata": {},
     "output_type": "execute_result"
    }
   ],
   "source": [
    "exact(x) = -cos(x) - tan(1)sin(x) + 1\n",
    "\n",
    "plot([scatter(x=x,y=exact.(x), name=\"U exact\")], Layout(title=\"u Functions\",  xaxis_title=\"x\",  yaxis_title=\"u\"))"
   ]
  },
  {
   "cell_type": "markdown",
   "id": "5c281883",
   "metadata": {},
   "source": [
    "## 2.T \n",
    "Prove that $\\ddot{u}$ is a solution of the variational problem. Find $u\\in H_0^1(I)$ such that\n",
    "\n",
    "$$ \\int_I u'v' dx = \\in_I fv, \\qquad \\forall v\\in H_0^1(I) $$\n",
    "\n",
    "if and only if $\\ddot{u}$ is a functional minimizer.\n",
    "\n",
    "$$ F(w) = \\frac{1}{2} \\int_I (w')^2 - \\int_I fw dx $$\n",
    "\n",
    "over the space $H_0^1(I)$"
   ]
  },
  {
   "cell_type": "markdown",
   "id": "02c400d1",
   "metadata": {},
   "source": [
    "## 3.TP\n",
    "\n",
    "Consider the problem with Robin conditions\n",
    "\n",
    "$$ -u''+2u=4+2x^3, \\qquad x\\in I = (-1,1) $$\n",
    "$$ u'(-1)=\\frac{\\alpha}{\\kappa}(u(-1)+1), \\quad u'(1) = -\\frac{\\alpha}{\\kappa} {\\kappa}(u(1)+1) $$\n",
    "\n",
    "a) Write the weak formulation corresponding to the boundary value problem $(e)-(3)$ \n",
    "\n",
    "b) Prove the existence and uniquiness of the weak solution.\n",
    "\n",
    "c) To discretize the weak problem consider the picewise lineal polynomial spaces and write exactly the rigid matrix, load mass and vector.\n",
    "\n",
    "d) Using the result found before, part c, do the modifications to the Matlab codes and solve the problem taking $\\alpha =2$ and $\\kappa=1$. Plot the numerical solution and compare it with the exact solution $u(x)=1-x^2$.\n",
    "\n",
    "e) Solve the equation with Dirichlet homogeneous boundary condtions. Plot and compare it with the exact solution $u(x)=1-x^2$.\n",
    "\n",
    "f) Plot the error made in each mesh point $\\left( |u(x_i)-u_h(x_i)|,i=0,1,...,m  \\right)$ of the finded solutions in the items d) and "
   ]
  },
  {
   "cell_type": "markdown",
   "id": "8c5087b7-87f1-4d55-bd9f-611d13564a03",
   "metadata": {},
   "source": [
    "## Solution\n",
    "\n",
    "a) Let's start with the variational formulation. First, multiplying by a test function $v|$ and integrating over $I$ the differential equation\n",
    "\n",
    "$$ -\\int_{-1}^1 u'' v dx + 2 \\int_{-1}^1 u dx = \\int_{-1}^1 (4+2x^3) v dx $$\n",
    "\n",
    "Now, integratin by steps the first term\n",
    "\n",
    "$$ -\\int_{-1}^1 u'' v dx  =  \\int_{-1}^1 u' v'dx -vu'\\Big|_{-1}^1 = \\int_{-1}^1 u' v'dx +\\left[ v(-1)u'(-1) -v(1)u'(1) \\right] \\\\\n",
    "= \\int_{-1}^1 u' v'dx +\\left[ v(-1)\\frac{\\alpha}{\\kappa}(u(-1)+1)  +\\frac{\\alpha}{\\kappa} {\\kappa}(u(1)+1) v(1) \\right] $$\n",
    "\n",
    "where the Robin conditions were used. Finally, replacing the last term in the first equation the weak problem is founded\n",
    "\n",
    "$$ \\int_{-1}^1 u' v'dx + 2 \\int_{-1}^1 u dx + \\frac{\\alpha}{\\kappa} \\left[ v(-1)(u(-1)+1)  +(u(1)+1) v(1) \\right] = \\int_{-1}^1 (4+2x^3) v dx $$\n"
   ]
  },
  {
   "cell_type": "markdown",
   "id": "f045d88f",
   "metadata": {},
   "source": [
    "## 4.TP \n",
    "\n",
    "### **Bar Deflection**\n",
    "\n",
    "Consider a beam fix in a wall in both extrems like in the figure. The strcutre of lenght $L$ is hold in a distributed load $P [Kg \\; m^{-1}$ that vary along the $x$ coordinate. Furthermore, supposse that the beam has a rectangular uniform section of width $r$ and depth $s$, inertial moment $J = rs^3/12 [m^4]$ and Young module $E[kgm^{-2}]$.\n",
    "\n",
    "The beam deflection, suposing small displacements, is describe by the 4th order differential equation\n",
    "\n",
    "$$ (EJu''(x))'' = P(x), \\qquad \\qquad u(0)=u(L)=0, \\qquad \\qquad u'(0)=u'(L)=0 $$\n",
    "\n",
    "where the $u=u(x)$ denote the vertical displacement, and the right side are the boundary conditions such that model the fix beam behaviour in both extrems.\n",
    "\n",
    "a. Write the weak formulation corresponding to the boundary value problem $(4)-(5)$\n",
    "\n",
    "b. Prove the existence and uniqueness of the weak solution.\n",
    "\n",
    "To discretize the weak problem we shuold aproximate the space $H_0^2([0,1])$ by a picewise finite dimensional cubic polynomial space\n",
    "\n",
    "$$ \\mathcal{H}_h := \\{ \\phi \\in C^1([0,L]):\\quad \\phi\\Big|_{I_i} \\in \\mathbb{P}_3(I_i) \\quad i=1,2,...,N; \\\\\n",
    "\\phi(0)= \\phi(1)=0 \\quad \\text{and} \\quad  \\phi_x(0)=\\phi_x(1)=0 \\} $$\n",
    "\n",
    "where $0 <c_0<x_1<\\cdots < x_N =L, \\; I_i = (x_{i-1},x_), \\; h_i=x_i-x_{i-1}, \\; h:=\\text{max}_{i=1,...,N}$ and $\\mathbb{P}_3(I_i)$ denote the set of all the polynomials over $I_i$ of order less or equal to $3$.\n",
    "\n",
    "With the goal to build a base for $\\mathcal{H}_h$, let's asociate a each inner node $x_k,\\; k= 1,...,N-1$ a support $I_k \\cup I_{k+1}$ and two functions $\\zeta_i$ and $\\eta_i$ such that\n",
    "\n",
    "$$ \\zeta_i(x_k) = \\delta_{ik}, \\qquad \\zeta_i'(x_k)=0 \\\\\n",
    "\\eta_i(x_k) = 0, \\qquad \\eta_i'(x_k)=\\delta_{ik} $$\n",
    "\n",
    "c. Use the previous conditions to determine the $\\zeta_i$ and $\\eta_i$ explicit formulas and plot them.\n",
    "\n",
    "d. Write $u_h$ as a linear combination of the base $\\zeta_i$ and $\\eta_i$ where $i=1,...,N-1$.\n",
    "\n",
    "e. Consider the discrete weak formulation. Indicate wich are the unknowns.\n",
    "\n",
    "f. Find the matrix components of the lineal equation system that gives the finite elemebt discretization.\n",
    "\n",
    "g. Solve the lineal equation systems useing for $N=25,\\;50,\\;100$ and $200$ elements. Plot the solution. use the folowwing dates: $EJ =1$, $P(x)=1$, and $L=1$."
   ]
  },
  {
   "cell_type": "markdown",
   "id": "ca48ebb8-595b-4124-9058-aef563ca8cf4",
   "metadata": {},
   "source": [
    "### Solution\n",
    "\n",
    "a. Multiplying by a test function $v|v(0)=v(L)= v'(0)=v'(L)=0$ and integrating over $I$ the differential equation\n",
    "\n",
    "\n",
    "$$\\int_0^L v(EJu''''(x)) dx = \\int_0^L v P(x)dx $$\n",
    "\n",
    "using integration by steps twice\n",
    "\n",
    "$$\\int_0^L v(EJu(x))'''' dx =  EJvu'''(x)\\Big|_0^L - EJ\\int_0^L v' u''' =  EJvu'''\\Big|_0^L - v'EJu'' \\Big|_0^L + EJ\\int_0^L v'' u'' dx \\\\\n",
    "\\int_0^L v(EJu(x))'''' dx =EJ\\int_0^L v'' u'' dx $$\n",
    "\n",
    "Replacing this result in the differential equation where the objective is find a function $u\n",
    "\n",
    "$$ EJ\\int_0^L v'' u'' = \\int_0^L v P(x)dx $$\n"
   ]
  },
  {
   "cell_type": "code",
   "execution_count": null,
   "id": "029b24e0-fd53-4090-8359-593bc3f55205",
   "metadata": {},
   "outputs": [],
   "source": []
  }
 ],
 "metadata": {
  "@webio": {
   "lastCommId": "1102dc5f-d3c0-4169-87f2-20b05f784cb5",
   "lastKernelId": "48e54779-fa10-4891-89d0-89ab473fc221"
  },
  "kernelspec": {
   "display_name": "Julia 1.7.2",
   "language": "julia",
   "name": "julia-1.7"
  },
  "language_info": {
   "file_extension": ".jl",
   "mimetype": "application/julia",
   "name": "julia",
   "version": "1.7.2"
  }
 },
 "nbformat": 4,
 "nbformat_minor": 5
}
