{
 "cells": [
  {
   "cell_type": "code",
   "execution_count": 34,
   "id": "cbd19a5b-6aa0-446f-b19d-1ef1d700917e",
   "metadata": {},
   "outputs": [],
   "source": [
    "using LaTeXStrings, PlotlyJS, CSV, DataFrames"
   ]
  },
  {
   "cell_type": "code",
   "execution_count": 2,
   "id": "d98c6763-b245-43d3-bb25-d1559f6efe60",
   "metadata": {},
   "outputs": [
    {
     "data": {
      "text/plain": [
       "21-element Vector{Float64}:\n",
       " 0.0\n",
       " 0.1\n",
       " 0.2\n",
       " 0.3\n",
       " 0.4\n",
       " 0.5\n",
       " 0.6\n",
       " 0.7\n",
       " 0.8\n",
       " 0.9\n",
       " 1.0\n",
       " 1.1\n",
       " 1.2\n",
       " 1.3\n",
       " 1.4\n",
       " 1.5\n",
       " 1.6\n",
       " 1.7\n",
       " 1.8\n",
       " 1.9\n",
       " 2.0"
      ]
     },
     "execution_count": 2,
     "metadata": {},
     "output_type": "execute_result"
    }
   ],
   "source": [
    "function u(x)\n",
    "    if 0 <= x <=1\n",
    "        return x\n",
    "    elseif 1 < x <=2\n",
    "        return 2 - x\n",
    "    else \n",
    "        return 0\n",
    "    end\n",
    "end\n",
    "\n",
    "function up(x)\n",
    "    if 0 <= x <=1\n",
    "        return 1\n",
    "    elseif 1 < x <=2\n",
    "        return -1\n",
    "    else \n",
    "        return 0\n",
    "    end\n",
    "end\n",
    "\n",
    "v(x) = sin(pi * x)\n",
    "vp(x) = pi * cos(pi * x)\n",
    "\n",
    "x = range(0, 2, step=0.1) |> collect"
   ]
  },
  {
   "cell_type": "code",
   "execution_count": 33,
   "id": "615dcbd8-7983-4c31-99e6-ca0a84722064",
   "metadata": {},
   "outputs": [
    {
     "data": {
      "application/vnd.plotly.v1+json": {
       "data": [
        {
         "mode": "lines+markers",
         "name": "u(x)",
         "type": "scatter",
         "x": [
          0,
          0.1,
          0.2,
          0.3,
          0.4,
          0.5,
          0.6,
          0.7,
          0.8,
          0.9,
          1,
          1.1,
          1.2,
          1.3,
          1.4,
          1.5,
          1.6,
          1.7,
          1.8,
          1.9,
          2
         ],
         "xaxis": "x1",
         "y": [
          0,
          0.1,
          0.2,
          0.3,
          0.4,
          0.5,
          0.6,
          0.7,
          0.8,
          0.9,
          1,
          0.8999999999999999,
          0.8,
          0.7,
          0.6000000000000001,
          0.5,
          0.3999999999999999,
          0.30000000000000004,
          0.19999999999999996,
          0.10000000000000009,
          0
         ],
         "yaxis": "y1"
        },
        {
         "mode": "lines+markers",
         "name": "v(x)",
         "type": "scatter",
         "x": [
          0,
          0.1,
          0.2,
          0.3,
          0.4,
          0.5,
          0.6,
          0.7,
          0.8,
          0.9,
          1,
          1.1,
          1.2,
          1.3,
          1.4,
          1.5,
          1.6,
          1.7,
          1.8,
          1.9,
          2
         ],
         "xaxis": "x1",
         "y": [
          0,
          0.3090169943749474,
          0.5877852522924731,
          0.8090169943749475,
          0.9510565162951535,
          1,
          0.9510565162951536,
          0.8090169943749475,
          0.5877852522924732,
          0.3090169943749475,
          1.2246467991473532e-16,
          -0.30901699437494773,
          -0.587785252292473,
          -0.8090169943749473,
          -0.9510565162951535,
          -1,
          -0.9510565162951536,
          -0.8090169943749476,
          -0.5877852522924734,
          -0.3090169943749476,
          -2.4492935982947064e-16
         ],
         "yaxis": "y1"
        },
        {
         "fill": "tozeroy",
         "mode": "lines+markers",
         "name": "u(x) * v(x)",
         "type": "scatter",
         "x": [
          0,
          0.1,
          0.2,
          0.3,
          0.4,
          0.5,
          0.6,
          0.7,
          0.8,
          0.9,
          1,
          1.1,
          1.2,
          1.3,
          1.4,
          1.5,
          1.6,
          1.7,
          1.8,
          1.9,
          2
         ],
         "xaxis": "x1",
         "y": [
          0,
          0.03090169943749474,
          0.11755705045849463,
          0.2427050983124842,
          0.3804226065180614,
          0.5,
          0.5706339097770922,
          0.5663118960624631,
          0.4702282018339786,
          0.27811529493745274,
          1.2246467991473532e-16,
          -0.2781152949374529,
          -0.47022820183397845,
          -0.5663118960624631,
          -0.5706339097770922,
          -0.5,
          -0.38042260651806137,
          -0.2427050983124843,
          -0.11755705045849464,
          -0.030901699437494788,
          0
         ],
         "yaxis": "y1"
        },
        {
         "mode": "lines+markers",
         "name": "u'(x)",
         "type": "scatter",
         "x": [
          0,
          0.1,
          0.2,
          0.3,
          0.4,
          0.5,
          0.6,
          0.7,
          0.8,
          0.9,
          1,
          1.1,
          1.2,
          1.3,
          1.4,
          1.5,
          1.6,
          1.7,
          1.8,
          1.9,
          2
         ],
         "xaxis": "x2",
         "y": [
          1,
          1,
          1,
          1,
          1,
          1,
          1,
          1,
          1,
          1,
          1,
          -1,
          -1,
          -1,
          -1,
          -1,
          -1,
          -1,
          -1,
          -1,
          -1
         ],
         "yaxis": "y2"
        },
        {
         "mode": "lines+markers",
         "name": "v'(x)",
         "type": "scatter",
         "x": [
          0,
          0.1,
          0.2,
          0.3,
          0.4,
          0.5,
          0.6,
          0.7,
          0.8,
          0.9,
          1,
          1.1,
          1.2,
          1.3,
          1.4,
          1.5,
          1.6,
          1.7,
          1.8,
          1.9,
          2
         ],
         "xaxis": "x2",
         "y": [
          3.141592653589793,
          2.9878321647415556,
          2.5416018461576297,
          1.8465818304904567,
          0.9708055193627333,
          1.9236706937217898e-16,
          -0.970805519362733,
          -1.8465818304904564,
          -2.5416018461576297,
          -2.9878321647415556,
          -3.141592653589793,
          -2.9878321647415556,
          -2.5416018461576297,
          -1.846581830490457,
          -0.9708055193627337,
          -5.771012081165369e-16,
          0.9708055193627326,
          1.846581830490456,
          2.5416018461576297,
          2.9878321647415556,
          3.141592653589793
         ],
         "yaxis": "y2"
        },
        {
         "fill": "tozeroy",
         "mode": "lines+markers",
         "name": "u'(x) * v'(x)",
         "type": "scatter",
         "x": [
          0,
          0.1,
          0.2,
          0.3,
          0.4,
          0.5,
          0.6,
          0.7,
          0.8,
          0.9,
          1,
          1.1,
          1.2,
          1.3,
          1.4,
          1.5,
          1.6,
          1.7,
          1.8,
          1.9,
          2
         ],
         "xaxis": "x2",
         "y": [
          3.141592653589793,
          2.9878321647415556,
          2.5416018461576297,
          1.8465818304904567,
          0.9708055193627333,
          1.9236706937217898e-16,
          -0.970805519362733,
          -1.8465818304904564,
          -2.5416018461576297,
          -2.9878321647415556,
          -3.141592653589793,
          2.9878321647415556,
          2.5416018461576297,
          1.846581830490457,
          0.9708055193627337,
          5.771012081165369e-16,
          -0.9708055193627326,
          -1.846581830490456,
          -2.5416018461576297,
          -2.9878321647415556,
          -3.141592653589793
         ],
         "yaxis": "y2"
        }
       ],
       "frames": [],
       "layout": {
        "annotations": [
         {
          "font": {
           "size": 16
          },
          "showarrow": false,
          "text": "Functions",
          "x": 0.225,
          "xanchor": "center",
          "xref": "paper",
          "y": 1,
          "yanchor": "bottom",
          "yref": "paper"
         },
         {
          "font": {
           "size": 16
          },
          "showarrow": false,
          "text": "Function Derivatives",
          "x": 0.775,
          "xanchor": "center",
          "xref": "paper",
          "y": 1,
          "yanchor": "bottom",
          "yref": "paper"
         }
        ],
        "margin": {
         "b": 50,
         "l": 50,
         "r": 50,
         "t": 60
        },
        "xaxis1": {
         "anchor": "y1",
         "domain": [
          0,
          0.45
         ],
         "title": "x"
        },
        "xaxis2": {
         "anchor": "y2",
         "domain": [
          0.55,
          1
         ],
         "title": "x"
        },
        "yaxis1": {
         "anchor": "x1",
         "domain": [
          0,
          1
         ]
        },
        "yaxis2": {
         "anchor": "x2",
         "domain": [
          0,
          1
         ]
        }
       }
      },
      "application/vnd.webio.node+json": {
       "children": [
        {
         "children": [],
         "instanceArgs": {
          "namespace": "html",
          "tag": "div"
         },
         "nodeType": "DOM",
         "props": {
          "id": "plot-1a8f94cb-69b3-41a5-901b-fd778d1f41eb"
         },
         "type": "node"
        }
       ],
       "instanceArgs": {
        "handlers": {
         "__get_gd_contents": [
          "(function (prop){prop==\"data\" ? (WebIO.setval({\"name\":\"__gd_contents\",\"scope\":\"8183622551030044979\",\"id\":\"16463699819936455133\",\"type\":\"observable\"},this.plotElem.data)) : undefined; return prop==\"layout\" ? (WebIO.setval({\"name\":\"__gd_contents\",\"scope\":\"8183622551030044979\",\"id\":\"16463699819936455133\",\"type\":\"observable\"},this.plotElem.layout)) : undefined})"
         ],
         "_commands": [
          "(function (args){var fn=args.shift(); var elem=this.plotElem; var Plotly=this.Plotly; args.unshift(elem); return Plotly[fn].apply(this,args)})"
         ],
         "_downloadImage": [
          "(function (options){return this.Plotly.downloadImage(this.plotElem,options)})"
         ],
         "_toImage": [
          "(function (options){return this.Plotly.toImage(this.plotElem,options).then((function (data){return WebIO.setval({\"name\":\"image\",\"scope\":\"8183622551030044979\",\"id\":\"16648341617276193630\",\"type\":\"observable\"},data)}))})"
         ]
        },
        "id": "8183622551030044979",
        "imports": {
         "data": [
          {
           "name": "Plotly",
           "type": "js",
           "url": "/assetserver/c843c6635296ea5f415808032e6c1f322a3239cd-plotly.min.js"
          },
          {
           "name": null,
           "type": "js",
           "url": "/assetserver/44e1943a6c8ed4b38e47f64f07dc32566142c8ee-plotly_webio.bundle.js"
          }
         ],
         "type": "async_block"
        },
        "mount_callbacks": [
         "function () {\n    var handler = ((function (Plotly,PlotlyWebIO){PlotlyWebIO.init(WebIO); var gd=this.dom.querySelector(\"#plot-1a8f94cb-69b3-41a5-901b-fd778d1f41eb\"); this.plotElem=gd; this.Plotly=Plotly; (window.Blink!==undefined) ? (gd.style.width=\"100%\", gd.style.height=\"100vh\", gd.style.marginLeft=\"0%\", gd.style.marginTop=\"0vh\") : undefined; window.onresize=(function (){return Plotly.Plots.resize(gd)}); Plotly.newPlot(gd,[{\"mode\":\"lines+markers\",\"xaxis\":\"x1\",\"y\":[0.0,0.1,0.2,0.3,0.4,0.5,0.6,0.7,0.8,0.9,1.0,0.8999999999999999,0.8,0.7,0.6000000000000001,0.5,0.3999999999999999,0.30000000000000004,0.19999999999999996,0.10000000000000009,0.0],\"type\":\"scatter\",\"name\":\"u(x)\",\"yaxis\":\"y1\",\"x\":[0.0,0.1,0.2,0.3,0.4,0.5,0.6,0.7,0.8,0.9,1.0,1.1,1.2,1.3,1.4,1.5,1.6,1.7,1.8,1.9,2.0]},{\"mode\":\"lines+markers\",\"xaxis\":\"x1\",\"y\":[0.0,0.3090169943749474,0.5877852522924731,0.8090169943749475,0.9510565162951535,1.0,0.9510565162951536,0.8090169943749475,0.5877852522924732,0.3090169943749475,1.2246467991473532e-16,-0.30901699437494773,-0.587785252292473,-0.8090169943749473,-0.9510565162951535,-1.0,-0.9510565162951536,-0.8090169943749476,-0.5877852522924734,-0.3090169943749476,-2.4492935982947064e-16],\"type\":\"scatter\",\"name\":\"v(x)\",\"yaxis\":\"y1\",\"x\":[0.0,0.1,0.2,0.3,0.4,0.5,0.6,0.7,0.8,0.9,1.0,1.1,1.2,1.3,1.4,1.5,1.6,1.7,1.8,1.9,2.0]},{\"mode\":\"lines+markers\",\"xaxis\":\"x1\",\"y\":[0.0,0.03090169943749474,0.11755705045849463,0.2427050983124842,0.3804226065180614,0.5,0.5706339097770922,0.5663118960624631,0.4702282018339786,0.27811529493745274,1.2246467991473532e-16,-0.2781152949374529,-0.47022820183397845,-0.5663118960624631,-0.5706339097770922,-0.5,-0.38042260651806137,-0.2427050983124843,-0.11755705045849464,-0.030901699437494788,-0.0],\"type\":\"scatter\",\"name\":\"u(x) * v(x)\",\"fill\":\"tozeroy\",\"yaxis\":\"y1\",\"x\":[0.0,0.1,0.2,0.3,0.4,0.5,0.6,0.7,0.8,0.9,1.0,1.1,1.2,1.3,1.4,1.5,1.6,1.7,1.8,1.9,2.0]},{\"mode\":\"lines+markers\",\"xaxis\":\"x2\",\"y\":[1,1,1,1,1,1,1,1,1,1,1,-1,-1,-1,-1,-1,-1,-1,-1,-1,-1],\"type\":\"scatter\",\"name\":\"u'(x)\",\"yaxis\":\"y2\",\"x\":[0.0,0.1,0.2,0.3,0.4,0.5,0.6,0.7,0.8,0.9,1.0,1.1,1.2,1.3,1.4,1.5,1.6,1.7,1.8,1.9,2.0]},{\"mode\":\"lines+markers\",\"xaxis\":\"x2\",\"y\":[3.141592653589793,2.9878321647415556,2.5416018461576297,1.8465818304904567,0.9708055193627333,1.9236706937217898e-16,-0.970805519362733,-1.8465818304904564,-2.5416018461576297,-2.9878321647415556,-3.141592653589793,-2.9878321647415556,-2.5416018461576297,-1.846581830490457,-0.9708055193627337,-5.771012081165369e-16,0.9708055193627326,1.846581830490456,2.5416018461576297,2.9878321647415556,3.141592653589793],\"type\":\"scatter\",\"name\":\"v'(x)\",\"yaxis\":\"y2\",\"x\":[0.0,0.1,0.2,0.3,0.4,0.5,0.6,0.7,0.8,0.9,1.0,1.1,1.2,1.3,1.4,1.5,1.6,1.7,1.8,1.9,2.0]},{\"mode\":\"lines+markers\",\"xaxis\":\"x2\",\"y\":[3.141592653589793,2.9878321647415556,2.5416018461576297,1.8465818304904567,0.9708055193627333,1.9236706937217898e-16,-0.970805519362733,-1.8465818304904564,-2.5416018461576297,-2.9878321647415556,-3.141592653589793,2.9878321647415556,2.5416018461576297,1.846581830490457,0.9708055193627337,5.771012081165369e-16,-0.9708055193627326,-1.846581830490456,-2.5416018461576297,-2.9878321647415556,-3.141592653589793],\"type\":\"scatter\",\"name\":\"u'(x) * v'(x)\",\"fill\":\"tozeroy\",\"yaxis\":\"y2\",\"x\":[0.0,0.1,0.2,0.3,0.4,0.5,0.6,0.7,0.8,0.9,1.0,1.1,1.2,1.3,1.4,1.5,1.6,1.7,1.8,1.9,2.0]}],{\"xaxis1\":{\"title\":\"x\",\"domain\":[0.0,0.45],\"anchor\":\"y1\"},\"yaxis1\":{\"domain\":[0.0,1.0],\"anchor\":\"x1\"},\"xaxis2\":{\"title\":\"x\",\"domain\":[0.55,1.0],\"anchor\":\"y2\"},\"annotations\":[{\"yanchor\":\"bottom\",\"xanchor\":\"center\",\"y\":1.0,\"font\":{\"size\":16},\"showarrow\":false,\"yref\":\"paper\",\"text\":\"Functions\",\"xref\":\"paper\",\"x\":0.225},{\"yanchor\":\"bottom\",\"xanchor\":\"center\",\"y\":1.0,\"font\":{\"size\":16},\"showarrow\":false,\"yref\":\"paper\",\"text\":\"Function Derivatives\",\"xref\":\"paper\",\"x\":0.775}],\"margin\":{\"l\":50,\"b\":50,\"r\":50,\"t\":60},\"yaxis2\":{\"domain\":[0.0,1.0],\"anchor\":\"x2\"}},{\"showLink\":false}); gd.on(\"plotly_hover\",(function (data){var filtered_data=WebIO.PlotlyCommands.filterEventData(gd,data,\"hover\"); return !(filtered_data.isnil) ? (WebIO.setval({\"name\":\"hover\",\"scope\":\"8183622551030044979\",\"id\":\"521918263697892539\",\"type\":\"observable\"},filtered_data.out)) : undefined})); gd.on(\"plotly_unhover\",(function (){return WebIO.setval({\"name\":\"hover\",\"scope\":\"8183622551030044979\",\"id\":\"521918263697892539\",\"type\":\"observable\"},{})})); gd.on(\"plotly_selected\",(function (data){var filtered_data=WebIO.PlotlyCommands.filterEventData(gd,data,\"selected\"); return !(filtered_data.isnil) ? (WebIO.setval({\"name\":\"selected\",\"scope\":\"8183622551030044979\",\"id\":\"7626064583583491990\",\"type\":\"observable\"},filtered_data.out)) : undefined})); gd.on(\"plotly_deselect\",(function (){return WebIO.setval({\"name\":\"selected\",\"scope\":\"8183622551030044979\",\"id\":\"7626064583583491990\",\"type\":\"observable\"},{})})); gd.on(\"plotly_relayout\",(function (data){var filtered_data=WebIO.PlotlyCommands.filterEventData(gd,data,\"relayout\"); return !(filtered_data.isnil) ? (WebIO.setval({\"name\":\"relayout\",\"scope\":\"8183622551030044979\",\"id\":\"318174788278860810\",\"type\":\"observable\"},filtered_data.out)) : undefined})); return gd.on(\"plotly_click\",(function (data){var filtered_data=WebIO.PlotlyCommands.filterEventData(gd,data,\"click\"); return !(filtered_data.isnil) ? (WebIO.setval({\"name\":\"click\",\"scope\":\"8183622551030044979\",\"id\":\"10695921669901585332\",\"type\":\"observable\"},filtered_data.out)) : undefined}))}));\n    (WebIO.importBlock({\"data\":[{\"name\":\"Plotly\",\"type\":\"js\",\"url\":\"/assetserver/c843c6635296ea5f415808032e6c1f322a3239cd-plotly.min.js\"},{\"name\":null,\"type\":\"js\",\"url\":\"/assetserver/44e1943a6c8ed4b38e47f64f07dc32566142c8ee-plotly_webio.bundle.js\"}],\"type\":\"async_block\"})).then((imports) => handler.apply(this, imports));\n}\n"
        ],
        "observables": {
         "__gd_contents": {
          "id": "16463699819936455133",
          "sync": false,
          "value": {}
         },
         "__get_gd_contents": {
          "id": "4915690075355091584",
          "sync": false,
          "value": ""
         },
         "_commands": {
          "id": "14343245944183512408",
          "sync": false,
          "value": []
         },
         "_downloadImage": {
          "id": "6548055902346458836",
          "sync": false,
          "value": {}
         },
         "_toImage": {
          "id": "13267515367288428959",
          "sync": false,
          "value": {}
         },
         "click": {
          "id": "10695921669901585332",
          "sync": false,
          "value": {}
         },
         "hover": {
          "id": "521918263697892539",
          "sync": false,
          "value": {}
         },
         "image": {
          "id": "16648341617276193630",
          "sync": true,
          "value": ""
         },
         "relayout": {
          "id": "318174788278860810",
          "sync": false,
          "value": {}
         },
         "selected": {
          "id": "7626064583583491990",
          "sync": false,
          "value": {}
         }
        },
        "systemjs_options": null
       },
       "nodeType": "Scope",
       "props": {},
       "type": "node"
      },
      "text/html": [
       "<div\n",
       "    class=\"webio-mountpoint\"\n",
       "    data-webio-mountpoint=\"2227008262409797508\"\n",
       ">\n",
       "    <script>\n",
       "    (function(){\n",
       "    // Some integrations (namely, IJulia/Jupyter) use an alternate render pathway than\n",
       "    // just putting the html on the page. If WebIO isn't defined, then it's pretty likely\n",
       "    // that we're in one of those situations and the integration just isn't installed\n",
       "    // correctly.\n",
       "    if (typeof window.WebIO === \"undefined\") {\n",
       "        document\n",
       "            .querySelector('[data-webio-mountpoint=\"2227008262409797508\"]')\n",
       "            .innerHTML = (\n",
       "                '<div style=\"padding: 1em; background-color: #f8d6da; border: 1px solid #f5c6cb; font-weight: bold;\">' +\n",
       "                '<p><strong>WebIO not detected.</strong></p>' +\n",
       "                '<p>Please read ' +\n",
       "                '<a href=\"https://juliagizmos.github.io/WebIO.jl/latest/troubleshooting/not-detected/\" target=\"_blank\">the troubleshooting guide</a> ' +\n",
       "                'for more information on how to resolve this issue.</p>' +\n",
       "                '<p><a href=\"https://juliagizmos.github.io/WebIO.jl/latest/troubleshooting/not-detected/\" target=\"_blank\">https://juliagizmos.github.io/WebIO.jl/latest/troubleshooting/not-detected/</a></p>' +\n",
       "                '</div>'\n",
       "            );\n",
       "        return;\n",
       "    }\n",
       "    WebIO.mount(\n",
       "        document.querySelector('[data-webio-mountpoint=\"2227008262409797508\"]'),\n",
       "        {\"props\":{},\"nodeType\":\"Scope\",\"type\":\"node\",\"instanceArgs\":{\"imports\":{\"data\":[{\"name\":\"Plotly\",\"type\":\"js\",\"url\":\"\\/assetserver\\/c843c6635296ea5f415808032e6c1f322a3239cd-plotly.min.js\"},{\"name\":null,\"type\":\"js\",\"url\":\"\\/assetserver\\/44e1943a6c8ed4b38e47f64f07dc32566142c8ee-plotly_webio.bundle.js\"}],\"type\":\"async_block\"},\"id\":\"8183622551030044979\",\"handlers\":{\"_toImage\":[\"(function (options){return this.Plotly.toImage(this.plotElem,options).then((function (data){return WebIO.setval({\\\"name\\\":\\\"image\\\",\\\"scope\\\":\\\"8183622551030044979\\\",\\\"id\\\":\\\"16648341617276193630\\\",\\\"type\\\":\\\"observable\\\"},data)}))})\"],\"__get_gd_contents\":[\"(function (prop){prop==\\\"data\\\" ? (WebIO.setval({\\\"name\\\":\\\"__gd_contents\\\",\\\"scope\\\":\\\"8183622551030044979\\\",\\\"id\\\":\\\"16463699819936455133\\\",\\\"type\\\":\\\"observable\\\"},this.plotElem.data)) : undefined; return prop==\\\"layout\\\" ? (WebIO.setval({\\\"name\\\":\\\"__gd_contents\\\",\\\"scope\\\":\\\"8183622551030044979\\\",\\\"id\\\":\\\"16463699819936455133\\\",\\\"type\\\":\\\"observable\\\"},this.plotElem.layout)) : undefined})\"],\"_downloadImage\":[\"(function (options){return this.Plotly.downloadImage(this.plotElem,options)})\"],\"_commands\":[\"(function (args){var fn=args.shift(); var elem=this.plotElem; var Plotly=this.Plotly; args.unshift(elem); return Plotly[fn].apply(this,args)})\"]},\"systemjs_options\":null,\"mount_callbacks\":[\"function () {\\n    var handler = ((function (Plotly,PlotlyWebIO){PlotlyWebIO.init(WebIO); var gd=this.dom.querySelector(\\\"#plot-1a8f94cb-69b3-41a5-901b-fd778d1f41eb\\\"); this.plotElem=gd; this.Plotly=Plotly; (window.Blink!==undefined) ? (gd.style.width=\\\"100%\\\", gd.style.height=\\\"100vh\\\", gd.style.marginLeft=\\\"0%\\\", gd.style.marginTop=\\\"0vh\\\") : undefined; window.onresize=(function (){return Plotly.Plots.resize(gd)}); Plotly.newPlot(gd,[{\\\"mode\\\":\\\"lines+markers\\\",\\\"xaxis\\\":\\\"x1\\\",\\\"y\\\":[0.0,0.1,0.2,0.3,0.4,0.5,0.6,0.7,0.8,0.9,1.0,0.8999999999999999,0.8,0.7,0.6000000000000001,0.5,0.3999999999999999,0.30000000000000004,0.19999999999999996,0.10000000000000009,0.0],\\\"type\\\":\\\"scatter\\\",\\\"name\\\":\\\"u(x)\\\",\\\"yaxis\\\":\\\"y1\\\",\\\"x\\\":[0.0,0.1,0.2,0.3,0.4,0.5,0.6,0.7,0.8,0.9,1.0,1.1,1.2,1.3,1.4,1.5,1.6,1.7,1.8,1.9,2.0]},{\\\"mode\\\":\\\"lines+markers\\\",\\\"xaxis\\\":\\\"x1\\\",\\\"y\\\":[0.0,0.3090169943749474,0.5877852522924731,0.8090169943749475,0.9510565162951535,1.0,0.9510565162951536,0.8090169943749475,0.5877852522924732,0.3090169943749475,1.2246467991473532e-16,-0.30901699437494773,-0.587785252292473,-0.8090169943749473,-0.9510565162951535,-1.0,-0.9510565162951536,-0.8090169943749476,-0.5877852522924734,-0.3090169943749476,-2.4492935982947064e-16],\\\"type\\\":\\\"scatter\\\",\\\"name\\\":\\\"v(x)\\\",\\\"yaxis\\\":\\\"y1\\\",\\\"x\\\":[0.0,0.1,0.2,0.3,0.4,0.5,0.6,0.7,0.8,0.9,1.0,1.1,1.2,1.3,1.4,1.5,1.6,1.7,1.8,1.9,2.0]},{\\\"mode\\\":\\\"lines+markers\\\",\\\"xaxis\\\":\\\"x1\\\",\\\"y\\\":[0.0,0.03090169943749474,0.11755705045849463,0.2427050983124842,0.3804226065180614,0.5,0.5706339097770922,0.5663118960624631,0.4702282018339786,0.27811529493745274,1.2246467991473532e-16,-0.2781152949374529,-0.47022820183397845,-0.5663118960624631,-0.5706339097770922,-0.5,-0.38042260651806137,-0.2427050983124843,-0.11755705045849464,-0.030901699437494788,-0.0],\\\"type\\\":\\\"scatter\\\",\\\"name\\\":\\\"u(x) * v(x)\\\",\\\"fill\\\":\\\"tozeroy\\\",\\\"yaxis\\\":\\\"y1\\\",\\\"x\\\":[0.0,0.1,0.2,0.3,0.4,0.5,0.6,0.7,0.8,0.9,1.0,1.1,1.2,1.3,1.4,1.5,1.6,1.7,1.8,1.9,2.0]},{\\\"mode\\\":\\\"lines+markers\\\",\\\"xaxis\\\":\\\"x2\\\",\\\"y\\\":[1,1,1,1,1,1,1,1,1,1,1,-1,-1,-1,-1,-1,-1,-1,-1,-1,-1],\\\"type\\\":\\\"scatter\\\",\\\"name\\\":\\\"u'(x)\\\",\\\"yaxis\\\":\\\"y2\\\",\\\"x\\\":[0.0,0.1,0.2,0.3,0.4,0.5,0.6,0.7,0.8,0.9,1.0,1.1,1.2,1.3,1.4,1.5,1.6,1.7,1.8,1.9,2.0]},{\\\"mode\\\":\\\"lines+markers\\\",\\\"xaxis\\\":\\\"x2\\\",\\\"y\\\":[3.141592653589793,2.9878321647415556,2.5416018461576297,1.8465818304904567,0.9708055193627333,1.9236706937217898e-16,-0.970805519362733,-1.8465818304904564,-2.5416018461576297,-2.9878321647415556,-3.141592653589793,-2.9878321647415556,-2.5416018461576297,-1.846581830490457,-0.9708055193627337,-5.771012081165369e-16,0.9708055193627326,1.846581830490456,2.5416018461576297,2.9878321647415556,3.141592653589793],\\\"type\\\":\\\"scatter\\\",\\\"name\\\":\\\"v'(x)\\\",\\\"yaxis\\\":\\\"y2\\\",\\\"x\\\":[0.0,0.1,0.2,0.3,0.4,0.5,0.6,0.7,0.8,0.9,1.0,1.1,1.2,1.3,1.4,1.5,1.6,1.7,1.8,1.9,2.0]},{\\\"mode\\\":\\\"lines+markers\\\",\\\"xaxis\\\":\\\"x2\\\",\\\"y\\\":[3.141592653589793,2.9878321647415556,2.5416018461576297,1.8465818304904567,0.9708055193627333,1.9236706937217898e-16,-0.970805519362733,-1.8465818304904564,-2.5416018461576297,-2.9878321647415556,-3.141592653589793,2.9878321647415556,2.5416018461576297,1.846581830490457,0.9708055193627337,5.771012081165369e-16,-0.9708055193627326,-1.846581830490456,-2.5416018461576297,-2.9878321647415556,-3.141592653589793],\\\"type\\\":\\\"scatter\\\",\\\"name\\\":\\\"u'(x) * v'(x)\\\",\\\"fill\\\":\\\"tozeroy\\\",\\\"yaxis\\\":\\\"y2\\\",\\\"x\\\":[0.0,0.1,0.2,0.3,0.4,0.5,0.6,0.7,0.8,0.9,1.0,1.1,1.2,1.3,1.4,1.5,1.6,1.7,1.8,1.9,2.0]}],{\\\"xaxis1\\\":{\\\"title\\\":\\\"x\\\",\\\"domain\\\":[0.0,0.45],\\\"anchor\\\":\\\"y1\\\"},\\\"yaxis1\\\":{\\\"domain\\\":[0.0,1.0],\\\"anchor\\\":\\\"x1\\\"},\\\"xaxis2\\\":{\\\"title\\\":\\\"x\\\",\\\"domain\\\":[0.55,1.0],\\\"anchor\\\":\\\"y2\\\"},\\\"annotations\\\":[{\\\"yanchor\\\":\\\"bottom\\\",\\\"xanchor\\\":\\\"center\\\",\\\"y\\\":1.0,\\\"font\\\":{\\\"size\\\":16},\\\"showarrow\\\":false,\\\"yref\\\":\\\"paper\\\",\\\"text\\\":\\\"Functions\\\",\\\"xref\\\":\\\"paper\\\",\\\"x\\\":0.225},{\\\"yanchor\\\":\\\"bottom\\\",\\\"xanchor\\\":\\\"center\\\",\\\"y\\\":1.0,\\\"font\\\":{\\\"size\\\":16},\\\"showarrow\\\":false,\\\"yref\\\":\\\"paper\\\",\\\"text\\\":\\\"Function Derivatives\\\",\\\"xref\\\":\\\"paper\\\",\\\"x\\\":0.775}],\\\"margin\\\":{\\\"l\\\":50,\\\"b\\\":50,\\\"r\\\":50,\\\"t\\\":60},\\\"yaxis2\\\":{\\\"domain\\\":[0.0,1.0],\\\"anchor\\\":\\\"x2\\\"}},{\\\"showLink\\\":false}); gd.on(\\\"plotly_hover\\\",(function (data){var filtered_data=WebIO.PlotlyCommands.filterEventData(gd,data,\\\"hover\\\"); return !(filtered_data.isnil) ? (WebIO.setval({\\\"name\\\":\\\"hover\\\",\\\"scope\\\":\\\"8183622551030044979\\\",\\\"id\\\":\\\"521918263697892539\\\",\\\"type\\\":\\\"observable\\\"},filtered_data.out)) : undefined})); gd.on(\\\"plotly_unhover\\\",(function (){return WebIO.setval({\\\"name\\\":\\\"hover\\\",\\\"scope\\\":\\\"8183622551030044979\\\",\\\"id\\\":\\\"521918263697892539\\\",\\\"type\\\":\\\"observable\\\"},{})})); gd.on(\\\"plotly_selected\\\",(function (data){var filtered_data=WebIO.PlotlyCommands.filterEventData(gd,data,\\\"selected\\\"); return !(filtered_data.isnil) ? (WebIO.setval({\\\"name\\\":\\\"selected\\\",\\\"scope\\\":\\\"8183622551030044979\\\",\\\"id\\\":\\\"7626064583583491990\\\",\\\"type\\\":\\\"observable\\\"},filtered_data.out)) : undefined})); gd.on(\\\"plotly_deselect\\\",(function (){return WebIO.setval({\\\"name\\\":\\\"selected\\\",\\\"scope\\\":\\\"8183622551030044979\\\",\\\"id\\\":\\\"7626064583583491990\\\",\\\"type\\\":\\\"observable\\\"},{})})); gd.on(\\\"plotly_relayout\\\",(function (data){var filtered_data=WebIO.PlotlyCommands.filterEventData(gd,data,\\\"relayout\\\"); return !(filtered_data.isnil) ? (WebIO.setval({\\\"name\\\":\\\"relayout\\\",\\\"scope\\\":\\\"8183622551030044979\\\",\\\"id\\\":\\\"318174788278860810\\\",\\\"type\\\":\\\"observable\\\"},filtered_data.out)) : undefined})); return gd.on(\\\"plotly_click\\\",(function (data){var filtered_data=WebIO.PlotlyCommands.filterEventData(gd,data,\\\"click\\\"); return !(filtered_data.isnil) ? (WebIO.setval({\\\"name\\\":\\\"click\\\",\\\"scope\\\":\\\"8183622551030044979\\\",\\\"id\\\":\\\"10695921669901585332\\\",\\\"type\\\":\\\"observable\\\"},filtered_data.out)) : undefined}))}));\\n    (WebIO.importBlock({\\\"data\\\":[{\\\"name\\\":\\\"Plotly\\\",\\\"type\\\":\\\"js\\\",\\\"url\\\":\\\"\\/assetserver\\/c843c6635296ea5f415808032e6c1f322a3239cd-plotly.min.js\\\"},{\\\"name\\\":null,\\\"type\\\":\\\"js\\\",\\\"url\\\":\\\"\\/assetserver\\/44e1943a6c8ed4b38e47f64f07dc32566142c8ee-plotly_webio.bundle.js\\\"}],\\\"type\\\":\\\"async_block\\\"})).then((imports) => handler.apply(this, imports));\\n}\\n\"],\"observables\":{\"_toImage\":{\"sync\":false,\"id\":\"13267515367288428959\",\"value\":{}},\"hover\":{\"sync\":false,\"id\":\"521918263697892539\",\"value\":{}},\"selected\":{\"sync\":false,\"id\":\"7626064583583491990\",\"value\":{}},\"__gd_contents\":{\"sync\":false,\"id\":\"16463699819936455133\",\"value\":{}},\"click\":{\"sync\":false,\"id\":\"10695921669901585332\",\"value\":{}},\"image\":{\"sync\":true,\"id\":\"16648341617276193630\",\"value\":\"\"},\"__get_gd_contents\":{\"sync\":false,\"id\":\"4915690075355091584\",\"value\":\"\"},\"_downloadImage\":{\"sync\":false,\"id\":\"6548055902346458836\",\"value\":{}},\"relayout\":{\"sync\":false,\"id\":\"318174788278860810\",\"value\":{}},\"_commands\":{\"sync\":false,\"id\":\"14343245944183512408\",\"value\":[]}}},\"children\":[{\"props\":{\"id\":\"plot-1a8f94cb-69b3-41a5-901b-fd778d1f41eb\"},\"nodeType\":\"DOM\",\"type\":\"node\",\"instanceArgs\":{\"namespace\":\"html\",\"tag\":\"div\"},\"children\":[]}]},\n",
       "        window,\n",
       "    );\n",
       "    })()\n",
       "    </script>\n",
       "</div>\n"
      ],
      "text/plain": [
       "data: [\n",
       "  \"scatter with fields mode, name, type, x, xaxis, y, and yaxis\",\n",
       "  \"scatter with fields mode, name, type, x, xaxis, y, and yaxis\",\n",
       "  \"scatter with fields fill, mode, name, type, x, xaxis, y, and yaxis\",\n",
       "  \"scatter with fields mode, name, type, x, xaxis, y, and yaxis\",\n",
       "  \"scatter with fields mode, name, type, x, xaxis, y, and yaxis\",\n",
       "  \"scatter with fields fill, mode, name, type, x, xaxis, y, and yaxis\"\n",
       "]\n",
       "\n",
       "layout: \"layout with fields annotations, margin, xaxis1, xaxis2, yaxis1, and yaxis2\"\n",
       "\n"
      ]
     },
     "execution_count": 33,
     "metadata": {
      "@webio": {
       "kernelId": "320e31bd-1d43-4beb-980f-68e97757ece4"
      }
     },
     "output_type": "execute_result"
    }
   ],
   "source": [
    "plot_u  = scatter(;x=x, y=u.(x), mode=\"lines+markers\", name=\"u(x)\")\n",
    "plot_v  = scatter(;x=x, y=v.(x), mode=\"lines+markers\", name=\"v(x)\")\n",
    "plot_uv = scatter(;x=x, y=v.(x).*u.(x), mode=\"lines+markers\", fill=\"tozeroy\", name=\"u(x) * v(x)\")\n",
    "\n",
    "plot_up  = scatter(;x=x, y=up.(x), mode=\"lines+markers\", name=\"u'(x)\")\n",
    "plot_vp  = scatter(;x=x, y=vp.(x), mode=\"lines+markers\", name=\"v'(x)\")\n",
    "plot_uvp = scatter(;x=x, y=vp.(x).*up.(x), mode=\"lines+markers\", fill=\"tozeroy\", name=\"u'(x) * v'(x)\")\n",
    "\n",
    "p1 = plot([plot_u, plot_v,plot_uv], Layout(title=\"Functions\",  xaxis_title=\"x\"))\n",
    "p2 = plot([plot_up, plot_vp,plot_uvp], Layout(title=\"Function Derivatives\",  xaxis_title=\"x\"))\n",
    "\n",
    "p = [p1 p2]\n",
    "#relayout!(p, height=300, width=700, title_text=\"Functions\", legend_title_text=\"Legend\")\n",
    "#p"
   ]
  },
  {
   "cell_type": "code",
   "execution_count": null,
   "id": "edd712df-6e67-4773-830f-9e9994b0f87d",
   "metadata": {},
   "outputs": [],
   "source": []
  }
 ],
 "metadata": {
  "@webio": {
   "lastCommId": "33c7c16d-b9ca-4162-a2cc-01f4c62b599e",
   "lastKernelId": "320e31bd-1d43-4beb-980f-68e97757ece4"
  },
  "kernelspec": {
   "display_name": "Julia 1.7.2",
   "language": "julia",
   "name": "julia-1.7"
  },
  "language_info": {
   "file_extension": ".jl",
   "mimetype": "application/julia",
   "name": "julia",
   "version": "1.7.2"
  }
 },
 "nbformat": 4,
 "nbformat_minor": 5
}
