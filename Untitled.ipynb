{
 "cells": [
  {
   "cell_type": "code",
   "execution_count": 57,
   "id": "9975735b-db9a-459d-92d4-a8cfa7de2761",
   "metadata": {},
   "outputs": [
    {
     "data": {
      "text/plain": [
       "150-element CategoricalArrays.CategoricalArray{String,1,UInt8}:\n",
       " \"setosa\"\n",
       " \"setosa\"\n",
       " \"setosa\"\n",
       " \"setosa\"\n",
       " \"setosa\"\n",
       " \"setosa\"\n",
       " \"setosa\"\n",
       " \"setosa\"\n",
       " \"setosa\"\n",
       " \"setosa\"\n",
       " \"setosa\"\n",
       " \"setosa\"\n",
       " \"setosa\"\n",
       " ⋮\n",
       " \"virginica\"\n",
       " \"virginica\"\n",
       " \"virginica\"\n",
       " \"virginica\"\n",
       " \"virginica\"\n",
       " \"virginica\"\n",
       " \"virginica\"\n",
       " \"virginica\"\n",
       " \"virginica\"\n",
       " \"virginica\"\n",
       " \"virginica\"\n",
       " \"virginica\""
      ]
     },
     "execution_count": 57,
     "metadata": {},
     "output_type": "execute_result"
    }
   ],
   "source": [
    "using MLJ, RDatasets\n",
    "iris = dataset(\"datasets\", \"iris\"); # a DataFrame\n",
    "\n",
    "X, y = @load_iris;\n",
    "#selectrows(X, 1:4) # selectrows works for any Tables.jl table\n",
    "(Xtrain, Xtest), (ytrain, ytest)  = partition((X, y), 0.81, multi=true,  rng=123)\n",
    "iris.Species"
   ]
  },
  {
   "cell_type": "code",
   "execution_count": 59,
   "id": "ccfe9eb2-1d85-4e94-a4d4-9130997d19e6",
   "metadata": {},
   "outputs": [
    {
     "data": {
      "text/plain": [
       "500×5 Matrix{Float64}:\n",
       " -0.637428    2.30521    -0.339433    1.33209   -1.31566\n",
       "  0.385773   -1.0489      1.14061     1.04677    0.76429\n",
       "  1.29383     0.643816    1.68317    -0.820916   1.13862\n",
       "  1.21731     0.175156    0.756164   -0.311497   1.31561\n",
       " -0.282607    0.385258    0.71867    -0.948975   2.14477\n",
       "  0.424689   -0.26211     0.41888    -0.673032   1.23796\n",
       " -1.08827     0.839169    1.28463     1.06703   -0.0522596\n",
       " -1.18037     0.964345   -0.359964    2.02227   -0.137269\n",
       "  1.13978     1.34256     0.401901    0.843871  -0.682393\n",
       " -0.546586    1.52604     0.91859    -0.854698  -0.121405\n",
       " -1.00072    -1.57299     0.126785   -0.923928  -1.34222\n",
       " -1.0671      0.384962   -0.691589    0.177436  -0.039898\n",
       "  0.738056    0.970224   -1.40578    -0.89633    0.272466\n",
       "  ⋮                                             \n",
       "  0.921325   -0.716654   -0.762739   -1.33049    0.414293\n",
       " -0.438131    0.704641   -0.592928    0.237586   2.05212\n",
       "  0.64426     1.10595    -0.91303     0.694366   0.818723\n",
       " -1.06331    -1.6865     -1.32228     0.980519  -0.568059\n",
       "  1.28406     0.726936   -2.29861     1.9712    -1.06751\n",
       "  0.081625   -0.69934     1.65973     0.624027  -1.13407\n",
       " -0.0775942  -0.617168    0.247131   -2.10603    0.0458104\n",
       " -0.277341   -0.0114174  -2.13266     0.349776   0.137462\n",
       " -2.24728    -0.597345    0.0432036   0.118866  -1.63402\n",
       " -0.804587   -0.162916    0.26494    -0.682347  -0.265413\n",
       "  0.29492     0.155527   -0.5649      0.343956  -0.399399\n",
       " -0.253223   -0.330009    0.244343    0.336164  -0.629663"
      ]
     },
     "execution_count": 59,
     "metadata": {},
     "output_type": "execute_result"
    }
   ],
   "source": [
    "n = 500\n",
    "p = 5\n",
    "X = randn(n, p)\n",
    "y = 2 * (rand(n) .< 0.5) .- 1\n",
    "X"
   ]
  },
  {
   "cell_type": "code",
   "execution_count": 62,
   "id": "0d065a7d-871d-4b4c-ad03-0e53102a308b",
   "metadata": {},
   "outputs": [
    {
     "ename": "LoadError",
     "evalue": "ArgumentError: Package LIBSVM not found in current path:\n- Run `import Pkg; Pkg.add(\"LIBSVM\")` to install the LIBSVM package.\n",
     "output_type": "error",
     "traceback": [
      "ArgumentError: Package LIBSVM not found in current path:\n- Run `import Pkg; Pkg.add(\"LIBSVM\")` to install the LIBSVM package.\n",
      "",
      "Stacktrace:",
      " [1] require(into::Module, mod::Symbol)",
      "   @ Base .\\loading.jl:967",
      " [2] eval",
      "   @ .\\boot.jl:373 [inlined]",
      " [3] include_string(mapexpr::typeof(REPL.softscope), mod::Module, code::String, filename::String)",
      "   @ Base .\\loading.jl:1196"
     ]
    }
   ],
   "source": [
    "using LIBSVM, RDatasets, Printf, Statistics\n",
    "\n",
    "# Load Fisher's classic iris data\n",
    "iris = dataset(\"datasets\", \"iris\")\n",
    "\n",
    "# First four dimension of input data is features\n",
    "X = Matrix(iris[:, 1:4])'\n",
    "\n",
    "# LIBSVM handles multi-class data automatically using a one-against-one strategy\n",
    "y = iris.Species\n",
    "\n",
    "# Split the dataset into training set and testing set\n",
    "Xtrain = X[:, 1:2:end]\n",
    "Xtest  = X[:, 2:2:end]\n",
    "ytrain = y[1:2:end]\n",
    "ytest  = y[2:2:end]\n",
    "\n",
    "# Train SVM on half of the data using default parameters. See documentation\n",
    "# of svmtrain for options\n",
    "model = svmtrain(Xtrain, ytrain)\n",
    "\n",
    "# Test model on the other half of the data.\n",
    "ŷ, decision_values = svmpredict(model, Xtest);\n",
    "\n",
    "# Compute accuracy\n",
    "@printf \"Accuracy: %.2f%%\\n\" mean(ŷ .== ytest) * 100\n"
   ]
  },
  {
   "cell_type": "code",
   "execution_count": 40,
   "id": "a46d57c0-b2ef-4cb1-ae7e-b3b35dc37d07",
   "metadata": {},
   "outputs": [
    {
     "data": {
      "text/plain": [
       "LinearRegressor(\n",
       "    fit_intercept = true,\n",
       "    solver = nothing)"
      ]
     },
     "execution_count": 40,
     "metadata": {},
     "output_type": "execute_result"
    }
   ],
   "source": [
    "models(\"LinearRegressor\");\n",
    "Linear = @load LinearRegressor pkg=MLJLinearModels verbosity=0\n",
    "ModelL = Linear()\n",
    "#mach = machine(ModelL, Xtrain, ytrain)# |> fit!\n"
   ]
  },
  {
   "cell_type": "code",
   "execution_count": 21,
   "id": "ede09d73-54ab-4645-aa10-a98b302a0c94",
   "metadata": {},
   "outputs": [
    {
     "data": {
      "text/latex": [
       "Standard linear regression model with objective function\n",
       "\n",
       "$|Xθ - y|₂²/2$\n",
       "\n",
       "\\subsection{Parameters}\n",
       "\\begin{itemize}\n",
       "\\item \\texttt{fit\\_intercept::Bool}\n",
       "\n",
       "whether to fit the intercept or not. Default: true\n",
       "\n",
       "\n",
       "\\item \\texttt{solver::Union\\{Nothing, MLJLinearModels.Solver\\}}\n",
       "\n",
       "type of solver to use (if \\texttt{nothing} the default is used). The solver is     Cholesky by default but can be Conjugate-Gradient as well. See \\texttt{?Analytical}     for more information. Default: nothing\n",
       "\n",
       "\\end{itemize}\n",
       "\\subsection{Example}\n",
       "\\begin{verbatim}\n",
       "using MLJ\n",
       "X, y = make_regression()\n",
       "mach = fit!(machine(LinearRegressor(), X, y))\n",
       "predict(mach, X)\n",
       "fitted_params(mach)\n",
       "\\end{verbatim}\n"
      ],
      "text/markdown": [
       "Standard linear regression model with objective function\n",
       "\n",
       "$|Xθ - y|₂²/2$\n",
       "\n",
       "## Parameters\n",
       "\n",
       "  * `fit_intercept::Bool`\n",
       "\n",
       "    whether to fit the intercept or not. Default: true\n",
       "  * `solver::Union{Nothing, MLJLinearModels.Solver}`\n",
       "\n",
       "    type of solver to use (if `nothing` the default is used). The solver is     Cholesky by default but can be Conjugate-Gradient as well. See `?Analytical`     for more information. Default: nothing\n",
       "\n",
       "## Example\n",
       "\n",
       "```\n",
       "using MLJ\n",
       "X, y = make_regression()\n",
       "mach = fit!(machine(LinearRegressor(), X, y))\n",
       "predict(mach, X)\n",
       "fitted_params(mach)\n",
       "```\n"
      ],
      "text/plain": [
       "  Standard linear regression model with objective function\n",
       "\n",
       "  \u001b[35m|Xθ - y|₂²/2\u001b[39m\n",
       "\n",
       "\u001b[1m  Parameters\u001b[22m\n",
       "\u001b[1m  ============\u001b[22m\n",
       "\n",
       "    •  \u001b[36mfit_intercept::Bool\u001b[39m\n",
       "       whether to fit the intercept or not. Default: true\n",
       "\n",
       "    •  \u001b[36msolver::Union{Nothing, MLJLinearModels.Solver}\u001b[39m\n",
       "       type of solver to use (if \u001b[36mnothing\u001b[39m the default is used). The solver\n",
       "       is Cholesky by default but can be Conjugate-Gradient as well. See\n",
       "       \u001b[36m?Analytical\u001b[39m for more information. Default: nothing\n",
       "\n",
       "\u001b[1m  Example\u001b[22m\n",
       "\u001b[1m  =========\u001b[22m\n",
       "\n",
       "\u001b[36m  using MLJ\u001b[39m\n",
       "\u001b[36m  X, y = make_regression()\u001b[39m\n",
       "\u001b[36m  mach = fit!(machine(LinearRegressor(), X, y))\u001b[39m\n",
       "\u001b[36m  predict(mach, X)\u001b[39m\n",
       "\u001b[36m  fitted_params(mach)\u001b[39m"
      ]
     },
     "execution_count": 21,
     "metadata": {},
     "output_type": "execute_result"
    }
   ],
   "source": [
    "@doc MLJLinearModels.LinearRegressor"
   ]
  },
  {
   "cell_type": "code",
   "execution_count": 105,
   "id": "d9b53142-84bd-4556-ab39-86849df8a277",
   "metadata": {},
   "outputs": [
    {
     "name": "stderr",
     "output_type": "stream",
     "text": [
      "┌ Info: Training Machine{KNNClassifier,…}.\n",
      "└ @ MLJBase C:\\Users\\sebas\\.julia\\packages\\MLJBase\\rMXo2\\src\\machines.jl:423\n"
     ]
    },
    {
     "data": {
      "text/plain": [
       "Machine{KNNClassifier,…} trained 1 time; caches data\n",
       "  model: KNNClassifier\n",
       "  args: \n",
       "    1:\tSource @119 ⏎ `Table{AbstractVector{Continuous}}`\n",
       "    2:\tSource @818 ⏎ `AbstractVector{Multiclass{2}}`\n"
      ]
     },
     "execution_count": 105,
     "metadata": {},
     "output_type": "execute_result"
    }
   ],
   "source": [
    "using NearestNeighborModels, MLJBase, DataFrames\n",
    "X, y = @load_crabs; # loads the crabs dataset from MLJBase\n",
    "X = DataFrame(X)\n",
    "\n",
    "train_inds, test_inds = partition(1:nrows(X), 0.7, shuffle=false);\n",
    "\n",
    "knnc = KNNClassifier(weights = Inverse()) # KNNClassifier instantiation\n",
    "knnc_mach = fit!(machine(knnc, X, y)) # wrap model and required data in an MLJ machine\n",
    "#fit!(knnc_mach, rows=train_inds)\n",
    "#fit!(knnc_mach)\n",
    "#predict(knnc_mach, X)\n",
    "\n",
    "#evaluate(knnc, X, y, verbosity=0)  #, resampling = [(X_train, Y_train), (X_test, Y_test)]"
   ]
  },
  {
   "cell_type": "code",
   "execution_count": 109,
   "id": "27a031b4-592c-4684-8c8d-27a98fb58d62",
   "metadata": {},
   "outputs": [
    {
     "data": {
      "text/plain": [
       "(200,)"
      ]
     },
     "execution_count": 109,
     "metadata": {},
     "output_type": "execute_result"
    }
   ],
   "source": [
    "size(y)"
   ]
  },
  {
   "cell_type": "code",
   "execution_count": 110,
   "id": "5fb77283-70aa-4ba6-89cf-8cbe69c50ee4",
   "metadata": {},
   "outputs": [
    {
     "name": "stdout",
     "output_type": "stream",
     "text": [
      "import MLJDecisionTreeInterface ✔\n"
     ]
    },
    {
     "name": "stderr",
     "output_type": "stream",
     "text": [
      "┌ Info: For silent loading, specify `verbosity=0`. \n",
      "└ @ Main C:\\Users\\sebas\\.julia\\packages\\MLJModels\\OYpZv\\src\\loading.jl:168\n",
      "┌ Info: Training Machine{DecisionTreeRegressor,…}.\n",
      "└ @ MLJBase C:\\Users\\sebas\\.julia\\packages\\MLJBase\\rMXo2\\src\\machines.jl:423\n"
     ]
    },
    {
     "data": {
      "text/plain": [
       "Decision Tree\n",
       "Leaves: 13\n",
       "Depth:  4"
      ]
     },
     "execution_count": 110,
     "metadata": {},
     "output_type": "execute_result"
    }
   ],
   "source": [
    "using MLJ\n",
    "Tree = @load DecisionTreeRegressor pkg=DecisionTree\n",
    "tree = Tree(max_depth=4, min_samples_split=3)\n",
    "\n",
    "X, y = make_regression(100, 2) # synthetic data\n",
    "mach = machine(tree, X, y) |> fit!\n",
    "\n",
    "Xnew, _ = make_regression(3, 2)\n",
    "yhat = predict(mach, Xnew) # new predictions\n",
    "\n",
    "fitted_params(mach).tree # raw tree or stump object from DecisionTree.jl"
   ]
  },
  {
   "cell_type": "code",
   "execution_count": 113,
   "id": "807d9c2e-9e29-4a56-a314-5831a89ed9a1",
   "metadata": {},
   "outputs": [
    {
     "data": {
      "text/plain": [
       "100-element Vector{Float64}:\n",
       "  1.274009603091795\n",
       "  2.163746214222563\n",
       "  3.2265088349284845\n",
       "  3.2241852349569657\n",
       " -1.561191005305875\n",
       " -0.5351836022458745\n",
       "  2.5519480096727047\n",
       "  0.9177885744006054\n",
       "  1.5518268839393026\n",
       "  3.4633938954201504\n",
       "  1.9214478984516696\n",
       "  0.589367437576867\n",
       "  0.874282431519641\n",
       "  ⋮\n",
       " -0.3303943206491248\n",
       " -0.7441917061671321\n",
       "  1.7519373374877447\n",
       "  1.3167214000407839\n",
       " -0.2603641060389298\n",
       "  3.9793671240396247\n",
       " -4.3860867067685625\n",
       " -1.7582557422893412\n",
       "  2.456453607670592\n",
       "  0.726285105827171\n",
       "  4.274348307158747\n",
       "  4.856353191357351"
      ]
     },
     "execution_count": 113,
     "metadata": {},
     "output_type": "execute_result"
    }
   ],
   "source": [
    "y#DataFrame(X)"
   ]
  },
  {
   "cell_type": "code",
   "execution_count": 69,
   "id": "5bfca013-d914-4aad-9b66-227760ef35b8",
   "metadata": {},
   "outputs": [
    {
     "data": {
      "text/plain": [
       "60-element Vector{Int64}:\n",
       " 141\n",
       " 142\n",
       " 143\n",
       " 144\n",
       " 145\n",
       " 146\n",
       " 147\n",
       " 148\n",
       " 149\n",
       " 150\n",
       " 151\n",
       " 152\n",
       " 153\n",
       "   ⋮\n",
       " 189\n",
       " 190\n",
       " 191\n",
       " 192\n",
       " 193\n",
       " 194\n",
       " 195\n",
       " 196\n",
       " 197\n",
       " 198\n",
       " 199\n",
       " 200"
      ]
     },
     "execution_count": 69,
     "metadata": {},
     "output_type": "execute_result"
    }
   ],
   "source": [
    "test_inds"
   ]
  }
 ],
 "metadata": {
  "kernelspec": {
   "display_name": "Julia 1.7.2",
   "language": "julia",
   "name": "julia-1.7"
  },
  "language_info": {
   "file_extension": ".jl",
   "mimetype": "application/julia",
   "name": "julia",
   "version": "1.7.2"
  }
 },
 "nbformat": 4,
 "nbformat_minor": 5
}
