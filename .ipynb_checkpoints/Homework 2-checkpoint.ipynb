{
 "cells": [
  {
   "cell_type": "markdown",
   "id": "bad72c44",
   "metadata": {},
   "source": [
    "<center> <h1> <b>HOMEWORK 2<b></h1> </center>\n",
    "<center> <h2> Numerical Analysis II - 2022</h2> </center>\n",
    "<center> <h3> Fabián Eduardo Suárez Castellanos and Sebastian Aguilera Novoa</h3> </center>"
   ]
  },
  {
   "cell_type": "code",
   "execution_count": 56,
   "id": "82bd7a5b-8fc1-4203-82fe-948a140e95d9",
   "metadata": {},
   "outputs": [],
   "source": [
    "using QuadGK, Calculus, PlotlyJS"
   ]
  },
  {
   "cell_type": "markdown",
   "id": "aa5e7466",
   "metadata": {
    "tags": []
   },
   "source": [
    "## 1.T\n",
    "\n",
    "Use the Galerkin method with the functions ${\\phi_1, \\phi_2} = \\{x(x-2), x(x-1)^2\\}$ to get an aproximated solution (two parameters) of the BVP solution\n",
    "\n",
    "$$ \\frac{d^2 u}{dx^2} + u = 1; \\qquad 0<x<1\\qquad \\text{with} \\quad u(0)=0, \\qquad u'(1)= \\frac{du}{dx}\\Bigg|_{x=1}=0$$\n",
    "\n",
    "Find the residual error $\\epsilon(x)= d^2u_n/dx^2+u_n-1$. Plot in a single plane the aproximate solution $u_n$, the exact solution $u=-\\cos(x)-\\tan(1)\\sin(x)+1$ and the residual error $\\epsilon(x)$"
   ]
  },
  {
   "cell_type": "markdown",
   "id": "91030d3c-1061-4899-99bd-2353cf2bec9e",
   "metadata": {
    "tags": []
   },
   "source": [
    "### Solution"
   ]
  },
  {
   "cell_type": "markdown",
   "id": "320fe06a-6e9e-41b6-8c3f-e45e3a855803",
   "metadata": {},
   "source": [
    "Multiplying by a test function $v|v(0) =  v'(1) = 0$ and integrating over $I$ the differential equation\n",
    "\n",
    "$$\\int_0^1v u'' dx + \\int_0^1 vu dx = \\int_0^1  v dx  $$\n",
    "\n",
    "integrating by steps the first term and rem\n",
    "\n",
    "$$ \\int_0^1 vu'' dx =   vu'\\Big|_0^1 - \\int_0^1 v'u' dx = vu'\\Big|_0^1 - \\int_0^1 v'u' dx = v(1)u'(1) - v(0)u'(0)- \\int_0^1 v'u' dx  =- \\int_0^1 v'u' dx $$\n",
    "\n",
    "$$ - \\int_0^1 v'u' dx + \\int_0^1 vu dx = \\int_0^1  v dx  $$\n",
    "\n",
    "Rewriting the last equation as $a(u,v) = Lu$ with\n",
    "\n",
    "$$\n",
    "a(u,v) = \\int_0^1 (v'u' - vu) dx\n",
    "Lv = -\\int_0^1  v dx \n",
    "$$\n",
    "\n",
    "Now, approximating by finite elements. Find $u \\in V_h$ such that\n",
    "\n",
    "$$ - \\int_0^1 v'u_h' dx + \\int_0^1 vu_h dx = \\int_0^1  v dx  $$\n",
    "\n",
    "where the following functions were used\n",
    "\n",
    "$${\\phi_1, \\phi_2} = \\{x^2-2x, x^3-2x^2+x\\}, \\qquad {\\phi_1', \\phi_2'} = \\{2x-2, 3x^2-4x+1\\}$$\n",
    "\n",
    "Finite dimensional space to build the lineal system, and remembering that $v$ is any element of the base set \n",
    "\n",
    "$$ u_h(x) = u_1 \\phi_1(x) + u_2 \\phi_2(x), \\qquad  u_h'(x) = u_1 \\phi_1'(x) + u_2 \\phi_2'(x), \\qquad v = \\phi_{1,2}(x), \\qquad v' = \\phi_{1,2}'(x)  $$\n",
    "\n",
    "then, the system of equations is\n",
    "\n",
    "$$ -u_1 \\int_0^1  \\phi_1'\\phi_1' dx - u_2 \\int_0^1 \\phi_1'\\phi_2' dx + u_1 \\int_0^1\\phi_1\\phi_1dx+ u_2 \\int_0^1\\phi_1\\phi_2dx= \\int_0^1  \\phi_1(x) dx\\\\\n",
    " -u_1 \\int_0^1  \\phi_2'\\phi_1' dx - u_2 \\int_0^1 \\phi_2'\\phi_2' dx + u_1 \\int_0^1\\phi_2\\phi_1dx+ u_2 \\int_0^1\\phi_2\\phi_2dx= \\int_0^1  \\phi_2(x) dx$$\n",
    "\n",
    "factorizing\n",
    "\n",
    "$$ u_1 \\left( \\int_0^1\\phi_1\\phi_1dx - \\int_0^1  \\phi_1'\\phi_1' dx\\right) + u_2  \\left(\\int_0^1\\phi_1\\phi_2dx- \\int_0^1 \\phi_1'\\phi_2' dx\\right)  = \\int_0^1  \\phi_1(x) dx = b_1\\\\\n",
    "u_1 \\left(\\int_0^1\\phi_2\\phi_1dx -  \\int_0^1  \\phi_2'\\phi_1' dx  \\right) + u_2  \\left( \\int_0^1\\phi_2\\phi_2dx- \\int_0^1 \\phi_2'\\phi_2' dx\\right)  = \\int_0^1  \\phi_2(x) dx = b_2$$\n",
    "\n",
    "\n",
    "This system of equations can be see as a matrix system\n",
    "\n",
    "$$ M u_n = b$$\n",
    "\n",
    "where $M$ is a matrix $2\\times2$, $u$ a vector $(u_1, u_2)^T$, and $v$ also a vector $(b_1, b_2)^T$.\n",
    "\n",
    "Let's calculate each matrix component\n",
    "\n",
    "$$\n",
    "M_{11} =  \\int_0^1\\phi_1\\phi_1dx - \\int_0^1  \\phi_1'\\phi_1' dx =  \\int_0^1x^2(x-2)^2dx - \\int_0^1  4(x-1)^2 dx\\\\\n",
    " = int_0^1x^2(x^2-4x+4)dx - 4\\int_0^1  (x^2-2x+1) dx = int_0^1(x^4-4x^3+4x^2 - 4(x^2-2x+1)) dx  = int_0^1(x^4-4x^3+8x-4) dx \\\\\n",
    " = \\left[\\frac{1}{5}x^5-x^4+4x^2-4x \\right]\\Big|_0^1 = \\frac{1}{5}-1+4-4 \\quad \\Rightarrow \\quad \\boxed{M_{11} = - \\frac{4}{5}}\n",
    "$$\n",
    "\n",
    "\n",
    "$$\n",
    "M_{12} =  \\int_0^1\\phi_1\\phi_2dx- \\int_0^1 \\phi_1'\\phi_2' dx = \\int_0^1x^2(x-2)(x-1)^2dx- \\int_0^1 2(x-1)(3x^2-4x+1) dx\\\\\n",
    " = \\int_0^1x^2(x-2)(x^2-2x+1)dx- \\int_0^1 2(3x^3-4x^2+x - 3x^2+4x-1) dx = \\int_0^1x^2(x^3-2x^2+x - 2x^2+4x-2)dx- \\int_0^1 2(3x^3-4x^2+x - 3x^2+4x-1) dx     \\\\\n",
    " = \\int_0^1(x^5-4x^4+5x^3-2x^2 - 2(3x^3-7x^2+5x-1)) dx  = \\int_0^1(x^5-4x^4-x^3+12x^2 -10x +2) dx \\\\\n",
    " =  \\left[\\frac{1}{6}x^6-\\frac{4}{5}x^5-\\frac{1}{4}x^4+4x^3 -5x^2 +2x \\right]\\Big|_0^1 = \\frac{1}{6}-\\frac{4}{5}-\\frac{1}{4}+4-5+2 \\quad \\Rightarrow \\quad \\boxed{M_{12} = \\frac{7}{60}}\n",
    "$$\n",
    "\n",
    "\n",
    "$$\n",
    "M_{21} =  \\int_0^1\\phi_2\\phi_1dx -  \\int_0^1  \\phi_2'\\phi_1' dx = \\int_0^1x^2(x-2)(x-1)^2dx -  \\int_0^1 2(x-1)(3x^2-4x+1) dx = M_{12}  \\\\ \n",
    "\\Rightarrow \\quad \\boxed{M_{21} = \\frac{7}{60}}\n",
    "$$\n",
    "\n",
    "\n",
    "$$\n",
    "M_{22} =  \\int_0^1\\phi_2\\phi_2dx- \\int_0^1 \\phi_2'\\phi_2' dx = \\int_0^1x^2 (x-1)^4dx - \\int_0^1 (3x^2-4x+1)^2 dx \\\\\n",
    "= \\int_0^1x^2 (x^4 -4x^3 + 6x^2 -4x +1) dx - \\int_0^1 (9x^4+16x^2+1 -24x^3 +6x^2 -8x) dx  \\\\\n",
    "= \\int_0^1 (x^6 -4x^5 + 6x^4 -4x^3 +x^2 - (9x^4-24x^3+22x^2-8x +1)) dx\\\\\n",
    "= \\int_0^1 (x^6 -4x^5 - 3x^4 +20x^3 -21x^2 + 8x -1) dx = \\left[\\frac{1}{7} x^7 -\\frac{4}{6}x^6 - \\frac{3}{5}x^5 +5x^4 -7x^3 + 4x^2 -x  \\right]\\Big|_0^1 \\\\\n",
    "= \\frac{1}{7} -\\frac{4}{6} - \\frac{3}{5} +5 -7 + 4 -1 = \\frac{1}{7} -\\frac{4}{6} - \\frac{3}{5} +1 \\quad \\Rightarrow \\quad \\boxed{M_{22} = -\\frac{13}{105}}\n",
    "$$\n",
    "\n",
    "Similarly, the vector $b$ is calculated\n",
    "\n",
    "$$\n",
    "b_1 = \\int_0^1  \\phi_1(x) dx = \\int_0^1 (x^2-2x) dx = \\left[\\frac{1}{3} x^3-x^2 \\right]\\Big|_0^1 =  \\frac{1}{3}-1  \\quad \\Rightarrow \\quad \\boxed{b_1=-\\frac{2}{3}} \\\\\n",
    "b_2 = \\int_0^1  \\phi_2(x) dx = \\int_0^1 (x^3-2x^2+x) dx = \\left[\\frac{1}{4}x^4-\\frac{2}{3}x^3+\\frac{1}{2}x^2 \\right]\\Big|_0^1 = \\frac{1}{4}-\\frac{2}{3}+\\frac{1}{2}   \\quad \\Rightarrow \\quad \\boxed{b_2=\\frac{1}{12}}\n",
    "$$\n",
    "\n",
    "Then, the final matrix and vectors are\n",
    "\n",
    "$$ M  = \\begin{pmatrix}\n",
    "- \\frac{4}{5} & \\frac{7}{60} \\\\\n",
    "\\frac{7}{60} & -\\frac{13}{105} \n",
    "\\end{pmatrix}, \\qquad  b  = \\begin{pmatrix}\n",
    "- \\frac{2}{3} \\\\\n",
    "\\frac{1}{12}\n",
    "\\end{pmatrix},  \\qquad  u_n  = \\begin{pmatrix}\n",
    "u_1 \\\\\n",
    "u_2\n",
    "\\end{pmatrix} $$\n"
   ]
  },
  {
   "cell_type": "code",
   "execution_count": 57,
   "id": "707bd199-70a2-429f-9209-ca375a4919e2",
   "metadata": {},
   "outputs": [
    {
     "data": {
      "text/plain": [
       "2-element Vector{Float64}:\n",
       " 0.8522991175104505\n",
       " 0.13005109150023228"
      ]
     },
     "metadata": {},
     "output_type": "display_data"
    }
   ],
   "source": [
    "phi1(x) = x^2 - 2*x;     phi1p(x) = 2x - 2;       phi1pp(x) = 2\n",
    "phi2(x) = x * (x-1)^2;   phi2p(x) = 3x^2 -4x +1;  phi2pp(x) = 6x - 4  \n",
    "\n",
    "integral11, err11 = quadgk(x -> phi1(x)*phi1(x) - phi1p(x)*phi1p(x), 0, 1, rtol=1e-8)\n",
    "integral12, err12 = quadgk(x -> phi1(x)*phi2(x) - phi1p(x)*phi2p(x), 0, 1, rtol=1e-8)\n",
    "integral21, err21 = quadgk(x -> phi2(x)*phi1(x) - phi2p(x)*phi1p(x), 0, 1, rtol=1e-8)\n",
    "integral22, err22 = quadgk(x -> phi2(x)*phi2(x) - phi2p(x)*phi2p(x), 0, 1, rtol=1e-8)\n",
    "\n",
    "integralb1, errb1 = quadgk(x -> phi1(x), 0, 1, rtol=1e-8)\n",
    "integralb2, errb2 = quadgk(x -> phi2(x), 0, 1, rtol=1e-8)\n",
    "\n",
    "M = [integral11 integral12; integral21 integral22]\n",
    "b = [integralb1; integralb2]\n",
    "\n",
    "u = M \\ b\n",
    "\n",
    "uh(x)   =  u[1]*phi1(x)   + u[2]*phi2(x);\n",
    "uhp(x)  =  u[1]*phi1p(x)  + u[2]*phi2p(x);\n",
    "uhpp(x) =  u[1]*phi1pp(x) + u[2]*phi2pp(x);\n",
    "\n",
    "display(u)"
   ]
  },
  {
   "cell_type": "code",
   "execution_count": 58,
   "id": "714da706",
   "metadata": {},
   "outputs": [
    {
     "data": {
      "application/vnd.plotly.v1+json": {
       "data": [
        {
         "name": "Φ1",
         "type": "scatter",
         "x": [
          0,
          0.1,
          0.2,
          0.3,
          0.4,
          0.5,
          0.6,
          0.7,
          0.8,
          0.9,
          1
         ],
         "xaxis": "x",
         "y": [
          0,
          -0.19,
          -0.36,
          -0.51,
          -0.64,
          -0.75,
          -0.84,
          -0.9099999999999999,
          -0.96,
          -0.99,
          -1
         ],
         "yaxis": "y"
        },
        {
         "name": "Φ2",
         "type": "scatter",
         "x": [
          0,
          0.1,
          0.2,
          0.3,
          0.4,
          0.5,
          0.6,
          0.7,
          0.8,
          0.9,
          1
         ],
         "xaxis": "x",
         "y": [
          0,
          0.08100000000000002,
          0.12800000000000003,
          0.14699999999999996,
          0.144,
          0.125,
          0.09600000000000002,
          0.06300000000000001,
          0.03199999999999999,
          0.008999999999999996,
          0
         ],
         "yaxis": "y"
        },
        {
         "name": "Φ'1",
         "type": "scatter",
         "x": [
          0,
          0.1,
          0.2,
          0.3,
          0.4,
          0.5,
          0.6,
          0.7,
          0.8,
          0.9,
          1
         ],
         "xaxis": "x2",
         "y": [
          -2,
          -1.8,
          -1.6,
          -1.4,
          -1.2,
          -1,
          -0.8,
          -0.6000000000000001,
          -0.3999999999999999,
          -0.19999999999999996,
          0
         ],
         "yaxis": "y2"
        },
        {
         "name": "Φ'2",
         "type": "scatter",
         "x": [
          0,
          0.1,
          0.2,
          0.3,
          0.4,
          0.5,
          0.6,
          0.7,
          0.8,
          0.9,
          1
         ],
         "xaxis": "x2",
         "y": [
          1,
          0.63,
          0.31999999999999995,
          0.07000000000000006,
          -0.1200000000000001,
          -0.25,
          -0.31999999999999984,
          -0.33000000000000007,
          -0.2799999999999998,
          -0.16999999999999993,
          0
         ],
         "yaxis": "y2"
        }
       ],
       "frames": [],
       "layout": {
        "annotations": [
         {
          "font": {
           "size": 16
          },
          "showarrow": false,
          "text": "Functions (Φ)",
          "x": 0.225,
          "xanchor": "center",
          "xref": "paper",
          "y": 1,
          "yanchor": "bottom",
          "yref": "paper"
         },
         {
          "font": {
           "size": 16
          },
          "showarrow": false,
          "text": "Derivative Functions (Φ')",
          "x": 0.775,
          "xanchor": "center",
          "xref": "paper",
          "y": 1,
          "yanchor": "bottom",
          "yref": "paper"
         }
        ],
        "autosize": true,
        "margin": {
         "b": 50,
         "l": 50,
         "r": 50,
         "t": 60
        },
        "xaxis": {
         "anchor": "y",
         "autorange": true,
         "domain": [
          0,
          0.45
         ],
         "range": [
          -0.06587994796506226,
          1.0658799479650622
         ],
         "title": {
          "text": "x"
         },
         "type": "linear"
        },
        "xaxis2": {
         "anchor": "y2",
         "autorange": true,
         "domain": [
          0.55,
          1
         ],
         "range": [
          -0.06587994796506225,
          1.0658799479650622
         ],
         "title": {
          "text": "x"
         },
         "type": "linear"
        },
        "yaxis": {
         "anchor": "x",
         "autorange": true,
         "domain": [
          0,
          1
         ],
         "range": [
          -1.0856954022988505,
          0.23269540229885055
         ],
         "title": {
          "text": "Φ"
         },
         "type": "linear"
        },
        "yaxis2": {
         "anchor": "x2",
         "autorange": true,
         "domain": [
          0,
          1
         ],
         "range": [
          -2.2241379310344827,
          1.2241379310344827
         ],
         "title": {
          "text": "Φ'"
         },
         "type": "linear"
        }
       }
      },
      "application/vnd.webio.node+json": {
       "children": [
        {
         "children": [],
         "instanceArgs": {
          "namespace": "html",
          "tag": "div"
         },
         "nodeType": "DOM",
         "props": {
          "id": "plot-2408d4c3-b6de-47ab-bb21-b9d8ec75612d"
         },
         "type": "node"
        }
       ],
       "instanceArgs": {
        "handlers": {
         "__get_gd_contents": [
          "(function (prop){prop==\"data\" ? (WebIO.setval({\"name\":\"__gd_contents\",\"scope\":\"2994541285950476218\",\"id\":\"545467348304381604\",\"type\":\"observable\"},this.plotElem.data)) : undefined; return prop==\"layout\" ? (WebIO.setval({\"name\":\"__gd_contents\",\"scope\":\"2994541285950476218\",\"id\":\"545467348304381604\",\"type\":\"observable\"},this.plotElem.layout)) : undefined})"
         ],
         "_commands": [
          "(function (args){var fn=args.shift(); var elem=this.plotElem; var Plotly=this.Plotly; args.unshift(elem); return Plotly[fn].apply(this,args)})"
         ],
         "_downloadImage": [
          "(function (options){return this.Plotly.downloadImage(this.plotElem,options)})"
         ],
         "_toImage": [
          "(function (options){return this.Plotly.toImage(this.plotElem,options).then((function (data){return WebIO.setval({\"name\":\"image\",\"scope\":\"2994541285950476218\",\"id\":\"7275199986328626622\",\"type\":\"observable\"},data)}))})"
         ]
        },
        "id": "2994541285950476218",
        "imports": {
         "data": [
          {
           "name": "Plotly",
           "type": "js",
           "url": "/assetserver/c843c6635296ea5f415808032e6c1f322a3239cd-plotly.min.js"
          },
          {
           "name": null,
           "type": "js",
           "url": "/assetserver/44e1943a6c8ed4b38e47f64f07dc32566142c8ee-plotly_webio.bundle.js"
          }
         ],
         "type": "async_block"
        },
        "mount_callbacks": [
         "function () {\n    var handler = ((function (Plotly,PlotlyWebIO){PlotlyWebIO.init(WebIO); var gd=this.dom.querySelector(\"#plot-2408d4c3-b6de-47ab-bb21-b9d8ec75612d\"); this.plotElem=gd; this.Plotly=Plotly; (window.Blink!==undefined) ? (gd.style.width=\"100%\", gd.style.height=\"100vh\", gd.style.marginLeft=\"0%\", gd.style.marginTop=\"0vh\") : undefined; window.onresize=(function (){return Plotly.Plots.resize(gd)}); Plotly.newPlot(gd,[{\"xaxis\":\"x1\",\"y\":[0.0,-0.19,-0.36,-0.51,-0.64,-0.75,-0.84,-0.9099999999999999,-0.96,-0.99,-1.0],\"type\":\"scatter\",\"name\":\"Φ1\",\"yaxis\":\"y1\",\"x\":[0.0,0.1,0.2,0.3,0.4,0.5,0.6,0.7,0.8,0.9,1.0]},{\"xaxis\":\"x1\",\"y\":[0.0,0.08100000000000002,0.12800000000000003,0.14699999999999996,0.144,0.125,0.09600000000000002,0.06300000000000001,0.03199999999999999,0.008999999999999996,0.0],\"type\":\"scatter\",\"name\":\"Φ2\",\"yaxis\":\"y1\",\"x\":[0.0,0.1,0.2,0.3,0.4,0.5,0.6,0.7,0.8,0.9,1.0]},{\"xaxis\":\"x2\",\"y\":[-2.0,-1.8,-1.6,-1.4,-1.2,-1.0,-0.8,-0.6000000000000001,-0.3999999999999999,-0.19999999999999996,0.0],\"type\":\"scatter\",\"name\":\"Φ'1\",\"yaxis\":\"y2\",\"x\":[0.0,0.1,0.2,0.3,0.4,0.5,0.6,0.7,0.8,0.9,1.0]},{\"xaxis\":\"x2\",\"y\":[1.0,0.63,0.31999999999999995,0.07000000000000006,-0.1200000000000001,-0.25,-0.31999999999999984,-0.33000000000000007,-0.2799999999999998,-0.16999999999999993,0.0],\"type\":\"scatter\",\"name\":\"Φ'2\",\"yaxis\":\"y2\",\"x\":[0.0,0.1,0.2,0.3,0.4,0.5,0.6,0.7,0.8,0.9,1.0]}],{\"xaxis1\":{\"title\":\"x\",\"domain\":[0.0,0.45],\"anchor\":\"y1\"},\"yaxis1\":{\"title\":\"Φ\",\"domain\":[0.0,1.0],\"anchor\":\"x1\"},\"xaxis2\":{\"title\":\"x\",\"domain\":[0.55,1.0],\"anchor\":\"y2\"},\"annotations\":[{\"yanchor\":\"bottom\",\"xanchor\":\"center\",\"y\":1.0,\"font\":{\"size\":16},\"showarrow\":false,\"yref\":\"paper\",\"text\":\"Functions (Φ)\",\"xref\":\"paper\",\"x\":0.225},{\"yanchor\":\"bottom\",\"xanchor\":\"center\",\"y\":1.0,\"font\":{\"size\":16},\"showarrow\":false,\"yref\":\"paper\",\"text\":\"Derivative Functions (Φ')\",\"xref\":\"paper\",\"x\":0.775}],\"margin\":{\"l\":50,\"b\":50,\"r\":50,\"t\":60},\"yaxis2\":{\"title\":\"Φ'\",\"domain\":[0.0,1.0],\"anchor\":\"x2\"}},{\"showLink\":false}); gd.on(\"plotly_hover\",(function (data){var filtered_data=WebIO.PlotlyCommands.filterEventData(gd,data,\"hover\"); return !(filtered_data.isnil) ? (WebIO.setval({\"name\":\"hover\",\"scope\":\"2994541285950476218\",\"id\":\"4091249801716045517\",\"type\":\"observable\"},filtered_data.out)) : undefined})); gd.on(\"plotly_unhover\",(function (){return WebIO.setval({\"name\":\"hover\",\"scope\":\"2994541285950476218\",\"id\":\"4091249801716045517\",\"type\":\"observable\"},{})})); gd.on(\"plotly_selected\",(function (data){var filtered_data=WebIO.PlotlyCommands.filterEventData(gd,data,\"selected\"); return !(filtered_data.isnil) ? (WebIO.setval({\"name\":\"selected\",\"scope\":\"2994541285950476218\",\"id\":\"16932228727311744183\",\"type\":\"observable\"},filtered_data.out)) : undefined})); gd.on(\"plotly_deselect\",(function (){return WebIO.setval({\"name\":\"selected\",\"scope\":\"2994541285950476218\",\"id\":\"16932228727311744183\",\"type\":\"observable\"},{})})); gd.on(\"plotly_relayout\",(function (data){var filtered_data=WebIO.PlotlyCommands.filterEventData(gd,data,\"relayout\"); return !(filtered_data.isnil) ? (WebIO.setval({\"name\":\"relayout\",\"scope\":\"2994541285950476218\",\"id\":\"17922426709799372562\",\"type\":\"observable\"},filtered_data.out)) : undefined})); return gd.on(\"plotly_click\",(function (data){var filtered_data=WebIO.PlotlyCommands.filterEventData(gd,data,\"click\"); return !(filtered_data.isnil) ? (WebIO.setval({\"name\":\"click\",\"scope\":\"2994541285950476218\",\"id\":\"6734249482210754030\",\"type\":\"observable\"},filtered_data.out)) : undefined}))}));\n    (WebIO.importBlock({\"data\":[{\"name\":\"Plotly\",\"type\":\"js\",\"url\":\"/assetserver/c843c6635296ea5f415808032e6c1f322a3239cd-plotly.min.js\"},{\"name\":null,\"type\":\"js\",\"url\":\"/assetserver/44e1943a6c8ed4b38e47f64f07dc32566142c8ee-plotly_webio.bundle.js\"}],\"type\":\"async_block\"})).then((imports) => handler.apply(this, imports));\n}\n"
        ],
        "observables": {
         "__gd_contents": {
          "id": "545467348304381604",
          "sync": false,
          "value": {}
         },
         "__get_gd_contents": {
          "id": "13187473880083892469",
          "sync": false,
          "value": ""
         },
         "_commands": {
          "id": "9942685608249198730",
          "sync": false,
          "value": []
         },
         "_downloadImage": {
          "id": "2012198908204641298",
          "sync": false,
          "value": {}
         },
         "_toImage": {
          "id": "1767002283178537142",
          "sync": false,
          "value": {}
         },
         "click": {
          "id": "6734249482210754030",
          "sync": false,
          "value": {}
         },
         "hover": {
          "id": "4091249801716045517",
          "sync": false,
          "value": {}
         },
         "image": {
          "id": "7275199986328626622",
          "sync": true,
          "value": ""
         },
         "relayout": {
          "id": "17922426709799372562",
          "sync": false,
          "value": {}
         },
         "selected": {
          "id": "16932228727311744183",
          "sync": false,
          "value": {}
         }
        },
        "systemjs_options": null
       },
       "nodeType": "Scope",
       "props": {},
       "type": "node"
      },
      "image/png": "[encoded data removed]",
      "text/html": [
       "<div\n",
       "    class=\"webio-mountpoint\"\n",
       "    data-webio-mountpoint=\"10859144792296279192\"\n",
       ">\n",
       "    <script>\n",
       "    (function(){\n",
       "    // Some integrations (namely, IJulia/Jupyter) use an alternate render pathway than\n",
       "    // just putting the html on the page. If WebIO isn't defined, then it's pretty likely\n",
       "    // that we're in one of those situations and the integration just isn't installed\n",
       "    // correctly.\n",
       "    if (typeof window.WebIO === \"undefined\") {\n",
       "        document\n",
       "            .querySelector('[data-webio-mountpoint=\"10859144792296279192\"]')\n",
       "            .innerHTML = (\n",
       "                '<div style=\"padding: 1em; background-color: #f8d6da; border: 1px solid #f5c6cb; font-weight: bold;\">' +\n",
       "                '<p><strong>WebIO not detected.</strong></p>' +\n",
       "                '<p>Please read ' +\n",
       "                '<a href=\"https://juliagizmos.github.io/WebIO.jl/latest/troubleshooting/not-detected/\" target=\"_blank\">the troubleshooting guide</a> ' +\n",
       "                'for more information on how to resolve this issue.</p>' +\n",
       "                '<p><a href=\"https://juliagizmos.github.io/WebIO.jl/latest/troubleshooting/not-detected/\" target=\"_blank\">https://juliagizmos.github.io/WebIO.jl/latest/troubleshooting/not-detected/</a></p>' +\n",
       "                '</div>'\n",
       "            );\n",
       "        return;\n",
       "    }\n",
       "    WebIO.mount(\n",
       "        document.querySelector('[data-webio-mountpoint=\"10859144792296279192\"]'),\n",
       "        {\"props\":{},\"nodeType\":\"Scope\",\"type\":\"node\",\"instanceArgs\":{\"imports\":{\"data\":[{\"name\":\"Plotly\",\"type\":\"js\",\"url\":\"\\/assetserver\\/c843c6635296ea5f415808032e6c1f322a3239cd-plotly.min.js\"},{\"name\":null,\"type\":\"js\",\"url\":\"\\/assetserver\\/44e1943a6c8ed4b38e47f64f07dc32566142c8ee-plotly_webio.bundle.js\"}],\"type\":\"async_block\"},\"id\":\"2994541285950476218\",\"handlers\":{\"_toImage\":[\"(function (options){return this.Plotly.toImage(this.plotElem,options).then((function (data){return WebIO.setval({\\\"name\\\":\\\"image\\\",\\\"scope\\\":\\\"2994541285950476218\\\",\\\"id\\\":\\\"7275199986328626622\\\",\\\"type\\\":\\\"observable\\\"},data)}))})\"],\"__get_gd_contents\":[\"(function (prop){prop==\\\"data\\\" ? (WebIO.setval({\\\"name\\\":\\\"__gd_contents\\\",\\\"scope\\\":\\\"2994541285950476218\\\",\\\"id\\\":\\\"545467348304381604\\\",\\\"type\\\":\\\"observable\\\"},this.plotElem.data)) : undefined; return prop==\\\"layout\\\" ? (WebIO.setval({\\\"name\\\":\\\"__gd_contents\\\",\\\"scope\\\":\\\"2994541285950476218\\\",\\\"id\\\":\\\"545467348304381604\\\",\\\"type\\\":\\\"observable\\\"},this.plotElem.layout)) : undefined})\"],\"_downloadImage\":[\"(function (options){return this.Plotly.downloadImage(this.plotElem,options)})\"],\"_commands\":[\"(function (args){var fn=args.shift(); var elem=this.plotElem; var Plotly=this.Plotly; args.unshift(elem); return Plotly[fn].apply(this,args)})\"]},\"systemjs_options\":null,\"mount_callbacks\":[\"function () {\\n    var handler = ((function (Plotly,PlotlyWebIO){PlotlyWebIO.init(WebIO); var gd=this.dom.querySelector(\\\"#plot-2408d4c3-b6de-47ab-bb21-b9d8ec75612d\\\"); this.plotElem=gd; this.Plotly=Plotly; (window.Blink!==undefined) ? (gd.style.width=\\\"100%\\\", gd.style.height=\\\"100vh\\\", gd.style.marginLeft=\\\"0%\\\", gd.style.marginTop=\\\"0vh\\\") : undefined; window.onresize=(function (){return Plotly.Plots.resize(gd)}); Plotly.newPlot(gd,[{\\\"xaxis\\\":\\\"x1\\\",\\\"y\\\":[0.0,-0.19,-0.36,-0.51,-0.64,-0.75,-0.84,-0.9099999999999999,-0.96,-0.99,-1.0],\\\"type\\\":\\\"scatter\\\",\\\"name\\\":\\\"Φ1\\\",\\\"yaxis\\\":\\\"y1\\\",\\\"x\\\":[0.0,0.1,0.2,0.3,0.4,0.5,0.6,0.7,0.8,0.9,1.0]},{\\\"xaxis\\\":\\\"x1\\\",\\\"y\\\":[0.0,0.08100000000000002,0.12800000000000003,0.14699999999999996,0.144,0.125,0.09600000000000002,0.06300000000000001,0.03199999999999999,0.008999999999999996,0.0],\\\"type\\\":\\\"scatter\\\",\\\"name\\\":\\\"Φ2\\\",\\\"yaxis\\\":\\\"y1\\\",\\\"x\\\":[0.0,0.1,0.2,0.3,0.4,0.5,0.6,0.7,0.8,0.9,1.0]},{\\\"xaxis\\\":\\\"x2\\\",\\\"y\\\":[-2.0,-1.8,-1.6,-1.4,-1.2,-1.0,-0.8,-0.6000000000000001,-0.3999999999999999,-0.19999999999999996,0.0],\\\"type\\\":\\\"scatter\\\",\\\"name\\\":\\\"Φ'1\\\",\\\"yaxis\\\":\\\"y2\\\",\\\"x\\\":[0.0,0.1,0.2,0.3,0.4,0.5,0.6,0.7,0.8,0.9,1.0]},{\\\"xaxis\\\":\\\"x2\\\",\\\"y\\\":[1.0,0.63,0.31999999999999995,0.07000000000000006,-0.1200000000000001,-0.25,-0.31999999999999984,-0.33000000000000007,-0.2799999999999998,-0.16999999999999993,0.0],\\\"type\\\":\\\"scatter\\\",\\\"name\\\":\\\"Φ'2\\\",\\\"yaxis\\\":\\\"y2\\\",\\\"x\\\":[0.0,0.1,0.2,0.3,0.4,0.5,0.6,0.7,0.8,0.9,1.0]}],{\\\"xaxis1\\\":{\\\"title\\\":\\\"x\\\",\\\"domain\\\":[0.0,0.45],\\\"anchor\\\":\\\"y1\\\"},\\\"yaxis1\\\":{\\\"title\\\":\\\"Φ\\\",\\\"domain\\\":[0.0,1.0],\\\"anchor\\\":\\\"x1\\\"},\\\"xaxis2\\\":{\\\"title\\\":\\\"x\\\",\\\"domain\\\":[0.55,1.0],\\\"anchor\\\":\\\"y2\\\"},\\\"annotations\\\":[{\\\"yanchor\\\":\\\"bottom\\\",\\\"xanchor\\\":\\\"center\\\",\\\"y\\\":1.0,\\\"font\\\":{\\\"size\\\":16},\\\"showarrow\\\":false,\\\"yref\\\":\\\"paper\\\",\\\"text\\\":\\\"Functions (Φ)\\\",\\\"xref\\\":\\\"paper\\\",\\\"x\\\":0.225},{\\\"yanchor\\\":\\\"bottom\\\",\\\"xanchor\\\":\\\"center\\\",\\\"y\\\":1.0,\\\"font\\\":{\\\"size\\\":16},\\\"showarrow\\\":false,\\\"yref\\\":\\\"paper\\\",\\\"text\\\":\\\"Derivative Functions (Φ')\\\",\\\"xref\\\":\\\"paper\\\",\\\"x\\\":0.775}],\\\"margin\\\":{\\\"l\\\":50,\\\"b\\\":50,\\\"r\\\":50,\\\"t\\\":60},\\\"yaxis2\\\":{\\\"title\\\":\\\"Φ'\\\",\\\"domain\\\":[0.0,1.0],\\\"anchor\\\":\\\"x2\\\"}},{\\\"showLink\\\":false}); gd.on(\\\"plotly_hover\\\",(function (data){var filtered_data=WebIO.PlotlyCommands.filterEventData(gd,data,\\\"hover\\\"); return !(filtered_data.isnil) ? (WebIO.setval({\\\"name\\\":\\\"hover\\\",\\\"scope\\\":\\\"2994541285950476218\\\",\\\"id\\\":\\\"4091249801716045517\\\",\\\"type\\\":\\\"observable\\\"},filtered_data.out)) : undefined})); gd.on(\\\"plotly_unhover\\\",(function (){return WebIO.setval({\\\"name\\\":\\\"hover\\\",\\\"scope\\\":\\\"2994541285950476218\\\",\\\"id\\\":\\\"4091249801716045517\\\",\\\"type\\\":\\\"observable\\\"},{})})); gd.on(\\\"plotly_selected\\\",(function (data){var filtered_data=WebIO.PlotlyCommands.filterEventData(gd,data,\\\"selected\\\"); return !(filtered_data.isnil) ? (WebIO.setval({\\\"name\\\":\\\"selected\\\",\\\"scope\\\":\\\"2994541285950476218\\\",\\\"id\\\":\\\"16932228727311744183\\\",\\\"type\\\":\\\"observable\\\"},filtered_data.out)) : undefined})); gd.on(\\\"plotly_deselect\\\",(function (){return WebIO.setval({\\\"name\\\":\\\"selected\\\",\\\"scope\\\":\\\"2994541285950476218\\\",\\\"id\\\":\\\"16932228727311744183\\\",\\\"type\\\":\\\"observable\\\"},{})})); gd.on(\\\"plotly_relayout\\\",(function (data){var filtered_data=WebIO.PlotlyCommands.filterEventData(gd,data,\\\"relayout\\\"); return !(filtered_data.isnil) ? (WebIO.setval({\\\"name\\\":\\\"relayout\\\",\\\"scope\\\":\\\"2994541285950476218\\\",\\\"id\\\":\\\"17922426709799372562\\\",\\\"type\\\":\\\"observable\\\"},filtered_data.out)) : undefined})); return gd.on(\\\"plotly_click\\\",(function (data){var filtered_data=WebIO.PlotlyCommands.filterEventData(gd,data,\\\"click\\\"); return !(filtered_data.isnil) ? (WebIO.setval({\\\"name\\\":\\\"click\\\",\\\"scope\\\":\\\"2994541285950476218\\\",\\\"id\\\":\\\"6734249482210754030\\\",\\\"type\\\":\\\"observable\\\"},filtered_data.out)) : undefined}))}));\\n    (WebIO.importBlock({\\\"data\\\":[{\\\"name\\\":\\\"Plotly\\\",\\\"type\\\":\\\"js\\\",\\\"url\\\":\\\"\\/assetserver\\/c843c6635296ea5f415808032e6c1f322a3239cd-plotly.min.js\\\"},{\\\"name\\\":null,\\\"type\\\":\\\"js\\\",\\\"url\\\":\\\"\\/assetserver\\/44e1943a6c8ed4b38e47f64f07dc32566142c8ee-plotly_webio.bundle.js\\\"}],\\\"type\\\":\\\"async_block\\\"})).then((imports) => handler.apply(this, imports));\\n}\\n\"],\"observables\":{\"_toImage\":{\"sync\":false,\"id\":\"1767002283178537142\",\"value\":{}},\"hover\":{\"sync\":false,\"id\":\"4091249801716045517\",\"value\":{}},\"selected\":{\"sync\":false,\"id\":\"16932228727311744183\",\"value\":{}},\"__gd_contents\":{\"sync\":false,\"id\":\"545467348304381604\",\"value\":{}},\"click\":{\"sync\":false,\"id\":\"6734249482210754030\",\"value\":{}},\"image\":{\"sync\":true,\"id\":\"7275199986328626622\",\"value\":\"\"},\"__get_gd_contents\":{\"sync\":false,\"id\":\"13187473880083892469\",\"value\":\"\"},\"_downloadImage\":{\"sync\":false,\"id\":\"2012198908204641298\",\"value\":{}},\"relayout\":{\"sync\":false,\"id\":\"17922426709799372562\",\"value\":{}},\"_commands\":{\"sync\":false,\"id\":\"9942685608249198730\",\"value\":[]}}},\"children\":[{\"props\":{\"id\":\"plot-2408d4c3-b6de-47ab-bb21-b9d8ec75612d\"},\"nodeType\":\"DOM\",\"type\":\"node\",\"instanceArgs\":{\"namespace\":\"html\",\"tag\":\"div\"},\"children\":[]}]},\n",
       "        window,\n",
       "    );\n",
       "    })()\n",
       "    </script>\n",
       "</div>\n"
      ],
      "text/plain": [
       "data: [\n",
       "  \"scatter with fields name, type, x, xaxis, y, and yaxis\",\n",
       "  \"scatter with fields name, type, x, xaxis, y, and yaxis\",\n",
       "  \"scatter with fields name, type, x, xaxis, y, and yaxis\",\n",
       "  \"scatter with fields name, type, x, xaxis, y, and yaxis\"\n",
       "]\n",
       "\n",
       "layout: \"layout with fields annotations, margin, xaxis1, xaxis2, yaxis1, and yaxis2\"\n",
       "\n"
      ]
     },
     "execution_count": 58,
     "metadata": {},
     "output_type": "execute_result"
    }
   ],
   "source": [
    "x=0:0.1:1\n",
    "\n",
    "pfunc = plot([scatter(x=x,y=phi1.(x), name=\"Φ1\"), scatter(x=x,y=phi2.(x), name=\"Φ2\")],\n",
    "            Layout(title=\"Functions (Φ)\",  xaxis_title=\"x\",  yaxis_title=\"Φ\"))\n",
    "\n",
    "pfuncp = plot([scatter(x=x,y=phi1p.(x), name=\"Φ'1\"), scatter(x=x,y=phi2p.(x), name=\"Φ'2\")],\n",
    "            Layout(title=\"Derivative Functions (Φ')\",  xaxis_title=\"x\",  yaxis_title=\"Φ'\"))\n",
    "\n",
    "[pfunc pfuncp]"
   ]
  },
  {
   "cell_type": "markdown",
   "id": "cba4122d-7950-46e2-a6b3-a298fa5c962f",
   "metadata": {},
   "source": [
    "Finally, let's plot the exact function, approximate function, and error. To calculate the error first is necesary find $u''_h$  \n",
    "\n",
    "$$ u_h''(x) = u_1 \\phi_1''(x) + u_2 \\phi_2''(x) = u_1 (2) + u_2 (6x-4) $$\n",
    "\n",
    "Then, the error is \n",
    "\n",
    "$$ \\epsilon(x) = u_h''(x) + u_h(x) -1 = u_1 (2 + x(x-2)^2 ) + u_2 (6x-4+x(x-1)^2) -1$$"
   ]
  },
  {
   "cell_type": "code",
   "execution_count": 59,
   "id": "ce758905",
   "metadata": {},
   "outputs": [
    {
     "data": {
      "application/vnd.plotly.v1+json": {
       "data": [
        {
         "legendrank": 1,
         "marker": {
          "color": "LightBlue"
         },
         "mode": "lines",
         "name": "U exact",
         "type": "scatter",
         "x": [
          0,
          0.1,
          0.2,
          0.3,
          0.4,
          0.5,
          0.6,
          0.7,
          0.8,
          0.9,
          1
         ],
         "xaxis": "x",
         "y": [
          0,
          -0.15048549954248736,
          -0.2894757282734901,
          -0.41558194177158936,
          -0.5275441284366844,
          -0.6242435991093955,
          -0.7047141646433566,
          -0.7681517897477845,
          -0.8139226266423263,
          -0.8415693482545596,
          -0.8508157176809257
         ],
         "yaxis": "y"
        },
        {
         "marker": {
          "color": "DarkBlue",
          "size": 8
         },
         "mode": "markers",
         "name": "u_h",
         "type": "scatter",
         "x": [
          0,
          0.1,
          0.2,
          0.3,
          0.4,
          0.5,
          0.6,
          0.7,
          0.8,
          0.9,
          1
         ],
         "xaxis": "x",
         "y": [
          0,
          -0.1514026939154668,
          -0.29018114259173244,
          -0.41555503947979566,
          -0.5267440780306549,
          -0.6229679516953088,
          -0.7034463539247561,
          -0.7673989781699952,
          -0.814045517882025,
          -0.842605666511844,
          -0.8522991175104505
         ],
         "yaxis": "y"
        },
        {
         "marker": {
          "color": "red",
          "size": 8
         },
         "mode": "markers",
         "name": "u'_h",
         "type": "scatter",
         "x": [
          0,
          0.1,
          0.2,
          0.3,
          0.4,
          0.5,
          0.6,
          0.7,
          0.8,
          0.9,
          1
         ],
         "xaxis": "x2",
         "y": [
          -1.5745471435206688,
          -1.4522062238736646,
          -1.3220622387366465,
          -1.1841151881096144,
          -1.0383650719925686,
          -0.8848118903855086,
          -0.7234556432884347,
          -0.5542963307013471,
          -0.3773339526242452,
          -0.19256850905712955,
          0
         ],
         "yaxis": "y2"
        },
        {
         "marker": {
          "color": "green",
          "size": 8
         },
         "mode": "markers",
         "name": "u''_h",
         "type": "scatter",
         "x": [
          0,
          0.1,
          0.2,
          0.3,
          0.4,
          0.5,
          0.6,
          0.7,
          0.8,
          0.9,
          1
         ],
         "xaxis": "x2",
         "y": [
          1.184393869019972,
          1.2624245239201113,
          1.3404551788202506,
          1.41848583372039,
          1.4965164886205293,
          1.5745471435206688,
          1.652577798420808,
          1.7306084533209474,
          1.8086391082210869,
          1.8866697631212261,
          1.9647004180213656
         ],
         "yaxis": "y2"
        },
        {
         "legendrank": 2,
         "marker": {
          "color": "DarkRed",
          "size": 8
         },
         "mode": "lines",
         "name": "u' exact",
         "type": "scatter",
         "x": [
          0,
          0.1,
          0.2,
          0.3,
          0.4,
          0.5,
          0.6,
          0.7,
          0.8,
          0.9,
          1
         ],
         "xaxis": "x2",
         "y": [
          -1.5574077246549023,
          -1.4497937564209724,
          -1.3276939282109836,
          -1.1923282211475732,
          -1.0450491646297653,
          -0.8873283223063024,
          -0.7207415886981013,
          -0.546953443381123,
          -0.3677003200566503,
          -0.18477325667973798,
          -1.1102230246251565e-16
         ],
         "yaxis": "y2"
        },
        {
         "legendrank": 3,
         "marker": {
          "color": "DarkGreen",
          "size": 8
         },
         "mode": "lines",
         "name": "u'' exact",
         "type": "scatter",
         "x": [
          0,
          0.1,
          0.2,
          0.3,
          0.4,
          0.5,
          0.6,
          0.7,
          0.8,
          0.9,
          1
         ],
         "xaxis": "x2",
         "y": [
          1,
          1.1504854995424874,
          1.28947572827349,
          1.4155819417715894,
          1.5275441284366844,
          1.6242435991093955,
          1.7047141646433566,
          1.7681517897477845,
          1.8139226266423263,
          1.8415693482545596,
          1.8508157176809257
         ],
         "yaxis": "y2"
        },
        {
         "mode": "markers+lines",
         "name": "Ɛ error",
         "type": "scatter",
         "x": [
          0,
          0.1,
          0.2,
          0.3,
          0.4,
          0.5,
          0.6,
          0.7,
          0.8,
          0.9,
          1
         ],
         "xaxis": "x3",
         "y": [
          0.184393869019972,
          0.1110218300046446,
          0.050274036228518115,
          0.002930794240594281,
          -0.0302275894101256,
          -0.048420808174640007,
          -0.050868555503947976,
          -0.03679052484904788,
          -0.005406409660938083,
          0.04406409660938215,
          0.11240130051091501
         ],
         "yaxis": "y3"
        },
        {
         "marker": {
          "color": "DarkSlateBlue"
         },
         "mode": "markers+lines",
         "name": "Ɛrel uh",
         "type": "scatter",
         "x": [
          0,
          0.1,
          0.2,
          0.3,
          0.4,
          0.5,
          0.6,
          0.7,
          0.8,
          0.9,
          1
         ],
         "xaxis": "x4",
         "y": [
          null,
          0.0060949020056279835,
          0.002436868619174445,
          6.473402496512125e-05,
          0.0015165563654368414,
          0.002043509001784974,
          0.0017990424802119729,
          0.0009800297126645497,
          0.0001509863906912463,
          0.0012314115995713205,
          0.0017435030861537764
         ],
         "yaxis": "y4"
        },
        {
         "marker": {
          "color": "IndianRed"
         },
         "mode": "markers+lines",
         "name": "Ɛrel u'h",
         "type": "scatter",
         "x": [
          0,
          0.1,
          0.2,
          0.3,
          0.4,
          0.5,
          0.6,
          0.7,
          0.8,
          0.9,
          1
         ],
         "xaxis": "x4",
         "y": [
          1.100509429511425,
          0.16640073403597205,
          0.4241707636582781,
          0.688823169014157,
          0.6395959982959004,
          0.283596483684109,
          0.37656417124976,
          1.3425068274243488,
          2.6199685020972083,
          4.218820687293966,
          0
         ],
         "yaxis": "y4"
        },
        {
         "marker": {
          "color": "SeaGreen"
         },
         "mode": "markers+lines",
         "name": "Ɛrel u''h",
         "type": "scatter",
         "x": [
          0,
          0.1,
          0.2,
          0.3,
          0.4,
          0.5,
          0.6,
          0.7,
          0.8,
          0.9,
          1
         ],
         "xaxis": "x4",
         "y": [
          18.439386901997203,
          9.729720576412188,
          3.9535021426900414,
          0.2051376796433627,
          2.0312107021032064,
          3.0596676271943597,
          3.05836411193638,
          2.123309584874072,
          0.2912758429514445,
          2.4490207175424965,
          6.153216619704183
         ],
         "yaxis": "y4"
        }
       ],
       "frames": [],
       "layout": {
        "annotations": [
         {
          "font": {
           "size": 16
          },
          "showarrow": false,
          "text": "Functions",
          "x": 0.225,
          "xanchor": "center",
          "xref": "paper",
          "y": 1,
          "yanchor": "bottom",
          "yref": "paper"
         },
         {
          "font": {
           "size": 16
          },
          "showarrow": false,
          "text": "Error Ɛ(x)",
          "x": 0.225,
          "xanchor": "center",
          "xref": "paper",
          "y": 0.36250000000000004,
          "yanchor": "bottom",
          "yref": "paper"
         },
         {
          "font": {
           "size": 16
          },
          "showarrow": false,
          "text": "Derivatives",
          "x": 0.775,
          "xanchor": "center",
          "xref": "paper",
          "y": 1,
          "yanchor": "bottom",
          "yref": "paper"
         },
         {
          "font": {
           "size": 16
          },
          "showarrow": false,
          "text": "Relative Error ",
          "x": 0.775,
          "xanchor": "center",
          "xref": "paper",
          "y": 0.36250000000000004,
          "yanchor": "bottom",
          "yref": "paper"
         }
        ],
        "height": 500,
        "legend": {
         "title": {
          "text": "Functions and Errors"
         }
        },
        "margin": {
         "b": 50,
         "l": 50,
         "r": 50,
         "t": 60
        },
        "width": 1150,
        "xaxis": {
         "anchor": "y",
         "autorange": true,
         "domain": [
          0,
          0.45
         ],
         "range": [
          -0.07087699944842803,
          1.070876999448428
         ],
         "title": {
          "text": "x"
         },
         "type": "linear"
        },
        "xaxis2": {
         "anchor": "y2",
         "autorange": true,
         "domain": [
          0.55,
          1
         ],
         "range": [
          -0.07087699944842803,
          1.070876999448428
         ],
         "title": {
          "text": "x"
         },
         "type": "linear"
        },
        "xaxis3": {
         "anchor": "y3",
         "autorange": true,
         "domain": [
          0,
          0.45
         ],
         "range": [
          -0.06696795398520954,
          1.0669679539852095
         ],
         "title": {
          "text": "x"
         },
         "type": "linear"
        },
        "xaxis4": {
         "anchor": "y4",
         "autorange": true,
         "domain": [
          0.55,
          1
         ],
         "range": [
          -0.06696795398520954,
          1.0669679539852095
         ],
         "title": {
          "text": "x"
         },
         "type": "linear"
        },
        "yaxis": {
         "anchor": "x",
         "autorange": true,
         "domain": [
          0.6375,
          1
         ],
         "range": [
          -0.9400371277414282,
          0.0877380102309777
         ],
         "title": {
          "text": "u"
         },
         "type": "linear"
        },
        "yaxis2": {
         "anchor": "x2",
         "autorange": true,
         "domain": [
          0.6375,
          1
         ],
         "range": [
          -1.9388870007196062,
          2.329040275220303
         ],
         "title": {
          "text": ""
         },
         "type": "linear"
        },
        "yaxis3": {
         "anchor": "x3",
         "autorange": true,
         "domain": [
          5.551115123125783e-17,
          0.36250000000000004
         ],
         "range": [
          -0.07212543288420195,
          0.205650746400226
         ],
         "title": {
          "text": "Ɛ"
         },
         "type": "linear"
        },
        "yaxis4": {
         "anchor": "x4",
         "autorange": true,
         "domain": [
          5.551115123125783e-17,
          0.36250000000000004
         ],
         "range": [
          -1.666070504612024,
          20.105457406609226
         ],
         "title": {
          "text": "Ɛrel %"
         },
         "type": "linear"
        }
       }
      },
      "application/vnd.webio.node+json": {
       "children": [
        {
         "children": [],
         "instanceArgs": {
          "namespace": "html",
          "tag": "div"
         },
         "nodeType": "DOM",
         "props": {
          "id": "plot-9d4c87e6-d60d-4acb-8e14-c8bbdd87d571"
         },
         "type": "node"
        }
       ],
       "instanceArgs": {
        "handlers": {
         "__get_gd_contents": [
          "(function (prop){prop==\"data\" ? (WebIO.setval({\"name\":\"__gd_contents\",\"scope\":\"6194990493029841711\",\"id\":\"1161945595454243514\",\"type\":\"observable\"},this.plotElem.data)) : undefined; return prop==\"layout\" ? (WebIO.setval({\"name\":\"__gd_contents\",\"scope\":\"6194990493029841711\",\"id\":\"1161945595454243514\",\"type\":\"observable\"},this.plotElem.layout)) : undefined})"
         ],
         "_commands": [
          "(function (args){var fn=args.shift(); var elem=this.plotElem; var Plotly=this.Plotly; args.unshift(elem); return Plotly[fn].apply(this,args)})"
         ],
         "_downloadImage": [
          "(function (options){return this.Plotly.downloadImage(this.plotElem,options)})"
         ],
         "_toImage": [
          "(function (options){return this.Plotly.toImage(this.plotElem,options).then((function (data){return WebIO.setval({\"name\":\"image\",\"scope\":\"6194990493029841711\",\"id\":\"3587985479631980169\",\"type\":\"observable\"},data)}))})"
         ]
        },
        "id": "6194990493029841711",
        "imports": {
         "data": [
          {
           "name": "Plotly",
           "type": "js",
           "url": "/assetserver/c843c6635296ea5f415808032e6c1f322a3239cd-plotly.min.js"
          },
          {
           "name": null,
           "type": "js",
           "url": "/assetserver/44e1943a6c8ed4b38e47f64f07dc32566142c8ee-plotly_webio.bundle.js"
          }
         ],
         "type": "async_block"
        },
        "mount_callbacks": [
         "function () {\n    var handler = ((function (Plotly,PlotlyWebIO){PlotlyWebIO.init(WebIO); var gd=this.dom.querySelector(\"#plot-9d4c87e6-d60d-4acb-8e14-c8bbdd87d571\"); this.plotElem=gd; this.Plotly=Plotly; (window.Blink!==undefined) ? (gd.style.width=\"100%\", gd.style.height=\"100vh\", gd.style.marginLeft=\"0%\", gd.style.marginTop=\"0vh\") : undefined; window.onresize=(function (){return Plotly.Plots.resize(gd)}); Plotly.newPlot(gd,[{\"legendrank\":1,\"mode\":\"lines\",\"x\":[0.0,0.1,0.2,0.3,0.4,0.5,0.6,0.7,0.8,0.9,1.0],\"xaxis\":\"x1\",\"y\":[0.0,-0.15048549954248736,-0.2894757282734901,-0.41558194177158936,-0.5275441284366844,-0.6242435991093955,-0.7047141646433566,-0.7681517897477845,-0.8139226266423263,-0.8415693482545596,-0.8508157176809257],\"type\":\"scatter\",\"name\":\"U exact\",\"yaxis\":\"y1\",\"marker\":{\"color\":\"LightBlue\"}},{\"x\":[0.0,0.1,0.2,0.3,0.4,0.5,0.6,0.7,0.8,0.9,1.0],\"mode\":\"markers\",\"xaxis\":\"x1\",\"y\":[0.0,-0.1514026939154668,-0.29018114259173244,-0.41555503947979566,-0.5267440780306549,-0.6229679516953088,-0.7034463539247561,-0.7673989781699952,-0.814045517882025,-0.842605666511844,-0.8522991175104505],\"type\":\"scatter\",\"name\":\"u_h\",\"yaxis\":\"y1\",\"marker\":{\"color\":\"DarkBlue\",\"size\":8}},{\"x\":[0.0,0.1,0.2,0.3,0.4,0.5,0.6,0.7,0.8,0.9,1.0],\"mode\":\"markers\",\"xaxis\":\"x2\",\"y\":[-1.5745471435206688,-1.4522062238736646,-1.3220622387366465,-1.1841151881096144,-1.0383650719925686,-0.8848118903855086,-0.7234556432884347,-0.5542963307013471,-0.3773339526242452,-0.19256850905712955,0.0],\"type\":\"scatter\",\"name\":\"u'_h\",\"yaxis\":\"y2\",\"marker\":{\"color\":\"red\",\"size\":8}},{\"x\":[0.0,0.1,0.2,0.3,0.4,0.5,0.6,0.7,0.8,0.9,1.0],\"mode\":\"markers\",\"xaxis\":\"x2\",\"y\":[1.184393869019972,1.2624245239201113,1.3404551788202506,1.41848583372039,1.4965164886205293,1.5745471435206688,1.652577798420808,1.7306084533209474,1.8086391082210869,1.8866697631212261,1.9647004180213656],\"type\":\"scatter\",\"name\":\"u''_h\",\"yaxis\":\"y2\",\"marker\":{\"color\":\"green\",\"size\":8}},{\"legendrank\":2,\"mode\":\"lines\",\"x\":[0.0,0.1,0.2,0.3,0.4,0.5,0.6,0.7,0.8,0.9,1.0],\"xaxis\":\"x2\",\"y\":[-1.5574077246549023,-1.4497937564209724,-1.3276939282109836,-1.1923282211475732,-1.0450491646297653,-0.8873283223063024,-0.7207415886981013,-0.546953443381123,-0.3677003200566503,-0.18477325667973798,-1.1102230246251565e-16],\"type\":\"scatter\",\"name\":\"u' exact\",\"yaxis\":\"y2\",\"marker\":{\"color\":\"DarkRed\",\"size\":8}},{\"legendrank\":3,\"mode\":\"lines\",\"x\":[0.0,0.1,0.2,0.3,0.4,0.5,0.6,0.7,0.8,0.9,1.0],\"xaxis\":\"x2\",\"y\":[1.0,1.1504854995424874,1.28947572827349,1.4155819417715894,1.5275441284366844,1.6242435991093955,1.7047141646433566,1.7681517897477845,1.8139226266423263,1.8415693482545596,1.8508157176809257],\"type\":\"scatter\",\"name\":\"u'' exact\",\"yaxis\":\"y2\",\"marker\":{\"color\":\"DarkGreen\",\"size\":8}},{\"mode\":\"markers+lines\",\"xaxis\":\"x3\",\"y\":[0.184393869019972,0.1110218300046446,0.050274036228518115,0.002930794240594281,-0.0302275894101256,-0.048420808174640007,-0.050868555503947976,-0.03679052484904788,-0.005406409660938083,0.04406409660938215,0.11240130051091501],\"type\":\"scatter\",\"name\":\"Ɛ error\",\"yaxis\":\"y3\",\"x\":[0.0,0.1,0.2,0.3,0.4,0.5,0.6,0.7,0.8,0.9,1.0]},{\"x\":[0.0,0.1,0.2,0.3,0.4,0.5,0.6,0.7,0.8,0.9,1.0],\"mode\":\"markers+lines\",\"xaxis\":\"x4\",\"y\":[null,0.0060949020056279835,0.002436868619174445,6.473402496512125e-5,0.0015165563654368414,0.002043509001784974,0.0017990424802119729,0.0009800297126645497,0.0001509863906912463,0.0012314115995713205,0.0017435030861537764],\"type\":\"scatter\",\"name\":\"Ɛrel uh\",\"yaxis\":\"y4\",\"marker\":{\"color\":\"DarkSlateBlue\"}},{\"x\":[0.0,0.1,0.2,0.3,0.4,0.5,0.6,0.7,0.8,0.9,1.0],\"mode\":\"markers+lines\",\"xaxis\":\"x4\",\"y\":[1.100509429511425,0.16640073403597205,0.4241707636582781,0.688823169014157,0.6395959982959004,0.283596483684109,0.37656417124976,1.3425068274243488,2.6199685020972083,4.218820687293966,0.0],\"type\":\"scatter\",\"name\":\"Ɛrel u'h\",\"yaxis\":\"y4\",\"marker\":{\"color\":\"IndianRed\"}},{\"x\":[0.0,0.1,0.2,0.3,0.4,0.5,0.6,0.7,0.8,0.9,1.0],\"mode\":\"markers+lines\",\"xaxis\":\"x4\",\"y\":[18.439386901997203,9.729720576412188,3.9535021426900414,0.2051376796433627,2.0312107021032064,3.0596676271943597,3.05836411193638,2.123309584874072,0.2912758429514445,2.4490207175424965,6.153216619704183],\"type\":\"scatter\",\"name\":\"Ɛrel u''h\",\"yaxis\":\"y4\",\"marker\":{\"color\":\"SeaGreen\"}}],{\"xaxis1\":{\"title\":\"x\",\"domain\":[0.0,0.45],\"anchor\":\"y1\"},\"yaxis1\":{\"title\":\"u\",\"domain\":[0.6375,1.0],\"anchor\":\"x1\"},\"yaxis3\":{\"title\":\"Ɛ\",\"domain\":[5.551115123125783e-17,0.36250000000000004],\"anchor\":\"x3\"},\"xaxis2\":{\"title\":\"x\",\"domain\":[0.55,1.0],\"anchor\":\"y2\"},\"margin\":{\"l\":50,\"b\":50,\"r\":50,\"t\":60},\"xaxis3\":{\"title\":\"x\",\"domain\":[0.0,0.45],\"anchor\":\"y3\"},\"yaxis2\":{\"title\":\"\",\"domain\":[0.6375,1.0],\"anchor\":\"x2\"},\"xaxis4\":{\"title\":\"x\",\"domain\":[0.55,1.0],\"anchor\":\"y4\"},\"yaxis4\":{\"title\":\"Ɛrel %\",\"domain\":[5.551115123125783e-17,0.36250000000000004],\"anchor\":\"x4\"},\"annotations\":[{\"yanchor\":\"bottom\",\"xanchor\":\"center\",\"y\":1.0,\"font\":{\"size\":16},\"showarrow\":false,\"yref\":\"paper\",\"text\":\"Functions\",\"xref\":\"paper\",\"x\":0.225},{\"yanchor\":\"bottom\",\"xanchor\":\"center\",\"y\":0.36250000000000004,\"font\":{\"size\":16},\"showarrow\":false,\"yref\":\"paper\",\"text\":\"Error Ɛ(x)\",\"xref\":\"paper\",\"x\":0.225},{\"yanchor\":\"bottom\",\"xanchor\":\"center\",\"y\":1.0,\"font\":{\"size\":16},\"showarrow\":false,\"yref\":\"paper\",\"text\":\"Derivatives\",\"xref\":\"paper\",\"x\":0.775},{\"yanchor\":\"bottom\",\"xanchor\":\"center\",\"y\":0.36250000000000004,\"font\":{\"size\":16},\"showarrow\":false,\"yref\":\"paper\",\"text\":\"Relative Error \",\"xref\":\"paper\",\"x\":0.775}]},{\"showLink\":false}); gd.on(\"plotly_hover\",(function (data){var filtered_data=WebIO.PlotlyCommands.filterEventData(gd,data,\"hover\"); return !(filtered_data.isnil) ? (WebIO.setval({\"name\":\"hover\",\"scope\":\"6194990493029841711\",\"id\":\"2523429933052404115\",\"type\":\"observable\"},filtered_data.out)) : undefined})); gd.on(\"plotly_unhover\",(function (){return WebIO.setval({\"name\":\"hover\",\"scope\":\"6194990493029841711\",\"id\":\"2523429933052404115\",\"type\":\"observable\"},{})})); gd.on(\"plotly_selected\",(function (data){var filtered_data=WebIO.PlotlyCommands.filterEventData(gd,data,\"selected\"); return !(filtered_data.isnil) ? (WebIO.setval({\"name\":\"selected\",\"scope\":\"6194990493029841711\",\"id\":\"15593562505210889083\",\"type\":\"observable\"},filtered_data.out)) : undefined})); gd.on(\"plotly_deselect\",(function (){return WebIO.setval({\"name\":\"selected\",\"scope\":\"6194990493029841711\",\"id\":\"15593562505210889083\",\"type\":\"observable\"},{})})); gd.on(\"plotly_relayout\",(function (data){var filtered_data=WebIO.PlotlyCommands.filterEventData(gd,data,\"relayout\"); return !(filtered_data.isnil) ? (WebIO.setval({\"name\":\"relayout\",\"scope\":\"6194990493029841711\",\"id\":\"14406806596313259379\",\"type\":\"observable\"},filtered_data.out)) : undefined})); return gd.on(\"plotly_click\",(function (data){var filtered_data=WebIO.PlotlyCommands.filterEventData(gd,data,\"click\"); return !(filtered_data.isnil) ? (WebIO.setval({\"name\":\"click\",\"scope\":\"6194990493029841711\",\"id\":\"1278432034210899443\",\"type\":\"observable\"},filtered_data.out)) : undefined}))}));\n    (WebIO.importBlock({\"data\":[{\"name\":\"Plotly\",\"type\":\"js\",\"url\":\"/assetserver/c843c6635296ea5f415808032e6c1f322a3239cd-plotly.min.js\"},{\"name\":null,\"type\":\"js\",\"url\":\"/assetserver/44e1943a6c8ed4b38e47f64f07dc32566142c8ee-plotly_webio.bundle.js\"}],\"type\":\"async_block\"})).then((imports) => handler.apply(this, imports));\n}\n"
        ],
        "observables": {
         "__gd_contents": {
          "id": "1161945595454243514",
          "sync": false,
          "value": {}
         },
         "__get_gd_contents": {
          "id": "10245188480908762051",
          "sync": false,
          "value": ""
         },
         "_commands": {
          "id": "7255245362171003854",
          "sync": false,
          "value": [
           "relayout",
           {
            "height": 500,
            "legend.title.text": "Functions and Errors",
            "width": 1150
           }
          ]
         },
         "_downloadImage": {
          "id": "3647777950622822036",
          "sync": false,
          "value": {}
         },
         "_toImage": {
          "id": "12448743716110650270",
          "sync": false,
          "value": {}
         },
         "click": {
          "id": "1278432034210899443",
          "sync": false,
          "value": {}
         },
         "hover": {
          "id": "2523429933052404115",
          "sync": false,
          "value": {}
         },
         "image": {
          "id": "3587985479631980169",
          "sync": true,
          "value": ""
         },
         "relayout": {
          "id": "14406806596313259379",
          "sync": false,
          "value": {}
         },
         "selected": {
          "id": "15593562505210889083",
          "sync": false,
          "value": {}
         }
        },
        "systemjs_options": null
       },
       "nodeType": "Scope",
       "props": {},
       "type": "node"
      },
      "image/png": "[encoded data removed]",
      "text/html": [
       "<div\n",
       "    class=\"webio-mountpoint\"\n",
       "    data-webio-mountpoint=\"3538211273458712977\"\n",
       ">\n",
       "    <script>\n",
       "    (function(){\n",
       "    // Some integrations (namely, IJulia/Jupyter) use an alternate render pathway than\n",
       "    // just putting the html on the page. If WebIO isn't defined, then it's pretty likely\n",
       "    // that we're in one of those situations and the integration just isn't installed\n",
       "    // correctly.\n",
       "    if (typeof window.WebIO === \"undefined\") {\n",
       "        document\n",
       "            .querySelector('[data-webio-mountpoint=\"3538211273458712977\"]')\n",
       "            .innerHTML = (\n",
       "                '<div style=\"padding: 1em; background-color: #f8d6da; border: 1px solid #f5c6cb; font-weight: bold;\">' +\n",
       "                '<p><strong>WebIO not detected.</strong></p>' +\n",
       "                '<p>Please read ' +\n",
       "                '<a href=\"https://juliagizmos.github.io/WebIO.jl/latest/troubleshooting/not-detected/\" target=\"_blank\">the troubleshooting guide</a> ' +\n",
       "                'for more information on how to resolve this issue.</p>' +\n",
       "                '<p><a href=\"https://juliagizmos.github.io/WebIO.jl/latest/troubleshooting/not-detected/\" target=\"_blank\">https://juliagizmos.github.io/WebIO.jl/latest/troubleshooting/not-detected/</a></p>' +\n",
       "                '</div>'\n",
       "            );\n",
       "        return;\n",
       "    }\n",
       "    WebIO.mount(\n",
       "        document.querySelector('[data-webio-mountpoint=\"3538211273458712977\"]'),\n",
       "        {\"props\":{},\"nodeType\":\"Scope\",\"type\":\"node\",\"instanceArgs\":{\"imports\":{\"data\":[{\"name\":\"Plotly\",\"type\":\"js\",\"url\":\"\\/assetserver\\/c843c6635296ea5f415808032e6c1f322a3239cd-plotly.min.js\"},{\"name\":null,\"type\":\"js\",\"url\":\"\\/assetserver\\/44e1943a6c8ed4b38e47f64f07dc32566142c8ee-plotly_webio.bundle.js\"}],\"type\":\"async_block\"},\"id\":\"6194990493029841711\",\"handlers\":{\"_toImage\":[\"(function (options){return this.Plotly.toImage(this.plotElem,options).then((function (data){return WebIO.setval({\\\"name\\\":\\\"image\\\",\\\"scope\\\":\\\"6194990493029841711\\\",\\\"id\\\":\\\"3587985479631980169\\\",\\\"type\\\":\\\"observable\\\"},data)}))})\"],\"__get_gd_contents\":[\"(function (prop){prop==\\\"data\\\" ? (WebIO.setval({\\\"name\\\":\\\"__gd_contents\\\",\\\"scope\\\":\\\"6194990493029841711\\\",\\\"id\\\":\\\"1161945595454243514\\\",\\\"type\\\":\\\"observable\\\"},this.plotElem.data)) : undefined; return prop==\\\"layout\\\" ? (WebIO.setval({\\\"name\\\":\\\"__gd_contents\\\",\\\"scope\\\":\\\"6194990493029841711\\\",\\\"id\\\":\\\"1161945595454243514\\\",\\\"type\\\":\\\"observable\\\"},this.plotElem.layout)) : undefined})\"],\"_downloadImage\":[\"(function (options){return this.Plotly.downloadImage(this.plotElem,options)})\"],\"_commands\":[\"(function (args){var fn=args.shift(); var elem=this.plotElem; var Plotly=this.Plotly; args.unshift(elem); return Plotly[fn].apply(this,args)})\"]},\"systemjs_options\":null,\"mount_callbacks\":[\"function () {\\n    var handler = ((function (Plotly,PlotlyWebIO){PlotlyWebIO.init(WebIO); var gd=this.dom.querySelector(\\\"#plot-9d4c87e6-d60d-4acb-8e14-c8bbdd87d571\\\"); this.plotElem=gd; this.Plotly=Plotly; (window.Blink!==undefined) ? (gd.style.width=\\\"100%\\\", gd.style.height=\\\"100vh\\\", gd.style.marginLeft=\\\"0%\\\", gd.style.marginTop=\\\"0vh\\\") : undefined; window.onresize=(function (){return Plotly.Plots.resize(gd)}); Plotly.newPlot(gd,[{\\\"legendrank\\\":1,\\\"mode\\\":\\\"lines\\\",\\\"x\\\":[0.0,0.1,0.2,0.3,0.4,0.5,0.6,0.7,0.8,0.9,1.0],\\\"xaxis\\\":\\\"x1\\\",\\\"y\\\":[0.0,-0.15048549954248736,-0.2894757282734901,-0.41558194177158936,-0.5275441284366844,-0.6242435991093955,-0.7047141646433566,-0.7681517897477845,-0.8139226266423263,-0.8415693482545596,-0.8508157176809257],\\\"type\\\":\\\"scatter\\\",\\\"name\\\":\\\"U exact\\\",\\\"yaxis\\\":\\\"y1\\\",\\\"marker\\\":{\\\"color\\\":\\\"LightBlue\\\"}},{\\\"x\\\":[0.0,0.1,0.2,0.3,0.4,0.5,0.6,0.7,0.8,0.9,1.0],\\\"mode\\\":\\\"markers\\\",\\\"xaxis\\\":\\\"x1\\\",\\\"y\\\":[0.0,-0.1514026939154668,-0.29018114259173244,-0.41555503947979566,-0.5267440780306549,-0.6229679516953088,-0.7034463539247561,-0.7673989781699952,-0.814045517882025,-0.842605666511844,-0.8522991175104505],\\\"type\\\":\\\"scatter\\\",\\\"name\\\":\\\"u_h\\\",\\\"yaxis\\\":\\\"y1\\\",\\\"marker\\\":{\\\"color\\\":\\\"DarkBlue\\\",\\\"size\\\":8}},{\\\"x\\\":[0.0,0.1,0.2,0.3,0.4,0.5,0.6,0.7,0.8,0.9,1.0],\\\"mode\\\":\\\"markers\\\",\\\"xaxis\\\":\\\"x2\\\",\\\"y\\\":[-1.5745471435206688,-1.4522062238736646,-1.3220622387366465,-1.1841151881096144,-1.0383650719925686,-0.8848118903855086,-0.7234556432884347,-0.5542963307013471,-0.3773339526242452,-0.19256850905712955,0.0],\\\"type\\\":\\\"scatter\\\",\\\"name\\\":\\\"u'_h\\\",\\\"yaxis\\\":\\\"y2\\\",\\\"marker\\\":{\\\"color\\\":\\\"red\\\",\\\"size\\\":8}},{\\\"x\\\":[0.0,0.1,0.2,0.3,0.4,0.5,0.6,0.7,0.8,0.9,1.0],\\\"mode\\\":\\\"markers\\\",\\\"xaxis\\\":\\\"x2\\\",\\\"y\\\":[1.184393869019972,1.2624245239201113,1.3404551788202506,1.41848583372039,1.4965164886205293,1.5745471435206688,1.652577798420808,1.7306084533209474,1.8086391082210869,1.8866697631212261,1.9647004180213656],\\\"type\\\":\\\"scatter\\\",\\\"name\\\":\\\"u''_h\\\",\\\"yaxis\\\":\\\"y2\\\",\\\"marker\\\":{\\\"color\\\":\\\"green\\\",\\\"size\\\":8}},{\\\"legendrank\\\":2,\\\"mode\\\":\\\"lines\\\",\\\"x\\\":[0.0,0.1,0.2,0.3,0.4,0.5,0.6,0.7,0.8,0.9,1.0],\\\"xaxis\\\":\\\"x2\\\",\\\"y\\\":[-1.5574077246549023,-1.4497937564209724,-1.3276939282109836,-1.1923282211475732,-1.0450491646297653,-0.8873283223063024,-0.7207415886981013,-0.546953443381123,-0.3677003200566503,-0.18477325667973798,-1.1102230246251565e-16],\\\"type\\\":\\\"scatter\\\",\\\"name\\\":\\\"u' exact\\\",\\\"yaxis\\\":\\\"y2\\\",\\\"marker\\\":{\\\"color\\\":\\\"DarkRed\\\",\\\"size\\\":8}},{\\\"legendrank\\\":3,\\\"mode\\\":\\\"lines\\\",\\\"x\\\":[0.0,0.1,0.2,0.3,0.4,0.5,0.6,0.7,0.8,0.9,1.0],\\\"xaxis\\\":\\\"x2\\\",\\\"y\\\":[1.0,1.1504854995424874,1.28947572827349,1.4155819417715894,1.5275441284366844,1.6242435991093955,1.7047141646433566,1.7681517897477845,1.8139226266423263,1.8415693482545596,1.8508157176809257],\\\"type\\\":\\\"scatter\\\",\\\"name\\\":\\\"u'' exact\\\",\\\"yaxis\\\":\\\"y2\\\",\\\"marker\\\":{\\\"color\\\":\\\"DarkGreen\\\",\\\"size\\\":8}},{\\\"mode\\\":\\\"markers+lines\\\",\\\"xaxis\\\":\\\"x3\\\",\\\"y\\\":[0.184393869019972,0.1110218300046446,0.050274036228518115,0.002930794240594281,-0.0302275894101256,-0.048420808174640007,-0.050868555503947976,-0.03679052484904788,-0.005406409660938083,0.04406409660938215,0.11240130051091501],\\\"type\\\":\\\"scatter\\\",\\\"name\\\":\\\"Ɛ error\\\",\\\"yaxis\\\":\\\"y3\\\",\\\"x\\\":[0.0,0.1,0.2,0.3,0.4,0.5,0.6,0.7,0.8,0.9,1.0]},{\\\"x\\\":[0.0,0.1,0.2,0.3,0.4,0.5,0.6,0.7,0.8,0.9,1.0],\\\"mode\\\":\\\"markers+lines\\\",\\\"xaxis\\\":\\\"x4\\\",\\\"y\\\":[null,0.0060949020056279835,0.002436868619174445,6.473402496512125e-5,0.0015165563654368414,0.002043509001784974,0.0017990424802119729,0.0009800297126645497,0.0001509863906912463,0.0012314115995713205,0.0017435030861537764],\\\"type\\\":\\\"scatter\\\",\\\"name\\\":\\\"Ɛrel uh\\\",\\\"yaxis\\\":\\\"y4\\\",\\\"marker\\\":{\\\"color\\\":\\\"DarkSlateBlue\\\"}},{\\\"x\\\":[0.0,0.1,0.2,0.3,0.4,0.5,0.6,0.7,0.8,0.9,1.0],\\\"mode\\\":\\\"markers+lines\\\",\\\"xaxis\\\":\\\"x4\\\",\\\"y\\\":[1.100509429511425,0.16640073403597205,0.4241707636582781,0.688823169014157,0.6395959982959004,0.283596483684109,0.37656417124976,1.3425068274243488,2.6199685020972083,4.218820687293966,0.0],\\\"type\\\":\\\"scatter\\\",\\\"name\\\":\\\"Ɛrel u'h\\\",\\\"yaxis\\\":\\\"y4\\\",\\\"marker\\\":{\\\"color\\\":\\\"IndianRed\\\"}},{\\\"x\\\":[0.0,0.1,0.2,0.3,0.4,0.5,0.6,0.7,0.8,0.9,1.0],\\\"mode\\\":\\\"markers+lines\\\",\\\"xaxis\\\":\\\"x4\\\",\\\"y\\\":[18.439386901997203,9.729720576412188,3.9535021426900414,0.2051376796433627,2.0312107021032064,3.0596676271943597,3.05836411193638,2.123309584874072,0.2912758429514445,2.4490207175424965,6.153216619704183],\\\"type\\\":\\\"scatter\\\",\\\"name\\\":\\\"Ɛrel u''h\\\",\\\"yaxis\\\":\\\"y4\\\",\\\"marker\\\":{\\\"color\\\":\\\"SeaGreen\\\"}}],{\\\"xaxis1\\\":{\\\"title\\\":\\\"x\\\",\\\"domain\\\":[0.0,0.45],\\\"anchor\\\":\\\"y1\\\"},\\\"yaxis1\\\":{\\\"title\\\":\\\"u\\\",\\\"domain\\\":[0.6375,1.0],\\\"anchor\\\":\\\"x1\\\"},\\\"yaxis3\\\":{\\\"title\\\":\\\"Ɛ\\\",\\\"domain\\\":[5.551115123125783e-17,0.36250000000000004],\\\"anchor\\\":\\\"x3\\\"},\\\"xaxis2\\\":{\\\"title\\\":\\\"x\\\",\\\"domain\\\":[0.55,1.0],\\\"anchor\\\":\\\"y2\\\"},\\\"margin\\\":{\\\"l\\\":50,\\\"b\\\":50,\\\"r\\\":50,\\\"t\\\":60},\\\"xaxis3\\\":{\\\"title\\\":\\\"x\\\",\\\"domain\\\":[0.0,0.45],\\\"anchor\\\":\\\"y3\\\"},\\\"yaxis2\\\":{\\\"title\\\":\\\"\\\",\\\"domain\\\":[0.6375,1.0],\\\"anchor\\\":\\\"x2\\\"},\\\"xaxis4\\\":{\\\"title\\\":\\\"x\\\",\\\"domain\\\":[0.55,1.0],\\\"anchor\\\":\\\"y4\\\"},\\\"yaxis4\\\":{\\\"title\\\":\\\"Ɛrel %\\\",\\\"domain\\\":[5.551115123125783e-17,0.36250000000000004],\\\"anchor\\\":\\\"x4\\\"},\\\"annotations\\\":[{\\\"yanchor\\\":\\\"bottom\\\",\\\"xanchor\\\":\\\"center\\\",\\\"y\\\":1.0,\\\"font\\\":{\\\"size\\\":16},\\\"showarrow\\\":false,\\\"yref\\\":\\\"paper\\\",\\\"text\\\":\\\"Functions\\\",\\\"xref\\\":\\\"paper\\\",\\\"x\\\":0.225},{\\\"yanchor\\\":\\\"bottom\\\",\\\"xanchor\\\":\\\"center\\\",\\\"y\\\":0.36250000000000004,\\\"font\\\":{\\\"size\\\":16},\\\"showarrow\\\":false,\\\"yref\\\":\\\"paper\\\",\\\"text\\\":\\\"Error Ɛ(x)\\\",\\\"xref\\\":\\\"paper\\\",\\\"x\\\":0.225},{\\\"yanchor\\\":\\\"bottom\\\",\\\"xanchor\\\":\\\"center\\\",\\\"y\\\":1.0,\\\"font\\\":{\\\"size\\\":16},\\\"showarrow\\\":false,\\\"yref\\\":\\\"paper\\\",\\\"text\\\":\\\"Derivatives\\\",\\\"xref\\\":\\\"paper\\\",\\\"x\\\":0.775},{\\\"yanchor\\\":\\\"bottom\\\",\\\"xanchor\\\":\\\"center\\\",\\\"y\\\":0.36250000000000004,\\\"font\\\":{\\\"size\\\":16},\\\"showarrow\\\":false,\\\"yref\\\":\\\"paper\\\",\\\"text\\\":\\\"Relative Error \\\",\\\"xref\\\":\\\"paper\\\",\\\"x\\\":0.775}]},{\\\"showLink\\\":false}); gd.on(\\\"plotly_hover\\\",(function (data){var filtered_data=WebIO.PlotlyCommands.filterEventData(gd,data,\\\"hover\\\"); return !(filtered_data.isnil) ? (WebIO.setval({\\\"name\\\":\\\"hover\\\",\\\"scope\\\":\\\"6194990493029841711\\\",\\\"id\\\":\\\"2523429933052404115\\\",\\\"type\\\":\\\"observable\\\"},filtered_data.out)) : undefined})); gd.on(\\\"plotly_unhover\\\",(function (){return WebIO.setval({\\\"name\\\":\\\"hover\\\",\\\"scope\\\":\\\"6194990493029841711\\\",\\\"id\\\":\\\"2523429933052404115\\\",\\\"type\\\":\\\"observable\\\"},{})})); gd.on(\\\"plotly_selected\\\",(function (data){var filtered_data=WebIO.PlotlyCommands.filterEventData(gd,data,\\\"selected\\\"); return !(filtered_data.isnil) ? (WebIO.setval({\\\"name\\\":\\\"selected\\\",\\\"scope\\\":\\\"6194990493029841711\\\",\\\"id\\\":\\\"15593562505210889083\\\",\\\"type\\\":\\\"observable\\\"},filtered_data.out)) : undefined})); gd.on(\\\"plotly_deselect\\\",(function (){return WebIO.setval({\\\"name\\\":\\\"selected\\\",\\\"scope\\\":\\\"6194990493029841711\\\",\\\"id\\\":\\\"15593562505210889083\\\",\\\"type\\\":\\\"observable\\\"},{})})); gd.on(\\\"plotly_relayout\\\",(function (data){var filtered_data=WebIO.PlotlyCommands.filterEventData(gd,data,\\\"relayout\\\"); return !(filtered_data.isnil) ? (WebIO.setval({\\\"name\\\":\\\"relayout\\\",\\\"scope\\\":\\\"6194990493029841711\\\",\\\"id\\\":\\\"14406806596313259379\\\",\\\"type\\\":\\\"observable\\\"},filtered_data.out)) : undefined})); return gd.on(\\\"plotly_click\\\",(function (data){var filtered_data=WebIO.PlotlyCommands.filterEventData(gd,data,\\\"click\\\"); return !(filtered_data.isnil) ? (WebIO.setval({\\\"name\\\":\\\"click\\\",\\\"scope\\\":\\\"6194990493029841711\\\",\\\"id\\\":\\\"1278432034210899443\\\",\\\"type\\\":\\\"observable\\\"},filtered_data.out)) : undefined}))}));\\n    (WebIO.importBlock({\\\"data\\\":[{\\\"name\\\":\\\"Plotly\\\",\\\"type\\\":\\\"js\\\",\\\"url\\\":\\\"\\/assetserver\\/c843c6635296ea5f415808032e6c1f322a3239cd-plotly.min.js\\\"},{\\\"name\\\":null,\\\"type\\\":\\\"js\\\",\\\"url\\\":\\\"\\/assetserver\\/44e1943a6c8ed4b38e47f64f07dc32566142c8ee-plotly_webio.bundle.js\\\"}],\\\"type\\\":\\\"async_block\\\"})).then((imports) => handler.apply(this, imports));\\n}\\n\"],\"observables\":{\"_toImage\":{\"sync\":false,\"id\":\"12448743716110650270\",\"value\":{}},\"hover\":{\"sync\":false,\"id\":\"2523429933052404115\",\"value\":{}},\"selected\":{\"sync\":false,\"id\":\"15593562505210889083\",\"value\":{}},\"__gd_contents\":{\"sync\":false,\"id\":\"1161945595454243514\",\"value\":{}},\"click\":{\"sync\":false,\"id\":\"1278432034210899443\",\"value\":{}},\"image\":{\"sync\":true,\"id\":\"3587985479631980169\",\"value\":\"\"},\"__get_gd_contents\":{\"sync\":false,\"id\":\"10245188480908762051\",\"value\":\"\"},\"_downloadImage\":{\"sync\":false,\"id\":\"3647777950622822036\",\"value\":{}},\"relayout\":{\"sync\":false,\"id\":\"14406806596313259379\",\"value\":{}},\"_commands\":{\"sync\":false,\"id\":\"7255245362171003854\",\"value\":[\"relayout\",{\"legend.title.text\":\"Functions and Errors\",\"height\":500,\"width\":1150}]}}},\"children\":[{\"props\":{\"id\":\"plot-9d4c87e6-d60d-4acb-8e14-c8bbdd87d571\"},\"nodeType\":\"DOM\",\"type\":\"node\",\"instanceArgs\":{\"namespace\":\"html\",\"tag\":\"div\"},\"children\":[]}]},\n",
       "        window,\n",
       "    );\n",
       "    })()\n",
       "    </script>\n",
       "</div>\n"
      ],
      "text/plain": [
       "data: [\n",
       "  \"scatter with fields legendrank, marker, mode, name, type, x, xaxis, y, and yaxis\",\n",
       "  \"scatter with fields marker, mode, name, type, x, xaxis, y, and yaxis\",\n",
       "  \"scatter with fields marker, mode, name, type, x, xaxis, y, and yaxis\",\n",
       "  \"scatter with fields marker, mode, name, type, x, xaxis, y, and yaxis\",\n",
       "  \"scatter with fields legendrank, marker, mode, name, type, x, xaxis, y, and yaxis\",\n",
       "  \"scatter with fields legendrank, marker, mode, name, type, x, xaxis, y, and yaxis\",\n",
       "  \"scatter with fields mode, name, type, x, xaxis, y, and yaxis\",\n",
       "  \"scatter with fields marker, mode, name, type, x, xaxis, y, and yaxis\",\n",
       "  \"scatter with fields marker, mode, name, type, x, xaxis, y, and yaxis\",\n",
       "  \"scatter with fields marker, mode, name, type, x, xaxis, y, and yaxis\"\n",
       "]\n",
       "\n",
       "layout: \"layout with fields annotations, height, legend, margin, width, xaxis1, xaxis2, xaxis3, xaxis4, yaxis1, yaxis2, yaxis3, and yaxis4\"\n",
       "\n"
      ]
     },
     "execution_count": 59,
     "metadata": {},
     "output_type": "execute_result"
    }
   ],
   "source": [
    "exact(x)   = -cos(x) - tan(1)sin(x) + 1\n",
    "exactp(x)  = sin(x) - tan(1)cos(x) \n",
    "exactpp(x) = cos(x) + tan(1)sin(x) \n",
    "\n",
    "pf = plot([scatter(x=x,y=exact.(x), name=\"U exact\", mode=\"lines\", marker=attr(color=\"LightBlue\"), legendrank=1), scatter(x=x,y=uh.(x), name=\"u_h\", mode=\"markers\", marker=attr(color=\"DarkBlue\",size=8)) ],\n",
    "    Layout(title=\"Functions\",  xaxis_title=\"x\",  yaxis_title=\"u\"))\n",
    "\n",
    "pd = plot([scatter(x=x,y=uhp.(x), name=\"u'_h\", mode=\"markers\", marker=attr(size=8, color=\"red\")), scatter(x=x,y=uhpp.(x), name=\"u''_h\", mode=\"markers\", marker=attr(size=8, color=\"green\")),\n",
    "           scatter(x=x,y=exactp.(x), name=\"u' exact\", mode=\"lines\", marker=attr(size=8, color=\"DarkRed\"), legendrank=2), scatter(x=x,y=exactpp.(x), name=\"u'' exact\", mode=\"lines\", marker=attr(size=8, color=\"DarkGreen\"), legendrank=3) ],\n",
    "    Layout(title=\"Derivatives\",  xaxis_title=\"x\",  yaxis_title=\"\"))\n",
    "\n",
    "pe = plot([scatter(x=x,y=uhpp.(x) + uh.(x) .-1,mode=\"markers+lines\", name=\"Ɛ error\") ], \n",
    "         Layout(title=\"Error Ɛ(x)\",  xaxis_title=\"x\",  yaxis_title=\"Ɛ\"))\n",
    "\n",
    "ep = 100*abs.((exactp.(x) - uhp.(x))./exactp.(x))\n",
    "ep[end] = 0 #to avoid error of 100% at end value\n",
    "\n",
    "pde = plot([scatter(x=x,y=abs.((exact.(x) - uh.(x))./exact.(x)), mode=\"markers+lines\", name=\"Ɛrel uh\", marker=attr(color=\"DarkSlateBlue\")),\n",
    "            scatter(x=x,y=ep, mode=\"markers+lines\", name=\"Ɛrel u'h\", marker=attr(color=\"IndianRed\")),\n",
    "            scatter(x=x,y=100*abs.((exactpp.(x) - uhpp.(x))./exactpp.(x)), mode=\"markers+lines\", name=\"Ɛrel u''h\", marker=attr(color=\"SeaGreen\"))], \n",
    "         Layout(title=\"Relative Error \",  xaxis_title=\"x\",  yaxis_title=\"Ɛrel %\"))\n",
    "\n",
    "\n",
    "pde\n",
    "Plot = [pf pd; pe pde]\n",
    "\n",
    "relayout!(Plot, width=1150, height=500, legend_title_text=\"Functions and Errors\")#, title_text=\"Functions and Error\")\n",
    "Plot "
   ]
  },
  {
   "cell_type": "markdown",
   "id": "5c281883",
   "metadata": {},
   "source": [
    "## 2.T \n",
    "Prove that $\\ddot{u}$ is a solution of the variational problem. Find $u\\in H_0^1(I)$ such that\n",
    "\n",
    "$$ \\int_I u'v' dx = \\in_I fv, \\qquad \\forall v\\in H_0^1(I) $$\n",
    "\n",
    "if and only if $\\ddot{u}$ is a functional minimizer.\n",
    "\n",
    "$$ F(w) = \\frac{1}{2} \\int_I (w')^2 - \\int_I fw dx $$\n",
    "\n",
    "over the space $H_0^1(I)$"
   ]
  },
  {
   "cell_type": "markdown",
   "id": "02c400d1",
   "metadata": {},
   "source": [
    "## 3.TP\n",
    "\n",
    "Consider the problem with Robin conditions\n",
    "\n",
    "$$ -u''+2u=4+2x^3, \\qquad x\\in I = (-1,1) $$\n",
    "$$ u'(-1)=\\frac{\\alpha}{\\kappa}(u(-1)+1), \\quad u'(1) = -\\frac{\\alpha}{\\kappa} (u(1)+1) $$\n",
    "\n",
    "a) Write the weak formulation corresponding to the boundary value problem $(e)-(3)$ \n",
    "\n",
    "b) Prove the existence and uniquiness of the weak solution.\n",
    "\n",
    "c) To discretize the weak problem consider the picewise lineal polynomial spaces and write exactly the rigid matrix, load and vector mass.\n",
    "\n",
    "d) Using the result found before, part c, do the modifications to the Matlab codes and solve the problem taking $\\alpha =2$ and $\\kappa=1$. Plot the numerical solution and compare it with the exact solution $u(x)=1-x^2$.\n",
    "\n",
    "e) Solve the equation with Dirichlet homogeneous boundary condtions. Plot and compare it with the exact solution $u(x)=1-x^2$.\n",
    "\n",
    "f) Plot the error done in each mesh point $\\left( |u(x_i)-u_h(x_i)|,i=0,1,...,m  \\right)$ of the found solutions in the items d) and e). "
   ]
  },
  {
   "cell_type": "markdown",
   "id": "8c5087b7-87f1-4d55-bd9f-611d13564a03",
   "metadata": {
    "tags": []
   },
   "source": [
    "### Solution\n",
    "\n",
    "#### a) \n",
    "Let's start with the variational formulation. First, multiplying by a test function $v$ and integrating over $I$ the differential equation\n",
    "\n",
    "$$ -\\int_{-1}^1 u'' v dx + 2 \\int_{-1}^1 u v dx = \\int_{-1}^1 (4+2x^3) v dx $$\n",
    "\n",
    "Now, integratin by steps the first term and choosing $v|v(-1)= v(1) = 0$\n",
    "\n",
    "$$ -\\int_{-1}^1 u'' v dx  =  \\int_{-1}^1 u' v'dx -vu'\\Big|_{-1}^1 = \\int_{-1}^1 u' v'dx +\\left[ v(-1)u'(-1) -v(1)u'(1) \\right] \\\\\n",
    "= \\int_{-1}^1 u' v'dx +\\left[ v(-1)\\frac{\\alpha}{\\kappa}(u(-1)+1)  +\\frac{\\alpha}{\\kappa}(u(1)+1) v(1) \\right] = \\int_{-1}^1 u' v'dx  $$\n",
    "\n",
    "where the Robin conditions were used. Finally, replacing the last term in the first equation the weak problem is founded\n",
    "\n",
    "$$ \\boxed{\\int_{-1}^1 u' v'dx + 2 \\int_{-1}^1 u v dx + \\frac{\\alpha}{\\kappa}\\left[u(1)v(1) +u(-1) v(-1)\\right] = \\int_{-1}^1 (4+2x^3) v dx - \\frac{\\alpha}{\\kappa}\\left[ v(-1) + v(1) \\right]}$$\n",
    "\n",
    "This is the weak problem. This equation can be writen as follows\n",
    "\n",
    "$$ a(u,v) = Lv, \\qquad \\forall v\\in H_0^2(0,L)$$\n",
    "\n",
    "where \n",
    "\n",
    "$$a(u,v) = \\int_{-1}^1 (u' v' +2uv)dx + \\frac{\\alpha}{\\kappa}\\left[u(1)v(1) +u(-1) v(-1)\\right] \\\\\n",
    "Lv =  \\int_{-1}^1 (4+2x^3) v dx -  \\frac{\\alpha}{\\kappa}\\left[ v(-1) + v(1) \\right]$$\n",
    "\n",
    "\n",
    "#### b)\n",
    "To prove its uniqueness let's verify the Lax-Milgram hypothesis with $v\\in H$.\n",
    "\n",
    "- **Bilineal Countinuity:**\n",
    "\n",
    "Using Cauchy-Schwartz, and Poincare inequality\n",
    "\n",
    "$$ \n",
    "|a(u,v)| = \\left|\\left| \\int_{-1}^1 (u' v' +2uv)dx \\right|\\right|   \\leq   \\int_0^L |u'| \\cdot 2 |v'| dx  + 2 \\int_0^L |u| \\dot|v| dx\n",
    "\\leq  ||u'||_{L^2} \\cdot  ||v'||_{L^2}  + 2 ||u||_{L^2} \\cdot ||v||_{L^2} \\\\\n",
    "\\Rightarrow \\boxed{|a(u,v)| \\leq  (1 +2 C_P^2) \\cdot ||u'||_{L^2} \\cdot  ||v'||_{L^2}}\n",
    "$$\n",
    "\n",
    "- **Coercivity:**\n",
    "$$ \n",
    "a(u,u) =  \\int_{-1}^1 (u' u' +2uu)dx  \\geq  ||u'||_{L^2}^2 + \\frac{2}{2} \\int_{-1}^{1} (u^2)' dx  =  ||u'||_{L^2}^2 +  u^2 \\Big|_{-1}^{1}\\\\\n",
    "\\Rightarrow \\boxed{ a(u,u) \\geq  ||u'||_{L^2}^2 = \\frac{1}{\\sqrt{C_P^2+1}}||u'||_{H^1_0(-1,1)}^2}\n",
    "$$\n",
    "\n",
    "- **Continuity of $v$ in H:**\n",
    "$$\n",
    "|Lv| = \\left|\\int_{-1}^1 (4+2x^3) v dx \\right| \\leq ||4+2x^3||_{L^2} ||v||_{L^2} \\leq  \\sqrt{\\frac{232}{7}}C_P ||v'||_{L^2} \\\\\n",
    "\\Rightarrow \\boxed{ \\quad ||L||_{H} \\leq  \\sqrt{\\frac{232}{7}} C_P ||v'||_{L^2} }\n",
    "$$\n",
    "\n",
    "\n",
    "where\n",
    "$$||4+2x^3||_{L^2}^2  = \\int_{-1}^{1} (4+2x^3)^2 dx =  \\int_{-1}^{1} (16+4x^6+16x^3) dx = \\left( 16x+\\frac{4}{7}x^7+4x^4\\right)\\Big|_{-1}^1 =  16+\\frac{4}{7}+4 -\n",
    " +16+\\frac{4}{7}-4 = 32+\\frac{8}{7}=\\frac{232}{7}$$\n",
    "\n",
    "Then, the Lax-Milgram shows that there is a unique solution to the problem.\n",
    "\n",
    "#### c)\n",
    "Now, let's discretize the weak problem. To do it, the picewise lineal polynomial functions will be used as base\n",
    "\n",
    "\n",
    "$$\n",
    "\\phi_{i}(x):= \\begin{cases}\\frac{x-x_{i-1}}{h_{i}} & \\text { si } x \\in \\Omega_{i} \\\\ \\frac{x_{i+1}-x}{h_{i+1}} & \\text { if } x \\in \\Omega_{i+1} \\\\ 0 & \\text {other case}\\end{cases}, \\qquad \\phi_{i}'(x):= \\begin{cases}\\frac{1}{h_{i}} & \\text { if } x \\in \\Omega_{i} \\\\ \\frac{-1}{h_{i+1}} & \\text { if } x \\in \\Omega_{i+1} \\\\ 0 & \\text {other case}\\end{cases}\n",
    "$$\n",
    "\n",
    "Using these functions, the finite dimensional discretized problem is \n",
    "\n",
    "$$\\int_{-1}^1 u' v'dx + \\frac{\\alpha}{\\kappa}\\left[u(1)v(1) +u(-1) v(-1)\\right] = \\int_{-1}^1 (4+2x^3) v dx - \\frac{\\alpha}{\\kappa}\\left[ v(-1) + v(1) \\right],  \\qquad  \\forall v \\in V_h$$\n",
    "\n",
    "where the goal is find a function $u$ that satisfies the last equation. Using the picewise lineal polynomial basis\n",
    "\n",
    "$$ u_h(x) = \\sum_{j=0}^{n} u_j \\phi_j(x), \\qquad u_h'(x) = \\sum_{j=0}^{n} u_j \\phi_j'(x), \\qquad v(x) = \\phi_i(x)$$\n",
    "\n",
    "Replacing this functions in the weak problem\n",
    "\n",
    "$$ \\sum_{j=0}^{n} u_j\\left( \\int_{-1}^1  \\phi_j'  \\phi_i' dx  \\right) + \\sum_{j=0}^{n} u_j \\left( \\int_{-1}^1 2 \\phi_j  \\phi_i dx  \\right) + \\frac{\\alpha}{\\kappa}\\left[u_n \\phi_i(1) +u_0 \\phi_i(-1)\\right] = \\int_{-1}^1 (4+2x^3) \\phi_i(x) dx - \\frac{\\alpha}{\\kappa}\\left[ \\phi_i(-1) + \\phi_i(1) \\right]$$\n",
    "\n",
    "for $i=0,1,...,n-1,n$. Since in the previous equations appers the terms $\\phi_i(-1)$ and $\\phi_i(1)$, that are different of zero to $\\phi_0$ and $\\phi_n$ respectively. Now, expanding just the first and last term the sum with the following mesh and $\\phi_i$ picewise lineal polynomials\n",
    "\n",
    "<img src=\"mesh.png\" width=\"1000\"  class=\"center\"/>\n",
    "\n",
    "$$ \\sum_{j=0}^{n} u_j\\left( \\int_{-1}^1  \\phi_j'  \\phi_i' dx  \\right) + \\sum_{j=0}^{n} u_j \\left( \\int_{-1}^1 2 \\phi_j  \\phi_i dx  \\right) + \\frac{\\alpha}{\\kappa}\\left[u_n \\phi_i(1) +u_0 \\phi_i(-1)\\right] = \\int_{-1}^1 (4+2x^3) \\phi_i(x) dx - \\frac{\\alpha}{\\kappa}\\left[ \\phi_i(-1) + \\phi_i(1) \\right]\\\\\n",
    "\\sum_{j=0}^{n} u_j\\left( \\int_{-1}^1  \\phi_j'  \\phi_i' dx  \\right) + \\sum_{j=0}^{n-1} u_j \\left( \\int_{-1}^1 2 \\phi_j  \\phi_i dx  \\right) + \\frac{\\alpha}{\\kappa}\\left[u_n  +u_0 \\right] = \\int_{-1}^1 (4+2x^3) \\phi_i(x) dx - \\frac{\\alpha}{\\kappa}\\left[ \\phi_i(-1) + \\phi_i(1) \\right]\n",
    "$$\n",
    "\n",
    "$$\n",
    "u_0\\left( \\int_{-1}^1  (\\phi_0'  \\phi_i' +  2 \\phi_0  \\phi_i )dx  + \\frac{\\alpha}{\\kappa}  \\right) + u_n\\left( \\int_{-1}^1 ( \\phi_n'  \\phi_i' + 2 \\phi_n  \\phi_i )dx + \\frac{\\alpha}{\\kappa}  \\right) + \\sum_{j=1}^{n-1} u_j\\left( \\int_{-1}^1  \\phi_j'  \\phi_i' dx  \\right) + \\sum_{j=1}^{n-1} u_j \\left( \\int_{-1}^1 2 \\phi_j  \\phi_i dx  \\right) = \\int_{-1}^1 (4+2x^3) \\phi_i(x) dx - \\frac{\\alpha}{\\kappa} \\left[ \\phi_i(-1) + \\phi_i(1) \\right]\n",
    "$$\n",
    "\n",
    "for $i=0,1,2,...,n-1,n$. Omitting the terms $u_0$ and $u_n$,\n",
    "\n",
    "$$\n",
    " \\sum_{j=1}^{n-1} u_j\\left( \\int_{-1}^1  \\phi_j'  \\phi_i' dx  \\right) + \\sum_{j=1}^{n-1} u_j \\left( \\int_{-1}^1 2 \\phi_j  \\phi_i dx  \\right) = \\int_{-1}^1 (4+2x^3) \\phi_i(x) dx \n",
    "$$\n",
    "\n",
    "for $i=1,2,...,n-1$. Note that the first two terms in the previous equation make the first and last rows of the matrix problem. Rememebering the matricial form of the equation\n",
    "\n",
    "$$ (A+M)u  = b $$\n",
    "\n",
    "With\n",
    "\n",
    "$$\n",
    "A =  \\int_{-1}^1  \\phi_j'  \\phi_i' dx  =  \\int_{x_{i-1}}^{x_{i+1}}  \\phi_j'  \\phi_i' dx \\\\\n",
    "M = \\int_{-1}^1 2 \\phi_j  \\phi_i dx = \\int_{x_{i-1}}^{x_{i+1}} 2 \\phi_j  \\phi_i dx \\\\\n",
    "b = \\int_{-1}^1 (4+2x^3) \\phi_i(x) dx  = \\int_{x_{i-1}}^{x_{i+1}} (4+2x^3) \\phi_i(x) dx \n",
    "$$\n",
    "\n",
    "Since the problem is almost the same, execpt for the first, $u_0$), and last row, $u_n$, it is necessary to calculate these rows.\n",
    "\n",
    "Taking $i=0$ and remembering that $\\phi_0$ share support just with itself and $\\phi_1$\n",
    "\n",
    "$$\n",
    "u_0\\left( \\int_{-1}^1  (\\phi_0'^2  \\phi_0' +  2 \\phi_0  \\phi_0 )dx  + \\frac{\\alpha}{\\kappa}  \\right) + u_n\\left( \\int_{-1}^1 ( \\phi_n'  \\phi_0' + 2 \\phi_n  \\phi_0 )dx + \\frac{\\alpha}{\\kappa}  \\right) + \\sum_{j=1}^{n-1} u_j\\left( \\int_{-1}^1  \\phi_j'  \\phi_0' dx  \\right) + \\sum_{j=1}^{n-1} u_j \\left( \\int_{-1}^1 2 \\phi_j  \\phi_0 dx  \\right) = \\int_{-1}^1 (4+2x^3) \\phi_0(x) dx - \\frac{\\alpha}{\\kappa} \\left[ \\phi_0(-1) + \\phi_0(1) \\right]\\\\\n",
    "u_0 \\left( \\int_{x_0}^{x_1}  ((\\phi_0 ')^2 +  2 (\\phi_0)^2 )dx  + \\frac{\\alpha}{\\kappa}  \\right) +  u_1\\left( \\int_{x_0}^{x_1}  (\\phi_1'  \\phi_0' + 2 \\phi_1  \\phi_0 ) dx  \\right) = \\int_{x_0}^{x_1} (4+2x^3) \\phi_0(x) dx - \\frac{\\alpha}{\\kappa}\n",
    "$$\n",
    "\n",
    "Using $\\phi_0(-1)=0$ and $\\phi_n(1)=1$. Analogous, for $i=n$ and remembering that $\\phi_n$ share support just with itself and $\\phi_{n-1}$\n",
    "\n",
    "$$\n",
    "u_n \\left( \\int_{x_{n-1}}^{x_n}  ((\\phi_n ')^2 +  2 (\\phi_n)^2 )dx  + \\frac{\\alpha}{\\kappa}  \\right) +  u_{n-1} \\left( \\int_{x_{n-1}}^{x_{n}} ( \\phi_n'  \\phi_{n-1}' + 2 \\phi_n  \\phi_{n-1} ) dx  \\right) = \\int_{x_{n-1}}^{x_{n}} (4+2x^3) \\phi_n(x) dx - \\frac{\\alpha}{\\kappa}\n",
    "$$\n",
    "\n",
    "\n",
    "Now let's calculate all terms involved in the previous equations.\n",
    "\n",
    "$$\n",
    "\\int_{x_0}^{x_1}  ((\\phi_0 ')^2 +  2 (\\phi_0)^2 )dx  = \\frac{h_1}{h_1^2} + 2\\frac{h_1}{6}\\left(1+4\\phi_0\\left(\\frac{h_1}{2}\\right)+0\\right) = \\frac{1}{h_1} + 2\\frac{h_1}{6}(2) = \\frac{1}{h_1} + \\frac{2h_1}{3}\\\\\n",
    "\\int_{x_0}^{x_1}  \\left(\\phi_1'  \\phi_0' + 2 \\phi_1  \\phi_0 \\right) dx = \\frac{1}{h_1} \\cdot \\frac{-1}{h_1} h_1+ 2\\frac{h_1}{6}\\left(\\phi_1(x_0)\\phi_0(x_0) + 4\\phi_1\\left(x_0+\\frac{h_1}{2}\\right)\\phi_0\\left(x_0+\\frac{h_1}{2}\\right) + \\phi_1(x_1)\\phi_0(x_1) \\right)=   -\\frac{1}{h_1} + \\frac{h_1}{3}\\left(0\\cdot 1+ 1 + 1\\cdot 0 \\right)= -\\frac{1}{h_1} + \\frac{h_1}{3}\\\\\n",
    "\\int_{x_0}^{x_1} (4+2x^3) \\phi_0(x) dx \\approx  \\frac{h_1}{2} \\left( (4+2x_1^3) \\phi_0(x_1) +4 \\phi_0(0)\\right) = 2h_1 \\\\\n",
    "\\int_{x_{n-1}}^{x_n}  ((\\phi_n ')^2 +  2 (\\phi_n)^2 )dx  = \\frac{h_n}{h_n^2} + 2\\frac{h_1}{6}\\left(1+4\\phi_n\\left(\\frac{h_n}{2}\\right)+0\\right)   = \\frac{1}{h_n} + \\frac{2h_n}{3}\\\\\n",
    "\\int_{x_{n-1}}^{x_{n}} ( \\phi_n'  \\phi_{n-1}' + 2 \\phi_n  \\phi_{n-1} ) dx = -\\frac{1}{h_n} + \\frac{h_n}{3}\\\\\n",
    "\\int_{x_{n-1}}^{x_{n}} (4+2x^3) \\phi_n(x) dx \\approx \\frac{h_n}{2} \\left( (4+2x_n^3) \\phi_n(x_n) +4 \\phi_n(x_{n-1})\\right) =  \\frac{h_n}{2}  (4+2\\cdot 1)= 3h_n\n",
    "$$\n",
    "\n",
    "Replacing\n",
    "\n",
    "$$\n",
    "u_0 \\left(\\frac{1}{h_1} + \\frac{2h_1}{3} + \\frac{\\alpha}{\\kappa}  \\right) +  u_1\\left( -\\frac{1}{h_1} + \\frac{h_1}{3} \\right) = 2h_1 - \\frac{\\alpha}{\\kappa}\\\\\n",
    "u_{n-1} \\left( -\\frac{1}{h_n} + \\frac{h_n}{3} \\right)  + u_n \\left( \\frac{1}{h_n} + \\frac{2h_n}{3} + \\frac{\\alpha}{\\kappa}  \\right) = 3h_n- \\frac{\\alpha}{\\kappa}\n",
    "$$"
   ]
  },
  {
   "cell_type": "code",
   "execution_count": 60,
   "id": "57c7b0c1-e5ac-4e6e-b588-aad87c817dfe",
   "metadata": {
    "jupyter": {
     "source_hidden": true
    },
    "tags": []
   },
   "outputs": [
    {
     "data": {
      "text/plain": [
       "Mass1D_Hom (generic function with 1 method)"
      ]
     },
     "execution_count": 60,
     "metadata": {},
     "output_type": "execute_result"
    }
   ],
   "source": [
    "function Stiffness1D_Hom(x,p)\n",
    "    # Stiffness matrix for homogeneous Dirichlet problem.\n",
    "    # x = LinRange(0,1,11) ;  \n",
    "    # p(x) = x^3-0.18*x^2 + 691e-6;\n",
    "    # A = EnsambleRigidez1D_Hom(x,p);\n",
    "\n",
    "    n = size(x)[1]-2;    #x0< x1 < ... < xN n+1 puntos en la malla %\n",
    "    A = zeros(n,n);\n",
    "    A[1,1]= p(0.5*(x[2]+ x[1])) / (x[2]- x[1]);\n",
    "    A[n,n]= p( 0.5*(x[n+2]+ x[n+1]) )/ ( x[n+2] - x[n+1]);\n",
    "    for i in 2:n\n",
    "        h = x[i+1] - x[i];\n",
    "        xmid = (x[i+1] + x[i]) / 2;       # midpoint of interval\n",
    "        pmid = p(xmid);                   # p(x) value in the midpoint\n",
    "        A[i-1,i-1] += pmid/h; # sum pmid/h a A(i-1,i-1)\n",
    "        A[i-1,i]   -= pmid/h;\n",
    "        A[i,i-1]   -= pmid/h;\n",
    "        A[i,i]     += pmid/h;\n",
    "    end\n",
    "    return A\n",
    "end\n",
    "\n",
    "function Load1D_hom(x,f)\n",
    "    # Load vector homogeneous Dirichlet problem.\n",
    "    # x = LinRange(0,1,11);\n",
    "    # f(x) = x^3-0.18*x^2 + 691e-6);\n",
    "    # b = EnsambleCarga1D_hom(x,f);\n",
    "\n",
    "    n    = size(x,1)-2;\n",
    "    b    = zeros(n,1);\n",
    "    b[1] = 0.5* f(x[1])* (x[2]- x[1]);\n",
    "    b[n] = 0.5* f(x[n+2])* (x[n+2]- x[n+1]);\n",
    "    for i in 2:n\n",
    "        h      = x[i+1] - x[i];\n",
    "        b[i-1] += f(x[i-1])*h/2;\n",
    "        b[i]   += f(x[i])*h/2;\n",
    "    end\n",
    "    return b\n",
    "end\n",
    "\n",
    "\n",
    "function Mass1D_Hom(x,r)\n",
    "    # Mass matrix for homogeneous Dirichlet problem.\n",
    "    # x    = LinRange(0,1,11);\n",
    "    # r(x) = x^3-0.18*x^2 + 691e-6\n",
    "    # M    = EnsambleMasa1D_Hom(x,r);\n",
    "\n",
    "    n = size(x,1)-2;\n",
    "    M = zeros(n,n);  \n",
    "    M[1,1] =  r( 0.5*(x[2]+ x[1]) )* ( x[2]- x[1])/3;\n",
    "    M[n,n] =  r( 0.5*(x[n+2]+ x[n+1]) )*  ( x[n+2] - x[n+1])/3;\n",
    "    for i in 2:n \n",
    "        h = x[i+1] - x[i];        # Interval lenght\n",
    "        xmid = (x[i+1] + x[i])/2; # midpoint of interval\n",
    "        rmid = r(xmid);           # r(x) value to midpoint of interval\n",
    "        M[i-1,i-1] += rmid*h/3; # sum rmid*h/3 a M(i,i)\n",
    "        M[i-1,i]   += rmid*h/6;\n",
    "        M[i  ,i-1] += rmid*h/6;\n",
    "        M[i  ,i]   += rmid*h/3;\n",
    "    end\n",
    "    return M\n",
    "end"
   ]
  },
  {
   "cell_type": "code",
   "execution_count": 61,
   "id": "01b08b24-7291-4863-8e06-0bdf3e446c3c",
   "metadata": {
    "tags": []
   },
   "outputs": [],
   "source": [
    "n= 40\n",
    "x = LinRange(-1,1,n)\n",
    "alpha, kappa = 2, 1\n",
    "\n",
    "p(x) = 1; r(x) = 2; f(x) = 4 + 2*x^3 #4-2x^2#\n",
    "\n",
    "M = Stiffness1D_Hom(x,p)\n",
    "A = Mass1D_Hom(x,r)\n",
    "b = Load1D_hom(x,f)\n",
    "\n",
    "# ---------- Adding Robin Conditions ----------\n",
    "Mf, bf = zeros(n,n), zeros(n,1);\n",
    "h1, hn = x[2] - x[1], x[end] - x[end-1]\n",
    "\n",
    "Mf[1,1:2] = [1/h1+2h1/3+alpha/kappa -1/h1+h1/3]\n",
    "Mf[end,end-1:end] = [-1/hn+hn/3 1/hn+2hn/3+alpha/kappa ]\n",
    "\n",
    "bf[1] = 2h1-alpha/kappa\n",
    "bf[end] = 2hn-alpha/kappa   #bf[end] = hn-alpha/kappa\n",
    "\n",
    "Mf[2:end-1, 2:end-1]  += M;\n",
    "bf[2:end-1]  += b;"
   ]
  },
  {
   "cell_type": "markdown",
   "id": "d0d96c7b-bc7a-432d-8437-6b6bccf4ee2c",
   "metadata": {},
   "source": [
    "#### d)\n",
    "Solving the system"
   ]
  },
  {
   "cell_type": "code",
   "execution_count": 62,
   "id": "bc4faea3-f54f-4323-879e-e05b545fa587",
   "metadata": {},
   "outputs": [
    {
     "data": {
      "application/vnd.plotly.v1+json": {
       "data": [
        {
         "mode": "lines",
         "name": "u exact",
         "type": "scatter",
         "x": [
          -1,
          -0.9487179487179487,
          -0.8974358974358974,
          -0.8461538461538463,
          -0.7948717948717949,
          -0.7435897435897436,
          -0.6923076923076923,
          -0.641025641025641,
          -0.5897435897435899,
          -0.5384615384615383,
          -0.4871794871794872,
          -0.4358974358974359,
          -0.3846153846153846,
          -0.3333333333333334,
          -0.282051282051282,
          -0.23076923076923078,
          -0.17948717948717952,
          -0.1282051282051282,
          -0.07692307692307687,
          -0.025641025641025605,
          0.02564102564102555,
          0.07692307692307687,
          0.1282051282051282,
          0.17948717948717952,
          0.23076923076923084,
          0.28205128205128216,
          0.33333333333333326,
          0.3846153846153846,
          0.4358974358974359,
          0.4871794871794872,
          0.5384615384615385,
          0.5897435897435896,
          0.641025641025641,
          0.6923076923076923,
          0.7435897435897436,
          0.7948717948717949,
          0.8461538461538463,
          0.8974358974358974,
          0.9487179487179487,
          1
         ],
         "y": [
          0,
          0.09993425378040766,
          0.19460880999342556,
          0.28402366863905304,
          0.3681788297172912,
          0.4470742932281393,
          0.5207100591715976,
          0.5890861275476661,
          0.6522024983563444,
          0.7100591715976332,
          0.7626561472715319,
          0.8099934253780408,
          0.8520710059171598,
          0.8888888888888888,
          0.9204470742932281,
          0.9467455621301775,
          0.967784352399737,
          0.9835634451019066,
          0.9940828402366864,
          0.9993425378040762,
          0.9993425378040762,
          0.9940828402366864,
          0.9835634451019066,
          0.967784352399737,
          0.9467455621301775,
          0.920447074293228,
          0.888888888888889,
          0.8520710059171598,
          0.8099934253780408,
          0.7626561472715319,
          0.710059171597633,
          0.6522024983563446,
          0.5890861275476661,
          0.5207100591715976,
          0.4470742932281393,
          0.3681788297172912,
          0.28402366863905304,
          0.19460880999342556,
          0.09993425378040766,
          0
         ]
        },
        {
         "mode": "markers",
         "name": "u approx (u_h)",
         "type": "scatter",
         "x": [
          -1,
          -0.9487179487179487,
          -0.8974358974358974,
          -0.8461538461538463,
          -0.7948717948717949,
          -0.7435897435897436,
          -0.6923076923076923,
          -0.641025641025641,
          -0.5897435897435899,
          -0.5384615384615383,
          -0.4871794871794872,
          -0.4358974358974359,
          -0.3846153846153846,
          -0.3333333333333334,
          -0.282051282051282,
          -0.23076923076923078,
          -0.17948717948717952,
          -0.1282051282051282,
          -0.07692307692307687,
          -0.025641025641025605,
          0.02564102564102555,
          0.07692307692307687,
          0.1282051282051282,
          0.17948717948717952,
          0.23076923076923084,
          0.28205128205128216,
          0.33333333333333326,
          0.3846153846153846,
          0.4358974358974359,
          0.4871794871794872,
          0.5384615384615385,
          0.5897435897435896,
          0.641025641025641,
          0.6923076923076923,
          0.7435897435897436,
          0.7948717948717949,
          0.8461538461538463,
          0.8974358974358974,
          0.9487179487179487,
          1
         ],
         "y": [
          0.0718363513348298,
          0.1767895096240859,
          0.34831932168078195,
          0.513821039212637,
          0.6726050024533187,
          0.8240560327632241,
          0.9676291765650985,
          1.1028454492796498,
          1.229287579261163,
          1.3465957517331182,
          1.4544633527238005,
          1.5526327130019224,
          1.6408908520122332,
          1.7190652218111373,
          1.7870194510023099,
          1.8446490886723093,
          1.891877348326196,
          1.9286508518231453,
          1.9549353733120638,
          1.9707115831672042,
          1.9759707919237814,
          1.9707106942135866,
          1.9549311127006035,
          1.928629742016624,
          1.8917978926968626,
          1.844416235115573,
          1.7864505434216615,
          1.7178474394743033,
          1.6385301367785585,
          1.5483941844209859,
          1.44730321100526,
          1.3350846685877857,
          1.2115255766133124,
          1.0763682658505516,
          0.9293061223277902,
          0.7699793312685072,
          0.5979706210269877,
          0.4128010070239404,
          0.21392553568210898,
          0.10543491112814736
         ]
        }
       ],
       "frames": [],
       "layout": {
        "autosize": true,
        "margin": {
         "b": 50,
         "l": 50,
         "r": 50,
         "t": 60
        },
        "title": {
         "text": "Functions"
        },
        "xaxis": {
         "autorange": true,
         "range": [
          -1.1209964412811388,
          1.1209964412811388
         ],
         "title": {
          "text": "x"
         },
         "type": "linear"
        },
        "yaxis": {
         "autorange": true,
         "range": [
          -0.11163676790529838,
          2.121098590200669
         ],
         "title": {
          "text": "u"
         },
         "type": "linear"
        }
       }
      },
      "application/vnd.webio.node+json": {
       "children": [
        {
         "children": [],
         "instanceArgs": {
          "namespace": "html",
          "tag": "div"
         },
         "nodeType": "DOM",
         "props": {
          "id": "plot-a184a5b2-8220-4486-aa77-a19dff285dcb"
         },
         "type": "node"
        }
       ],
       "instanceArgs": {
        "handlers": {
         "__get_gd_contents": [
          "(function (prop){prop==\"data\" ? (WebIO.setval({\"name\":\"__gd_contents\",\"scope\":\"13750664746823314865\",\"id\":\"12103900329966207755\",\"type\":\"observable\"},this.plotElem.data)) : undefined; return prop==\"layout\" ? (WebIO.setval({\"name\":\"__gd_contents\",\"scope\":\"13750664746823314865\",\"id\":\"12103900329966207755\",\"type\":\"observable\"},this.plotElem.layout)) : undefined})"
         ],
         "_commands": [
          "(function (args){var fn=args.shift(); var elem=this.plotElem; var Plotly=this.Plotly; args.unshift(elem); return Plotly[fn].apply(this,args)})"
         ],
         "_downloadImage": [
          "(function (options){return this.Plotly.downloadImage(this.plotElem,options)})"
         ],
         "_toImage": [
          "(function (options){return this.Plotly.toImage(this.plotElem,options).then((function (data){return WebIO.setval({\"name\":\"image\",\"scope\":\"13750664746823314865\",\"id\":\"2829475825021338031\",\"type\":\"observable\"},data)}))})"
         ]
        },
        "id": "13750664746823314865",
        "imports": {
         "data": [
          {
           "name": "Plotly",
           "type": "js",
           "url": "/assetserver/c843c6635296ea5f415808032e6c1f322a3239cd-plotly.min.js"
          },
          {
           "name": null,
           "type": "js",
           "url": "/assetserver/44e1943a6c8ed4b38e47f64f07dc32566142c8ee-plotly_webio.bundle.js"
          }
         ],
         "type": "async_block"
        },
        "mount_callbacks": [
         "function () {\n    var handler = ((function (Plotly,PlotlyWebIO){PlotlyWebIO.init(WebIO); var gd=this.dom.querySelector(\"#plot-a184a5b2-8220-4486-aa77-a19dff285dcb\"); this.plotElem=gd; this.Plotly=Plotly; (window.Blink!==undefined) ? (gd.style.width=\"100%\", gd.style.height=\"100vh\", gd.style.marginLeft=\"0%\", gd.style.marginTop=\"0vh\") : undefined; window.onresize=(function (){return Plotly.Plots.resize(gd)}); Plotly.newPlot(gd,[{\"mode\":\"lines\",\"y\":[0.0,0.09993425378040766,0.19460880999342556,0.28402366863905304,0.3681788297172912,0.4470742932281393,0.5207100591715976,0.5890861275476661,0.6522024983563444,0.7100591715976332,0.7626561472715319,0.8099934253780408,0.8520710059171598,0.8888888888888888,0.9204470742932281,0.9467455621301775,0.967784352399737,0.9835634451019066,0.9940828402366864,0.9993425378040762,0.9993425378040762,0.9940828402366864,0.9835634451019066,0.967784352399737,0.9467455621301775,0.920447074293228,0.888888888888889,0.8520710059171598,0.8099934253780408,0.7626561472715319,0.710059171597633,0.6522024983563446,0.5890861275476661,0.5207100591715976,0.4470742932281393,0.3681788297172912,0.28402366863905304,0.19460880999342556,0.09993425378040766,0.0],\"type\":\"scatter\",\"name\":\"u exact\",\"x\":[-1.0,-0.9487179487179487,-0.8974358974358974,-0.8461538461538463,-0.7948717948717949,-0.7435897435897436,-0.6923076923076923,-0.641025641025641,-0.5897435897435899,-0.5384615384615383,-0.4871794871794872,-0.4358974358974359,-0.3846153846153846,-0.3333333333333334,-0.282051282051282,-0.23076923076923078,-0.17948717948717952,-0.1282051282051282,-0.07692307692307687,-0.025641025641025605,0.02564102564102555,0.07692307692307687,0.1282051282051282,0.17948717948717952,0.23076923076923084,0.28205128205128216,0.33333333333333326,0.3846153846153846,0.4358974358974359,0.4871794871794872,0.5384615384615385,0.5897435897435896,0.641025641025641,0.6923076923076923,0.7435897435897436,0.7948717948717949,0.8461538461538463,0.8974358974358974,0.9487179487179487,1.0]},{\"mode\":\"markers\",\"y\":[0.0718363513348298,0.1767895096240859,0.34831932168078195,0.513821039212637,0.6726050024533187,0.8240560327632241,0.9676291765650985,1.1028454492796498,1.229287579261163,1.3465957517331182,1.4544633527238005,1.5526327130019224,1.6408908520122332,1.7190652218111373,1.7870194510023099,1.8446490886723093,1.891877348326196,1.9286508518231453,1.9549353733120638,1.9707115831672042,1.9759707919237814,1.9707106942135866,1.9549311127006035,1.928629742016624,1.8917978926968626,1.844416235115573,1.7864505434216615,1.7178474394743033,1.6385301367785585,1.5483941844209859,1.44730321100526,1.3350846685877857,1.2115255766133124,1.0763682658505516,0.9293061223277902,0.7699793312685072,0.5979706210269877,0.4128010070239404,0.21392553568210898,0.10543491112814736],\"type\":\"scatter\",\"name\":\"u approx (u_h)\",\"x\":[-1.0,-0.9487179487179487,-0.8974358974358974,-0.8461538461538463,-0.7948717948717949,-0.7435897435897436,-0.6923076923076923,-0.641025641025641,-0.5897435897435899,-0.5384615384615383,-0.4871794871794872,-0.4358974358974359,-0.3846153846153846,-0.3333333333333334,-0.282051282051282,-0.23076923076923078,-0.17948717948717952,-0.1282051282051282,-0.07692307692307687,-0.025641025641025605,0.02564102564102555,0.07692307692307687,0.1282051282051282,0.17948717948717952,0.23076923076923084,0.28205128205128216,0.33333333333333326,0.3846153846153846,0.4358974358974359,0.4871794871794872,0.5384615384615385,0.5897435897435896,0.641025641025641,0.6923076923076923,0.7435897435897436,0.7948717948717949,0.8461538461538463,0.8974358974358974,0.9487179487179487,1.0]}],{\"xaxis\":{\"title\":\"x\"},\"margin\":{\"l\":50,\"b\":50,\"r\":50,\"t\":60},\"title\":\"Functions\",\"yaxis\":{\"title\":\"u\"}},{}); gd.on(\"plotly_hover\",(function (data){var filtered_data=WebIO.PlotlyCommands.filterEventData(gd,data,\"hover\"); return !(filtered_data.isnil) ? (WebIO.setval({\"name\":\"hover\",\"scope\":\"13750664746823314865\",\"id\":\"15911901643706212420\",\"type\":\"observable\"},filtered_data.out)) : undefined})); gd.on(\"plotly_unhover\",(function (){return WebIO.setval({\"name\":\"hover\",\"scope\":\"13750664746823314865\",\"id\":\"15911901643706212420\",\"type\":\"observable\"},{})})); gd.on(\"plotly_selected\",(function (data){var filtered_data=WebIO.PlotlyCommands.filterEventData(gd,data,\"selected\"); return !(filtered_data.isnil) ? (WebIO.setval({\"name\":\"selected\",\"scope\":\"13750664746823314865\",\"id\":\"11433967205508087386\",\"type\":\"observable\"},filtered_data.out)) : undefined})); gd.on(\"plotly_deselect\",(function (){return WebIO.setval({\"name\":\"selected\",\"scope\":\"13750664746823314865\",\"id\":\"11433967205508087386\",\"type\":\"observable\"},{})})); gd.on(\"plotly_relayout\",(function (data){var filtered_data=WebIO.PlotlyCommands.filterEventData(gd,data,\"relayout\"); return !(filtered_data.isnil) ? (WebIO.setval({\"name\":\"relayout\",\"scope\":\"13750664746823314865\",\"id\":\"15377106371039726769\",\"type\":\"observable\"},filtered_data.out)) : undefined})); return gd.on(\"plotly_click\",(function (data){var filtered_data=WebIO.PlotlyCommands.filterEventData(gd,data,\"click\"); return !(filtered_data.isnil) ? (WebIO.setval({\"name\":\"click\",\"scope\":\"13750664746823314865\",\"id\":\"15035681886317712312\",\"type\":\"observable\"},filtered_data.out)) : undefined}))}));\n    (WebIO.importBlock({\"data\":[{\"name\":\"Plotly\",\"type\":\"js\",\"url\":\"/assetserver/c843c6635296ea5f415808032e6c1f322a3239cd-plotly.min.js\"},{\"name\":null,\"type\":\"js\",\"url\":\"/assetserver/44e1943a6c8ed4b38e47f64f07dc32566142c8ee-plotly_webio.bundle.js\"}],\"type\":\"async_block\"})).then((imports) => handler.apply(this, imports));\n}\n"
        ],
        "observables": {
         "__gd_contents": {
          "id": "12103900329966207755",
          "sync": false,
          "value": {}
         },
         "__get_gd_contents": {
          "id": "16633167407708696560",
          "sync": false,
          "value": ""
         },
         "_commands": {
          "id": "16661486319685214769",
          "sync": false,
          "value": []
         },
         "_downloadImage": {
          "id": "6496570231060434172",
          "sync": false,
          "value": {}
         },
         "_toImage": {
          "id": "626175083811725612",
          "sync": false,
          "value": {}
         },
         "click": {
          "id": "15035681886317712312",
          "sync": false,
          "value": {}
         },
         "hover": {
          "id": "15911901643706212420",
          "sync": false,
          "value": {}
         },
         "image": {
          "id": "2829475825021338031",
          "sync": true,
          "value": ""
         },
         "relayout": {
          "id": "15377106371039726769",
          "sync": false,
          "value": {}
         },
         "selected": {
          "id": "11433967205508087386",
          "sync": false,
          "value": {}
         }
        },
        "systemjs_options": null
       },
       "nodeType": "Scope",
       "props": {},
       "type": "node"
      },
      "image/png": "[encoded data removed]",
      "text/html": [
       "<div\n",
       "    class=\"webio-mountpoint\"\n",
       "    data-webio-mountpoint=\"5146303821461103371\"\n",
       ">\n",
       "    <script>\n",
       "    (function(){\n",
       "    // Some integrations (namely, IJulia/Jupyter) use an alternate render pathway than\n",
       "    // just putting the html on the page. If WebIO isn't defined, then it's pretty likely\n",
       "    // that we're in one of those situations and the integration just isn't installed\n",
       "    // correctly.\n",
       "    if (typeof window.WebIO === \"undefined\") {\n",
       "        document\n",
       "            .querySelector('[data-webio-mountpoint=\"5146303821461103371\"]')\n",
       "            .innerHTML = (\n",
       "                '<div style=\"padding: 1em; background-color: #f8d6da; border: 1px solid #f5c6cb; font-weight: bold;\">' +\n",
       "                '<p><strong>WebIO not detected.</strong></p>' +\n",
       "                '<p>Please read ' +\n",
       "                '<a href=\"https://juliagizmos.github.io/WebIO.jl/latest/troubleshooting/not-detected/\" target=\"_blank\">the troubleshooting guide</a> ' +\n",
       "                'for more information on how to resolve this issue.</p>' +\n",
       "                '<p><a href=\"https://juliagizmos.github.io/WebIO.jl/latest/troubleshooting/not-detected/\" target=\"_blank\">https://juliagizmos.github.io/WebIO.jl/latest/troubleshooting/not-detected/</a></p>' +\n",
       "                '</div>'\n",
       "            );\n",
       "        return;\n",
       "    }\n",
       "    WebIO.mount(\n",
       "        document.querySelector('[data-webio-mountpoint=\"5146303821461103371\"]'),\n",
       "        {\"props\":{},\"nodeType\":\"Scope\",\"type\":\"node\",\"instanceArgs\":{\"imports\":{\"data\":[{\"name\":\"Plotly\",\"type\":\"js\",\"url\":\"\\/assetserver\\/c843c6635296ea5f415808032e6c1f322a3239cd-plotly.min.js\"},{\"name\":null,\"type\":\"js\",\"url\":\"\\/assetserver\\/44e1943a6c8ed4b38e47f64f07dc32566142c8ee-plotly_webio.bundle.js\"}],\"type\":\"async_block\"},\"id\":\"13750664746823314865\",\"handlers\":{\"_toImage\":[\"(function (options){return this.Plotly.toImage(this.plotElem,options).then((function (data){return WebIO.setval({\\\"name\\\":\\\"image\\\",\\\"scope\\\":\\\"13750664746823314865\\\",\\\"id\\\":\\\"2829475825021338031\\\",\\\"type\\\":\\\"observable\\\"},data)}))})\"],\"__get_gd_contents\":[\"(function (prop){prop==\\\"data\\\" ? (WebIO.setval({\\\"name\\\":\\\"__gd_contents\\\",\\\"scope\\\":\\\"13750664746823314865\\\",\\\"id\\\":\\\"12103900329966207755\\\",\\\"type\\\":\\\"observable\\\"},this.plotElem.data)) : undefined; return prop==\\\"layout\\\" ? (WebIO.setval({\\\"name\\\":\\\"__gd_contents\\\",\\\"scope\\\":\\\"13750664746823314865\\\",\\\"id\\\":\\\"12103900329966207755\\\",\\\"type\\\":\\\"observable\\\"},this.plotElem.layout)) : undefined})\"],\"_downloadImage\":[\"(function (options){return this.Plotly.downloadImage(this.plotElem,options)})\"],\"_commands\":[\"(function (args){var fn=args.shift(); var elem=this.plotElem; var Plotly=this.Plotly; args.unshift(elem); return Plotly[fn].apply(this,args)})\"]},\"systemjs_options\":null,\"mount_callbacks\":[\"function () {\\n    var handler = ((function (Plotly,PlotlyWebIO){PlotlyWebIO.init(WebIO); var gd=this.dom.querySelector(\\\"#plot-a184a5b2-8220-4486-aa77-a19dff285dcb\\\"); this.plotElem=gd; this.Plotly=Plotly; (window.Blink!==undefined) ? (gd.style.width=\\\"100%\\\", gd.style.height=\\\"100vh\\\", gd.style.marginLeft=\\\"0%\\\", gd.style.marginTop=\\\"0vh\\\") : undefined; window.onresize=(function (){return Plotly.Plots.resize(gd)}); Plotly.newPlot(gd,[{\\\"mode\\\":\\\"lines\\\",\\\"y\\\":[0.0,0.09993425378040766,0.19460880999342556,0.28402366863905304,0.3681788297172912,0.4470742932281393,0.5207100591715976,0.5890861275476661,0.6522024983563444,0.7100591715976332,0.7626561472715319,0.8099934253780408,0.8520710059171598,0.8888888888888888,0.9204470742932281,0.9467455621301775,0.967784352399737,0.9835634451019066,0.9940828402366864,0.9993425378040762,0.9993425378040762,0.9940828402366864,0.9835634451019066,0.967784352399737,0.9467455621301775,0.920447074293228,0.888888888888889,0.8520710059171598,0.8099934253780408,0.7626561472715319,0.710059171597633,0.6522024983563446,0.5890861275476661,0.5207100591715976,0.4470742932281393,0.3681788297172912,0.28402366863905304,0.19460880999342556,0.09993425378040766,0.0],\\\"type\\\":\\\"scatter\\\",\\\"name\\\":\\\"u exact\\\",\\\"x\\\":[-1.0,-0.9487179487179487,-0.8974358974358974,-0.8461538461538463,-0.7948717948717949,-0.7435897435897436,-0.6923076923076923,-0.641025641025641,-0.5897435897435899,-0.5384615384615383,-0.4871794871794872,-0.4358974358974359,-0.3846153846153846,-0.3333333333333334,-0.282051282051282,-0.23076923076923078,-0.17948717948717952,-0.1282051282051282,-0.07692307692307687,-0.025641025641025605,0.02564102564102555,0.07692307692307687,0.1282051282051282,0.17948717948717952,0.23076923076923084,0.28205128205128216,0.33333333333333326,0.3846153846153846,0.4358974358974359,0.4871794871794872,0.5384615384615385,0.5897435897435896,0.641025641025641,0.6923076923076923,0.7435897435897436,0.7948717948717949,0.8461538461538463,0.8974358974358974,0.9487179487179487,1.0]},{\\\"mode\\\":\\\"markers\\\",\\\"y\\\":[0.0718363513348298,0.1767895096240859,0.34831932168078195,0.513821039212637,0.6726050024533187,0.8240560327632241,0.9676291765650985,1.1028454492796498,1.229287579261163,1.3465957517331182,1.4544633527238005,1.5526327130019224,1.6408908520122332,1.7190652218111373,1.7870194510023099,1.8446490886723093,1.891877348326196,1.9286508518231453,1.9549353733120638,1.9707115831672042,1.9759707919237814,1.9707106942135866,1.9549311127006035,1.928629742016624,1.8917978926968626,1.844416235115573,1.7864505434216615,1.7178474394743033,1.6385301367785585,1.5483941844209859,1.44730321100526,1.3350846685877857,1.2115255766133124,1.0763682658505516,0.9293061223277902,0.7699793312685072,0.5979706210269877,0.4128010070239404,0.21392553568210898,0.10543491112814736],\\\"type\\\":\\\"scatter\\\",\\\"name\\\":\\\"u approx (u_h)\\\",\\\"x\\\":[-1.0,-0.9487179487179487,-0.8974358974358974,-0.8461538461538463,-0.7948717948717949,-0.7435897435897436,-0.6923076923076923,-0.641025641025641,-0.5897435897435899,-0.5384615384615383,-0.4871794871794872,-0.4358974358974359,-0.3846153846153846,-0.3333333333333334,-0.282051282051282,-0.23076923076923078,-0.17948717948717952,-0.1282051282051282,-0.07692307692307687,-0.025641025641025605,0.02564102564102555,0.07692307692307687,0.1282051282051282,0.17948717948717952,0.23076923076923084,0.28205128205128216,0.33333333333333326,0.3846153846153846,0.4358974358974359,0.4871794871794872,0.5384615384615385,0.5897435897435896,0.641025641025641,0.6923076923076923,0.7435897435897436,0.7948717948717949,0.8461538461538463,0.8974358974358974,0.9487179487179487,1.0]}],{\\\"xaxis\\\":{\\\"title\\\":\\\"x\\\"},\\\"margin\\\":{\\\"l\\\":50,\\\"b\\\":50,\\\"r\\\":50,\\\"t\\\":60},\\\"title\\\":\\\"Functions\\\",\\\"yaxis\\\":{\\\"title\\\":\\\"u\\\"}},{}); gd.on(\\\"plotly_hover\\\",(function (data){var filtered_data=WebIO.PlotlyCommands.filterEventData(gd,data,\\\"hover\\\"); return !(filtered_data.isnil) ? (WebIO.setval({\\\"name\\\":\\\"hover\\\",\\\"scope\\\":\\\"13750664746823314865\\\",\\\"id\\\":\\\"15911901643706212420\\\",\\\"type\\\":\\\"observable\\\"},filtered_data.out)) : undefined})); gd.on(\\\"plotly_unhover\\\",(function (){return WebIO.setval({\\\"name\\\":\\\"hover\\\",\\\"scope\\\":\\\"13750664746823314865\\\",\\\"id\\\":\\\"15911901643706212420\\\",\\\"type\\\":\\\"observable\\\"},{})})); gd.on(\\\"plotly_selected\\\",(function (data){var filtered_data=WebIO.PlotlyCommands.filterEventData(gd,data,\\\"selected\\\"); return !(filtered_data.isnil) ? (WebIO.setval({\\\"name\\\":\\\"selected\\\",\\\"scope\\\":\\\"13750664746823314865\\\",\\\"id\\\":\\\"11433967205508087386\\\",\\\"type\\\":\\\"observable\\\"},filtered_data.out)) : undefined})); gd.on(\\\"plotly_deselect\\\",(function (){return WebIO.setval({\\\"name\\\":\\\"selected\\\",\\\"scope\\\":\\\"13750664746823314865\\\",\\\"id\\\":\\\"11433967205508087386\\\",\\\"type\\\":\\\"observable\\\"},{})})); gd.on(\\\"plotly_relayout\\\",(function (data){var filtered_data=WebIO.PlotlyCommands.filterEventData(gd,data,\\\"relayout\\\"); return !(filtered_data.isnil) ? (WebIO.setval({\\\"name\\\":\\\"relayout\\\",\\\"scope\\\":\\\"13750664746823314865\\\",\\\"id\\\":\\\"15377106371039726769\\\",\\\"type\\\":\\\"observable\\\"},filtered_data.out)) : undefined})); return gd.on(\\\"plotly_click\\\",(function (data){var filtered_data=WebIO.PlotlyCommands.filterEventData(gd,data,\\\"click\\\"); return !(filtered_data.isnil) ? (WebIO.setval({\\\"name\\\":\\\"click\\\",\\\"scope\\\":\\\"13750664746823314865\\\",\\\"id\\\":\\\"15035681886317712312\\\",\\\"type\\\":\\\"observable\\\"},filtered_data.out)) : undefined}))}));\\n    (WebIO.importBlock({\\\"data\\\":[{\\\"name\\\":\\\"Plotly\\\",\\\"type\\\":\\\"js\\\",\\\"url\\\":\\\"\\/assetserver\\/c843c6635296ea5f415808032e6c1f322a3239cd-plotly.min.js\\\"},{\\\"name\\\":null,\\\"type\\\":\\\"js\\\",\\\"url\\\":\\\"\\/assetserver\\/44e1943a6c8ed4b38e47f64f07dc32566142c8ee-plotly_webio.bundle.js\\\"}],\\\"type\\\":\\\"async_block\\\"})).then((imports) => handler.apply(this, imports));\\n}\\n\"],\"observables\":{\"_toImage\":{\"sync\":false,\"id\":\"626175083811725612\",\"value\":{}},\"hover\":{\"sync\":false,\"id\":\"15911901643706212420\",\"value\":{}},\"selected\":{\"sync\":false,\"id\":\"11433967205508087386\",\"value\":{}},\"__gd_contents\":{\"sync\":false,\"id\":\"12103900329966207755\",\"value\":{}},\"click\":{\"sync\":false,\"id\":\"15035681886317712312\",\"value\":{}},\"image\":{\"sync\":true,\"id\":\"2829475825021338031\",\"value\":\"\"},\"__get_gd_contents\":{\"sync\":false,\"id\":\"16633167407708696560\",\"value\":\"\"},\"_downloadImage\":{\"sync\":false,\"id\":\"6496570231060434172\",\"value\":{}},\"relayout\":{\"sync\":false,\"id\":\"15377106371039726769\",\"value\":{}},\"_commands\":{\"sync\":false,\"id\":\"16661486319685214769\",\"value\":[]}}},\"children\":[{\"props\":{\"id\":\"plot-a184a5b2-8220-4486-aa77-a19dff285dcb\"},\"nodeType\":\"DOM\",\"type\":\"node\",\"instanceArgs\":{\"namespace\":\"html\",\"tag\":\"div\"},\"children\":[]}]},\n",
       "        window,\n",
       "    );\n",
       "    })()\n",
       "    </script>\n",
       "</div>\n"
      ],
      "text/plain": [
       "data: [\n",
       "  \"scatter with fields mode, name, type, x, and y\",\n",
       "  \"scatter with fields mode, name, type, x, and y\"\n",
       "]\n",
       "\n",
       "layout: \"layout with fields margin, title, xaxis, and yaxis\"\n",
       "\n"
      ]
     },
     "execution_count": 62,
     "metadata": {},
     "output_type": "execute_result"
    }
   ],
   "source": [
    "uh3 = Mf\\bf;\n",
    "uexact(x) = 1 - x^2;\n",
    "\n",
    "plot([scatter(x=x , y=uexact.(x) ,mode=\"lines\", name=\"u exact\"), scatter(x=x , y=uh3[:,1] ,mode=\"markers\", name=\"u approx (u_h)\")],\n",
    "     Layout(title=\"Function Solution with Robin Boundary Conditions\",  xaxis_title=\"x\",  yaxis_title=\"u\"))"
   ]
  },
  {
   "cell_type": "markdown",
   "id": "51a2b9c9-e0ca-4f14-a5a2-d710333a128d",
   "metadata": {},
   "source": [
    "#### e) \n",
    "Solving using Dirichlet boundary "
   ]
  },
  {
   "cell_type": "code",
   "execution_count": 65,
   "id": "bf1d7ceb-07bd-4c02-8947-a24550fbd96a",
   "metadata": {},
   "outputs": [
    {
     "data": {
      "application/vnd.plotly.v1+json": {
       "data": [
        {
         "mode": "lines",
         "name": "u exact",
         "type": "scatter",
         "x": [
          -1,
          -0.9487179487179487,
          -0.8974358974358974,
          -0.8461538461538463,
          -0.7948717948717949,
          -0.7435897435897436,
          -0.6923076923076923,
          -0.641025641025641,
          -0.5897435897435899,
          -0.5384615384615383,
          -0.4871794871794872,
          -0.4358974358974359,
          -0.3846153846153846,
          -0.3333333333333334,
          -0.282051282051282,
          -0.23076923076923078,
          -0.17948717948717952,
          -0.1282051282051282,
          -0.07692307692307687,
          -0.025641025641025605,
          0.02564102564102555,
          0.07692307692307687,
          0.1282051282051282,
          0.17948717948717952,
          0.23076923076923084,
          0.28205128205128216,
          0.33333333333333326,
          0.3846153846153846,
          0.4358974358974359,
          0.4871794871794872,
          0.5384615384615385,
          0.5897435897435896,
          0.641025641025641,
          0.6923076923076923,
          0.7435897435897436,
          0.7948717948717949,
          0.8461538461538463,
          0.8974358974358974,
          0.9487179487179487,
          1
         ],
         "y": [
          0,
          0.09993425378040766,
          0.19460880999342556,
          0.28402366863905304,
          0.3681788297172912,
          0.4470742932281393,
          0.5207100591715976,
          0.5890861275476661,
          0.6522024983563444,
          0.7100591715976332,
          0.7626561472715319,
          0.8099934253780408,
          0.8520710059171598,
          0.8888888888888888,
          0.9204470742932281,
          0.9467455621301775,
          0.967784352399737,
          0.9835634451019066,
          0.9940828402366864,
          0.9993425378040762,
          0.9993425378040762,
          0.9940828402366864,
          0.9835634451019066,
          0.967784352399737,
          0.9467455621301775,
          0.920447074293228,
          0.888888888888889,
          0.8520710059171598,
          0.8099934253780408,
          0.7626561472715319,
          0.710059171597633,
          0.6522024983563446,
          0.5890861275476661,
          0.5207100591715976,
          0.4470742932281393,
          0.3681788297172912,
          0.28402366863905304,
          0.19460880999342556,
          0.09993425378040766,
          0
         ]
        },
        {
         "mode": "markers",
         "name": "u approx (u_h)",
         "type": "scatter",
         "x": [
          -1,
          -0.9487179487179487,
          -0.8974358974358974,
          -0.8461538461538463,
          -0.7948717948717949,
          -0.7435897435897436,
          -0.6923076923076923,
          -0.641025641025641,
          -0.5897435897435899,
          -0.5384615384615383,
          -0.4871794871794872,
          -0.4358974358974359,
          -0.3846153846153846,
          -0.3333333333333334,
          -0.282051282051282,
          -0.23076923076923078,
          -0.17948717948717952,
          -0.1282051282051282,
          -0.07692307692307687,
          -0.025641025641025605,
          0.02564102564102555,
          0.07692307692307687,
          0.1282051282051282,
          0.17948717948717952,
          0.23076923076923084,
          0.28205128205128216,
          0.33333333333333326,
          0.3846153846153846,
          0.4358974358974359,
          0.4871794871794872,
          0.5384615384615385,
          0.5897435897435896,
          0.641025641025641,
          0.6923076923076923,
          0.7435897435897436,
          0.7948717948717949,
          0.8461538461538463,
          0.8974358974358974,
          0.9487179487179487,
          1
         ],
         "y": [
          0,
          0.1767895096240859,
          0.34831932168078195,
          0.513821039212637,
          0.6726050024533187,
          0.8240560327632241,
          0.9676291765650985,
          1.1028454492796498,
          1.229287579261163,
          1.3465957517331182,
          1.4544633527238005,
          1.5526327130019224,
          1.6408908520122332,
          1.7190652218111373,
          1.7870194510023099,
          1.8446490886723093,
          1.891877348326196,
          1.9286508518231453,
          1.9549353733120638,
          1.9707115831672042,
          1.9759707919237814,
          1.9707106942135866,
          1.9549311127006035,
          1.928629742016624,
          1.8917978926968626,
          1.844416235115573,
          1.7864505434216615,
          1.7178474394743033,
          1.6385301367785585,
          1.5483941844209859,
          1.44730321100526,
          1.3350846685877857,
          1.2115255766133124,
          1.0763682658505516,
          0.9293061223277902,
          0.7699793312685072,
          0.5979706210269877,
          0.4128010070239404,
          0.21392553568210898,
          0
         ]
        }
       ],
       "frames": [],
       "layout": {
        "autosize": true,
        "margin": {
         "b": 50,
         "l": 50,
         "r": 50,
         "t": 60
        },
        "title": {
         "text": "Function Solution with Dirichelt Boundary Conditions"
        },
        "xaxis": {
         "autorange": true,
         "range": [
          -1.1209964412811388,
          1.1209964412811388
         ],
         "title": {
          "text": "x"
         },
         "type": "linear"
        },
        "yaxis": {
         "autorange": true,
         "range": [
          -0.14763000169545493,
          2.1236007936192363
         ],
         "title": {
          "text": "u"
         },
         "type": "linear"
        }
       }
      },
      "application/vnd.webio.node+json": {
       "children": [
        {
         "children": [],
         "instanceArgs": {
          "namespace": "html",
          "tag": "div"
         },
         "nodeType": "DOM",
         "props": {
          "id": "plot-e2c02726-5853-4baa-bcd0-de9b11ffbee2"
         },
         "type": "node"
        }
       ],
       "instanceArgs": {
        "handlers": {
         "__get_gd_contents": [
          "(function (prop){prop==\"data\" ? (WebIO.setval({\"name\":\"__gd_contents\",\"scope\":\"12741071861910371263\",\"id\":\"140871728541583963\",\"type\":\"observable\"},this.plotElem.data)) : undefined; return prop==\"layout\" ? (WebIO.setval({\"name\":\"__gd_contents\",\"scope\":\"12741071861910371263\",\"id\":\"140871728541583963\",\"type\":\"observable\"},this.plotElem.layout)) : undefined})"
         ],
         "_commands": [
          "(function (args){var fn=args.shift(); var elem=this.plotElem; var Plotly=this.Plotly; args.unshift(elem); return Plotly[fn].apply(this,args)})"
         ],
         "_downloadImage": [
          "(function (options){return this.Plotly.downloadImage(this.plotElem,options)})"
         ],
         "_toImage": [
          "(function (options){return this.Plotly.toImage(this.plotElem,options).then((function (data){return WebIO.setval({\"name\":\"image\",\"scope\":\"12741071861910371263\",\"id\":\"14021368961583610042\",\"type\":\"observable\"},data)}))})"
         ]
        },
        "id": "12741071861910371263",
        "imports": {
         "data": [
          {
           "name": "Plotly",
           "type": "js",
           "url": "/assetserver/c843c6635296ea5f415808032e6c1f322a3239cd-plotly.min.js"
          },
          {
           "name": null,
           "type": "js",
           "url": "/assetserver/44e1943a6c8ed4b38e47f64f07dc32566142c8ee-plotly_webio.bundle.js"
          }
         ],
         "type": "async_block"
        },
        "mount_callbacks": [
         "function () {\n    var handler = ((function (Plotly,PlotlyWebIO){PlotlyWebIO.init(WebIO); var gd=this.dom.querySelector(\"#plot-e2c02726-5853-4baa-bcd0-de9b11ffbee2\"); this.plotElem=gd; this.Plotly=Plotly; (window.Blink!==undefined) ? (gd.style.width=\"100%\", gd.style.height=\"100vh\", gd.style.marginLeft=\"0%\", gd.style.marginTop=\"0vh\") : undefined; window.onresize=(function (){return Plotly.Plots.resize(gd)}); Plotly.newPlot(gd,[{\"mode\":\"lines\",\"y\":[0.0,0.09993425378040766,0.19460880999342556,0.28402366863905304,0.3681788297172912,0.4470742932281393,0.5207100591715976,0.5890861275476661,0.6522024983563444,0.7100591715976332,0.7626561472715319,0.8099934253780408,0.8520710059171598,0.8888888888888888,0.9204470742932281,0.9467455621301775,0.967784352399737,0.9835634451019066,0.9940828402366864,0.9993425378040762,0.9993425378040762,0.9940828402366864,0.9835634451019066,0.967784352399737,0.9467455621301775,0.920447074293228,0.888888888888889,0.8520710059171598,0.8099934253780408,0.7626561472715319,0.710059171597633,0.6522024983563446,0.5890861275476661,0.5207100591715976,0.4470742932281393,0.3681788297172912,0.28402366863905304,0.19460880999342556,0.09993425378040766,0.0],\"type\":\"scatter\",\"name\":\"u exact\",\"x\":[-1.0,-0.9487179487179487,-0.8974358974358974,-0.8461538461538463,-0.7948717948717949,-0.7435897435897436,-0.6923076923076923,-0.641025641025641,-0.5897435897435899,-0.5384615384615383,-0.4871794871794872,-0.4358974358974359,-0.3846153846153846,-0.3333333333333334,-0.282051282051282,-0.23076923076923078,-0.17948717948717952,-0.1282051282051282,-0.07692307692307687,-0.025641025641025605,0.02564102564102555,0.07692307692307687,0.1282051282051282,0.17948717948717952,0.23076923076923084,0.28205128205128216,0.33333333333333326,0.3846153846153846,0.4358974358974359,0.4871794871794872,0.5384615384615385,0.5897435897435896,0.641025641025641,0.6923076923076923,0.7435897435897436,0.7948717948717949,0.8461538461538463,0.8974358974358974,0.9487179487179487,1.0]},{\"mode\":\"markers\",\"y\":[0.0,0.1767895096240859,0.34831932168078195,0.513821039212637,0.6726050024533187,0.8240560327632241,0.9676291765650985,1.1028454492796498,1.229287579261163,1.3465957517331182,1.4544633527238005,1.5526327130019224,1.6408908520122332,1.7190652218111373,1.7870194510023099,1.8446490886723093,1.891877348326196,1.9286508518231453,1.9549353733120638,1.9707115831672042,1.9759707919237814,1.9707106942135866,1.9549311127006035,1.928629742016624,1.8917978926968626,1.844416235115573,1.7864505434216615,1.7178474394743033,1.6385301367785585,1.5483941844209859,1.44730321100526,1.3350846685877857,1.2115255766133124,1.0763682658505516,0.9293061223277902,0.7699793312685072,0.5979706210269877,0.4128010070239404,0.21392553568210898,0.0],\"type\":\"scatter\",\"name\":\"u approx (u_h)\",\"x\":[-1.0,-0.9487179487179487,-0.8974358974358974,-0.8461538461538463,-0.7948717948717949,-0.7435897435897436,-0.6923076923076923,-0.641025641025641,-0.5897435897435899,-0.5384615384615383,-0.4871794871794872,-0.4358974358974359,-0.3846153846153846,-0.3333333333333334,-0.282051282051282,-0.23076923076923078,-0.17948717948717952,-0.1282051282051282,-0.07692307692307687,-0.025641025641025605,0.02564102564102555,0.07692307692307687,0.1282051282051282,0.17948717948717952,0.23076923076923084,0.28205128205128216,0.33333333333333326,0.3846153846153846,0.4358974358974359,0.4871794871794872,0.5384615384615385,0.5897435897435896,0.641025641025641,0.6923076923076923,0.7435897435897436,0.7948717948717949,0.8461538461538463,0.8974358974358974,0.9487179487179487,1.0]}],{\"xaxis\":{\"title\":\"x\"},\"margin\":{\"l\":50,\"b\":50,\"r\":50,\"t\":60},\"title\":\"Function Solution with Dirichelt Boundary Conditions\",\"yaxis\":{\"title\":\"u\"}},{}); gd.on(\"plotly_hover\",(function (data){var filtered_data=WebIO.PlotlyCommands.filterEventData(gd,data,\"hover\"); return !(filtered_data.isnil) ? (WebIO.setval({\"name\":\"hover\",\"scope\":\"12741071861910371263\",\"id\":\"14978268934488203919\",\"type\":\"observable\"},filtered_data.out)) : undefined})); gd.on(\"plotly_unhover\",(function (){return WebIO.setval({\"name\":\"hover\",\"scope\":\"12741071861910371263\",\"id\":\"14978268934488203919\",\"type\":\"observable\"},{})})); gd.on(\"plotly_selected\",(function (data){var filtered_data=WebIO.PlotlyCommands.filterEventData(gd,data,\"selected\"); return !(filtered_data.isnil) ? (WebIO.setval({\"name\":\"selected\",\"scope\":\"12741071861910371263\",\"id\":\"16779556989246050157\",\"type\":\"observable\"},filtered_data.out)) : undefined})); gd.on(\"plotly_deselect\",(function (){return WebIO.setval({\"name\":\"selected\",\"scope\":\"12741071861910371263\",\"id\":\"16779556989246050157\",\"type\":\"observable\"},{})})); gd.on(\"plotly_relayout\",(function (data){var filtered_data=WebIO.PlotlyCommands.filterEventData(gd,data,\"relayout\"); return !(filtered_data.isnil) ? (WebIO.setval({\"name\":\"relayout\",\"scope\":\"12741071861910371263\",\"id\":\"12909980262657954594\",\"type\":\"observable\"},filtered_data.out)) : undefined})); return gd.on(\"plotly_click\",(function (data){var filtered_data=WebIO.PlotlyCommands.filterEventData(gd,data,\"click\"); return !(filtered_data.isnil) ? (WebIO.setval({\"name\":\"click\",\"scope\":\"12741071861910371263\",\"id\":\"17293288146702784601\",\"type\":\"observable\"},filtered_data.out)) : undefined}))}));\n    (WebIO.importBlock({\"data\":[{\"name\":\"Plotly\",\"type\":\"js\",\"url\":\"/assetserver/c843c6635296ea5f415808032e6c1f322a3239cd-plotly.min.js\"},{\"name\":null,\"type\":\"js\",\"url\":\"/assetserver/44e1943a6c8ed4b38e47f64f07dc32566142c8ee-plotly_webio.bundle.js\"}],\"type\":\"async_block\"})).then((imports) => handler.apply(this, imports));\n}\n"
        ],
        "observables": {
         "__gd_contents": {
          "id": "140871728541583963",
          "sync": false,
          "value": {}
         },
         "__get_gd_contents": {
          "id": "12834674148595774188",
          "sync": false,
          "value": ""
         },
         "_commands": {
          "id": "5013026337256409425",
          "sync": false,
          "value": []
         },
         "_downloadImage": {
          "id": "16345266798916072540",
          "sync": false,
          "value": {}
         },
         "_toImage": {
          "id": "770193888497723238",
          "sync": false,
          "value": {}
         },
         "click": {
          "id": "17293288146702784601",
          "sync": false,
          "value": {}
         },
         "hover": {
          "id": "14978268934488203919",
          "sync": false,
          "value": {}
         },
         "image": {
          "id": "14021368961583610042",
          "sync": true,
          "value": ""
         },
         "relayout": {
          "id": "12909980262657954594",
          "sync": false,
          "value": {}
         },
         "selected": {
          "id": "16779556989246050157",
          "sync": false,
          "value": {}
         }
        },
        "systemjs_options": null
       },
       "nodeType": "Scope",
       "props": {},
       "type": "node"
      },
      "image/png": "[encoded data removed]",
      "text/html": [
       "<div\n",
       "    class=\"webio-mountpoint\"\n",
       "    data-webio-mountpoint=\"8456053036218368023\"\n",
       ">\n",
       "    <script>\n",
       "    (function(){\n",
       "    // Some integrations (namely, IJulia/Jupyter) use an alternate render pathway than\n",
       "    // just putting the html on the page. If WebIO isn't defined, then it's pretty likely\n",
       "    // that we're in one of those situations and the integration just isn't installed\n",
       "    // correctly.\n",
       "    if (typeof window.WebIO === \"undefined\") {\n",
       "        document\n",
       "            .querySelector('[data-webio-mountpoint=\"8456053036218368023\"]')\n",
       "            .innerHTML = (\n",
       "                '<div style=\"padding: 1em; background-color: #f8d6da; border: 1px solid #f5c6cb; font-weight: bold;\">' +\n",
       "                '<p><strong>WebIO not detected.</strong></p>' +\n",
       "                '<p>Please read ' +\n",
       "                '<a href=\"https://juliagizmos.github.io/WebIO.jl/latest/troubleshooting/not-detected/\" target=\"_blank\">the troubleshooting guide</a> ' +\n",
       "                'for more information on how to resolve this issue.</p>' +\n",
       "                '<p><a href=\"https://juliagizmos.github.io/WebIO.jl/latest/troubleshooting/not-detected/\" target=\"_blank\">https://juliagizmos.github.io/WebIO.jl/latest/troubleshooting/not-detected/</a></p>' +\n",
       "                '</div>'\n",
       "            );\n",
       "        return;\n",
       "    }\n",
       "    WebIO.mount(\n",
       "        document.querySelector('[data-webio-mountpoint=\"8456053036218368023\"]'),\n",
       "        {\"props\":{},\"nodeType\":\"Scope\",\"type\":\"node\",\"instanceArgs\":{\"imports\":{\"data\":[{\"name\":\"Plotly\",\"type\":\"js\",\"url\":\"\\/assetserver\\/c843c6635296ea5f415808032e6c1f322a3239cd-plotly.min.js\"},{\"name\":null,\"type\":\"js\",\"url\":\"\\/assetserver\\/44e1943a6c8ed4b38e47f64f07dc32566142c8ee-plotly_webio.bundle.js\"}],\"type\":\"async_block\"},\"id\":\"12741071861910371263\",\"handlers\":{\"_toImage\":[\"(function (options){return this.Plotly.toImage(this.plotElem,options).then((function (data){return WebIO.setval({\\\"name\\\":\\\"image\\\",\\\"scope\\\":\\\"12741071861910371263\\\",\\\"id\\\":\\\"14021368961583610042\\\",\\\"type\\\":\\\"observable\\\"},data)}))})\"],\"__get_gd_contents\":[\"(function (prop){prop==\\\"data\\\" ? (WebIO.setval({\\\"name\\\":\\\"__gd_contents\\\",\\\"scope\\\":\\\"12741071861910371263\\\",\\\"id\\\":\\\"140871728541583963\\\",\\\"type\\\":\\\"observable\\\"},this.plotElem.data)) : undefined; return prop==\\\"layout\\\" ? (WebIO.setval({\\\"name\\\":\\\"__gd_contents\\\",\\\"scope\\\":\\\"12741071861910371263\\\",\\\"id\\\":\\\"140871728541583963\\\",\\\"type\\\":\\\"observable\\\"},this.plotElem.layout)) : undefined})\"],\"_downloadImage\":[\"(function (options){return this.Plotly.downloadImage(this.plotElem,options)})\"],\"_commands\":[\"(function (args){var fn=args.shift(); var elem=this.plotElem; var Plotly=this.Plotly; args.unshift(elem); return Plotly[fn].apply(this,args)})\"]},\"systemjs_options\":null,\"mount_callbacks\":[\"function () {\\n    var handler = ((function (Plotly,PlotlyWebIO){PlotlyWebIO.init(WebIO); var gd=this.dom.querySelector(\\\"#plot-e2c02726-5853-4baa-bcd0-de9b11ffbee2\\\"); this.plotElem=gd; this.Plotly=Plotly; (window.Blink!==undefined) ? (gd.style.width=\\\"100%\\\", gd.style.height=\\\"100vh\\\", gd.style.marginLeft=\\\"0%\\\", gd.style.marginTop=\\\"0vh\\\") : undefined; window.onresize=(function (){return Plotly.Plots.resize(gd)}); Plotly.newPlot(gd,[{\\\"mode\\\":\\\"lines\\\",\\\"y\\\":[0.0,0.09993425378040766,0.19460880999342556,0.28402366863905304,0.3681788297172912,0.4470742932281393,0.5207100591715976,0.5890861275476661,0.6522024983563444,0.7100591715976332,0.7626561472715319,0.8099934253780408,0.8520710059171598,0.8888888888888888,0.9204470742932281,0.9467455621301775,0.967784352399737,0.9835634451019066,0.9940828402366864,0.9993425378040762,0.9993425378040762,0.9940828402366864,0.9835634451019066,0.967784352399737,0.9467455621301775,0.920447074293228,0.888888888888889,0.8520710059171598,0.8099934253780408,0.7626561472715319,0.710059171597633,0.6522024983563446,0.5890861275476661,0.5207100591715976,0.4470742932281393,0.3681788297172912,0.28402366863905304,0.19460880999342556,0.09993425378040766,0.0],\\\"type\\\":\\\"scatter\\\",\\\"name\\\":\\\"u exact\\\",\\\"x\\\":[-1.0,-0.9487179487179487,-0.8974358974358974,-0.8461538461538463,-0.7948717948717949,-0.7435897435897436,-0.6923076923076923,-0.641025641025641,-0.5897435897435899,-0.5384615384615383,-0.4871794871794872,-0.4358974358974359,-0.3846153846153846,-0.3333333333333334,-0.282051282051282,-0.23076923076923078,-0.17948717948717952,-0.1282051282051282,-0.07692307692307687,-0.025641025641025605,0.02564102564102555,0.07692307692307687,0.1282051282051282,0.17948717948717952,0.23076923076923084,0.28205128205128216,0.33333333333333326,0.3846153846153846,0.4358974358974359,0.4871794871794872,0.5384615384615385,0.5897435897435896,0.641025641025641,0.6923076923076923,0.7435897435897436,0.7948717948717949,0.8461538461538463,0.8974358974358974,0.9487179487179487,1.0]},{\\\"mode\\\":\\\"markers\\\",\\\"y\\\":[0.0,0.1767895096240859,0.34831932168078195,0.513821039212637,0.6726050024533187,0.8240560327632241,0.9676291765650985,1.1028454492796498,1.229287579261163,1.3465957517331182,1.4544633527238005,1.5526327130019224,1.6408908520122332,1.7190652218111373,1.7870194510023099,1.8446490886723093,1.891877348326196,1.9286508518231453,1.9549353733120638,1.9707115831672042,1.9759707919237814,1.9707106942135866,1.9549311127006035,1.928629742016624,1.8917978926968626,1.844416235115573,1.7864505434216615,1.7178474394743033,1.6385301367785585,1.5483941844209859,1.44730321100526,1.3350846685877857,1.2115255766133124,1.0763682658505516,0.9293061223277902,0.7699793312685072,0.5979706210269877,0.4128010070239404,0.21392553568210898,0.0],\\\"type\\\":\\\"scatter\\\",\\\"name\\\":\\\"u approx (u_h)\\\",\\\"x\\\":[-1.0,-0.9487179487179487,-0.8974358974358974,-0.8461538461538463,-0.7948717948717949,-0.7435897435897436,-0.6923076923076923,-0.641025641025641,-0.5897435897435899,-0.5384615384615383,-0.4871794871794872,-0.4358974358974359,-0.3846153846153846,-0.3333333333333334,-0.282051282051282,-0.23076923076923078,-0.17948717948717952,-0.1282051282051282,-0.07692307692307687,-0.025641025641025605,0.02564102564102555,0.07692307692307687,0.1282051282051282,0.17948717948717952,0.23076923076923084,0.28205128205128216,0.33333333333333326,0.3846153846153846,0.4358974358974359,0.4871794871794872,0.5384615384615385,0.5897435897435896,0.641025641025641,0.6923076923076923,0.7435897435897436,0.7948717948717949,0.8461538461538463,0.8974358974358974,0.9487179487179487,1.0]}],{\\\"xaxis\\\":{\\\"title\\\":\\\"x\\\"},\\\"margin\\\":{\\\"l\\\":50,\\\"b\\\":50,\\\"r\\\":50,\\\"t\\\":60},\\\"title\\\":\\\"Function Solution with Dirichelt Boundary Conditions\\\",\\\"yaxis\\\":{\\\"title\\\":\\\"u\\\"}},{}); gd.on(\\\"plotly_hover\\\",(function (data){var filtered_data=WebIO.PlotlyCommands.filterEventData(gd,data,\\\"hover\\\"); return !(filtered_data.isnil) ? (WebIO.setval({\\\"name\\\":\\\"hover\\\",\\\"scope\\\":\\\"12741071861910371263\\\",\\\"id\\\":\\\"14978268934488203919\\\",\\\"type\\\":\\\"observable\\\"},filtered_data.out)) : undefined})); gd.on(\\\"plotly_unhover\\\",(function (){return WebIO.setval({\\\"name\\\":\\\"hover\\\",\\\"scope\\\":\\\"12741071861910371263\\\",\\\"id\\\":\\\"14978268934488203919\\\",\\\"type\\\":\\\"observable\\\"},{})})); gd.on(\\\"plotly_selected\\\",(function (data){var filtered_data=WebIO.PlotlyCommands.filterEventData(gd,data,\\\"selected\\\"); return !(filtered_data.isnil) ? (WebIO.setval({\\\"name\\\":\\\"selected\\\",\\\"scope\\\":\\\"12741071861910371263\\\",\\\"id\\\":\\\"16779556989246050157\\\",\\\"type\\\":\\\"observable\\\"},filtered_data.out)) : undefined})); gd.on(\\\"plotly_deselect\\\",(function (){return WebIO.setval({\\\"name\\\":\\\"selected\\\",\\\"scope\\\":\\\"12741071861910371263\\\",\\\"id\\\":\\\"16779556989246050157\\\",\\\"type\\\":\\\"observable\\\"},{})})); gd.on(\\\"plotly_relayout\\\",(function (data){var filtered_data=WebIO.PlotlyCommands.filterEventData(gd,data,\\\"relayout\\\"); return !(filtered_data.isnil) ? (WebIO.setval({\\\"name\\\":\\\"relayout\\\",\\\"scope\\\":\\\"12741071861910371263\\\",\\\"id\\\":\\\"12909980262657954594\\\",\\\"type\\\":\\\"observable\\\"},filtered_data.out)) : undefined})); return gd.on(\\\"plotly_click\\\",(function (data){var filtered_data=WebIO.PlotlyCommands.filterEventData(gd,data,\\\"click\\\"); return !(filtered_data.isnil) ? (WebIO.setval({\\\"name\\\":\\\"click\\\",\\\"scope\\\":\\\"12741071861910371263\\\",\\\"id\\\":\\\"17293288146702784601\\\",\\\"type\\\":\\\"observable\\\"},filtered_data.out)) : undefined}))}));\\n    (WebIO.importBlock({\\\"data\\\":[{\\\"name\\\":\\\"Plotly\\\",\\\"type\\\":\\\"js\\\",\\\"url\\\":\\\"\\/assetserver\\/c843c6635296ea5f415808032e6c1f322a3239cd-plotly.min.js\\\"},{\\\"name\\\":null,\\\"type\\\":\\\"js\\\",\\\"url\\\":\\\"\\/assetserver\\/44e1943a6c8ed4b38e47f64f07dc32566142c8ee-plotly_webio.bundle.js\\\"}],\\\"type\\\":\\\"async_block\\\"})).then((imports) => handler.apply(this, imports));\\n}\\n\"],\"observables\":{\"_toImage\":{\"sync\":false,\"id\":\"770193888497723238\",\"value\":{}},\"hover\":{\"sync\":false,\"id\":\"14978268934488203919\",\"value\":{}},\"selected\":{\"sync\":false,\"id\":\"16779556989246050157\",\"value\":{}},\"__gd_contents\":{\"sync\":false,\"id\":\"140871728541583963\",\"value\":{}},\"click\":{\"sync\":false,\"id\":\"17293288146702784601\",\"value\":{}},\"image\":{\"sync\":true,\"id\":\"14021368961583610042\",\"value\":\"\"},\"__get_gd_contents\":{\"sync\":false,\"id\":\"12834674148595774188\",\"value\":\"\"},\"_downloadImage\":{\"sync\":false,\"id\":\"16345266798916072540\",\"value\":{}},\"relayout\":{\"sync\":false,\"id\":\"12909980262657954594\",\"value\":{}},\"_commands\":{\"sync\":false,\"id\":\"5013026337256409425\",\"value\":[]}}},\"children\":[{\"props\":{\"id\":\"plot-e2c02726-5853-4baa-bcd0-de9b11ffbee2\"},\"nodeType\":\"DOM\",\"type\":\"node\",\"instanceArgs\":{\"namespace\":\"html\",\"tag\":\"div\"},\"children\":[]}]},\n",
       "        window,\n",
       "    );\n",
       "    })()\n",
       "    </script>\n",
       "</div>\n"
      ],
      "text/plain": [
       "data: [\n",
       "  \"scatter with fields mode, name, type, x, and y\",\n",
       "  \"scatter with fields mode, name, type, x, and y\"\n",
       "]\n",
       "\n",
       "layout: \"layout with fields margin, title, xaxis, and yaxis\"\n",
       "\n"
      ]
     },
     "execution_count": 65,
     "metadata": {},
     "output_type": "execute_result"
    }
   ],
   "source": [
    "MDC = Stiffness1D_Hom(x,p)\n",
    "ADC = Mass1D_Hom(x,r)\n",
    "bDC = Load1D_hom(x,f)\n",
    "\n",
    "uh3DBC = [0; MDC\\bDC; 0]\n",
    "\n",
    "plot([scatter(x=x , y=uexact.(x) ,mode=\"lines\", name=\"u exact\"), scatter(x=x , y=uh3DBC[:,1] ,mode=\"markers\", name=\"u approx (u_h)\")],\n",
    "     Layout(title=\"Function Solution with Dirichelt Boundary Conditions\",  xaxis_title=\"x\",  yaxis_title=\"u\"))"
   ]
  },
  {
   "cell_type": "markdown",
   "id": "0ae1e541-04c8-4de8-8317-5bd9a19f9ce1",
   "metadata": {},
   "source": [
    "#### f)\n",
    "Mesh points error\n",
    "\n",
    "$$ \\epsilon(x) = |u(x_i)-u_h(x_i)|, \\quad i=0,1,...,n$$"
   ]
  },
  {
   "cell_type": "code",
   "execution_count": 74,
   "id": "2b665e89-5749-466a-a2fd-4309b558fb61",
   "metadata": {},
   "outputs": [
    {
     "data": {
      "application/vnd.plotly.v1+json": {
       "data": [
        {
         "marker": {
          "size": 7,
          "symbol": "square"
         },
         "mode": "markers",
         "name": "Robin BC",
         "type": "scatter",
         "x": [
          -1,
          -0.9487179487179487,
          -0.8974358974358974,
          -0.8461538461538463,
          -0.7948717948717949,
          -0.7435897435897436,
          -0.6923076923076923,
          -0.641025641025641,
          -0.5897435897435899,
          -0.5384615384615383,
          -0.4871794871794872,
          -0.4358974358974359,
          -0.3846153846153846,
          -0.3333333333333334,
          -0.282051282051282,
          -0.23076923076923078,
          -0.17948717948717952,
          -0.1282051282051282,
          -0.07692307692307687,
          -0.025641025641025605,
          0.02564102564102555,
          0.07692307692307687,
          0.1282051282051282,
          0.17948717948717952,
          0.23076923076923084,
          0.28205128205128216,
          0.33333333333333326,
          0.3846153846153846,
          0.4358974358974359,
          0.4871794871794872,
          0.5384615384615385,
          0.5897435897435896,
          0.641025641025641,
          0.6923076923076923,
          0.7435897435897436,
          0.7948717948717949,
          0.8461538461538463,
          0.8974358974358974,
          0.9487179487179487,
          1
         ],
         "y": [
          0.0718363513348298,
          0.07685525584367825,
          0.1537105116873564,
          0.22979737057358396,
          0.30442617273602746,
          0.37698173953508485,
          0.4469191173935009,
          0.5137593217319837,
          0.5770850809048187,
          0.636536580135485,
          0.6918072054522686,
          0.7426392876238816,
          0.7888198460950734,
          0.8301763329222485,
          0.8665723767090817,
          0.8979035265421318,
          0.9240929959264589,
          0.9450874067212387,
          0.9608525330753774,
          0.971369045363128,
          0.9766282541197052,
          0.9766278539769002,
          0.9713676675986969,
          0.960845389616887,
          0.9450523305666851,
          0.923969160822345,
          0.8975616545327726,
          0.8657764335571435,
          0.8285367114005178,
          0.785738037149454,
          0.737244039407627,
          0.6828821702314412,
          0.6224394490656463,
          0.5556582066789539,
          0.4822318290996509,
          0.40180050155121594,
          0.3139469523879347,
          0.21819219703051485,
          0.11399128190170132,
          0.10543491112814736
         ]
        },
        {
         "marker": {
          "size": 5
         },
         "mode": "markers",
         "name": "Dirichelt BC",
         "type": "scatter",
         "x": [
          -1,
          -0.9487179487179487,
          -0.8974358974358974,
          -0.8461538461538463,
          -0.7948717948717949,
          -0.7435897435897436,
          -0.6923076923076923,
          -0.641025641025641,
          -0.5897435897435899,
          -0.5384615384615383,
          -0.4871794871794872,
          -0.4358974358974359,
          -0.3846153846153846,
          -0.3333333333333334,
          -0.282051282051282,
          -0.23076923076923078,
          -0.17948717948717952,
          -0.1282051282051282,
          -0.07692307692307687,
          -0.025641025641025605,
          0.02564102564102555,
          0.07692307692307687,
          0.1282051282051282,
          0.17948717948717952,
          0.23076923076923084,
          0.28205128205128216,
          0.33333333333333326,
          0.3846153846153846,
          0.4358974358974359,
          0.4871794871794872,
          0.5384615384615385,
          0.5897435897435896,
          0.641025641025641,
          0.6923076923076923,
          0.7435897435897436,
          0.7948717948717949,
          0.8461538461538463,
          0.8974358974358974,
          0.9487179487179487,
          1
         ],
         "y": [
          0,
          0.07685525584367825,
          0.1537105116873564,
          0.22979737057358396,
          0.30442617273602746,
          0.37698173953508485,
          0.4469191173935009,
          0.5137593217319837,
          0.5770850809048187,
          0.636536580135485,
          0.6918072054522686,
          0.7426392876238816,
          0.7888198460950734,
          0.8301763329222485,
          0.8665723767090817,
          0.8979035265421318,
          0.9240929959264589,
          0.9450874067212387,
          0.9608525330753774,
          0.971369045363128,
          0.9766282541197052,
          0.9766278539769002,
          0.9713676675986969,
          0.960845389616887,
          0.9450523305666851,
          0.923969160822345,
          0.8975616545327726,
          0.8657764335571435,
          0.8285367114005178,
          0.785738037149454,
          0.737244039407627,
          0.6828821702314412,
          0.6224394490656463,
          0.5556582066789539,
          0.4822318290996509,
          0.40180050155121594,
          0.3139469523879347,
          0.21819219703051485,
          0.11399128190170132,
          0
         ]
        }
       ],
       "frames": [],
       "layout": {
        "autosize": true,
        "margin": {
         "b": 50,
         "l": 50,
         "r": 50,
         "t": 60
        },
        "title": {
         "text": "Error"
        },
        "xaxis": {
         "autorange": true,
         "range": [
          -1.1224193079383542,
          1.1224193079383542
         ],
         "title": {
          "text": "x"
         },
         "type": "linear"
        },
        "yaxis": {
         "autorange": true,
         "range": [
          -0.07016007572699032,
          1.0524011359048548
         ],
         "title": {
          "text": "Error"
         },
         "type": "linear"
        }
       }
      },
      "application/vnd.webio.node+json": {
       "children": [
        {
         "children": [],
         "instanceArgs": {
          "namespace": "html",
          "tag": "div"
         },
         "nodeType": "DOM",
         "props": {
          "id": "plot-027886f8-a409-472e-8f2b-33cdb5d4c7f8"
         },
         "type": "node"
        }
       ],
       "instanceArgs": {
        "handlers": {
         "__get_gd_contents": [
          "(function (prop){prop==\"data\" ? (WebIO.setval({\"name\":\"__gd_contents\",\"scope\":\"2147696078214075233\",\"id\":\"14861260811874247470\",\"type\":\"observable\"},this.plotElem.data)) : undefined; return prop==\"layout\" ? (WebIO.setval({\"name\":\"__gd_contents\",\"scope\":\"2147696078214075233\",\"id\":\"14861260811874247470\",\"type\":\"observable\"},this.plotElem.layout)) : undefined})"
         ],
         "_commands": [
          "(function (args){var fn=args.shift(); var elem=this.plotElem; var Plotly=this.Plotly; args.unshift(elem); return Plotly[fn].apply(this,args)})"
         ],
         "_downloadImage": [
          "(function (options){return this.Plotly.downloadImage(this.plotElem,options)})"
         ],
         "_toImage": [
          "(function (options){return this.Plotly.toImage(this.plotElem,options).then((function (data){return WebIO.setval({\"name\":\"image\",\"scope\":\"2147696078214075233\",\"id\":\"16192437317596956907\",\"type\":\"observable\"},data)}))})"
         ]
        },
        "id": "2147696078214075233",
        "imports": {
         "data": [
          {
           "name": "Plotly",
           "type": "js",
           "url": "/assetserver/c843c6635296ea5f415808032e6c1f322a3239cd-plotly.min.js"
          },
          {
           "name": null,
           "type": "js",
           "url": "/assetserver/44e1943a6c8ed4b38e47f64f07dc32566142c8ee-plotly_webio.bundle.js"
          }
         ],
         "type": "async_block"
        },
        "mount_callbacks": [
         "function () {\n    var handler = ((function (Plotly,PlotlyWebIO){PlotlyWebIO.init(WebIO); var gd=this.dom.querySelector(\"#plot-027886f8-a409-472e-8f2b-33cdb5d4c7f8\"); this.plotElem=gd; this.Plotly=Plotly; (window.Blink!==undefined) ? (gd.style.width=\"100%\", gd.style.height=\"100vh\", gd.style.marginLeft=\"0%\", gd.style.marginTop=\"0vh\") : undefined; window.onresize=(function (){return Plotly.Plots.resize(gd)}); Plotly.newPlot(gd,[{\"marker\":{\"symbol\":\"square\",\"size\":7},\"mode\":\"markers\",\"y\":[0.0718363513348298,0.07685525584367825,0.1537105116873564,0.22979737057358396,0.30442617273602746,0.37698173953508485,0.4469191173935009,0.5137593217319837,0.5770850809048187,0.636536580135485,0.6918072054522686,0.7426392876238816,0.7888198460950734,0.8301763329222485,0.8665723767090817,0.8979035265421318,0.9240929959264589,0.9450874067212387,0.9608525330753774,0.971369045363128,0.9766282541197052,0.9766278539769002,0.9713676675986969,0.960845389616887,0.9450523305666851,0.923969160822345,0.8975616545327726,0.8657764335571435,0.8285367114005178,0.785738037149454,0.737244039407627,0.6828821702314412,0.6224394490656463,0.5556582066789539,0.4822318290996509,0.40180050155121594,0.3139469523879347,0.21819219703051485,0.11399128190170132,0.10543491112814736],\"type\":\"scatter\",\"name\":\"Robin BC\",\"x\":[-1.0,-0.9487179487179487,-0.8974358974358974,-0.8461538461538463,-0.7948717948717949,-0.7435897435897436,-0.6923076923076923,-0.641025641025641,-0.5897435897435899,-0.5384615384615383,-0.4871794871794872,-0.4358974358974359,-0.3846153846153846,-0.3333333333333334,-0.282051282051282,-0.23076923076923078,-0.17948717948717952,-0.1282051282051282,-0.07692307692307687,-0.025641025641025605,0.02564102564102555,0.07692307692307687,0.1282051282051282,0.17948717948717952,0.23076923076923084,0.28205128205128216,0.33333333333333326,0.3846153846153846,0.4358974358974359,0.4871794871794872,0.5384615384615385,0.5897435897435896,0.641025641025641,0.6923076923076923,0.7435897435897436,0.7948717948717949,0.8461538461538463,0.8974358974358974,0.9487179487179487,1.0]},{\"marker\":{\"size\":5},\"mode\":\"markers\",\"y\":[0.0,0.07685525584367825,0.1537105116873564,0.22979737057358396,0.30442617273602746,0.37698173953508485,0.4469191173935009,0.5137593217319837,0.5770850809048187,0.636536580135485,0.6918072054522686,0.7426392876238816,0.7888198460950734,0.8301763329222485,0.8665723767090817,0.8979035265421318,0.9240929959264589,0.9450874067212387,0.9608525330753774,0.971369045363128,0.9766282541197052,0.9766278539769002,0.9713676675986969,0.960845389616887,0.9450523305666851,0.923969160822345,0.8975616545327726,0.8657764335571435,0.8285367114005178,0.785738037149454,0.737244039407627,0.6828821702314412,0.6224394490656463,0.5556582066789539,0.4822318290996509,0.40180050155121594,0.3139469523879347,0.21819219703051485,0.11399128190170132,0.0],\"type\":\"scatter\",\"name\":\"Dirichelt BC\",\"x\":[-1.0,-0.9487179487179487,-0.8974358974358974,-0.8461538461538463,-0.7948717948717949,-0.7435897435897436,-0.6923076923076923,-0.641025641025641,-0.5897435897435899,-0.5384615384615383,-0.4871794871794872,-0.4358974358974359,-0.3846153846153846,-0.3333333333333334,-0.282051282051282,-0.23076923076923078,-0.17948717948717952,-0.1282051282051282,-0.07692307692307687,-0.025641025641025605,0.02564102564102555,0.07692307692307687,0.1282051282051282,0.17948717948717952,0.23076923076923084,0.28205128205128216,0.33333333333333326,0.3846153846153846,0.4358974358974359,0.4871794871794872,0.5384615384615385,0.5897435897435896,0.641025641025641,0.6923076923076923,0.7435897435897436,0.7948717948717949,0.8461538461538463,0.8974358974358974,0.9487179487179487,1.0]}],{\"xaxis\":{\"title\":\"x\"},\"margin\":{\"l\":50,\"b\":50,\"r\":50,\"t\":60},\"title\":\"Error\",\"yaxis\":{\"title\":\"Error\"}},{}); gd.on(\"plotly_hover\",(function (data){var filtered_data=WebIO.PlotlyCommands.filterEventData(gd,data,\"hover\"); return !(filtered_data.isnil) ? (WebIO.setval({\"name\":\"hover\",\"scope\":\"2147696078214075233\",\"id\":\"8747851303893617738\",\"type\":\"observable\"},filtered_data.out)) : undefined})); gd.on(\"plotly_unhover\",(function (){return WebIO.setval({\"name\":\"hover\",\"scope\":\"2147696078214075233\",\"id\":\"8747851303893617738\",\"type\":\"observable\"},{})})); gd.on(\"plotly_selected\",(function (data){var filtered_data=WebIO.PlotlyCommands.filterEventData(gd,data,\"selected\"); return !(filtered_data.isnil) ? (WebIO.setval({\"name\":\"selected\",\"scope\":\"2147696078214075233\",\"id\":\"18329507955821907715\",\"type\":\"observable\"},filtered_data.out)) : undefined})); gd.on(\"plotly_deselect\",(function (){return WebIO.setval({\"name\":\"selected\",\"scope\":\"2147696078214075233\",\"id\":\"18329507955821907715\",\"type\":\"observable\"},{})})); gd.on(\"plotly_relayout\",(function (data){var filtered_data=WebIO.PlotlyCommands.filterEventData(gd,data,\"relayout\"); return !(filtered_data.isnil) ? (WebIO.setval({\"name\":\"relayout\",\"scope\":\"2147696078214075233\",\"id\":\"5477500357363830803\",\"type\":\"observable\"},filtered_data.out)) : undefined})); return gd.on(\"plotly_click\",(function (data){var filtered_data=WebIO.PlotlyCommands.filterEventData(gd,data,\"click\"); return !(filtered_data.isnil) ? (WebIO.setval({\"name\":\"click\",\"scope\":\"2147696078214075233\",\"id\":\"14526799456984773737\",\"type\":\"observable\"},filtered_data.out)) : undefined}))}));\n    (WebIO.importBlock({\"data\":[{\"name\":\"Plotly\",\"type\":\"js\",\"url\":\"/assetserver/c843c6635296ea5f415808032e6c1f322a3239cd-plotly.min.js\"},{\"name\":null,\"type\":\"js\",\"url\":\"/assetserver/44e1943a6c8ed4b38e47f64f07dc32566142c8ee-plotly_webio.bundle.js\"}],\"type\":\"async_block\"})).then((imports) => handler.apply(this, imports));\n}\n"
        ],
        "observables": {
         "__gd_contents": {
          "id": "14861260811874247470",
          "sync": false,
          "value": {}
         },
         "__get_gd_contents": {
          "id": "4788422446239634892",
          "sync": false,
          "value": ""
         },
         "_commands": {
          "id": "6748577052825652097",
          "sync": false,
          "value": []
         },
         "_downloadImage": {
          "id": "12922694583533718681",
          "sync": false,
          "value": {}
         },
         "_toImage": {
          "id": "12868066447793858029",
          "sync": false,
          "value": {}
         },
         "click": {
          "id": "14526799456984773737",
          "sync": false,
          "value": {}
         },
         "hover": {
          "id": "8747851303893617738",
          "sync": false,
          "value": {}
         },
         "image": {
          "id": "16192437317596956907",
          "sync": true,
          "value": ""
         },
         "relayout": {
          "id": "5477500357363830803",
          "sync": false,
          "value": {}
         },
         "selected": {
          "id": "18329507955821907715",
          "sync": false,
          "value": {}
         }
        },
        "systemjs_options": null
       },
       "nodeType": "Scope",
       "props": {},
       "type": "node"
      },
      "image/png": "[encoded data removed]",
      "text/html": [
       "<div\n",
       "    class=\"webio-mountpoint\"\n",
       "    data-webio-mountpoint=\"16083080161303258311\"\n",
       ">\n",
       "    <script>\n",
       "    (function(){\n",
       "    // Some integrations (namely, IJulia/Jupyter) use an alternate render pathway than\n",
       "    // just putting the html on the page. If WebIO isn't defined, then it's pretty likely\n",
       "    // that we're in one of those situations and the integration just isn't installed\n",
       "    // correctly.\n",
       "    if (typeof window.WebIO === \"undefined\") {\n",
       "        document\n",
       "            .querySelector('[data-webio-mountpoint=\"16083080161303258311\"]')\n",
       "            .innerHTML = (\n",
       "                '<div style=\"padding: 1em; background-color: #f8d6da; border: 1px solid #f5c6cb; font-weight: bold;\">' +\n",
       "                '<p><strong>WebIO not detected.</strong></p>' +\n",
       "                '<p>Please read ' +\n",
       "                '<a href=\"https://juliagizmos.github.io/WebIO.jl/latest/troubleshooting/not-detected/\" target=\"_blank\">the troubleshooting guide</a> ' +\n",
       "                'for more information on how to resolve this issue.</p>' +\n",
       "                '<p><a href=\"https://juliagizmos.github.io/WebIO.jl/latest/troubleshooting/not-detected/\" target=\"_blank\">https://juliagizmos.github.io/WebIO.jl/latest/troubleshooting/not-detected/</a></p>' +\n",
       "                '</div>'\n",
       "            );\n",
       "        return;\n",
       "    }\n",
       "    WebIO.mount(\n",
       "        document.querySelector('[data-webio-mountpoint=\"16083080161303258311\"]'),\n",
       "        {\"props\":{},\"nodeType\":\"Scope\",\"type\":\"node\",\"instanceArgs\":{\"imports\":{\"data\":[{\"name\":\"Plotly\",\"type\":\"js\",\"url\":\"\\/assetserver\\/c843c6635296ea5f415808032e6c1f322a3239cd-plotly.min.js\"},{\"name\":null,\"type\":\"js\",\"url\":\"\\/assetserver\\/44e1943a6c8ed4b38e47f64f07dc32566142c8ee-plotly_webio.bundle.js\"}],\"type\":\"async_block\"},\"id\":\"2147696078214075233\",\"handlers\":{\"_toImage\":[\"(function (options){return this.Plotly.toImage(this.plotElem,options).then((function (data){return WebIO.setval({\\\"name\\\":\\\"image\\\",\\\"scope\\\":\\\"2147696078214075233\\\",\\\"id\\\":\\\"16192437317596956907\\\",\\\"type\\\":\\\"observable\\\"},data)}))})\"],\"__get_gd_contents\":[\"(function (prop){prop==\\\"data\\\" ? (WebIO.setval({\\\"name\\\":\\\"__gd_contents\\\",\\\"scope\\\":\\\"2147696078214075233\\\",\\\"id\\\":\\\"14861260811874247470\\\",\\\"type\\\":\\\"observable\\\"},this.plotElem.data)) : undefined; return prop==\\\"layout\\\" ? (WebIO.setval({\\\"name\\\":\\\"__gd_contents\\\",\\\"scope\\\":\\\"2147696078214075233\\\",\\\"id\\\":\\\"14861260811874247470\\\",\\\"type\\\":\\\"observable\\\"},this.plotElem.layout)) : undefined})\"],\"_downloadImage\":[\"(function (options){return this.Plotly.downloadImage(this.plotElem,options)})\"],\"_commands\":[\"(function (args){var fn=args.shift(); var elem=this.plotElem; var Plotly=this.Plotly; args.unshift(elem); return Plotly[fn].apply(this,args)})\"]},\"systemjs_options\":null,\"mount_callbacks\":[\"function () {\\n    var handler = ((function (Plotly,PlotlyWebIO){PlotlyWebIO.init(WebIO); var gd=this.dom.querySelector(\\\"#plot-027886f8-a409-472e-8f2b-33cdb5d4c7f8\\\"); this.plotElem=gd; this.Plotly=Plotly; (window.Blink!==undefined) ? (gd.style.width=\\\"100%\\\", gd.style.height=\\\"100vh\\\", gd.style.marginLeft=\\\"0%\\\", gd.style.marginTop=\\\"0vh\\\") : undefined; window.onresize=(function (){return Plotly.Plots.resize(gd)}); Plotly.newPlot(gd,[{\\\"marker\\\":{\\\"symbol\\\":\\\"square\\\",\\\"size\\\":7},\\\"mode\\\":\\\"markers\\\",\\\"y\\\":[0.0718363513348298,0.07685525584367825,0.1537105116873564,0.22979737057358396,0.30442617273602746,0.37698173953508485,0.4469191173935009,0.5137593217319837,0.5770850809048187,0.636536580135485,0.6918072054522686,0.7426392876238816,0.7888198460950734,0.8301763329222485,0.8665723767090817,0.8979035265421318,0.9240929959264589,0.9450874067212387,0.9608525330753774,0.971369045363128,0.9766282541197052,0.9766278539769002,0.9713676675986969,0.960845389616887,0.9450523305666851,0.923969160822345,0.8975616545327726,0.8657764335571435,0.8285367114005178,0.785738037149454,0.737244039407627,0.6828821702314412,0.6224394490656463,0.5556582066789539,0.4822318290996509,0.40180050155121594,0.3139469523879347,0.21819219703051485,0.11399128190170132,0.10543491112814736],\\\"type\\\":\\\"scatter\\\",\\\"name\\\":\\\"Robin BC\\\",\\\"x\\\":[-1.0,-0.9487179487179487,-0.8974358974358974,-0.8461538461538463,-0.7948717948717949,-0.7435897435897436,-0.6923076923076923,-0.641025641025641,-0.5897435897435899,-0.5384615384615383,-0.4871794871794872,-0.4358974358974359,-0.3846153846153846,-0.3333333333333334,-0.282051282051282,-0.23076923076923078,-0.17948717948717952,-0.1282051282051282,-0.07692307692307687,-0.025641025641025605,0.02564102564102555,0.07692307692307687,0.1282051282051282,0.17948717948717952,0.23076923076923084,0.28205128205128216,0.33333333333333326,0.3846153846153846,0.4358974358974359,0.4871794871794872,0.5384615384615385,0.5897435897435896,0.641025641025641,0.6923076923076923,0.7435897435897436,0.7948717948717949,0.8461538461538463,0.8974358974358974,0.9487179487179487,1.0]},{\\\"marker\\\":{\\\"size\\\":5},\\\"mode\\\":\\\"markers\\\",\\\"y\\\":[0.0,0.07685525584367825,0.1537105116873564,0.22979737057358396,0.30442617273602746,0.37698173953508485,0.4469191173935009,0.5137593217319837,0.5770850809048187,0.636536580135485,0.6918072054522686,0.7426392876238816,0.7888198460950734,0.8301763329222485,0.8665723767090817,0.8979035265421318,0.9240929959264589,0.9450874067212387,0.9608525330753774,0.971369045363128,0.9766282541197052,0.9766278539769002,0.9713676675986969,0.960845389616887,0.9450523305666851,0.923969160822345,0.8975616545327726,0.8657764335571435,0.8285367114005178,0.785738037149454,0.737244039407627,0.6828821702314412,0.6224394490656463,0.5556582066789539,0.4822318290996509,0.40180050155121594,0.3139469523879347,0.21819219703051485,0.11399128190170132,0.0],\\\"type\\\":\\\"scatter\\\",\\\"name\\\":\\\"Dirichelt BC\\\",\\\"x\\\":[-1.0,-0.9487179487179487,-0.8974358974358974,-0.8461538461538463,-0.7948717948717949,-0.7435897435897436,-0.6923076923076923,-0.641025641025641,-0.5897435897435899,-0.5384615384615383,-0.4871794871794872,-0.4358974358974359,-0.3846153846153846,-0.3333333333333334,-0.282051282051282,-0.23076923076923078,-0.17948717948717952,-0.1282051282051282,-0.07692307692307687,-0.025641025641025605,0.02564102564102555,0.07692307692307687,0.1282051282051282,0.17948717948717952,0.23076923076923084,0.28205128205128216,0.33333333333333326,0.3846153846153846,0.4358974358974359,0.4871794871794872,0.5384615384615385,0.5897435897435896,0.641025641025641,0.6923076923076923,0.7435897435897436,0.7948717948717949,0.8461538461538463,0.8974358974358974,0.9487179487179487,1.0]}],{\\\"xaxis\\\":{\\\"title\\\":\\\"x\\\"},\\\"margin\\\":{\\\"l\\\":50,\\\"b\\\":50,\\\"r\\\":50,\\\"t\\\":60},\\\"title\\\":\\\"Error\\\",\\\"yaxis\\\":{\\\"title\\\":\\\"Error\\\"}},{}); gd.on(\\\"plotly_hover\\\",(function (data){var filtered_data=WebIO.PlotlyCommands.filterEventData(gd,data,\\\"hover\\\"); return !(filtered_data.isnil) ? (WebIO.setval({\\\"name\\\":\\\"hover\\\",\\\"scope\\\":\\\"2147696078214075233\\\",\\\"id\\\":\\\"8747851303893617738\\\",\\\"type\\\":\\\"observable\\\"},filtered_data.out)) : undefined})); gd.on(\\\"plotly_unhover\\\",(function (){return WebIO.setval({\\\"name\\\":\\\"hover\\\",\\\"scope\\\":\\\"2147696078214075233\\\",\\\"id\\\":\\\"8747851303893617738\\\",\\\"type\\\":\\\"observable\\\"},{})})); gd.on(\\\"plotly_selected\\\",(function (data){var filtered_data=WebIO.PlotlyCommands.filterEventData(gd,data,\\\"selected\\\"); return !(filtered_data.isnil) ? (WebIO.setval({\\\"name\\\":\\\"selected\\\",\\\"scope\\\":\\\"2147696078214075233\\\",\\\"id\\\":\\\"18329507955821907715\\\",\\\"type\\\":\\\"observable\\\"},filtered_data.out)) : undefined})); gd.on(\\\"plotly_deselect\\\",(function (){return WebIO.setval({\\\"name\\\":\\\"selected\\\",\\\"scope\\\":\\\"2147696078214075233\\\",\\\"id\\\":\\\"18329507955821907715\\\",\\\"type\\\":\\\"observable\\\"},{})})); gd.on(\\\"plotly_relayout\\\",(function (data){var filtered_data=WebIO.PlotlyCommands.filterEventData(gd,data,\\\"relayout\\\"); return !(filtered_data.isnil) ? (WebIO.setval({\\\"name\\\":\\\"relayout\\\",\\\"scope\\\":\\\"2147696078214075233\\\",\\\"id\\\":\\\"5477500357363830803\\\",\\\"type\\\":\\\"observable\\\"},filtered_data.out)) : undefined})); return gd.on(\\\"plotly_click\\\",(function (data){var filtered_data=WebIO.PlotlyCommands.filterEventData(gd,data,\\\"click\\\"); return !(filtered_data.isnil) ? (WebIO.setval({\\\"name\\\":\\\"click\\\",\\\"scope\\\":\\\"2147696078214075233\\\",\\\"id\\\":\\\"14526799456984773737\\\",\\\"type\\\":\\\"observable\\\"},filtered_data.out)) : undefined}))}));\\n    (WebIO.importBlock({\\\"data\\\":[{\\\"name\\\":\\\"Plotly\\\",\\\"type\\\":\\\"js\\\",\\\"url\\\":\\\"\\/assetserver\\/c843c6635296ea5f415808032e6c1f322a3239cd-plotly.min.js\\\"},{\\\"name\\\":null,\\\"type\\\":\\\"js\\\",\\\"url\\\":\\\"\\/assetserver\\/44e1943a6c8ed4b38e47f64f07dc32566142c8ee-plotly_webio.bundle.js\\\"}],\\\"type\\\":\\\"async_block\\\"})).then((imports) => handler.apply(this, imports));\\n}\\n\"],\"observables\":{\"_toImage\":{\"sync\":false,\"id\":\"12868066447793858029\",\"value\":{}},\"hover\":{\"sync\":false,\"id\":\"8747851303893617738\",\"value\":{}},\"selected\":{\"sync\":false,\"id\":\"18329507955821907715\",\"value\":{}},\"__gd_contents\":{\"sync\":false,\"id\":\"14861260811874247470\",\"value\":{}},\"click\":{\"sync\":false,\"id\":\"14526799456984773737\",\"value\":{}},\"image\":{\"sync\":true,\"id\":\"16192437317596956907\",\"value\":\"\"},\"__get_gd_contents\":{\"sync\":false,\"id\":\"4788422446239634892\",\"value\":\"\"},\"_downloadImage\":{\"sync\":false,\"id\":\"12922694583533718681\",\"value\":{}},\"relayout\":{\"sync\":false,\"id\":\"5477500357363830803\",\"value\":{}},\"_commands\":{\"sync\":false,\"id\":\"6748577052825652097\",\"value\":[]}}},\"children\":[{\"props\":{\"id\":\"plot-027886f8-a409-472e-8f2b-33cdb5d4c7f8\"},\"nodeType\":\"DOM\",\"type\":\"node\",\"instanceArgs\":{\"namespace\":\"html\",\"tag\":\"div\"},\"children\":[]}]},\n",
       "        window,\n",
       "    );\n",
       "    })()\n",
       "    </script>\n",
       "</div>\n"
      ],
      "text/plain": [
       "data: [\n",
       "  \"scatter with fields marker, mode, name, type, x, and y\",\n",
       "  \"scatter with fields marker, mode, name, type, x, and y\"\n",
       "]\n",
       "\n",
       "layout: \"layout with fields margin, title, xaxis, and yaxis\"\n",
       "\n"
      ]
     },
     "execution_count": 74,
     "metadata": {},
     "output_type": "execute_result"
    }
   ],
   "source": [
    "error1, error2 = abs.(uexact.(x) .- uh3)[:,1],  abs.(uexact.(x) .- uh3DBC)[:,1]\n",
    "\n",
    "plot([scatter(x=x, y=error1, mode=\"markers\", name=\"Robin BC\", marker=attr(size=7, symbol=\"square\")), \n",
    "        scatter(x=x , y=error2 ,mode=\"markers\", name=\"Dirichelt BC\", marker=attr(size=5))],\n",
    "     Layout(title=\"Error\",  xaxis_title=\"x\",  yaxis_title=\"Error\"))"
   ]
  },
  {
   "cell_type": "markdown",
   "id": "f045d88f",
   "metadata": {},
   "source": [
    "## 4.TP  Bar Deflection\n",
    "\n",
    "Consider a beam fix in a wall in both extrems like in the figure. The strcutre of lenght $L$ is hold in a distributed load $P [Kg \\; m^{-1}$ that vary along the $x$ coordinate. Furthermore, supposse that the beam has a rectangular uniform section of width $r$ and depth $s$, inertial moment $J = rs^3/12 [m^4]$ and Young module $E[kgm^{-2}]$.\n",
    "\n",
    "The beam deflection, suposing small displacements, is describe by the 4th order differential equation\n",
    "\n",
    "$$ (EJu''(x))'' = P(x), \\qquad \\qquad u(0)=u(L)=0, \\qquad \\qquad u'(0)=u'(L)=0 $$\n",
    "\n",
    "where the $u=u(x)$ denote the vertical displacement, and the right side are the boundary conditions such that model the fix beam behaviour in both extrems.\n",
    "\n",
    "a. Write the weak formulation corresponding to the boundary value problem $(4)-(5)$\n",
    "\n",
    "b. Prove the existence and uniqueness of the weak solution.\n",
    "\n",
    "To discretize the weak problem we should approximate the space $H_0^2([0,1])$ by a picewise finite dimensional cubic polynomial space\n",
    "\n",
    "$$ \\mathcal{H}_h := \\{ \\phi \\in C^1([0,L]):\\; \\phi\\Big|_{I_i} \\in \\mathbb{P}_{3}(I_i) \\quad i=1,2,...,N; \\\\\n",
    "\\phi(0)= \\phi(1)=0 \\quad \\text{and} \\quad  \\phi_x(0)=\\phi_x(1)=0 \\} $$\n",
    "\n",
    "where $0 <x_0<x_1<\\cdots < x_N =L, \\; I_i = (x_{i},x_{i-1}), \\; h_i=x_i-x_{i-1}, \\; h:=\\text{max}_{i=1,...,N}$ and $\\mathbb{P}_3(I_i)$ denote the set of all the polynomials over $I_i$ of order less or equal to $3$.\n",
    "\n",
    "With the goal to build a base for $\\mathcal{H}_h$, let's asociate a each inner node $x_k,\\; k= 1,...,N-1$ a support $I_k \\cup I_{k+1}$ and two functions $\\zeta_i$ and $\\eta_i$ such that\n",
    "\n",
    "$$ \\zeta_i(x_k) = \\delta_{ik}, \\qquad \\zeta_i'(x_k)=0 \\\\\n",
    "\\eta_i(x_k) = 0, \\qquad \\eta_i'(x_k)=\\delta_{ik} $$\n",
    "\n",
    "c. Use the previous conditions to determine the $\\zeta_i$ and $\\eta_i$ explicit formulas and plot them.\n",
    "\n",
    "d. Write $u_h$ as a linear combination of the base $\\zeta_i$ and $\\eta_i$ where $i=1,...,N-1$.\n",
    "\n",
    "e. Consider the discrete weak formulation. Indicate wich are the unknowns.\n",
    "\n",
    "f. Find the matrix components of the lineal equation system that gives the finite elemebt discretization.\n",
    "\n",
    "g. Solve the lineal equation systems useing for $N=25,\\;50,\\;100$ and $200$ elements. Plot the solution. use the folowwing dates: $EJ =1$, $P(x)=1$, and $L=1$."
   ]
  },
  {
   "cell_type": "markdown",
   "id": "ca48ebb8-595b-4124-9058-aef563ca8cf4",
   "metadata": {},
   "source": [
    "### Solution\n",
    "\n",
    "#### a. \n",
    "Multiplying by a test function $v|v(0)=v(L)= v'(0)=v'(L)=0$ and integrating over $I$ the differential equation\n",
    "\n",
    "\n",
    "$$\\int_0^L v(EJu''''(x)) dx = \\int_0^L v P(x)dx $$\n",
    "\n",
    "using integration by steps twice\n",
    "\n",
    "$$\\int_0^L v(EJu(x))'''' dx =  EJvu'''(x)\\Big|_0^L - EJ\\int_0^L v' u''' =  EJvu'''\\Big|_0^L - v'EJu'' \\Big|_0^L + EJ\\int_0^L v'' u'' dx \\\\\n",
    "\\int_0^L v(EJu(x))'''' dx =EJ\\int_0^L v'' u'' dx $$\n",
    "\n",
    "Replacing this result in the differential equation\n",
    "\n",
    "$$ \\boxed{EJ\\int_0^L v'' u'' = \\int_0^L v P(x)dx} $$\n",
    "\n",
    "This is the weak problem. This equation can be writen as follows\n",
    "\n",
    "$$ a(u,v) = Lv, \\qquad \\forall v\\in H_0^2(0,L)$$\n",
    "\n",
    "where \n",
    "\n",
    "$$a(y,v) = EJ\\int_0^L v'' u''\\\\\n",
    "Lv = \\int_0^L v P(x)dx$$\n",
    "\n",
    "\n",
    "#### b. \n",
    "To prove its uniqueness let's verify the Lax-Milgram hypothesis with $v\\in H$.\n",
    "\n",
    "- **Bilineal Countinuity:**\n",
    "\n",
    "Using Cauchy-Schwartz, and Poincare inequality\n",
    "\n",
    "$$ \n",
    "|a(u,v)| = \\left|\\left| EJ \\int_0^L v'' u''\\right|\\right|   \\leq   EJ \\int_0^L |v''| \\cdot |u''| dx \\leq  EJ ||v''||_{L^2} \\cdot ||u''||_{L^2}\n",
    "$$\n",
    "\n",
    "- **Coercivity:**\n",
    "$$ \n",
    "a(u,u) = EJ\\int_0^L u'' u''dx   \\geq EJ ||u''||_{L^2}^2 \\geq \\frac{1}{C_P^2}  ||u'||_{L^2}^2\n",
    "$$\n",
    "\n",
    "- **Continuity of V in H:**\n",
    "\n",
    "$$\n",
    "|Lv| = \\left| \\int_0^L v P(x)dx \\right| \\leq ||P(x)||_{L^2} ||v||_{L^2} \\leq C_P ||P(x)||_{L^2} ||v'||_{L^2}\\\\\n",
    "\\Rightarrow \\boxed{ \\quad ||L||_{H} \\leq C_P   ||P(x)||_{L^2} \\leq C_P   ||P(x)||_{L^\\infty}}\n",
    "$$\n",
    "\n",
    "\n",
    "c. To construnct some a polynomials, that satisfyes the previous conditions, consider the [Newton's polynomial](https://pythonnumericalmethods.berkeley.edu/notebooks/chapter17.05-Newtons-Polynomial-Interpolation.html) of order 3 on the soport $I_k \\cup I_{k+1}$ with the following boundary conditions\n",
    "\n",
    "<img src=\"support.png\" width=\"500\"/>\n",
    "\n",
    "\n",
    "$$\n",
    "\\xi_i(x_{k-1})=0, \\; \\xi_i(x_{k+1})=0, \\qquad \\xi_i'(x_{k-1})=0, \\;\\xi_i'(x_{k+1})=0\\\\\n",
    "\\eta_i(x_{k-1})=0, \\;\\eta_i(x_{k+1})=0, \\qquad \\eta_i'(x_{k-1})=0, \\;\\eta_i'(x_{k+1})=0\n",
    "$$\n",
    "\n",
    "$$\n",
    "\\xi_i(x) = a_0 + a_1 (x - x_{k}) +  a_2 (x - x_{k})(x - x_{k-1}) +  a_3 (x - x_{k})(x - x_{k-1})(x - x_{k+1})\\\\\n",
    "\\xi_i'(x) =  a_1 +  a_2 (2x - x_{k}- x_{k-1}) +  a_3 \\left[ (x-x_{k-1})(2x-x_{k+1}-x_{k})+ (x-x_k)(x-x_{k+1}) \\right] \\\\\n",
    "\\eta_i(x) = b_0 + b_1 (x - x_{k}) +  b_2 (x - x_{k})(x - x_{k-1}) +  b_3 (x - x_{k})(x - x_{k-1})(x - x_{k+1})\\\\\n",
    "\\eta_i'(x) = b_1 +  b_2 (2x - x_{k}- x_{k-1}) +  b_3  \\left[ (x-x_{k-1})(2x-x_{k+1}-x_{k})+ (x-x_k)(x-x_{k+1}) \\right]\n",
    "$$\n",
    "\n",
    "\n",
    "Using the boundary conditions at $x_{k-1}$ \n",
    "\n",
    "$$\n",
    "\\xi_i(x_{k-1}) = a_0 + a_1 (x_{k-1} - x_{k})=0, \\Rightarrow \\boxed{a_1 = -\\frac{a_0}{x_{k-1} - x_{k}} } \\\\\n",
    "\\xi_i'(x_{k-1}) =  a_1  + a_2 (2x_{k-1} - x_{k}- x_{k-1}) + a_3 (x_{k-1}-x_k)(x_{k-1}-x_{k+1}) =0, \\qquad \\Rightarrow a_3 = -\\frac{a_1  + a_2 (2x_{k-1} - x_{k}- x_{k-1})}{(x_{k-1}-x_k)(x_{k-1}-x_{k+1})}  \\\\\n",
    "\\eta_i(x_{k-1}) = b_0 + b_1 (x_{k-1} - x_{k})=0 , \\qquad \\Rightarrow  \\boxed{b_1 =-\\frac{b_0}{x_{k-1} - x_{k}}}\\\\\n",
    "\\eta_i'(x_{k-1}) = b_1 +  b_2 (2x_{k-1} - x_{k}- x_{k-1}) +  b_3 (x_{k-1}-x_k)(x_{k-1}-x_{k+1})=0 , \\qquad \\Rightarrow b_3 =-\\frac{ b_1 +  b_2 (2x_{k-1} - x_{k}- x_{k-1})}{(x_{k-1}-x_k)(x_{k-1}-x_{k+1})} \n",
    "$$\n",
    "\n",
    "\n",
    "and $x_{k+1}$\n",
    "\n",
    "$$\n",
    "\\xi_i(x_{k+1}) = a_0 + a_1 (x_{k+1} - x_{k}) +  a_2 (x_{k+1} - x_{k})(x_{k+1} - x_{k-1}) =0 , \\qquad \\Rightarrow a_2  = -\\frac{a_0 + a_1 (x_{k+1} - x_{k})}{(x_{k+1} - x_{k})(x_{k+1} - x_{k-1})}\\\\\n",
    "\\xi_i'(x_{k+1}) =  a_1 +  a_2 (2x_{k+1} - x_{k}- x_{k-1}) +  a_3  (x_{k+1}-x_{k-1})(2x_{k+1}-x_{k+1}-x_{k}))=0, \\qquad \\Rightarrow a_3 = -\\frac{a_1 +  a_2 (2x_{k+1} - x_{k}- x_{k-1})}{(x_{k+1}-x_{k-1})(2x_{k+1}-x_{k+1}-x_{k}))}   \\\\\n",
    "\\eta_i(x_{k+1}) = b_0 + b_1 (x_{k+1} - x_{k}) +  b_2 (x_{k+1} - x_{k})(x_{k+1} - x_{k-1})=0, \\qquad \\Rightarrow b_2 = - \\frac{b_0 + b_1 (x_{k+1} - x_{k})}{(x_{k+1} - x_{k})(x_{k+1} - x_{k-1})}\\\\\n",
    "\\eta_i'(x_{k+1}) = b_1 +  b_2 (2x_{k+1} - x_{k}- x_{k-1}) +  b_3  (x_{k+1}-x_{k-1})(2x_{k+1}-x_{k+1}-x_{k}))=0, \\qquad \\Rightarrow  b_3 = -\\frac{b_1 +  b_2 (2x_{k+1} - x_{k}- x_{k-1})}{ (x_{k+1}-x_{k-1})(2x_{k+1}-x_{k+1}-x_{k}))}\n",
    "$$\n",
    "\n",
    "Furthermore, the conditions at $x_k$\n",
    "\n",
    "$$\n",
    "\\xi_i(x_k) = a_0  = \\delta_{ik}, \\qquad \\eta_i(x_k) = b_0 = 0, \\qquad \\Rightarrow \\boxed{b_0 = 0} \\\\ \n",
    "\\xi_i'(x_k) = a_1  = 0, \\qquad \\eta_i'(x_k) = b_0 = \\delta_{ik}, \\qquad \\Rightarrow \\boxed{a_1 = 0} \n",
    "$$"
   ]
  },
  {
   "cell_type": "markdown",
   "id": "7399e889-d8b9-45b8-b14f-f046c1bad416",
   "metadata": {},
   "source": [
    "\n",
    "asds\n"
   ]
  },
  {
   "cell_type": "code",
   "execution_count": null,
   "id": "adf1ec34-10d2-4e07-bff9-460d6d80fd69",
   "metadata": {},
   "outputs": [],
   "source": []
  }
 ],
 "metadata": {
  "@webio": {
   "lastCommId": "a42a272c-92ae-4977-8ddb-ab74d15017b9",
   "lastKernelId": "46e9db09-3366-4009-8021-8382e9ea8a0c"
  },
  "kernelspec": {
   "display_name": "Julia 1.7.2",
   "language": "julia",
   "name": "julia-1.7"
  },
  "language_info": {
   "file_extension": ".jl",
   "mimetype": "application/julia",
   "name": "julia",
   "version": "1.7.2"
  }
 },
 "nbformat": 4,
 "nbformat_minor": 5
}
