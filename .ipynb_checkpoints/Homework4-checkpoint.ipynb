{
 "cells": [
  {
   "cell_type": "markdown",
   "id": "115cedab-f858-4b9d-9288-b3f07350c921",
   "metadata": {},
   "source": [
    "<center> <h1> <b>HOMEWORK 4<b></h1> </center>\n",
    "<center> <h2> Numerical Analysis II - 2022</h2> </center>\n",
    "<center> <h3> Fabián Eduardo Suárez Castellanos, Sebastian  and Sebastian Aguilera Novoa</h3> </center>"
   ]
  },
  {
   "cell_type": "code",
   "execution_count": 2,
   "id": "3e86b31b-a78f-4c8e-9375-9005541a2597",
   "metadata": {},
   "outputs": [
    {
     "data": {
      "application/vnd.webio.node+json": {
       "children": [],
       "instanceArgs": {
        "namespace": "html",
        "tag": "div"
       },
       "nodeType": "DOM",
       "props": {},
       "type": "node"
      },
      "text/html": [
       "<div style=\"padding: 1em; background-color: #f8d6da; border: 1px solid #f5c6cb; font-weight: bold;\">\n",
       "<p>The WebIO Jupyter extension was not detected. See the\n",
       "<a href=\"https://juliagizmos.github.io/WebIO.jl/latest/providers/ijulia/\" target=\"_blank\">\n",
       "    WebIO Jupyter integration documentation\n",
       "</a>\n",
       "for more information.\n",
       "</div>\n"
      ],
      "text/plain": [
       "WebIO._IJuliaInit()"
      ]
     },
     "metadata": {
      "@webio": {
       "kernelId": "1ecb4018-be9f-4436-90cb-570e72896bab"
      }
     },
     "output_type": "display_data"
    },
    {
     "name": "stderr",
     "output_type": "stream",
     "text": [
      "┌ Warning: Error requiring `WebSockets` from `WebIO`\n",
      "│   exception = (LoadError(\"C:\\\\Users\\\\sebas\\\\.julia\\\\packages\\\\WebIO\\\\VF9p5\\\\src\\\\providers\\\\generic_http.jl\", 15, ErrorException(\"Unable to find WebIO JavaScript bundle for generic HTTP provider; try rebuilding WebIO (via `Pkg.build(\\\"WebIO\\\")`).\")), Union{Ptr{Nothing}, Base.InterpreterIP}[Ptr{Nothing} @0x00000000106eb8e2, Ptr{Nothing} @0x00000000027ab64c, Ptr{Nothing} @0x00000000027ab071, Ptr{Nothing} @0x00000000027abc40, Ptr{Nothing} @0x00000000027ac942, Base.InterpreterIP in top-level CodeInfo for WebIO at statement 4, Ptr{Nothing} @0x00000000027ca14f, Ptr{Nothing} @0x00000000027cac41, Ptr{Nothing} @0x00000000027cbcaf, Ptr{Nothing} @0x0000000010bbdc81, Ptr{Nothing} @0x000000005ee6903f, Ptr{Nothing} @0x00000000027ab64c, Ptr{Nothing} @0x00000000027ab071, Ptr{Nothing} @0x00000000027abc40, Ptr{Nothing} @0x00000000027ac942, Base.InterpreterIP in top-level CodeInfo for WebIO at statement 10, Ptr{Nothing} @0x00000000027ca14f, Ptr{Nothing} @0x00000000027cbcaf, Ptr{Nothing} @0x000000005ee7cb0f, Ptr{Nothing} @0x000000005ee7cb33, Ptr{Nothing} @0x00000000027ab64c, Ptr{Nothing} @0x00000000027ab071, Ptr{Nothing} @0x00000000027ac07a, Ptr{Nothing} @0x00000000027ac12d, Ptr{Nothing} @0x00000000027ac5f0, Base.InterpreterIP in MethodInstance for Requires.err(::Any, ::Module, ::String, ::String, ::Any) at statement 8, Ptr{Nothing} @0x000000005ee7ca66, Ptr{Nothing} @0x000000005ee7ca83, Ptr{Nothing} @0x00000000027ab64c, Ptr{Nothing} @0x00000000027ab071, Ptr{Nothing} @0x00000000027ac07a, Ptr{Nothing} @0x00000000027ac12d, Ptr{Nothing} @0x00000000027ac5f0, Base.InterpreterIP in MethodInstance for Requires.withpath(::Any, ::String) at statement 10, Ptr{Nothing} @0x000000005ee7c980, Ptr{Nothing} @0x000000005ee7c9f3, Ptr{Nothing} @0x000000000279d1b6, Ptr{Nothing} @0x000000005ee7c871, Ptr{Nothing} @0x00000000027ab64c, Ptr{Nothing} @0x00000000027ab071, Ptr{Nothing} @0x00000000027abea6, Ptr{Nothing} @0x00000000027ac5f0, Base.InterpreterIP in MethodInstance for Requires.loadpkg(::Base.PkgId) at statement 6, Ptr{Nothing} @0x000000000279d1b6, Ptr{Nothing} @0x000000005edec40e, Ptr{Nothing} @0x000000005edeb0ab, Ptr{Nothing} @0x000000005edec318, Ptr{Nothing} @0x000000005edeb0ab, Ptr{Nothing} @0x000000005ededcbf, Ptr{Nothing} @0x000000005edefd73, Ptr{Nothing} @0x000000005edf0b03, Ptr{Nothing} @0x00000000027c92f6, Ptr{Nothing} @0x00000000027cb135, Ptr{Nothing} @0x00000000027abe22, Ptr{Nothing} @0x00000000027ac942, Base.InterpreterIP in top-level CodeInfo for Main at statement 0, Ptr{Nothing} @0x00000000027ca14f, Ptr{Nothing} @0x00000000027cbcaf, Ptr{Nothing} @0x000000005ee68050, Ptr{Nothing} @0x000000005ee681c2, Ptr{Nothing} @0x000000005ee682d3, Ptr{Nothing} @0x000000005ee682f3, Ptr{Nothing} @0x00000000027ab64c, Ptr{Nothing} @0x00000000027ab071, Ptr{Nothing} @0x00000000027abc40, Ptr{Nothing} @0x00000000027ac942, Base.InterpreterIP in top-level CodeInfo for Main at statement 0, Ptr{Nothing} @0x00000000027ca14f, Ptr{Nothing} @0x00000000027cac41, Ptr{Nothing} @0x00000000027cbcaf, Ptr{Nothing} @0x000000005ee41bf5, Ptr{Nothing} @0x000000005ee41fef, Ptr{Nothing} @0x000000005ee3fceb, Ptr{Nothing} @0x000000000279d1b6, Ptr{Nothing} @0x000000005ee38279, Ptr{Nothing} @0x000000005ee38786, Ptr{Nothing} @0x000000005ee387a3, Ptr{Nothing} @0x00000000027b0c9f])\n",
      "└ @ Requires C:\\Users\\sebas\\.julia\\packages\\Requires\\Z8rfN\\src\\require.jl:51\n",
      "┌ Warning: Kaledio is not available on this system. Julia will be unable to produce any plots.\n",
      "└ @ PlotlyBase C:\\Users\\sebas\\.julia\\packages\\PlotlyBase\\NxSlF\\src\\kaleido.jl:58\n"
     ]
    },
    {
     "data": {
      "text/plain": [
       "Plots.PlotlyJSBackend()"
      ]
     },
     "execution_count": 2,
     "metadata": {},
     "output_type": "execute_result"
    }
   ],
   "source": [
    "using Plots\n",
    "plotlyjs()"
   ]
  },
  {
   "cell_type": "markdown",
   "id": "9334ced0-69d5-46e4-a426-a4fc975bc456",
   "metadata": {},
   "source": [
    "# 1.P Radiator Inside Room\n",
    "\n",
    "You want to investigate whether it is better to install a radiator under a window or on the opposite wall. Consider that the evolution of the temperature $ u(x,y,z)$ is described by the heat equation\n",
    "\n",
    "$$\n",
    "\\begin{cases}u_{t}=\\Delta u & \\text { en } \\Omega \\times(0, T] \\\\ \\frac{\\partial u}{\\partial \\eta}=k\\left(u_{0}-u\\right) & \\text { en } \\partial \\Omega \\times(0, T] \\\\ u(x, y, 0)=0 & \\text { en } \\Omega\\end{cases}\n",
    "$$\n",
    "\n",
    "in a room of two dimensions $\\Omega=[0,4]\\; \\times \\; [0,3]$, where\n",
    "\n",
    "- $u_0=0$ and $k=1$ at a window $\\{4\\} \\; \\times \\; [2,3]$\n",
    "- $u_0=50$ and $k=\\phi(u(2,3))$ at the radiator $\\{0\\} \\; \\times \\; [0,1]$ or $\\{4\\} \\; \\times \\; [0,1]$, anbd\n",
    "- $k=0$ (perfect insulation) at the other parts of the boundary.\n",
    "\n",
    "The heating properties of the radiator are dependent on the temperature at a thermostat as follows\n",
    "\n",
    "$$\n",
    "\\phi(x)= \\begin{cases}10 & \\text { si } u \\leq 20 \\\\ 0 & \\text { si } u>20\\end{cases}\n",
    "$$\n",
    "\n",
    "<center/><img src=\"Images/rooms.png\" width=\"1000\" class=\"center\"/><center/>\n",
    "\n",
    "1. Write a script that approximate the solution with enough accuracy in space and time, and simulate both rooms.\n",
    "\n",
    "2. In both rooms, plot the time evolution of the temperature at $P = (1,2)$ and $Q=(3,2)$. Choose the final time large enough to see a time-periodic behavior towards at the end .\n",
    "\n",
    "3. What is the average temperature in each room (average over the space and over a periodic cycle)?\n",
    "\n",
    "4. Which room is most comfortable to be in, and why?\n",
    "\n",
    "5. Which design is more energy efficient (the energy loss is the integral of $\\frac{\\partial u}{\\partial \\eta}$ over the window)?"
   ]
  },
  {
   "cell_type": "markdown",
   "id": "ffbb9a68-3b90-4653-9f05-5027596308cb",
   "metadata": {},
   "source": [
    "## 1."
   ]
  },
  {
   "cell_type": "markdown",
   "id": "9a86156d-08c0-4d77-b87e-7bdd403431f3",
   "metadata": {},
   "source": [
    "## 2."
   ]
  },
  {
   "cell_type": "markdown",
   "id": "35a67020-89ae-46a8-9da9-a5025b9c35c9",
   "metadata": {},
   "source": [
    "## 3."
   ]
  },
  {
   "cell_type": "markdown",
   "id": "0e9f2f8e-ec9b-461b-b931-38655cf892d8",
   "metadata": {},
   "source": [
    "## 4."
   ]
  },
  {
   "cell_type": "markdown",
   "id": "2382f96b-9e03-48e6-b95e-a14bcefd2673",
   "metadata": {},
   "source": [
    "## 5."
   ]
  },
  {
   "cell_type": "markdown",
   "id": "1f719b78-08e2-4d85-bbeb-b2e60d05672e",
   "metadata": {},
   "source": [
    "# 2.P Pollutant Into a River\n",
    "\n",
    "A factory spills a pollutant into a river $\\Omega$ (see figure). The concentration of the pollutant at the spill site  $\\Gamma_{in}$ is $C_{in}$. The contamination does not involve the underwater layers of the river, so we consider the dispersion of the pollutant as a 2 dimnesional problem, with no depth dependece. Furthermore, we assume that\n",
    "\n",
    "a) At the boundary, upstream current $\\Gamma_{up}$  the concentration of the pollutant is $C_p$.\n",
    "\n",
    "b) The downstream zone $\\Gamma_{down}$ is far enough away, that we can consider that the concentration no longer changes in the direction of the flow normal to the boundary. \n",
    "\n",
    "c) The flow of the pollutant over the riverbank is proportional to the difference between the natural concentration $C_{nat}$ and the river concentration.\n",
    "\n",
    "d) The diffusivity of the pollutant in the river is isotropic and constant, which we denote by the scalar number $\\mu$.\n",
    "\n",
    "e) The  velocity of the river over the surface does not change in time and can be considered constant and its divergence is zero.\n",
    "\n",
    "f) A bacterium  in the river destroys the pollutant at a rate $\\sigma$.\n",
    "\n",
    "g) The problem is stationary.\n",
    "\n",
    "\n",
    "1. Write a model with partial differential equations for the concentration $C$ in $\\Omega$.\n",
    "\n",
    "2. Analyze the existence and uniqueness of the model.\n",
    "\n",
    "3. Discretize the problem by the finite element method; in partical assume that the solution $C \\in H^2(\\Omega) \\; (C \\notin H^3(\\Omega))$. Choose an appropiate degree for the finite elements.\n",
    "\n",
    "4. Discuss the accuracy of the approximation as a function of the problem parameters.\n",
    "\n",
    "5. Assume that the river is straight with length $10 \\; m$ and width $2 \\; m$. In addition, the following river data are known: river velocity $\\textbf{a}=[u_1,u_2]$ with $u_1=u_M(2-y)y \\; m/s$, $u_2 = 0$, $C_{up}=10 \\; g/m^3$, $C_{in}=100\\; g/m^3$, $C_{nat}=1\\; g/m^3$, $\\alpha=0.l$. Use a mesh of size $h=0.1$ to simulate the  following two cases:\n",
    "\n",
    "i. $\\sigma=0.5, \\; \\mu=10^{-6}, \\; u_M=10;$\n",
    "ii. $\\sigma=300, \\; \\mu=0.1, \\; u_M=2;$\n",
    "\n",
    "<center/><img src=\"Images/river.png\" width=\"1000\" class=\"center\"/><center/>\n",
    "\n",
    "\n",
    "with the Galerkin least square finite element method ."
   ]
  },
  {
   "cell_type": "markdown",
   "id": "a58ffd21-385c-42d4-bf6c-4b5f2ce25071",
   "metadata": {},
   "source": [
    "## 1."
   ]
  },
  {
   "cell_type": "markdown",
   "id": "fcc0f54e-2c0f-4cee-976b-73be4b83fd0b",
   "metadata": {},
   "source": [
    "## 2."
   ]
  },
  {
   "cell_type": "markdown",
   "id": "b7e4cf60-f55b-4af4-b8b7-6393e279b343",
   "metadata": {},
   "source": [
    "## 3."
   ]
  },
  {
   "cell_type": "markdown",
   "id": "69c34384-1f62-41fe-9dbf-a16a4f0b435b",
   "metadata": {},
   "source": [
    "## 4."
   ]
  },
  {
   "cell_type": "markdown",
   "id": "bbe0ec98-3639-461c-93be-8f206e28ad59",
   "metadata": {},
   "source": [
    "## 5."
   ]
  }
 ],
 "metadata": {
  "@webio": {
   "lastCommId": "5c9802cd-f26c-4254-b25b-94e1fdb09494",
   "lastKernelId": "1ecb4018-be9f-4436-90cb-570e72896bab"
  },
  "kernelspec": {
   "display_name": "Julia 1.7.2",
   "language": "julia",
   "name": "julia-1.7"
  },
  "language_info": {
   "file_extension": ".jl",
   "mimetype": "application/julia",
   "name": "julia",
   "version": "1.7.2"
  }
 },
 "nbformat": 4,
 "nbformat_minor": 5
}
