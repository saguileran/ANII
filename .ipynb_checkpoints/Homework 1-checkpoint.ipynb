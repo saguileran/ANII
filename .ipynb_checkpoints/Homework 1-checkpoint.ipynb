{
 "cells": [
  {
   "cell_type": "markdown",
   "id": "04721c8c",
   "metadata": {},
   "source": [
    "<center> <h1> Homework #1</h1> </center>\n",
    "<center> <h3> 2022</h3> </center>"
   ]
  },
  {
   "cell_type": "code",
   "execution_count": 17,
   "id": "00ebe239-4d0c-4801-8683-e89d829fb718",
   "metadata": {},
   "outputs": [],
   "source": [
    "using QuadGK, Calculus, Roots, LaTeXStrings, PlotlyJS, Images"
   ]
  },
  {
   "cell_type": "markdown",
   "id": "926496f5",
   "metadata": {},
   "source": [
    "## 1. \n",
    "\n",
    "$X=\\{u \\in C^1[-1,1]: u(-1)=u(1)=0\\}$\n",
    "\n",
    "$||u||_x=(\\int_0^1(u(x))^2+(u'(x))^2)dx)^{1/2}$\n",
    "\n",
    "$||u||_x=(\\int_0^1(u(x))^2dx+\\int_0^1(u'(x))^2)dx)^{1/2}=(\\frac{(u(x))^3}{3}\\Big|_0^1+\\frac{(u'(x))^3}{3}\\Big|_0^1)^{1/2}=\n",
    "\\frac{(u(1)-u(0))^3}{3}+\\frac{(u'(1)-u'(0))^3}{3})^{1/2}=\\frac{(0-1))^3}{3}+\\frac{(0-(-1)))^3}{3})^{1/2}$\n",
    "\n",
    "\n",
    "\n",
    "$u_n(x)=\\sqrt{1+{1/n}}-\\sqrt{x^2+{1/n}}$\n",
    "\n",
    "$u(x)=1-|x|$\n",
    "\n",
    "$||u_m-u_n||\\to 0$\n",
    "\n",
    "$||u_m-u_n||=\\int_0^1|u_m-u_n|dx=\\int_0^1|u_m|dx-\\int_0^1|u_n|dx$"
   ]
  },
  {
   "cell_type": "markdown",
   "id": "6181b96c-1ffc-40f4-bd49-919b4f50912f",
   "metadata": {},
   "source": [
    "## 2.  \n",
    "\n",
    "Let $u(x)$ and $v(x)$ two functions defined as follows\n",
    "\n",
    "$$ \n",
    "u(x)=\\left\\{\\begin{array}{ll}\n",
    "x, & \\text { if } 0 \\leq x \\leq 1 \\\\\n",
    "2-x & \\text { if } 1 \\leq x \\leq 2\n",
    "\\end{array} \\quad y \\quad v(x)=\\sin \\pi x\\right.\n",
    "$$\n",
    "\n",
    "with their derivatives\n",
    "\n",
    "$$ \n",
    "u'(x)=\\left\\{\\begin{array}{ll}\n",
    "1, & \\text { if } 0 \\leq x \\leq 1 \\\\\n",
    "-1 & \\text { if } 1 \\leq x \\leq 2\n",
    "\\end{array} \\quad y \\quad v'(x) = \\pi\\cos \\pi x\\right.\n",
    "$$"
   ]
  },
  {
   "cell_type": "code",
   "execution_count": 2,
   "id": "70cac767-933e-45b6-98dd-4989f7c6645a",
   "metadata": {},
   "outputs": [],
   "source": [
    "function u(x)\n",
    "    if 0 <= x <=1\n",
    "        return x\n",
    "    elseif 1 < x <=2\n",
    "        return 2 - x\n",
    "    else \n",
    "        return 0\n",
    "    end\n",
    "end\n",
    "\n",
    "function up(x)\n",
    "    if 0 <= x <=1\n",
    "        return 1\n",
    "    elseif 1 < x <=2\n",
    "        return -1\n",
    "    else \n",
    "        return 0\n",
    "    end\n",
    "end\n",
    "\n",
    "v(x)  = sin(pi * x)\n",
    "vp(x) = pi * cos(pi * x)\n",
    "\n",
    "x = range(0, 2, step=0.1) |> collect;"
   ]
  },
  {
   "cell_type": "code",
   "execution_count": 3,
   "id": "f993b5a7-88aa-4834-9e42-c76a1365e63e",
   "metadata": {},
   "outputs": [
    {
     "data": {
      "application/vnd.plotly.v1+json": {
       "data": [
        {
         "mode": "lines+markers",
         "name": "u(x)",
         "type": "scatter",
         "x": [
          0,
          0.1,
          0.2,
          0.3,
          0.4,
          0.5,
          0.6,
          0.7,
          0.8,
          0.9,
          1,
          1.1,
          1.2,
          1.3,
          1.4,
          1.5,
          1.6,
          1.7,
          1.8,
          1.9,
          2
         ],
         "xaxis": "x1",
         "y": [
          0,
          0.1,
          0.2,
          0.3,
          0.4,
          0.5,
          0.6,
          0.7,
          0.8,
          0.9,
          1,
          0.8999999999999999,
          0.8,
          0.7,
          0.6000000000000001,
          0.5,
          0.3999999999999999,
          0.30000000000000004,
          0.19999999999999996,
          0.10000000000000009,
          0
         ],
         "yaxis": "y1"
        },
        {
         "mode": "lines+markers",
         "name": "v(x)",
         "type": "scatter",
         "x": [
          0,
          0.1,
          0.2,
          0.3,
          0.4,
          0.5,
          0.6,
          0.7,
          0.8,
          0.9,
          1,
          1.1,
          1.2,
          1.3,
          1.4,
          1.5,
          1.6,
          1.7,
          1.8,
          1.9,
          2
         ],
         "xaxis": "x1",
         "y": [
          0,
          0.3090169943749474,
          0.5877852522924731,
          0.8090169943749475,
          0.9510565162951535,
          1,
          0.9510565162951536,
          0.8090169943749475,
          0.5877852522924732,
          0.3090169943749475,
          1.2246467991473532e-16,
          -0.30901699437494773,
          -0.587785252292473,
          -0.8090169943749473,
          -0.9510565162951535,
          -1,
          -0.9510565162951536,
          -0.8090169943749476,
          -0.5877852522924734,
          -0.3090169943749476,
          -2.4492935982947064e-16
         ],
         "yaxis": "y1"
        },
        {
         "fill": "tozeroy",
         "mode": "lines+markers",
         "name": "u(x) * v(x)",
         "type": "scatter",
         "x": [
          0,
          0.1,
          0.2,
          0.3,
          0.4,
          0.5,
          0.6,
          0.7,
          0.8,
          0.9,
          1,
          1.1,
          1.2,
          1.3,
          1.4,
          1.5,
          1.6,
          1.7,
          1.8,
          1.9,
          2
         ],
         "xaxis": "x1",
         "y": [
          0,
          0.03090169943749474,
          0.11755705045849463,
          0.2427050983124842,
          0.3804226065180614,
          0.5,
          0.5706339097770922,
          0.5663118960624631,
          0.4702282018339786,
          0.27811529493745274,
          1.2246467991473532e-16,
          -0.2781152949374529,
          -0.47022820183397845,
          -0.5663118960624631,
          -0.5706339097770922,
          -0.5,
          -0.38042260651806137,
          -0.2427050983124843,
          -0.11755705045849464,
          -0.030901699437494788,
          0
         ],
         "yaxis": "y1"
        },
        {
         "mode": "lines+markers",
         "name": "u'(x)",
         "type": "scatter",
         "x": [
          0,
          0.1,
          0.2,
          0.3,
          0.4,
          0.5,
          0.6,
          0.7,
          0.8,
          0.9,
          1,
          1.1,
          1.2,
          1.3,
          1.4,
          1.5,
          1.6,
          1.7,
          1.8,
          1.9,
          2
         ],
         "xaxis": "x2",
         "y": [
          1,
          1,
          1,
          1,
          1,
          1,
          1,
          1,
          1,
          1,
          1,
          -1,
          -1,
          -1,
          -1,
          -1,
          -1,
          -1,
          -1,
          -1,
          -1
         ],
         "yaxis": "y2"
        },
        {
         "mode": "lines+markers",
         "name": "v'(x)",
         "type": "scatter",
         "x": [
          0,
          0.1,
          0.2,
          0.3,
          0.4,
          0.5,
          0.6,
          0.7,
          0.8,
          0.9,
          1,
          1.1,
          1.2,
          1.3,
          1.4,
          1.5,
          1.6,
          1.7,
          1.8,
          1.9,
          2
         ],
         "xaxis": "x2",
         "y": [
          3.141592653589793,
          2.9878321647415556,
          2.5416018461576297,
          1.8465818304904567,
          0.9708055193627333,
          1.9236706937217898e-16,
          -0.970805519362733,
          -1.8465818304904564,
          -2.5416018461576297,
          -2.9878321647415556,
          -3.141592653589793,
          -2.9878321647415556,
          -2.5416018461576297,
          -1.846581830490457,
          -0.9708055193627337,
          -5.771012081165369e-16,
          0.9708055193627326,
          1.846581830490456,
          2.5416018461576297,
          2.9878321647415556,
          3.141592653589793
         ],
         "yaxis": "y2"
        },
        {
         "fill": "tozeroy",
         "mode": "lines+markers",
         "name": "u'(x) * v'(x)",
         "type": "scatter",
         "x": [
          0,
          0.1,
          0.2,
          0.3,
          0.4,
          0.5,
          0.6,
          0.7,
          0.8,
          0.9,
          1,
          1.1,
          1.2,
          1.3,
          1.4,
          1.5,
          1.6,
          1.7,
          1.8,
          1.9,
          2
         ],
         "xaxis": "x2",
         "y": [
          3.141592653589793,
          2.9878321647415556,
          2.5416018461576297,
          1.8465818304904567,
          0.9708055193627333,
          1.9236706937217898e-16,
          -0.970805519362733,
          -1.8465818304904564,
          -2.5416018461576297,
          -2.9878321647415556,
          -3.141592653589793,
          2.9878321647415556,
          2.5416018461576297,
          1.846581830490457,
          0.9708055193627337,
          5.771012081165369e-16,
          -0.9708055193627326,
          -1.846581830490456,
          -2.5416018461576297,
          -2.9878321647415556,
          -3.141592653589793
         ],
         "yaxis": "y2"
        }
       ],
       "frames": [],
       "layout": {
        "annotations": [
         {
          "font": {
           "size": 16
          },
          "showarrow": false,
          "text": "Functions",
          "x": 0.225,
          "xanchor": "center",
          "xref": "paper",
          "y": 1,
          "yanchor": "bottom",
          "yref": "paper"
         },
         {
          "font": {
           "size": 16
          },
          "showarrow": false,
          "text": "Function Derivative",
          "x": 0.775,
          "xanchor": "center",
          "xref": "paper",
          "y": 1,
          "yanchor": "bottom",
          "yref": "paper"
         }
        ],
        "margin": {
         "b": 50,
         "l": 50,
         "r": 50,
         "t": 60
        },
        "xaxis1": {
         "anchor": "y1",
         "domain": [
          0,
          0.45
         ],
         "title": "x"
        },
        "xaxis2": {
         "anchor": "y2",
         "domain": [
          0.55,
          1
         ],
         "title": "x"
        },
        "yaxis1": {
         "anchor": "x1",
         "domain": [
          0,
          1
         ]
        },
        "yaxis2": {
         "anchor": "x2",
         "domain": [
          0,
          1
         ]
        }
       }
      },
      "application/vnd.webio.node+json": {
       "children": [
        {
         "children": [],
         "instanceArgs": {
          "namespace": "html",
          "tag": "div"
         },
         "nodeType": "DOM",
         "props": {
          "id": "plot-fe0c0a94-6102-4b8a-987c-1c11c097a68d"
         },
         "type": "node"
        }
       ],
       "instanceArgs": {
        "handlers": {
         "__get_gd_contents": [
          "(function (prop){prop==\"data\" ? (WebIO.setval({\"name\":\"__gd_contents\",\"scope\":\"1354391941083786703\",\"id\":\"16186563709426919991\",\"type\":\"observable\"},this.plotElem.data)) : undefined; return prop==\"layout\" ? (WebIO.setval({\"name\":\"__gd_contents\",\"scope\":\"1354391941083786703\",\"id\":\"16186563709426919991\",\"type\":\"observable\"},this.plotElem.layout)) : undefined})"
         ],
         "_commands": [
          "(function (args){var fn=args.shift(); var elem=this.plotElem; var Plotly=this.Plotly; args.unshift(elem); return Plotly[fn].apply(this,args)})"
         ],
         "_downloadImage": [
          "(function (options){return this.Plotly.downloadImage(this.plotElem,options)})"
         ],
         "_toImage": [
          "(function (options){return this.Plotly.toImage(this.plotElem,options).then((function (data){return WebIO.setval({\"name\":\"image\",\"scope\":\"1354391941083786703\",\"id\":\"18081075738784840017\",\"type\":\"observable\"},data)}))})"
         ]
        },
        "id": "1354391941083786703",
        "imports": {
         "data": [
          {
           "name": "Plotly",
           "type": "js",
           "url": "/assetserver/c843c6635296ea5f415808032e6c1f322a3239cd-plotly.min.js"
          },
          {
           "name": null,
           "type": "js",
           "url": "/assetserver/44e1943a6c8ed4b38e47f64f07dc32566142c8ee-plotly_webio.bundle.js"
          }
         ],
         "type": "async_block"
        },
        "mount_callbacks": [
         "function () {\n    var handler = ((function (Plotly,PlotlyWebIO){PlotlyWebIO.init(WebIO); var gd=this.dom.querySelector(\"#plot-fe0c0a94-6102-4b8a-987c-1c11c097a68d\"); this.plotElem=gd; this.Plotly=Plotly; (window.Blink!==undefined) ? (gd.style.width=\"100%\", gd.style.height=\"100vh\", gd.style.marginLeft=\"0%\", gd.style.marginTop=\"0vh\") : undefined; window.onresize=(function (){return Plotly.Plots.resize(gd)}); Plotly.newPlot(gd,[{\"mode\":\"lines+markers\",\"xaxis\":\"x1\",\"y\":[0.0,0.1,0.2,0.3,0.4,0.5,0.6,0.7,0.8,0.9,1.0,0.8999999999999999,0.8,0.7,0.6000000000000001,0.5,0.3999999999999999,0.30000000000000004,0.19999999999999996,0.10000000000000009,0.0],\"type\":\"scatter\",\"name\":\"u(x)\",\"yaxis\":\"y1\",\"x\":[0.0,0.1,0.2,0.3,0.4,0.5,0.6,0.7,0.8,0.9,1.0,1.1,1.2,1.3,1.4,1.5,1.6,1.7,1.8,1.9,2.0]},{\"mode\":\"lines+markers\",\"xaxis\":\"x1\",\"y\":[0.0,0.3090169943749474,0.5877852522924731,0.8090169943749475,0.9510565162951535,1.0,0.9510565162951536,0.8090169943749475,0.5877852522924732,0.3090169943749475,1.2246467991473532e-16,-0.30901699437494773,-0.587785252292473,-0.8090169943749473,-0.9510565162951535,-1.0,-0.9510565162951536,-0.8090169943749476,-0.5877852522924734,-0.3090169943749476,-2.4492935982947064e-16],\"type\":\"scatter\",\"name\":\"v(x)\",\"yaxis\":\"y1\",\"x\":[0.0,0.1,0.2,0.3,0.4,0.5,0.6,0.7,0.8,0.9,1.0,1.1,1.2,1.3,1.4,1.5,1.6,1.7,1.8,1.9,2.0]},{\"mode\":\"lines+markers\",\"xaxis\":\"x1\",\"y\":[0.0,0.03090169943749474,0.11755705045849463,0.2427050983124842,0.3804226065180614,0.5,0.5706339097770922,0.5663118960624631,0.4702282018339786,0.27811529493745274,1.2246467991473532e-16,-0.2781152949374529,-0.47022820183397845,-0.5663118960624631,-0.5706339097770922,-0.5,-0.38042260651806137,-0.2427050983124843,-0.11755705045849464,-0.030901699437494788,-0.0],\"type\":\"scatter\",\"name\":\"u(x) * v(x)\",\"fill\":\"tozeroy\",\"yaxis\":\"y1\",\"x\":[0.0,0.1,0.2,0.3,0.4,0.5,0.6,0.7,0.8,0.9,1.0,1.1,1.2,1.3,1.4,1.5,1.6,1.7,1.8,1.9,2.0]},{\"mode\":\"lines+markers\",\"xaxis\":\"x2\",\"y\":[1,1,1,1,1,1,1,1,1,1,1,-1,-1,-1,-1,-1,-1,-1,-1,-1,-1],\"type\":\"scatter\",\"name\":\"u'(x)\",\"yaxis\":\"y2\",\"x\":[0.0,0.1,0.2,0.3,0.4,0.5,0.6,0.7,0.8,0.9,1.0,1.1,1.2,1.3,1.4,1.5,1.6,1.7,1.8,1.9,2.0]},{\"mode\":\"lines+markers\",\"xaxis\":\"x2\",\"y\":[3.141592653589793,2.9878321647415556,2.5416018461576297,1.8465818304904567,0.9708055193627333,1.9236706937217898e-16,-0.970805519362733,-1.8465818304904564,-2.5416018461576297,-2.9878321647415556,-3.141592653589793,-2.9878321647415556,-2.5416018461576297,-1.846581830490457,-0.9708055193627337,-5.771012081165369e-16,0.9708055193627326,1.846581830490456,2.5416018461576297,2.9878321647415556,3.141592653589793],\"type\":\"scatter\",\"name\":\"v'(x)\",\"yaxis\":\"y2\",\"x\":[0.0,0.1,0.2,0.3,0.4,0.5,0.6,0.7,0.8,0.9,1.0,1.1,1.2,1.3,1.4,1.5,1.6,1.7,1.8,1.9,2.0]},{\"mode\":\"lines+markers\",\"xaxis\":\"x2\",\"y\":[3.141592653589793,2.9878321647415556,2.5416018461576297,1.8465818304904567,0.9708055193627333,1.9236706937217898e-16,-0.970805519362733,-1.8465818304904564,-2.5416018461576297,-2.9878321647415556,-3.141592653589793,2.9878321647415556,2.5416018461576297,1.846581830490457,0.9708055193627337,5.771012081165369e-16,-0.9708055193627326,-1.846581830490456,-2.5416018461576297,-2.9878321647415556,-3.141592653589793],\"type\":\"scatter\",\"name\":\"u'(x) * v'(x)\",\"fill\":\"tozeroy\",\"yaxis\":\"y2\",\"x\":[0.0,0.1,0.2,0.3,0.4,0.5,0.6,0.7,0.8,0.9,1.0,1.1,1.2,1.3,1.4,1.5,1.6,1.7,1.8,1.9,2.0]}],{\"xaxis1\":{\"title\":\"x\",\"domain\":[0.0,0.45],\"anchor\":\"y1\"},\"yaxis1\":{\"domain\":[0.0,1.0],\"anchor\":\"x1\"},\"xaxis2\":{\"title\":\"x\",\"domain\":[0.55,1.0],\"anchor\":\"y2\"},\"annotations\":[{\"yanchor\":\"bottom\",\"xanchor\":\"center\",\"y\":1.0,\"font\":{\"size\":16},\"showarrow\":false,\"yref\":\"paper\",\"text\":\"Functions\",\"xref\":\"paper\",\"x\":0.225},{\"yanchor\":\"bottom\",\"xanchor\":\"center\",\"y\":1.0,\"font\":{\"size\":16},\"showarrow\":false,\"yref\":\"paper\",\"text\":\"Function Derivative\",\"xref\":\"paper\",\"x\":0.775}],\"margin\":{\"l\":50,\"b\":50,\"r\":50,\"t\":60},\"yaxis2\":{\"domain\":[0.0,1.0],\"anchor\":\"x2\"}},{\"showLink\":false}); gd.on(\"plotly_hover\",(function (data){var filtered_data=WebIO.PlotlyCommands.filterEventData(gd,data,\"hover\"); return !(filtered_data.isnil) ? (WebIO.setval({\"name\":\"hover\",\"scope\":\"1354391941083786703\",\"id\":\"1949691981445190594\",\"type\":\"observable\"},filtered_data.out)) : undefined})); gd.on(\"plotly_unhover\",(function (){return WebIO.setval({\"name\":\"hover\",\"scope\":\"1354391941083786703\",\"id\":\"1949691981445190594\",\"type\":\"observable\"},{})})); gd.on(\"plotly_selected\",(function (data){var filtered_data=WebIO.PlotlyCommands.filterEventData(gd,data,\"selected\"); return !(filtered_data.isnil) ? (WebIO.setval({\"name\":\"selected\",\"scope\":\"1354391941083786703\",\"id\":\"14069356678627409260\",\"type\":\"observable\"},filtered_data.out)) : undefined})); gd.on(\"plotly_deselect\",(function (){return WebIO.setval({\"name\":\"selected\",\"scope\":\"1354391941083786703\",\"id\":\"14069356678627409260\",\"type\":\"observable\"},{})})); gd.on(\"plotly_relayout\",(function (data){var filtered_data=WebIO.PlotlyCommands.filterEventData(gd,data,\"relayout\"); return !(filtered_data.isnil) ? (WebIO.setval({\"name\":\"relayout\",\"scope\":\"1354391941083786703\",\"id\":\"12985086272224824259\",\"type\":\"observable\"},filtered_data.out)) : undefined})); return gd.on(\"plotly_click\",(function (data){var filtered_data=WebIO.PlotlyCommands.filterEventData(gd,data,\"click\"); return !(filtered_data.isnil) ? (WebIO.setval({\"name\":\"click\",\"scope\":\"1354391941083786703\",\"id\":\"10411570218342357377\",\"type\":\"observable\"},filtered_data.out)) : undefined}))}));\n    (WebIO.importBlock({\"data\":[{\"name\":\"Plotly\",\"type\":\"js\",\"url\":\"/assetserver/c843c6635296ea5f415808032e6c1f322a3239cd-plotly.min.js\"},{\"name\":null,\"type\":\"js\",\"url\":\"/assetserver/44e1943a6c8ed4b38e47f64f07dc32566142c8ee-plotly_webio.bundle.js\"}],\"type\":\"async_block\"})).then((imports) => handler.apply(this, imports));\n}\n"
        ],
        "observables": {
         "__gd_contents": {
          "id": "16186563709426919991",
          "sync": false,
          "value": {}
         },
         "__get_gd_contents": {
          "id": "12096900437443844572",
          "sync": false,
          "value": ""
         },
         "_commands": {
          "id": "10037188325681465235",
          "sync": false,
          "value": []
         },
         "_downloadImage": {
          "id": "18052092094719613816",
          "sync": false,
          "value": {}
         },
         "_toImage": {
          "id": "3132367265535316477",
          "sync": false,
          "value": {}
         },
         "click": {
          "id": "10411570218342357377",
          "sync": false,
          "value": {}
         },
         "hover": {
          "id": "1949691981445190594",
          "sync": false,
          "value": {}
         },
         "image": {
          "id": "18081075738784840017",
          "sync": true,
          "value": ""
         },
         "relayout": {
          "id": "12985086272224824259",
          "sync": false,
          "value": {}
         },
         "selected": {
          "id": "14069356678627409260",
          "sync": false,
          "value": {}
         }
        },
        "systemjs_options": null
       },
       "nodeType": "Scope",
       "props": {},
       "type": "node"
      },
      "text/html": [
       "<div\n",
       "    class=\"webio-mountpoint\"\n",
       "    data-webio-mountpoint=\"1976286267814750673\"\n",
       ">\n",
       "    <script>\n",
       "    (function(){\n",
       "    // Some integrations (namely, IJulia/Jupyter) use an alternate render pathway than\n",
       "    // just putting the html on the page. If WebIO isn't defined, then it's pretty likely\n",
       "    // that we're in one of those situations and the integration just isn't installed\n",
       "    // correctly.\n",
       "    if (typeof window.WebIO === \"undefined\") {\n",
       "        document\n",
       "            .querySelector('[data-webio-mountpoint=\"1976286267814750673\"]')\n",
       "            .innerHTML = (\n",
       "                '<div style=\"padding: 1em; background-color: #f8d6da; border: 1px solid #f5c6cb; font-weight: bold;\">' +\n",
       "                '<p><strong>WebIO not detected.</strong></p>' +\n",
       "                '<p>Please read ' +\n",
       "                '<a href=\"https://juliagizmos.github.io/WebIO.jl/latest/troubleshooting/not-detected/\" target=\"_blank\">the troubleshooting guide</a> ' +\n",
       "                'for more information on how to resolve this issue.</p>' +\n",
       "                '<p><a href=\"https://juliagizmos.github.io/WebIO.jl/latest/troubleshooting/not-detected/\" target=\"_blank\">https://juliagizmos.github.io/WebIO.jl/latest/troubleshooting/not-detected/</a></p>' +\n",
       "                '</div>'\n",
       "            );\n",
       "        return;\n",
       "    }\n",
       "    WebIO.mount(\n",
       "        document.querySelector('[data-webio-mountpoint=\"1976286267814750673\"]'),\n",
       "        {\"props\":{},\"nodeType\":\"Scope\",\"type\":\"node\",\"instanceArgs\":{\"imports\":{\"data\":[{\"name\":\"Plotly\",\"type\":\"js\",\"url\":\"\\/assetserver\\/c843c6635296ea5f415808032e6c1f322a3239cd-plotly.min.js\"},{\"name\":null,\"type\":\"js\",\"url\":\"\\/assetserver\\/44e1943a6c8ed4b38e47f64f07dc32566142c8ee-plotly_webio.bundle.js\"}],\"type\":\"async_block\"},\"id\":\"1354391941083786703\",\"handlers\":{\"_toImage\":[\"(function (options){return this.Plotly.toImage(this.plotElem,options).then((function (data){return WebIO.setval({\\\"name\\\":\\\"image\\\",\\\"scope\\\":\\\"1354391941083786703\\\",\\\"id\\\":\\\"18081075738784840017\\\",\\\"type\\\":\\\"observable\\\"},data)}))})\"],\"__get_gd_contents\":[\"(function (prop){prop==\\\"data\\\" ? (WebIO.setval({\\\"name\\\":\\\"__gd_contents\\\",\\\"scope\\\":\\\"1354391941083786703\\\",\\\"id\\\":\\\"16186563709426919991\\\",\\\"type\\\":\\\"observable\\\"},this.plotElem.data)) : undefined; return prop==\\\"layout\\\" ? (WebIO.setval({\\\"name\\\":\\\"__gd_contents\\\",\\\"scope\\\":\\\"1354391941083786703\\\",\\\"id\\\":\\\"16186563709426919991\\\",\\\"type\\\":\\\"observable\\\"},this.plotElem.layout)) : undefined})\"],\"_downloadImage\":[\"(function (options){return this.Plotly.downloadImage(this.plotElem,options)})\"],\"_commands\":[\"(function (args){var fn=args.shift(); var elem=this.plotElem; var Plotly=this.Plotly; args.unshift(elem); return Plotly[fn].apply(this,args)})\"]},\"systemjs_options\":null,\"mount_callbacks\":[\"function () {\\n    var handler = ((function (Plotly,PlotlyWebIO){PlotlyWebIO.init(WebIO); var gd=this.dom.querySelector(\\\"#plot-fe0c0a94-6102-4b8a-987c-1c11c097a68d\\\"); this.plotElem=gd; this.Plotly=Plotly; (window.Blink!==undefined) ? (gd.style.width=\\\"100%\\\", gd.style.height=\\\"100vh\\\", gd.style.marginLeft=\\\"0%\\\", gd.style.marginTop=\\\"0vh\\\") : undefined; window.onresize=(function (){return Plotly.Plots.resize(gd)}); Plotly.newPlot(gd,[{\\\"mode\\\":\\\"lines+markers\\\",\\\"xaxis\\\":\\\"x1\\\",\\\"y\\\":[0.0,0.1,0.2,0.3,0.4,0.5,0.6,0.7,0.8,0.9,1.0,0.8999999999999999,0.8,0.7,0.6000000000000001,0.5,0.3999999999999999,0.30000000000000004,0.19999999999999996,0.10000000000000009,0.0],\\\"type\\\":\\\"scatter\\\",\\\"name\\\":\\\"u(x)\\\",\\\"yaxis\\\":\\\"y1\\\",\\\"x\\\":[0.0,0.1,0.2,0.3,0.4,0.5,0.6,0.7,0.8,0.9,1.0,1.1,1.2,1.3,1.4,1.5,1.6,1.7,1.8,1.9,2.0]},{\\\"mode\\\":\\\"lines+markers\\\",\\\"xaxis\\\":\\\"x1\\\",\\\"y\\\":[0.0,0.3090169943749474,0.5877852522924731,0.8090169943749475,0.9510565162951535,1.0,0.9510565162951536,0.8090169943749475,0.5877852522924732,0.3090169943749475,1.2246467991473532e-16,-0.30901699437494773,-0.587785252292473,-0.8090169943749473,-0.9510565162951535,-1.0,-0.9510565162951536,-0.8090169943749476,-0.5877852522924734,-0.3090169943749476,-2.4492935982947064e-16],\\\"type\\\":\\\"scatter\\\",\\\"name\\\":\\\"v(x)\\\",\\\"yaxis\\\":\\\"y1\\\",\\\"x\\\":[0.0,0.1,0.2,0.3,0.4,0.5,0.6,0.7,0.8,0.9,1.0,1.1,1.2,1.3,1.4,1.5,1.6,1.7,1.8,1.9,2.0]},{\\\"mode\\\":\\\"lines+markers\\\",\\\"xaxis\\\":\\\"x1\\\",\\\"y\\\":[0.0,0.03090169943749474,0.11755705045849463,0.2427050983124842,0.3804226065180614,0.5,0.5706339097770922,0.5663118960624631,0.4702282018339786,0.27811529493745274,1.2246467991473532e-16,-0.2781152949374529,-0.47022820183397845,-0.5663118960624631,-0.5706339097770922,-0.5,-0.38042260651806137,-0.2427050983124843,-0.11755705045849464,-0.030901699437494788,-0.0],\\\"type\\\":\\\"scatter\\\",\\\"name\\\":\\\"u(x) * v(x)\\\",\\\"fill\\\":\\\"tozeroy\\\",\\\"yaxis\\\":\\\"y1\\\",\\\"x\\\":[0.0,0.1,0.2,0.3,0.4,0.5,0.6,0.7,0.8,0.9,1.0,1.1,1.2,1.3,1.4,1.5,1.6,1.7,1.8,1.9,2.0]},{\\\"mode\\\":\\\"lines+markers\\\",\\\"xaxis\\\":\\\"x2\\\",\\\"y\\\":[1,1,1,1,1,1,1,1,1,1,1,-1,-1,-1,-1,-1,-1,-1,-1,-1,-1],\\\"type\\\":\\\"scatter\\\",\\\"name\\\":\\\"u'(x)\\\",\\\"yaxis\\\":\\\"y2\\\",\\\"x\\\":[0.0,0.1,0.2,0.3,0.4,0.5,0.6,0.7,0.8,0.9,1.0,1.1,1.2,1.3,1.4,1.5,1.6,1.7,1.8,1.9,2.0]},{\\\"mode\\\":\\\"lines+markers\\\",\\\"xaxis\\\":\\\"x2\\\",\\\"y\\\":[3.141592653589793,2.9878321647415556,2.5416018461576297,1.8465818304904567,0.9708055193627333,1.9236706937217898e-16,-0.970805519362733,-1.8465818304904564,-2.5416018461576297,-2.9878321647415556,-3.141592653589793,-2.9878321647415556,-2.5416018461576297,-1.846581830490457,-0.9708055193627337,-5.771012081165369e-16,0.9708055193627326,1.846581830490456,2.5416018461576297,2.9878321647415556,3.141592653589793],\\\"type\\\":\\\"scatter\\\",\\\"name\\\":\\\"v'(x)\\\",\\\"yaxis\\\":\\\"y2\\\",\\\"x\\\":[0.0,0.1,0.2,0.3,0.4,0.5,0.6,0.7,0.8,0.9,1.0,1.1,1.2,1.3,1.4,1.5,1.6,1.7,1.8,1.9,2.0]},{\\\"mode\\\":\\\"lines+markers\\\",\\\"xaxis\\\":\\\"x2\\\",\\\"y\\\":[3.141592653589793,2.9878321647415556,2.5416018461576297,1.8465818304904567,0.9708055193627333,1.9236706937217898e-16,-0.970805519362733,-1.8465818304904564,-2.5416018461576297,-2.9878321647415556,-3.141592653589793,2.9878321647415556,2.5416018461576297,1.846581830490457,0.9708055193627337,5.771012081165369e-16,-0.9708055193627326,-1.846581830490456,-2.5416018461576297,-2.9878321647415556,-3.141592653589793],\\\"type\\\":\\\"scatter\\\",\\\"name\\\":\\\"u'(x) * v'(x)\\\",\\\"fill\\\":\\\"tozeroy\\\",\\\"yaxis\\\":\\\"y2\\\",\\\"x\\\":[0.0,0.1,0.2,0.3,0.4,0.5,0.6,0.7,0.8,0.9,1.0,1.1,1.2,1.3,1.4,1.5,1.6,1.7,1.8,1.9,2.0]}],{\\\"xaxis1\\\":{\\\"title\\\":\\\"x\\\",\\\"domain\\\":[0.0,0.45],\\\"anchor\\\":\\\"y1\\\"},\\\"yaxis1\\\":{\\\"domain\\\":[0.0,1.0],\\\"anchor\\\":\\\"x1\\\"},\\\"xaxis2\\\":{\\\"title\\\":\\\"x\\\",\\\"domain\\\":[0.55,1.0],\\\"anchor\\\":\\\"y2\\\"},\\\"annotations\\\":[{\\\"yanchor\\\":\\\"bottom\\\",\\\"xanchor\\\":\\\"center\\\",\\\"y\\\":1.0,\\\"font\\\":{\\\"size\\\":16},\\\"showarrow\\\":false,\\\"yref\\\":\\\"paper\\\",\\\"text\\\":\\\"Functions\\\",\\\"xref\\\":\\\"paper\\\",\\\"x\\\":0.225},{\\\"yanchor\\\":\\\"bottom\\\",\\\"xanchor\\\":\\\"center\\\",\\\"y\\\":1.0,\\\"font\\\":{\\\"size\\\":16},\\\"showarrow\\\":false,\\\"yref\\\":\\\"paper\\\",\\\"text\\\":\\\"Function Derivative\\\",\\\"xref\\\":\\\"paper\\\",\\\"x\\\":0.775}],\\\"margin\\\":{\\\"l\\\":50,\\\"b\\\":50,\\\"r\\\":50,\\\"t\\\":60},\\\"yaxis2\\\":{\\\"domain\\\":[0.0,1.0],\\\"anchor\\\":\\\"x2\\\"}},{\\\"showLink\\\":false}); gd.on(\\\"plotly_hover\\\",(function (data){var filtered_data=WebIO.PlotlyCommands.filterEventData(gd,data,\\\"hover\\\"); return !(filtered_data.isnil) ? (WebIO.setval({\\\"name\\\":\\\"hover\\\",\\\"scope\\\":\\\"1354391941083786703\\\",\\\"id\\\":\\\"1949691981445190594\\\",\\\"type\\\":\\\"observable\\\"},filtered_data.out)) : undefined})); gd.on(\\\"plotly_unhover\\\",(function (){return WebIO.setval({\\\"name\\\":\\\"hover\\\",\\\"scope\\\":\\\"1354391941083786703\\\",\\\"id\\\":\\\"1949691981445190594\\\",\\\"type\\\":\\\"observable\\\"},{})})); gd.on(\\\"plotly_selected\\\",(function (data){var filtered_data=WebIO.PlotlyCommands.filterEventData(gd,data,\\\"selected\\\"); return !(filtered_data.isnil) ? (WebIO.setval({\\\"name\\\":\\\"selected\\\",\\\"scope\\\":\\\"1354391941083786703\\\",\\\"id\\\":\\\"14069356678627409260\\\",\\\"type\\\":\\\"observable\\\"},filtered_data.out)) : undefined})); gd.on(\\\"plotly_deselect\\\",(function (){return WebIO.setval({\\\"name\\\":\\\"selected\\\",\\\"scope\\\":\\\"1354391941083786703\\\",\\\"id\\\":\\\"14069356678627409260\\\",\\\"type\\\":\\\"observable\\\"},{})})); gd.on(\\\"plotly_relayout\\\",(function (data){var filtered_data=WebIO.PlotlyCommands.filterEventData(gd,data,\\\"relayout\\\"); return !(filtered_data.isnil) ? (WebIO.setval({\\\"name\\\":\\\"relayout\\\",\\\"scope\\\":\\\"1354391941083786703\\\",\\\"id\\\":\\\"12985086272224824259\\\",\\\"type\\\":\\\"observable\\\"},filtered_data.out)) : undefined})); return gd.on(\\\"plotly_click\\\",(function (data){var filtered_data=WebIO.PlotlyCommands.filterEventData(gd,data,\\\"click\\\"); return !(filtered_data.isnil) ? (WebIO.setval({\\\"name\\\":\\\"click\\\",\\\"scope\\\":\\\"1354391941083786703\\\",\\\"id\\\":\\\"10411570218342357377\\\",\\\"type\\\":\\\"observable\\\"},filtered_data.out)) : undefined}))}));\\n    (WebIO.importBlock({\\\"data\\\":[{\\\"name\\\":\\\"Plotly\\\",\\\"type\\\":\\\"js\\\",\\\"url\\\":\\\"\\/assetserver\\/c843c6635296ea5f415808032e6c1f322a3239cd-plotly.min.js\\\"},{\\\"name\\\":null,\\\"type\\\":\\\"js\\\",\\\"url\\\":\\\"\\/assetserver\\/44e1943a6c8ed4b38e47f64f07dc32566142c8ee-plotly_webio.bundle.js\\\"}],\\\"type\\\":\\\"async_block\\\"})).then((imports) => handler.apply(this, imports));\\n}\\n\"],\"observables\":{\"_toImage\":{\"sync\":false,\"id\":\"3132367265535316477\",\"value\":{}},\"hover\":{\"sync\":false,\"id\":\"1949691981445190594\",\"value\":{}},\"selected\":{\"sync\":false,\"id\":\"14069356678627409260\",\"value\":{}},\"__gd_contents\":{\"sync\":false,\"id\":\"16186563709426919991\",\"value\":{}},\"click\":{\"sync\":false,\"id\":\"10411570218342357377\",\"value\":{}},\"image\":{\"sync\":true,\"id\":\"18081075738784840017\",\"value\":\"\"},\"__get_gd_contents\":{\"sync\":false,\"id\":\"12096900437443844572\",\"value\":\"\"},\"_downloadImage\":{\"sync\":false,\"id\":\"18052092094719613816\",\"value\":{}},\"relayout\":{\"sync\":false,\"id\":\"12985086272224824259\",\"value\":{}},\"_commands\":{\"sync\":false,\"id\":\"10037188325681465235\",\"value\":[]}}},\"children\":[{\"props\":{\"id\":\"plot-fe0c0a94-6102-4b8a-987c-1c11c097a68d\"},\"nodeType\":\"DOM\",\"type\":\"node\",\"instanceArgs\":{\"namespace\":\"html\",\"tag\":\"div\"},\"children\":[]}]},\n",
       "        window,\n",
       "    );\n",
       "    })()\n",
       "    </script>\n",
       "</div>\n"
      ],
      "text/plain": [
       "data: [\n",
       "  \"scatter with fields mode, name, type, x, xaxis, y, and yaxis\",\n",
       "  \"scatter with fields mode, name, type, x, xaxis, y, and yaxis\",\n",
       "  \"scatter with fields fill, mode, name, type, x, xaxis, y, and yaxis\",\n",
       "  \"scatter with fields mode, name, type, x, xaxis, y, and yaxis\",\n",
       "  \"scatter with fields mode, name, type, x, xaxis, y, and yaxis\",\n",
       "  \"scatter with fields fill, mode, name, type, x, xaxis, y, and yaxis\"\n",
       "]\n",
       "\n",
       "layout: \"layout with fields annotations, margin, xaxis1, xaxis2, yaxis1, and yaxis2\"\n",
       "\n"
      ]
     },
     "execution_count": 3,
     "metadata": {
      "@webio": {
       "kernelId": "9b8206ac-bba5-416d-991b-828e7d66a667"
      }
     },
     "output_type": "execute_result"
    }
   ],
   "source": [
    "    plot_u  = scatter(;x=x, y=u.(x), mode=\"lines+markers\", name=\"u(x)\")\n",
    "    plot_v  = scatter(;x=x, y=v.(x), mode=\"lines+markers\", name=\"v(x)\")\n",
    "    plot_uv = scatter(;x=x, y=v.(x).*u.(x), mode=\"lines+markers\", fill=\"tozeroy\", name=\"u(x) * v(x)\")\n",
    "\n",
    "    plot_up = scatter(;x=x, y=up.(x), mode=\"lines+markers\", name=\"u'(x)\")\n",
    "    plot_vp = scatter(;x=x, y=vp.(x), mode=\"lines+markers\", name=\"v'(x)\")\n",
    "    plot_uvp = scatter(;x=x, y=vp.(x).*up.(x), mode=\"lines+markers\", fill=\"tozeroy\", name=\"u'(x) * v'(x)\")\n",
    "\n",
    "    p1 = plot([plot_u, plot_v,plot_uv], Layout(title=\"Functions\",  xaxis_title=\"x\"))\n",
    "    p2 = plot([plot_up, plot_vp,plot_uvp], Layout(title=\"Function Derivative\",  xaxis_title=\"x\"))\n",
    "\n",
    "    p = [p1 p2]\n",
    "    #relayout!(p, height=300, width=700, title_text=\"Functions\", legend_title_text=\"Legend\")\n",
    "    #p"
   ]
  },
  {
   "cell_type": "markdown",
   "id": "f6b7bf5d",
   "metadata": {
    "tags": []
   },
   "source": [
    "### Orthogonality \n",
    "\n",
    "\n",
    "#### - $L^2(0,2)$ Space\n",
    "\n",
    "Norm of $L^2$ and its norm $||u||_{L^2}$\n",
    "\n",
    "$$ (u,v) =  \\int_0^2 u(x) v(x) dx  = \\int_0^1 x \\; \\sin(\\pi x) dx + \\int_1^2 (2-x)\\; \\sin(\\pi x) dx $$\n",
    "\n",
    "Integranting by steps with the sustitution $w = x$ and $dz = \\sin (\\pi x) \\; dx$\n",
    "\n",
    "$$ (u,v)_{L^2} = \\frac{1}{\\pi}x\\cos(\\pi x)\\Big|_0^1 - \\frac{1}{\\pi}\\int_0^1 \\; \\cos(\\pi x) dx + \\frac{1}{\\pi}(2-x)\\cos(\\pi x)\\Big|_1^2 - \\frac{1}{\\pi} \\int_1^2 \\; \\cos(\\pi x) dx \\\\\n",
    "(u,v)_{L^2} = \\frac{1}{\\pi}\\cos(\\pi) - \\frac{1}{\\pi^2}\\sin(\\pi x)\\Big|_0^1 - \\frac{1}{\\pi}\\cos(\\pi) - \\frac{1}{\\pi^2}  \\sin(\\pi x)\\Big|_0^1  \\\\\n",
    "(u,v)_{L^2} = \\frac{1}{\\pi}\\cos(\\pi) - \\frac{1}{\\pi}\\cos(\\pi) -  \\frac{1}{\\pi^2} ( \\sin(\\pi) - \\sin(0) ) - \\frac{1}{\\pi^2} ( \\sin(2\\pi) - \\sin(\\pi) ) = \\frac{1}{\\pi} - \\frac{1}{\\pi} -(0-0) -(0-0) \\\\\n",
    "\\Longrightarrow  \\quad \\boxed{(u,v)_{L^2} =  0}\n",
    "$$\n",
    "The function $u$ and $v$ are orthogonals in $L^2(0,2)$.  "
   ]
  },
  {
   "cell_type": "code",
   "execution_count": 4,
   "id": "0340d164-f1b4-4ac8-b1ec-6859f750ba9e",
   "metadata": {},
   "outputs": [
    {
     "data": {
      "text/plain": [
       "(2.0816681711721685e-17, 0.0)"
      ]
     },
     "execution_count": 4,
     "metadata": {},
     "output_type": "execute_result"
    }
   ],
   "source": [
    "integral, err = quadgk(x -> u(x)*v(x), 0, 2, rtol=1e-8)"
   ]
  },
  {
   "cell_type": "markdown",
   "id": "483b9f12-1710-4736-b422-26c1dd604afb",
   "metadata": {
    "tags": []
   },
   "source": [
    "#### - $H^1(0,2)$ Space\n",
    "\n",
    "Now, let's check if $u$ and $v$ are orthogonal in $H^1(0,2)$ usign the its norm and their derivatives\n",
    "\n",
    "$$ \n",
    "(u,v)_{H^1} =  \\int_0^2 u(x) v(x) dx  + \\int_0^2 u'(x) v'(x) dx = 0 + \\int_0^1 u'(x) v'(x) dx  + \\int_1^2 u'(x) v'(x) dx  \\\\\n",
    "(u,v)_{H^1} = \\pi\\int_0^1 1 \\; \\cos(\\pi x) dx + \\pi\\int_1^2 (-1)\\; \\cos(\\pi x) dx = \\sin(\\pi x) \\Big|_0^1 - \\sin(\\pi x)\\Big|_1^2\\\\ \n",
    "\\Longrightarrow \\quad \\boxed{(u,v)_{H^1} = 0}\n",
    "$$\n",
    "Then, the functions $u$ and $v$ are orthogonal on $H^1(0,2)$."
   ]
  },
  {
   "cell_type": "code",
   "execution_count": 5,
   "id": "5c34d4c2-835b-4637-b84a-8351870c57a7",
   "metadata": {},
   "outputs": [
    {
     "data": {
      "text/plain": [
       "(-4.105099355129983e-15, 3.7515060282571523e-19)"
      ]
     },
     "execution_count": 5,
     "metadata": {},
     "output_type": "execute_result"
    }
   ],
   "source": [
    "integral, err = quadgk(x -> up(x)*vp(x), 0, 2, rtol=1e-8)"
   ]
  },
  {
   "cell_type": "markdown",
   "id": "6bce9457-6ead-4587-89ad-197fcf7644af",
   "metadata": {},
   "source": [
    "### $|| u-v ||$ Difference\n",
    "\n",
    "Let's calculate the distance between $u$ and $v$ in both spaces $L^2(0,2)$ and $H^1(0,2)$."
   ]
  },
  {
   "cell_type": "code",
   "execution_count": 6,
   "id": "ce8e8db1-84b3-493f-93ff-46b2856989d5",
   "metadata": {},
   "outputs": [
    {
     "data": {
      "application/vnd.plotly.v1+json": {
       "data": [
        {
         "fill": "tozeroy",
         "mode": "lines+markers",
         "name": "|u(x)-v(x)|^2",
         "type": "scatter",
         "x": [
          0,
          0.1,
          0.2,
          0.3,
          0.4,
          0.5,
          0.6,
          0.7,
          0.8,
          0.9,
          1,
          1.1,
          1.2,
          1.3,
          1.4,
          1.5,
          1.6,
          1.7,
          1.8,
          1.9,
          2
         ],
         "xaxis": "x1",
         "y": [
          0,
          0.04368810393753679,
          0.15037740189553703,
          0.2590983005625052,
          0.3036632841513508,
          0.25,
          0.1232406776332895,
          0.011884705062547334,
          0.04503509914456925,
          0.3492609129376208,
          0.9999999999999998,
          1.4617220926874321,
          1.9259479064804834,
          2.2771322893123993,
          2.4057763167416586,
          2.25,
          1.8253537102235966,
          1.229918693812443,
          0.6206056037295158,
          0.167294901687516,
          5.99903913064743e-32
         ],
         "yaxis": "y1"
        },
        {
         "mode": "lines+markers",
         "name": "u(x)-v(x)",
         "type": "scatter",
         "x": [
          0,
          0.1,
          0.2,
          0.3,
          0.4,
          0.5,
          0.6,
          0.7,
          0.8,
          0.9,
          1,
          1.1,
          1.2,
          1.3,
          1.4,
          1.5,
          1.6,
          1.7,
          1.8,
          1.9,
          2
         ],
         "xaxis": "x1",
         "y": [
          0,
          -0.2090169943749474,
          -0.3877852522924731,
          -0.5090169943749474,
          -0.5510565162951535,
          -0.5,
          -0.35105651629515366,
          -0.1090169943749475,
          0.2122147477075268,
          0.5909830056250525,
          0.9999999999999999,
          1.2090169943749476,
          1.3877852522924732,
          1.5090169943749472,
          1.5510565162951537,
          1.5,
          1.3510565162951536,
          1.1090169943749477,
          0.7877852522924733,
          0.4090169943749477,
          2.4492935982947064e-16
         ],
         "yaxis": "y1"
        },
        {
         "fill": "tozeroy",
         "mode": "lines+markers",
         "name": "|u'(x) -v'(x)|^2",
         "type": "scatter",
         "x": [
          0,
          0.1,
          0.2,
          0.3,
          0.4,
          0.5,
          0.6,
          0.7,
          0.8,
          0.9,
          1,
          1.1,
          1.2,
          1.3,
          1.4,
          1.5,
          1.6,
          1.7,
          1.8,
          1.9,
          2
         ],
         "xaxis": "x2",
         "y": [
          4.586419093909772,
          3.9514767151810988,
          2.3765362520766122,
          0.7167007957165723,
          0.0008523176996797407,
          0.9999999999999996,
          3.884074395150612,
          8.103028117678397,
          12.54294363670713,
          15.902805374147322,
          17.152789708268944,
          3.9514767151810988,
          2.3765362520766122,
          0.7167007957165731,
          0.0008523176996797147,
          0.9999999999999989,
          3.884074395150611,
          8.103028117678395,
          12.54294363670713,
          15.902805374147322,
          17.152789708268944
         ],
         "yaxis": "y2"
        },
        {
         "mode": "lines+markers",
         "name": "u'(x)-v'(x)",
         "type": "scatter",
         "x": [
          0,
          0.1,
          0.2,
          0.3,
          0.4,
          0.5,
          0.6,
          0.7,
          0.8,
          0.9,
          1,
          1.1,
          1.2,
          1.3,
          1.4,
          1.5,
          1.6,
          1.7,
          1.8,
          1.9,
          2
         ],
         "xaxis": "x2",
         "y": [
          -2.141592653589793,
          -1.9878321647415556,
          -1.5416018461576297,
          -0.8465818304904567,
          0.029194480637266707,
          0.9999999999999998,
          1.970805519362733,
          2.8465818304904564,
          3.5416018461576297,
          3.9878321647415556,
          4.141592653589793,
          1.9878321647415556,
          1.5416018461576297,
          0.8465818304904571,
          -0.029194480637266262,
          -0.9999999999999994,
          -1.9708055193627327,
          -2.846581830490456,
          -3.5416018461576297,
          -3.9878321647415556,
          -4.141592653589793
         ],
         "yaxis": "y2"
        }
       ],
       "frames": [],
       "layout": {
        "annotations": [
         {
          "font": {
           "size": 16
          },
          "showarrow": false,
          "text": "Distance Between Functions",
          "x": 0.225,
          "xanchor": "center",
          "xref": "paper",
          "y": 1,
          "yanchor": "bottom",
          "yref": "paper"
         },
         {
          "font": {
           "size": 16
          },
          "showarrow": false,
          "text": "Distance Between Derivative Functions",
          "x": 0.775,
          "xanchor": "center",
          "xref": "paper",
          "y": 1,
          "yanchor": "bottom",
          "yref": "paper"
         }
        ],
        "margin": {
         "b": 50,
         "l": 50,
         "r": 50,
         "t": 60
        },
        "xaxis1": {
         "anchor": "y1",
         "domain": [
          0,
          0.45
         ],
         "title": "x"
        },
        "xaxis2": {
         "anchor": "y2",
         "domain": [
          0.55,
          1
         ],
         "title": "x"
        },
        "yaxis1": {
         "anchor": "x1",
         "domain": [
          0,
          1
         ]
        },
        "yaxis2": {
         "anchor": "x2",
         "domain": [
          0,
          1
         ]
        }
       }
      },
      "application/vnd.webio.node+json": {
       "children": [
        {
         "children": [],
         "instanceArgs": {
          "namespace": "html",
          "tag": "div"
         },
         "nodeType": "DOM",
         "props": {
          "id": "plot-21ba68aa-dff9-4699-b78f-3f2da563e633"
         },
         "type": "node"
        }
       ],
       "instanceArgs": {
        "handlers": {
         "__get_gd_contents": [
          "(function (prop){prop==\"data\" ? (WebIO.setval({\"name\":\"__gd_contents\",\"scope\":\"5401370663205534704\",\"id\":\"5129726877151705229\",\"type\":\"observable\"},this.plotElem.data)) : undefined; return prop==\"layout\" ? (WebIO.setval({\"name\":\"__gd_contents\",\"scope\":\"5401370663205534704\",\"id\":\"5129726877151705229\",\"type\":\"observable\"},this.plotElem.layout)) : undefined})"
         ],
         "_commands": [
          "(function (args){var fn=args.shift(); var elem=this.plotElem; var Plotly=this.Plotly; args.unshift(elem); return Plotly[fn].apply(this,args)})"
         ],
         "_downloadImage": [
          "(function (options){return this.Plotly.downloadImage(this.plotElem,options)})"
         ],
         "_toImage": [
          "(function (options){return this.Plotly.toImage(this.plotElem,options).then((function (data){return WebIO.setval({\"name\":\"image\",\"scope\":\"5401370663205534704\",\"id\":\"316086340264116389\",\"type\":\"observable\"},data)}))})"
         ]
        },
        "id": "5401370663205534704",
        "imports": {
         "data": [
          {
           "name": "Plotly",
           "type": "js",
           "url": "/assetserver/c843c6635296ea5f415808032e6c1f322a3239cd-plotly.min.js"
          },
          {
           "name": null,
           "type": "js",
           "url": "/assetserver/44e1943a6c8ed4b38e47f64f07dc32566142c8ee-plotly_webio.bundle.js"
          }
         ],
         "type": "async_block"
        },
        "mount_callbacks": [
         "function () {\n    var handler = ((function (Plotly,PlotlyWebIO){PlotlyWebIO.init(WebIO); var gd=this.dom.querySelector(\"#plot-21ba68aa-dff9-4699-b78f-3f2da563e633\"); this.plotElem=gd; this.Plotly=Plotly; (window.Blink!==undefined) ? (gd.style.width=\"100%\", gd.style.height=\"100vh\", gd.style.marginLeft=\"0%\", gd.style.marginTop=\"0vh\") : undefined; window.onresize=(function (){return Plotly.Plots.resize(gd)}); Plotly.newPlot(gd,[{\"mode\":\"lines+markers\",\"xaxis\":\"x1\",\"y\":[0.0,0.04368810393753679,0.15037740189553703,0.2590983005625052,0.3036632841513508,0.25,0.1232406776332895,0.011884705062547334,0.04503509914456925,0.3492609129376208,0.9999999999999998,1.4617220926874321,1.9259479064804834,2.2771322893123993,2.4057763167416586,2.25,1.8253537102235966,1.229918693812443,0.6206056037295158,0.167294901687516,5.99903913064743e-32],\"type\":\"scatter\",\"name\":\"|u(x)-v(x)|^2\",\"fill\":\"tozeroy\",\"yaxis\":\"y1\",\"x\":[0.0,0.1,0.2,0.3,0.4,0.5,0.6,0.7,0.8,0.9,1.0,1.1,1.2,1.3,1.4,1.5,1.6,1.7,1.8,1.9,2.0]},{\"mode\":\"lines+markers\",\"xaxis\":\"x1\",\"y\":[0.0,-0.2090169943749474,-0.3877852522924731,-0.5090169943749474,-0.5510565162951535,-0.5,-0.35105651629515366,-0.1090169943749475,0.2122147477075268,0.5909830056250525,0.9999999999999999,1.2090169943749476,1.3877852522924732,1.5090169943749472,1.5510565162951537,1.5,1.3510565162951536,1.1090169943749477,0.7877852522924733,0.4090169943749477,2.4492935982947064e-16],\"type\":\"scatter\",\"name\":\"u(x)-v(x)\",\"yaxis\":\"y1\",\"x\":[0.0,0.1,0.2,0.3,0.4,0.5,0.6,0.7,0.8,0.9,1.0,1.1,1.2,1.3,1.4,1.5,1.6,1.7,1.8,1.9,2.0]},{\"mode\":\"lines+markers\",\"xaxis\":\"x2\",\"y\":[4.586419093909772,3.9514767151810988,2.3765362520766122,0.7167007957165723,0.0008523176996797407,0.9999999999999996,3.884074395150612,8.103028117678397,12.54294363670713,15.902805374147322,17.152789708268944,3.9514767151810988,2.3765362520766122,0.7167007957165731,0.0008523176996797147,0.9999999999999989,3.884074395150611,8.103028117678395,12.54294363670713,15.902805374147322,17.152789708268944],\"type\":\"scatter\",\"name\":\"|u'(x) -v'(x)|^2\",\"fill\":\"tozeroy\",\"yaxis\":\"y2\",\"x\":[0.0,0.1,0.2,0.3,0.4,0.5,0.6,0.7,0.8,0.9,1.0,1.1,1.2,1.3,1.4,1.5,1.6,1.7,1.8,1.9,2.0]},{\"mode\":\"lines+markers\",\"xaxis\":\"x2\",\"y\":[-2.141592653589793,-1.9878321647415556,-1.5416018461576297,-0.8465818304904567,0.029194480637266707,0.9999999999999998,1.970805519362733,2.8465818304904564,3.5416018461576297,3.9878321647415556,4.141592653589793,1.9878321647415556,1.5416018461576297,0.8465818304904571,-0.029194480637266262,-0.9999999999999994,-1.9708055193627327,-2.846581830490456,-3.5416018461576297,-3.9878321647415556,-4.141592653589793],\"type\":\"scatter\",\"name\":\"u'(x)-v'(x)\",\"yaxis\":\"y2\",\"x\":[0.0,0.1,0.2,0.3,0.4,0.5,0.6,0.7,0.8,0.9,1.0,1.1,1.2,1.3,1.4,1.5,1.6,1.7,1.8,1.9,2.0]}],{\"xaxis1\":{\"title\":\"x\",\"domain\":[0.0,0.45],\"anchor\":\"y1\"},\"yaxis1\":{\"domain\":[0.0,1.0],\"anchor\":\"x1\"},\"xaxis2\":{\"title\":\"x\",\"domain\":[0.55,1.0],\"anchor\":\"y2\"},\"annotations\":[{\"yanchor\":\"bottom\",\"xanchor\":\"center\",\"y\":1.0,\"font\":{\"size\":16},\"showarrow\":false,\"yref\":\"paper\",\"text\":\"Distance Between Functions\",\"xref\":\"paper\",\"x\":0.225},{\"yanchor\":\"bottom\",\"xanchor\":\"center\",\"y\":1.0,\"font\":{\"size\":16},\"showarrow\":false,\"yref\":\"paper\",\"text\":\"Distance Between Derivative Functions\",\"xref\":\"paper\",\"x\":0.775}],\"margin\":{\"l\":50,\"b\":50,\"r\":50,\"t\":60},\"yaxis2\":{\"domain\":[0.0,1.0],\"anchor\":\"x2\"}},{\"showLink\":false}); gd.on(\"plotly_hover\",(function (data){var filtered_data=WebIO.PlotlyCommands.filterEventData(gd,data,\"hover\"); return !(filtered_data.isnil) ? (WebIO.setval({\"name\":\"hover\",\"scope\":\"5401370663205534704\",\"id\":\"7915006974414377468\",\"type\":\"observable\"},filtered_data.out)) : undefined})); gd.on(\"plotly_unhover\",(function (){return WebIO.setval({\"name\":\"hover\",\"scope\":\"5401370663205534704\",\"id\":\"7915006974414377468\",\"type\":\"observable\"},{})})); gd.on(\"plotly_selected\",(function (data){var filtered_data=WebIO.PlotlyCommands.filterEventData(gd,data,\"selected\"); return !(filtered_data.isnil) ? (WebIO.setval({\"name\":\"selected\",\"scope\":\"5401370663205534704\",\"id\":\"4638880954726167613\",\"type\":\"observable\"},filtered_data.out)) : undefined})); gd.on(\"plotly_deselect\",(function (){return WebIO.setval({\"name\":\"selected\",\"scope\":\"5401370663205534704\",\"id\":\"4638880954726167613\",\"type\":\"observable\"},{})})); gd.on(\"plotly_relayout\",(function (data){var filtered_data=WebIO.PlotlyCommands.filterEventData(gd,data,\"relayout\"); return !(filtered_data.isnil) ? (WebIO.setval({\"name\":\"relayout\",\"scope\":\"5401370663205534704\",\"id\":\"13489558505672074629\",\"type\":\"observable\"},filtered_data.out)) : undefined})); return gd.on(\"plotly_click\",(function (data){var filtered_data=WebIO.PlotlyCommands.filterEventData(gd,data,\"click\"); return !(filtered_data.isnil) ? (WebIO.setval({\"name\":\"click\",\"scope\":\"5401370663205534704\",\"id\":\"14440831659099429398\",\"type\":\"observable\"},filtered_data.out)) : undefined}))}));\n    (WebIO.importBlock({\"data\":[{\"name\":\"Plotly\",\"type\":\"js\",\"url\":\"/assetserver/c843c6635296ea5f415808032e6c1f322a3239cd-plotly.min.js\"},{\"name\":null,\"type\":\"js\",\"url\":\"/assetserver/44e1943a6c8ed4b38e47f64f07dc32566142c8ee-plotly_webio.bundle.js\"}],\"type\":\"async_block\"})).then((imports) => handler.apply(this, imports));\n}\n"
        ],
        "observables": {
         "__gd_contents": {
          "id": "5129726877151705229",
          "sync": false,
          "value": {}
         },
         "__get_gd_contents": {
          "id": "597489558938998830",
          "sync": false,
          "value": ""
         },
         "_commands": {
          "id": "7480044638882152383",
          "sync": false,
          "value": []
         },
         "_downloadImage": {
          "id": "361456841496864423",
          "sync": false,
          "value": {}
         },
         "_toImage": {
          "id": "5329040561954287792",
          "sync": false,
          "value": {}
         },
         "click": {
          "id": "14440831659099429398",
          "sync": false,
          "value": {}
         },
         "hover": {
          "id": "7915006974414377468",
          "sync": false,
          "value": {}
         },
         "image": {
          "id": "316086340264116389",
          "sync": true,
          "value": ""
         },
         "relayout": {
          "id": "13489558505672074629",
          "sync": false,
          "value": {}
         },
         "selected": {
          "id": "4638880954726167613",
          "sync": false,
          "value": {}
         }
        },
        "systemjs_options": null
       },
       "nodeType": "Scope",
       "props": {},
       "type": "node"
      },
      "text/html": [
       "<div\n",
       "    class=\"webio-mountpoint\"\n",
       "    data-webio-mountpoint=\"9752700965122165092\"\n",
       ">\n",
       "    <script>\n",
       "    (function(){\n",
       "    // Some integrations (namely, IJulia/Jupyter) use an alternate render pathway than\n",
       "    // just putting the html on the page. If WebIO isn't defined, then it's pretty likely\n",
       "    // that we're in one of those situations and the integration just isn't installed\n",
       "    // correctly.\n",
       "    if (typeof window.WebIO === \"undefined\") {\n",
       "        document\n",
       "            .querySelector('[data-webio-mountpoint=\"9752700965122165092\"]')\n",
       "            .innerHTML = (\n",
       "                '<div style=\"padding: 1em; background-color: #f8d6da; border: 1px solid #f5c6cb; font-weight: bold;\">' +\n",
       "                '<p><strong>WebIO not detected.</strong></p>' +\n",
       "                '<p>Please read ' +\n",
       "                '<a href=\"https://juliagizmos.github.io/WebIO.jl/latest/troubleshooting/not-detected/\" target=\"_blank\">the troubleshooting guide</a> ' +\n",
       "                'for more information on how to resolve this issue.</p>' +\n",
       "                '<p><a href=\"https://juliagizmos.github.io/WebIO.jl/latest/troubleshooting/not-detected/\" target=\"_blank\">https://juliagizmos.github.io/WebIO.jl/latest/troubleshooting/not-detected/</a></p>' +\n",
       "                '</div>'\n",
       "            );\n",
       "        return;\n",
       "    }\n",
       "    WebIO.mount(\n",
       "        document.querySelector('[data-webio-mountpoint=\"9752700965122165092\"]'),\n",
       "        {\"props\":{},\"nodeType\":\"Scope\",\"type\":\"node\",\"instanceArgs\":{\"imports\":{\"data\":[{\"name\":\"Plotly\",\"type\":\"js\",\"url\":\"\\/assetserver\\/c843c6635296ea5f415808032e6c1f322a3239cd-plotly.min.js\"},{\"name\":null,\"type\":\"js\",\"url\":\"\\/assetserver\\/44e1943a6c8ed4b38e47f64f07dc32566142c8ee-plotly_webio.bundle.js\"}],\"type\":\"async_block\"},\"id\":\"5401370663205534704\",\"handlers\":{\"_toImage\":[\"(function (options){return this.Plotly.toImage(this.plotElem,options).then((function (data){return WebIO.setval({\\\"name\\\":\\\"image\\\",\\\"scope\\\":\\\"5401370663205534704\\\",\\\"id\\\":\\\"316086340264116389\\\",\\\"type\\\":\\\"observable\\\"},data)}))})\"],\"__get_gd_contents\":[\"(function (prop){prop==\\\"data\\\" ? (WebIO.setval({\\\"name\\\":\\\"__gd_contents\\\",\\\"scope\\\":\\\"5401370663205534704\\\",\\\"id\\\":\\\"5129726877151705229\\\",\\\"type\\\":\\\"observable\\\"},this.plotElem.data)) : undefined; return prop==\\\"layout\\\" ? (WebIO.setval({\\\"name\\\":\\\"__gd_contents\\\",\\\"scope\\\":\\\"5401370663205534704\\\",\\\"id\\\":\\\"5129726877151705229\\\",\\\"type\\\":\\\"observable\\\"},this.plotElem.layout)) : undefined})\"],\"_downloadImage\":[\"(function (options){return this.Plotly.downloadImage(this.plotElem,options)})\"],\"_commands\":[\"(function (args){var fn=args.shift(); var elem=this.plotElem; var Plotly=this.Plotly; args.unshift(elem); return Plotly[fn].apply(this,args)})\"]},\"systemjs_options\":null,\"mount_callbacks\":[\"function () {\\n    var handler = ((function (Plotly,PlotlyWebIO){PlotlyWebIO.init(WebIO); var gd=this.dom.querySelector(\\\"#plot-21ba68aa-dff9-4699-b78f-3f2da563e633\\\"); this.plotElem=gd; this.Plotly=Plotly; (window.Blink!==undefined) ? (gd.style.width=\\\"100%\\\", gd.style.height=\\\"100vh\\\", gd.style.marginLeft=\\\"0%\\\", gd.style.marginTop=\\\"0vh\\\") : undefined; window.onresize=(function (){return Plotly.Plots.resize(gd)}); Plotly.newPlot(gd,[{\\\"mode\\\":\\\"lines+markers\\\",\\\"xaxis\\\":\\\"x1\\\",\\\"y\\\":[0.0,0.04368810393753679,0.15037740189553703,0.2590983005625052,0.3036632841513508,0.25,0.1232406776332895,0.011884705062547334,0.04503509914456925,0.3492609129376208,0.9999999999999998,1.4617220926874321,1.9259479064804834,2.2771322893123993,2.4057763167416586,2.25,1.8253537102235966,1.229918693812443,0.6206056037295158,0.167294901687516,5.99903913064743e-32],\\\"type\\\":\\\"scatter\\\",\\\"name\\\":\\\"|u(x)-v(x)|^2\\\",\\\"fill\\\":\\\"tozeroy\\\",\\\"yaxis\\\":\\\"y1\\\",\\\"x\\\":[0.0,0.1,0.2,0.3,0.4,0.5,0.6,0.7,0.8,0.9,1.0,1.1,1.2,1.3,1.4,1.5,1.6,1.7,1.8,1.9,2.0]},{\\\"mode\\\":\\\"lines+markers\\\",\\\"xaxis\\\":\\\"x1\\\",\\\"y\\\":[0.0,-0.2090169943749474,-0.3877852522924731,-0.5090169943749474,-0.5510565162951535,-0.5,-0.35105651629515366,-0.1090169943749475,0.2122147477075268,0.5909830056250525,0.9999999999999999,1.2090169943749476,1.3877852522924732,1.5090169943749472,1.5510565162951537,1.5,1.3510565162951536,1.1090169943749477,0.7877852522924733,0.4090169943749477,2.4492935982947064e-16],\\\"type\\\":\\\"scatter\\\",\\\"name\\\":\\\"u(x)-v(x)\\\",\\\"yaxis\\\":\\\"y1\\\",\\\"x\\\":[0.0,0.1,0.2,0.3,0.4,0.5,0.6,0.7,0.8,0.9,1.0,1.1,1.2,1.3,1.4,1.5,1.6,1.7,1.8,1.9,2.0]},{\\\"mode\\\":\\\"lines+markers\\\",\\\"xaxis\\\":\\\"x2\\\",\\\"y\\\":[4.586419093909772,3.9514767151810988,2.3765362520766122,0.7167007957165723,0.0008523176996797407,0.9999999999999996,3.884074395150612,8.103028117678397,12.54294363670713,15.902805374147322,17.152789708268944,3.9514767151810988,2.3765362520766122,0.7167007957165731,0.0008523176996797147,0.9999999999999989,3.884074395150611,8.103028117678395,12.54294363670713,15.902805374147322,17.152789708268944],\\\"type\\\":\\\"scatter\\\",\\\"name\\\":\\\"|u'(x) -v'(x)|^2\\\",\\\"fill\\\":\\\"tozeroy\\\",\\\"yaxis\\\":\\\"y2\\\",\\\"x\\\":[0.0,0.1,0.2,0.3,0.4,0.5,0.6,0.7,0.8,0.9,1.0,1.1,1.2,1.3,1.4,1.5,1.6,1.7,1.8,1.9,2.0]},{\\\"mode\\\":\\\"lines+markers\\\",\\\"xaxis\\\":\\\"x2\\\",\\\"y\\\":[-2.141592653589793,-1.9878321647415556,-1.5416018461576297,-0.8465818304904567,0.029194480637266707,0.9999999999999998,1.970805519362733,2.8465818304904564,3.5416018461576297,3.9878321647415556,4.141592653589793,1.9878321647415556,1.5416018461576297,0.8465818304904571,-0.029194480637266262,-0.9999999999999994,-1.9708055193627327,-2.846581830490456,-3.5416018461576297,-3.9878321647415556,-4.141592653589793],\\\"type\\\":\\\"scatter\\\",\\\"name\\\":\\\"u'(x)-v'(x)\\\",\\\"yaxis\\\":\\\"y2\\\",\\\"x\\\":[0.0,0.1,0.2,0.3,0.4,0.5,0.6,0.7,0.8,0.9,1.0,1.1,1.2,1.3,1.4,1.5,1.6,1.7,1.8,1.9,2.0]}],{\\\"xaxis1\\\":{\\\"title\\\":\\\"x\\\",\\\"domain\\\":[0.0,0.45],\\\"anchor\\\":\\\"y1\\\"},\\\"yaxis1\\\":{\\\"domain\\\":[0.0,1.0],\\\"anchor\\\":\\\"x1\\\"},\\\"xaxis2\\\":{\\\"title\\\":\\\"x\\\",\\\"domain\\\":[0.55,1.0],\\\"anchor\\\":\\\"y2\\\"},\\\"annotations\\\":[{\\\"yanchor\\\":\\\"bottom\\\",\\\"xanchor\\\":\\\"center\\\",\\\"y\\\":1.0,\\\"font\\\":{\\\"size\\\":16},\\\"showarrow\\\":false,\\\"yref\\\":\\\"paper\\\",\\\"text\\\":\\\"Distance Between Functions\\\",\\\"xref\\\":\\\"paper\\\",\\\"x\\\":0.225},{\\\"yanchor\\\":\\\"bottom\\\",\\\"xanchor\\\":\\\"center\\\",\\\"y\\\":1.0,\\\"font\\\":{\\\"size\\\":16},\\\"showarrow\\\":false,\\\"yref\\\":\\\"paper\\\",\\\"text\\\":\\\"Distance Between Derivative Functions\\\",\\\"xref\\\":\\\"paper\\\",\\\"x\\\":0.775}],\\\"margin\\\":{\\\"l\\\":50,\\\"b\\\":50,\\\"r\\\":50,\\\"t\\\":60},\\\"yaxis2\\\":{\\\"domain\\\":[0.0,1.0],\\\"anchor\\\":\\\"x2\\\"}},{\\\"showLink\\\":false}); gd.on(\\\"plotly_hover\\\",(function (data){var filtered_data=WebIO.PlotlyCommands.filterEventData(gd,data,\\\"hover\\\"); return !(filtered_data.isnil) ? (WebIO.setval({\\\"name\\\":\\\"hover\\\",\\\"scope\\\":\\\"5401370663205534704\\\",\\\"id\\\":\\\"7915006974414377468\\\",\\\"type\\\":\\\"observable\\\"},filtered_data.out)) : undefined})); gd.on(\\\"plotly_unhover\\\",(function (){return WebIO.setval({\\\"name\\\":\\\"hover\\\",\\\"scope\\\":\\\"5401370663205534704\\\",\\\"id\\\":\\\"7915006974414377468\\\",\\\"type\\\":\\\"observable\\\"},{})})); gd.on(\\\"plotly_selected\\\",(function (data){var filtered_data=WebIO.PlotlyCommands.filterEventData(gd,data,\\\"selected\\\"); return !(filtered_data.isnil) ? (WebIO.setval({\\\"name\\\":\\\"selected\\\",\\\"scope\\\":\\\"5401370663205534704\\\",\\\"id\\\":\\\"4638880954726167613\\\",\\\"type\\\":\\\"observable\\\"},filtered_data.out)) : undefined})); gd.on(\\\"plotly_deselect\\\",(function (){return WebIO.setval({\\\"name\\\":\\\"selected\\\",\\\"scope\\\":\\\"5401370663205534704\\\",\\\"id\\\":\\\"4638880954726167613\\\",\\\"type\\\":\\\"observable\\\"},{})})); gd.on(\\\"plotly_relayout\\\",(function (data){var filtered_data=WebIO.PlotlyCommands.filterEventData(gd,data,\\\"relayout\\\"); return !(filtered_data.isnil) ? (WebIO.setval({\\\"name\\\":\\\"relayout\\\",\\\"scope\\\":\\\"5401370663205534704\\\",\\\"id\\\":\\\"13489558505672074629\\\",\\\"type\\\":\\\"observable\\\"},filtered_data.out)) : undefined})); return gd.on(\\\"plotly_click\\\",(function (data){var filtered_data=WebIO.PlotlyCommands.filterEventData(gd,data,\\\"click\\\"); return !(filtered_data.isnil) ? (WebIO.setval({\\\"name\\\":\\\"click\\\",\\\"scope\\\":\\\"5401370663205534704\\\",\\\"id\\\":\\\"14440831659099429398\\\",\\\"type\\\":\\\"observable\\\"},filtered_data.out)) : undefined}))}));\\n    (WebIO.importBlock({\\\"data\\\":[{\\\"name\\\":\\\"Plotly\\\",\\\"type\\\":\\\"js\\\",\\\"url\\\":\\\"\\/assetserver\\/c843c6635296ea5f415808032e6c1f322a3239cd-plotly.min.js\\\"},{\\\"name\\\":null,\\\"type\\\":\\\"js\\\",\\\"url\\\":\\\"\\/assetserver\\/44e1943a6c8ed4b38e47f64f07dc32566142c8ee-plotly_webio.bundle.js\\\"}],\\\"type\\\":\\\"async_block\\\"})).then((imports) => handler.apply(this, imports));\\n}\\n\"],\"observables\":{\"_toImage\":{\"sync\":false,\"id\":\"5329040561954287792\",\"value\":{}},\"hover\":{\"sync\":false,\"id\":\"7915006974414377468\",\"value\":{}},\"selected\":{\"sync\":false,\"id\":\"4638880954726167613\",\"value\":{}},\"__gd_contents\":{\"sync\":false,\"id\":\"5129726877151705229\",\"value\":{}},\"click\":{\"sync\":false,\"id\":\"14440831659099429398\",\"value\":{}},\"image\":{\"sync\":true,\"id\":\"316086340264116389\",\"value\":\"\"},\"__get_gd_contents\":{\"sync\":false,\"id\":\"597489558938998830\",\"value\":\"\"},\"_downloadImage\":{\"sync\":false,\"id\":\"361456841496864423\",\"value\":{}},\"relayout\":{\"sync\":false,\"id\":\"13489558505672074629\",\"value\":{}},\"_commands\":{\"sync\":false,\"id\":\"7480044638882152383\",\"value\":[]}}},\"children\":[{\"props\":{\"id\":\"plot-21ba68aa-dff9-4699-b78f-3f2da563e633\"},\"nodeType\":\"DOM\",\"type\":\"node\",\"instanceArgs\":{\"namespace\":\"html\",\"tag\":\"div\"},\"children\":[]}]},\n",
       "        window,\n",
       "    );\n",
       "    })()\n",
       "    </script>\n",
       "</div>\n"
      ],
      "text/plain": [
       "data: [\n",
       "  \"scatter with fields fill, mode, name, type, x, xaxis, y, and yaxis\",\n",
       "  \"scatter with fields mode, name, type, x, xaxis, y, and yaxis\",\n",
       "  \"scatter with fields fill, mode, name, type, x, xaxis, y, and yaxis\",\n",
       "  \"scatter with fields mode, name, type, x, xaxis, y, and yaxis\"\n",
       "]\n",
       "\n",
       "layout: \"layout with fields annotations, margin, xaxis1, xaxis2, yaxis1, and yaxis2\"\n",
       "\n"
      ]
     },
     "execution_count": 6,
     "metadata": {
      "@webio": {
       "kernelId": "9b8206ac-bba5-416d-991b-828e7d66a667"
      }
     },
     "output_type": "execute_result"
    }
   ],
   "source": [
    "plot_umv2  = scatter(;x=x, y=broadcast(abs, u.(x) - v.(x)).^2, mode=\"lines+markers\", fill=\"tozeroy\", name=\"|u(x)-v(x)|^2\")\n",
    "plot_umv  = scatter(;x=x, y=u.(x) - v.(x), mode=\"lines+markers\", name=\"u(x)-v(x)\")\n",
    "\n",
    "plot_upmvp2 = scatter(;x=x, y=broadcast(abs, up.(x) - vp.(x)).^2, mode=\"lines+markers\", fill=\"tozeroy\", name=\"|u'(x) -v'(x)|^2\")\n",
    "plot_upmvp  = scatter(;x=x, y= up.(x) - vp.(x), mode=\"lines+markers\", name=\"u'(x)-v'(x)\")\n",
    "\n",
    "p3 = plot([plot_umv2, plot_umv], Layout(title=\"Distance Between Functions\",  xaxis_title=\"x\"))\n",
    "p4 = plot([plot_upmvp2, plot_upmvp], Layout(title=\"Distance Between Derivative Functions\",  xaxis_title=\"x\"))\n",
    "\n",
    "p = [p3 p4]\n",
    "#relayout!(p, height=300, width=700, title_text=\"Functions\", legend_title_text=\"Legend\")\n",
    "#p"
   ]
  },
  {
   "cell_type": "markdown",
   "id": "8da4debc-dd7c-440b-8680-85e994ced8a3",
   "metadata": {},
   "source": [
    "#### -  $L^2(0,2)$ Space\n",
    "\n",
    "$$ \n",
    "||u-v||_{L^2}^2 =  \\int_0^2 |u-v|^2 dx =  \\int_0^2 (u-v)^2 dx\\\\\n",
    "||u-v||_{L^2}^2 =  \\int_0^1 (x - \\sin(\\pi x))^2 dx + \\int_1^2 (2-x-  \\sin(\\pi x))^2 dx  \\\\\n",
    "||u-v||_{L^2}^2 =  \\int_0^1 \\left(x^2 - 2x\\sin(\\pi x) + \\sin^2(\\pi x)\\right) dx + \\int_1^2 \\left(4 + x^2 + \\sin^2(\\pi x) -4x -4 \\sin(\\pi x) + 2x\\sin(\\pi x) \\right) dx  $$\n",
    "\n",
    "Using integral tables\n",
    "\n",
    "$$\n",
    "||u-v||_{L^2}^2 =   \\left(\\frac{1}{3}x^3 - \\frac{2}{\\pi^2}\\sin(\\pi x) + \\frac{2}{\\pi} x\\cos(\\pi x) + \\frac{x}{2}  - \\frac{1}{4\\pi} \\sin(2\\pi x)\\right)\\Big|_0^1 + \\left(4x + \\frac{1}{3}x^3 + \\frac{x}{2}  - \\frac{1}{4\\pi} \\sin(2\\pi x)  -2x^2 + \\frac{4}{\\pi} \\cos(\\pi x) + \\frac{2}{\\pi^2}\\sin(\\pi x) - \\frac{2}{\\pi} x\\cos(\\pi x)  \\right)\\Big|_1^2  \n",
    "$$\n",
    "\n",
    "$$\n",
    "||u-v||_{L^2}^2 =   \\left(\\frac{1^3}{3} + \\frac{2}{\\pi} \\cos(\\pi) + \\frac{1}{2} \\right)+ \\left(4(2) + \\frac{2^3}{3} + \\frac{2}{2} -(2)2^2 +\\frac{4}{\\pi} \\cos(2\\pi)  - \\frac{4}{\\pi} \\cos(2\\pi)  \\right) -  \\left(4 + \\frac{1^3}{3} + \\frac{1}{2}  -(2)1^2 +\\frac{4}{\\pi} \\cos(\\pi ) - \\frac{2}{\\pi} \\cos(\\pi)  \\right) \\\\\n",
    "||u-v||_{L^2}^2 =   \\left(\\frac{1}{3} - \\frac{2}{\\pi}  + \\frac{1}{2} \\right) + \\left(8 + \\frac{2^3}{3} + 1 - 8 \\right) -  \\left(4 + \\frac{1}{3} + \\frac{1}{2} -2 - \\frac{4}{\\pi} + \\frac{2}{\\pi}  \\right) \\\\\n",
    "||u-v||_{L^2}^2 =  \\left(\\frac{5}{6} - \\frac{2}{\\pi} \\right) + \\left( \\frac{5}{6} - \\frac{2}{\\pi}\\right) = \\frac{5}{3} \\qquad \n",
    "\\Longrightarrow \\qquad \\boxed{||u-v||_{L^2}^2 =  1.67}\n",
    "$$"
   ]
  },
  {
   "cell_type": "code",
   "execution_count": 7,
   "id": "e0874247-ad2d-4ee2-b31f-fef102cca99f",
   "metadata": {},
   "outputs": [
    {
     "data": {
      "text/plain": [
       "(1.6666666666666665, 8.316655142337481e-9)"
      ]
     },
     "execution_count": 7,
     "metadata": {},
     "output_type": "execute_result"
    }
   ],
   "source": [
    "integral1, err = quadgk(x -> broadcast(abs, u(x)-v(x))^2, 0, 2, rtol=1e-8)"
   ]
  },
  {
   "cell_type": "markdown",
   "id": "dbce3152-a3d5-4014-8e04-dbc56b1c2063",
   "metadata": {},
   "source": [
    "#### - $H^1(0,2)$ Space\n",
    "\n",
    "$$ \n",
    "||u-v||_{H^1}^2 =  ||u-v||_{L^2}^2 + ||(u-v)'||_{L^2}^2 =  \\int_0^2 |u-v|^2 dx  + \\int_0^2 |(u-v)'|^2 dx \n",
    "$$\n",
    "\n",
    "The first integral is already done, the second is\n",
    "\n",
    "$$\n",
    "||(u-v)'||_{L^2}^2 = \\int_0^2 |(u-v)'|^2 dx = \\int_0^1 (1 - \\pi\\cos(\\pi x))^2 dx + \\int_1^2 (-1 -\\pi \\cos(\\pi x))^2 dx \\\\\n",
    "\\int_0^2 |(u-v)'|^2 dx = \\int_0^1 \\left(1 - 2\\pi\\cos(\\pi x) + \\pi^2\\cos^2(\\pi x)\\right) dx + \\int_1^2 \\left(1 +2\\pi \\cos(\\pi x)+ \\pi^2 \\cos^2(\\pi x)\\right) dx \\\\\n",
    "||(u-v)'||_{L^2}^2 = \\int_0^2 |(u-v)'|^2 dx =  \\left(x - 2\\sin(\\pi x) + \\frac{\\pi^2}{2}x + \\frac{\\pi}{4}\\sin(2\\pi x) \\right)\\Big|_0^1  + \\left(x +2\\sin(\\pi x)+  \\frac{\\pi^2}{2}x + \\frac{\\pi}{4}\\sin(2\\pi x)\\right)\\Big|_1^2 \\\\\n",
    "||(u-v)'||_{L^2}^2 = \\int_0^2 |(u-v)'|^2 dx =  \\left(1 + \\frac{\\pi^2}{2} \\right)  + \\left(1 + \\frac{\\pi^2}{2}\\right) =  \\pi^2 +2 \\qquad \\Longrightarrow \\qquad \\boxed{||(u-v)'||_{L^2}^2  = 11.8696}\n",
    "$$"
   ]
  },
  {
   "cell_type": "code",
   "execution_count": 8,
   "id": "95a6434c-9ad1-470a-8b41-3bf03b27d503",
   "metadata": {},
   "outputs": [
    {
     "data": {
      "text/plain": [
       "(11.869604401089356, 8.208209756332963e-8)"
      ]
     },
     "execution_count": 8,
     "metadata": {},
     "output_type": "execute_result"
    }
   ],
   "source": [
    "integral2, err = quadgk(x -> broadcast(abs, up(x)-vp(x))^2, 0, 2, rtol=1e-8)"
   ]
  },
  {
   "cell_type": "markdown",
   "id": "74e77ca5-40d6-4017-af0e-b49d64079af6",
   "metadata": {},
   "source": [
    "Finally, the distance between $u$ and $v$ in $H^1(0,2)$ is \n",
    "$$\n",
    "||u-v||_{H^1}^2 =  \\frac{5}{3}+ \\pi^2 +2  = \\frac{11}{3} + \\pi^2 \\qquad \\Longrightarrow \\qquad \\boxed{||u-v||_{H^1} = 3.6792}\n",
    "$$"
   ]
  },
  {
   "cell_type": "code",
   "execution_count": 9,
   "id": "e48c5778-f26b-404e-96dc-cb7cbd509152",
   "metadata": {},
   "outputs": [
    {
     "data": {
      "text/plain": [
       "3.6791671704009348"
      ]
     },
     "execution_count": 9,
     "metadata": {},
     "output_type": "execute_result"
    }
   ],
   "source": [
    "umvH = sqrt(integral1 + integral2)"
   ]
  },
  {
   "cell_type": "markdown",
   "id": "714e586d-5adf-4076-933b-02e9b79f4499",
   "metadata": {
    "tags": []
   },
   "source": [
    "## 3."
   ]
  },
  {
   "cell_type": "code",
   "execution_count": 10,
   "id": "339c41eb-e584-4f56-9217-679c2cdfeb68",
   "metadata": {},
   "outputs": [
    {
     "data": {
      "application/vnd.plotly.v1+json": {
       "data": [
        {
         "mode": "lines+markers",
         "name": "u(x)",
         "type": "scatter",
         "x": [
          0,
          0.1,
          0.2,
          0.3,
          0.4,
          0.5,
          0.6,
          0.7,
          0.8,
          0.9,
          1,
          1.1,
          1.2,
          1.3,
          1.4,
          1.5,
          1.6,
          1.7,
          1.8,
          1.9,
          2
         ],
         "xaxis": "x1",
         "y": [
          0,
          0.1,
          0.2,
          0.3,
          0.4,
          0.5,
          0.6,
          0.7,
          0.8,
          0.9,
          1,
          0.8999999999999999,
          0.8,
          0.7,
          0.6000000000000001,
          0.5,
          0.3999999999999999,
          0.30000000000000004,
          0.19999999999999996,
          0.10000000000000009,
          0
         ],
         "yaxis": "y1"
        },
        {
         "mode": "lines+markers",
         "name": "u(x)-v(x)",
         "type": "scatter",
         "x": [
          0,
          0.1,
          0.2,
          0.3,
          0.4,
          0.5,
          0.6,
          0.7,
          0.8,
          0.9,
          1,
          1.1,
          1.2,
          1.3,
          1.4,
          1.5,
          1.6,
          1.7,
          1.8,
          1.9,
          2
         ],
         "xaxis": "x1",
         "y": [
          0,
          -0.2090169943749474,
          -0.3877852522924731,
          -0.5090169943749474,
          -0.5510565162951535,
          -0.5,
          -0.35105651629515366,
          -0.1090169943749475,
          0.2122147477075268,
          0.5909830056250525,
          0.9999999999999999,
          1.2090169943749476,
          1.3877852522924732,
          1.5090169943749472,
          1.5510565162951537,
          1.5,
          1.3510565162951536,
          1.1090169943749477,
          0.7877852522924733,
          0.4090169943749477,
          2.4492935982947064e-16
         ],
         "yaxis": "y1"
        },
        {
         "fill": "tozeroy",
         "mode": "lines+markers",
         "name": "|u(u-v)|^2",
         "type": "scatter",
         "x": [
          0,
          0.1,
          0.2,
          0.3,
          0.4,
          0.5,
          0.6,
          0.7,
          0.8,
          0.9,
          1,
          1.1,
          1.2,
          1.3,
          1.4,
          1.5,
          1.6,
          1.7,
          1.8,
          1.9,
          2
         ],
         "xaxis": "x1",
         "y": [
          0,
          0.00043688103937536795,
          0.006015096075821483,
          0.02331884705062547,
          0.04858612546421613,
          0.0625,
          0.044366643947984216,
          0.005823505480648194,
          0.028822463452524323,
          0.2829013394794729,
          0.9999999999999998,
          1.1839948950768195,
          1.2326066601475096,
          1.1157948217630753,
          0.8660794740269973,
          0.5625,
          0.2920565936357753,
          0.11069268244311987,
          0.024824224149180625,
          0.0016729490168751627,
          0
         ],
         "yaxis": "y1"
        },
        {
         "mode": "lines+markers",
         "name": "u'(x)",
         "type": "scatter",
         "x": [
          0,
          0.1,
          0.2,
          0.3,
          0.4,
          0.5,
          0.6,
          0.7,
          0.8,
          0.9,
          1,
          1.1,
          1.2,
          1.3,
          1.4,
          1.5,
          1.6,
          1.7,
          1.8,
          1.9,
          2
         ],
         "xaxis": "x2",
         "y": [
          1,
          1,
          1,
          1,
          1,
          1,
          1,
          1,
          1,
          1,
          1,
          -1,
          -1,
          -1,
          -1,
          -1,
          -1,
          -1,
          -1,
          -1,
          -1
         ],
         "yaxis": "y2"
        },
        {
         "mode": "lines+markers",
         "name": "u'(x)-v'(x)",
         "type": "scatter",
         "x": [
          0,
          0.1,
          0.2,
          0.3,
          0.4,
          0.5,
          0.6,
          0.7,
          0.8,
          0.9,
          1,
          1.1,
          1.2,
          1.3,
          1.4,
          1.5,
          1.6,
          1.7,
          1.8,
          1.9,
          2
         ],
         "xaxis": "x2",
         "y": [
          -2.141592653589793,
          -1.9878321647415556,
          -1.5416018461576297,
          -0.8465818304904567,
          0.029194480637266707,
          0.9999999999999998,
          1.970805519362733,
          2.8465818304904564,
          3.5416018461576297,
          3.9878321647415556,
          4.141592653589793,
          1.9878321647415556,
          1.5416018461576297,
          0.8465818304904571,
          -0.029194480637266262,
          -0.9999999999999994,
          -1.9708055193627327,
          -2.846581830490456,
          -3.5416018461576297,
          -3.9878321647415556,
          -4.141592653589793
         ],
         "yaxis": "y2"
        },
        {
         "fill": "tozeroy",
         "mode": "lines+markers",
         "name": "|u'(u'-v')|^2",
         "type": "scatter",
         "x": [
          0,
          0.1,
          0.2,
          0.3,
          0.4,
          0.5,
          0.6,
          0.7,
          0.8,
          0.9,
          1,
          1.1,
          1.2,
          1.3,
          1.4,
          1.5,
          1.6,
          1.7,
          1.8,
          1.9,
          2
         ],
         "xaxis": "x2",
         "y": [
          4.586419093909772,
          3.9514767151810988,
          2.3765362520766122,
          0.7167007957165723,
          0.0008523176996797407,
          0.9999999999999996,
          3.884074395150612,
          8.103028117678397,
          12.54294363670713,
          15.902805374147322,
          17.152789708268944,
          3.9514767151810988,
          2.3765362520766122,
          0.7167007957165731,
          0.0008523176996797147,
          0.9999999999999989,
          3.884074395150611,
          8.103028117678395,
          12.54294363670713,
          15.902805374147322,
          17.152789708268944
         ],
         "yaxis": "y2"
        }
       ],
       "frames": [],
       "layout": {
        "annotations": [
         {
          "font": {
           "size": 16
          },
          "showarrow": false,
          "text": "Functions",
          "x": 0.225,
          "xanchor": "center",
          "xref": "paper",
          "y": 1,
          "yanchor": "bottom",
          "yref": "paper"
         },
         {
          "font": {
           "size": 16
          },
          "showarrow": false,
          "text": "Derivative Functions",
          "x": 0.775,
          "xanchor": "center",
          "xref": "paper",
          "y": 1,
          "yanchor": "bottom",
          "yref": "paper"
         }
        ],
        "margin": {
         "b": 50,
         "l": 50,
         "r": 50,
         "t": 60
        },
        "xaxis1": {
         "anchor": "y1",
         "domain": [
          0,
          0.45
         ],
         "title": "x"
        },
        "xaxis2": {
         "anchor": "y2",
         "domain": [
          0.55,
          1
         ],
         "title": "x"
        },
        "yaxis1": {
         "anchor": "x1",
         "domain": [
          0,
          1
         ]
        },
        "yaxis2": {
         "anchor": "x2",
         "domain": [
          0,
          1
         ]
        }
       }
      },
      "application/vnd.webio.node+json": {
       "children": [
        {
         "children": [],
         "instanceArgs": {
          "namespace": "html",
          "tag": "div"
         },
         "nodeType": "DOM",
         "props": {
          "id": "plot-8686e669-e95f-4425-93eb-af6e8829a615"
         },
         "type": "node"
        }
       ],
       "instanceArgs": {
        "handlers": {
         "__get_gd_contents": [
          "(function (prop){prop==\"data\" ? (WebIO.setval({\"name\":\"__gd_contents\",\"scope\":\"357921447683872095\",\"id\":\"7064364223928068614\",\"type\":\"observable\"},this.plotElem.data)) : undefined; return prop==\"layout\" ? (WebIO.setval({\"name\":\"__gd_contents\",\"scope\":\"357921447683872095\",\"id\":\"7064364223928068614\",\"type\":\"observable\"},this.plotElem.layout)) : undefined})"
         ],
         "_commands": [
          "(function (args){var fn=args.shift(); var elem=this.plotElem; var Plotly=this.Plotly; args.unshift(elem); return Plotly[fn].apply(this,args)})"
         ],
         "_downloadImage": [
          "(function (options){return this.Plotly.downloadImage(this.plotElem,options)})"
         ],
         "_toImage": [
          "(function (options){return this.Plotly.toImage(this.plotElem,options).then((function (data){return WebIO.setval({\"name\":\"image\",\"scope\":\"357921447683872095\",\"id\":\"15250891409418270440\",\"type\":\"observable\"},data)}))})"
         ]
        },
        "id": "357921447683872095",
        "imports": {
         "data": [
          {
           "name": "Plotly",
           "type": "js",
           "url": "/assetserver/c843c6635296ea5f415808032e6c1f322a3239cd-plotly.min.js"
          },
          {
           "name": null,
           "type": "js",
           "url": "/assetserver/44e1943a6c8ed4b38e47f64f07dc32566142c8ee-plotly_webio.bundle.js"
          }
         ],
         "type": "async_block"
        },
        "mount_callbacks": [
         "function () {\n    var handler = ((function (Plotly,PlotlyWebIO){PlotlyWebIO.init(WebIO); var gd=this.dom.querySelector(\"#plot-8686e669-e95f-4425-93eb-af6e8829a615\"); this.plotElem=gd; this.Plotly=Plotly; (window.Blink!==undefined) ? (gd.style.width=\"100%\", gd.style.height=\"100vh\", gd.style.marginLeft=\"0%\", gd.style.marginTop=\"0vh\") : undefined; window.onresize=(function (){return Plotly.Plots.resize(gd)}); Plotly.newPlot(gd,[{\"mode\":\"lines+markers\",\"xaxis\":\"x1\",\"y\":[0.0,0.1,0.2,0.3,0.4,0.5,0.6,0.7,0.8,0.9,1.0,0.8999999999999999,0.8,0.7,0.6000000000000001,0.5,0.3999999999999999,0.30000000000000004,0.19999999999999996,0.10000000000000009,0.0],\"type\":\"scatter\",\"name\":\"u(x)\",\"yaxis\":\"y1\",\"x\":[0.0,0.1,0.2,0.3,0.4,0.5,0.6,0.7,0.8,0.9,1.0,1.1,1.2,1.3,1.4,1.5,1.6,1.7,1.8,1.9,2.0]},{\"mode\":\"lines+markers\",\"xaxis\":\"x1\",\"y\":[0.0,-0.2090169943749474,-0.3877852522924731,-0.5090169943749474,-0.5510565162951535,-0.5,-0.35105651629515366,-0.1090169943749475,0.2122147477075268,0.5909830056250525,0.9999999999999999,1.2090169943749476,1.3877852522924732,1.5090169943749472,1.5510565162951537,1.5,1.3510565162951536,1.1090169943749477,0.7877852522924733,0.4090169943749477,2.4492935982947064e-16],\"type\":\"scatter\",\"name\":\"u(x)-v(x)\",\"yaxis\":\"y1\",\"x\":[0.0,0.1,0.2,0.3,0.4,0.5,0.6,0.7,0.8,0.9,1.0,1.1,1.2,1.3,1.4,1.5,1.6,1.7,1.8,1.9,2.0]},{\"mode\":\"lines+markers\",\"xaxis\":\"x1\",\"y\":[0.0,0.00043688103937536795,0.006015096075821483,0.02331884705062547,0.04858612546421613,0.0625,0.044366643947984216,0.005823505480648194,0.028822463452524323,0.2829013394794729,0.9999999999999998,1.1839948950768195,1.2326066601475096,1.1157948217630753,0.8660794740269973,0.5625,0.2920565936357753,0.11069268244311987,0.024824224149180625,0.0016729490168751627,0.0],\"type\":\"scatter\",\"name\":\"|u(u-v)|^2\",\"fill\":\"tozeroy\",\"yaxis\":\"y1\",\"x\":[0.0,0.1,0.2,0.3,0.4,0.5,0.6,0.7,0.8,0.9,1.0,1.1,1.2,1.3,1.4,1.5,1.6,1.7,1.8,1.9,2.0]},{\"mode\":\"lines+markers\",\"xaxis\":\"x2\",\"y\":[1,1,1,1,1,1,1,1,1,1,1,-1,-1,-1,-1,-1,-1,-1,-1,-1,-1],\"type\":\"scatter\",\"name\":\"u'(x)\",\"yaxis\":\"y2\",\"x\":[0.0,0.1,0.2,0.3,0.4,0.5,0.6,0.7,0.8,0.9,1.0,1.1,1.2,1.3,1.4,1.5,1.6,1.7,1.8,1.9,2.0]},{\"mode\":\"lines+markers\",\"xaxis\":\"x2\",\"y\":[-2.141592653589793,-1.9878321647415556,-1.5416018461576297,-0.8465818304904567,0.029194480637266707,0.9999999999999998,1.970805519362733,2.8465818304904564,3.5416018461576297,3.9878321647415556,4.141592653589793,1.9878321647415556,1.5416018461576297,0.8465818304904571,-0.029194480637266262,-0.9999999999999994,-1.9708055193627327,-2.846581830490456,-3.5416018461576297,-3.9878321647415556,-4.141592653589793],\"type\":\"scatter\",\"name\":\"u'(x)-v'(x)\",\"yaxis\":\"y2\",\"x\":[0.0,0.1,0.2,0.3,0.4,0.5,0.6,0.7,0.8,0.9,1.0,1.1,1.2,1.3,1.4,1.5,1.6,1.7,1.8,1.9,2.0]},{\"mode\":\"lines+markers\",\"xaxis\":\"x2\",\"y\":[4.586419093909772,3.9514767151810988,2.3765362520766122,0.7167007957165723,0.0008523176996797407,0.9999999999999996,3.884074395150612,8.103028117678397,12.54294363670713,15.902805374147322,17.152789708268944,3.9514767151810988,2.3765362520766122,0.7167007957165731,0.0008523176996797147,0.9999999999999989,3.884074395150611,8.103028117678395,12.54294363670713,15.902805374147322,17.152789708268944],\"type\":\"scatter\",\"name\":\"|u'(u'-v')|^2\",\"fill\":\"tozeroy\",\"yaxis\":\"y2\",\"x\":[0.0,0.1,0.2,0.3,0.4,0.5,0.6,0.7,0.8,0.9,1.0,1.1,1.2,1.3,1.4,1.5,1.6,1.7,1.8,1.9,2.0]}],{\"xaxis1\":{\"title\":\"x\",\"domain\":[0.0,0.45],\"anchor\":\"y1\"},\"yaxis1\":{\"domain\":[0.0,1.0],\"anchor\":\"x1\"},\"xaxis2\":{\"title\":\"x\",\"domain\":[0.55,1.0],\"anchor\":\"y2\"},\"annotations\":[{\"yanchor\":\"bottom\",\"xanchor\":\"center\",\"y\":1.0,\"font\":{\"size\":16},\"showarrow\":false,\"yref\":\"paper\",\"text\":\"Functions\",\"xref\":\"paper\",\"x\":0.225},{\"yanchor\":\"bottom\",\"xanchor\":\"center\",\"y\":1.0,\"font\":{\"size\":16},\"showarrow\":false,\"yref\":\"paper\",\"text\":\"Derivative Functions\",\"xref\":\"paper\",\"x\":0.775}],\"margin\":{\"l\":50,\"b\":50,\"r\":50,\"t\":60},\"yaxis2\":{\"domain\":[0.0,1.0],\"anchor\":\"x2\"}},{\"showLink\":false}); gd.on(\"plotly_hover\",(function (data){var filtered_data=WebIO.PlotlyCommands.filterEventData(gd,data,\"hover\"); return !(filtered_data.isnil) ? (WebIO.setval({\"name\":\"hover\",\"scope\":\"357921447683872095\",\"id\":\"18017660685105352790\",\"type\":\"observable\"},filtered_data.out)) : undefined})); gd.on(\"plotly_unhover\",(function (){return WebIO.setval({\"name\":\"hover\",\"scope\":\"357921447683872095\",\"id\":\"18017660685105352790\",\"type\":\"observable\"},{})})); gd.on(\"plotly_selected\",(function (data){var filtered_data=WebIO.PlotlyCommands.filterEventData(gd,data,\"selected\"); return !(filtered_data.isnil) ? (WebIO.setval({\"name\":\"selected\",\"scope\":\"357921447683872095\",\"id\":\"10331763943808578797\",\"type\":\"observable\"},filtered_data.out)) : undefined})); gd.on(\"plotly_deselect\",(function (){return WebIO.setval({\"name\":\"selected\",\"scope\":\"357921447683872095\",\"id\":\"10331763943808578797\",\"type\":\"observable\"},{})})); gd.on(\"plotly_relayout\",(function (data){var filtered_data=WebIO.PlotlyCommands.filterEventData(gd,data,\"relayout\"); return !(filtered_data.isnil) ? (WebIO.setval({\"name\":\"relayout\",\"scope\":\"357921447683872095\",\"id\":\"14717261975560063139\",\"type\":\"observable\"},filtered_data.out)) : undefined})); return gd.on(\"plotly_click\",(function (data){var filtered_data=WebIO.PlotlyCommands.filterEventData(gd,data,\"click\"); return !(filtered_data.isnil) ? (WebIO.setval({\"name\":\"click\",\"scope\":\"357921447683872095\",\"id\":\"10895065045428385685\",\"type\":\"observable\"},filtered_data.out)) : undefined}))}));\n    (WebIO.importBlock({\"data\":[{\"name\":\"Plotly\",\"type\":\"js\",\"url\":\"/assetserver/c843c6635296ea5f415808032e6c1f322a3239cd-plotly.min.js\"},{\"name\":null,\"type\":\"js\",\"url\":\"/assetserver/44e1943a6c8ed4b38e47f64f07dc32566142c8ee-plotly_webio.bundle.js\"}],\"type\":\"async_block\"})).then((imports) => handler.apply(this, imports));\n}\n"
        ],
        "observables": {
         "__gd_contents": {
          "id": "7064364223928068614",
          "sync": false,
          "value": {}
         },
         "__get_gd_contents": {
          "id": "3797349947297783517",
          "sync": false,
          "value": ""
         },
         "_commands": {
          "id": "7556930742465450809",
          "sync": false,
          "value": []
         },
         "_downloadImage": {
          "id": "12051117646156852967",
          "sync": false,
          "value": {}
         },
         "_toImage": {
          "id": "11488768143934042562",
          "sync": false,
          "value": {}
         },
         "click": {
          "id": "10895065045428385685",
          "sync": false,
          "value": {}
         },
         "hover": {
          "id": "18017660685105352790",
          "sync": false,
          "value": {}
         },
         "image": {
          "id": "15250891409418270440",
          "sync": true,
          "value": ""
         },
         "relayout": {
          "id": "14717261975560063139",
          "sync": false,
          "value": {}
         },
         "selected": {
          "id": "10331763943808578797",
          "sync": false,
          "value": {}
         }
        },
        "systemjs_options": null
       },
       "nodeType": "Scope",
       "props": {},
       "type": "node"
      },
      "text/html": [
       "<div\n",
       "    class=\"webio-mountpoint\"\n",
       "    data-webio-mountpoint=\"18088041869663576411\"\n",
       ">\n",
       "    <script>\n",
       "    (function(){\n",
       "    // Some integrations (namely, IJulia/Jupyter) use an alternate render pathway than\n",
       "    // just putting the html on the page. If WebIO isn't defined, then it's pretty likely\n",
       "    // that we're in one of those situations and the integration just isn't installed\n",
       "    // correctly.\n",
       "    if (typeof window.WebIO === \"undefined\") {\n",
       "        document\n",
       "            .querySelector('[data-webio-mountpoint=\"18088041869663576411\"]')\n",
       "            .innerHTML = (\n",
       "                '<div style=\"padding: 1em; background-color: #f8d6da; border: 1px solid #f5c6cb; font-weight: bold;\">' +\n",
       "                '<p><strong>WebIO not detected.</strong></p>' +\n",
       "                '<p>Please read ' +\n",
       "                '<a href=\"https://juliagizmos.github.io/WebIO.jl/latest/troubleshooting/not-detected/\" target=\"_blank\">the troubleshooting guide</a> ' +\n",
       "                'for more information on how to resolve this issue.</p>' +\n",
       "                '<p><a href=\"https://juliagizmos.github.io/WebIO.jl/latest/troubleshooting/not-detected/\" target=\"_blank\">https://juliagizmos.github.io/WebIO.jl/latest/troubleshooting/not-detected/</a></p>' +\n",
       "                '</div>'\n",
       "            );\n",
       "        return;\n",
       "    }\n",
       "    WebIO.mount(\n",
       "        document.querySelector('[data-webio-mountpoint=\"18088041869663576411\"]'),\n",
       "        {\"props\":{},\"nodeType\":\"Scope\",\"type\":\"node\",\"instanceArgs\":{\"imports\":{\"data\":[{\"name\":\"Plotly\",\"type\":\"js\",\"url\":\"\\/assetserver\\/c843c6635296ea5f415808032e6c1f322a3239cd-plotly.min.js\"},{\"name\":null,\"type\":\"js\",\"url\":\"\\/assetserver\\/44e1943a6c8ed4b38e47f64f07dc32566142c8ee-plotly_webio.bundle.js\"}],\"type\":\"async_block\"},\"id\":\"357921447683872095\",\"handlers\":{\"_toImage\":[\"(function (options){return this.Plotly.toImage(this.plotElem,options).then((function (data){return WebIO.setval({\\\"name\\\":\\\"image\\\",\\\"scope\\\":\\\"357921447683872095\\\",\\\"id\\\":\\\"15250891409418270440\\\",\\\"type\\\":\\\"observable\\\"},data)}))})\"],\"__get_gd_contents\":[\"(function (prop){prop==\\\"data\\\" ? (WebIO.setval({\\\"name\\\":\\\"__gd_contents\\\",\\\"scope\\\":\\\"357921447683872095\\\",\\\"id\\\":\\\"7064364223928068614\\\",\\\"type\\\":\\\"observable\\\"},this.plotElem.data)) : undefined; return prop==\\\"layout\\\" ? (WebIO.setval({\\\"name\\\":\\\"__gd_contents\\\",\\\"scope\\\":\\\"357921447683872095\\\",\\\"id\\\":\\\"7064364223928068614\\\",\\\"type\\\":\\\"observable\\\"},this.plotElem.layout)) : undefined})\"],\"_downloadImage\":[\"(function (options){return this.Plotly.downloadImage(this.plotElem,options)})\"],\"_commands\":[\"(function (args){var fn=args.shift(); var elem=this.plotElem; var Plotly=this.Plotly; args.unshift(elem); return Plotly[fn].apply(this,args)})\"]},\"systemjs_options\":null,\"mount_callbacks\":[\"function () {\\n    var handler = ((function (Plotly,PlotlyWebIO){PlotlyWebIO.init(WebIO); var gd=this.dom.querySelector(\\\"#plot-8686e669-e95f-4425-93eb-af6e8829a615\\\"); this.plotElem=gd; this.Plotly=Plotly; (window.Blink!==undefined) ? (gd.style.width=\\\"100%\\\", gd.style.height=\\\"100vh\\\", gd.style.marginLeft=\\\"0%\\\", gd.style.marginTop=\\\"0vh\\\") : undefined; window.onresize=(function (){return Plotly.Plots.resize(gd)}); Plotly.newPlot(gd,[{\\\"mode\\\":\\\"lines+markers\\\",\\\"xaxis\\\":\\\"x1\\\",\\\"y\\\":[0.0,0.1,0.2,0.3,0.4,0.5,0.6,0.7,0.8,0.9,1.0,0.8999999999999999,0.8,0.7,0.6000000000000001,0.5,0.3999999999999999,0.30000000000000004,0.19999999999999996,0.10000000000000009,0.0],\\\"type\\\":\\\"scatter\\\",\\\"name\\\":\\\"u(x)\\\",\\\"yaxis\\\":\\\"y1\\\",\\\"x\\\":[0.0,0.1,0.2,0.3,0.4,0.5,0.6,0.7,0.8,0.9,1.0,1.1,1.2,1.3,1.4,1.5,1.6,1.7,1.8,1.9,2.0]},{\\\"mode\\\":\\\"lines+markers\\\",\\\"xaxis\\\":\\\"x1\\\",\\\"y\\\":[0.0,-0.2090169943749474,-0.3877852522924731,-0.5090169943749474,-0.5510565162951535,-0.5,-0.35105651629515366,-0.1090169943749475,0.2122147477075268,0.5909830056250525,0.9999999999999999,1.2090169943749476,1.3877852522924732,1.5090169943749472,1.5510565162951537,1.5,1.3510565162951536,1.1090169943749477,0.7877852522924733,0.4090169943749477,2.4492935982947064e-16],\\\"type\\\":\\\"scatter\\\",\\\"name\\\":\\\"u(x)-v(x)\\\",\\\"yaxis\\\":\\\"y1\\\",\\\"x\\\":[0.0,0.1,0.2,0.3,0.4,0.5,0.6,0.7,0.8,0.9,1.0,1.1,1.2,1.3,1.4,1.5,1.6,1.7,1.8,1.9,2.0]},{\\\"mode\\\":\\\"lines+markers\\\",\\\"xaxis\\\":\\\"x1\\\",\\\"y\\\":[0.0,0.00043688103937536795,0.006015096075821483,0.02331884705062547,0.04858612546421613,0.0625,0.044366643947984216,0.005823505480648194,0.028822463452524323,0.2829013394794729,0.9999999999999998,1.1839948950768195,1.2326066601475096,1.1157948217630753,0.8660794740269973,0.5625,0.2920565936357753,0.11069268244311987,0.024824224149180625,0.0016729490168751627,0.0],\\\"type\\\":\\\"scatter\\\",\\\"name\\\":\\\"|u(u-v)|^2\\\",\\\"fill\\\":\\\"tozeroy\\\",\\\"yaxis\\\":\\\"y1\\\",\\\"x\\\":[0.0,0.1,0.2,0.3,0.4,0.5,0.6,0.7,0.8,0.9,1.0,1.1,1.2,1.3,1.4,1.5,1.6,1.7,1.8,1.9,2.0]},{\\\"mode\\\":\\\"lines+markers\\\",\\\"xaxis\\\":\\\"x2\\\",\\\"y\\\":[1,1,1,1,1,1,1,1,1,1,1,-1,-1,-1,-1,-1,-1,-1,-1,-1,-1],\\\"type\\\":\\\"scatter\\\",\\\"name\\\":\\\"u'(x)\\\",\\\"yaxis\\\":\\\"y2\\\",\\\"x\\\":[0.0,0.1,0.2,0.3,0.4,0.5,0.6,0.7,0.8,0.9,1.0,1.1,1.2,1.3,1.4,1.5,1.6,1.7,1.8,1.9,2.0]},{\\\"mode\\\":\\\"lines+markers\\\",\\\"xaxis\\\":\\\"x2\\\",\\\"y\\\":[-2.141592653589793,-1.9878321647415556,-1.5416018461576297,-0.8465818304904567,0.029194480637266707,0.9999999999999998,1.970805519362733,2.8465818304904564,3.5416018461576297,3.9878321647415556,4.141592653589793,1.9878321647415556,1.5416018461576297,0.8465818304904571,-0.029194480637266262,-0.9999999999999994,-1.9708055193627327,-2.846581830490456,-3.5416018461576297,-3.9878321647415556,-4.141592653589793],\\\"type\\\":\\\"scatter\\\",\\\"name\\\":\\\"u'(x)-v'(x)\\\",\\\"yaxis\\\":\\\"y2\\\",\\\"x\\\":[0.0,0.1,0.2,0.3,0.4,0.5,0.6,0.7,0.8,0.9,1.0,1.1,1.2,1.3,1.4,1.5,1.6,1.7,1.8,1.9,2.0]},{\\\"mode\\\":\\\"lines+markers\\\",\\\"xaxis\\\":\\\"x2\\\",\\\"y\\\":[4.586419093909772,3.9514767151810988,2.3765362520766122,0.7167007957165723,0.0008523176996797407,0.9999999999999996,3.884074395150612,8.103028117678397,12.54294363670713,15.902805374147322,17.152789708268944,3.9514767151810988,2.3765362520766122,0.7167007957165731,0.0008523176996797147,0.9999999999999989,3.884074395150611,8.103028117678395,12.54294363670713,15.902805374147322,17.152789708268944],\\\"type\\\":\\\"scatter\\\",\\\"name\\\":\\\"|u'(u'-v')|^2\\\",\\\"fill\\\":\\\"tozeroy\\\",\\\"yaxis\\\":\\\"y2\\\",\\\"x\\\":[0.0,0.1,0.2,0.3,0.4,0.5,0.6,0.7,0.8,0.9,1.0,1.1,1.2,1.3,1.4,1.5,1.6,1.7,1.8,1.9,2.0]}],{\\\"xaxis1\\\":{\\\"title\\\":\\\"x\\\",\\\"domain\\\":[0.0,0.45],\\\"anchor\\\":\\\"y1\\\"},\\\"yaxis1\\\":{\\\"domain\\\":[0.0,1.0],\\\"anchor\\\":\\\"x1\\\"},\\\"xaxis2\\\":{\\\"title\\\":\\\"x\\\",\\\"domain\\\":[0.55,1.0],\\\"anchor\\\":\\\"y2\\\"},\\\"annotations\\\":[{\\\"yanchor\\\":\\\"bottom\\\",\\\"xanchor\\\":\\\"center\\\",\\\"y\\\":1.0,\\\"font\\\":{\\\"size\\\":16},\\\"showarrow\\\":false,\\\"yref\\\":\\\"paper\\\",\\\"text\\\":\\\"Functions\\\",\\\"xref\\\":\\\"paper\\\",\\\"x\\\":0.225},{\\\"yanchor\\\":\\\"bottom\\\",\\\"xanchor\\\":\\\"center\\\",\\\"y\\\":1.0,\\\"font\\\":{\\\"size\\\":16},\\\"showarrow\\\":false,\\\"yref\\\":\\\"paper\\\",\\\"text\\\":\\\"Derivative Functions\\\",\\\"xref\\\":\\\"paper\\\",\\\"x\\\":0.775}],\\\"margin\\\":{\\\"l\\\":50,\\\"b\\\":50,\\\"r\\\":50,\\\"t\\\":60},\\\"yaxis2\\\":{\\\"domain\\\":[0.0,1.0],\\\"anchor\\\":\\\"x2\\\"}},{\\\"showLink\\\":false}); gd.on(\\\"plotly_hover\\\",(function (data){var filtered_data=WebIO.PlotlyCommands.filterEventData(gd,data,\\\"hover\\\"); return !(filtered_data.isnil) ? (WebIO.setval({\\\"name\\\":\\\"hover\\\",\\\"scope\\\":\\\"357921447683872095\\\",\\\"id\\\":\\\"18017660685105352790\\\",\\\"type\\\":\\\"observable\\\"},filtered_data.out)) : undefined})); gd.on(\\\"plotly_unhover\\\",(function (){return WebIO.setval({\\\"name\\\":\\\"hover\\\",\\\"scope\\\":\\\"357921447683872095\\\",\\\"id\\\":\\\"18017660685105352790\\\",\\\"type\\\":\\\"observable\\\"},{})})); gd.on(\\\"plotly_selected\\\",(function (data){var filtered_data=WebIO.PlotlyCommands.filterEventData(gd,data,\\\"selected\\\"); return !(filtered_data.isnil) ? (WebIO.setval({\\\"name\\\":\\\"selected\\\",\\\"scope\\\":\\\"357921447683872095\\\",\\\"id\\\":\\\"10331763943808578797\\\",\\\"type\\\":\\\"observable\\\"},filtered_data.out)) : undefined})); gd.on(\\\"plotly_deselect\\\",(function (){return WebIO.setval({\\\"name\\\":\\\"selected\\\",\\\"scope\\\":\\\"357921447683872095\\\",\\\"id\\\":\\\"10331763943808578797\\\",\\\"type\\\":\\\"observable\\\"},{})})); gd.on(\\\"plotly_relayout\\\",(function (data){var filtered_data=WebIO.PlotlyCommands.filterEventData(gd,data,\\\"relayout\\\"); return !(filtered_data.isnil) ? (WebIO.setval({\\\"name\\\":\\\"relayout\\\",\\\"scope\\\":\\\"357921447683872095\\\",\\\"id\\\":\\\"14717261975560063139\\\",\\\"type\\\":\\\"observable\\\"},filtered_data.out)) : undefined})); return gd.on(\\\"plotly_click\\\",(function (data){var filtered_data=WebIO.PlotlyCommands.filterEventData(gd,data,\\\"click\\\"); return !(filtered_data.isnil) ? (WebIO.setval({\\\"name\\\":\\\"click\\\",\\\"scope\\\":\\\"357921447683872095\\\",\\\"id\\\":\\\"10895065045428385685\\\",\\\"type\\\":\\\"observable\\\"},filtered_data.out)) : undefined}))}));\\n    (WebIO.importBlock({\\\"data\\\":[{\\\"name\\\":\\\"Plotly\\\",\\\"type\\\":\\\"js\\\",\\\"url\\\":\\\"\\/assetserver\\/c843c6635296ea5f415808032e6c1f322a3239cd-plotly.min.js\\\"},{\\\"name\\\":null,\\\"type\\\":\\\"js\\\",\\\"url\\\":\\\"\\/assetserver\\/44e1943a6c8ed4b38e47f64f07dc32566142c8ee-plotly_webio.bundle.js\\\"}],\\\"type\\\":\\\"async_block\\\"})).then((imports) => handler.apply(this, imports));\\n}\\n\"],\"observables\":{\"_toImage\":{\"sync\":false,\"id\":\"11488768143934042562\",\"value\":{}},\"hover\":{\"sync\":false,\"id\":\"18017660685105352790\",\"value\":{}},\"selected\":{\"sync\":false,\"id\":\"10331763943808578797\",\"value\":{}},\"__gd_contents\":{\"sync\":false,\"id\":\"7064364223928068614\",\"value\":{}},\"click\":{\"sync\":false,\"id\":\"10895065045428385685\",\"value\":{}},\"image\":{\"sync\":true,\"id\":\"15250891409418270440\",\"value\":\"\"},\"__get_gd_contents\":{\"sync\":false,\"id\":\"3797349947297783517\",\"value\":\"\"},\"_downloadImage\":{\"sync\":false,\"id\":\"12051117646156852967\",\"value\":{}},\"relayout\":{\"sync\":false,\"id\":\"14717261975560063139\",\"value\":{}},\"_commands\":{\"sync\":false,\"id\":\"7556930742465450809\",\"value\":[]}}},\"children\":[{\"props\":{\"id\":\"plot-8686e669-e95f-4425-93eb-af6e8829a615\"},\"nodeType\":\"DOM\",\"type\":\"node\",\"instanceArgs\":{\"namespace\":\"html\",\"tag\":\"div\"},\"children\":[]}]},\n",
       "        window,\n",
       "    );\n",
       "    })()\n",
       "    </script>\n",
       "</div>\n"
      ],
      "text/plain": [
       "data: [\n",
       "  \"scatter with fields mode, name, type, x, xaxis, y, and yaxis\",\n",
       "  \"scatter with fields mode, name, type, x, xaxis, y, and yaxis\",\n",
       "  \"scatter with fields fill, mode, name, type, x, xaxis, y, and yaxis\",\n",
       "  \"scatter with fields mode, name, type, x, xaxis, y, and yaxis\",\n",
       "  \"scatter with fields mode, name, type, x, xaxis, y, and yaxis\",\n",
       "  \"scatter with fields fill, mode, name, type, x, xaxis, y, and yaxis\"\n",
       "]\n",
       "\n",
       "layout: \"layout with fields annotations, margin, xaxis1, xaxis2, yaxis1, and yaxis2\"\n",
       "\n"
      ]
     },
     "execution_count": 10,
     "metadata": {
      "@webio": {
       "kernelId": "9b8206ac-bba5-416d-991b-828e7d66a667"
      }
     },
     "output_type": "execute_result"
    }
   ],
   "source": [
    "plot_umumv2    = scatter(;x=x, y=broadcast(abs, u.(x).*(u.(x) - v.(x))).^2, mode=\"lines+markers\", fill=\"tozeroy\", name=\"|u(u-v)|^2\")\n",
    "plot_upmupmvp2 = scatter(;x=x, y=broadcast(abs, up.(x).*(up.(x) - vp.(x))).^2, mode=\"lines+markers\", fill=\"tozeroy\", name=\"|u'(u'-v')|^2\")\n",
    "\n",
    "p5 = plot([plot_u, plot_umv, plot_umumv2], Layout(title=\"Functions\",  xaxis_title=\"x\"))\n",
    "p6 = plot([plot_up, plot_upmvp, plot_upmupmvp2], Layout(title=\"Derivative Functions\",  xaxis_title=\"x\"))\n",
    "\n",
    "p = [p5 p6]\n",
    "#relayout!(p, height=300, width=700, title_text=\"Functions\", legend_title_text=\"Legend\")\n",
    "#p"
   ]
  },
  {
   "cell_type": "markdown",
   "id": "0863a712-f8ef-4957-a565-000bc6945e52",
   "metadata": {},
   "source": [
    "Now, let's verify the Cauchy-Schwarz inequality in the space $L^2(0,2)$ for the previous functions, $u$ and $u-v$ \n",
    "\n",
    "$$\n",
    "||(u, u-v)||_{L^2} \\leq ||u||_{L^2} \\cdot |u-v||_{L^2}  \n",
    "$$\n",
    "\n",
    "Notice that only the last term is calculated. First let's calculate the norm of the inner product between $u$ and $u-v$\n",
    "\n",
    "$$\n",
    "||(u, u-v)||_{L^2}^2 = \\int_0^2 |u(u-v)|^2 dx = \\int_0^1 (x(x-\\sin(\\pi x)))^2 dx + \\int_1^2 ((2-x)(2-x-\\sin(\\pi x)))^2 dx \\\\\n",
    "||(u, u-v)||_{L^2}^2 = \\int_0^1 \\left(x^4+x^2\\sin^2(\\pi x) - 2x^3\\sin(\\pi x)\\right) dx + \\int_1^2 \\left((2-x)^4+(2-x)^2 \\sin^2(\\pi x)-2(2-x)^3\\sin(\\pi x) \\right) dx \\\\\n",
    "||(u, u-v)||_{L^2}^2 = \\int_0^1 x^4 dx + \\frac{1}{2}\\int_0^1 x^2 \\left(1-\\cos(2\\pi x) \\right) dx -2 \\int_0^1 x^3\\sin(\\pi x)dx + \\int_1^2 (2-x)^4 dx  + \\frac{1}{2}\\int_1^2 (2-x)^2 \\left(1-\\cos(2\\pi x) \\right) dx -2 \\int_1^2 (2-x)^3\\sin(\\pi x) dx \\\\\n",
    "||(u, u-v)||_{L^2}^2 = \\int_0^1 x^4 dx + \\frac{1}{2}\\int_0^1 x^2 dx - \\frac{1}{2}\\int_0^1 x^2 \\cos(2\\pi x) dx -2 \\int_0^1 x^3\\sin(\\pi x)dx + \\int_1^2 (2-x)^4 dx  + \\frac{1}{2}\\int_1^2 (2-x)^2  dx - \\frac{1}{2}\\int_1^2 (2-x)^2 \\cos(2\\pi x)  dx -2 \\int_1^2 (2-x)^3\\sin(\\pi x) dx \\\\\n",
    "||(u, u-v)||_{L^2}^2 = \\frac{1}{5} + \\frac{1}{6} - \\frac{1}{2} \\frac{1}{2\\pi^2} - \\frac{2}{\\pi} + \\frac{12}{\\pi^3} + \\frac{1}{5} + \\frac{1}{6} - \\frac{1}{2} \\frac{1}{2\\pi^2} - \\frac{12}{\\pi^3} + \\frac{2}{\\pi} = \\frac{2}{5} + \\frac{1}{3} - \\frac{1}{2\\pi^2} = \\frac{11}{15}  - \\frac{1}{2\\pi^2} \\qquad \\Longrightarrow \\qquad \\boxed{||(u, u-v)||_{L^2}^2 = 0.683}\n",
    "$$\n",
    "\n",
    "Now, let's calculate the norm of $u$\n",
    "\n",
    "$$\n",
    "||u||_{L^2}^2 = \\int_0^2 |u|^2 dx =  \\int_0^1 x^2 dx  + \\int_1^2 (2-x)^2 dx = \\frac{1}{3}x^3\\Big|_0^1 - \\frac{1}{3} (2-x)^3\\Big|_1^2 = \\frac{2}{3} \n",
    "$$\n",
    "\n",
    "\n",
    "To check the Cauchy-Schwarz inequality let's use it to the power of two \n",
    "\n",
    "$$\n",
    "||(u, u-v)||_{L^2}^2 \\leq ||u||_{L^2}^2 \\cdot ||u-v||_{L^2}^2  \\qquad \\Longleftrightarrow \\qquad  \\boxed{0.683 \\leq \\frac{2}{3}(1.67) = 1.1111}\n",
    "$$"
   ]
  },
  {
   "cell_type": "code",
   "execution_count": 11,
   "id": "3e46c7f7-a7d2-4ad1-bf71-cbdff6e692aa",
   "metadata": {},
   "outputs": [
    {
     "data": {
      "text/plain": [
       "(0.6826727415121643, 1.262843996041596e-12)"
      ]
     },
     "execution_count": 11,
     "metadata": {},
     "output_type": "execute_result"
    }
   ],
   "source": [
    "integraluumv, err = quadgk(x -> broadcast(abs, u.(x).*(u.(x) - v.(x))).^2, 0, 2, rtol=1e-8)"
   ]
  },
  {
   "cell_type": "code",
   "execution_count": 12,
   "id": "e47e46f8-4905-45ff-a597-84a1f2baa106",
   "metadata": {},
   "outputs": [
    {
     "data": {
      "text/plain": [
       "(0.6666666666666667, 5.551115123125783e-17)"
      ]
     },
     "execution_count": 12,
     "metadata": {},
     "output_type": "execute_result"
    }
   ],
   "source": [
    "integralu2, err = quadgk(x -> broadcast(abs, u.(x)).^2, 0, 2, rtol=1e-8)"
   ]
  },
  {
   "cell_type": "code",
   "execution_count": 13,
   "id": "a3e2a189-0700-4e7d-930f-e7e7452d6f4c",
   "metadata": {},
   "outputs": [
    {
     "data": {
      "text/plain": [
       "true"
      ]
     },
     "execution_count": 13,
     "metadata": {},
     "output_type": "execute_result"
    }
   ],
   "source": [
    "sqrt(integraluumv) <= sqrt(integralu2) *  sqrt(umvH)"
   ]
  },
  {
   "cell_type": "markdown",
   "id": "43a77f31-64a9-48e6-9e46-5f9fe7b154f6",
   "metadata": {},
   "source": [
    "Now, let's verify the Cauchy-Schwarz inequality in the space $H^1(0,2)$ for the previous functions, $u$ and $u-v$ \n",
    "\n",
    "$$\n",
    "||(u, u-v)||_{H^1} \\leq ||u||_{H^1} \\cdot ||u-v||_{H^1} = \\left( ||u||_{L^2}^2  + ||u'||_{L^2}^2 \\right)^{1/2} \\left( ||u-v||_{L^2}^2  + ||(u-v)'||_{L^2}^2 \\right)^{1/2}\n",
    "$$\n",
    "\n",
    "Notice that only the last term is calculated. Let's start calculating the norm of the inner product between $u$ and $u-v$\n",
    "\n",
    "$$\n",
    "||(u, u-v)||_{H^1}^2 = ||(u, u-v)||_{L^2}^2 +||(u', u'-v')||_{L^2}^2 = \\int_0^2 |u (u-v)|^2 dx + \\int_0^2 |u' (u'-v')|^2 dx \\\\\n",
    "$$\n",
    "\n",
    "Let's start calculating the inner product between the derivatives of $u$ and $u-v$\n",
    "$$\n",
    "\\int_0^2 |u' (u'-v')|^2 dx = \\int_0^1(1- \\pi\\cos(\\pi x))^2 dx + \\int_1^2 (1+\\pi\\cos(\\pi x)) ^2dx =  \\int_0^1(1- 2\\pi\\cos(\\pi x) + \\pi^2\\cos^2(\\pi x)) dx + \\int_1^2 (1+2\\pi\\cos(\\pi x)+\\pi^2\\cos^2(\\pi x))dx \\\\\n",
    "\\int_0^2 |u' (u'-v')|^2 dx = \\int_0^1 dx -2\\pi \\int_0^1 \\cos(\\pi x) dx + \\frac{\\pi^2}{2}\\int_0^1(1+\\cos(2\\pi x)) dx + \\int_1^2 dx + 2\\pi\\int_1^2 \\cos(\\pi x) dx + \\frac{\\pi^2}{2}\\int_1^2 (1+\\cos(2\\pi x)) dx \\\\\n",
    "\\int_0^2 |u' (u'-v')|^2 dx = \\int_0^1 dx -2\\pi \\int_0^1 \\cos(\\pi x) dx + \\frac{\\pi^2}{2}\\int_0^1 dx + \\frac{\\pi^2}{2}\\int_0^1\\cos(2\\pi x) dx + \\int_1^2 dx + 2\\pi\\int_1^2 \\cos(\\pi x) dx + \\frac{\\pi^2}{2}\\int_1^2 dx + \\frac{\\pi^2}{2}\\int_1^2 \\cos(2\\pi x) dx \\\\\n",
    "\\int_0^2 |u' (u'-v')|^2 dx = 1 + \\frac{\\pi^2}{2} + 1 + \\frac{\\pi^2}{2} = 2+\\pi^2 \\qquad \\Longrightarrow \\qquad \\boxed{\\int_0^2 |u' (u'-v')|^2 dx = 11.87}\n",
    "$$\n",
    "Then,\n",
    "\n",
    "$$\n",
    "||(u, u-v)||_{H^1}^2 =  \\frac{11}{15}  - \\frac{1}{2\\pi^2} + 2 + \\pi^2 = \\frac{41}{15} - \\frac{1}{2\\pi^2} + \\pi^2 \\qquad \\Longrightarrow \\qquad \\boxed{||(u, u-v)||_{H^1}^2 = 12.552 }\n",
    "$$\n",
    "Now let's calculate the $u$ norm in $H^1$ \n",
    "$$\n",
    "||u||_{H^|}^2 =  ||u||_{L^2}^2  + ||u'||_{L^2}^2 = \\frac{2}{3} + \\int_0^2 u'^2 dx = \\frac{2}{3} + \\int_0^1 dx + \\int_1^2 dx =  \\frac{2}{3} +2 = \\frac{8}{3}\n",
    "$$\n",
    "Finally, checking the Cauchy-Schwarz inequality to the power of two \n",
    "$$\n",
    "||(u, u-v)||_{H^1}^2 \\leq ||u||_{H^1}^2 \\cdot ||u-v||_{H^1}^2  \\qquad \\Longleftrightarrow \\qquad \\boxed{12.552 \\leq \\frac{8}{3}\\cdot (13.536) = 36.0.97}\n",
    "$$\n"
   ]
  },
  {
   "cell_type": "code",
   "execution_count": 14,
   "id": "c06c8697-b353-4d68-8979-700e69a58b6e",
   "metadata": {},
   "outputs": [
    {
     "data": {
      "text/plain": [
       "(11.869604401089356, 8.208209756332963e-8)"
      ]
     },
     "execution_count": 14,
     "metadata": {},
     "output_type": "execute_result"
    }
   ],
   "source": [
    "integralupupmp, err = quadgk(x -> broadcast(abs, up.(x).*(up.(x) - vp.(x))).^2, 0, 2, rtol=1e-8)"
   ]
  },
  {
   "cell_type": "code",
   "execution_count": 15,
   "id": "e0664784-7e50-42d0-832f-4e38ae6aed87",
   "metadata": {},
   "outputs": [
    {
     "data": {
      "text/plain": [
       "true"
      ]
     },
     "execution_count": 15,
     "metadata": {},
     "output_type": "execute_result"
    }
   ],
   "source": [
    "sqrt(integraluumv + integralupupmp) <= sqrt(integralu2 + 2) * umvH"
   ]
  },
  {
   "cell_type": "code",
   "execution_count": 16,
   "id": "888544bb-def5-47ae-a998-7324aa1e90ee",
   "metadata": {},
   "outputs": [
    {
     "data": {
      "application/vnd.plotly.v1+json": {
       "data": [
        {
         "fill": "tozeroy",
         "mode": "lines+markers",
         "name": "|u|^2",
         "type": "scatter",
         "x": [
          0,
          0.1,
          0.2,
          0.3,
          0.4,
          0.5,
          0.6,
          0.7,
          0.8,
          0.9,
          1,
          1.1,
          1.2,
          1.3,
          1.4,
          1.5,
          1.6,
          1.7,
          1.8,
          1.9,
          2
         ],
         "y": [
          0,
          0.010000000000000002,
          0.04000000000000001,
          0.09,
          0.16000000000000003,
          0.25,
          0.36,
          0.48999999999999994,
          0.6400000000000001,
          0.81,
          1,
          0.8099999999999998,
          0.6400000000000001,
          0.48999999999999994,
          0.3600000000000001,
          0.25,
          0.15999999999999992,
          0.09000000000000002,
          0.03999999999999998,
          0.010000000000000018,
          0
         ]
        },
        {
         "fill": "tozeroy",
         "mode": "lines+markers",
         "name": "|u'|^2",
         "type": "scatter",
         "x": [
          0,
          0.1,
          0.2,
          0.3,
          0.4,
          0.5,
          0.6,
          0.7,
          0.8,
          0.9,
          1,
          1.1,
          1.2,
          1.3,
          1.4,
          1.5,
          1.6,
          1.7,
          1.8,
          1.9,
          2
         ],
         "y": [
          1,
          1,
          1,
          1,
          1,
          1,
          1,
          1,
          1,
          1,
          1,
          1,
          1,
          1,
          1,
          1,
          1,
          1,
          1,
          1,
          1
         ]
        }
       ],
       "frames": [],
       "layout": {
        "margin": {
         "b": 50,
         "l": 50,
         "r": 50,
         "t": 60
        },
        "title": "Functions",
        "xaxis": {
         "title": "x"
        }
       }
      },
      "application/vnd.webio.node+json": {
       "children": [
        {
         "children": [],
         "instanceArgs": {
          "namespace": "html",
          "tag": "div"
         },
         "nodeType": "DOM",
         "props": {
          "id": "plot-f01ebd3d-1015-4d91-bd43-af01bca767e8"
         },
         "type": "node"
        }
       ],
       "instanceArgs": {
        "handlers": {
         "__get_gd_contents": [
          "(function (prop){prop==\"data\" ? (WebIO.setval({\"name\":\"__gd_contents\",\"scope\":\"15393084954842160981\",\"id\":\"16032256335216727981\",\"type\":\"observable\"},this.plotElem.data)) : undefined; return prop==\"layout\" ? (WebIO.setval({\"name\":\"__gd_contents\",\"scope\":\"15393084954842160981\",\"id\":\"16032256335216727981\",\"type\":\"observable\"},this.plotElem.layout)) : undefined})"
         ],
         "_commands": [
          "(function (args){var fn=args.shift(); var elem=this.plotElem; var Plotly=this.Plotly; args.unshift(elem); return Plotly[fn].apply(this,args)})"
         ],
         "_downloadImage": [
          "(function (options){return this.Plotly.downloadImage(this.plotElem,options)})"
         ],
         "_toImage": [
          "(function (options){return this.Plotly.toImage(this.plotElem,options).then((function (data){return WebIO.setval({\"name\":\"image\",\"scope\":\"15393084954842160981\",\"id\":\"14871893056199882895\",\"type\":\"observable\"},data)}))})"
         ]
        },
        "id": "15393084954842160981",
        "imports": {
         "data": [
          {
           "name": "Plotly",
           "type": "js",
           "url": "/assetserver/c843c6635296ea5f415808032e6c1f322a3239cd-plotly.min.js"
          },
          {
           "name": null,
           "type": "js",
           "url": "/assetserver/44e1943a6c8ed4b38e47f64f07dc32566142c8ee-plotly_webio.bundle.js"
          }
         ],
         "type": "async_block"
        },
        "mount_callbacks": [
         "function () {\n    var handler = ((function (Plotly,PlotlyWebIO){PlotlyWebIO.init(WebIO); var gd=this.dom.querySelector(\"#plot-f01ebd3d-1015-4d91-bd43-af01bca767e8\"); this.plotElem=gd; this.Plotly=Plotly; (window.Blink!==undefined) ? (gd.style.width=\"100%\", gd.style.height=\"100vh\", gd.style.marginLeft=\"0%\", gd.style.marginTop=\"0vh\") : undefined; window.onresize=(function (){return Plotly.Plots.resize(gd)}); Plotly.newPlot(gd,[{\"mode\":\"lines+markers\",\"y\":[0.0,0.010000000000000002,0.04000000000000001,0.09,0.16000000000000003,0.25,0.36,0.48999999999999994,0.6400000000000001,0.81,1.0,0.8099999999999998,0.6400000000000001,0.48999999999999994,0.3600000000000001,0.25,0.15999999999999992,0.09000000000000002,0.03999999999999998,0.010000000000000018,0.0],\"type\":\"scatter\",\"name\":\"|u|^2\",\"fill\":\"tozeroy\",\"x\":[0.0,0.1,0.2,0.3,0.4,0.5,0.6,0.7,0.8,0.9,1.0,1.1,1.2,1.3,1.4,1.5,1.6,1.7,1.8,1.9,2.0]},{\"mode\":\"lines+markers\",\"y\":[1,1,1,1,1,1,1,1,1,1,1,1,1,1,1,1,1,1,1,1,1],\"type\":\"scatter\",\"name\":\"|u'|^2\",\"fill\":\"tozeroy\",\"x\":[0.0,0.1,0.2,0.3,0.4,0.5,0.6,0.7,0.8,0.9,1.0,1.1,1.2,1.3,1.4,1.5,1.6,1.7,1.8,1.9,2.0]}],{\"xaxis\":{\"title\":\"x\"},\"margin\":{\"l\":50,\"b\":50,\"r\":50,\"t\":60},\"title\":\"Functions\"},{}); gd.on(\"plotly_hover\",(function (data){var filtered_data=WebIO.PlotlyCommands.filterEventData(gd,data,\"hover\"); return !(filtered_data.isnil) ? (WebIO.setval({\"name\":\"hover\",\"scope\":\"15393084954842160981\",\"id\":\"14778091543789698142\",\"type\":\"observable\"},filtered_data.out)) : undefined})); gd.on(\"plotly_unhover\",(function (){return WebIO.setval({\"name\":\"hover\",\"scope\":\"15393084954842160981\",\"id\":\"14778091543789698142\",\"type\":\"observable\"},{})})); gd.on(\"plotly_selected\",(function (data){var filtered_data=WebIO.PlotlyCommands.filterEventData(gd,data,\"selected\"); return !(filtered_data.isnil) ? (WebIO.setval({\"name\":\"selected\",\"scope\":\"15393084954842160981\",\"id\":\"13970256345914275680\",\"type\":\"observable\"},filtered_data.out)) : undefined})); gd.on(\"plotly_deselect\",(function (){return WebIO.setval({\"name\":\"selected\",\"scope\":\"15393084954842160981\",\"id\":\"13970256345914275680\",\"type\":\"observable\"},{})})); gd.on(\"plotly_relayout\",(function (data){var filtered_data=WebIO.PlotlyCommands.filterEventData(gd,data,\"relayout\"); return !(filtered_data.isnil) ? (WebIO.setval({\"name\":\"relayout\",\"scope\":\"15393084954842160981\",\"id\":\"4389453166265124460\",\"type\":\"observable\"},filtered_data.out)) : undefined})); return gd.on(\"plotly_click\",(function (data){var filtered_data=WebIO.PlotlyCommands.filterEventData(gd,data,\"click\"); return !(filtered_data.isnil) ? (WebIO.setval({\"name\":\"click\",\"scope\":\"15393084954842160981\",\"id\":\"9702082705334126753\",\"type\":\"observable\"},filtered_data.out)) : undefined}))}));\n    (WebIO.importBlock({\"data\":[{\"name\":\"Plotly\",\"type\":\"js\",\"url\":\"/assetserver/c843c6635296ea5f415808032e6c1f322a3239cd-plotly.min.js\"},{\"name\":null,\"type\":\"js\",\"url\":\"/assetserver/44e1943a6c8ed4b38e47f64f07dc32566142c8ee-plotly_webio.bundle.js\"}],\"type\":\"async_block\"})).then((imports) => handler.apply(this, imports));\n}\n"
        ],
        "observables": {
         "__gd_contents": {
          "id": "16032256335216727981",
          "sync": false,
          "value": {}
         },
         "__get_gd_contents": {
          "id": "7733340303045818976",
          "sync": false,
          "value": ""
         },
         "_commands": {
          "id": "6820980027932230480",
          "sync": false,
          "value": []
         },
         "_downloadImage": {
          "id": "15815845800792531817",
          "sync": false,
          "value": {}
         },
         "_toImage": {
          "id": "6575304728800766844",
          "sync": false,
          "value": {}
         },
         "click": {
          "id": "9702082705334126753",
          "sync": false,
          "value": {}
         },
         "hover": {
          "id": "14778091543789698142",
          "sync": false,
          "value": {}
         },
         "image": {
          "id": "14871893056199882895",
          "sync": true,
          "value": ""
         },
         "relayout": {
          "id": "4389453166265124460",
          "sync": false,
          "value": {}
         },
         "selected": {
          "id": "13970256345914275680",
          "sync": false,
          "value": {}
         }
        },
        "systemjs_options": null
       },
       "nodeType": "Scope",
       "props": {},
       "type": "node"
      },
      "text/html": [
       "<div\n",
       "    class=\"webio-mountpoint\"\n",
       "    data-webio-mountpoint=\"12711817725820168935\"\n",
       ">\n",
       "    <script>\n",
       "    (function(){\n",
       "    // Some integrations (namely, IJulia/Jupyter) use an alternate render pathway than\n",
       "    // just putting the html on the page. If WebIO isn't defined, then it's pretty likely\n",
       "    // that we're in one of those situations and the integration just isn't installed\n",
       "    // correctly.\n",
       "    if (typeof window.WebIO === \"undefined\") {\n",
       "        document\n",
       "            .querySelector('[data-webio-mountpoint=\"12711817725820168935\"]')\n",
       "            .innerHTML = (\n",
       "                '<div style=\"padding: 1em; background-color: #f8d6da; border: 1px solid #f5c6cb; font-weight: bold;\">' +\n",
       "                '<p><strong>WebIO not detected.</strong></p>' +\n",
       "                '<p>Please read ' +\n",
       "                '<a href=\"https://juliagizmos.github.io/WebIO.jl/latest/troubleshooting/not-detected/\" target=\"_blank\">the troubleshooting guide</a> ' +\n",
       "                'for more information on how to resolve this issue.</p>' +\n",
       "                '<p><a href=\"https://juliagizmos.github.io/WebIO.jl/latest/troubleshooting/not-detected/\" target=\"_blank\">https://juliagizmos.github.io/WebIO.jl/latest/troubleshooting/not-detected/</a></p>' +\n",
       "                '</div>'\n",
       "            );\n",
       "        return;\n",
       "    }\n",
       "    WebIO.mount(\n",
       "        document.querySelector('[data-webio-mountpoint=\"12711817725820168935\"]'),\n",
       "        {\"props\":{},\"nodeType\":\"Scope\",\"type\":\"node\",\"instanceArgs\":{\"imports\":{\"data\":[{\"name\":\"Plotly\",\"type\":\"js\",\"url\":\"\\/assetserver\\/c843c6635296ea5f415808032e6c1f322a3239cd-plotly.min.js\"},{\"name\":null,\"type\":\"js\",\"url\":\"\\/assetserver\\/44e1943a6c8ed4b38e47f64f07dc32566142c8ee-plotly_webio.bundle.js\"}],\"type\":\"async_block\"},\"id\":\"15393084954842160981\",\"handlers\":{\"_toImage\":[\"(function (options){return this.Plotly.toImage(this.plotElem,options).then((function (data){return WebIO.setval({\\\"name\\\":\\\"image\\\",\\\"scope\\\":\\\"15393084954842160981\\\",\\\"id\\\":\\\"14871893056199882895\\\",\\\"type\\\":\\\"observable\\\"},data)}))})\"],\"__get_gd_contents\":[\"(function (prop){prop==\\\"data\\\" ? (WebIO.setval({\\\"name\\\":\\\"__gd_contents\\\",\\\"scope\\\":\\\"15393084954842160981\\\",\\\"id\\\":\\\"16032256335216727981\\\",\\\"type\\\":\\\"observable\\\"},this.plotElem.data)) : undefined; return prop==\\\"layout\\\" ? (WebIO.setval({\\\"name\\\":\\\"__gd_contents\\\",\\\"scope\\\":\\\"15393084954842160981\\\",\\\"id\\\":\\\"16032256335216727981\\\",\\\"type\\\":\\\"observable\\\"},this.plotElem.layout)) : undefined})\"],\"_downloadImage\":[\"(function (options){return this.Plotly.downloadImage(this.plotElem,options)})\"],\"_commands\":[\"(function (args){var fn=args.shift(); var elem=this.plotElem; var Plotly=this.Plotly; args.unshift(elem); return Plotly[fn].apply(this,args)})\"]},\"systemjs_options\":null,\"mount_callbacks\":[\"function () {\\n    var handler = ((function (Plotly,PlotlyWebIO){PlotlyWebIO.init(WebIO); var gd=this.dom.querySelector(\\\"#plot-f01ebd3d-1015-4d91-bd43-af01bca767e8\\\"); this.plotElem=gd; this.Plotly=Plotly; (window.Blink!==undefined) ? (gd.style.width=\\\"100%\\\", gd.style.height=\\\"100vh\\\", gd.style.marginLeft=\\\"0%\\\", gd.style.marginTop=\\\"0vh\\\") : undefined; window.onresize=(function (){return Plotly.Plots.resize(gd)}); Plotly.newPlot(gd,[{\\\"mode\\\":\\\"lines+markers\\\",\\\"y\\\":[0.0,0.010000000000000002,0.04000000000000001,0.09,0.16000000000000003,0.25,0.36,0.48999999999999994,0.6400000000000001,0.81,1.0,0.8099999999999998,0.6400000000000001,0.48999999999999994,0.3600000000000001,0.25,0.15999999999999992,0.09000000000000002,0.03999999999999998,0.010000000000000018,0.0],\\\"type\\\":\\\"scatter\\\",\\\"name\\\":\\\"|u|^2\\\",\\\"fill\\\":\\\"tozeroy\\\",\\\"x\\\":[0.0,0.1,0.2,0.3,0.4,0.5,0.6,0.7,0.8,0.9,1.0,1.1,1.2,1.3,1.4,1.5,1.6,1.7,1.8,1.9,2.0]},{\\\"mode\\\":\\\"lines+markers\\\",\\\"y\\\":[1,1,1,1,1,1,1,1,1,1,1,1,1,1,1,1,1,1,1,1,1],\\\"type\\\":\\\"scatter\\\",\\\"name\\\":\\\"|u'|^2\\\",\\\"fill\\\":\\\"tozeroy\\\",\\\"x\\\":[0.0,0.1,0.2,0.3,0.4,0.5,0.6,0.7,0.8,0.9,1.0,1.1,1.2,1.3,1.4,1.5,1.6,1.7,1.8,1.9,2.0]}],{\\\"xaxis\\\":{\\\"title\\\":\\\"x\\\"},\\\"margin\\\":{\\\"l\\\":50,\\\"b\\\":50,\\\"r\\\":50,\\\"t\\\":60},\\\"title\\\":\\\"Functions\\\"},{}); gd.on(\\\"plotly_hover\\\",(function (data){var filtered_data=WebIO.PlotlyCommands.filterEventData(gd,data,\\\"hover\\\"); return !(filtered_data.isnil) ? (WebIO.setval({\\\"name\\\":\\\"hover\\\",\\\"scope\\\":\\\"15393084954842160981\\\",\\\"id\\\":\\\"14778091543789698142\\\",\\\"type\\\":\\\"observable\\\"},filtered_data.out)) : undefined})); gd.on(\\\"plotly_unhover\\\",(function (){return WebIO.setval({\\\"name\\\":\\\"hover\\\",\\\"scope\\\":\\\"15393084954842160981\\\",\\\"id\\\":\\\"14778091543789698142\\\",\\\"type\\\":\\\"observable\\\"},{})})); gd.on(\\\"plotly_selected\\\",(function (data){var filtered_data=WebIO.PlotlyCommands.filterEventData(gd,data,\\\"selected\\\"); return !(filtered_data.isnil) ? (WebIO.setval({\\\"name\\\":\\\"selected\\\",\\\"scope\\\":\\\"15393084954842160981\\\",\\\"id\\\":\\\"13970256345914275680\\\",\\\"type\\\":\\\"observable\\\"},filtered_data.out)) : undefined})); gd.on(\\\"plotly_deselect\\\",(function (){return WebIO.setval({\\\"name\\\":\\\"selected\\\",\\\"scope\\\":\\\"15393084954842160981\\\",\\\"id\\\":\\\"13970256345914275680\\\",\\\"type\\\":\\\"observable\\\"},{})})); gd.on(\\\"plotly_relayout\\\",(function (data){var filtered_data=WebIO.PlotlyCommands.filterEventData(gd,data,\\\"relayout\\\"); return !(filtered_data.isnil) ? (WebIO.setval({\\\"name\\\":\\\"relayout\\\",\\\"scope\\\":\\\"15393084954842160981\\\",\\\"id\\\":\\\"4389453166265124460\\\",\\\"type\\\":\\\"observable\\\"},filtered_data.out)) : undefined})); return gd.on(\\\"plotly_click\\\",(function (data){var filtered_data=WebIO.PlotlyCommands.filterEventData(gd,data,\\\"click\\\"); return !(filtered_data.isnil) ? (WebIO.setval({\\\"name\\\":\\\"click\\\",\\\"scope\\\":\\\"15393084954842160981\\\",\\\"id\\\":\\\"9702082705334126753\\\",\\\"type\\\":\\\"observable\\\"},filtered_data.out)) : undefined}))}));\\n    (WebIO.importBlock({\\\"data\\\":[{\\\"name\\\":\\\"Plotly\\\",\\\"type\\\":\\\"js\\\",\\\"url\\\":\\\"\\/assetserver\\/c843c6635296ea5f415808032e6c1f322a3239cd-plotly.min.js\\\"},{\\\"name\\\":null,\\\"type\\\":\\\"js\\\",\\\"url\\\":\\\"\\/assetserver\\/44e1943a6c8ed4b38e47f64f07dc32566142c8ee-plotly_webio.bundle.js\\\"}],\\\"type\\\":\\\"async_block\\\"})).then((imports) => handler.apply(this, imports));\\n}\\n\"],\"observables\":{\"_toImage\":{\"sync\":false,\"id\":\"6575304728800766844\",\"value\":{}},\"hover\":{\"sync\":false,\"id\":\"14778091543789698142\",\"value\":{}},\"selected\":{\"sync\":false,\"id\":\"13970256345914275680\",\"value\":{}},\"__gd_contents\":{\"sync\":false,\"id\":\"16032256335216727981\",\"value\":{}},\"click\":{\"sync\":false,\"id\":\"9702082705334126753\",\"value\":{}},\"image\":{\"sync\":true,\"id\":\"14871893056199882895\",\"value\":\"\"},\"__get_gd_contents\":{\"sync\":false,\"id\":\"7733340303045818976\",\"value\":\"\"},\"_downloadImage\":{\"sync\":false,\"id\":\"15815845800792531817\",\"value\":{}},\"relayout\":{\"sync\":false,\"id\":\"4389453166265124460\",\"value\":{}},\"_commands\":{\"sync\":false,\"id\":\"6820980027932230480\",\"value\":[]}}},\"children\":[{\"props\":{\"id\":\"plot-f01ebd3d-1015-4d91-bd43-af01bca767e8\"},\"nodeType\":\"DOM\",\"type\":\"node\",\"instanceArgs\":{\"namespace\":\"html\",\"tag\":\"div\"},\"children\":[]}]},\n",
       "        window,\n",
       "    );\n",
       "    })()\n",
       "    </script>\n",
       "</div>\n"
      ],
      "text/plain": [
       "data: [\n",
       "  \"scatter with fields fill, mode, name, type, x, and y\",\n",
       "  \"scatter with fields fill, mode, name, type, x, and y\"\n",
       "]\n",
       "\n",
       "layout: \"layout with fields margin, title, and xaxis\"\n",
       "\n"
      ]
     },
     "execution_count": 16,
     "metadata": {
      "@webio": {
       "kernelId": "9b8206ac-bba5-416d-991b-828e7d66a667"
      }
     },
     "output_type": "execute_result"
    }
   ],
   "source": [
    "plot_u2  = scatter(;x=x, y=broadcast(abs, u.(x).*u.(x)), mode=\"lines+markers\", fill=\"tozeroy\", name=\"|u|^2\")\n",
    "plot_up2 = scatter(;x=x, y=broadcast(abs, up.(x).*up.(x)), mode=\"lines+markers\", fill=\"tozeroy\", name=\"|u'|^2\")\n",
    "\n",
    "plot([plot_u2, plot_up2], Layout(title=\"Functions\",  xaxis_title=\"x\"))"
   ]
  },
  {
   "cell_type": "markdown",
   "id": "2911e630",
   "metadata": {},
   "source": [
    "## 4. \n",
    "\n",
    "Suppose that $f(x_0,y_0)=L>0$ for some $(x_0,y_0) \\in\\Omega$ and, $\\iint_{\\Omega} f(x,y) dx dy = 0$\n",
    "\n",
    "since f is a continuous function, For all $\\epsilon > 0$, there exist $\\delta$ such that if $|(x,y)-(x_0,y_0)|<\\delta$\n",
    "then $|f(x,y)-L|<\\epsilon$\n",
    "\n",
    "It is valid for any $\\epsilon >0$,In particular, taking $\\epsilon=L/2$, we have\n",
    "\n",
    "$-\\epsilon<f(x,y)-L<\\epsilon$\n",
    "\n",
    "$-\\frac{L}{2} < f(x,y)-L< \\frac{L}{2}$\n",
    "\n",
    "$-\\frac{L}{2}+L < f(x,y) < \\frac{L}{2}+L$\n",
    "\n",
    "$\\frac{L}{2} < f(x,y) < \\frac{3L}{2}$\n",
    "\n",
    "Now, integrating the last inequality over $\\Omega$\n",
    "\n",
    "$\\iint_{\\Omega} \\frac{L}{2} \\;dxdy< \\iint_{\\Omega}  f(x,y) \\;dxdy< \\iint_{\\Omega} \\frac{3L}{2} \\; dxdy$\n",
    "\n",
    "then\n",
    "\n",
    "$ \\iint_{\\Omega}  f(x,y) \\;dxdy > \\iint_{\\Omega} \\frac{L}{2} \\;dxdy \\geq \\int_{y_0-\\delta}^{y_0+\\delta} \\int_{x_0-\\delta}^{x_0+\\delta} \\frac{L}{2} \\; dx dy = \\frac{L}{2} (2\\delta) (2\\delta) = 2 L \\; \\cdot \\; \\delta^2 >0$ which is\n",
    "a contradiction.\n",
    "\n",
    "similarly, we can discuss the case if $f(x_0,y_0)<0$, So, $f(x,y)=0$ for all $(x,y)\\in\\Omega$.\n",
    "\n",
    "\n"
   ]
  },
  {
   "cell_type": "markdown",
   "id": "6ecb23df",
   "metadata": {},
   "source": [
    "## 5. \n",
    "\n",
    "$(i)\\rightarrow(ii)$\n",
    "\n",
    "Let $(x_n)\\subseteq X$ be a convergent sequence with limit $x \\in X$, then $x_n\\rightarrow x$ when $n\\rightarrow\\infty$\n",
    "\n",
    "$||Ax_n-Ax||_Y=||A(x_n-x)||_Y=||A||||x_n-x||_X\\rightarrow 0$ because $x_n\\rightarrow x$  then $Ax_n\\rightarrow Ax$ when $n\\rightarrow\\infty$\n",
    "\n",
    "$(ii)\\rightarrow(i)$\n",
    "\n",
    "$A$ is continuous in all point  implies that $A$ is continous in $0$  \n",
    "\n",
    "$(*) :$For all sequences $(x_n)\\subseteq X$ with $x_n\\rightarrow 0$ when $n\\rightarrow\\infty$, we have $Ax_n\\rightarrow 0$ when $n\\rightarrow\\infty$ \n",
    "\n",
    "$(**) :$ then there is some $\\delta > 0$ such that $||Ax||_Y<1$ for all $x \\in X$ with $||x||_X<\\delta$\n",
    "\n",
    "\n",
    "claim: $(*) \\Rightarrow (**)$\n",
    "\n",
    "Proof of the claim:\n",
    "\n",
    "$\\neg(**)\\Rightarrow$ for all $n\\in N$ we find $x_n \\in X$ with norm $||x_n||_X<\\frac{1}{n}$ and $||Ax_n||_Y\\geq 1$ $\\Rightarrow \\neg(*) $\n",
    "\n",
    "$\\frac{||Ax||_Y}{||x||_X}=\\frac{||Ax||_Y\\frac{\\delta}{2||x||_X}}{||x||_X \\frac{\\delta}{2||x||_X}}=\\frac{||A(\\frac{\\delta x}{2||x||_X})||_Y}{||\\frac{\\delta x}{2||x||_X}||_X}\\leqslant\\frac{2}{\\delta}$ $\\Rightarrow$ $||A||=sup\\{\\frac{||Ax||_Y}{||x||_X} : x\\in X,  x \\neq 0\\}\\leqslant\\frac{2}{\\delta}<\\infty$ then $A$ is bounded."
   ]
  },
  {
   "cell_type": "markdown",
   "id": "9656fca4-85b1-4ef2-95c2-8fc8b3e8b3fb",
   "metadata": {},
   "source": []
  }
 ],
 "metadata": {
  "@webio": {
   "lastCommId": "6ecfcd0a-3738-4b3b-8db5-fc06255282da",
   "lastKernelId": "9b8206ac-bba5-416d-991b-828e7d66a667"
  },
  "kernelspec": {
   "display_name": "Julia 1.7.2",
   "language": "julia",
   "name": "julia-1.7"
  },
  "language_info": {
   "file_extension": ".jl",
   "mimetype": "application/julia",
   "name": "julia",
   "version": "1.7.2"
  }
 },
 "nbformat": 4,
 "nbformat_minor": 5
}
