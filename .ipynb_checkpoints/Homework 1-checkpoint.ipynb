{
 "cells": [
  {
   "cell_type": "markdown",
   "id": "04721c8c",
   "metadata": {},
   "source": [
    "# Homework 1"
   ]
  },
  {
   "cell_type": "markdown",
   "id": "926496f5",
   "metadata": {},
   "source": [
    "1. "
   ]
  },
  {
   "attachments": {},
   "cell_type": "markdown",
   "id": "f6b7bf5d",
   "metadata": {},
   "source": [
    "## 2.  \n",
    "\n",
    "Let $u(x)$ and $v(x)$ two functions defined as follows\n",
    "\n",
    "$$ \n",
    "u(x)=\\left\\{\\begin{array}{ll}\n",
    "x, & \\text { if } 0 \\leq x \\leq 1 \\\\\n",
    "2-x & \\text { if } 1 \\leq x \\leq 2\n",
    "\\end{array} \\quad y \\quad v(x)=\\sin \\pi x\\right.\n",
    "$$\n",
    "\n",
    "\n",
    "### Orthogonality \n",
    "\n",
    "#### - $L^2(0,2)$ Space\n",
    "\n",
    "Norm of $L^2$ and its norm $||u||_{L^2}$\n",
    "\n",
    "$$ (u,v) =  \\int_0^2 u(x) v(x) dx  = \\int_0^1 x \\; \\sin(\\pi x) dx + \\int_1^2 (2-x)\\; \\sin(\\pi x) dx $$\n",
    "\n",
    "Integranting by steps with the sustitution $w = x$ and $dz = \\sin (\\pi x) \\; dx$\n",
    "\n",
    "$$ (u,v)_{L^2} = \\frac{1}{\\pi}x\\cos(\\pi x)\\Big|_0^1 - \\frac{1}{\\pi}\\int_0^1 \\; \\cos(\\pi x) dx + \\frac{1}{\\pi}(2-x)\\cos(\\pi x)\\Big|_1^2 - \\frac{1}{\\pi} \\int_1^2 \\; \\cos(\\pi x) dx \\\\\n",
    "(u,v)_{L^2} = \\frac{1}{\\pi}\\cos(\\pi) - \\frac{1}{\\pi^2}\\sin(\\pi x)\\Big|_0^1 - \\frac{1}{\\pi}\\cos(\\pi) - \\frac{1}{\\pi^2}  \\sin(\\pi x)\\Big|_0^1  \\\\\n",
    "(u,v)_{L^2} = \\frac{1}{\\pi}\\cos(\\pi) - \\frac{1}{\\pi}\\cos(\\pi) -  \\frac{1}{\\pi^2} ( \\sin(\\pi) - \\sin(0) ) - \\frac{1}{\\pi^2} ( \\sin(2\\pi) - \\sin(\\pi) ) = \\frac{1}{\\pi} - \\frac{1}{\\pi} -(0-0) -(0-0) \\\\\n",
    "\\Rightarrow  (u,v)_{L^2} =  0\n",
    "$$\n",
    "The function $u$ and $v$ are orthogonals in $L^2(0,2)$.  \n",
    "#### - $H^1(0,2)$ Space\n",
    "\n",
    "Now, let's check if $u$ and $v$ are orthogonal in $H^1(0,2)$. First we calculate their derivatives\n",
    "\n",
    "$$ \n",
    "u'(x)=\\left\\{\\begin{array}{ll}\n",
    "1, & \\text { if } 0 \\leq x \\leq 1 \\\\\n",
    "-1 & \\text { if } 1 \\leq x \\leq 2\n",
    "\\end{array} \\quad y \\quad v'(x)= \\pi \\cos \\pi x\\right.\n",
    "$$\n",
    "\n",
    "$H^1(0,2)$ norm\n",
    "\n",
    "$$ \n",
    "(u,v)_{H^1} =  \\int_0^2 u(x) v(x) dx  + \\int_0^2 u'(x) v'(x) dx = 0 + \\int_0^1 u'(x) v'(x) dx  + \\int_1^2 u'(x) v'(x) dx  \\\\\n",
    "(u,v)_{H^1} = \\pi\\int_0^1 1 \\; \\cos(\\pi x) dx + \\pi\\int_1^2 (-1)\\; \\cos(\\pi x) dx = \\sin(\\pi x) \\Big|_0^1 - \\sin(\\pi x)\\Big|_1^2\\\\ \n",
    "\\Rightarrow (u,v)_{H^1} = 0\n",
    "$$\n",
    "\n",
    "### $|| u-v ||$ Differences\n",
    "\n",
    "\n",
    "#### -  $L^2(0,2)$ Space\n",
    "\n",
    "\n",
    "$$ \n",
    "||u-v||_{L^2} = \\left( \\int_0^2 |u-v|^2 dx  \\right)^{1/2} = \\left( \\int_0^2 (u-v)^2 dx  \\right)^{1/2} \\\\\n",
    "||u-v||_{L^2} =  \\left( \\int_0^1 (x - \\sin(\\pi x))^2 dx + \\int_1^2 (2-x-  \\sin(\\pi x))^2 dx \\right)^{1/2} \\\\\n",
    "||u-v||_{L^2} =  \\left( \\int_0^1 \\left(x^2 - 2x\\sin(\\pi x) + \\sin^2(\\pi x)\\right) dx + \\int_1^2 \\left(4 + x^2 + \\sin^2(\\pi x) -4x -4 \\sin(\\pi x) + 2x\\sin(\\pi x) \\right) dx \\right)^{1/2} $$\n",
    "\n",
    "Using integral tables\n",
    "\n",
    "$$\n",
    "||u-v||_{L^2}^2 =   \\left(\\frac{1}{3}x^3 - \\frac{2}{\\pi^2}\\sin(\\pi x) + \\frac{2}{\\pi} x\\cos(\\pi x) + \\frac{x}{2}  - \\frac{1}{4\\pi} \\sin(2\\pi x)\\right)\\Big|_0^1 + \\left(4x + \\frac{1}{3}x^3 + \\frac{x}{2}  - \\frac{1}{4\\pi} \\sin(2\\pi x)  -2x^2 -\\frac{4}{\\pi} \\cos(\\pi x) + \\frac{2}{\\pi^2}\\sin(\\pi x) - \\frac{2}{\\pi} x\\cos(\\pi x)  \\right)\\Big|_1^2  \n",
    "$$\n",
    "\n",
    "$$\n",
    "||u-v||_{L^2}^2 =   \\left(\\frac{1^3}{3} + \\frac{2}{\\pi} \\cos(\\pi) + \\frac{1}{2} \\right)+ \\left(4(2) + \\frac{2^3}{3} + \\frac{2}{2}   -(2)2^2 -\\frac{4}{\\pi} \\cos(2\\pi)  - \\frac{4}{\\pi} \\cos(2\\pi)  \\right) +  \\left(4 + \\frac{1^3}{3} + \\frac{1}{2}  -(2)1^2 -\\frac{4}{\\pi} \\cos(\\pi ) - \\frac{2}{\\pi} \\cos(\\pi)  \\right) \\\\\n",
    "||u-v||_{L^2}^2 =   \\left(\\frac{1}{3} - \\frac{2}{\\pi}  + \\frac{1}{2} \\right) + \\left(8 + \\frac{2^3}{3} + 1 - 8 -\\frac{4}{\\pi} - \\frac{4}{\\pi} \\right) +  \\left(4 + \\frac{1}{3} + \\frac{1}{2} -2 + \\frac{4}{\\pi} + \\frac{2}{\\pi}  \\right) \\\\\n",
    "||u-v||_{L^2}^2 =  \\frac{10}{3} + \\frac{-8-2+6}{\\pi} + 4 = \\frac{10}{3} - \\frac{4}{\\pi} + 4  \\\\\n",
    "\\Rightarrow ||u-v||_{L^2} =  2.461\n",
    "$$\n",
    "\n",
    "\n",
    "#### - $H^1(0,2)$ Space\n",
    "\n",
    "$$ \n",
    "||u-v||_{H^1}^2 =  \\int_0^2 |u-v|^2 dx  + \\int_0^2 |(u-v)'|^2 dx \n",
    "$$\n",
    "\n",
    "The first integral is already done, the second one\n",
    "\n",
    "$$\n",
    "\\int_0^2 |(u-v)'|^2 dx = \\int_0^1 (1 - \\pi\\cos(\\pi x))^2 dx + \\int_1^2 (-1 -\\pi \\cos(\\pi x))^2 dx \\\\\n",
    "\\int_0^2 |(u-v)'|^2 dx = \\int_0^1 \\left(1 - 2\\pi\\cos(\\pi x) + \\pi^2\\cos^2(\\pi x)\\right) dx + \\int_1^2 \\left(1 +2\\pi \\cos(\\pi x)+ \\pi^2 \\cos^2(\\pi x)\\right) dx \\\\\n",
    "\\int_0^2 |(u-v)'|^2 dx =  \\left(x - 2\\sin(\\pi x) + \\frac{\\pi^2}{2}x + \\frac{\\pi}{4}\\sin(2\\pi x) \\right)\\Big|_0^1  + \\left(x +2\\sin(\\pi x)+  \\frac{\\pi^2}{2}x + \\frac{\\pi}{4}\\sin(2\\pi x)\\right)\\Big|_1^2 \\\\\n",
    "\\int_0^2 |(u-v)'|^2 dx =  \\left(1 + \\frac{\\pi^2}{2} \\right)  + \\left(1 + \\frac{\\pi^2}{2}\\right) = \\pi^2 +2 = 11.8696\n",
    "$$\n",
    "\n",
    "Then, the norm is \n",
    "$$\n",
    "||u-v||_{H^1}^2 =  \\frac{22}{3} - \\frac{4}{\\pi} + \\pi^2 +2  = \\frac{28}{3} - \\frac{4}{\\pi} + \\pi^2 \\\\\n",
    "\\Rightarrow  ||u-v||_{H^1} = 4.234\n",
    "$$\n"
   ]
  },
  {
   "cell_type": "markdown",
   "id": "60c3fca9",
   "metadata": {},
   "source": [
    "2. "
   ]
  },
  {
   "cell_type": "markdown",
   "id": "2911e630",
   "metadata": {},
   "source": [
    "2. "
   ]
  },
  {
   "cell_type": "markdown",
   "id": "6ecb23df",
   "metadata": {},
   "source": [
    "2. "
   ]
  },
  {
   "cell_type": "markdown",
   "id": "78ef6b10",
   "metadata": {},
   "source": [
    "2. "
   ]
  }
 ],
 "metadata": {
  "kernelspec": {
   "display_name": "Julia 1.7.2",
   "language": "julia",
   "name": "julia-1.7"
  },
  "language_info": {
   "file_extension": ".jl",
   "mimetype": "application/julia",
   "name": "julia",
   "version": "1.7.2"
  }
 },
 "nbformat": 4,
 "nbformat_minor": 5
}
