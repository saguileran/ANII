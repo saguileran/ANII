{
 "cells": [
  {
   "cell_type": "markdown",
   "id": "2aaf671c",
   "metadata": {},
   "source": [
    "<center> <h1> Assemblage matrix of stiffness, mass and load vector </h1> </center>\n",
    "<center> <h2> Numerical Analisys II - 2022 </h2> </center>\n",
    "<center> <h3> Base Codes </h3> </center>"
   ]
  },
  {
   "cell_type": "code",
   "execution_count": 34,
   "id": "1f419032",
   "metadata": {},
   "outputs": [
    {
     "data": {
      "text/plain": [
       "9×9 Matrix{Float64}:\n",
       "  0.00382  -0.00016   0.0       0.0      …   0.0       0.0       0.0\n",
       " -0.00016   0.05082  -0.05066   0.0          0.0       0.0       0.0\n",
       "  0.0      -0.05066   0.26582  -0.21516      0.0       0.0       0.0\n",
       "  0.0       0.0      -0.21516   0.76882      0.0       0.0       0.0\n",
       "  0.0       0.0       0.0      -0.55366      0.0       0.0       0.0\n",
       "  0.0       0.0       0.0       0.0      …  -1.99266   0.0       0.0\n",
       "  0.0       0.0       0.0       0.0          5.20582  -3.21316   0.0\n",
       "  0.0       0.0       0.0       0.0         -3.21316   8.06082  -4.84766\n",
       "  0.0       0.0       0.0       0.0          0.0      -4.84766   4.84766"
      ]
     },
     "execution_count": 34,
     "metadata": {},
     "output_type": "execute_result"
    }
   ],
   "source": [
    "function Stiffness1D_Hom(x,p)\n",
    "    # Stiffness matrix for homogeneous Dirichlet problem.\n",
    "    # x = LinRange(0,1,11) ;  \n",
    "    # p(x) = x^3-0.18*x^2 + 691e-6;\n",
    "    # A = EnsambleRigidez1D_Hom(x,p);\n",
    "\n",
    "    n = size(x)[1]-2;    #x0< x1 < ... < xN n+1 puntos en la malla %\n",
    "    A = zeros(n,n);\n",
    "    A[1,1]= p(0.5*(x[2]+ x[1])) / (x[2]- x[1]);\n",
    "    for i in 2:n\n",
    "        h = x[i+1] - x[i];\n",
    "        xmid = (x[i+1] + x[i]) / 2;       # midpoint of interval\n",
    "        pmid = p(xmid);                   # p(x) value in the midpoint\n",
    "        A[i-1,i-1] = A[i-1,i-1] + pmid/h; # sum pmid/h a A(i-1,i-1)\n",
    "        A[i-1,i]   = A[i-1,i]   - pmid/h;\n",
    "        A[i,i-1]   = A[i  ,i-1] - pmid/h;\n",
    "        A[i,i]     = A[i  ,i]   + pmid/h;\n",
    "    end\n",
    "    return A\n",
    "end\n",
    "\n",
    "x = LinRange(0,1,11) ;  \n",
    "p(x) = x^3-0.18*x^2 + 691e-6;\n",
    "A = Stiffness1D_Hom(x,p)\n",
    "A"
   ]
  },
  {
   "cell_type": "code",
   "execution_count": 35,
   "id": "59d0389d",
   "metadata": {},
   "outputs": [
    {
     "data": {
      "text/plain": [
       "9×1 Matrix{Float64}:\n",
       "  6.91e-5\n",
       " -1.0900000000000014e-5\n",
       "  0.00014910000000000005\n",
       "  0.0011491000000000001\n",
       "  0.0035891\n",
       "  0.008069099999999997\n",
       "  0.015189100000000004\n",
       "  0.025549099999999998\n",
       "  0.060909099999999994"
      ]
     },
     "execution_count": 35,
     "metadata": {},
     "output_type": "execute_result"
    }
   ],
   "source": [
    "function  Load1D_hom(x,f)\n",
    "    # Load vector homogeneous Dirichlet problem.\n",
    "    # x = LinRange(0,1,11);\n",
    "    # f(x) = x^3-0.18*x^2 + 691e-6);\n",
    "    # b = EnsambleCarga1D_hom(x,f);\n",
    "\n",
    "    n    = size(x,1)-2;\n",
    "    b    = zeros(n,1);\n",
    "    b[1] = 0.5* f(x[1])* (x[2]- x[1]);\n",
    "    b[n] = 0.5* f(x[n+2])* (x[n+2]- x[n+1]);\n",
    "    for i in 2:n\n",
    "        h      = x[i+1] - x[i];\n",
    "        b[i-1] = b[i-1] + f(x[i-1])*h/2;\n",
    "        b[i]   = b[i] + f(x[i])*h/2;\n",
    "    end\n",
    "    return b\n",
    "end\n",
    "\n",
    "x = LinRange(0,1,11);\n",
    "f(x) = x^3-0.18*x^2 + 691e-6;\n",
    "b = Load1D_hom(x,f);\n",
    "b"
   ]
  },
  {
   "cell_type": "code",
   "execution_count": 36,
   "id": "0d6019b6",
   "metadata": {},
   "outputs": [
    {
     "data": {
      "text/plain": [
       "9×9 Matrix{Float64}:\n",
       " 1.27333e-5  2.66667e-7  0.0          …  0.0         0.0         0.0\n",
       " 2.66667e-7  0.0001694   8.44333e-5      0.0         0.0         0.0\n",
       " 0.0         8.44333e-5  0.000886067     0.0         0.0         0.0\n",
       " 0.0         0.0         0.0003586       0.0         0.0         0.0\n",
       " 0.0         0.0         0.0             0.0         0.0         0.0\n",
       " 0.0         0.0         0.0          …  0.0033211   0.0         0.0\n",
       " 0.0         0.0         0.0             0.0173527   0.00535527  0.0\n",
       " 0.0         0.0         0.0             0.00535527  0.0268694   0.00807943\n",
       " 0.0         0.0         0.0             0.0         0.00807943  0.0393461"
      ]
     },
     "execution_count": 36,
     "metadata": {},
     "output_type": "execute_result"
    }
   ],
   "source": [
    "function Mass1D_Hom(x,r)\n",
    "    # Mass matrix for homogeneous Dirichlet problem.\n",
    "    # x    = LinRange(0,1,11);\n",
    "    # r(x) = x^3-0.18*x^2 + 691e-6\n",
    "    # M    = EnsambleMasa1D_Hom(x,r);\n",
    "\n",
    "    n = size(x,1)-2;\n",
    "    M = zeros(n,n);  \n",
    "    M[1,1] =  r( 0.5*(x[2]+ x[1]) )* ( x[2]- x[1])/3;\n",
    "    M[n,n] =  r( 0.5*(x[n+2]+ x[n+1]) )*  ( x[n+2] - x[n+1])/3;\n",
    "    for i in 2:n \n",
    "        h = x[i+1] - x[i];        # Interval lenght\n",
    "        xmid = (x[i+1] + x[i])/2; # midpoint of interval\n",
    "        rmid = r(xmid);           # r(x) value to midpoint of interval\n",
    "\n",
    "        M[i-1,i-1] = M[i-1,i-1] + rmid*h/3; # sum rmid*h/3 a M(i,i)\n",
    "        M[i-1,i]   = M[i-1,i]   + rmid*h/6;\n",
    "        M[i  ,i-1] = M[i,  i-1] + rmid*h/6;\n",
    "        M[i  ,i]   = M[i,  i]   + rmid*h/3;\n",
    "    end\n",
    "    return M\n",
    "end\n",
    "\n",
    "x    = LinRange(0,1,11);\n",
    "r(x) = x^3-0.18*x^2 + 691e-6;\n",
    "M    = Mass1D_Hom(x,r);\n",
    "M"
   ]
  },
  {
   "cell_type": "code",
   "execution_count": null,
   "id": "ec0f2967",
   "metadata": {},
   "outputs": [],
   "source": []
  }
 ],
 "metadata": {
  "@webio": {
   "lastCommId": null,
   "lastKernelId": null
  },
  "kernelspec": {
   "display_name": "Julia 1.7.2",
   "language": "julia",
   "name": "julia-1.7"
  },
  "language_info": {
   "file_extension": ".jl",
   "mimetype": "application/julia",
   "name": "julia",
   "version": "1.7.2"
  }
 },
 "nbformat": 4,
 "nbformat_minor": 5
}
