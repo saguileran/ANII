{
 "cells": [
  {
   "cell_type": "code",
   "execution_count": 2,
   "id": "1f9fce90",
   "metadata": {},
   "outputs": [],
   "source": [
    "using DistMesh, Plots"
   ]
  },
  {
   "cell_type": "code",
   "execution_count": 36,
   "id": "906a1bfc",
   "metadata": {},
   "outputs": [
    {
     "ename": "LoadError",
     "evalue": "MethodError: no method matching distmesh(::var\"#1#2\", ::var\"#3#4\", ::Float64, ::Matrix{Int64})\n\u001b[0mClosest candidates are:\n\u001b[0m  distmesh(::Function, ::Union{HUniform, Function}, ::Number) at C:\\Users\\sebas\\.julia\\packages\\DistMesh\\qIIr4\\src\\distmeshnd.jl:18\n\u001b[0m  distmesh(::Function, ::Union{HUniform, Function}, ::Number, \u001b[91m::DistMesh.AbstractDistMeshAlgorithm\u001b[39m; origin, widths, fix, stats) at C:\\Users\\sebas\\.julia\\packages\\DistMesh\\qIIr4\\src\\distmeshnd.jl:18\n\u001b[0m  distmesh(::Function, ::Any, ::Number, \u001b[91m::DistMeshSetup\u001b[39m, \u001b[91m::Any\u001b[39m, \u001b[91m::Any\u001b[39m, \u001b[91m::Any\u001b[39m, \u001b[91m::Val{stats}\u001b[39m, \u001b[91m::Type{VertType}\u001b[39m) where {VertType, stats} at C:\\Users\\sebas\\.julia\\packages\\DistMesh\\qIIr4\\src\\distmeshnd.jl:50",
     "output_type": "error",
     "traceback": [
      "MethodError: no method matching distmesh(::var\"#1#2\", ::var\"#3#4\", ::Float64, ::Matrix{Int64})\n\u001b[0mClosest candidates are:\n\u001b[0m  distmesh(::Function, ::Union{HUniform, Function}, ::Number) at C:\\Users\\sebas\\.julia\\packages\\DistMesh\\qIIr4\\src\\distmeshnd.jl:18\n\u001b[0m  distmesh(::Function, ::Union{HUniform, Function}, ::Number, \u001b[91m::DistMesh.AbstractDistMeshAlgorithm\u001b[39m; origin, widths, fix, stats) at C:\\Users\\sebas\\.julia\\packages\\DistMesh\\qIIr4\\src\\distmeshnd.jl:18\n\u001b[0m  distmesh(::Function, ::Any, ::Number, \u001b[91m::DistMeshSetup\u001b[39m, \u001b[91m::Any\u001b[39m, \u001b[91m::Any\u001b[39m, \u001b[91m::Any\u001b[39m, \u001b[91m::Val{stats}\u001b[39m, \u001b[91m::Type{VertType}\u001b[39m) where {VertType, stats} at C:\\Users\\sebas\\.julia\\packages\\DistMesh\\qIIr4\\src\\distmeshnd.jl:50",
      "",
      "Stacktrace:",
      " [1] top-level scope",
      "   @ In[36]:3",
      " [2] eval",
      "   @ .\\boot.jl:373 [inlined]",
      " [3] include_string(mapexpr::typeof(REPL.softscope), mod::Module, code::String, filename::String)",
      "   @ Base .\\loading.jl:1196"
     ]
    }
   ],
   "source": [
    "fd1(p) = sqrt.(sum(p.^2)) - 1;\n",
    "fh1(p) = ones(size(p,1),1);\n",
    "(p, t) = distmesh( fd, fh, 0.2, [-1 -1;1 1] );\n",
    "#plotgrid( p, t )"
   ]
  },
  {
   "cell_type": "code",
   "execution_count": 35,
   "id": "41fd15f9",
   "metadata": {},
   "outputs": [
    {
     "data": {
      "text/plain": [
       "0.9621416870348585"
      ]
     },
     "execution_count": 35,
     "metadata": {},
     "output_type": "execute_result"
    }
   ],
   "source": [
    "x = 0:0.1:1\n",
    "fd1(x)"
   ]
  },
  {
   "cell_type": "code",
   "execution_count": null,
   "id": "3e2e6656",
   "metadata": {},
   "outputs": [],
   "source": [
    "function b = ensambleCarga2D(p,t,f)\n",
    "  np = size(p,2);\n",
    "  nt = size(t,2);\n",
    "  b = zeros(np,1);\n",
    "  for K = 1:nt\n",
    "    loc2glb = t(1:3,K);\n",
    "    x = p(1,loc2glb);\n",
    "    y = p(2,loc2glb);\n",
    "    area = polyarea(x,y);\n",
    "    bK = [f(x(1),y(1)); f(x(2),y(2)); f(x(3),y(3))]/3*area; % Vector de Carga en el elemento\n",
    "    b(loc2glb) = b(loc2glb) + bK; % adicions de las cargas por elemento a b\n",
    "end"
   ]
  },
  {
   "cell_type": "code",
   "execution_count": null,
   "id": "85172e97",
   "metadata": {},
   "outputs": [],
   "source": [
    "function M = ensambleMasa2D(p,t)\n",
    "  np = size(p,2); % numero de nodos\n",
    "  nt = size(t,2); % numero de elementos\n",
    "  M = sparse(np,np); %  inicializacion de la matriz de masa\n",
    "for K = 1:nt %  bucle sobre los elementos\n",
    "    loc2glb = t(1:3,K); % transformacion de local-a-global\n",
    "    x = p(1,loc2glb); % coordenadas x del nodo\n",
    "    y = p(2,loc2glb); % coordenadas y del nodo\n",
    "    area = polyarea(x,y); % area del triangulo\n",
    "    MK = [2 1 1; 1 2 1; 1 1 2]/12*area; %  Matriz de masa en el elemento\n",
    "    M(loc2glb,loc2glb) = M(loc2glb,loc2glb) + MK; % Sumando elementos a la matriz M\n",
    "end"
   ]
  },
  {
   "cell_type": "code",
   "execution_count": null,
   "id": "6ec9ca0d",
   "metadata": {},
   "outputs": [],
   "source": [
    "function L2Proyeccion2D()\n",
    "% Si usa MATLAB con el PDEtool puede utilizar las sgte instruccions\n",
    "%g = Rectg(0,0,1,1); % cuadrado unitario\n",
    "%[p,e,t] = initmesh(g,'hmax',0.1); % cree la malla\n",
    "\n",
    "\n",
    "% Usando Distmesh\n",
    "fd=@(p) drectangle(p,0,1,0,1); % cuadrado unitario\n",
    "[p,t]=distmesh2d(fd,@huniform,0.1,[0,0;1,1],[0,0;1,0;0,1;1,1]); % cree la malla\n",
    "clc\n",
    "\n",
    "f = @(x,y)  25*((x-0.5).^2 + (y-0.5).^2) ;\n",
    "%range = linspace (0, 1, 41);\n",
    "%[X, Y] = meshgrid (range, range);\n",
    "%Z = f (X, Y);\n",
    "%figure\n",
    "%surf (X, Y, Z);\n",
    "%\n",
    "\n",
    "M = ensambleMasa2D(p',t'); %  ensamble matiz de masa\n",
    "b = ensambleCarga2D(p',t',f); %Foo2); % ensamble vector de carga\n",
    "Pf = M\\b; % Solucion del sistema lineal\n",
    "figure\n",
    "show(t,p,full(Pf)); % Dibuje la proyeccion\n",
    "xlabel('X')\n",
    "ylabel('Y')\n",
    "view(-30,30)\n",
    "\n",
    "% pdesurf(p',t',Pf) % Dibuje la proyeccion usando Matlab con pdetool"
   ]
  },
  {
   "cell_type": "code",
   "execution_count": null,
   "id": "493c5f0b",
   "metadata": {},
   "outputs": [],
   "source": [
    "function show(T,P,U)\n",
    "%  T  matriz de conectividad  elementos\n",
    "%  P  matriz de coordenadas de los nodos\n",
    "%  U  Función a graficar sobre la malla de elemetos finitos\n",
    "\n",
    "trisurf(T,P(:,1),P(:,2),U','facecolor','interp')\n",
    "colormap jet\n",
    "view(0,90)\n",
    "%view(10,40);\n",
    "title('Proyección en L^2')"
   ]
  }
 ],
 "metadata": {
  "@webio": {
   "lastCommId": null,
   "lastKernelId": null
  },
  "kernelspec": {
   "display_name": "Julia 1.7.2",
   "language": "julia",
   "name": "julia-1.7"
  },
  "language_info": {
   "file_extension": ".jl",
   "mimetype": "application/julia",
   "name": "julia",
   "version": "1.7.2"
  }
 },
 "nbformat": 4,
 "nbformat_minor": 5
}
