{
 "cells": [
  {
   "cell_type": "markdown",
   "id": "2aaf671c",
   "metadata": {},
   "source": [
    "<center> <h1> Assemblage matrix of stiffness, mass and load vector </h1> </center>\n",
    "<center> <h2> Numerical Analisys II - 2022 </h2> </center>\n",
    "<center> <h3> Base Codes </h3> </center>"
   ]
  },
  {
   "cell_type": "code",
   "execution_count": 29,
   "id": "1f419032",
   "metadata": {},
   "outputs": [
    {
     "data": {
      "text/plain": [
       "9×9 Matrix{Float64}:\n",
       "  0.00382  -0.00016   0.0       0.0      …   0.0       0.0       0.0\n",
       " -0.00016   0.05082  -0.05066   0.0          0.0       0.0       0.0\n",
       "  0.0      -0.05066   0.26582  -0.21516      0.0       0.0       0.0\n",
       "  0.0       0.0      -0.21516   0.76882      0.0       0.0       0.0\n",
       "  0.0       0.0       0.0      -0.55366      0.0       0.0       0.0\n",
       "  0.0       0.0       0.0       0.0      …  -1.99266   0.0       0.0\n",
       "  0.0       0.0       0.0       0.0          5.20582  -3.21316   0.0\n",
       "  0.0       0.0       0.0       0.0         -3.21316   8.06082  -4.84766\n",
       "  0.0       0.0       0.0       0.0          0.0      -4.84766  11.8038"
      ]
     },
     "execution_count": 29,
     "metadata": {},
     "output_type": "execute_result"
    }
   ],
   "source": [
    "function Stiffness1D_Hom(x,p)\n",
    "    # Stiffness matrix for homogeneous Dirichlet problem.\n",
    "    # x = LinRange(0,1,11) ;  \n",
    "    # p(x) = x^3-0.18*x^2 + 691e-6;\n",
    "    # A = EnsambleRigidez1D_Hom(x,p);\n",
    "\n",
    "    n = size(x)[1]-2;    #x0< x1 < ... < xN n+1 puntos en la malla %\n",
    "    A = zeros(n,n);\n",
    "    A[1,1]= p(0.5*(x[2]+ x[1])) / (x[2]- x[1]);\n",
    "    A[n,n]= p( 0.5*(x[n+2]+ x[n+1]) )/ ( x[n+2] - x[n+1]);\n",
    "    for i in 2:n\n",
    "        h = x[i+1] - x[i];\n",
    "        xmid = (x[i+1] + x[i]) / 2;       # midpoint of interval\n",
    "        pmid = p(xmid);                   # p(x) value in the midpoint\n",
    "        A[i-1,i-1] += pmid/h; # sum pmid/h a A(i-1,i-1)\n",
    "        A[i-1,i]   -= pmid/h;\n",
    "        A[i,i-1]   -= pmid/h;\n",
    "        A[i,i]     += pmid/h;\n",
    "    end\n",
    "    return A\n",
    "end\n",
    "\n",
    "x    = 0:0.1:1;  \n",
    "p(x) = x^3 - 0.18*x^2 + 691e-6;\n",
    "A    = Stiffness1D_Hom(x,p)\n",
    "A"
   ]
  },
  {
   "cell_type": "code",
   "execution_count": 30,
   "id": "59d0389d",
   "metadata": {},
   "outputs": [
    {
     "data": {
      "text/plain": [
       "9×1 Matrix{Float64}:\n",
       "  6.91e-5\n",
       " -1.0900000000000014e-5\n",
       "  0.00014910000000000005\n",
       "  0.0011491000000000001\n",
       "  0.0035891\n",
       "  0.008069099999999997\n",
       "  0.015189100000000004\n",
       "  0.025549099999999998\n",
       "  0.060909099999999994"
      ]
     },
     "execution_count": 30,
     "metadata": {},
     "output_type": "execute_result"
    }
   ],
   "source": [
    "function Load1D_hom(x,f)\n",
    "    # Load vector homogeneous Dirichlet problem.\n",
    "    # x = LinRange(0,1,11);\n",
    "    # f(x) = x^3-0.18*x^2 + 691e-6);\n",
    "    # b = EnsambleCarga1D_hom(x,f);\n",
    "\n",
    "    n    = size(x,1)-2;\n",
    "    b    = zeros(n,1);\n",
    "    b[1] = 0.5* f(x[1])* (x[2]- x[1]);\n",
    "    b[n] = 0.5* f(x[n+2])* (x[n+2]- x[n+1]);\n",
    "    for i in 2:n\n",
    "        h      = x[i+1] - x[i];\n",
    "        b[i-1] += f(x[i-1])*h/2;\n",
    "        b[i]   += f(x[i])*h/2;\n",
    "    end\n",
    "    return b\n",
    "end\n",
    "\n",
    "x    = LinRange(0,1,11);\n",
    "f(x) = x^3-0.18*x^2 + 691e-6;\n",
    "b    = Load1D_hom(x,f);\n",
    "b"
   ]
  },
  {
   "cell_type": "code",
   "execution_count": 31,
   "id": "0d6019b6",
   "metadata": {},
   "outputs": [
    {
     "data": {
      "text/plain": [
       "9×9 Matrix{Float64}:\n",
       " 1.27333e-5  2.66667e-7  0.0          …  0.0         0.0         0.0\n",
       " 2.66667e-7  0.0001694   8.44333e-5      0.0         0.0         0.0\n",
       " 0.0         8.44333e-5  0.000886067     0.0         0.0         0.0\n",
       " 0.0         0.0         0.0003586       0.0         0.0         0.0\n",
       " 0.0         0.0         0.0             0.0         0.0         0.0\n",
       " 0.0         0.0         0.0          …  0.0033211   0.0         0.0\n",
       " 0.0         0.0         0.0             0.0173527   0.00535527  0.0\n",
       " 0.0         0.0         0.0             0.00535527  0.0268694   0.00807943\n",
       " 0.0         0.0         0.0             0.0         0.00807943  0.0393461"
      ]
     },
     "execution_count": 31,
     "metadata": {},
     "output_type": "execute_result"
    }
   ],
   "source": [
    "function Mass1D_Hom(x,r)\n",
    "    # Mass matrix for homogeneous Dirichlet problem.\n",
    "    # x    = LinRange(0,1,11);\n",
    "    # r(x) = x^3-0.18*x^2 + 691e-6\n",
    "    # M    = EnsambleMasa1D_Hom(x,r);\n",
    "\n",
    "    n = size(x,1)-2;\n",
    "    M = zeros(n,n);  \n",
    "    M[1,1] =  r( 0.5*(x[2]+ x[1]) )* ( x[2]- x[1])/3;\n",
    "    M[n,n] =  r( 0.5*(x[n+2]+ x[n+1]) )*  ( x[n+2] - x[n+1])/3;\n",
    "    for i in 2:n \n",
    "        h = x[i+1] - x[i];        # Interval lenght\n",
    "        xmid = (x[i+1] + x[i])/2; # midpoint of interval\n",
    "        rmid = r(xmid);           # r(x) value to midpoint of interval\n",
    "        M[i-1,i-1] += rmid*h/3; # sum rmid*h/3 a M(i,i)\n",
    "        M[i-1,i]   += rmid*h/6;\n",
    "        M[i  ,i-1] += rmid*h/6;\n",
    "        M[i  ,i]   += rmid*h/3;\n",
    "    end\n",
    "    return M\n",
    "end\n",
    "\n",
    "x    = LinRange(0,1,11);\n",
    "r(x) = x^3-0.18*x^2 + 691e-6;\n",
    "M    = Mass1D_Hom(x,r);\n",
    "M"
   ]
  },
  {
   "cell_type": "markdown",
   "id": "07ad2600",
   "metadata": {},
   "source": [
    "# Example"
   ]
  },
  {
   "cell_type": "markdown",
   "id": "a18e888c",
   "metadata": {},
   "source": [
    "$$ \\eta_i = h_i ||f+u_h''|| \\qquad, \\text{with} \\qquad u_h=0 \\qquad \\text{()}$$,"
   ]
  },
  {
   "cell_type": "code",
   "execution_count": 32,
   "id": "76e780f3",
   "metadata": {},
   "outputs": [
    {
     "data": {
      "text/plain": [
       "ResiudalError (generic function with 1 method)"
      ]
     },
     "execution_count": 32,
     "metadata": {},
     "output_type": "execute_result"
    }
   ],
   "source": [
    "function Refine(Ruh, x)\n",
    "    alpha = 0.9\n",
    "    for i=1:size(Ruh,1)\n",
    "       if Ruh[i] > alpha*maximum(Ruh)\n",
    "            x = [x; (x[i]+x[i+1])/2]     \n",
    "       end\n",
    "    end\n",
    "    return sort(x)\n",
    "end\n",
    "\n",
    "function ResiudalError(x,f) #Ruh\n",
    "    n = size(x,1)-1\n",
    "    Ruh = zeros((n,1))\n",
    "    for i=1:n\n",
    "        h = x[i+1] - x[i]\n",
    "        a, b = f(x[i]), f(x[i+1])\n",
    "        t = (a^2 + b^2) * h/2\n",
    "        Ruh[i] = h*sqrt(t)\n",
    "    end\n",
    "    return Ruh\n",
    "end"
   ]
  },
  {
   "cell_type": "code",
   "execution_count": 33,
   "id": "63784730",
   "metadata": {},
   "outputs": [],
   "source": [
    "using PlotlyJS, LinearAlgebra"
   ]
  },
  {
   "cell_type": "markdown",
   "id": "a8a7ea59",
   "metadata": {},
   "source": [
    "$$ -(pu')'+u'=f, \\quad u=u(x)$$\n"
   ]
  },
  {
   "cell_type": "markdown",
   "id": "a8f4b72a",
   "metadata": {},
   "source": [
    "$$-u'' = f=e^{-100|x-0.5|^2}\\\\\n",
    "u(0)=0, \\qquad u(1)=0$$"
   ]
  },
  {
   "cell_type": "code",
   "execution_count": 133,
   "id": "ec0f2967",
   "metadata": {
    "scrolled": true
   },
   "outputs": [],
   "source": [
    "function SolveEq(Nmax, p, r, f)\n",
    "    #a, b = 0, 1;\n",
    "    N = 10 #500\n",
    "    #h = (b-a) / N\n",
    "    \n",
    "    h = 1/N\n",
    "    x = 0:h:1\n",
    "    ua, ub = 0, 0; #Dirichle homogeneous conditions\n",
    "\n",
    "    # Linear system\n",
    "    A  = Stiffness1D_Hom(x,p);\n",
    "    M  = Mass1D_Hom(x,r);\n",
    "    bc = Load1D_hom(x,f);\n",
    "\n",
    "    # ------  Solution\n",
    "    sol = [ua; (A + M) \\ bc; ub]\n",
    "\n",
    "    n = 1#, Nmax = 1, 10\n",
    "    \n",
    "    # Refinamiento\n",
    "    x_cop = copy(x)\n",
    "    while n < Nmax\n",
    "        \n",
    "        Ruh = ResiudalError(x_cop,f) \n",
    "        x_cop  = Refine(Ruh, x_cop)\n",
    "        \n",
    "        \n",
    "        n += 1\n",
    "    end\n",
    "    A  = Stiffness1D_Hom(x_cop,p);\n",
    "    M  = Mass1D_Hom(x_cop,r);\n",
    "    bc = Load1D_hom(x_cop,f);\n",
    "\n",
    "    solx = [ua; (A + M) \\ bc; ub]\n",
    "\n",
    "    return x, sol, x_cop, solx \n",
    "end\n",
    "\n",
    "# Problem functions ((pu')'+qu'+ru=f, u=u(x))\n",
    "c = 100\n",
    "p(x) = 1\n",
    "r(x) = 0\n",
    "f(x) = exp(-c*abs(x-0.5)^2)\n",
    "\n",
    "x, sol, x_cop,  solx  = SolveEq(1,  p, r, f);\n",
    "x, sol, x_cop1, solx1 = SolveEq(2,  p, r, f);\n",
    "x, sol, x_cop2, solx2 = SolveEq(5,  p, r, f);\n",
    "x, sol, x_cop3, solx3 = SolveEq(10,  p, r, f);\n",
    "x, sol, x_cop4, solx4 = SolveEq(20, p, r, f);"
   ]
  },
  {
   "cell_type": "code",
   "execution_count": 134,
   "id": "60f36383",
   "metadata": {},
   "outputs": [
    {
     "name": "stdout",
     "output_type": "stream",
     "text": [
      "Array{Float64}((83,)) [0.0, 0.1, 0.2, 0.25, 0.3, 0.32499999999999996, 0.33749999999999997, 0.35, 0.3625, 0.375  …  0.625, 0.6375, 0.6499999999999999, 0.6624999999999999, 0.6749999999999999, 0.7, 0.75, 0.8, 0.9, 1.0]\n"
     ]
    }
   ],
   "source": [
    "dump(x_cop4)"
   ]
  },
  {
   "cell_type": "code",
   "execution_count": 135,
   "id": "a9754e1d",
   "metadata": {
    "scrolled": false
   },
   "outputs": [
    {
     "data": {
      "application/vnd.plotly.v1+json": {
       "config": {
        "editable": false,
        "responsive": true,
        "scrollZoom": true,
        "showLink": false,
        "staticPlot": false
       },
       "data": [
        {
         "marker": {
          "size": 5
         },
         "mode": "markers+lines",
         "name": "Equidistant",
         "type": "scatter",
         "x": [
          0,
          0.1,
          0.2,
          0.3,
          0.4,
          0.5,
          0.6,
          0.7,
          0.8,
          0.9,
          1
         ],
         "y": [
          0,
          0.0070904871144253905,
          0.0141809742287119,
          0.02127146021764666,
          0.028360712108540565,
          0.035266807610547124,
          0.03849410870083927,
          0.03172140979113141,
          0.021269916469709115,
          0.010635266759399494,
          0
         ]
        },
        {
         "marker": {
          "size": 7
         },
         "mode": "markers",
         "name": "Refined Mmax=1",
         "type": "scatter",
         "x": [
          0,
          0.1,
          0.2,
          0.3,
          0.4,
          0.5,
          0.6,
          0.7,
          0.8,
          0.9,
          1
         ],
         "y": [
          0,
          0.0070904871144253905,
          0.0141809742287119,
          0.02127146021764666,
          0.028360712108540565,
          0.035266807610547124,
          0.03849410870083927,
          0.03172140979113141,
          0.021269916469709115,
          0.010635266759399494,
          0
         ]
        },
        {
         "marker": {
          "size": 7
         },
         "mode": "markers",
         "name": "Refined Mmax=2",
         "type": "scatter",
         "x": [
          0,
          0.1,
          0.2,
          0.3,
          0.4,
          0.45,
          0.5,
          0.55,
          0.6,
          0.7,
          0.8,
          0.9,
          1
         ],
         "y": [
          0,
          0.008768689220349266,
          0.01753737844055965,
          0.026306066535418286,
          0.035073520532236065,
          0.03938856388481219,
          0.042783908634459716,
          0.044232251426428726,
          0.04318059421839775,
          0.03523627392930027,
          0.023613159228488355,
          0.011806888138789115,
          0
         ]
        },
        {
         "marker": {
          "size": 7
         },
         "mode": "markers",
         "name": "Refined Mmax=5",
         "type": "scatter",
         "x": [
          0,
          0.1,
          0.2,
          0.3,
          0.35,
          0.4,
          0.42500000000000004,
          0.45,
          0.475,
          0.5,
          0.525,
          0.55,
          0.575,
          0.6,
          0.6499999999999999,
          0.7,
          0.8,
          0.9,
          1
         ],
         "y": [
          0,
          0.00865016334529299,
          0.0173003266904471,
          0.025950488910249456,
          0.03027510723338531,
          0.034553936459299335,
          0.0365945392992296,
          0.03840521748842772,
          0.03985978141216901,
          0.04082759484649068,
          0.04120827511655392,
          0.04096395538661716,
          0.040132502492422,
          0.0388142991088072,
          0.03510954954520715,
          0.030485101378678478,
          0.020445710861407163,
          0.010223163955248518,
          0
         ]
        },
        {
         "marker": {
          "size": 7
         },
         "mode": "markers",
         "name": "Refined Mmax=10",
         "type": "scatter",
         "x": [
          0,
          0.1,
          0.2,
          0.3,
          0.35,
          0.375,
          0.4,
          0.41250000000000003,
          0.42500000000000004,
          0.4375,
          0.45,
          0.4625,
          0.475,
          0.4875,
          0.5,
          0.5125,
          0.525,
          0.5375000000000001,
          0.55,
          0.5625,
          0.575,
          0.5874999999999999,
          0.6,
          0.625,
          0.6499999999999999,
          0.7,
          0.8,
          0.9,
          1
         ],
         "y": [
          0,
          0.008774070902202136,
          0.01754814180426539,
          0.026322211580976893,
          0.03070878368256732,
          0.03288489882190435,
          0.03499513944589022,
          0.0360011320890196,
          0.03694964356946595,
          0.03782549205176636,
          0.03861231196770257,
          0.03929340784517601,
          0.03985281610029454,
          0.040276472002872016,
          0.04055334461438488,
          0.04067638965761566,
          0.04064318470084643,
          0.040456152175795096,
          0.04012233635967916,
          0.039652768191022154,
          0.03906151240001025,
          0.03836453257053556,
          0.03757852417469667,
          0.03578851838858105,
          0.03376858795173329,
          0.02933570572712946,
          0.01967944709370782,
          0.009840032071398847,
          0
         ]
        },
        {
         "marker": {
          "size": 5
         },
         "mode": "markers+lines",
         "name": "Refined Mmax=20",
         "type": "scatter",
         "x": [
          0,
          0.1,
          0.2,
          0.25,
          0.3,
          0.32499999999999996,
          0.33749999999999997,
          0.35,
          0.3625,
          0.375,
          0.38125,
          0.3875,
          0.39375000000000004,
          0.4,
          0.40625,
          0.41250000000000003,
          0.41875000000000007,
          0.42500000000000004,
          0.42812500000000003,
          0.43125,
          0.434375,
          0.4375,
          0.440625,
          0.44375,
          0.446875,
          0.45,
          0.453125,
          0.45625000000000004,
          0.45937500000000003,
          0.4625,
          0.465625,
          0.46875,
          0.471875,
          0.475,
          0.47812499999999997,
          0.48124999999999996,
          0.484375,
          0.4875,
          0.490625,
          0.49375,
          0.496875,
          0.5,
          0.503125,
          0.50625,
          0.5093749999999999,
          0.5125,
          0.515625,
          0.51875,
          0.5218750000000001,
          0.525,
          0.528125,
          0.53125,
          0.534375,
          0.5375000000000001,
          0.5406250000000001,
          0.5437500000000001,
          0.546875,
          0.55,
          0.5531250000000001,
          0.55625,
          0.559375,
          0.5625,
          0.565625,
          0.56875,
          0.5718749999999999,
          0.575,
          0.5812499999999999,
          0.5874999999999999,
          0.59375,
          0.6,
          0.60625,
          0.6125,
          0.61875,
          0.625,
          0.6375,
          0.6499999999999999,
          0.6624999999999999,
          0.6749999999999999,
          0.7,
          0.75,
          0.8,
          0.9,
          1
         ],
         "y": [
          0,
          0.008766595340763052,
          0.01753319068138722,
          0.0219164879296924,
          0.026299476653487367,
          0.028489161214632127,
          0.029579710767339965,
          0.03066295241030031,
          0.03173505082158913,
          0.032790680604040154,
          0.03330964916215302,
          0.033820429775455296,
          0.03432167503177532,
          0.03481190220404481,
          0.035289497080715174,
          0.03575272166671478,
          0.036199726064094,
          0.036628564711936734,
          0.036835414154274417,
          0.03703669931121434,
          0.037232158838994514,
          0.0374215310200075,
          0.0376045547902839,
          0.03778097080815638,
          0.03795052255735503,
          0.03811295747715994,
          0.03826802811167424,
          0.03841549326979136,
          0.03855511918702273,
          0.03868668068003585,
          0.03880996228453444,
          0.03892475936699922,
          0.03903087920080308,
          0.03912814199732288,
          0.039216381882891456,
          0.03929544781276849,
          0.03936520441375514,
          0.039425532747630485,
          0.039476330988242776,
          0.039517515005837445,
          0.039549018853037556,
          0.03957079514780144,
          0.03958281534965338,
          0.03958506992650534,
          0.03957756841044536,
          0.03956033934194915,
          0.03953343010305839,
          0.03949690664115,
          0.03945085308597856,
          0.039395371263695814,
          0.03933058011252269,
          0.03925661500565802,
          0.03917362698784211,
          0.03908178193274214,
          0.03898125962898126,
          0.03887225280318656,
          0.038754966088877345,
          0.03862961495034986,
          0.03849642457093663,
          0.03835562871512622,
          0.0382074685740252,
          0.038052191603530426,
          0.03789005036436183,
          0.03772130137278931,
          0.03754620397048021,
          0.037365019221403915,
          0.03698517283577209,
          0.0365830693085492,
          0.03616077943043648,
          0.03572032380278728,
          0.035263647986517696,
          0.03479260187957735,
          0.03430892347703788,
          0.033814226990447865,
          0.0327962279463211,
          0.03174547712295198,
          0.030671136077949124,
          0.02958032640410847,
          0.027365277361412588,
          0.022847484359050894,
          0.018283902259467365,
          0.009142259654278619,
          0
         ]
        }
       ],
       "frames": [],
       "layout": {
        "legend": {
         "title": {
          "text": "Nmax"
         }
        },
        "margin": {
         "b": 50,
         "l": 50,
         "r": 50,
         "t": 60
        },
        "template": {
         "data": {
          "bar": [
           {
            "error_x": {
             "color": "#2a3f5f"
            },
            "error_y": {
             "color": "#2a3f5f"
            },
            "marker": {
             "line": {
              "color": "#E5ECF6",
              "width": 0.5
             }
            },
            "type": "bar"
           }
          ],
          "barpolar": [
           {
            "marker": {
             "line": {
              "color": "#E5ECF6",
              "width": 0.5
             }
            },
            "type": "barpolar"
           }
          ],
          "carpet": [
           {
            "aaxis": {
             "endlinecolor": "#2a3f5f",
             "gridcolor": "white",
             "linecolor": "white",
             "minorgridcolor": "white",
             "startlinecolor": "#2a3f5f"
            },
            "baxis": {
             "endlinecolor": "#2a3f5f",
             "gridcolor": "white",
             "linecolor": "white",
             "minorgridcolor": "white",
             "startlinecolor": "#2a3f5f"
            },
            "type": "carpet"
           }
          ],
          "choropleth": [
           {
            "colorbar": {
             "outlinewidth": 0,
             "ticks": ""
            },
            "type": "choropleth"
           }
          ],
          "contour": [
           {
            "colorbar": {
             "outlinewidth": 0,
             "ticks": ""
            },
            "colorscale": [
             [
              0,
              "#0d0887"
             ],
             [
              0.1111111111111111,
              "#46039f"
             ],
             [
              0.2222222222222222,
              "#7201a8"
             ],
             [
              0.3333333333333333,
              "#9c179e"
             ],
             [
              0.4444444444444444,
              "#bd3786"
             ],
             [
              0.5555555555555556,
              "#d8576b"
             ],
             [
              0.6666666666666666,
              "#ed7953"
             ],
             [
              0.7777777777777778,
              "#fb9f3a"
             ],
             [
              0.8888888888888888,
              "#fdca26"
             ],
             [
              1,
              "#f0f921"
             ]
            ],
            "type": "contour"
           }
          ],
          "contourcarpet": [
           {
            "colorbar": {
             "outlinewidth": 0,
             "ticks": ""
            },
            "type": "contourcarpet"
           }
          ],
          "heatmap": [
           {
            "colorbar": {
             "outlinewidth": 0,
             "ticks": ""
            },
            "colorscale": [
             [
              0,
              "#0d0887"
             ],
             [
              0.1111111111111111,
              "#46039f"
             ],
             [
              0.2222222222222222,
              "#7201a8"
             ],
             [
              0.3333333333333333,
              "#9c179e"
             ],
             [
              0.4444444444444444,
              "#bd3786"
             ],
             [
              0.5555555555555556,
              "#d8576b"
             ],
             [
              0.6666666666666666,
              "#ed7953"
             ],
             [
              0.7777777777777778,
              "#fb9f3a"
             ],
             [
              0.8888888888888888,
              "#fdca26"
             ],
             [
              1,
              "#f0f921"
             ]
            ],
            "type": "heatmap"
           }
          ],
          "heatmapgl": [
           {
            "colorbar": {
             "outlinewidth": 0,
             "ticks": ""
            },
            "colorscale": [
             [
              0,
              "#0d0887"
             ],
             [
              0.1111111111111111,
              "#46039f"
             ],
             [
              0.2222222222222222,
              "#7201a8"
             ],
             [
              0.3333333333333333,
              "#9c179e"
             ],
             [
              0.4444444444444444,
              "#bd3786"
             ],
             [
              0.5555555555555556,
              "#d8576b"
             ],
             [
              0.6666666666666666,
              "#ed7953"
             ],
             [
              0.7777777777777778,
              "#fb9f3a"
             ],
             [
              0.8888888888888888,
              "#fdca26"
             ],
             [
              1,
              "#f0f921"
             ]
            ],
            "type": "heatmapgl"
           }
          ],
          "histogram": [
           {
            "marker": {
             "colorbar": {
              "outlinewidth": 0,
              "ticks": ""
             }
            },
            "type": "histogram"
           }
          ],
          "histogram2d": [
           {
            "colorbar": {
             "outlinewidth": 0,
             "ticks": ""
            },
            "colorscale": [
             [
              0,
              "#0d0887"
             ],
             [
              0.1111111111111111,
              "#46039f"
             ],
             [
              0.2222222222222222,
              "#7201a8"
             ],
             [
              0.3333333333333333,
              "#9c179e"
             ],
             [
              0.4444444444444444,
              "#bd3786"
             ],
             [
              0.5555555555555556,
              "#d8576b"
             ],
             [
              0.6666666666666666,
              "#ed7953"
             ],
             [
              0.7777777777777778,
              "#fb9f3a"
             ],
             [
              0.8888888888888888,
              "#fdca26"
             ],
             [
              1,
              "#f0f921"
             ]
            ],
            "type": "histogram2d"
           }
          ],
          "histogram2dcontour": [
           {
            "colorbar": {
             "outlinewidth": 0,
             "ticks": ""
            },
            "colorscale": [
             [
              0,
              "#0d0887"
             ],
             [
              0.1111111111111111,
              "#46039f"
             ],
             [
              0.2222222222222222,
              "#7201a8"
             ],
             [
              0.3333333333333333,
              "#9c179e"
             ],
             [
              0.4444444444444444,
              "#bd3786"
             ],
             [
              0.5555555555555556,
              "#d8576b"
             ],
             [
              0.6666666666666666,
              "#ed7953"
             ],
             [
              0.7777777777777778,
              "#fb9f3a"
             ],
             [
              0.8888888888888888,
              "#fdca26"
             ],
             [
              1,
              "#f0f921"
             ]
            ],
            "type": "histogram2dcontour"
           }
          ],
          "mesh3d": [
           {
            "colorbar": {
             "outlinewidth": 0,
             "ticks": ""
            },
            "type": "mesh3d"
           }
          ],
          "parcoords": [
           {
            "line": {
             "colorbar": {
              "outlinewidth": 0,
              "ticks": ""
             }
            },
            "type": "parcoords"
           }
          ],
          "pie": [
           {
            "automargin": true,
            "type": "pie"
           }
          ],
          "scatter": [
           {
            "marker": {
             "colorbar": {
              "outlinewidth": 0,
              "ticks": ""
             }
            },
            "type": "scatter"
           }
          ],
          "scatter3d": [
           {
            "line": {
             "colorbar": {
              "outlinewidth": 0,
              "ticks": ""
             }
            },
            "marker": {
             "colorbar": {
              "outlinewidth": 0,
              "ticks": ""
             }
            },
            "type": "scatter3d"
           }
          ],
          "scattercarpet": [
           {
            "marker": {
             "colorbar": {
              "outlinewidth": 0,
              "ticks": ""
             }
            },
            "type": "scattercarpet"
           }
          ],
          "scattergeo": [
           {
            "marker": {
             "colorbar": {
              "outlinewidth": 0,
              "ticks": ""
             }
            },
            "type": "scattergeo"
           }
          ],
          "scattergl": [
           {
            "marker": {
             "colorbar": {
              "outlinewidth": 0,
              "ticks": ""
             }
            },
            "type": "scattergl"
           }
          ],
          "scattermapbox": [
           {
            "marker": {
             "colorbar": {
              "outlinewidth": 0,
              "ticks": ""
             }
            },
            "type": "scattermapbox"
           }
          ],
          "scatterpolar": [
           {
            "marker": {
             "colorbar": {
              "outlinewidth": 0,
              "ticks": ""
             }
            },
            "type": "scatterpolar"
           }
          ],
          "scatterpolargl": [
           {
            "marker": {
             "colorbar": {
              "outlinewidth": 0,
              "ticks": ""
             }
            },
            "type": "scatterpolargl"
           }
          ],
          "scatterternary": [
           {
            "marker": {
             "colorbar": {
              "outlinewidth": 0,
              "ticks": ""
             }
            },
            "type": "scatterternary"
           }
          ],
          "surface": [
           {
            "colorbar": {
             "outlinewidth": 0,
             "ticks": ""
            },
            "colorscale": [
             [
              0,
              "#0d0887"
             ],
             [
              0.1111111111111111,
              "#46039f"
             ],
             [
              0.2222222222222222,
              "#7201a8"
             ],
             [
              0.3333333333333333,
              "#9c179e"
             ],
             [
              0.4444444444444444,
              "#bd3786"
             ],
             [
              0.5555555555555556,
              "#d8576b"
             ],
             [
              0.6666666666666666,
              "#ed7953"
             ],
             [
              0.7777777777777778,
              "#fb9f3a"
             ],
             [
              0.8888888888888888,
              "#fdca26"
             ],
             [
              1,
              "#f0f921"
             ]
            ],
            "type": "surface"
           }
          ],
          "table": [
           {
            "cells": {
             "fill": {
              "color": "#EBF0F8"
             },
             "line": {
              "color": "white"
             }
            },
            "header": {
             "fill": {
              "color": "#C8D4E3"
             },
             "line": {
              "color": "white"
             }
            },
            "type": "table"
           }
          ]
         },
         "layout": {
          "annotationdefaults": {
           "arrowcolor": "#2a3f5f",
           "arrowhead": 0,
           "arrowwidth": 1
          },
          "autotypenumbers": "strict",
          "coloraxis": {
           "colorbar": {
            "outlinewidth": 0,
            "ticks": ""
           }
          },
          "colorscale": {
           "diverging": [
            [
             0,
             "#8e0152"
            ],
            [
             0.1,
             "#c51b7d"
            ],
            [
             0.2,
             "#de77ae"
            ],
            [
             0.3,
             "#f1b6da"
            ],
            [
             0.4,
             "#fde0ef"
            ],
            [
             0.5,
             "#f7f7f7"
            ],
            [
             0.6,
             "#e6f5d0"
            ],
            [
             0.7,
             "#b8e186"
            ],
            [
             0.8,
             "#7fbc41"
            ],
            [
             0.9,
             "#4d9221"
            ],
            [
             1,
             "#276419"
            ]
           ],
           "sequential": [
            [
             0,
             "#0d0887"
            ],
            [
             0.1111111111111111,
             "#46039f"
            ],
            [
             0.2222222222222222,
             "#7201a8"
            ],
            [
             0.3333333333333333,
             "#9c179e"
            ],
            [
             0.4444444444444444,
             "#bd3786"
            ],
            [
             0.5555555555555556,
             "#d8576b"
            ],
            [
             0.6666666666666666,
             "#ed7953"
            ],
            [
             0.7777777777777778,
             "#fb9f3a"
            ],
            [
             0.8888888888888888,
             "#fdca26"
            ],
            [
             1,
             "#f0f921"
            ]
           ],
           "sequentialminus": [
            [
             0,
             "#0d0887"
            ],
            [
             0.1111111111111111,
             "#46039f"
            ],
            [
             0.2222222222222222,
             "#7201a8"
            ],
            [
             0.3333333333333333,
             "#9c179e"
            ],
            [
             0.4444444444444444,
             "#bd3786"
            ],
            [
             0.5555555555555556,
             "#d8576b"
            ],
            [
             0.6666666666666666,
             "#ed7953"
            ],
            [
             0.7777777777777778,
             "#fb9f3a"
            ],
            [
             0.8888888888888888,
             "#fdca26"
            ],
            [
             1,
             "#f0f921"
            ]
           ]
          },
          "colorway": [
           "#636efa",
           "#EF553B",
           "#00cc96",
           "#ab63fa",
           "#FFA15A",
           "#19d3f3",
           "#FF6692",
           "#B6E880",
           "#FF97FF",
           "#FECB52"
          ],
          "font": {
           "color": "#2a3f5f"
          },
          "geo": {
           "bgcolor": "white",
           "lakecolor": "white",
           "landcolor": "#E5ECF6",
           "showlakes": true,
           "showland": true,
           "subunitcolor": "white"
          },
          "hoverlabel": {
           "align": "left"
          },
          "hovermode": "closest",
          "mapbox": {
           "style": "light"
          },
          "paper_bgcolor": "white",
          "plot_bgcolor": "#E5ECF6",
          "polar": {
           "angularaxis": {
            "gridcolor": "white",
            "linecolor": "white",
            "ticks": ""
           },
           "bgcolor": "#E5ECF6",
           "radialaxis": {
            "gridcolor": "white",
            "linecolor": "white",
            "ticks": ""
           }
          },
          "scene": {
           "xaxis": {
            "backgroundcolor": "#E5ECF6",
            "gridcolor": "white",
            "gridwidth": 2,
            "linecolor": "white",
            "showbackground": true,
            "ticks": "",
            "zerolinecolor": "white"
           },
           "yaxis": {
            "backgroundcolor": "#E5ECF6",
            "gridcolor": "white",
            "gridwidth": 2,
            "linecolor": "white",
            "showbackground": true,
            "ticks": "",
            "zerolinecolor": "white"
           },
           "zaxis": {
            "backgroundcolor": "#E5ECF6",
            "gridcolor": "white",
            "gridwidth": 2,
            "linecolor": "white",
            "showbackground": true,
            "ticks": "",
            "zerolinecolor": "white"
           }
          },
          "shapedefaults": {
           "line": {
            "color": "#2a3f5f"
           }
          },
          "ternary": {
           "aaxis": {
            "gridcolor": "white",
            "linecolor": "white",
            "ticks": ""
           },
           "baxis": {
            "gridcolor": "white",
            "linecolor": "white",
            "ticks": ""
           },
           "bgcolor": "#E5ECF6",
           "caxis": {
            "gridcolor": "white",
            "linecolor": "white",
            "ticks": ""
           }
          },
          "title": {
           "x": 0.05
          },
          "xaxis": {
           "automargin": true,
           "gridcolor": "white",
           "linecolor": "white",
           "ticks": "",
           "title": {
            "standoff": 15
           },
           "zerolinecolor": "white",
           "zerolinewidth": 2
          },
          "yaxis": {
           "automargin": true,
           "gridcolor": "white",
           "linecolor": "white",
           "ticks": "",
           "title": {
            "standoff": 15
           },
           "zerolinecolor": "white",
           "zerolinewidth": 2
          }
         }
        },
        "title": "Solution as function of Nmax",
        "xaxis": {
         "title": {
          "text": "x"
         }
        },
        "yaxis": {
         "title": {
          "text": "u(x)"
         }
        }
       }
      },
      "text/html": [
       "<div\n",
       "    class=\"webio-mountpoint\"\n",
       "    data-webio-mountpoint=\"5291761730207799789\"\n",
       ">\n",
       "    <script>\n",
       "    (function(){\n",
       "    // Some integrations (namely, IJulia/Jupyter) use an alternate render pathway than\n",
       "    // just putting the html on the page. If WebIO isn't defined, then it's pretty likely\n",
       "    // that we're in one of those situations and the integration just isn't installed\n",
       "    // correctly.\n",
       "    if (typeof window.WebIO === \"undefined\") {\n",
       "        document\n",
       "            .querySelector('[data-webio-mountpoint=\"5291761730207799789\"]')\n",
       "            .innerHTML = (\n",
       "                '<div style=\"padding: 1em; background-color: #f8d6da; border: 1px solid #f5c6cb; font-weight: bold;\">' +\n",
       "                '<p><strong>WebIO not detected.</strong></p>' +\n",
       "                '<p>Please read ' +\n",
       "                '<a href=\"https://juliagizmos.github.io/WebIO.jl/latest/troubleshooting/not-detected/\" target=\"_blank\">the troubleshooting guide</a> ' +\n",
       "                'for more information on how to resolve this issue.</p>' +\n",
       "                '<p><a href=\"https://juliagizmos.github.io/WebIO.jl/latest/troubleshooting/not-detected/\" target=\"_blank\">https://juliagizmos.github.io/WebIO.jl/latest/troubleshooting/not-detected/</a></p>' +\n",
       "                '</div>'\n",
       "            );\n",
       "        return;\n",
       "    }\n",
       "    WebIO.mount(\n",
       "        document.querySelector('[data-webio-mountpoint=\"5291761730207799789\"]'),\n",
       "        {\"props\":{},\"nodeType\":\"Scope\",\"type\":\"node\",\"instanceArgs\":{\"imports\":{\"data\":[{\"name\":\"Plotly\",\"type\":\"js\",\"url\":\"\\/assetserver\\/829791e6ff21fc5c4b60e5df299f439365241070-plotly.min.js\"},{\"name\":null,\"type\":\"js\",\"url\":\"\\/assetserver\\/823f3c894aa43f38c72113b9d92345d26ad2b09b-plotly_webio.bundle.js\"}],\"type\":\"async_block\"},\"id\":\"3810165991471194249\",\"handlers\":{\"_toImage\":[\"(function (options){return this.Plotly.toImage(this.plotElem,options).then((function (data){return WebIO.setval({\\\"name\\\":\\\"image\\\",\\\"scope\\\":\\\"3810165991471194249\\\",\\\"id\\\":\\\"816971752125029675\\\",\\\"type\\\":\\\"observable\\\"},data)}))})\"],\"__get_gd_contents\":[\"(function (prop){prop==\\\"data\\\" ? (WebIO.setval({\\\"name\\\":\\\"__gd_contents\\\",\\\"scope\\\":\\\"3810165991471194249\\\",\\\"id\\\":\\\"18043003967755988464\\\",\\\"type\\\":\\\"observable\\\"},this.plotElem.data)) : undefined; return prop==\\\"layout\\\" ? (WebIO.setval({\\\"name\\\":\\\"__gd_contents\\\",\\\"scope\\\":\\\"3810165991471194249\\\",\\\"id\\\":\\\"18043003967755988464\\\",\\\"type\\\":\\\"observable\\\"},this.plotElem.layout)) : undefined})\"],\"_downloadImage\":[\"(function (options){return this.Plotly.downloadImage(this.plotElem,options)})\"],\"_commands\":[\"(function (args){var fn=args.shift(); var elem=this.plotElem; var Plotly=this.Plotly; args.unshift(elem); return Plotly[fn].apply(this,args)})\"]},\"systemjs_options\":null,\"mount_callbacks\":[\"function () {\\n    var handler = ((function (Plotly,PlotlyWebIO){PlotlyWebIO.init(WebIO); var gd=this.dom.querySelector(\\\"#plot-56f8a948-ebb1-4063-a132-8e6d4982664a\\\"); this.plotElem=gd; this.Plotly=Plotly; (window.Blink!==undefined) ? (gd.style.width=\\\"100%\\\", gd.style.height=\\\"100vh\\\", gd.style.marginLeft=\\\"0%\\\", gd.style.marginTop=\\\"0vh\\\") : undefined; window.onresize=(function (){return Plotly.Plots.resize(gd)}); Plotly.newPlot(gd,[{\\\"x\\\":[0.0,0.1,0.2,0.3,0.4,0.5,0.6,0.7,0.8,0.9,1.0],\\\"mode\\\":\\\"markers+lines\\\",\\\"y\\\":[0.0,0.0070904871144253905,0.0141809742287119,0.02127146021764666,0.028360712108540565,0.035266807610547124,0.03849410870083927,0.03172140979113141,0.021269916469709115,0.010635266759399494,0.0],\\\"type\\\":\\\"scatter\\\",\\\"name\\\":\\\"Equidistant\\\",\\\"marker\\\":{\\\"size\\\":5}},{\\\"x\\\":[0.0,0.1,0.2,0.3,0.4,0.5,0.6,0.7,0.8,0.9,1.0],\\\"mode\\\":\\\"markers\\\",\\\"y\\\":[0.0,0.0070904871144253905,0.0141809742287119,0.02127146021764666,0.028360712108540565,0.035266807610547124,0.03849410870083927,0.03172140979113141,0.021269916469709115,0.010635266759399494,0.0],\\\"type\\\":\\\"scatter\\\",\\\"name\\\":\\\"Refined Mmax=1\\\",\\\"marker\\\":{\\\"size\\\":7}},{\\\"x\\\":[0.0,0.1,0.2,0.3,0.4,0.45,0.5,0.55,0.6,0.7,0.8,0.9,1.0],\\\"mode\\\":\\\"markers\\\",\\\"y\\\":[0.0,0.008768689220349266,0.01753737844055965,0.026306066535418286,0.035073520532236065,0.03938856388481219,0.042783908634459716,0.044232251426428726,0.04318059421839775,0.03523627392930027,0.023613159228488355,0.011806888138789115,0.0],\\\"type\\\":\\\"scatter\\\",\\\"name\\\":\\\"Refined Mmax=2\\\",\\\"marker\\\":{\\\"size\\\":7}},{\\\"x\\\":[0.0,0.1,0.2,0.3,0.35,0.4,0.42500000000000004,0.45,0.475,0.5,0.525,0.55,0.575,0.6,0.6499999999999999,0.7,0.8,0.9,1.0],\\\"mode\\\":\\\"markers\\\",\\\"y\\\":[0.0,0.00865016334529299,0.0173003266904471,0.025950488910249456,0.03027510723338531,0.034553936459299335,0.0365945392992296,0.03840521748842772,0.03985978141216901,0.04082759484649068,0.04120827511655392,0.04096395538661716,0.040132502492422,0.0388142991088072,0.03510954954520715,0.030485101378678478,0.020445710861407163,0.010223163955248518,0.0],\\\"type\\\":\\\"scatter\\\",\\\"name\\\":\\\"Refined Mmax=5\\\",\\\"marker\\\":{\\\"size\\\":7}},{\\\"x\\\":[0.0,0.1,0.2,0.3,0.35,0.375,0.4,0.41250000000000003,0.42500000000000004,0.4375,0.45,0.4625,0.475,0.4875,0.5,0.5125,0.525,0.5375000000000001,0.55,0.5625,0.575,0.5874999999999999,0.6,0.625,0.6499999999999999,0.7,0.8,0.9,1.0],\\\"mode\\\":\\\"markers\\\",\\\"y\\\":[0.0,0.008774070902202136,0.01754814180426539,0.026322211580976893,0.03070878368256732,0.03288489882190435,0.03499513944589022,0.0360011320890196,0.03694964356946595,0.03782549205176636,0.03861231196770257,0.03929340784517601,0.03985281610029454,0.040276472002872016,0.04055334461438488,0.04067638965761566,0.04064318470084643,0.040456152175795096,0.04012233635967916,0.039652768191022154,0.03906151240001025,0.03836453257053556,0.03757852417469667,0.03578851838858105,0.03376858795173329,0.02933570572712946,0.01967944709370782,0.009840032071398847,0.0],\\\"type\\\":\\\"scatter\\\",\\\"name\\\":\\\"Refined Mmax=10\\\",\\\"marker\\\":{\\\"size\\\":7}},{\\\"x\\\":[0.0,0.1,0.2,0.25,0.3,0.32499999999999996,0.33749999999999997,0.35,0.3625,0.375,0.38125,0.3875,0.39375000000000004,0.4,0.40625,0.41250000000000003,0.41875000000000007,0.42500000000000004,0.42812500000000003,0.43125,0.434375,0.4375,0.440625,0.44375,0.446875,0.45,0.453125,0.45625000000000004,0.45937500000000003,0.4625,0.465625,0.46875,0.471875,0.475,0.47812499999999997,0.48124999999999996,0.484375,0.4875,0.490625,0.49375,0.496875,0.5,0.503125,0.50625,0.5093749999999999,0.5125,0.515625,0.51875,0.5218750000000001,0.525,0.528125,0.53125,0.534375,0.5375000000000001,0.5406250000000001,0.5437500000000001,0.546875,0.55,0.5531250000000001,0.55625,0.559375,0.5625,0.565625,0.56875,0.5718749999999999,0.575,0.5812499999999999,0.5874999999999999,0.59375,0.6,0.60625,0.6125,0.61875,0.625,0.6375,0.6499999999999999,0.6624999999999999,0.6749999999999999,0.7,0.75,0.8,0.9,1.0],\\\"mode\\\":\\\"markers+lines\\\",\\\"y\\\":[0.0,0.008766595340763052,0.01753319068138722,0.0219164879296924,0.026299476653487367,0.028489161214632127,0.029579710767339965,0.03066295241030031,0.03173505082158913,0.032790680604040154,0.03330964916215302,0.033820429775455296,0.03432167503177532,0.03481190220404481,0.035289497080715174,0.03575272166671478,0.036199726064094,0.036628564711936734,0.036835414154274417,0.03703669931121434,0.037232158838994514,0.0374215310200075,0.0376045547902839,0.03778097080815638,0.03795052255735503,0.03811295747715994,0.03826802811167424,0.03841549326979136,0.03855511918702273,0.03868668068003585,0.03880996228453444,0.03892475936699922,0.03903087920080308,0.03912814199732288,0.039216381882891456,0.03929544781276849,0.03936520441375514,0.039425532747630485,0.039476330988242776,0.039517515005837445,0.039549018853037556,0.03957079514780144,0.03958281534965338,0.03958506992650534,0.03957756841044536,0.03956033934194915,0.03953343010305839,0.03949690664115,0.03945085308597856,0.039395371263695814,0.03933058011252269,0.03925661500565802,0.03917362698784211,0.03908178193274214,0.03898125962898126,0.03887225280318656,0.038754966088877345,0.03862961495034986,0.03849642457093663,0.03835562871512622,0.0382074685740252,0.038052191603530426,0.03789005036436183,0.03772130137278931,0.03754620397048021,0.037365019221403915,0.03698517283577209,0.0365830693085492,0.03616077943043648,0.03572032380278728,0.035263647986517696,0.03479260187957735,0.03430892347703788,0.033814226990447865,0.0327962279463211,0.03174547712295198,0.030671136077949124,0.02958032640410847,0.027365277361412588,0.022847484359050894,0.018283902259467365,0.009142259654278619,0.0],\\\"type\\\":\\\"scatter\\\",\\\"name\\\":\\\"Refined Mmax=20\\\",\\\"marker\\\":{\\\"size\\\":5}}],{\\\"xaxis\\\":{\\\"title\\\":{\\\"text\\\":\\\"x\\\"}},\\\"template\\\":{\\\"layout\\\":{\\\"coloraxis\\\":{\\\"colorbar\\\":{\\\"ticks\\\":\\\"\\\",\\\"outlinewidth\\\":0}},\\\"xaxis\\\":{\\\"gridcolor\\\":\\\"white\\\",\\\"zerolinewidth\\\":2,\\\"title\\\":{\\\"standoff\\\":15},\\\"ticks\\\":\\\"\\\",\\\"zerolinecolor\\\":\\\"white\\\",\\\"automargin\\\":true,\\\"linecolor\\\":\\\"white\\\"},\\\"hovermode\\\":\\\"closest\\\",\\\"paper_bgcolor\\\":\\\"white\\\",\\\"geo\\\":{\\\"showlakes\\\":true,\\\"showland\\\":true,\\\"landcolor\\\":\\\"#E5ECF6\\\",\\\"bgcolor\\\":\\\"white\\\",\\\"subunitcolor\\\":\\\"white\\\",\\\"lakecolor\\\":\\\"white\\\"},\\\"colorscale\\\":{\\\"sequential\\\":[[0.0,\\\"#0d0887\\\"],[0.1111111111111111,\\\"#46039f\\\"],[0.2222222222222222,\\\"#7201a8\\\"],[0.3333333333333333,\\\"#9c179e\\\"],[0.4444444444444444,\\\"#bd3786\\\"],[0.5555555555555556,\\\"#d8576b\\\"],[0.6666666666666666,\\\"#ed7953\\\"],[0.7777777777777778,\\\"#fb9f3a\\\"],[0.8888888888888888,\\\"#fdca26\\\"],[1.0,\\\"#f0f921\\\"]],\\\"diverging\\\":[[0,\\\"#8e0152\\\"],[0.1,\\\"#c51b7d\\\"],[0.2,\\\"#de77ae\\\"],[0.3,\\\"#f1b6da\\\"],[0.4,\\\"#fde0ef\\\"],[0.5,\\\"#f7f7f7\\\"],[0.6,\\\"#e6f5d0\\\"],[0.7,\\\"#b8e186\\\"],[0.8,\\\"#7fbc41\\\"],[0.9,\\\"#4d9221\\\"],[1,\\\"#276419\\\"]],\\\"sequentialminus\\\":[[0.0,\\\"#0d0887\\\"],[0.1111111111111111,\\\"#46039f\\\"],[0.2222222222222222,\\\"#7201a8\\\"],[0.3333333333333333,\\\"#9c179e\\\"],[0.4444444444444444,\\\"#bd3786\\\"],[0.5555555555555556,\\\"#d8576b\\\"],[0.6666666666666666,\\\"#ed7953\\\"],[0.7777777777777778,\\\"#fb9f3a\\\"],[0.8888888888888888,\\\"#fdca26\\\"],[1.0,\\\"#f0f921\\\"]]},\\\"yaxis\\\":{\\\"gridcolor\\\":\\\"white\\\",\\\"zerolinewidth\\\":2,\\\"title\\\":{\\\"standoff\\\":15},\\\"ticks\\\":\\\"\\\",\\\"zerolinecolor\\\":\\\"white\\\",\\\"automargin\\\":true,\\\"linecolor\\\":\\\"white\\\"},\\\"shapedefaults\\\":{\\\"line\\\":{\\\"color\\\":\\\"#2a3f5f\\\"}},\\\"hoverlabel\\\":{\\\"align\\\":\\\"left\\\"},\\\"mapbox\\\":{\\\"style\\\":\\\"light\\\"},\\\"polar\\\":{\\\"angularaxis\\\":{\\\"gridcolor\\\":\\\"white\\\",\\\"ticks\\\":\\\"\\\",\\\"linecolor\\\":\\\"white\\\"},\\\"bgcolor\\\":\\\"#E5ECF6\\\",\\\"radialaxis\\\":{\\\"gridcolor\\\":\\\"white\\\",\\\"ticks\\\":\\\"\\\",\\\"linecolor\\\":\\\"white\\\"}},\\\"autotypenumbers\\\":\\\"strict\\\",\\\"font\\\":{\\\"color\\\":\\\"#2a3f5f\\\"},\\\"ternary\\\":{\\\"baxis\\\":{\\\"gridcolor\\\":\\\"white\\\",\\\"ticks\\\":\\\"\\\",\\\"linecolor\\\":\\\"white\\\"},\\\"bgcolor\\\":\\\"#E5ECF6\\\",\\\"caxis\\\":{\\\"gridcolor\\\":\\\"white\\\",\\\"ticks\\\":\\\"\\\",\\\"linecolor\\\":\\\"white\\\"},\\\"aaxis\\\":{\\\"gridcolor\\\":\\\"white\\\",\\\"ticks\\\":\\\"\\\",\\\"linecolor\\\":\\\"white\\\"}},\\\"annotationdefaults\\\":{\\\"arrowhead\\\":0,\\\"arrowwidth\\\":1,\\\"arrowcolor\\\":\\\"#2a3f5f\\\"},\\\"plot_bgcolor\\\":\\\"#E5ECF6\\\",\\\"title\\\":{\\\"x\\\":0.05},\\\"scene\\\":{\\\"xaxis\\\":{\\\"gridcolor\\\":\\\"white\\\",\\\"gridwidth\\\":2,\\\"backgroundcolor\\\":\\\"#E5ECF6\\\",\\\"ticks\\\":\\\"\\\",\\\"showbackground\\\":true,\\\"zerolinecolor\\\":\\\"white\\\",\\\"linecolor\\\":\\\"white\\\"},\\\"zaxis\\\":{\\\"gridcolor\\\":\\\"white\\\",\\\"gridwidth\\\":2,\\\"backgroundcolor\\\":\\\"#E5ECF6\\\",\\\"ticks\\\":\\\"\\\",\\\"showbackground\\\":true,\\\"zerolinecolor\\\":\\\"white\\\",\\\"linecolor\\\":\\\"white\\\"},\\\"yaxis\\\":{\\\"gridcolor\\\":\\\"white\\\",\\\"gridwidth\\\":2,\\\"backgroundcolor\\\":\\\"#E5ECF6\\\",\\\"ticks\\\":\\\"\\\",\\\"showbackground\\\":true,\\\"zerolinecolor\\\":\\\"white\\\",\\\"linecolor\\\":\\\"white\\\"}},\\\"colorway\\\":[\\\"#636efa\\\",\\\"#EF553B\\\",\\\"#00cc96\\\",\\\"#ab63fa\\\",\\\"#FFA15A\\\",\\\"#19d3f3\\\",\\\"#FF6692\\\",\\\"#B6E880\\\",\\\"#FF97FF\\\",\\\"#FECB52\\\"]},\\\"data\\\":{\\\"barpolar\\\":[{\\\"type\\\":\\\"barpolar\\\",\\\"marker\\\":{\\\"line\\\":{\\\"color\\\":\\\"#E5ECF6\\\",\\\"width\\\":0.5}}}],\\\"carpet\\\":[{\\\"aaxis\\\":{\\\"gridcolor\\\":\\\"white\\\",\\\"endlinecolor\\\":\\\"#2a3f5f\\\",\\\"minorgridcolor\\\":\\\"white\\\",\\\"startlinecolor\\\":\\\"#2a3f5f\\\",\\\"linecolor\\\":\\\"white\\\"},\\\"type\\\":\\\"carpet\\\",\\\"baxis\\\":{\\\"gridcolor\\\":\\\"white\\\",\\\"endlinecolor\\\":\\\"#2a3f5f\\\",\\\"minorgridcolor\\\":\\\"white\\\",\\\"startlinecolor\\\":\\\"#2a3f5f\\\",\\\"linecolor\\\":\\\"white\\\"}}],\\\"scatterpolar\\\":[{\\\"type\\\":\\\"scatterpolar\\\",\\\"marker\\\":{\\\"colorbar\\\":{\\\"ticks\\\":\\\"\\\",\\\"outlinewidth\\\":0}}}],\\\"parcoords\\\":[{\\\"line\\\":{\\\"colorbar\\\":{\\\"ticks\\\":\\\"\\\",\\\"outlinewidth\\\":0}},\\\"type\\\":\\\"parcoords\\\"}],\\\"scatter\\\":[{\\\"type\\\":\\\"scatter\\\",\\\"marker\\\":{\\\"colorbar\\\":{\\\"ticks\\\":\\\"\\\",\\\"outlinewidth\\\":0}}}],\\\"histogram2dcontour\\\":[{\\\"colorbar\\\":{\\\"ticks\\\":\\\"\\\",\\\"outlinewidth\\\":0},\\\"type\\\":\\\"histogram2dcontour\\\",\\\"colorscale\\\":[[0.0,\\\"#0d0887\\\"],[0.1111111111111111,\\\"#46039f\\\"],[0.2222222222222222,\\\"#7201a8\\\"],[0.3333333333333333,\\\"#9c179e\\\"],[0.4444444444444444,\\\"#bd3786\\\"],[0.5555555555555556,\\\"#d8576b\\\"],[0.6666666666666666,\\\"#ed7953\\\"],[0.7777777777777778,\\\"#fb9f3a\\\"],[0.8888888888888888,\\\"#fdca26\\\"],[1.0,\\\"#f0f921\\\"]]}],\\\"contour\\\":[{\\\"colorbar\\\":{\\\"ticks\\\":\\\"\\\",\\\"outlinewidth\\\":0},\\\"type\\\":\\\"contour\\\",\\\"colorscale\\\":[[0.0,\\\"#0d0887\\\"],[0.1111111111111111,\\\"#46039f\\\"],[0.2222222222222222,\\\"#7201a8\\\"],[0.3333333333333333,\\\"#9c179e\\\"],[0.4444444444444444,\\\"#bd3786\\\"],[0.5555555555555556,\\\"#d8576b\\\"],[0.6666666666666666,\\\"#ed7953\\\"],[0.7777777777777778,\\\"#fb9f3a\\\"],[0.8888888888888888,\\\"#fdca26\\\"],[1.0,\\\"#f0f921\\\"]]}],\\\"scattercarpet\\\":[{\\\"type\\\":\\\"scattercarpet\\\",\\\"marker\\\":{\\\"colorbar\\\":{\\\"ticks\\\":\\\"\\\",\\\"outlinewidth\\\":0}}}],\\\"mesh3d\\\":[{\\\"colorbar\\\":{\\\"ticks\\\":\\\"\\\",\\\"outlinewidth\\\":0},\\\"type\\\":\\\"mesh3d\\\"}],\\\"surface\\\":[{\\\"colorbar\\\":{\\\"ticks\\\":\\\"\\\",\\\"outlinewidth\\\":0},\\\"type\\\":\\\"surface\\\",\\\"colorscale\\\":[[0.0,\\\"#0d0887\\\"],[0.1111111111111111,\\\"#46039f\\\"],[0.2222222222222222,\\\"#7201a8\\\"],[0.3333333333333333,\\\"#9c179e\\\"],[0.4444444444444444,\\\"#bd3786\\\"],[0.5555555555555556,\\\"#d8576b\\\"],[0.6666666666666666,\\\"#ed7953\\\"],[0.7777777777777778,\\\"#fb9f3a\\\"],[0.8888888888888888,\\\"#fdca26\\\"],[1.0,\\\"#f0f921\\\"]]}],\\\"scattermapbox\\\":[{\\\"type\\\":\\\"scattermapbox\\\",\\\"marker\\\":{\\\"colorbar\\\":{\\\"ticks\\\":\\\"\\\",\\\"outlinewidth\\\":0}}}],\\\"scattergeo\\\":[{\\\"type\\\":\\\"scattergeo\\\",\\\"marker\\\":{\\\"colorbar\\\":{\\\"ticks\\\":\\\"\\\",\\\"outlinewidth\\\":0}}}],\\\"histogram\\\":[{\\\"type\\\":\\\"histogram\\\",\\\"marker\\\":{\\\"colorbar\\\":{\\\"ticks\\\":\\\"\\\",\\\"outlinewidth\\\":0}}}],\\\"pie\\\":[{\\\"type\\\":\\\"pie\\\",\\\"automargin\\\":true}],\\\"choropleth\\\":[{\\\"colorbar\\\":{\\\"ticks\\\":\\\"\\\",\\\"outlinewidth\\\":0},\\\"type\\\":\\\"choropleth\\\"}],\\\"heatmapgl\\\":[{\\\"colorbar\\\":{\\\"ticks\\\":\\\"\\\",\\\"outlinewidth\\\":0},\\\"type\\\":\\\"heatmapgl\\\",\\\"colorscale\\\":[[0.0,\\\"#0d0887\\\"],[0.1111111111111111,\\\"#46039f\\\"],[0.2222222222222222,\\\"#7201a8\\\"],[0.3333333333333333,\\\"#9c179e\\\"],[0.4444444444444444,\\\"#bd3786\\\"],[0.5555555555555556,\\\"#d8576b\\\"],[0.6666666666666666,\\\"#ed7953\\\"],[0.7777777777777778,\\\"#fb9f3a\\\"],[0.8888888888888888,\\\"#fdca26\\\"],[1.0,\\\"#f0f921\\\"]]}],\\\"bar\\\":[{\\\"type\\\":\\\"bar\\\",\\\"error_y\\\":{\\\"color\\\":\\\"#2a3f5f\\\"},\\\"error_x\\\":{\\\"color\\\":\\\"#2a3f5f\\\"},\\\"marker\\\":{\\\"line\\\":{\\\"color\\\":\\\"#E5ECF6\\\",\\\"width\\\":0.5}}}],\\\"heatmap\\\":[{\\\"colorbar\\\":{\\\"ticks\\\":\\\"\\\",\\\"outlinewidth\\\":0},\\\"type\\\":\\\"heatmap\\\",\\\"colorscale\\\":[[0.0,\\\"#0d0887\\\"],[0.1111111111111111,\\\"#46039f\\\"],[0.2222222222222222,\\\"#7201a8\\\"],[0.3333333333333333,\\\"#9c179e\\\"],[0.4444444444444444,\\\"#bd3786\\\"],[0.5555555555555556,\\\"#d8576b\\\"],[0.6666666666666666,\\\"#ed7953\\\"],[0.7777777777777778,\\\"#fb9f3a\\\"],[0.8888888888888888,\\\"#fdca26\\\"],[1.0,\\\"#f0f921\\\"]]}],\\\"contourcarpet\\\":[{\\\"colorbar\\\":{\\\"ticks\\\":\\\"\\\",\\\"outlinewidth\\\":0},\\\"type\\\":\\\"contourcarpet\\\"}],\\\"table\\\":[{\\\"type\\\":\\\"table\\\",\\\"header\\\":{\\\"line\\\":{\\\"color\\\":\\\"white\\\"},\\\"fill\\\":{\\\"color\\\":\\\"#C8D4E3\\\"}},\\\"cells\\\":{\\\"line\\\":{\\\"color\\\":\\\"white\\\"},\\\"fill\\\":{\\\"color\\\":\\\"#EBF0F8\\\"}}}],\\\"scatter3d\\\":[{\\\"line\\\":{\\\"colorbar\\\":{\\\"ticks\\\":\\\"\\\",\\\"outlinewidth\\\":0}},\\\"type\\\":\\\"scatter3d\\\",\\\"marker\\\":{\\\"colorbar\\\":{\\\"ticks\\\":\\\"\\\",\\\"outlinewidth\\\":0}}}],\\\"scattergl\\\":[{\\\"type\\\":\\\"scattergl\\\",\\\"marker\\\":{\\\"colorbar\\\":{\\\"ticks\\\":\\\"\\\",\\\"outlinewidth\\\":0}}}],\\\"histogram2d\\\":[{\\\"colorbar\\\":{\\\"ticks\\\":\\\"\\\",\\\"outlinewidth\\\":0},\\\"type\\\":\\\"histogram2d\\\",\\\"colorscale\\\":[[0.0,\\\"#0d0887\\\"],[0.1111111111111111,\\\"#46039f\\\"],[0.2222222222222222,\\\"#7201a8\\\"],[0.3333333333333333,\\\"#9c179e\\\"],[0.4444444444444444,\\\"#bd3786\\\"],[0.5555555555555556,\\\"#d8576b\\\"],[0.6666666666666666,\\\"#ed7953\\\"],[0.7777777777777778,\\\"#fb9f3a\\\"],[0.8888888888888888,\\\"#fdca26\\\"],[1.0,\\\"#f0f921\\\"]]}],\\\"scatterternary\\\":[{\\\"type\\\":\\\"scatterternary\\\",\\\"marker\\\":{\\\"colorbar\\\":{\\\"ticks\\\":\\\"\\\",\\\"outlinewidth\\\":0}}}],\\\"scatterpolargl\\\":[{\\\"type\\\":\\\"scatterpolargl\\\",\\\"marker\\\":{\\\"colorbar\\\":{\\\"ticks\\\":\\\"\\\",\\\"outlinewidth\\\":0}}}]}},\\\"legend\\\":{\\\"title\\\":{\\\"text\\\":\\\"Nmax\\\"}},\\\"margin\\\":{\\\"l\\\":50,\\\"b\\\":50,\\\"r\\\":50,\\\"t\\\":60},\\\"title\\\":\\\"Solution as function of Nmax\\\",\\\"yaxis\\\":{\\\"title\\\":{\\\"text\\\":\\\"u(x)\\\"}}},{\\\"showLink\\\":false,\\\"editable\\\":false,\\\"responsive\\\":true,\\\"staticPlot\\\":false,\\\"scrollZoom\\\":true}); gd.on(\\\"plotly_hover\\\",(function (data){var filtered_data=WebIO.PlotlyCommands.filterEventData(gd,data,\\\"hover\\\"); return !(filtered_data.isnil) ? (WebIO.setval({\\\"name\\\":\\\"hover\\\",\\\"scope\\\":\\\"3810165991471194249\\\",\\\"id\\\":\\\"5662071966692759549\\\",\\\"type\\\":\\\"observable\\\"},filtered_data.out)) : undefined})); gd.on(\\\"plotly_unhover\\\",(function (){return WebIO.setval({\\\"name\\\":\\\"hover\\\",\\\"scope\\\":\\\"3810165991471194249\\\",\\\"id\\\":\\\"5662071966692759549\\\",\\\"type\\\":\\\"observable\\\"},{})})); gd.on(\\\"plotly_selected\\\",(function (data){var filtered_data=WebIO.PlotlyCommands.filterEventData(gd,data,\\\"selected\\\"); return !(filtered_data.isnil) ? (WebIO.setval({\\\"name\\\":\\\"selected\\\",\\\"scope\\\":\\\"3810165991471194249\\\",\\\"id\\\":\\\"1603942570097416279\\\",\\\"type\\\":\\\"observable\\\"},filtered_data.out)) : undefined})); gd.on(\\\"plotly_deselect\\\",(function (){return WebIO.setval({\\\"name\\\":\\\"selected\\\",\\\"scope\\\":\\\"3810165991471194249\\\",\\\"id\\\":\\\"1603942570097416279\\\",\\\"type\\\":\\\"observable\\\"},{})})); gd.on(\\\"plotly_relayout\\\",(function (data){var filtered_data=WebIO.PlotlyCommands.filterEventData(gd,data,\\\"relayout\\\"); return !(filtered_data.isnil) ? (WebIO.setval({\\\"name\\\":\\\"relayout\\\",\\\"scope\\\":\\\"3810165991471194249\\\",\\\"id\\\":\\\"13386685190333662985\\\",\\\"type\\\":\\\"observable\\\"},filtered_data.out)) : undefined})); return gd.on(\\\"plotly_click\\\",(function (data){var filtered_data=WebIO.PlotlyCommands.filterEventData(gd,data,\\\"click\\\"); return !(filtered_data.isnil) ? (WebIO.setval({\\\"name\\\":\\\"click\\\",\\\"scope\\\":\\\"3810165991471194249\\\",\\\"id\\\":\\\"17574160993146886177\\\",\\\"type\\\":\\\"observable\\\"},filtered_data.out)) : undefined}))}));\\n    (WebIO.importBlock({\\\"data\\\":[{\\\"name\\\":\\\"Plotly\\\",\\\"type\\\":\\\"js\\\",\\\"url\\\":\\\"\\/assetserver\\/829791e6ff21fc5c4b60e5df299f439365241070-plotly.min.js\\\"},{\\\"name\\\":null,\\\"type\\\":\\\"js\\\",\\\"url\\\":\\\"\\/assetserver\\/823f3c894aa43f38c72113b9d92345d26ad2b09b-plotly_webio.bundle.js\\\"}],\\\"type\\\":\\\"async_block\\\"})).then((imports) => handler.apply(this, imports));\\n}\\n\"],\"observables\":{\"_toImage\":{\"sync\":false,\"id\":\"8065362257348904987\",\"value\":{}},\"hover\":{\"sync\":false,\"id\":\"5662071966692759549\",\"value\":{}},\"selected\":{\"sync\":false,\"id\":\"1603942570097416279\",\"value\":{}},\"__gd_contents\":{\"sync\":false,\"id\":\"18043003967755988464\",\"value\":{}},\"click\":{\"sync\":false,\"id\":\"17574160993146886177\",\"value\":{}},\"image\":{\"sync\":true,\"id\":\"816971752125029675\",\"value\":\"\"},\"__get_gd_contents\":{\"sync\":false,\"id\":\"5984913300442402776\",\"value\":\"\"},\"_downloadImage\":{\"sync\":false,\"id\":\"15742921069108404705\",\"value\":{}},\"relayout\":{\"sync\":false,\"id\":\"13386685190333662985\",\"value\":{}},\"_commands\":{\"sync\":false,\"id\":\"8283168437101618229\",\"value\":[]}}},\"children\":[{\"props\":{\"id\":\"plot-56f8a948-ebb1-4063-a132-8e6d4982664a\"},\"nodeType\":\"DOM\",\"type\":\"node\",\"instanceArgs\":{\"namespace\":\"html\",\"tag\":\"div\"},\"children\":[]}]},\n",
       "        window,\n",
       "    );\n",
       "    })()\n",
       "    </script>\n",
       "</div>\n"
      ],
      "text/plain": [
       "data: [\n",
       "  \"scatter with fields marker, mode, name, type, x, and y\",\n",
       "  \"scatter with fields marker, mode, name, type, x, and y\",\n",
       "  \"scatter with fields marker, mode, name, type, x, and y\",\n",
       "  \"scatter with fields marker, mode, name, type, x, and y\",\n",
       "  \"scatter with fields marker, mode, name, type, x, and y\",\n",
       "  \"scatter with fields marker, mode, name, type, x, and y\"\n",
       "]\n",
       "\n",
       "layout: \"layout with fields legend, margin, template, title, xaxis, and yaxis\"\n",
       "\n"
      ]
     },
     "execution_count": 135,
     "metadata": {},
     "output_type": "execute_result"
    }
   ],
   "source": [
    "plot([scatter(x=Array(x),     y=sol[:,1],  mode=\"markers+lines\", name=\"Equidistant\", marker=attr(size=5)),\n",
    "      scatter(x=Array(x_cop), y=solx[:,1], mode=\"markers\", name=\"Refined Mmax=1\", marker=attr(size=7)), \n",
    "      scatter(x=Array(x_cop1),y=solx1[:,1],mode=\"markers\", name=\"Refined Mmax=2\", marker=attr(size=7)), \n",
    "      scatter(x=Array(x_cop2),y=solx2[:,1],mode=\"markers\", name=\"Refined Mmax=5\", marker=attr(size=7)), \n",
    "      scatter(x=Array(x_cop3),y=solx3[:,1],mode=\"markers\", name=\"Refined Mmax=10\", marker=attr(size=7)), \n",
    "      scatter(x=Array(x_cop4),y=solx4[:,1],mode=\"markers+lines\", name=\"Refined Mmax=20\", marker=attr(size=5))\n",
    "      ],\n",
    "    Layout(title=\"Solution as function of Nmax\",  xaxis_title=\"x\",  yaxis_title=\"u(x)\", legend_title_text=\"Nmax\")\n",
    ")"
   ]
  },
  {
   "cell_type": "markdown",
   "id": "7e1b41c6",
   "metadata": {},
   "source": [
    "$$-\\mu u'' + \\sigma u = 0 \\\\\n",
    "u(0) = 0, \\qquad u(1)=1$$\n",
    "\n",
    "with $\\mu = 10$ and $\\sigma = 12000$. With exact solution \n",
    "$$u_{exact} (x) = \\frac{e^{\\alpha x} - e^{-\\alpha x}}{e^{\\alpha} - e^{-\\alpha}}$$\n",
    "\n",
    "To solve this equation, it is necessary a sustitution to do both boundary conditions be zero, $u = w+y$ and making $y=x$ $(y(0)=0,\\; y(1)=1)$ such that satisfy the $u$ boundary conditions\n",
    "\n",
    "$$-\\mu w'' + \\sigma w = - \\sigma x \\\\\n",
    "w(0) = 0, \\qquad w(1)=0$$\n",
    "\n"
   ]
  },
  {
   "cell_type": "markdown",
   "id": "dd801b2e",
   "metadata": {},
   "source": [
    "Remember that this is the solution to $w$ but we are interested in $u=+x$"
   ]
  },
  {
   "cell_type": "code",
   "execution_count": 136,
   "id": "3db29783",
   "metadata": {},
   "outputs": [],
   "source": [
    "mu, sigma = 10, 12e3\n",
    "\n",
    "p(x) = mu\n",
    "r(x) = sigma  # sigma\n",
    "f(x) = - sigma * x\n",
    "\n",
    "x, sol, x_cop,  solx  = SolveEq(1, p, r, f);\n",
    "x, sol, x_cop1, solx1 = SolveEq(2, p, r, f);\n",
    "x, sol, x_cop2, solx2 = SolveEq(5, p, r, f);\n",
    "x, sol, x_cop3, solx3 = SolveEq(10, p, r, f);\n",
    "x, sol, x_cop4, solx4 = SolveEq(20, p, r, f);"
   ]
  },
  {
   "cell_type": "code",
   "execution_count": 137,
   "id": "a1c6412d",
   "metadata": {},
   "outputs": [
    {
     "name": "stdout",
     "output_type": "stream",
     "text": [
      "11\n",
      "12\n",
      "15\n",
      "25\n",
      "56\n"
     ]
    }
   ],
   "source": [
    "println(size(x_cop, 1))\n",
    "println(size(x_cop1,1))\n",
    "println(size(x_cop2,1))\n",
    "println(size(x_cop3,1))\n",
    "println(size(x_cop4,1))"
   ]
  },
  {
   "cell_type": "code",
   "execution_count": 138,
   "id": "b664b208",
   "metadata": {},
   "outputs": [
    {
     "data": {
      "application/vnd.plotly.v1+json": {
       "config": {
        "editable": false,
        "responsive": true,
        "scrollZoom": true,
        "showLink": false,
        "staticPlot": false
       },
       "data": [
        {
         "marker": {
          "size": 5
         },
         "mode": "markers+lines",
         "name": "Equidistant",
         "type": "scatter",
         "x": [
          0,
          0.1,
          0.2,
          0.3,
          0.4,
          0.5,
          0.6,
          0.7,
          0.8,
          0.9,
          1
         ],
         "y": [
          0,
          0.11010204916590485,
          0.09897950834095154,
          0.10010286742457997,
          0.09999181741324958,
          0.09997895844292487,
          0.10021859815750278,
          0.09783505998204822,
          0.1214308020220154,
          -0.11214308020220132,
          1
         ]
        },
        {
         "marker": {
          "size": 7
         },
         "mode": "markers",
         "name": "Refined N=1",
         "type": "scatter",
         "x": [
          0,
          0.1,
          0.2,
          0.3,
          0.4,
          0.5,
          0.6,
          0.7,
          0.8,
          0.9,
          1
         ],
         "y": [
          0,
          0.11010204916590485,
          0.09897950834095154,
          0.10010286742457997,
          0.09999181741324958,
          0.09997895844292487,
          0.10021859815750278,
          0.09783505998204822,
          0.1214308020220154,
          -0.11214308020220132,
          1
         ]
        },
        {
         "marker": {
          "size": 7
         },
         "mode": "markers",
         "name": "Refined N=2",
         "type": "scatter",
         "x": [
          0,
          0.1,
          0.2,
          0.3,
          0.4,
          0.5,
          0.6,
          0.7,
          0.8,
          0.9,
          0.95,
          1
         ],
         "y": [
          0,
          0.1101020513057139,
          0.09897948694286093,
          0.10010307926567694,
          0.09998972040037013,
          0.09999971673062236,
          0.10001311229340742,
          0.09986916033530413,
          0.10129528435355184,
          0.08717799612917732,
          0.13589724951614668,
          1
         ]
        },
        {
         "marker": {
          "size": 7
         },
         "mode": "markers",
         "name": "Refined N=5",
         "type": "scatter",
         "x": [
          0,
          0.1,
          0.2,
          0.3,
          0.4,
          0.5,
          0.6,
          0.6499999999999999,
          0.7,
          0.75,
          0.8,
          0.8500000000000001,
          0.9,
          0.95,
          1
         ],
         "y": [
          0,
          0.11010228132877053,
          0.09897718671229476,
          0.10012585154828196,
          0.09976429780488622,
          0.1022311704028564,
          0.07792399816655071,
          0.05354715390181264,
          0.050453233047950796,
          0.05007871048179302,
          0.05017645080639421,
          0.05133289596936064,
          0.06048671694849017,
          0.1325608396185608,
          1
         ]
        },
        {
         "marker": {
          "size": 7
         },
         "mode": "markers",
         "name": "Refined N=10",
         "type": "scatter",
         "x": [
          0,
          0.1,
          0.2,
          0.25,
          0.3,
          0.35,
          0.4,
          0.45,
          0.5,
          0.55,
          0.6,
          0.6499999999999999,
          0.7,
          0.725,
          0.75,
          0.775,
          0.8,
          0.8250000000000001,
          0.8500000000000001,
          0.875,
          0.9,
          0.925,
          0.95,
          0.975,
          1
         ],
         "y": [
          0,
          0.112321321714349,
          0.07678678285651015,
          0.053402367422940356,
          0.0504321565270128,
          0.05005488479316228,
          0.05000692181828542,
          0.05000048975312088,
          0.04999699620668124,
          0.04997547990032958,
          0.04980684299595539,
          0.04847926406731373,
          0.038027269542554865,
          0.030361760518765935,
          0.02729204622534742,
          0.02618694298222657,
          0.02609921943815685,
          0.02695368398393594,
          0.02948273480165986,
          0.03585412973509183,
          0.05152906444145999,
          0.08994319724050803,
          0.18402292767427642,
          0.4144080246859966,
          1
         ]
        },
        {
         "marker": {
          "size": 5
         },
         "mode": "markers+lines",
         "name": "Refined N=20",
         "type": "scatter",
         "x": [
          0,
          0.05,
          0.1,
          0.15000000000000002,
          0.2,
          0.225,
          0.25,
          0.275,
          0.3,
          0.32499999999999996,
          0.35,
          0.375,
          0.4,
          0.42500000000000004,
          0.45,
          0.475,
          0.5,
          0.525,
          0.5375000000000001,
          0.55,
          0.5625,
          0.575,
          0.5874999999999999,
          0.6,
          0.6125,
          0.625,
          0.6375,
          0.6499999999999999,
          0.6624999999999999,
          0.6749999999999999,
          0.6875,
          0.7,
          0.7124999999999999,
          0.725,
          0.7375,
          0.75,
          0.7625,
          0.775,
          0.7875000000000001,
          0.8,
          0.8125,
          0.8250000000000001,
          0.8375000000000001,
          0.8500000000000001,
          0.8625,
          0.875,
          0.8875,
          0.9,
          0.9125000000000001,
          0.925,
          0.9375,
          0.95,
          0.9624999999999999,
          0.975,
          0.9875,
          1
         ],
         "y": [
          0,
          0.0436249879004606,
          0.048999903203684775,
          0.04837423772901754,
          0.03799399862845543,
          0.030306214264880338,
          0.02716661355691688,
          0.025884110183453463,
          0.025359415538664387,
          0.025142791355587668,
          0.02504855976301462,
          0.02499595082445394,
          0.024939871163996652,
          0.02483225250125065,
          0.02458085026814799,
          0.023970176836315138,
          0.022476797835609408,
          0.018820674122568826,
          0.01658520106194139,
          0.01514041207781891,
          0.014206670592629367,
          0.01360325244794891,
          0.013213367035129653,
          0.01296155266136767,
          0.012799071060773715,
          0.012694474181619952,
          0.012627517466650695,
          0.012585241551678394,
          0.012559464001547394,
          0.012545195613006377,
          0.012539674762466868,
          0.012541832898211425,
          0.012552087723932348,
          0.012572424044608455,
          0.012606777922305468,
          0.012661798494642218,
          0.012748134904651875,
          0.012882497425239503,
          0.013090891705550889,
          0.013413652122420627,
          0.013913248433952585,
          0.014686376700443149,
          0.01588267465089066,
          0.01773368382409135,
          0.020597664060019505,
          0.025028934114016188,
          0.03188515915782264,
          0.042493350490240056,
          0.058906706433671685,
          0.08430200555781431,
          0.12359446704798549,
          0.18438908345066995,
          0.27845255471477437,
          0.4239907139881912,
          0.6491722372593236,
          1
         ]
        }
       ],
       "frames": [],
       "layout": {
        "legend": {
         "title": {
          "text": "Nmax"
         }
        },
        "margin": {
         "b": 50,
         "l": 50,
         "r": 50,
         "t": 60
        },
        "template": {
         "data": {
          "bar": [
           {
            "error_x": {
             "color": "#2a3f5f"
            },
            "error_y": {
             "color": "#2a3f5f"
            },
            "marker": {
             "line": {
              "color": "#E5ECF6",
              "width": 0.5
             }
            },
            "type": "bar"
           }
          ],
          "barpolar": [
           {
            "marker": {
             "line": {
              "color": "#E5ECF6",
              "width": 0.5
             }
            },
            "type": "barpolar"
           }
          ],
          "carpet": [
           {
            "aaxis": {
             "endlinecolor": "#2a3f5f",
             "gridcolor": "white",
             "linecolor": "white",
             "minorgridcolor": "white",
             "startlinecolor": "#2a3f5f"
            },
            "baxis": {
             "endlinecolor": "#2a3f5f",
             "gridcolor": "white",
             "linecolor": "white",
             "minorgridcolor": "white",
             "startlinecolor": "#2a3f5f"
            },
            "type": "carpet"
           }
          ],
          "choropleth": [
           {
            "colorbar": {
             "outlinewidth": 0,
             "ticks": ""
            },
            "type": "choropleth"
           }
          ],
          "contour": [
           {
            "colorbar": {
             "outlinewidth": 0,
             "ticks": ""
            },
            "colorscale": [
             [
              0,
              "#0d0887"
             ],
             [
              0.1111111111111111,
              "#46039f"
             ],
             [
              0.2222222222222222,
              "#7201a8"
             ],
             [
              0.3333333333333333,
              "#9c179e"
             ],
             [
              0.4444444444444444,
              "#bd3786"
             ],
             [
              0.5555555555555556,
              "#d8576b"
             ],
             [
              0.6666666666666666,
              "#ed7953"
             ],
             [
              0.7777777777777778,
              "#fb9f3a"
             ],
             [
              0.8888888888888888,
              "#fdca26"
             ],
             [
              1,
              "#f0f921"
             ]
            ],
            "type": "contour"
           }
          ],
          "contourcarpet": [
           {
            "colorbar": {
             "outlinewidth": 0,
             "ticks": ""
            },
            "type": "contourcarpet"
           }
          ],
          "heatmap": [
           {
            "colorbar": {
             "outlinewidth": 0,
             "ticks": ""
            },
            "colorscale": [
             [
              0,
              "#0d0887"
             ],
             [
              0.1111111111111111,
              "#46039f"
             ],
             [
              0.2222222222222222,
              "#7201a8"
             ],
             [
              0.3333333333333333,
              "#9c179e"
             ],
             [
              0.4444444444444444,
              "#bd3786"
             ],
             [
              0.5555555555555556,
              "#d8576b"
             ],
             [
              0.6666666666666666,
              "#ed7953"
             ],
             [
              0.7777777777777778,
              "#fb9f3a"
             ],
             [
              0.8888888888888888,
              "#fdca26"
             ],
             [
              1,
              "#f0f921"
             ]
            ],
            "type": "heatmap"
           }
          ],
          "heatmapgl": [
           {
            "colorbar": {
             "outlinewidth": 0,
             "ticks": ""
            },
            "colorscale": [
             [
              0,
              "#0d0887"
             ],
             [
              0.1111111111111111,
              "#46039f"
             ],
             [
              0.2222222222222222,
              "#7201a8"
             ],
             [
              0.3333333333333333,
              "#9c179e"
             ],
             [
              0.4444444444444444,
              "#bd3786"
             ],
             [
              0.5555555555555556,
              "#d8576b"
             ],
             [
              0.6666666666666666,
              "#ed7953"
             ],
             [
              0.7777777777777778,
              "#fb9f3a"
             ],
             [
              0.8888888888888888,
              "#fdca26"
             ],
             [
              1,
              "#f0f921"
             ]
            ],
            "type": "heatmapgl"
           }
          ],
          "histogram": [
           {
            "marker": {
             "colorbar": {
              "outlinewidth": 0,
              "ticks": ""
             }
            },
            "type": "histogram"
           }
          ],
          "histogram2d": [
           {
            "colorbar": {
             "outlinewidth": 0,
             "ticks": ""
            },
            "colorscale": [
             [
              0,
              "#0d0887"
             ],
             [
              0.1111111111111111,
              "#46039f"
             ],
             [
              0.2222222222222222,
              "#7201a8"
             ],
             [
              0.3333333333333333,
              "#9c179e"
             ],
             [
              0.4444444444444444,
              "#bd3786"
             ],
             [
              0.5555555555555556,
              "#d8576b"
             ],
             [
              0.6666666666666666,
              "#ed7953"
             ],
             [
              0.7777777777777778,
              "#fb9f3a"
             ],
             [
              0.8888888888888888,
              "#fdca26"
             ],
             [
              1,
              "#f0f921"
             ]
            ],
            "type": "histogram2d"
           }
          ],
          "histogram2dcontour": [
           {
            "colorbar": {
             "outlinewidth": 0,
             "ticks": ""
            },
            "colorscale": [
             [
              0,
              "#0d0887"
             ],
             [
              0.1111111111111111,
              "#46039f"
             ],
             [
              0.2222222222222222,
              "#7201a8"
             ],
             [
              0.3333333333333333,
              "#9c179e"
             ],
             [
              0.4444444444444444,
              "#bd3786"
             ],
             [
              0.5555555555555556,
              "#d8576b"
             ],
             [
              0.6666666666666666,
              "#ed7953"
             ],
             [
              0.7777777777777778,
              "#fb9f3a"
             ],
             [
              0.8888888888888888,
              "#fdca26"
             ],
             [
              1,
              "#f0f921"
             ]
            ],
            "type": "histogram2dcontour"
           }
          ],
          "mesh3d": [
           {
            "colorbar": {
             "outlinewidth": 0,
             "ticks": ""
            },
            "type": "mesh3d"
           }
          ],
          "parcoords": [
           {
            "line": {
             "colorbar": {
              "outlinewidth": 0,
              "ticks": ""
             }
            },
            "type": "parcoords"
           }
          ],
          "pie": [
           {
            "automargin": true,
            "type": "pie"
           }
          ],
          "scatter": [
           {
            "marker": {
             "colorbar": {
              "outlinewidth": 0,
              "ticks": ""
             }
            },
            "type": "scatter"
           }
          ],
          "scatter3d": [
           {
            "line": {
             "colorbar": {
              "outlinewidth": 0,
              "ticks": ""
             }
            },
            "marker": {
             "colorbar": {
              "outlinewidth": 0,
              "ticks": ""
             }
            },
            "type": "scatter3d"
           }
          ],
          "scattercarpet": [
           {
            "marker": {
             "colorbar": {
              "outlinewidth": 0,
              "ticks": ""
             }
            },
            "type": "scattercarpet"
           }
          ],
          "scattergeo": [
           {
            "marker": {
             "colorbar": {
              "outlinewidth": 0,
              "ticks": ""
             }
            },
            "type": "scattergeo"
           }
          ],
          "scattergl": [
           {
            "marker": {
             "colorbar": {
              "outlinewidth": 0,
              "ticks": ""
             }
            },
            "type": "scattergl"
           }
          ],
          "scattermapbox": [
           {
            "marker": {
             "colorbar": {
              "outlinewidth": 0,
              "ticks": ""
             }
            },
            "type": "scattermapbox"
           }
          ],
          "scatterpolar": [
           {
            "marker": {
             "colorbar": {
              "outlinewidth": 0,
              "ticks": ""
             }
            },
            "type": "scatterpolar"
           }
          ],
          "scatterpolargl": [
           {
            "marker": {
             "colorbar": {
              "outlinewidth": 0,
              "ticks": ""
             }
            },
            "type": "scatterpolargl"
           }
          ],
          "scatterternary": [
           {
            "marker": {
             "colorbar": {
              "outlinewidth": 0,
              "ticks": ""
             }
            },
            "type": "scatterternary"
           }
          ],
          "surface": [
           {
            "colorbar": {
             "outlinewidth": 0,
             "ticks": ""
            },
            "colorscale": [
             [
              0,
              "#0d0887"
             ],
             [
              0.1111111111111111,
              "#46039f"
             ],
             [
              0.2222222222222222,
              "#7201a8"
             ],
             [
              0.3333333333333333,
              "#9c179e"
             ],
             [
              0.4444444444444444,
              "#bd3786"
             ],
             [
              0.5555555555555556,
              "#d8576b"
             ],
             [
              0.6666666666666666,
              "#ed7953"
             ],
             [
              0.7777777777777778,
              "#fb9f3a"
             ],
             [
              0.8888888888888888,
              "#fdca26"
             ],
             [
              1,
              "#f0f921"
             ]
            ],
            "type": "surface"
           }
          ],
          "table": [
           {
            "cells": {
             "fill": {
              "color": "#EBF0F8"
             },
             "line": {
              "color": "white"
             }
            },
            "header": {
             "fill": {
              "color": "#C8D4E3"
             },
             "line": {
              "color": "white"
             }
            },
            "type": "table"
           }
          ]
         },
         "layout": {
          "annotationdefaults": {
           "arrowcolor": "#2a3f5f",
           "arrowhead": 0,
           "arrowwidth": 1
          },
          "autotypenumbers": "strict",
          "coloraxis": {
           "colorbar": {
            "outlinewidth": 0,
            "ticks": ""
           }
          },
          "colorscale": {
           "diverging": [
            [
             0,
             "#8e0152"
            ],
            [
             0.1,
             "#c51b7d"
            ],
            [
             0.2,
             "#de77ae"
            ],
            [
             0.3,
             "#f1b6da"
            ],
            [
             0.4,
             "#fde0ef"
            ],
            [
             0.5,
             "#f7f7f7"
            ],
            [
             0.6,
             "#e6f5d0"
            ],
            [
             0.7,
             "#b8e186"
            ],
            [
             0.8,
             "#7fbc41"
            ],
            [
             0.9,
             "#4d9221"
            ],
            [
             1,
             "#276419"
            ]
           ],
           "sequential": [
            [
             0,
             "#0d0887"
            ],
            [
             0.1111111111111111,
             "#46039f"
            ],
            [
             0.2222222222222222,
             "#7201a8"
            ],
            [
             0.3333333333333333,
             "#9c179e"
            ],
            [
             0.4444444444444444,
             "#bd3786"
            ],
            [
             0.5555555555555556,
             "#d8576b"
            ],
            [
             0.6666666666666666,
             "#ed7953"
            ],
            [
             0.7777777777777778,
             "#fb9f3a"
            ],
            [
             0.8888888888888888,
             "#fdca26"
            ],
            [
             1,
             "#f0f921"
            ]
           ],
           "sequentialminus": [
            [
             0,
             "#0d0887"
            ],
            [
             0.1111111111111111,
             "#46039f"
            ],
            [
             0.2222222222222222,
             "#7201a8"
            ],
            [
             0.3333333333333333,
             "#9c179e"
            ],
            [
             0.4444444444444444,
             "#bd3786"
            ],
            [
             0.5555555555555556,
             "#d8576b"
            ],
            [
             0.6666666666666666,
             "#ed7953"
            ],
            [
             0.7777777777777778,
             "#fb9f3a"
            ],
            [
             0.8888888888888888,
             "#fdca26"
            ],
            [
             1,
             "#f0f921"
            ]
           ]
          },
          "colorway": [
           "#636efa",
           "#EF553B",
           "#00cc96",
           "#ab63fa",
           "#FFA15A",
           "#19d3f3",
           "#FF6692",
           "#B6E880",
           "#FF97FF",
           "#FECB52"
          ],
          "font": {
           "color": "#2a3f5f"
          },
          "geo": {
           "bgcolor": "white",
           "lakecolor": "white",
           "landcolor": "#E5ECF6",
           "showlakes": true,
           "showland": true,
           "subunitcolor": "white"
          },
          "hoverlabel": {
           "align": "left"
          },
          "hovermode": "closest",
          "mapbox": {
           "style": "light"
          },
          "paper_bgcolor": "white",
          "plot_bgcolor": "#E5ECF6",
          "polar": {
           "angularaxis": {
            "gridcolor": "white",
            "linecolor": "white",
            "ticks": ""
           },
           "bgcolor": "#E5ECF6",
           "radialaxis": {
            "gridcolor": "white",
            "linecolor": "white",
            "ticks": ""
           }
          },
          "scene": {
           "xaxis": {
            "backgroundcolor": "#E5ECF6",
            "gridcolor": "white",
            "gridwidth": 2,
            "linecolor": "white",
            "showbackground": true,
            "ticks": "",
            "zerolinecolor": "white"
           },
           "yaxis": {
            "backgroundcolor": "#E5ECF6",
            "gridcolor": "white",
            "gridwidth": 2,
            "linecolor": "white",
            "showbackground": true,
            "ticks": "",
            "zerolinecolor": "white"
           },
           "zaxis": {
            "backgroundcolor": "#E5ECF6",
            "gridcolor": "white",
            "gridwidth": 2,
            "linecolor": "white",
            "showbackground": true,
            "ticks": "",
            "zerolinecolor": "white"
           }
          },
          "shapedefaults": {
           "line": {
            "color": "#2a3f5f"
           }
          },
          "ternary": {
           "aaxis": {
            "gridcolor": "white",
            "linecolor": "white",
            "ticks": ""
           },
           "baxis": {
            "gridcolor": "white",
            "linecolor": "white",
            "ticks": ""
           },
           "bgcolor": "#E5ECF6",
           "caxis": {
            "gridcolor": "white",
            "linecolor": "white",
            "ticks": ""
           }
          },
          "title": {
           "x": 0.05
          },
          "xaxis": {
           "automargin": true,
           "gridcolor": "white",
           "linecolor": "white",
           "ticks": "",
           "title": {
            "standoff": 15
           },
           "zerolinecolor": "white",
           "zerolinewidth": 2
          },
          "yaxis": {
           "automargin": true,
           "gridcolor": "white",
           "linecolor": "white",
           "ticks": "",
           "title": {
            "standoff": 15
           },
           "zerolinecolor": "white",
           "zerolinewidth": 2
          }
         }
        },
        "title": "Solution as function of Nmax",
        "xaxis": {
         "title": {
          "text": "x"
         }
        },
        "yaxis": {
         "title": {
          "text": "u(x)"
         }
        }
       }
      },
      "text/html": [
       "<div\n",
       "    class=\"webio-mountpoint\"\n",
       "    data-webio-mountpoint=\"11621447917120024719\"\n",
       ">\n",
       "    <script>\n",
       "    (function(){\n",
       "    // Some integrations (namely, IJulia/Jupyter) use an alternate render pathway than\n",
       "    // just putting the html on the page. If WebIO isn't defined, then it's pretty likely\n",
       "    // that we're in one of those situations and the integration just isn't installed\n",
       "    // correctly.\n",
       "    if (typeof window.WebIO === \"undefined\") {\n",
       "        document\n",
       "            .querySelector('[data-webio-mountpoint=\"11621447917120024719\"]')\n",
       "            .innerHTML = (\n",
       "                '<div style=\"padding: 1em; background-color: #f8d6da; border: 1px solid #f5c6cb; font-weight: bold;\">' +\n",
       "                '<p><strong>WebIO not detected.</strong></p>' +\n",
       "                '<p>Please read ' +\n",
       "                '<a href=\"https://juliagizmos.github.io/WebIO.jl/latest/troubleshooting/not-detected/\" target=\"_blank\">the troubleshooting guide</a> ' +\n",
       "                'for more information on how to resolve this issue.</p>' +\n",
       "                '<p><a href=\"https://juliagizmos.github.io/WebIO.jl/latest/troubleshooting/not-detected/\" target=\"_blank\">https://juliagizmos.github.io/WebIO.jl/latest/troubleshooting/not-detected/</a></p>' +\n",
       "                '</div>'\n",
       "            );\n",
       "        return;\n",
       "    }\n",
       "    WebIO.mount(\n",
       "        document.querySelector('[data-webio-mountpoint=\"11621447917120024719\"]'),\n",
       "        {\"props\":{},\"nodeType\":\"Scope\",\"type\":\"node\",\"instanceArgs\":{\"imports\":{\"data\":[{\"name\":\"Plotly\",\"type\":\"js\",\"url\":\"\\/assetserver\\/829791e6ff21fc5c4b60e5df299f439365241070-plotly.min.js\"},{\"name\":null,\"type\":\"js\",\"url\":\"\\/assetserver\\/823f3c894aa43f38c72113b9d92345d26ad2b09b-plotly_webio.bundle.js\"}],\"type\":\"async_block\"},\"id\":\"2557282733931792279\",\"handlers\":{\"_toImage\":[\"(function (options){return this.Plotly.toImage(this.plotElem,options).then((function (data){return WebIO.setval({\\\"name\\\":\\\"image\\\",\\\"scope\\\":\\\"2557282733931792279\\\",\\\"id\\\":\\\"6274387125045106286\\\",\\\"type\\\":\\\"observable\\\"},data)}))})\"],\"__get_gd_contents\":[\"(function (prop){prop==\\\"data\\\" ? (WebIO.setval({\\\"name\\\":\\\"__gd_contents\\\",\\\"scope\\\":\\\"2557282733931792279\\\",\\\"id\\\":\\\"4163399814630972798\\\",\\\"type\\\":\\\"observable\\\"},this.plotElem.data)) : undefined; return prop==\\\"layout\\\" ? (WebIO.setval({\\\"name\\\":\\\"__gd_contents\\\",\\\"scope\\\":\\\"2557282733931792279\\\",\\\"id\\\":\\\"4163399814630972798\\\",\\\"type\\\":\\\"observable\\\"},this.plotElem.layout)) : undefined})\"],\"_downloadImage\":[\"(function (options){return this.Plotly.downloadImage(this.plotElem,options)})\"],\"_commands\":[\"(function (args){var fn=args.shift(); var elem=this.plotElem; var Plotly=this.Plotly; args.unshift(elem); return Plotly[fn].apply(this,args)})\"]},\"systemjs_options\":null,\"mount_callbacks\":[\"function () {\\n    var handler = ((function (Plotly,PlotlyWebIO){PlotlyWebIO.init(WebIO); var gd=this.dom.querySelector(\\\"#plot-d149e4fa-2ce7-4215-912d-05a64396fc6c\\\"); this.plotElem=gd; this.Plotly=Plotly; (window.Blink!==undefined) ? (gd.style.width=\\\"100%\\\", gd.style.height=\\\"100vh\\\", gd.style.marginLeft=\\\"0%\\\", gd.style.marginTop=\\\"0vh\\\") : undefined; window.onresize=(function (){return Plotly.Plots.resize(gd)}); Plotly.newPlot(gd,[{\\\"x\\\":[0.0,0.1,0.2,0.3,0.4,0.5,0.6,0.7,0.8,0.9,1.0],\\\"mode\\\":\\\"markers+lines\\\",\\\"y\\\":[0.0,0.11010204916590485,0.09897950834095154,0.10010286742457997,0.09999181741324958,0.09997895844292487,0.10021859815750278,0.09783505998204822,0.1214308020220154,-0.11214308020220132,1.0],\\\"type\\\":\\\"scatter\\\",\\\"name\\\":\\\"Equidistant\\\",\\\"marker\\\":{\\\"size\\\":5}},{\\\"x\\\":[0.0,0.1,0.2,0.3,0.4,0.5,0.6,0.7,0.8,0.9,1.0],\\\"mode\\\":\\\"markers\\\",\\\"y\\\":[0.0,0.11010204916590485,0.09897950834095154,0.10010286742457997,0.09999181741324958,0.09997895844292487,0.10021859815750278,0.09783505998204822,0.1214308020220154,-0.11214308020220132,1.0],\\\"type\\\":\\\"scatter\\\",\\\"name\\\":\\\"Refined N=1\\\",\\\"marker\\\":{\\\"size\\\":7}},{\\\"x\\\":[0.0,0.1,0.2,0.3,0.4,0.5,0.6,0.7,0.8,0.9,0.95,1.0],\\\"mode\\\":\\\"markers\\\",\\\"y\\\":[0.0,0.1101020513057139,0.09897948694286093,0.10010307926567694,0.09998972040037013,0.09999971673062236,0.10001311229340742,0.09986916033530413,0.10129528435355184,0.08717799612917732,0.13589724951614668,1.0],\\\"type\\\":\\\"scatter\\\",\\\"name\\\":\\\"Refined N=2\\\",\\\"marker\\\":{\\\"size\\\":7}},{\\\"x\\\":[0.0,0.1,0.2,0.3,0.4,0.5,0.6,0.6499999999999999,0.7,0.75,0.8,0.8500000000000001,0.9,0.95,1.0],\\\"mode\\\":\\\"markers\\\",\\\"y\\\":[0.0,0.11010228132877053,0.09897718671229476,0.10012585154828196,0.09976429780488622,0.1022311704028564,0.07792399816655071,0.05354715390181264,0.050453233047950796,0.05007871048179302,0.05017645080639421,0.05133289596936064,0.06048671694849017,0.1325608396185608,1.0],\\\"type\\\":\\\"scatter\\\",\\\"name\\\":\\\"Refined N=5\\\",\\\"marker\\\":{\\\"size\\\":7}},{\\\"x\\\":[0.0,0.1,0.2,0.25,0.3,0.35,0.4,0.45,0.5,0.55,0.6,0.6499999999999999,0.7,0.725,0.75,0.775,0.8,0.8250000000000001,0.8500000000000001,0.875,0.9,0.925,0.95,0.975,1.0],\\\"mode\\\":\\\"markers\\\",\\\"y\\\":[0.0,0.112321321714349,0.07678678285651015,0.053402367422940356,0.0504321565270128,0.05005488479316228,0.05000692181828542,0.05000048975312088,0.04999699620668124,0.04997547990032958,0.04980684299595539,0.04847926406731373,0.038027269542554865,0.030361760518765935,0.02729204622534742,0.02618694298222657,0.02609921943815685,0.02695368398393594,0.02948273480165986,0.03585412973509183,0.05152906444145999,0.08994319724050803,0.18402292767427642,0.4144080246859966,1.0],\\\"type\\\":\\\"scatter\\\",\\\"name\\\":\\\"Refined N=10\\\",\\\"marker\\\":{\\\"size\\\":7}},{\\\"x\\\":[0.0,0.05,0.1,0.15000000000000002,0.2,0.225,0.25,0.275,0.3,0.32499999999999996,0.35,0.375,0.4,0.42500000000000004,0.45,0.475,0.5,0.525,0.5375000000000001,0.55,0.5625,0.575,0.5874999999999999,0.6,0.6125,0.625,0.6375,0.6499999999999999,0.6624999999999999,0.6749999999999999,0.6875,0.7,0.7124999999999999,0.725,0.7375,0.75,0.7625,0.775,0.7875000000000001,0.8,0.8125,0.8250000000000001,0.8375000000000001,0.8500000000000001,0.8625,0.875,0.8875,0.9,0.9125000000000001,0.925,0.9375,0.95,0.9624999999999999,0.975,0.9875,1.0],\\\"mode\\\":\\\"markers+lines\\\",\\\"y\\\":[0.0,0.0436249879004606,0.048999903203684775,0.04837423772901754,0.03799399862845543,0.030306214264880338,0.02716661355691688,0.025884110183453463,0.025359415538664387,0.025142791355587668,0.02504855976301462,0.02499595082445394,0.024939871163996652,0.02483225250125065,0.02458085026814799,0.023970176836315138,0.022476797835609408,0.018820674122568826,0.01658520106194139,0.01514041207781891,0.014206670592629367,0.01360325244794891,0.013213367035129653,0.01296155266136767,0.012799071060773715,0.012694474181619952,0.012627517466650695,0.012585241551678394,0.012559464001547394,0.012545195613006377,0.012539674762466868,0.012541832898211425,0.012552087723932348,0.012572424044608455,0.012606777922305468,0.012661798494642218,0.012748134904651875,0.012882497425239503,0.013090891705550889,0.013413652122420627,0.013913248433952585,0.014686376700443149,0.01588267465089066,0.01773368382409135,0.020597664060019505,0.025028934114016188,0.03188515915782264,0.042493350490240056,0.058906706433671685,0.08430200555781431,0.12359446704798549,0.18438908345066995,0.27845255471477437,0.4239907139881912,0.6491722372593236,1.0],\\\"type\\\":\\\"scatter\\\",\\\"name\\\":\\\"Refined N=20\\\",\\\"marker\\\":{\\\"size\\\":5}}],{\\\"xaxis\\\":{\\\"title\\\":{\\\"text\\\":\\\"x\\\"}},\\\"template\\\":{\\\"layout\\\":{\\\"coloraxis\\\":{\\\"colorbar\\\":{\\\"ticks\\\":\\\"\\\",\\\"outlinewidth\\\":0}},\\\"xaxis\\\":{\\\"gridcolor\\\":\\\"white\\\",\\\"zerolinewidth\\\":2,\\\"title\\\":{\\\"standoff\\\":15},\\\"ticks\\\":\\\"\\\",\\\"zerolinecolor\\\":\\\"white\\\",\\\"automargin\\\":true,\\\"linecolor\\\":\\\"white\\\"},\\\"hovermode\\\":\\\"closest\\\",\\\"paper_bgcolor\\\":\\\"white\\\",\\\"geo\\\":{\\\"showlakes\\\":true,\\\"showland\\\":true,\\\"landcolor\\\":\\\"#E5ECF6\\\",\\\"bgcolor\\\":\\\"white\\\",\\\"subunitcolor\\\":\\\"white\\\",\\\"lakecolor\\\":\\\"white\\\"},\\\"colorscale\\\":{\\\"sequential\\\":[[0.0,\\\"#0d0887\\\"],[0.1111111111111111,\\\"#46039f\\\"],[0.2222222222222222,\\\"#7201a8\\\"],[0.3333333333333333,\\\"#9c179e\\\"],[0.4444444444444444,\\\"#bd3786\\\"],[0.5555555555555556,\\\"#d8576b\\\"],[0.6666666666666666,\\\"#ed7953\\\"],[0.7777777777777778,\\\"#fb9f3a\\\"],[0.8888888888888888,\\\"#fdca26\\\"],[1.0,\\\"#f0f921\\\"]],\\\"diverging\\\":[[0,\\\"#8e0152\\\"],[0.1,\\\"#c51b7d\\\"],[0.2,\\\"#de77ae\\\"],[0.3,\\\"#f1b6da\\\"],[0.4,\\\"#fde0ef\\\"],[0.5,\\\"#f7f7f7\\\"],[0.6,\\\"#e6f5d0\\\"],[0.7,\\\"#b8e186\\\"],[0.8,\\\"#7fbc41\\\"],[0.9,\\\"#4d9221\\\"],[1,\\\"#276419\\\"]],\\\"sequentialminus\\\":[[0.0,\\\"#0d0887\\\"],[0.1111111111111111,\\\"#46039f\\\"],[0.2222222222222222,\\\"#7201a8\\\"],[0.3333333333333333,\\\"#9c179e\\\"],[0.4444444444444444,\\\"#bd3786\\\"],[0.5555555555555556,\\\"#d8576b\\\"],[0.6666666666666666,\\\"#ed7953\\\"],[0.7777777777777778,\\\"#fb9f3a\\\"],[0.8888888888888888,\\\"#fdca26\\\"],[1.0,\\\"#f0f921\\\"]]},\\\"yaxis\\\":{\\\"gridcolor\\\":\\\"white\\\",\\\"zerolinewidth\\\":2,\\\"title\\\":{\\\"standoff\\\":15},\\\"ticks\\\":\\\"\\\",\\\"zerolinecolor\\\":\\\"white\\\",\\\"automargin\\\":true,\\\"linecolor\\\":\\\"white\\\"},\\\"shapedefaults\\\":{\\\"line\\\":{\\\"color\\\":\\\"#2a3f5f\\\"}},\\\"hoverlabel\\\":{\\\"align\\\":\\\"left\\\"},\\\"mapbox\\\":{\\\"style\\\":\\\"light\\\"},\\\"polar\\\":{\\\"angularaxis\\\":{\\\"gridcolor\\\":\\\"white\\\",\\\"ticks\\\":\\\"\\\",\\\"linecolor\\\":\\\"white\\\"},\\\"bgcolor\\\":\\\"#E5ECF6\\\",\\\"radialaxis\\\":{\\\"gridcolor\\\":\\\"white\\\",\\\"ticks\\\":\\\"\\\",\\\"linecolor\\\":\\\"white\\\"}},\\\"autotypenumbers\\\":\\\"strict\\\",\\\"font\\\":{\\\"color\\\":\\\"#2a3f5f\\\"},\\\"ternary\\\":{\\\"baxis\\\":{\\\"gridcolor\\\":\\\"white\\\",\\\"ticks\\\":\\\"\\\",\\\"linecolor\\\":\\\"white\\\"},\\\"bgcolor\\\":\\\"#E5ECF6\\\",\\\"caxis\\\":{\\\"gridcolor\\\":\\\"white\\\",\\\"ticks\\\":\\\"\\\",\\\"linecolor\\\":\\\"white\\\"},\\\"aaxis\\\":{\\\"gridcolor\\\":\\\"white\\\",\\\"ticks\\\":\\\"\\\",\\\"linecolor\\\":\\\"white\\\"}},\\\"annotationdefaults\\\":{\\\"arrowhead\\\":0,\\\"arrowwidth\\\":1,\\\"arrowcolor\\\":\\\"#2a3f5f\\\"},\\\"plot_bgcolor\\\":\\\"#E5ECF6\\\",\\\"title\\\":{\\\"x\\\":0.05},\\\"scene\\\":{\\\"xaxis\\\":{\\\"gridcolor\\\":\\\"white\\\",\\\"gridwidth\\\":2,\\\"backgroundcolor\\\":\\\"#E5ECF6\\\",\\\"ticks\\\":\\\"\\\",\\\"showbackground\\\":true,\\\"zerolinecolor\\\":\\\"white\\\",\\\"linecolor\\\":\\\"white\\\"},\\\"zaxis\\\":{\\\"gridcolor\\\":\\\"white\\\",\\\"gridwidth\\\":2,\\\"backgroundcolor\\\":\\\"#E5ECF6\\\",\\\"ticks\\\":\\\"\\\",\\\"showbackground\\\":true,\\\"zerolinecolor\\\":\\\"white\\\",\\\"linecolor\\\":\\\"white\\\"},\\\"yaxis\\\":{\\\"gridcolor\\\":\\\"white\\\",\\\"gridwidth\\\":2,\\\"backgroundcolor\\\":\\\"#E5ECF6\\\",\\\"ticks\\\":\\\"\\\",\\\"showbackground\\\":true,\\\"zerolinecolor\\\":\\\"white\\\",\\\"linecolor\\\":\\\"white\\\"}},\\\"colorway\\\":[\\\"#636efa\\\",\\\"#EF553B\\\",\\\"#00cc96\\\",\\\"#ab63fa\\\",\\\"#FFA15A\\\",\\\"#19d3f3\\\",\\\"#FF6692\\\",\\\"#B6E880\\\",\\\"#FF97FF\\\",\\\"#FECB52\\\"]},\\\"data\\\":{\\\"barpolar\\\":[{\\\"type\\\":\\\"barpolar\\\",\\\"marker\\\":{\\\"line\\\":{\\\"color\\\":\\\"#E5ECF6\\\",\\\"width\\\":0.5}}}],\\\"carpet\\\":[{\\\"aaxis\\\":{\\\"gridcolor\\\":\\\"white\\\",\\\"endlinecolor\\\":\\\"#2a3f5f\\\",\\\"minorgridcolor\\\":\\\"white\\\",\\\"startlinecolor\\\":\\\"#2a3f5f\\\",\\\"linecolor\\\":\\\"white\\\"},\\\"type\\\":\\\"carpet\\\",\\\"baxis\\\":{\\\"gridcolor\\\":\\\"white\\\",\\\"endlinecolor\\\":\\\"#2a3f5f\\\",\\\"minorgridcolor\\\":\\\"white\\\",\\\"startlinecolor\\\":\\\"#2a3f5f\\\",\\\"linecolor\\\":\\\"white\\\"}}],\\\"scatterpolar\\\":[{\\\"type\\\":\\\"scatterpolar\\\",\\\"marker\\\":{\\\"colorbar\\\":{\\\"ticks\\\":\\\"\\\",\\\"outlinewidth\\\":0}}}],\\\"parcoords\\\":[{\\\"line\\\":{\\\"colorbar\\\":{\\\"ticks\\\":\\\"\\\",\\\"outlinewidth\\\":0}},\\\"type\\\":\\\"parcoords\\\"}],\\\"scatter\\\":[{\\\"type\\\":\\\"scatter\\\",\\\"marker\\\":{\\\"colorbar\\\":{\\\"ticks\\\":\\\"\\\",\\\"outlinewidth\\\":0}}}],\\\"histogram2dcontour\\\":[{\\\"colorbar\\\":{\\\"ticks\\\":\\\"\\\",\\\"outlinewidth\\\":0},\\\"type\\\":\\\"histogram2dcontour\\\",\\\"colorscale\\\":[[0.0,\\\"#0d0887\\\"],[0.1111111111111111,\\\"#46039f\\\"],[0.2222222222222222,\\\"#7201a8\\\"],[0.3333333333333333,\\\"#9c179e\\\"],[0.4444444444444444,\\\"#bd3786\\\"],[0.5555555555555556,\\\"#d8576b\\\"],[0.6666666666666666,\\\"#ed7953\\\"],[0.7777777777777778,\\\"#fb9f3a\\\"],[0.8888888888888888,\\\"#fdca26\\\"],[1.0,\\\"#f0f921\\\"]]}],\\\"contour\\\":[{\\\"colorbar\\\":{\\\"ticks\\\":\\\"\\\",\\\"outlinewidth\\\":0},\\\"type\\\":\\\"contour\\\",\\\"colorscale\\\":[[0.0,\\\"#0d0887\\\"],[0.1111111111111111,\\\"#46039f\\\"],[0.2222222222222222,\\\"#7201a8\\\"],[0.3333333333333333,\\\"#9c179e\\\"],[0.4444444444444444,\\\"#bd3786\\\"],[0.5555555555555556,\\\"#d8576b\\\"],[0.6666666666666666,\\\"#ed7953\\\"],[0.7777777777777778,\\\"#fb9f3a\\\"],[0.8888888888888888,\\\"#fdca26\\\"],[1.0,\\\"#f0f921\\\"]]}],\\\"scattercarpet\\\":[{\\\"type\\\":\\\"scattercarpet\\\",\\\"marker\\\":{\\\"colorbar\\\":{\\\"ticks\\\":\\\"\\\",\\\"outlinewidth\\\":0}}}],\\\"mesh3d\\\":[{\\\"colorbar\\\":{\\\"ticks\\\":\\\"\\\",\\\"outlinewidth\\\":0},\\\"type\\\":\\\"mesh3d\\\"}],\\\"surface\\\":[{\\\"colorbar\\\":{\\\"ticks\\\":\\\"\\\",\\\"outlinewidth\\\":0},\\\"type\\\":\\\"surface\\\",\\\"colorscale\\\":[[0.0,\\\"#0d0887\\\"],[0.1111111111111111,\\\"#46039f\\\"],[0.2222222222222222,\\\"#7201a8\\\"],[0.3333333333333333,\\\"#9c179e\\\"],[0.4444444444444444,\\\"#bd3786\\\"],[0.5555555555555556,\\\"#d8576b\\\"],[0.6666666666666666,\\\"#ed7953\\\"],[0.7777777777777778,\\\"#fb9f3a\\\"],[0.8888888888888888,\\\"#fdca26\\\"],[1.0,\\\"#f0f921\\\"]]}],\\\"scattermapbox\\\":[{\\\"type\\\":\\\"scattermapbox\\\",\\\"marker\\\":{\\\"colorbar\\\":{\\\"ticks\\\":\\\"\\\",\\\"outlinewidth\\\":0}}}],\\\"scattergeo\\\":[{\\\"type\\\":\\\"scattergeo\\\",\\\"marker\\\":{\\\"colorbar\\\":{\\\"ticks\\\":\\\"\\\",\\\"outlinewidth\\\":0}}}],\\\"histogram\\\":[{\\\"type\\\":\\\"histogram\\\",\\\"marker\\\":{\\\"colorbar\\\":{\\\"ticks\\\":\\\"\\\",\\\"outlinewidth\\\":0}}}],\\\"pie\\\":[{\\\"type\\\":\\\"pie\\\",\\\"automargin\\\":true}],\\\"choropleth\\\":[{\\\"colorbar\\\":{\\\"ticks\\\":\\\"\\\",\\\"outlinewidth\\\":0},\\\"type\\\":\\\"choropleth\\\"}],\\\"heatmapgl\\\":[{\\\"colorbar\\\":{\\\"ticks\\\":\\\"\\\",\\\"outlinewidth\\\":0},\\\"type\\\":\\\"heatmapgl\\\",\\\"colorscale\\\":[[0.0,\\\"#0d0887\\\"],[0.1111111111111111,\\\"#46039f\\\"],[0.2222222222222222,\\\"#7201a8\\\"],[0.3333333333333333,\\\"#9c179e\\\"],[0.4444444444444444,\\\"#bd3786\\\"],[0.5555555555555556,\\\"#d8576b\\\"],[0.6666666666666666,\\\"#ed7953\\\"],[0.7777777777777778,\\\"#fb9f3a\\\"],[0.8888888888888888,\\\"#fdca26\\\"],[1.0,\\\"#f0f921\\\"]]}],\\\"bar\\\":[{\\\"type\\\":\\\"bar\\\",\\\"error_y\\\":{\\\"color\\\":\\\"#2a3f5f\\\"},\\\"error_x\\\":{\\\"color\\\":\\\"#2a3f5f\\\"},\\\"marker\\\":{\\\"line\\\":{\\\"color\\\":\\\"#E5ECF6\\\",\\\"width\\\":0.5}}}],\\\"heatmap\\\":[{\\\"colorbar\\\":{\\\"ticks\\\":\\\"\\\",\\\"outlinewidth\\\":0},\\\"type\\\":\\\"heatmap\\\",\\\"colorscale\\\":[[0.0,\\\"#0d0887\\\"],[0.1111111111111111,\\\"#46039f\\\"],[0.2222222222222222,\\\"#7201a8\\\"],[0.3333333333333333,\\\"#9c179e\\\"],[0.4444444444444444,\\\"#bd3786\\\"],[0.5555555555555556,\\\"#d8576b\\\"],[0.6666666666666666,\\\"#ed7953\\\"],[0.7777777777777778,\\\"#fb9f3a\\\"],[0.8888888888888888,\\\"#fdca26\\\"],[1.0,\\\"#f0f921\\\"]]}],\\\"contourcarpet\\\":[{\\\"colorbar\\\":{\\\"ticks\\\":\\\"\\\",\\\"outlinewidth\\\":0},\\\"type\\\":\\\"contourcarpet\\\"}],\\\"table\\\":[{\\\"type\\\":\\\"table\\\",\\\"header\\\":{\\\"line\\\":{\\\"color\\\":\\\"white\\\"},\\\"fill\\\":{\\\"color\\\":\\\"#C8D4E3\\\"}},\\\"cells\\\":{\\\"line\\\":{\\\"color\\\":\\\"white\\\"},\\\"fill\\\":{\\\"color\\\":\\\"#EBF0F8\\\"}}}],\\\"scatter3d\\\":[{\\\"line\\\":{\\\"colorbar\\\":{\\\"ticks\\\":\\\"\\\",\\\"outlinewidth\\\":0}},\\\"type\\\":\\\"scatter3d\\\",\\\"marker\\\":{\\\"colorbar\\\":{\\\"ticks\\\":\\\"\\\",\\\"outlinewidth\\\":0}}}],\\\"scattergl\\\":[{\\\"type\\\":\\\"scattergl\\\",\\\"marker\\\":{\\\"colorbar\\\":{\\\"ticks\\\":\\\"\\\",\\\"outlinewidth\\\":0}}}],\\\"histogram2d\\\":[{\\\"colorbar\\\":{\\\"ticks\\\":\\\"\\\",\\\"outlinewidth\\\":0},\\\"type\\\":\\\"histogram2d\\\",\\\"colorscale\\\":[[0.0,\\\"#0d0887\\\"],[0.1111111111111111,\\\"#46039f\\\"],[0.2222222222222222,\\\"#7201a8\\\"],[0.3333333333333333,\\\"#9c179e\\\"],[0.4444444444444444,\\\"#bd3786\\\"],[0.5555555555555556,\\\"#d8576b\\\"],[0.6666666666666666,\\\"#ed7953\\\"],[0.7777777777777778,\\\"#fb9f3a\\\"],[0.8888888888888888,\\\"#fdca26\\\"],[1.0,\\\"#f0f921\\\"]]}],\\\"scatterternary\\\":[{\\\"type\\\":\\\"scatterternary\\\",\\\"marker\\\":{\\\"colorbar\\\":{\\\"ticks\\\":\\\"\\\",\\\"outlinewidth\\\":0}}}],\\\"scatterpolargl\\\":[{\\\"type\\\":\\\"scatterpolargl\\\",\\\"marker\\\":{\\\"colorbar\\\":{\\\"ticks\\\":\\\"\\\",\\\"outlinewidth\\\":0}}}]}},\\\"legend\\\":{\\\"title\\\":{\\\"text\\\":\\\"Nmax\\\"}},\\\"margin\\\":{\\\"l\\\":50,\\\"b\\\":50,\\\"r\\\":50,\\\"t\\\":60},\\\"title\\\":\\\"Solution as function of Nmax\\\",\\\"yaxis\\\":{\\\"title\\\":{\\\"text\\\":\\\"u(x)\\\"}}},{\\\"showLink\\\":false,\\\"editable\\\":false,\\\"responsive\\\":true,\\\"staticPlot\\\":false,\\\"scrollZoom\\\":true}); gd.on(\\\"plotly_hover\\\",(function (data){var filtered_data=WebIO.PlotlyCommands.filterEventData(gd,data,\\\"hover\\\"); return !(filtered_data.isnil) ? (WebIO.setval({\\\"name\\\":\\\"hover\\\",\\\"scope\\\":\\\"2557282733931792279\\\",\\\"id\\\":\\\"3973393716952666410\\\",\\\"type\\\":\\\"observable\\\"},filtered_data.out)) : undefined})); gd.on(\\\"plotly_unhover\\\",(function (){return WebIO.setval({\\\"name\\\":\\\"hover\\\",\\\"scope\\\":\\\"2557282733931792279\\\",\\\"id\\\":\\\"3973393716952666410\\\",\\\"type\\\":\\\"observable\\\"},{})})); gd.on(\\\"plotly_selected\\\",(function (data){var filtered_data=WebIO.PlotlyCommands.filterEventData(gd,data,\\\"selected\\\"); return !(filtered_data.isnil) ? (WebIO.setval({\\\"name\\\":\\\"selected\\\",\\\"scope\\\":\\\"2557282733931792279\\\",\\\"id\\\":\\\"11086237412188707608\\\",\\\"type\\\":\\\"observable\\\"},filtered_data.out)) : undefined})); gd.on(\\\"plotly_deselect\\\",(function (){return WebIO.setval({\\\"name\\\":\\\"selected\\\",\\\"scope\\\":\\\"2557282733931792279\\\",\\\"id\\\":\\\"11086237412188707608\\\",\\\"type\\\":\\\"observable\\\"},{})})); gd.on(\\\"plotly_relayout\\\",(function (data){var filtered_data=WebIO.PlotlyCommands.filterEventData(gd,data,\\\"relayout\\\"); return !(filtered_data.isnil) ? (WebIO.setval({\\\"name\\\":\\\"relayout\\\",\\\"scope\\\":\\\"2557282733931792279\\\",\\\"id\\\":\\\"5215324326243599552\\\",\\\"type\\\":\\\"observable\\\"},filtered_data.out)) : undefined})); return gd.on(\\\"plotly_click\\\",(function (data){var filtered_data=WebIO.PlotlyCommands.filterEventData(gd,data,\\\"click\\\"); return !(filtered_data.isnil) ? (WebIO.setval({\\\"name\\\":\\\"click\\\",\\\"scope\\\":\\\"2557282733931792279\\\",\\\"id\\\":\\\"5881816932787928353\\\",\\\"type\\\":\\\"observable\\\"},filtered_data.out)) : undefined}))}));\\n    (WebIO.importBlock({\\\"data\\\":[{\\\"name\\\":\\\"Plotly\\\",\\\"type\\\":\\\"js\\\",\\\"url\\\":\\\"\\/assetserver\\/829791e6ff21fc5c4b60e5df299f439365241070-plotly.min.js\\\"},{\\\"name\\\":null,\\\"type\\\":\\\"js\\\",\\\"url\\\":\\\"\\/assetserver\\/823f3c894aa43f38c72113b9d92345d26ad2b09b-plotly_webio.bundle.js\\\"}],\\\"type\\\":\\\"async_block\\\"})).then((imports) => handler.apply(this, imports));\\n}\\n\"],\"observables\":{\"_toImage\":{\"sync\":false,\"id\":\"7521006457793468969\",\"value\":{}},\"hover\":{\"sync\":false,\"id\":\"3973393716952666410\",\"value\":{}},\"selected\":{\"sync\":false,\"id\":\"11086237412188707608\",\"value\":{}},\"__gd_contents\":{\"sync\":false,\"id\":\"4163399814630972798\",\"value\":{}},\"click\":{\"sync\":false,\"id\":\"5881816932787928353\",\"value\":{}},\"image\":{\"sync\":true,\"id\":\"6274387125045106286\",\"value\":\"\"},\"__get_gd_contents\":{\"sync\":false,\"id\":\"17237858215574975669\",\"value\":\"\"},\"_downloadImage\":{\"sync\":false,\"id\":\"4475640154859906\",\"value\":{}},\"relayout\":{\"sync\":false,\"id\":\"5215324326243599552\",\"value\":{}},\"_commands\":{\"sync\":false,\"id\":\"17431358851118277996\",\"value\":[]}}},\"children\":[{\"props\":{\"id\":\"plot-d149e4fa-2ce7-4215-912d-05a64396fc6c\"},\"nodeType\":\"DOM\",\"type\":\"node\",\"instanceArgs\":{\"namespace\":\"html\",\"tag\":\"div\"},\"children\":[]}]},\n",
       "        window,\n",
       "    );\n",
       "    })()\n",
       "    </script>\n",
       "</div>\n"
      ],
      "text/plain": [
       "data: [\n",
       "  \"scatter with fields marker, mode, name, type, x, and y\",\n",
       "  \"scatter with fields marker, mode, name, type, x, and y\",\n",
       "  \"scatter with fields marker, mode, name, type, x, and y\",\n",
       "  \"scatter with fields marker, mode, name, type, x, and y\",\n",
       "  \"scatter with fields marker, mode, name, type, x, and y\",\n",
       "  \"scatter with fields marker, mode, name, type, x, and y\"\n",
       "]\n",
       "\n",
       "layout: \"layout with fields legend, margin, template, title, xaxis, and yaxis\"\n",
       "\n"
      ]
     },
     "execution_count": 138,
     "metadata": {},
     "output_type": "execute_result"
    }
   ],
   "source": [
    "plot([scatter(x=Array(x),     y=Array(x)+sol[:,1],       mode=\"markers+lines\", name=\"Equidistant\", marker=attr(size=5)),\n",
    "      scatter(x=Array(x_cop), y=Array(x_cop)+solx[:,1],  mode=\"markers\", name=\"Refined N=1\", marker=attr(size=7)), \n",
    "      scatter(x=Array(x_cop1),y=Array(x_cop1)+solx1[:,1],mode=\"markers\", name=\"Refined N=2\", marker=attr(size=7)), \n",
    "      scatter(x=Array(x_cop2),y=Array(x_cop2)+solx2[:,1],mode=\"markers\", name=\"Refined N=5\", marker=attr(size=7)), \n",
    "      scatter(x=Array(x_cop3),y=Array(x_cop3)+solx3[:,1],mode=\"markers\", name=\"Refined N=10\", marker=attr(size=7)),\n",
    "      scatter(x=Array(x_cop4),y=Array(x_cop4)+solx4[:,1],mode=\"markers+lines\", name=\"Refined N=20\", marker=attr(size=5))], \n",
    "    Layout(title=\"Solution as function of Nmax\",  xaxis_title=\"x\",  yaxis_title=\"u(x)\", legend_title_text=\"Nmax\"))"
   ]
  }
 ],
 "metadata": {
  "@webio": {
   "lastCommId": "de863996db6d449980a27c0c40d51c99",
   "lastKernelId": "b858f676-d14e-4cd0-8bd2-15df0b96cd33"
  },
  "kernelspec": {
   "display_name": "Julia 1.7.2",
   "language": "julia",
   "name": "julia-1.7"
  },
  "language_info": {
   "file_extension": ".jl",
   "mimetype": "application/julia",
   "name": "julia",
   "version": "1.7.2"
  }
 },
 "nbformat": 4,
 "nbformat_minor": 5
}
