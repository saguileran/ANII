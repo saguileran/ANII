{
 "cells": [
  {
   "cell_type": "code",
   "execution_count": 1,
   "id": "359333ac-27ee-4f8f-948f-1851e851c1e3",
   "metadata": {},
   "outputs": [
    {
     "data": {
      "text/latex": [
       "Unrecognized magic \\texttt{\\%function}.\n",
       "\n",
       "Julia does not use the IPython \\texttt{\\%magic} syntax.   To interact with the IJulia kernel, use \\texttt{IJulia.somefunction(...)}, for example.  Julia macros, string macros, and functions can be used to accomplish most of the other functionalities of IPython magics.\n",
       "\n"
      ],
      "text/markdown": [
       "Unrecognized magic `%function`.\n",
       "\n",
       "Julia does not use the IPython `%magic` syntax.   To interact with the IJulia kernel, use `IJulia.somefunction(...)`, for example.  Julia macros, string macros, and functions can be used to accomplish most of the other functionalities of IPython magics.\n"
      ],
      "text/plain": [
       "  Unrecognized magic \u001b[36m%function\u001b[39m.\n",
       "\n",
       "  Julia does not use the IPython \u001b[36m%magic\u001b[39m syntax. To interact with the IJulia\n",
       "  kernel, use \u001b[36mIJulia.somefunction(...)\u001b[39m, for example. Julia macros, string\n",
       "  macros, and functions can be used to accomplish most of the other\n",
       "  functionalities of IPython magics."
      ]
     },
     "metadata": {},
     "output_type": "display_data"
    },
    {
     "data": {
      "text/latex": [
       "Unrecognized magic \\texttt{\\%g}.\n",
       "\n",
       "Julia does not use the IPython \\texttt{\\%magic} syntax.   To interact with the IJulia kernel, use \\texttt{IJulia.somefunction(...)}, for example.  Julia macros, string macros, and functions can be used to accomplish most of the other functionalities of IPython magics.\n",
       "\n"
      ],
      "text/markdown": [
       "Unrecognized magic `%g`.\n",
       "\n",
       "Julia does not use the IPython `%magic` syntax.   To interact with the IJulia kernel, use `IJulia.somefunction(...)`, for example.  Julia macros, string macros, and functions can be used to accomplish most of the other functionalities of IPython magics.\n"
      ],
      "text/plain": [
       "  Unrecognized magic \u001b[36m%g\u001b[39m.\n",
       "\n",
       "  Julia does not use the IPython \u001b[36m%magic\u001b[39m syntax. To interact with the IJulia\n",
       "  kernel, use \u001b[36mIJulia.somefunction(...)\u001b[39m, for example. Julia macros, string\n",
       "  macros, and functions can be used to accomplish most of the other\n",
       "  functionalities of IPython magics."
      ]
     },
     "metadata": {},
     "output_type": "display_data"
    },
    {
     "data": {
      "text/latex": [
       "Unrecognized magic \\texttt{\\%pdesurf}.\n",
       "\n",
       "Julia does not use the IPython \\texttt{\\%magic} syntax.   To interact with the IJulia kernel, use \\texttt{IJulia.somefunction(...)}, for example.  Julia macros, string macros, and functions can be used to accomplish most of the other functionalities of IPython magics.\n",
       "\n"
      ],
      "text/markdown": [
       "Unrecognized magic `%pdesurf`.\n",
       "\n",
       "Julia does not use the IPython `%magic` syntax.   To interact with the IJulia kernel, use `IJulia.somefunction(...)`, for example.  Julia macros, string macros, and functions can be used to accomplish most of the other functionalities of IPython magics.\n"
      ],
      "text/plain": [
       "  Unrecognized magic \u001b[36m%pdesurf\u001b[39m.\n",
       "\n",
       "  Julia does not use the IPython \u001b[36m%magic\u001b[39m syntax. To interact with the IJulia\n",
       "  kernel, use \u001b[36mIJulia.somefunction(...)\u001b[39m, for example. Julia macros, string\n",
       "  macros, and functions can be used to accomplish most of the other\n",
       "  functionalities of IPython magics."
      ]
     },
     "metadata": {},
     "output_type": "display_data"
    }
   ],
   "source": [
    "%function SolucionPoissonNewton2D()\n",
    "% geometria en Matlab\n",
    "%g=Rectg(0,0,1,1);\n",
    "%[p,e,t]=initmesh(g,'hmax',0.05); % create mesh\n",
    "\n",
    "fd=@(p) drectangle(p,0,1,0,1); % cuadrado unitario\n",
    "[P,T]=distmesh2d(fd,@huniform,0.1,[0,0;1,1],[0,0;1,0;0,1;1,1]); % cree la malla\n",
    "e=(boundedges(P,T))';\n",
    "clc\n",
    "p=P';\n",
    "t=T';\n",
    "clear P, T;\n",
    "\n",
    "xi=zeros(size(p,2),1); %  Valor inicial cero\n",
    "\n",
    "Afcn = @(u) 0.125+u.^2;\n",
    "Ffcn = @(x,y) 1*ones(length(x),1);\n",
    "\n",
    "for k=1:5 % bucle no- lineal\n",
    "  [J,r]=EnsambleJacRes2D(p,e,t,xi,Afcn,Ffcn);\n",
    "  d=J\\r; % soluciona para la correccion\n",
    "  xi=xi+d; % actualiza la solucion\n",
    "  sprintf('|d|=%f, |r|=%f', norm(d), norm(r))\n",
    "end\n",
    "\n",
    "figure\n",
    "show(t',p',full(xi)); % Dibuja la solucion\n",
    "axis tight\n",
    "xlabel('X')\n",
    "ylabel('Y')\n",
    "view(-30,30)\n",
    "\n",
    "% grafica en matlab\n",
    "%pdesurf(p,t,xi)\n"
   ]
  },
  {
   "cell_type": "code",
   "execution_count": 99,
   "id": "267fb495-7616-49dd-b9aa-608f18b87a4b",
   "metadata": {},
   "outputs": [
    {
     "data": {
      "text/plain": [
       "GradientesSombrero (generic function with 2 methods)"
      ]
     },
     "execution_count": 99,
     "metadata": {},
     "output_type": "execute_result"
    }
   ],
   "source": [
    "using LinearAlgebra, Printf, CSV, DataFrames\n",
    "#norm([-2 -2 -1.825; -1.5 -1.329 -1.5])\n",
    "e = Array(CSV.read(\"e.csv\", DataFrame))'\n",
    "p = Array(CSV.read(\"p.csv\", DataFrame))'\n",
    "t = Array(CSV.read(\"t.csv\", DataFrame))'\n",
    "\n",
    "function GradientesSombrero(x::Array,y::Array)\n",
    "    area = PolyA(x,y);\n",
    "    b=[y[2]-y[3]; y[3]-y[1]; y[1]-y[2]]/2/area;\n",
    "    c=[x[3]-x[2]; x[1]-x[3]; x[2]-x[1]]/2/area;\n",
    "    return area,b,c\n",
    "end\n",
    "\n",
    "#GradientesSombrero([-2 -2 -1.825],[-1.5 -1.329 -1.5])\n",
    "\n"
   ]
  },
  {
   "cell_type": "code",
   "execution_count": 62,
   "id": "05f7650d",
   "metadata": {},
   "outputs": [
    {
     "data": {
      "text/plain": [
       "pdetrg (generic function with 1 method)"
      ]
     },
     "execution_count": 62,
     "metadata": {},
     "output_type": "execute_result"
    }
   ],
   "source": [
    "function pdetrg(p,t)\n",
    "#PDETRG Triangle geometry data.\n",
    "#\n",
    "#       [AR,A1,A2,A3]=PDETRG(P,T) returns the area of each triangle in AR\n",
    "#       and half of the negative cotangent of each angle in A1, A2, and A3.\n",
    "#\n",
    "#       [AR,G1X,G1Y,G2X,G2Y,G3X,G3Y]=PDETRG(P,T) returns the area and the\n",
    "#       gradient components of the triangle base functions.\n",
    "#\n",
    "#       The geometry of the PDE problem is given by the triangle data P\n",
    "#       and T. Details under INITMESH.\n",
    "\n",
    "#       A. Nordmark 4-25-94, AN 8-01-94.\n",
    "#       Copyright 1994-2016 The MathWorks, Inc.\n",
    "\n",
    "    # Corner point indices\n",
    "    a1=t[1,:];\n",
    "    a2=t[2,:];\n",
    "    a3=t[3,:];\n",
    "\n",
    "    # Triangle sides\n",
    "    r23x=p[1,a3]-p[1,a2];\n",
    "    r23y=p[2,a3]-p[2,a2];\n",
    "    r31x=p[1,a1]-p[1,a3];\n",
    "    r31y=p[2,a1]-p[2,a3];\n",
    "    r12x=p[1,a2]-p[1,a1];\n",
    "    r12y=p[2,a2]-p[2,a1];\n",
    "\n",
    "    # Area\n",
    "    ar=abs(r31x.*r23y-r31y.*r23x)/2;\n",
    "\n",
    "    if nargout==4\n",
    "      a1=(r12x.*r31x+r12y.*r31y);\n",
    "      a2=(r23x.*r12x+r23y.*r12y);\n",
    "      a3=(r31x.*r23x+r31y.*r23y);\n",
    "      g1x=0.25*a1./ar;\n",
    "      g1y=0.25*a2./ar;\n",
    "      g2x=0.25*a3./ar;\n",
    "    else\n",
    "      g1x=-0.5*r23y./ar;\n",
    "      g1y=0.5*r23x./ar;\n",
    "      g2x=-0.5*r31y./ar;\n",
    "      g2y=0.5*r31x./ar;\n",
    "      g3x=-0.5*r12y./ar;\n",
    "      g3y=0.5*r12x./ar;\n",
    "    end\n",
    "    \n",
    "   return ar,g1x,g1y,g2x,g2y,g3x,g3y \n",
    "end"
   ]
  },
  {
   "cell_type": "code",
   "execution_count": 69,
   "id": "725d3af7",
   "metadata": {},
   "outputs": [
    {
     "data": {
      "text/plain": [
       "pdegrad (generic function with 1 method)"
      ]
     },
     "execution_count": 69,
     "metadata": {},
     "output_type": "execute_result"
    }
   ],
   "source": [
    "function pdegrad(p,t,u,sdl)\n",
    "#PDEGRAD Compute the gradient of a PDE solution.\n",
    "#\n",
    "#       [UX,UY]=PDEGRAD(P,T,U) returns grad(u) evaluated at\n",
    "#       the center of each triangle.\n",
    "#\n",
    "#       The geometry of the PDE problem is given by the triangle data P,\n",
    "#       and T. Details under INITMESH.\n",
    "#\n",
    "#       The format for the solution vector U is described in ASSEMPDE.\n",
    "#\n",
    "#       [UX,UY]=PDEGRAD(P,T,U,SDL) restricts the computation to the\n",
    "#       subdomains in the list SDL.\n",
    "#\n",
    "#       See also: ASSEMPDE, INITMESH, PDECGRAD\n",
    "\n",
    "#       A. Nordmark 12-22-94.\n",
    "#       Copyright 1994-2003 The MathWorks, Inc.\n",
    "\n",
    "    if nargin==4\n",
    "      t=t[:,pdesdt(t,sdl)]\n",
    "    elseif nargin!=3\n",
    "      error(message(\"pde:pdegrad:nargin\"))\n",
    "    end\n",
    "\n",
    "    np=size(p,2);\n",
    "    nt=size(t,2);\n",
    "    N=size(u,1)/np;\n",
    "\n",
    "    # Corner point indices\n",
    "    it1=t[1,:];\n",
    "    it2=t[2,:];\n",
    "    it3=t[3,:];\n",
    "\n",
    "    # Triangle geometries:\n",
    "    ar,g1x,g1y,g2x,g2y,g3x,g3y = pdetrg(p,t);\n",
    "\n",
    "    uu = reshape(u,(np,N));\n",
    "    ux=uu[it1,:]'.*(ones(N,1)*g1x) + uu[it2,:]'.*(ones(N,1)*g2x)+ uu[it3,:]'.*(ones(N,1)*g3x);\n",
    "    uy=uu[it1,:]'.*(ones(N,1)*g1y) + uu[it2,:]'.*(ones(N,1)*g2y)+ uu[it3,:]'.*(ones(N,1)*g3y);\n",
    "\n",
    "    return ux,uy\n",
    "end"
   ]
  },
  {
   "cell_type": "code",
   "execution_count": 84,
   "id": "17fe00ef-9e81-49b2-aad6-137b771b5912",
   "metadata": {},
   "outputs": [
    {
     "data": {
      "text/plain": [
       "EnsambleJacRes2D (generic function with 1 method)"
      ]
     },
     "execution_count": 84,
     "metadata": {},
     "output_type": "execute_result"
    }
   ],
   "source": [
    "function EnsambleJacRes2D(p,e,t,u,Afcn,Ffcn)\n",
    "    i=t[1,:]; j=t[2,:]; k=t[3,:]; # vertices de los triangulos\n",
    "    xc=(p[1,i]+p[1,j]+p[1,k])/3;  # centroides de los triangulos\n",
    "    yc=(p[2,i]+p[2,j]+p[2,k])/3;\n",
    "    \n",
    "    # Evaluacion  u, a, a', y f.\n",
    "    deltax=1.e-8;\n",
    "    uc=(u[i]+u[j]+u[k])/3;\n",
    "    a=Afcn(uc); # a(u)\n",
    "    da=Afcn(uc+deltax); # a(u+deltax)\n",
    "    da=(da-a)/deltax; # da(u)/du\n",
    "    f=Ffcn(xc,yc); # f\n",
    "    ux,uy = pdegrad(p,t,u); # gradiente de  u\n",
    "    np=size(p,2); nt=size(t,2);\n",
    "    # Ensamble de la Jacobiana y el error residual\n",
    "    J=zeros(np,np); r=zeros(np,1);  #primero es sparse\n",
    "    for i=1:nt\n",
    "        nodes=t[1:3,i];\n",
    "        x=p[1,nodes]; y=p[2,nodes];\n",
    "        area,b,c = GradientesSombrero(x,y);\n",
    "        \n",
    "        rK=(f[i]*ones(3,1)/3-a[i]*(ux[i]*b+uy[i]*c))*area;\n",
    "        JK=(a[i]*(b*b'+c*c')+da[i]*(ux[i]*b+uy[i]*c)*ones(1,3)/3)*area;\n",
    "        J[nodes,nodes]=J[nodes,nodes]+JK;\n",
    "        r[nodes]=r[nodes]+rK;\n",
    "    end\n",
    "    # Imposicion de las Condiciones de Frontera de Dirichlet cero.\n",
    "    fixed=unique!([e[1,:] e[2,:]]); # nodos frontera\n",
    "    for i=1:size(fixed,1)\n",
    "        n=fixed[i]; # un nodo frontera\n",
    "        J[n,:]=0; # poner en cero la fila n del jacobiano J\n",
    "        J[n,n]=1; # hacer la componente diagonal J(n,n) en 1\n",
    "        r[n]=0;   # hacer la componente del error residual r(n) en 0\n",
    "    end\n",
    "   return J,r \n",
    "end"
   ]
  },
  {
   "cell_type": "code",
   "execution_count": null,
   "id": "c3dfe4e9",
   "metadata": {},
   "outputs": [],
   "source": []
  },
  {
   "cell_type": "code",
   "execution_count": 100,
   "id": "a87ee2b7-f1f4-4f70-9c68-3dcd5575fd62",
   "metadata": {},
   "outputs": [
    {
     "ename": "LoadError",
     "evalue": "BoundsError: attempt to access 371×1 adjoint(::Matrix{Float64}) with eltype Float64 at index [1, [173, 199]]",
     "output_type": "error",
     "traceback": [
      "BoundsError: attempt to access 371×1 adjoint(::Matrix{Float64}) with eltype Float64 at index [1, [173, 199]]",
      "",
      "Stacktrace:",
      " [1] throw_boundserror(A::Adjoint{Float64, Matrix{Float64}}, I::Tuple{Int64, Vector{Int64}})",
      "   @ Base .\\abstractarray.jl:691",
      " [2] checkbounds",
      "   @ .\\abstractarray.jl:656 [inlined]",
      " [3] _getindex",
      "   @ .\\multidimensional.jl:838 [inlined]",
      " [4] getindex",
      "   @ .\\abstractarray.jl:1218 [inlined]",
      " [5] EnsambleJacRes2D(p::Adjoint{Float64, Matrix{Float64}}, e::Adjoint{Int64, Matrix{Int64}}, t::Adjoint{Int64, Matrix{Int64}}, u::Matrix{Float64}, Afcn::typeof(Afcn), Ffcn::typeof(Ffcn))",
      "   @ Main .\\In[84]:3",
      " [6] top-level scope",
      "   @ .\\In[100]:20",
      " [7] eval",
      "   @ .\\boot.jl:373 [inlined]",
      " [8] include_string(mapexpr::typeof(REPL.softscope), mod::Module, code::String, filename::String)",
      "   @ Base .\\loading.jl:1196"
     ]
    }
   ],
   "source": [
    "#function SolucionPoissonNewton2D()\n",
    "# geometria en Matlab\n",
    "#g=Rectg(0,0,1,1);\n",
    "#[p,e,t]=initmesh(g,'hmax',0.05); # create mesh\n",
    "\n",
    "#fd=@(p) drectangle(p,0,1,0,1); # cuadrado unitario\n",
    "#[P,T]=distmesh2d(fd,@huniform,0.1,[0,0;1,1],[0,0;1,0;0,1;1,1]); # cree la malla\n",
    "#e=(boundedges(P,T))';\n",
    "#clc\n",
    "#p=P';\n",
    "#t=T';\n",
    "#clear P, T;\n",
    "\n",
    "xi=zeros(size(p,2),1); #  Valor inicial cero\n",
    "\n",
    "Afcn(u) =  0.125+u.^2;\n",
    "Ffcn(x,y) =  1*ones(length(x),1);\n",
    "\n",
    "for k=1:5 # bucle no- lineal\n",
    "    J,r = EnsambleJacRes2D(p,e,t,xi,Afcn,Ffcn);\n",
    "    #d=J\\r; # soluciona para la correccion\n",
    "    #xi=xi+d; # actualiza la solucion\n",
    "    #sprintf('|d|=#f, |r|=#f', norm(d), norm(r))\n",
    "    #@sprintf \"|d|=%.3f, |r|=%.3f \" norm(d) norm(r)\n",
    "end\n",
    "\n",
    "#figure\n",
    "#show(t',p',full(xi)); # Dibuja la solucion\n",
    "#axis tight\n",
    "#xlabel('X')\n",
    "#ylabel('Y')\n",
    "#view(-30,30)\n",
    "\n",
    "# grafica en matlab\n",
    "#pdesurf(p,t,xi)"
   ]
  },
  {
   "cell_type": "code",
   "execution_count": 98,
   "id": "4af27fd0-8ae5-415e-a693-0c47a7d376f0",
   "metadata": {},
   "outputs": [
    {
     "data": {
      "text/plain": [
       "75×1 adjoint(::Matrix{Int64}) with eltype Int64:\n",
       "   4\n",
       "   1\n",
       "   2\n",
       "  26\n",
       "  11\n",
       "   3\n",
       "  12\n",
       "   5\n",
       "  18\n",
       "   6\n",
       "  17\n",
       "   7\n",
       "  16\n",
       "   ⋮\n",
       " 356\n",
       " 364\n",
       " 357\n",
       " 362\n",
       " 358\n",
       " 359\n",
       " 363\n",
       " 360\n",
       " 368\n",
       " 369\n",
       " 361\n",
       " 370"
      ]
     },
     "execution_count": 98,
     "metadata": {},
     "output_type": "execute_result"
    }
   ],
   "source": [
    "e'"
   ]
  },
  {
   "cell_type": "code",
   "execution_count": 13,
   "id": "c6ac31bc-6369-4ad4-8ce5-54870a37fb24",
   "metadata": {},
   "outputs": [],
   "source": [
    "struct CO\n",
    "    x::Array\n",
    "    y::Array\n",
    "end\n"
   ]
  },
  {
   "cell_type": "code",
   "execution_count": 17,
   "id": "546d1e14",
   "metadata": {},
   "outputs": [
    {
     "ename": "LoadError",
     "evalue": "setfield! fields of Types should not be changed",
     "output_type": "error",
     "traceback": [
      "setfield! fields of Types should not be changed",
      "",
      "Stacktrace:",
      " [1] error(s::String)",
      "   @ Base .\\error.jl:33",
      " [2] setproperty!(x::Type, f::Symbol, v::Vector{Float64})",
      "   @ Base .\\Base.jl:38",
      " [3] top-level scope",
      "   @ In[17]:1",
      " [4] eval",
      "   @ .\\boot.jl:373 [inlined]",
      " [5] include_string(mapexpr::typeof(REPL.softscope), mod::Module, code::String, filename::String)",
      "   @ Base .\\loading.jl:1196"
     ]
    }
   ],
   "source": [
    "CO.x = [-2; -2; -1.825]"
   ]
  },
  {
   "cell_type": "code",
   "execution_count": null,
   "id": "af221d10-adcd-488c-b8f8-a5d9196c5a0b",
   "metadata": {},
   "outputs": [],
   "source": []
  },
  {
   "cell_type": "code",
   "execution_count": 54,
   "id": "b2aeb1ed",
   "metadata": {},
   "outputs": [
    {
     "data": {
      "text/plain": [
       "0.01496249999999999"
      ]
     },
     "execution_count": 54,
     "metadata": {},
     "output_type": "execute_result"
    }
   ],
   "source": [
    "PolyA([-2 -2 -1.825],[-1.5 -1.329 -1.5])"
   ]
  },
  {
   "cell_type": "code",
   "execution_count": 53,
   "id": "fde67ff4",
   "metadata": {},
   "outputs": [
    {
     "data": {
      "text/plain": [
       "PolyA (generic function with 1 method)"
      ]
     },
     "execution_count": 53,
     "metadata": {},
     "output_type": "execute_result"
    }
   ],
   "source": [
    "function PolyA(plistx::Array, plisty::Array)\n",
    "    n = length(plistx)\n",
    "    area = 0.0\n",
    "    for i in eachindex(plistx)\n",
    "        j = mod1(i + 1, n)\n",
    "        area += plistx[i] * plisty[j]\n",
    "        area -= plistx[j] * plisty[i]\n",
    "    end\n",
    "    area = abs(area) / 2.0\n",
    "    return area\n",
    "end"
   ]
  }
 ],
 "metadata": {
  "@webio": {
   "lastCommId": null,
   "lastKernelId": null
  },
  "kernelspec": {
   "display_name": "Julia 1.7.2",
   "language": "julia",
   "name": "julia-1.7"
  },
  "language_info": {
   "file_extension": ".jl",
   "mimetype": "application/julia",
   "name": "julia",
   "version": "1.7.2"
  }
 },
 "nbformat": 4,
 "nbformat_minor": 5
}
