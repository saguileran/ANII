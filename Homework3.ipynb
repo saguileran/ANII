{
 "cells": [
  {
   "cell_type": "markdown",
   "id": "da792d23-bdcc-48f1-a93e-73a127f8f394",
   "metadata": {},
   "source": [
    "<center> <h1> <b>HOMEWORK 3<b></h1> </center>\n",
    "<center> <h2> Numerical Analysis II - 2022</h2> </center>\n",
    "<center> <h3> Fabián Eduardo Suárez Castellanos and Sebastian Aguilera Novoa</h3> </center>"
   ]
  },
  {
   "cell_type": "markdown",
   "id": "902c78d8-e7d2-4fc3-ba70-25e00c00c1db",
   "metadata": {},
   "source": [
    "# 1.T\n",
    "\n",
    "Let $p$ a positive constant. Deduce the a priori error estimation $ \\big($ on the norm  $ H^1: ||e||^2_{H^1}=||e'||^2_{L^2}+||e||^2_{L^2} \\big) $ if a \n",
    "picewise linear continous functions finite element method is used to the following problem\n",
    "\n",
    "$$\n",
    "-u''+pxu'+\\left( 1+\\frac{p}{2}\\right)u = f, \\quad \\text{on } (0,1),\\\\\n",
    "u(0)=0, \\qquad u(1) = 0\n",
    "$$"
   ]
  },
  {
   "cell_type": "markdown",
   "id": "64c7f5d4-dc76-4286-ae0f-43c13a306b5e",
   "metadata": {},
   "source": [
    "# 2.T\n",
    "Consider the problem\n",
    "\n",
    "$$\n",
    "-\\epsilon u'' = c(x) u' +u = f(x), \\qquad 0<x<1,\n",
    "u(0)=u'(1)=0\n",
    "$$\n",
    "\n",
    "where $ \\epsilon $ is a positive constant, the function $ c $ satisfies $ c(x)\\geq 0, \\; c'(x)\\leq 0, $ and $ f\\in L^2 (0,1) $. Prove that there are some positive constants $ C_1, C_2, $ and $ C_3 $ such that\n",
    "\n",
    "$$\n",
    "\\epsilon ||u'| \\leq C_1 ||f||, \\qquad ||cu'|| \\leq C_2||f||, \\qquad \\text{and} \\qquad ||u'|| \\leq C_3 ||f||\n",
    "$$\n",
    "\n",
    "where $ || \\cdot || $ is the $ L^2(0,1) $ norm."
   ]
  },
  {
   "cell_type": "markdown",
   "id": "9fa838d8-999f-46e3-b592-477e0e4e5a20",
   "metadata": {},
   "source": [
    "# 3.P \n",
    "\n",
    "Solve  numerically the convection-difusion probme using the finite element method. Utilize linear elements\n",
    "\n",
    "$$\n",
    "\\begin{cases}\n",
    "-\\epsilon u_{xx}+u_x=0, & \\text { if } x \\in [0,1] \\\\ \n",
    "u(0)=0, \\qquad u(1)=1\n",
    "\\end{cases}\n",
    "$$\n",
    "\n",
    "a) Find in detail the linear system of equations related to the discretization by the finite element method of the previous problem.\n",
    "\n",
    "b) Consider different values of $ \\epsilon = 0.1, 0.01,0.001 $ and plot the exact and approximate solution for $ n=200, 400, 600 $ mesh nodes. Discuss the results.\n",
    "\n",
    "c) Use the numerical viscosity and optimus viscosity techniques  and repite the part b). Discuss the results.\n",
    "\n",
    "d) Analyse the convergence of the programed methods on the norm $ L^2 (\\Omega) $ and $ H^1 (\\Omega) $."
   ]
  },
  {
   "cell_type": "markdown",
   "id": "3837a20e-a333-44d0-a706-081418cdef6d",
   "metadata": {},
   "source": [
    "# 4TP.\n",
    "Consider the one dimension difusion advection equation \n",
    "\n",
    "$$\n",
    "\\begin{cases}\n",
    "-(\\mu u' -\\psi'u)', & \\text { if } x \\in [0,1] \\\\ \n",
    "u(0)=u(1)=0\n",
    "\\end{cases}\n",
    "$$\n",
    "\n",
    "where $ \\mu $ is a positive constant and $ \\psi  $ a given function.\n",
    "\n",
    "a) Study the existence and uniqueness of the previous problem by introducing proper hypothesis over the function $ \\psi $.\n",
    "\n",
    "b) Consider the change of the variable $ u=\\rho e^{\\psi/\\mu} $, where $ \\rho $ is an unknown auxiliar funtion. Study the existence and uniqueness of the weak problem (1) and the new unknown $ \\rho $. Calculate the analytical solution for the case $ \\psi = \\alpha x $ whit $ \\alpha $ constant.\n",
    "\n",
    "c) To both formulations (in $ u $ and $ \\rho $) write the distretization of the finite elements.\n",
    "\n",
    "d) Compare both approches in a) and b) from the theorical and numerical perspectives. For $ \\psi = \\alpha x $ calculate the numerical solution with $ \\mu =0.1, 0.01 $, $ \\alpha=1, -1 $ and a mesh size $h=0.1, 0.01$."
   ]
  },
  {
   "cell_type": "code",
   "execution_count": null,
   "id": "f2229289-3c42-449f-8e1d-1003bff2e691",
   "metadata": {},
   "outputs": [],
   "source": []
  }
 ],
 "metadata": {
  "kernelspec": {
   "display_name": "Julia 1.7.2",
   "language": "julia",
   "name": "julia-1.7"
  },
  "language_info": {
   "file_extension": ".jl",
   "mimetype": "application/julia",
   "name": "julia",
   "version": "1.7.2"
  }
 },
 "nbformat": 4,
 "nbformat_minor": 5
}
